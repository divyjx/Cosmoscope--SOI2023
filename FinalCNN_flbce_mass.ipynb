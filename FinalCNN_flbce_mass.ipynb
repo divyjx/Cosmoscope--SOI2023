{
 "cells": [
  {
   "cell_type": "markdown",
   "id": "e9f2934c",
   "metadata": {
    "papermill": {
     "duration": 0.006756,
     "end_time": "2023-07-12T09:12:06.422497",
     "exception": false,
     "start_time": "2023-07-12T09:12:06.415741",
     "status": "completed"
    },
    "tags": []
   },
   "source": [
    "## 1. Data Description \n",
    "<ul> \n",
    "<li>there are 809 training examples</li>\n",
    "<li>each of them is a dataframe with time, mass , and intensity values</li>\n",
    "<li>dataframe lenghts are variable</li>\n",
    "</ul>\n"
   ]
  },
  {
   "cell_type": "code",
   "execution_count": 1,
   "id": "4d5d03c0",
   "metadata": {
    "execution": {
     "iopub.execute_input": "2023-07-12T09:12:06.436355Z",
     "iopub.status.busy": "2023-07-12T09:12:06.435557Z",
     "iopub.status.idle": "2023-07-12T09:12:15.248281Z",
     "shell.execute_reply": "2023-07-12T09:12:15.247307Z"
    },
    "papermill": {
     "duration": 8.822697,
     "end_time": "2023-07-12T09:12:15.251003",
     "exception": false,
     "start_time": "2023-07-12T09:12:06.428306",
     "status": "completed"
    },
    "tags": []
   },
   "outputs": [],
   "source": [
    "import warnings \n",
    "warnings.filterwarnings('ignore')\n",
    "\n",
    "# for processing numbers and files csv\n",
    "import pandas as pd\n",
    "import numpy as np\n",
    "\n",
    "# for visualization\n",
    "import matplotlib.pyplot as plt\n",
    "%matplotlib inline\n",
    "\n",
    "# preprocessing \n",
    "from sklearn.preprocessing import MinMaxScaler\n",
    "from sklearn.model_selection import train_test_split\n",
    "from sklearn.metrics import log_loss\n",
    "\n",
    "# model related\n",
    "from tensorflow.keras.callbacks import EarlyStopping\n",
    "from tensorflow.keras.utils import Sequence\n",
    "from tensorflow.keras.models import Sequential\n",
    "from tensorflow.keras.layers import Conv2D, MaxPooling2D, Flatten, Dense\n",
    "\n",
    "import tensorflow as tf\n"
   ]
  },
  {
   "cell_type": "code",
   "execution_count": 2,
   "id": "8373b992",
   "metadata": {
    "execution": {
     "iopub.execute_input": "2023-07-12T09:12:15.264804Z",
     "iopub.status.busy": "2023-07-12T09:12:15.263547Z",
     "iopub.status.idle": "2023-07-12T09:12:15.268633Z",
     "shell.execute_reply": "2023-07-12T09:12:15.267771Z"
    },
    "papermill": {
     "duration": 0.013753,
     "end_time": "2023-07-12T09:12:15.270682",
     "exception": false,
     "start_time": "2023-07-12T09:12:15.256929",
     "status": "completed"
    },
    "tags": []
   },
   "outputs": [],
   "source": [
    "#for gpu\n",
    "\n",
    "# gpus = tf.config.experimental.list_physical_devices('GPU')\n",
    "# for gpu in gpus:\n",
    "#     print(\"Name:\", gpu.name, \"  Type:\", gpu.device_type)\n",
    "\n",
    "# from tensorflow.python.client import device_lib\n",
    "\n",
    "# print(device_lib.list_local_devices())\n",
    "\n",
    "# tf.test.is_gpu_available()"
   ]
  },
  {
   "cell_type": "code",
   "execution_count": 3,
   "id": "eca53d20",
   "metadata": {
    "execution": {
     "iopub.execute_input": "2023-07-12T09:12:15.283545Z",
     "iopub.status.busy": "2023-07-12T09:12:15.282717Z",
     "iopub.status.idle": "2023-07-12T09:12:15.287688Z",
     "shell.execute_reply": "2023-07-12T09:12:15.286857Z"
    },
    "papermill": {
     "duration": 0.013272,
     "end_time": "2023-07-12T09:12:15.289505",
     "exception": false,
     "start_time": "2023-07-12T09:12:15.276233",
     "status": "completed"
    },
    "tags": []
   },
   "outputs": [],
   "source": [
    "# for working in kaggle use this paths\n",
    "kag_path_in = \"/kaggle/input/mars-spec-train/\"\n",
    "kag_path_out = \"/kaggle/working/\"\n",
    "\n",
    "# add custom paths here (uncomment)\n",
    "# kag_path_in = \"\"\n",
    "# kag_path_out = \"\""
   ]
  },
  {
   "cell_type": "code",
   "execution_count": 4,
   "id": "567bf80d",
   "metadata": {
    "execution": {
     "iopub.execute_input": "2023-07-12T09:12:15.302324Z",
     "iopub.status.busy": "2023-07-12T09:12:15.301487Z",
     "iopub.status.idle": "2023-07-12T09:12:15.341915Z",
     "shell.execute_reply": "2023-07-12T09:12:15.340871Z"
    },
    "papermill": {
     "duration": 0.048834,
     "end_time": "2023-07-12T09:12:15.343942",
     "exception": false,
     "start_time": "2023-07-12T09:12:15.295108",
     "status": "completed"
    },
    "tags": []
   },
   "outputs": [],
   "source": [
    "# metadata = pd.read_csv('/kaggle/input/mars-spec-train/metadata.csv').fillna(0)\n",
    "# train_labels = pd.read_csv('/kaggle/input/mars-spec-train/train_labels.csv')\n",
    "metadata = pd.read_csv(kag_path_in+'metadata.csv').fillna(0)\n",
    "train_labels = pd.read_csv(kag_path_in+'train_labels.csv')"
   ]
  },
  {
   "cell_type": "markdown",
   "id": "d12757be",
   "metadata": {
    "papermill": {
     "duration": 0.00534,
     "end_time": "2023-07-12T09:12:15.354916",
     "exception": false,
     "start_time": "2023-07-12T09:12:15.349576",
     "status": "completed"
    },
    "tags": []
   },
   "source": [
    "## 2. Preprocessing and Feature extraction\n",
    "<ul>\n",
    "<li>mass values are grouped into values seperated by 0.50 </li>\n",
    "<li>time values are grouped into values seperated by 0.02 </li>\n",
    "<li>Time * Mass matrix (2650,1350) with Intensity values </li>\n",
    "</ul>"
   ]
  },
  {
   "cell_type": "code",
   "execution_count": 5,
   "id": "a7980285",
   "metadata": {
    "execution": {
     "iopub.execute_input": "2023-07-12T09:12:15.367879Z",
     "iopub.status.busy": "2023-07-12T09:12:15.367005Z",
     "iopub.status.idle": "2023-07-12T09:12:15.371788Z",
     "shell.execute_reply": "2023-07-12T09:12:15.370941Z"
    },
    "papermill": {
     "duration": 0.013429,
     "end_time": "2023-07-12T09:12:15.373882",
     "exception": false,
     "start_time": "2023-07-12T09:12:15.360453",
     "status": "completed"
    },
    "tags": []
   },
   "outputs": [],
   "source": [
    "# constants\n",
    "num_mass_values = 1350\n",
    "num_time_values = 2650\n",
    "matrix_shape = (num_time_values, num_mass_values)"
   ]
  },
  {
   "cell_type": "code",
   "execution_count": 6,
   "id": "c3b7311b",
   "metadata": {
    "execution": {
     "iopub.execute_input": "2023-07-12T09:12:15.386337Z",
     "iopub.status.busy": "2023-07-12T09:12:15.385698Z",
     "iopub.status.idle": "2023-07-12T09:12:15.393235Z",
     "shell.execute_reply": "2023-07-12T09:12:15.392251Z"
    },
    "papermill": {
     "duration": 0.015814,
     "end_time": "2023-07-12T09:12:15.395168",
     "exception": false,
     "start_time": "2023-07-12T09:12:15.379354",
     "status": "completed"
    },
    "tags": []
   },
   "outputs": [],
   "source": [
    "\n",
    "# Function to create the Time X Mass matrix for a single data sample\n",
    "def create_matrix(id):\n",
    "    \n",
    "    sample_id, split, derivate, path, _ = metadata.iloc[id]\n",
    "    data = pd.read_csv(kag_path_in+path)\n",
    "\n",
    "    label = None\n",
    "    if (split == 'train'):\n",
    "        label = train_labels.iloc[id].values[1:]\n",
    "\n",
    "    # discretization of time and mass\n",
    "    data.time = (data.time*50).round()\n",
    "    data.mass = (data.mass*2).round()\n",
    "    data.time = data.time.astype(int)\n",
    "    data.mass = data.mass.astype(int)\n",
    "    \n",
    "    # scaling intensity\n",
    "    data.intensity = MinMaxScaler().fit_transform(data.intensity.values.reshape(-1, 1))\n",
    "    \n",
    "    # filling matrix\n",
    "    matrix = np.zeros(matrix_shape)\n",
    "    matrix[data['time'],data['mass']] = data['intensity']\n",
    "\n",
    "    return matrix , label\n"
   ]
  },
  {
   "cell_type": "markdown",
   "id": "1742cc6f",
   "metadata": {
    "papermill": {
     "duration": 0.005354,
     "end_time": "2023-07-12T09:12:15.406072",
     "exception": false,
     "start_time": "2023-07-12T09:12:15.400718",
     "status": "completed"
    },
    "tags": []
   },
   "source": [
    "## 3. Data Generation\n",
    "<ul>\n",
    "<li>Storing data matrix is costly</li>\n",
    "<li>data is generated in batches</li>\n",
    "</ul>\n"
   ]
  },
  {
   "cell_type": "code",
   "execution_count": 7,
   "id": "325a8856",
   "metadata": {
    "execution": {
     "iopub.execute_input": "2023-07-12T09:12:15.419268Z",
     "iopub.status.busy": "2023-07-12T09:12:15.418322Z",
     "iopub.status.idle": "2023-07-12T09:12:15.424306Z",
     "shell.execute_reply": "2023-07-12T09:12:15.423421Z"
    },
    "papermill": {
     "duration": 0.014599,
     "end_time": "2023-07-12T09:12:15.426293",
     "exception": false,
     "start_time": "2023-07-12T09:12:15.411694",
     "status": "completed"
    },
    "tags": []
   },
   "outputs": [],
   "source": [
    "training_data = range(809)  \n",
    "train_data, val_data = train_test_split(training_data, test_size=0.2, random_state=42)\n"
   ]
  },
  {
   "cell_type": "code",
   "execution_count": 8,
   "id": "ec468c5d",
   "metadata": {
    "execution": {
     "iopub.execute_input": "2023-07-12T09:12:15.438655Z",
     "iopub.status.busy": "2023-07-12T09:12:15.438368Z",
     "iopub.status.idle": "2023-07-12T09:12:15.446376Z",
     "shell.execute_reply": "2023-07-12T09:12:15.445422Z"
    },
    "papermill": {
     "duration": 0.016326,
     "end_time": "2023-07-12T09:12:15.448315",
     "exception": false,
     "start_time": "2023-07-12T09:12:15.431989",
     "status": "completed"
    },
    "tags": []
   },
   "outputs": [],
   "source": [
    "class DataGenerator(Sequence):\n",
    "    def __init__(self, data, batch_size):\n",
    "        self.data = data\n",
    "        self.batch_size = batch_size\n",
    "    def __len__(self):\n",
    "        return len(self.data) // self.batch_size\n",
    "\n",
    "    def __getitem__(self, idx):        \n",
    "        \n",
    "        low = idx * self.batch_size\n",
    "        high = min(low + self.batch_size, len(self.data))\n",
    "        batch_x = []\n",
    "        batch_y = []\n",
    "\n",
    "        for i,data_sample in enumerate(self.data[low:high]):\n",
    "            processed_sample, processed_label = self.preprocess_data(data_sample)\n",
    "            batch_x.append(processed_sample)\n",
    "            batch_y.append(processed_label)\n",
    "        return np.array(batch_x), np.array(batch_y)\n",
    "\n",
    "    def preprocess_data(self, data_sample):\n",
    "        matrix, label = create_matrix(data_sample)\n",
    "        if type(label) == np.ndarray:\n",
    "            label = np.array(label).astype(int)\n",
    "        return matrix , label\n"
   ]
  },
  {
   "cell_type": "code",
   "execution_count": 9,
   "id": "e657a6b5",
   "metadata": {
    "execution": {
     "iopub.execute_input": "2023-07-12T09:12:15.463876Z",
     "iopub.status.busy": "2023-07-12T09:12:15.463048Z",
     "iopub.status.idle": "2023-07-12T09:12:16.090636Z",
     "shell.execute_reply": "2023-07-12T09:12:16.089753Z"
    },
    "papermill": {
     "duration": 0.638143,
     "end_time": "2023-07-12T09:12:16.092655",
     "exception": false,
     "start_time": "2023-07-12T09:12:15.454512",
     "status": "completed"
    },
    "tags": []
   },
   "outputs": [
    {
     "data": {
      "text/plain": [
       "(array([[[0., 0., 0., ..., 0., 0., 0.],\n",
       "         [0., 0., 0., ..., 0., 0., 0.],\n",
       "         [0., 0., 0., ..., 0., 0., 0.],\n",
       "         ...,\n",
       "         [0., 0., 0., ..., 0., 0., 0.],\n",
       "         [0., 0., 0., ..., 0., 0., 0.],\n",
       "         [0., 0., 0., ..., 0., 0., 0.]],\n",
       " \n",
       "        [[0., 0., 0., ..., 0., 0., 0.],\n",
       "         [0., 0., 0., ..., 0., 0., 0.],\n",
       "         [0., 0., 0., ..., 0., 0., 0.],\n",
       "         ...,\n",
       "         [0., 0., 0., ..., 0., 0., 0.],\n",
       "         [0., 0., 0., ..., 0., 0., 0.],\n",
       "         [0., 0., 0., ..., 0., 0., 0.]]]),\n",
       " array([[0, 0, 0, 0, 0, 0, 0, 0, 0],\n",
       "        [1, 0, 1, 1, 0, 1, 1, 0, 0]]))"
      ]
     },
     "execution_count": 9,
     "metadata": {},
     "output_type": "execute_result"
    }
   ],
   "source": [
    "a = DataGenerator([2,1,32,13,132,122,90,91,7,9],4)\n",
    "a[2]"
   ]
  },
  {
   "cell_type": "markdown",
   "id": "346d66b6",
   "metadata": {
    "papermill": {
     "duration": 0.005689,
     "end_time": "2023-07-12T09:12:16.104583",
     "exception": false,
     "start_time": "2023-07-12T09:12:16.098894",
     "status": "completed"
    },
    "tags": []
   },
   "source": [
    "## 4. Model\n",
    "<ul>\n",
    "<li>convolutional layers </li>\n",
    "<li>pooling layers (max pooling) </li>\n",
    "<li>fully connected layers</li>\n",
    "<li>sigmoid layer</li>\n",
    "<li>output positive label probability</li>\n",
    "</ul>"
   ]
  },
  {
   "cell_type": "code",
   "execution_count": 10,
   "id": "6af32872",
   "metadata": {
    "execution": {
     "iopub.execute_input": "2023-07-12T09:12:16.117655Z",
     "iopub.status.busy": "2023-07-12T09:12:16.117145Z",
     "iopub.status.idle": "2023-07-12T09:12:16.121784Z",
     "shell.execute_reply": "2023-07-12T09:12:16.120797Z"
    },
    "papermill": {
     "duration": 0.013651,
     "end_time": "2023-07-12T09:12:16.124109",
     "exception": false,
     "start_time": "2023-07-12T09:12:16.110458",
     "status": "completed"
    },
    "tags": []
   },
   "outputs": [],
   "source": [
    "label_names = [col for col in train_labels.columns[1:]]"
   ]
  },
  {
   "cell_type": "code",
   "execution_count": 11,
   "id": "44dbc4b5",
   "metadata": {
    "execution": {
     "iopub.execute_input": "2023-07-12T09:12:16.139115Z",
     "iopub.status.busy": "2023-07-12T09:12:16.138731Z",
     "iopub.status.idle": "2023-07-12T09:12:16.143605Z",
     "shell.execute_reply": "2023-07-12T09:12:16.142666Z"
    },
    "papermill": {
     "duration": 0.015849,
     "end_time": "2023-07-12T09:12:16.145947",
     "exception": false,
     "start_time": "2023-07-12T09:12:16.130098",
     "status": "completed"
    },
    "tags": []
   },
   "outputs": [],
   "source": [
    "# contants\n",
    "batch_size = 8\n",
    "num_epochs = 100\n",
    "model = None\n",
    "history = None"
   ]
  },
  {
   "cell_type": "code",
   "execution_count": 12,
   "id": "9e3aed2b",
   "metadata": {
    "execution": {
     "iopub.execute_input": "2023-07-12T09:12:16.159317Z",
     "iopub.status.busy": "2023-07-12T09:12:16.158756Z",
     "iopub.status.idle": "2023-07-12T09:12:19.055203Z",
     "shell.execute_reply": "2023-07-12T09:12:19.054454Z"
    },
    "papermill": {
     "duration": 2.914618,
     "end_time": "2023-07-12T09:12:19.066361",
     "exception": false,
     "start_time": "2023-07-12T09:12:16.151743",
     "status": "completed"
    },
    "tags": []
   },
   "outputs": [
    {
     "name": "stdout",
     "output_type": "stream",
     "text": [
      "Model: \"sequential\"\n",
      "_________________________________________________________________\n",
      " Layer (type)                Output Shape              Param #   \n",
      "=================================================================\n",
      " conv2d (Conv2D)             (None, 1323, 1346, 2)     52        \n",
      "                                                                 \n",
      " max_pooling2d (MaxPooling2D  (None, 26, 673, 2)       0         \n",
      " )                                                               \n",
      "                                                                 \n",
      " max_pooling2d_1 (MaxPooling  (None, 1, 673, 2)        0         \n",
      " 2D)                                                             \n",
      "                                                                 \n",
      " flatten (Flatten)           (None, 1346)              0         \n",
      "                                                                 \n",
      " dense (Dense)               (None, 128)               172416    \n",
      "                                                                 \n",
      " dense_1 (Dense)             (None, 9)                 1161      \n",
      "                                                                 \n",
      "=================================================================\n",
      "Total params: 173,629\n",
      "Trainable params: 173,629\n",
      "Non-trainable params: 0\n",
      "_________________________________________________________________\n"
     ]
    }
   ],
   "source": [
    "model = Sequential()\n",
    "model.add(Conv2D(2, kernel_size=(5, 5),strides = (2,1), activation='relu', input_shape=(2650, 1350, 1)))\n",
    "model.add(MaxPooling2D(pool_size=(50, 2)))\n",
    "model.add(MaxPooling2D(pool_size=(26, 1)))\n",
    "model.add(Flatten())\n",
    "\n",
    "model.add(Dense(128, activation='relu'))\n",
    "\n",
    "model.add(Dense(9, activation='sigmoid'))\n",
    "opt = tf.keras.optimizers.Adam(learning_rate = 0.0001) # slow\n",
    "model.compile(loss=tf.keras.losses.BinaryCrossentropy(from_logits=True), optimizer=opt, metrics=['AUC']) # from logits = true\n",
    "\n",
    "# Create instances of the custom data generator for training and validation \n",
    "train_data_generator = DataGenerator(train_data, batch_size)\n",
    "val_data_generator = DataGenerator(val_data, batch_size)\n",
    "\n",
    "model.summary()"
   ]
  },
  {
   "cell_type": "code",
   "execution_count": 13,
   "id": "b98d5877",
   "metadata": {
    "execution": {
     "iopub.execute_input": "2023-07-12T09:12:19.082607Z",
     "iopub.status.busy": "2023-07-12T09:12:19.082319Z",
     "iopub.status.idle": "2023-07-12T17:42:13.266916Z",
     "shell.execute_reply": "2023-07-12T17:42:13.264659Z"
    },
    "papermill": {
     "duration": 30594.936181,
     "end_time": "2023-07-12T17:42:14.009929",
     "exception": false,
     "start_time": "2023-07-12T09:12:19.073748",
     "status": "completed"
    },
    "tags": []
   },
   "outputs": [
    {
     "name": "stdout",
     "output_type": "stream",
     "text": [
      "Epoch 1/100\n",
      "80/80 [==============================] - 344s 4s/step - loss: 0.6188 - auc: 0.5794 - val_loss: 0.4927 - val_auc: 0.6610\n",
      "Epoch 2/100\n",
      "80/80 [==============================] - 310s 4s/step - loss: 0.3782 - auc: 0.6736 - val_loss: 0.2942 - val_auc: 0.7163\n",
      "Epoch 3/100\n",
      "80/80 [==============================] - 273s 3s/step - loss: 0.3027 - auc: 0.7352 - val_loss: 0.2734 - val_auc: 0.7732\n",
      "Epoch 4/100\n",
      "80/80 [==============================] - 270s 3s/step - loss: 0.2878 - auc: 0.7854 - val_loss: 0.2620 - val_auc: 0.7999\n",
      "Epoch 5/100\n",
      "80/80 [==============================] - 270s 3s/step - loss: 0.2764 - auc: 0.8096 - val_loss: 0.2535 - val_auc: 0.8140\n",
      "Epoch 6/100\n",
      "80/80 [==============================] - 284s 4s/step - loss: 0.2656 - auc: 0.8253 - val_loss: 0.2463 - val_auc: 0.8219\n",
      "Epoch 7/100\n",
      "80/80 [==============================] - 276s 3s/step - loss: 0.2555 - auc: 0.8363 - val_loss: 0.2384 - val_auc: 0.8357\n",
      "Epoch 8/100\n",
      "80/80 [==============================] - 290s 4s/step - loss: 0.2460 - auc: 0.8482 - val_loss: 0.2314 - val_auc: 0.8446\n",
      "Epoch 9/100\n",
      "80/80 [==============================] - 279s 3s/step - loss: 0.2374 - auc: 0.8580 - val_loss: 0.2265 - val_auc: 0.8497\n",
      "Epoch 10/100\n",
      "80/80 [==============================] - 290s 4s/step - loss: 0.2304 - auc: 0.8640 - val_loss: 0.2212 - val_auc: 0.8571\n",
      "Epoch 11/100\n",
      "80/80 [==============================] - 279s 4s/step - loss: 0.2249 - auc: 0.8719 - val_loss: 0.2176 - val_auc: 0.8643\n",
      "Epoch 12/100\n",
      "80/80 [==============================] - 289s 4s/step - loss: 0.2201 - auc: 0.8778 - val_loss: 0.2140 - val_auc: 0.8692\n",
      "Epoch 13/100\n",
      "80/80 [==============================] - 290s 4s/step - loss: 0.2154 - auc: 0.8834 - val_loss: 0.2117 - val_auc: 0.8736\n",
      "Epoch 14/100\n",
      "80/80 [==============================] - 298s 4s/step - loss: 0.2120 - auc: 0.8882 - val_loss: 0.2087 - val_auc: 0.8793\n",
      "Epoch 15/100\n",
      "80/80 [==============================] - 283s 4s/step - loss: 0.2091 - auc: 0.8920 - val_loss: 0.2077 - val_auc: 0.8822\n",
      "Epoch 16/100\n",
      "80/80 [==============================] - 282s 4s/step - loss: 0.2061 - auc: 0.8955 - val_loss: 0.2053 - val_auc: 0.8855\n",
      "Epoch 17/100\n",
      "80/80 [==============================] - 289s 4s/step - loss: 0.2035 - auc: 0.8987 - val_loss: 0.2041 - val_auc: 0.8876\n",
      "Epoch 18/100\n",
      "80/80 [==============================] - 289s 4s/step - loss: 0.2019 - auc: 0.9007 - val_loss: 0.2034 - val_auc: 0.8912\n",
      "Epoch 19/100\n",
      "80/80 [==============================] - 285s 4s/step - loss: 0.1988 - auc: 0.9054 - val_loss: 0.2014 - val_auc: 0.8923\n",
      "Epoch 20/100\n",
      "80/80 [==============================] - 295s 4s/step - loss: 0.1977 - auc: 0.9067 - val_loss: 0.2001 - val_auc: 0.8940\n",
      "Epoch 21/100\n",
      "80/80 [==============================] - 295s 4s/step - loss: 0.1953 - auc: 0.9097 - val_loss: 0.1983 - val_auc: 0.8966\n",
      "Epoch 22/100\n",
      "80/80 [==============================] - 296s 4s/step - loss: 0.1931 - auc: 0.9123 - val_loss: 0.1975 - val_auc: 0.8991\n",
      "Epoch 23/100\n",
      "80/80 [==============================] - 297s 4s/step - loss: 0.1912 - auc: 0.9152 - val_loss: 0.1978 - val_auc: 0.8990\n",
      "Epoch 24/100\n",
      "80/80 [==============================] - 294s 4s/step - loss: 0.1896 - auc: 0.9168 - val_loss: 0.1953 - val_auc: 0.9023\n",
      "Epoch 25/100\n",
      "80/80 [==============================] - 288s 4s/step - loss: 0.1881 - auc: 0.9186 - val_loss: 0.1954 - val_auc: 0.9032\n",
      "Epoch 26/100\n",
      "80/80 [==============================] - 317s 4s/step - loss: 0.1861 - auc: 0.9217 - val_loss: 0.1940 - val_auc: 0.9038\n",
      "Epoch 27/100\n",
      "80/80 [==============================] - 288s 4s/step - loss: 0.1851 - auc: 0.9225 - val_loss: 0.1934 - val_auc: 0.9053\n",
      "Epoch 28/100\n",
      "80/80 [==============================] - 299s 4s/step - loss: 0.1831 - auc: 0.9249 - val_loss: 0.1933 - val_auc: 0.9072\n",
      "Epoch 29/100\n",
      "80/80 [==============================] - 294s 4s/step - loss: 0.1817 - auc: 0.9261 - val_loss: 0.1921 - val_auc: 0.9081\n",
      "Epoch 30/100\n",
      "80/80 [==============================] - 286s 4s/step - loss: 0.1804 - auc: 0.9280 - val_loss: 0.1912 - val_auc: 0.9092\n",
      "Epoch 31/100\n",
      "80/80 [==============================] - 294s 4s/step - loss: 0.1786 - auc: 0.9307 - val_loss: 0.1908 - val_auc: 0.9110\n",
      "Epoch 32/100\n",
      "80/80 [==============================] - 294s 4s/step - loss: 0.1777 - auc: 0.9313 - val_loss: 0.1895 - val_auc: 0.9108\n",
      "Epoch 33/100\n",
      "80/80 [==============================] - 292s 4s/step - loss: 0.1761 - auc: 0.9330 - val_loss: 0.1893 - val_auc: 0.9113\n",
      "Epoch 34/100\n",
      "80/80 [==============================] - 289s 4s/step - loss: 0.1745 - auc: 0.9349 - val_loss: 0.1887 - val_auc: 0.9125\n",
      "Epoch 35/100\n",
      "80/80 [==============================] - 293s 4s/step - loss: 0.1734 - auc: 0.9361 - val_loss: 0.1891 - val_auc: 0.9130\n",
      "Epoch 36/100\n",
      "80/80 [==============================] - 293s 4s/step - loss: 0.1722 - auc: 0.9377 - val_loss: 0.1877 - val_auc: 0.9134\n",
      "Epoch 37/100\n",
      "80/80 [==============================] - 292s 4s/step - loss: 0.1709 - auc: 0.9387 - val_loss: 0.1875 - val_auc: 0.9138\n",
      "Epoch 38/100\n",
      "80/80 [==============================] - 290s 4s/step - loss: 0.1697 - auc: 0.9399 - val_loss: 0.1871 - val_auc: 0.9145\n",
      "Epoch 39/100\n",
      "80/80 [==============================] - 287s 4s/step - loss: 0.1688 - auc: 0.9409 - val_loss: 0.1867 - val_auc: 0.9151\n",
      "Epoch 40/100\n",
      "80/80 [==============================] - 290s 4s/step - loss: 0.1673 - auc: 0.9421 - val_loss: 0.1884 - val_auc: 0.9158\n",
      "Epoch 41/100\n",
      "80/80 [==============================] - 299s 4s/step - loss: 0.1665 - auc: 0.9427 - val_loss: 0.1866 - val_auc: 0.9165\n",
      "Epoch 42/100\n",
      "80/80 [==============================] - 291s 4s/step - loss: 0.1655 - auc: 0.9444 - val_loss: 0.1859 - val_auc: 0.9169\n",
      "Epoch 43/100\n",
      "80/80 [==============================] - 296s 4s/step - loss: 0.1637 - auc: 0.9457 - val_loss: 0.1851 - val_auc: 0.9166\n",
      "Epoch 44/100\n",
      "80/80 [==============================] - 292s 4s/step - loss: 0.1638 - auc: 0.9445 - val_loss: 0.1853 - val_auc: 0.9177\n",
      "Epoch 45/100\n",
      "80/80 [==============================] - 300s 4s/step - loss: 0.1624 - auc: 0.9455 - val_loss: 0.1844 - val_auc: 0.9166\n",
      "Epoch 46/100\n",
      "80/80 [==============================] - 291s 4s/step - loss: 0.1610 - auc: 0.9478 - val_loss: 0.1844 - val_auc: 0.9183\n",
      "Epoch 47/100\n",
      "80/80 [==============================] - 291s 4s/step - loss: 0.1598 - auc: 0.9487 - val_loss: 0.1851 - val_auc: 0.9184\n",
      "Epoch 48/100\n",
      "80/80 [==============================] - 297s 4s/step - loss: 0.1587 - auc: 0.9498 - val_loss: 0.1840 - val_auc: 0.9184\n",
      "Epoch 49/100\n",
      "80/80 [==============================] - 297s 4s/step - loss: 0.1586 - auc: 0.9491 - val_loss: 0.1849 - val_auc: 0.9189\n",
      "Epoch 50/100\n",
      "80/80 [==============================] - 295s 4s/step - loss: 0.1570 - auc: 0.9508 - val_loss: 0.1831 - val_auc: 0.9194\n",
      "Epoch 51/100\n",
      "80/80 [==============================] - 296s 4s/step - loss: 0.1558 - auc: 0.9520 - val_loss: 0.1842 - val_auc: 0.9197\n",
      "Epoch 52/100\n",
      "80/80 [==============================] - 302s 4s/step - loss: 0.1552 - auc: 0.9520 - val_loss: 0.1837 - val_auc: 0.9186\n",
      "Epoch 53/100\n",
      "80/80 [==============================] - 290s 4s/step - loss: 0.1541 - auc: 0.9526 - val_loss: 0.1825 - val_auc: 0.9183\n",
      "Epoch 54/100\n",
      "80/80 [==============================] - 295s 4s/step - loss: 0.1531 - auc: 0.9538 - val_loss: 0.1830 - val_auc: 0.9204\n",
      "Epoch 55/100\n",
      "80/80 [==============================] - 289s 4s/step - loss: 0.1523 - auc: 0.9541 - val_loss: 0.1825 - val_auc: 0.9195\n",
      "Epoch 56/100\n",
      "80/80 [==============================] - 296s 4s/step - loss: 0.1515 - auc: 0.9552 - val_loss: 0.1823 - val_auc: 0.9210\n",
      "Epoch 57/100\n",
      "80/80 [==============================] - 299s 4s/step - loss: 0.1505 - auc: 0.9557 - val_loss: 0.1817 - val_auc: 0.9202\n",
      "Epoch 58/100\n",
      "80/80 [==============================] - 295s 4s/step - loss: 0.1496 - auc: 0.9560 - val_loss: 0.1832 - val_auc: 0.9213\n",
      "Epoch 59/100\n",
      "80/80 [==============================] - 292s 4s/step - loss: 0.1486 - auc: 0.9572 - val_loss: 0.1814 - val_auc: 0.9213\n",
      "Epoch 60/100\n",
      "80/80 [==============================] - 300s 4s/step - loss: 0.1477 - auc: 0.9575 - val_loss: 0.1819 - val_auc: 0.9217\n",
      "Epoch 61/100\n",
      "80/80 [==============================] - 291s 4s/step - loss: 0.1468 - auc: 0.9582 - val_loss: 0.1813 - val_auc: 0.9219\n",
      "Epoch 62/100\n",
      "80/80 [==============================] - 291s 4s/step - loss: 0.1459 - auc: 0.9588 - val_loss: 0.1824 - val_auc: 0.9226\n",
      "Epoch 63/100\n",
      "80/80 [==============================] - 294s 4s/step - loss: 0.1453 - auc: 0.9593 - val_loss: 0.1814 - val_auc: 0.9226\n",
      "Epoch 64/100\n",
      "80/80 [==============================] - 288s 4s/step - loss: 0.1444 - auc: 0.9600 - val_loss: 0.1814 - val_auc: 0.9224\n",
      "Epoch 65/100\n",
      "80/80 [==============================] - 290s 4s/step - loss: 0.1440 - auc: 0.9601 - val_loss: 0.1821 - val_auc: 0.9228\n",
      "Epoch 66/100\n",
      "80/80 [==============================] - 304s 4s/step - loss: 0.1428 - auc: 0.9606 - val_loss: 0.1812 - val_auc: 0.9236\n",
      "Epoch 67/100\n",
      "80/80 [==============================] - 292s 4s/step - loss: 0.1417 - auc: 0.9619 - val_loss: 0.1805 - val_auc: 0.9228\n",
      "Epoch 68/100\n",
      "80/80 [==============================] - 299s 4s/step - loss: 0.1415 - auc: 0.9616 - val_loss: 0.1806 - val_auc: 0.9239\n",
      "Epoch 69/100\n",
      "80/80 [==============================] - 297s 4s/step - loss: 0.1403 - auc: 0.9628 - val_loss: 0.1799 - val_auc: 0.9232\n",
      "Epoch 70/100\n",
      "80/80 [==============================] - 291s 4s/step - loss: 0.1397 - auc: 0.9630 - val_loss: 0.1813 - val_auc: 0.9251\n",
      "Epoch 71/100\n",
      "80/80 [==============================] - 288s 4s/step - loss: 0.1390 - auc: 0.9636 - val_loss: 0.1804 - val_auc: 0.9250\n",
      "Epoch 72/100\n",
      "80/80 [==============================] - 300s 4s/step - loss: 0.1378 - auc: 0.9642 - val_loss: 0.1802 - val_auc: 0.9255\n",
      "Epoch 73/100\n",
      "80/80 [==============================] - 298s 4s/step - loss: 0.1371 - auc: 0.9645 - val_loss: 0.1799 - val_auc: 0.9242\n",
      "Epoch 74/100\n",
      "80/80 [==============================] - 300s 4s/step - loss: 0.1364 - auc: 0.9651 - val_loss: 0.1801 - val_auc: 0.9259\n",
      "Epoch 75/100\n",
      "80/80 [==============================] - 294s 4s/step - loss: 0.1359 - auc: 0.9652 - val_loss: 0.1800 - val_auc: 0.9263\n",
      "Epoch 76/100\n",
      "80/80 [==============================] - 296s 4s/step - loss: 0.1351 - auc: 0.9656 - val_loss: 0.1798 - val_auc: 0.9249\n",
      "Epoch 77/100\n",
      "80/80 [==============================] - 304s 4s/step - loss: 0.1342 - auc: 0.9665 - val_loss: 0.1791 - val_auc: 0.9263\n",
      "Epoch 78/100\n",
      "80/80 [==============================] - 297s 4s/step - loss: 0.1333 - auc: 0.9667 - val_loss: 0.1801 - val_auc: 0.9263\n",
      "Epoch 79/100\n",
      "80/80 [==============================] - 302s 4s/step - loss: 0.1328 - auc: 0.9673 - val_loss: 0.1793 - val_auc: 0.9269\n",
      "Epoch 80/100\n",
      "80/80 [==============================] - 293s 4s/step - loss: 0.1327 - auc: 0.9668 - val_loss: 0.1796 - val_auc: 0.9268\n",
      "Epoch 81/100\n",
      "80/80 [==============================] - 304s 4s/step - loss: 0.1312 - auc: 0.9679 - val_loss: 0.1794 - val_auc: 0.9285\n",
      "Epoch 82/100\n",
      "80/80 [==============================] - 293s 4s/step - loss: 0.1312 - auc: 0.9681 - val_loss: 0.1817 - val_auc: 0.9287\n",
      "Epoch 83/100\n",
      "80/80 [==============================] - 295s 4s/step - loss: 0.1308 - auc: 0.9684 - val_loss: 0.1795 - val_auc: 0.9278\n",
      "Epoch 84/100\n",
      "80/80 [==============================] - 298s 4s/step - loss: 0.1289 - auc: 0.9692 - val_loss: 0.1794 - val_auc: 0.9275\n",
      "Epoch 85/100\n",
      "80/80 [==============================] - 301s 4s/step - loss: 0.1280 - auc: 0.9702 - val_loss: 0.1783 - val_auc: 0.9280\n",
      "Epoch 86/100\n",
      "80/80 [==============================] - 285s 4s/step - loss: 0.1279 - auc: 0.9700 - val_loss: 0.1794 - val_auc: 0.9286\n",
      "Epoch 87/100\n",
      "80/80 [==============================] - 295s 4s/step - loss: 0.1268 - auc: 0.9708 - val_loss: 0.1790 - val_auc: 0.9292\n",
      "Epoch 88/100\n",
      "80/80 [==============================] - 290s 4s/step - loss: 0.1264 - auc: 0.9706 - val_loss: 0.1785 - val_auc: 0.9297\n",
      "Epoch 89/100\n",
      "80/80 [==============================] - 295s 4s/step - loss: 0.1257 - auc: 0.9710 - val_loss: 0.1792 - val_auc: 0.9289\n",
      "Epoch 90/100\n",
      "80/80 [==============================] - 311s 4s/step - loss: 0.1248 - auc: 0.9717 - val_loss: 0.1787 - val_auc: 0.9293\n",
      "Epoch 91/100\n",
      "80/80 [==============================] - 287s 4s/step - loss: 0.1246 - auc: 0.9716 - val_loss: 0.1797 - val_auc: 0.9283\n",
      "Epoch 92/100\n",
      "80/80 [==============================] - 294s 4s/step - loss: 0.1238 - auc: 0.9718 - val_loss: 0.1787 - val_auc: 0.9290\n",
      "Epoch 93/100\n",
      "80/80 [==============================] - 291s 4s/step - loss: 0.1231 - auc: 0.9722 - val_loss: 0.1787 - val_auc: 0.9301\n",
      "Epoch 94/100\n",
      "80/80 [==============================] - 294s 4s/step - loss: 0.1225 - auc: 0.9727 - val_loss: 0.1785 - val_auc: 0.9304\n",
      "Epoch 95/100\n",
      "80/80 [==============================] - 296s 4s/step - loss: 0.1217 - auc: 0.9732 - val_loss: 0.1777 - val_auc: 0.9294\n",
      "Epoch 96/100\n",
      "80/80 [==============================] - 300s 4s/step - loss: 0.1213 - auc: 0.9735 - val_loss: 0.1781 - val_auc: 0.9300\n",
      "Epoch 97/100\n",
      "80/80 [==============================] - 292s 4s/step - loss: 0.1203 - auc: 0.9738 - val_loss: 0.1781 - val_auc: 0.9301\n",
      "Epoch 98/100\n",
      "80/80 [==============================] - 290s 4s/step - loss: 0.1199 - auc: 0.9737 - val_loss: 0.1786 - val_auc: 0.9308\n",
      "Epoch 99/100\n",
      "80/80 [==============================] - 292s 4s/step - loss: 0.1192 - auc: 0.9742 - val_loss: 0.1790 - val_auc: 0.9295\n",
      "Epoch 100/100\n",
      "80/80 [==============================] - 310s 4s/step - loss: 0.1182 - auc: 0.9747 - val_loss: 0.1783 - val_auc: 0.9311\n"
     ]
    }
   ],
   "source": [
    "es = EarlyStopping(monitor = 'val_loss', patience = 20, restore_best_weights = True  )\n",
    "history = model.fit(train_data_generator, epochs=num_epochs, validation_data=val_data_generator, callbacks=[es],verbose = 1)"
   ]
  },
  {
   "cell_type": "code",
   "execution_count": 14,
   "id": "dbb50901",
   "metadata": {
    "execution": {
     "iopub.execute_input": "2023-07-12T17:42:15.276061Z",
     "iopub.status.busy": "2023-07-12T17:42:15.275587Z",
     "iopub.status.idle": "2023-07-12T17:42:15.369766Z",
     "shell.execute_reply": "2023-07-12T17:42:15.368832Z"
    },
    "papermill": {
     "duration": 0.735799,
     "end_time": "2023-07-12T17:42:15.372198",
     "exception": false,
     "start_time": "2023-07-12T17:42:14.636399",
     "status": "completed"
    },
    "tags": []
   },
   "outputs": [],
   "source": [
    "model.save(\"model_flbce_mass.keras\")"
   ]
  },
  {
   "cell_type": "markdown",
   "id": "b5976c66",
   "metadata": {
    "papermill": {
     "duration": 0.63872,
     "end_time": "2023-07-12T17:42:16.641729",
     "exception": false,
     "start_time": "2023-07-12T17:42:16.003009",
     "status": "completed"
    },
    "tags": []
   },
   "source": [
    "## 5. Performance \n",
    "<ul>\n",
    "<li>train and validation losses</li>\n",
    "</ul>"
   ]
  },
  {
   "cell_type": "code",
   "execution_count": 15,
   "id": "240e381d",
   "metadata": {
    "execution": {
     "iopub.execute_input": "2023-07-12T17:42:17.903421Z",
     "iopub.status.busy": "2023-07-12T17:42:17.903058Z",
     "iopub.status.idle": "2023-07-12T17:42:18.269689Z",
     "shell.execute_reply": "2023-07-12T17:42:18.268750Z"
    },
    "papermill": {
     "duration": 1.001498,
     "end_time": "2023-07-12T17:42:18.271727",
     "exception": false,
     "start_time": "2023-07-12T17:42:17.270229",
     "status": "completed"
    },
    "tags": []
   },
   "outputs": [
    {
     "data": {
      "image/png": "[encoded data removed]",
      "text/plain": [
       "<Figure size 640x480 with 1 Axes>"
      ]
     },
     "metadata": {},
     "output_type": "display_data"
    }
   ],
   "source": [
    "train_loss = history.history['loss']\n",
    "val_loss = history.history['val_loss']\n",
    "epochs = range(1, len(train_loss) + 1)\n",
    "\n",
    "plt.plot(epochs, train_loss, 'b', label='Training Loss')\n",
    "plt.plot(epochs, val_loss, 'r', label='Validation Loss')\n",
    "plt.title('Training and Validation Loss')\n",
    "plt.xlabel('Epochs')\n",
    "plt.ylabel('Loss')\n",
    "plt.legend()\n",
    "plt.show()\n",
    "\n"
   ]
  },
  {
   "cell_type": "code",
   "execution_count": 16,
   "id": "1c5458c3",
   "metadata": {
    "execution": {
     "iopub.execute_input": "2023-07-12T17:42:19.662161Z",
     "iopub.status.busy": "2023-07-12T17:42:19.661764Z",
     "iopub.status.idle": "2023-07-12T17:46:42.056388Z",
     "shell.execute_reply": "2023-07-12T17:46:42.055290Z"
    },
    "papermill": {
     "duration": 263.157222,
     "end_time": "2023-07-12T17:46:42.060021",
     "exception": false,
     "start_time": "2023-07-12T17:42:18.902799",
     "status": "completed"
    },
    "tags": []
   },
   "outputs": [],
   "source": [
    "y_pred = model.predict(DataGenerator(range(809),1), verbose = 0)"
   ]
  },
  {
   "cell_type": "markdown",
   "id": "b1d74a18",
   "metadata": {
    "papermill": {
     "duration": 0.62418,
     "end_time": "2023-07-12T17:46:43.360710",
     "exception": false,
     "start_time": "2023-07-12T17:46:42.736530",
     "status": "completed"
    },
    "tags": []
   },
   "source": [
    "### Classification Reports"
   ]
  },
  {
   "cell_type": "code",
   "execution_count": 17,
   "id": "91b40a47",
   "metadata": {
    "execution": {
     "iopub.execute_input": "2023-07-12T17:46:44.610629Z",
     "iopub.status.busy": "2023-07-12T17:46:44.610239Z",
     "iopub.status.idle": "2023-07-12T17:46:44.715786Z",
     "shell.execute_reply": "2023-07-12T17:46:44.714862Z"
    },
    "papermill": {
     "duration": 0.732466,
     "end_time": "2023-07-12T17:46:44.720047",
     "exception": false,
     "start_time": "2023-07-12T17:46:43.987581",
     "status": "completed"
    },
    "tags": []
   },
   "outputs": [
    {
     "name": "stdout",
     "output_type": "stream",
     "text": [
      "aromatic\n",
      "              precision    recall  f1-score   support\n",
      "\n",
      "           0       0.95      1.00      0.97       730\n",
      "           1       0.98      0.52      0.68        79\n",
      "\n",
      "    accuracy                           0.95       809\n",
      "   macro avg       0.96      0.76      0.83       809\n",
      "weighted avg       0.95      0.95      0.95       809\n",
      "\n",
      "roc_auc_score : 0.9510837523842552\n",
      "-------------------------------------------------------------\n",
      "hydrocarbon\n",
      "              precision    recall  f1-score   support\n",
      "\n",
      "           0       0.93      0.97      0.95       544\n",
      "           1       0.93      0.86      0.89       265\n",
      "\n",
      "    accuracy                           0.93       809\n",
      "   macro avg       0.93      0.91      0.92       809\n",
      "weighted avg       0.93      0.93      0.93       809\n",
      "\n",
      "roc_auc_score : 0.9629578246392896\n",
      "-------------------------------------------------------------\n",
      "carboxylic_acid\n",
      "              precision    recall  f1-score   support\n",
      "\n",
      "           0       0.92      0.98      0.95       694\n",
      "           1       0.78      0.50      0.61       115\n",
      "\n",
      "    accuracy                           0.91       809\n",
      "   macro avg       0.85      0.74      0.78       809\n",
      "weighted avg       0.90      0.91      0.90       809\n",
      "\n",
      "roc_auc_score : 0.9440922190201729\n",
      "-------------------------------------------------------------\n",
      "nitrogen_bearing_compound\n",
      "              precision    recall  f1-score   support\n",
      "\n",
      "           0       0.94      0.98      0.96       713\n",
      "           1       0.78      0.56      0.65        96\n",
      "\n",
      "    accuracy                           0.93       809\n",
      "   macro avg       0.86      0.77      0.81       809\n",
      "weighted avg       0.92      0.93      0.92       809\n",
      "\n",
      "roc_auc_score : 0.9709852734922861\n",
      "-------------------------------------------------------------\n",
      "chlorine_bearing_compound\n",
      "              precision    recall  f1-score   support\n",
      "\n",
      "           0       0.98      1.00      0.99       791\n",
      "           1       1.00      0.22      0.36        18\n",
      "\n",
      "    accuracy                           0.98       809\n",
      "   macro avg       0.99      0.61      0.68       809\n",
      "weighted avg       0.98      0.98      0.98       809\n",
      "\n",
      "roc_auc_score : 0.9823711195392612\n",
      "-------------------------------------------------------------\n",
      "sulfur_bearing_compound\n",
      "              precision    recall  f1-score   support\n",
      "\n",
      "           0       0.97      0.99      0.98       778\n",
      "           1       0.73      0.35      0.48        31\n",
      "\n",
      "    accuracy                           0.97       809\n",
      "   macro avg       0.85      0.67      0.73       809\n",
      "weighted avg       0.97      0.97      0.97       809\n",
      "\n",
      "roc_auc_score : 0.9773198440998425\n",
      "-------------------------------------------------------------\n",
      "alcohol\n",
      "              precision    recall  f1-score   support\n",
      "\n",
      "           0       0.97      1.00      0.98       783\n",
      "           1       0.57      0.15      0.24        26\n",
      "\n",
      "    accuracy                           0.97       809\n",
      "   macro avg       0.77      0.58      0.61       809\n",
      "weighted avg       0.96      0.97      0.96       809\n",
      "\n",
      "roc_auc_score : 0.9548580410649375\n",
      "-------------------------------------------------------------\n",
      "other_oxygen_bearing_compound\n",
      "              precision    recall  f1-score   support\n",
      "\n",
      "           0       0.98      1.00      0.99       788\n",
      "           1       1.00      0.14      0.25        21\n",
      "\n",
      "    accuracy                           0.98       809\n",
      "   macro avg       0.99      0.57      0.62       809\n",
      "weighted avg       0.98      0.98      0.97       809\n",
      "\n",
      "roc_auc_score : 0.9741962774957698\n",
      "-------------------------------------------------------------\n",
      "mineral\n",
      "              precision    recall  f1-score   support\n",
      "\n",
      "           0       0.94      0.96      0.95       692\n",
      "           1       0.71      0.62      0.66       117\n",
      "\n",
      "    accuracy                           0.91       809\n",
      "   macro avg       0.82      0.79      0.81       809\n",
      "weighted avg       0.90      0.91      0.91       809\n",
      "\n",
      "roc_auc_score : 0.9413072476656291\n",
      "-------------------------------------------------------------\n"
     ]
    }
   ],
   "source": [
    "from sklearn.metrics import classification_report, roc_auc_score\n",
    "for i in range(9):\n",
    "    y_true_column = train_labels.iloc[:, i+1].values\n",
    "    y_pred_column = y_pred[:, i].round()\n",
    "    \n",
    "    report = classification_report(y_true_column, y_pred_column)\n",
    "    print(f\"{label_names[i]}\")\n",
    "    print(report)\n",
    "    print(f\"roc_auc_score : {roc_auc_score(y_true_column, y_pred[:, i])}\")\n",
    "    print(\"-------------------------------------------------------------\")\n"
   ]
  }
 ],
 "metadata": {
  "kernelspec": {
   "display_name": "Python 3",
   "language": "python",
   "name": "python3"
  },
  "language_info": {
   "codemirror_mode": {
    "name": "ipython",
    "version": 3
   },
   "file_extension": ".py",
   "mimetype": "text/x-python",
   "name": "python",
   "nbconvert_exporter": "python",
   "pygments_lexer": "ipython3",
   "version": "3.10.10"
  },
  "papermill": {
   "default_parameters": {},
   "duration": 30893.338623,
   "end_time": "2023-07-12T17:46:48.688453",
   "environment_variables": {},
   "exception": null,
   "input_path": "__notebook__.ipynb",
   "output_path": "__notebook__.ipynb",
   "parameters": {},
   "start_time": "2023-07-12T09:11:55.349830",
   "version": "2.4.0"
  }
 },
 "nbformat": 4,
 "nbformat_minor": 5
}
