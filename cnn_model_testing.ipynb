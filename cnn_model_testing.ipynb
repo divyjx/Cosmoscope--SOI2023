{
 "cells": [
  {
   "cell_type": "markdown",
   "id": "fdad98eb",
   "metadata": {
    "id": "19a292b6",
    "papermill": {
     "duration": 0.006066,
     "end_time": "2023-07-20T14:58:02.055551",
     "exception": false,
     "start_time": "2023-07-20T14:58:02.049485",
     "status": "completed"
    },
    "tags": []
   },
   "source": [
    "## 1. Data Description\n",
    "<ul>\n",
    "<li>there are 809 training examples</li>\n",
    "<li>each of them is a dataframe with time, mass , and intensity values</li>\n",
    "<li>dataframe lenghts are variable</li>\n",
    "</ul>\n"
   ]
  },
  {
   "cell_type": "code",
   "execution_count": 1,
   "id": "236a3824",
   "metadata": {
    "execution": {
     "iopub.execute_input": "2023-07-20T14:58:02.068949Z",
     "iopub.status.busy": "2023-07-20T14:58:02.068385Z",
     "iopub.status.idle": "2023-07-20T14:58:12.038629Z",
     "shell.execute_reply": "2023-07-20T14:58:12.037564Z"
    },
    "id": "669ca0ad",
    "papermill": {
     "duration": 9.980242,
     "end_time": "2023-07-20T14:58:12.041499",
     "exception": false,
     "start_time": "2023-07-20T14:58:02.061257",
     "status": "completed"
    },
    "tags": []
   },
   "outputs": [],
   "source": [
    "import warnings\n",
    "warnings.filterwarnings('ignore')\n",
    "\n",
    "# for processing numbers and files csv\n",
    "import pandas as pd\n",
    "import numpy as np\n",
    "\n",
    "# for visualization\n",
    "import matplotlib.pyplot as plt\n",
    "%matplotlib inline\n",
    "\n",
    "# preprocessing\n",
    "from sklearn.preprocessing import MinMaxScaler\n",
    "from sklearn.model_selection import train_test_split\n",
    "from sklearn.metrics import classification_report, roc_auc_score, log_loss\n",
    "\n",
    "# model related\n",
    "from tensorflow.keras.callbacks import EarlyStopping\n",
    "from tensorflow.keras.utils import Sequence\n",
    "from tensorflow.keras.models import Sequential\n",
    "from tensorflow.keras.layers import Conv2D, MaxPooling2D, Flatten, Dense\n",
    "\n",
    "import tensorflow as tf\n"
   ]
  },
  {
   "cell_type": "code",
   "execution_count": 2,
   "id": "12d1aafe",
   "metadata": {
    "execution": {
     "iopub.execute_input": "2023-07-20T14:58:12.055011Z",
     "iopub.status.busy": "2023-07-20T14:58:12.054247Z",
     "iopub.status.idle": "2023-07-20T14:58:12.058581Z",
     "shell.execute_reply": "2023-07-20T14:58:12.057776Z"
    },
    "id": "YIiXAuIFueEv",
    "outputId": "bef609e5-3742-4d4c-8c6f-a12c7ab4bed4",
    "papermill": {
     "duration": 0.013125,
     "end_time": "2023-07-20T14:58:12.060516",
     "exception": false,
     "start_time": "2023-07-20T14:58:12.047391",
     "status": "completed"
    },
    "tags": []
   },
   "outputs": [],
   "source": [
    "# # for working in colab\n",
    "# from google.colab import drive\n",
    "# drive.mount('/content/drive')"
   ]
  },
  {
   "cell_type": "code",
   "execution_count": 3,
   "id": "98796881",
   "metadata": {
    "execution": {
     "iopub.execute_input": "2023-07-20T14:58:12.073416Z",
     "iopub.status.busy": "2023-07-20T14:58:12.072717Z",
     "iopub.status.idle": "2023-07-20T14:58:12.091993Z",
     "shell.execute_reply": "2023-07-20T14:58:12.091059Z"
    },
    "id": "3c287e18",
    "outputId": "0307db73-26a6-46e2-f685-979a2b58476d",
    "papermill": {
     "duration": 0.028067,
     "end_time": "2023-07-20T14:58:12.094090",
     "exception": false,
     "start_time": "2023-07-20T14:58:12.066023",
     "status": "completed"
    },
    "tags": []
   },
   "outputs": [
    {
     "data": {
      "text/plain": [
       "False"
      ]
     },
     "execution_count": 3,
     "metadata": {},
     "output_type": "execute_result"
    }
   ],
   "source": [
    "#for gpu\n",
    "tf.test.is_gpu_available()"
   ]
  },
  {
   "cell_type": "code",
   "execution_count": 4,
   "id": "2e527b3e",
   "metadata": {
    "execution": {
     "iopub.execute_input": "2023-07-20T14:58:12.107771Z",
     "iopub.status.busy": "2023-07-20T14:58:12.107042Z",
     "iopub.status.idle": "2023-07-20T14:58:12.111200Z",
     "shell.execute_reply": "2023-07-20T14:58:12.110473Z"
    },
    "id": "815d00ae",
    "papermill": {
     "duration": 0.013255,
     "end_time": "2023-07-20T14:58:12.113189",
     "exception": false,
     "start_time": "2023-07-20T14:58:12.099934",
     "status": "completed"
    },
    "tags": []
   },
   "outputs": [],
   "source": [
    "# for working in kaggle use this paths\n",
    "kag_path_in = \"/kaggle/input/mars-spec-train/\"\n",
    "kag_path_out = \"/kaggle/working/\"\n",
    "\n",
    "# # for working in colab  \n",
    "# kag_path_in = \"/content/drive/MyDrive/\" # google drive\n",
    "# kag_path_out = \"\"\n",
    "\n",
    "# add custom paths here (uncomment)\n",
    "# kag_path_in = \"\"\n",
    "# kag_path_out = \"\""
   ]
  },
  {
   "cell_type": "code",
   "execution_count": 5,
   "id": "8d7e99f3",
   "metadata": {
    "execution": {
     "iopub.execute_input": "2023-07-20T14:58:12.126426Z",
     "iopub.status.busy": "2023-07-20T14:58:12.125995Z",
     "iopub.status.idle": "2023-07-20T14:58:12.158951Z",
     "shell.execute_reply": "2023-07-20T14:58:12.157709Z"
    },
    "id": "97f3d01c",
    "papermill": {
     "duration": 0.042447,
     "end_time": "2023-07-20T14:58:12.161427",
     "exception": false,
     "start_time": "2023-07-20T14:58:12.118980",
     "status": "completed"
    },
    "tags": []
   },
   "outputs": [],
   "source": [
    "# metadata = pd.read_csv('/kaggle/input/mars-spec-train/metadata.csv').fillna(0)\n",
    "# train_labels = pd.read_csv('/kaggle/input/mars-spec-train/train_labels.csv')\n",
    "metadata = pd.read_csv(kag_path_in+'metadata.csv').fillna(0)\n",
    "train_labels = pd.read_csv(kag_path_in+'train_labels.csv')"
   ]
  },
  {
   "cell_type": "markdown",
   "id": "a769f811",
   "metadata": {
    "id": "d6089094",
    "papermill": {
     "duration": 0.005428,
     "end_time": "2023-07-20T14:58:12.172670",
     "exception": false,
     "start_time": "2023-07-20T14:58:12.167242",
     "status": "completed"
    },
    "tags": []
   },
   "source": [
    "## 2. Preprocessing and Feature extraction\n",
    "<ul>\n",
    "<li>mass values are grouped into values seperated by 0.50 </li>\n",
    "<li>time values are grouped into values seperated by 0.02 </li>\n",
    "<li>Time * Mass matrix (2700,1400) with Intensity values </li>\n",
    "</ul>"
   ]
  },
  {
   "cell_type": "code",
   "execution_count": 6,
   "id": "edb120cc",
   "metadata": {
    "execution": {
     "iopub.execute_input": "2023-07-20T14:58:12.185812Z",
     "iopub.status.busy": "2023-07-20T14:58:12.184863Z",
     "iopub.status.idle": "2023-07-20T14:58:12.189141Z",
     "shell.execute_reply": "2023-07-20T14:58:12.188473Z"
    },
    "id": "39247504",
    "papermill": {
     "duration": 0.01284,
     "end_time": "2023-07-20T14:58:12.191028",
     "exception": false,
     "start_time": "2023-07-20T14:58:12.178188",
     "status": "completed"
    },
    "tags": []
   },
   "outputs": [],
   "source": [
    "# constants\n",
    "num_mass_values = 1400\n",
    "num_time_values = 2700\n",
    "matrix_shape = (num_time_values, num_mass_values)"
   ]
  },
  {
   "cell_type": "code",
   "execution_count": 7,
   "id": "749afaea",
   "metadata": {
    "execution": {
     "iopub.execute_input": "2023-07-20T14:58:12.205379Z",
     "iopub.status.busy": "2023-07-20T14:58:12.204647Z",
     "iopub.status.idle": "2023-07-20T14:58:12.211556Z",
     "shell.execute_reply": "2023-07-20T14:58:12.210738Z"
    },
    "id": "174557ea",
    "papermill": {
     "duration": 0.015834,
     "end_time": "2023-07-20T14:58:12.213620",
     "exception": false,
     "start_time": "2023-07-20T14:58:12.197786",
     "status": "completed"
    },
    "tags": []
   },
   "outputs": [],
   "source": [
    "\n",
    "# Function to create the Time X Mass matrix for a single data sample\n",
    "def create_matrix(id):\n",
    "\n",
    "    sample_id, split, derivate, path, _ = metadata.iloc[id]\n",
    "    data = pd.read_csv(kag_path_in+path)\n",
    "\n",
    "    label = None\n",
    "    if (split == 'train'):\n",
    "        label = train_labels.iloc[id].values[1:]\n",
    "\n",
    "    # discretization of time and mass\n",
    "    data.time = (data.time*50).round()\n",
    "    data.mass = (data.mass*2).round()\n",
    "    data.time = data.time.astype(int)\n",
    "    data.mass = data.mass.astype(int)\n",
    "\n",
    "    # scaling intensity\n",
    "    data.intensity = MinMaxScaler().fit_transform(data.intensity.values.reshape(-1, 1))\n",
    "\n",
    "    # filling matrix\n",
    "    matrix = np.zeros(matrix_shape)\n",
    "    matrix[data['time'],data['mass']] = data['intensity']\n",
    "\n",
    "    return matrix , label\n"
   ]
  },
  {
   "cell_type": "markdown",
   "id": "b4b8a931",
   "metadata": {
    "id": "490a30fa",
    "papermill": {
     "duration": 0.005361,
     "end_time": "2023-07-20T14:58:12.224729",
     "exception": false,
     "start_time": "2023-07-20T14:58:12.219368",
     "status": "completed"
    },
    "tags": []
   },
   "source": [
    "## 3. Data Generation\n",
    "<ul>\n",
    "<li>Storing data matrix is costly</li>\n",
    "<li>data is generated in batches</li>\n",
    "</ul>\n"
   ]
  },
  {
   "cell_type": "code",
   "execution_count": 8,
   "id": "d7e39a1e",
   "metadata": {
    "execution": {
     "iopub.execute_input": "2023-07-20T14:58:12.237987Z",
     "iopub.status.busy": "2023-07-20T14:58:12.236906Z",
     "iopub.status.idle": "2023-07-20T14:58:12.246587Z",
     "shell.execute_reply": "2023-07-20T14:58:12.245613Z"
    },
    "id": "79ddb7ca",
    "papermill": {
     "duration": 0.01846,
     "end_time": "2023-07-20T14:58:12.248676",
     "exception": false,
     "start_time": "2023-07-20T14:58:12.230216",
     "status": "completed"
    },
    "tags": []
   },
   "outputs": [],
   "source": [
    "class DataGenerator(Sequence):\n",
    "    def __init__(self, data, batch_size):\n",
    "        self.data = data\n",
    "        self.batch_size = batch_size\n",
    "    def __len__(self):\n",
    "        return len(self.data) // self.batch_size\n",
    "\n",
    "    def __getitem__(self, idx):\n",
    "        low = idx * self.batch_size\n",
    "        high = min(low + self.batch_size, len(self.data))\n",
    "        batch_x = []\n",
    "        batch_y = []\n",
    "\n",
    "        for i, data_sample in enumerate(self.data[low:high]):\n",
    "            processed_sample, processed_label = self.preprocess_data(data_sample)\n",
    "            batch_x.append(processed_sample)\n",
    "            batch_y.append(processed_label)\n",
    "\n",
    "\n",
    "        while len(batch_x) < self.batch_size:\n",
    "            random_no = np.random.randint(0,len(self.data))\n",
    "            processed_sample, processed_label = self.preprocess_data(data_sample)\n",
    "            batch_x.append(processed_sample)\n",
    "            batch_y.append(processed_label)\n",
    "\n",
    "        return np.array(batch_x), np.array(batch_y)\n",
    "\n",
    "    def preprocess_data(self, data_sample):\n",
    "        matrix, label = create_matrix(data_sample)\n",
    "        if type(label) == np.ndarray:\n",
    "            label = np.array(label).astype(int)\n",
    "        return matrix , label\n"
   ]
  },
  {
   "cell_type": "markdown",
   "id": "a9d17553",
   "metadata": {
    "id": "5a85a8cb",
    "papermill": {
     "duration": 0.005465,
     "end_time": "2023-07-20T14:58:12.259952",
     "exception": false,
     "start_time": "2023-07-20T14:58:12.254487",
     "status": "completed"
    },
    "tags": []
   },
   "source": [
    "## 4. Model\n",
    "<ul>\n",
    "<li>convolutional layers </li>\n",
    "<li>pooling layers (max pooling) </li>\n",
    "<li>fully connected layers</li>\n",
    "<li>sigmoid layer</li>\n",
    "<li>output positive label probability</li>\n",
    "</ul>"
   ]
  },
  {
   "cell_type": "code",
   "execution_count": 9,
   "id": "7739da66",
   "metadata": {
    "execution": {
     "iopub.execute_input": "2023-07-20T14:58:12.273076Z",
     "iopub.status.busy": "2023-07-20T14:58:12.272459Z",
     "iopub.status.idle": "2023-07-20T14:58:12.277495Z",
     "shell.execute_reply": "2023-07-20T14:58:12.276640Z"
    },
    "id": "fd3c0758",
    "papermill": {
     "duration": 0.014001,
     "end_time": "2023-07-20T14:58:12.279527",
     "exception": false,
     "start_time": "2023-07-20T14:58:12.265526",
     "status": "completed"
    },
    "tags": []
   },
   "outputs": [],
   "source": [
    "label_names = [col for col in train_labels.columns[1:]]"
   ]
  },
  {
   "cell_type": "code",
   "execution_count": 10,
   "id": "3bfe1432",
   "metadata": {
    "execution": {
     "iopub.execute_input": "2023-07-20T14:58:12.292794Z",
     "iopub.status.busy": "2023-07-20T14:58:12.292154Z",
     "iopub.status.idle": "2023-07-20T14:58:12.297010Z",
     "shell.execute_reply": "2023-07-20T14:58:12.296223Z"
    },
    "id": "ff54f238",
    "papermill": {
     "duration": 0.013789,
     "end_time": "2023-07-20T14:58:12.298985",
     "exception": false,
     "start_time": "2023-07-20T14:58:12.285196",
     "status": "completed"
    },
    "tags": []
   },
   "outputs": [],
   "source": [
    "# contants\n",
    "batch_size = 16\n",
    "num_epochs = 75\n",
    "model = None\n",
    "history = None"
   ]
  },
  {
   "cell_type": "code",
   "execution_count": 11,
   "id": "6ed14c53",
   "metadata": {
    "execution": {
     "iopub.execute_input": "2023-07-20T14:58:12.312504Z",
     "iopub.status.busy": "2023-07-20T14:58:12.312037Z",
     "iopub.status.idle": "2023-07-20T14:58:12.320954Z",
     "shell.execute_reply": "2023-07-20T14:58:12.319615Z"
    },
    "id": "kvgA-6pkiHZx",
    "outputId": "8617e103-a597-4aed-f3dc-fa1dc312b91e",
    "papermill": {
     "duration": 0.018507,
     "end_time": "2023-07-20T14:58:12.323205",
     "exception": false,
     "start_time": "2023-07-20T14:58:12.304698",
     "status": "completed"
    },
    "tags": []
   },
   "outputs": [
    {
     "name": "stdout",
     "output_type": "stream",
     "text": [
      "647 162\n"
     ]
    }
   ],
   "source": [
    "training_data = range(809)\n",
    "train_data, val_data = train_test_split(training_data, test_size=0.2, random_state=42)\n",
    "train_data_generator = DataGenerator(train_data, batch_size)\n",
    "val_data_generator = DataGenerator(val_data, batch_size)\n",
    "print(len(train_data), len(val_data))"
   ]
  },
  {
   "cell_type": "code",
   "execution_count": 12,
   "id": "2a499673",
   "metadata": {
    "execution": {
     "iopub.execute_input": "2023-07-20T14:58:12.336775Z",
     "iopub.status.busy": "2023-07-20T14:58:12.336141Z",
     "iopub.status.idle": "2023-07-20T14:58:13.728589Z",
     "shell.execute_reply": "2023-07-20T14:58:13.727252Z"
    },
    "id": "cf2fc727",
    "outputId": "ce65ac22-ecdf-416b-adbf-2dce39ce2ff8",
    "papermill": {
     "duration": 1.409677,
     "end_time": "2023-07-20T14:58:13.738739",
     "exception": false,
     "start_time": "2023-07-20T14:58:12.329062",
     "status": "completed"
    },
    "tags": []
   },
   "outputs": [
    {
     "name": "stdout",
     "output_type": "stream",
     "text": [
      "Model: \"sequential\"\n",
      "_________________________________________________________________\n",
      " Layer (type)                Output Shape              Param #   \n",
      "=================================================================\n",
      " conv2d (Conv2D)             (None, 27, 1400, 32)      3872      \n",
      "                                                                 \n",
      " max_pooling2d (MaxPooling2D  (None, 9, 700, 32)       0         \n",
      " )                                                               \n",
      "                                                                 \n",
      " flatten (Flatten)           (None, 201600)            0         \n",
      "                                                                 \n",
      " dense (Dense)               (None, 512)               103219712 \n",
      "                                                                 \n",
      " dense_1 (Dense)             (None, 128)               65664     \n",
      "                                                                 \n",
      " dense_2 (Dense)             (None, 32)                4128      \n",
      "                                                                 \n",
      " dense_3 (Dense)             (None, 9)                 297       \n",
      "                                                                 \n",
      "=================================================================\n",
      "Total params: 103,293,673\n",
      "Trainable params: 103,293,673\n",
      "Non-trainable params: 0\n",
      "_________________________________________________________________\n"
     ]
    }
   ],
   "source": [
    "model = Sequential()\n",
    "model.add(Conv2D(32, kernel_size = (120,1), padding= 'same',strides = (100,1),activation='relu', input_shape=(num_time_values, num_mass_values, 1)))\n",
    "model.add(MaxPooling2D(pool_size=(3, 2)))\n",
    "\n",
    "model.add(Flatten())\n",
    "\n",
    "model.add(Dense(512, activation='relu'))\n",
    "model.add(Dense(128, activation='relu'))\n",
    "model.add(Dense(32, activation='relu'))\n",
    "model.add(Dense(9, activation='sigmoid'))\n",
    "\n",
    "opt = tf.keras.optimizers.Adam(learning_rate = 0.0001)\n",
    "\n",
    "model.compile(loss=tf.keras.losses.BinaryCrossentropy(), optimizer=opt, metrics=['AUC'])\n",
    "\n",
    "model.summary()"
   ]
  },
  {
   "cell_type": "code",
   "execution_count": 13,
   "id": "f5a1c588",
   "metadata": {
    "execution": {
     "iopub.execute_input": "2023-07-20T14:58:13.755009Z",
     "iopub.status.busy": "2023-07-20T14:58:13.754528Z",
     "iopub.status.idle": "2023-07-20T16:47:31.656917Z",
     "shell.execute_reply": "2023-07-20T16:47:31.653326Z"
    },
    "id": "c3a8f41d",
    "outputId": "aa0ae9b1-811c-499b-ea2b-801b1109e1ed",
    "papermill": {
     "duration": 6557.977841,
     "end_time": "2023-07-20T16:47:31.723888",
     "exception": false,
     "start_time": "2023-07-20T14:58:13.746047",
     "status": "completed"
    },
    "tags": []
   },
   "outputs": [
    {
     "name": "stdout",
     "output_type": "stream",
     "text": [
      "Epoch 1/75\n",
      "40/40 [==============================] - 429s 11s/step - loss: 0.5154 - auc: 0.5907 - val_loss: 0.2938 - val_auc: 0.6907\n",
      "Epoch 2/75\n",
      "40/40 [==============================] - 300s 7s/step - loss: 0.3056 - auc: 0.7146 - val_loss: 0.2499 - val_auc: 0.8178\n",
      "Epoch 3/75\n",
      "40/40 [==============================] - 317s 8s/step - loss: 0.2560 - auc: 0.8283 - val_loss: 0.2216 - val_auc: 0.8692\n",
      "Epoch 4/75\n",
      "40/40 [==============================] - 388s 10s/step - loss: 0.2309 - auc: 0.8703 - val_loss: 0.2104 - val_auc: 0.8938\n",
      "Epoch 5/75\n",
      "40/40 [==============================] - 299s 7s/step - loss: 0.2120 - auc: 0.8954 - val_loss: 0.1983 - val_auc: 0.9013\n",
      "Epoch 6/75\n",
      "40/40 [==============================] - 348s 9s/step - loss: 0.1966 - auc: 0.9186 - val_loss: 0.1880 - val_auc: 0.9100\n",
      "Epoch 7/75\n",
      "40/40 [==============================] - 352s 9s/step - loss: 0.1850 - auc: 0.9311 - val_loss: 0.1797 - val_auc: 0.9210\n",
      "Epoch 8/75\n",
      "40/40 [==============================] - 337s 8s/step - loss: 0.1756 - auc: 0.9372 - val_loss: 0.1756 - val_auc: 0.9277\n",
      "Epoch 9/75\n",
      "40/40 [==============================] - 378s 10s/step - loss: 0.1657 - auc: 0.9465 - val_loss: 0.1737 - val_auc: 0.9303\n",
      "Epoch 10/75\n",
      "40/40 [==============================] - 344s 9s/step - loss: 0.1562 - auc: 0.9527 - val_loss: 0.1690 - val_auc: 0.9336\n",
      "Epoch 11/75\n",
      "40/40 [==============================] - 399s 10s/step - loss: 0.1499 - auc: 0.9566 - val_loss: 0.1715 - val_auc: 0.9316\n",
      "Epoch 12/75\n",
      "40/40 [==============================] - 324s 8s/step - loss: 0.1422 - auc: 0.9618 - val_loss: 0.1692 - val_auc: 0.9350\n",
      "Epoch 13/75\n",
      "40/40 [==============================] - 330s 8s/step - loss: 0.1368 - auc: 0.9632 - val_loss: 0.1665 - val_auc: 0.9352\n",
      "Epoch 14/75\n",
      "40/40 [==============================] - 373s 9s/step - loss: 0.1317 - auc: 0.9675 - val_loss: 0.1735 - val_auc: 0.9294\n",
      "Epoch 15/75\n",
      "40/40 [==============================] - 288s 7s/step - loss: 0.1250 - auc: 0.9704 - val_loss: 0.1700 - val_auc: 0.9335\n",
      "Epoch 16/75\n",
      "40/40 [==============================] - 349s 9s/step - loss: 0.1188 - auc: 0.9729 - val_loss: 0.1757 - val_auc: 0.9281\n",
      "Epoch 17/75\n",
      "40/40 [==============================] - 330s 8s/step - loss: 0.1188 - auc: 0.9728 - val_loss: 0.1821 - val_auc: 0.9307\n",
      "Epoch 18/75\n",
      "40/40 [==============================] - 382s 10s/step - loss: 0.1129 - auc: 0.9761 - val_loss: 0.1740 - val_auc: 0.9332\n"
     ]
    }
   ],
   "source": [
    "es = EarlyStopping(monitor = 'val_loss', patience = 5, restore_best_weights = True)\n",
    "history = model.fit(train_data_generator, epochs=num_epochs, validation_data=val_data_generator, callbacks=[es],verbose = 1)"
   ]
  },
  {
   "cell_type": "code",
   "execution_count": 14,
   "id": "eb967495",
   "metadata": {
    "execution": {
     "iopub.execute_input": "2023-07-20T16:47:31.840109Z",
     "iopub.status.busy": "2023-07-20T16:47:31.838564Z",
     "iopub.status.idle": "2023-07-20T16:47:33.855617Z",
     "shell.execute_reply": "2023-07-20T16:47:33.854148Z"
    },
    "id": "3f2ae88e",
    "papermill": {
     "duration": 2.080379,
     "end_time": "2023-07-20T16:47:33.859130",
     "exception": false,
     "start_time": "2023-07-20T16:47:31.778751",
     "status": "completed"
    },
    "tags": []
   },
   "outputs": [],
   "source": [
    "model.save(\"cnn_model_test.keras\")"
   ]
  },
  {
   "cell_type": "markdown",
   "id": "5dff448f",
   "metadata": {
    "id": "ba71ea10",
    "papermill": {
     "duration": 0.054014,
     "end_time": "2023-07-20T16:47:33.970328",
     "exception": false,
     "start_time": "2023-07-20T16:47:33.916314",
     "status": "completed"
    },
    "tags": []
   },
   "source": [
    "## 5. Performance\n",
    "<ul>\n",
    "<li>train and validation losses</li>\n",
    "</ul>"
   ]
  },
  {
   "cell_type": "code",
   "execution_count": 15,
   "id": "0ef7d8d2",
   "metadata": {
    "execution": {
     "iopub.execute_input": "2023-07-20T16:47:34.082361Z",
     "iopub.status.busy": "2023-07-20T16:47:34.081625Z",
     "iopub.status.idle": "2023-07-20T16:47:34.587440Z",
     "shell.execute_reply": "2023-07-20T16:47:34.586389Z"
    },
    "id": "bc61259e",
    "papermill": {
     "duration": 0.56399,
     "end_time": "2023-07-20T16:47:34.590050",
     "exception": false,
     "start_time": "2023-07-20T16:47:34.026060",
     "status": "completed"
    },
    "tags": []
   },
   "outputs": [
    {
     "data": {
      "image/png": "[encoded data removed]",
      "text/plain": [
       "<Figure size 640x480 with 1 Axes>"
      ]
     },
     "metadata": {},
     "output_type": "display_data"
    }
   ],
   "source": [
    "train_loss = history.history['loss']\n",
    "val_loss = history.history['val_loss']\n",
    "epochs = range(1, len(train_loss) + 1)\n",
    "\n",
    "plt.plot(epochs, train_loss, 'b', label='Training Loss')\n",
    "plt.plot(epochs, val_loss, 'r', label='Validation Loss')\n",
    "plt.title('Training and Validation Loss')\n",
    "plt.xlabel('Epochs')\n",
    "plt.ylabel('Loss')\n",
    "plt.grid()\n",
    "plt.legend()\n",
    "plt.show()\n",
    "\n"
   ]
  },
  {
   "cell_type": "code",
   "execution_count": 16,
   "id": "977f8ae9",
   "metadata": {
    "execution": {
     "iopub.execute_input": "2023-07-20T16:47:34.703945Z",
     "iopub.status.busy": "2023-07-20T16:47:34.703542Z",
     "iopub.status.idle": "2023-07-20T16:51:03.890221Z",
     "shell.execute_reply": "2023-07-20T16:51:03.889070Z"
    },
    "id": "c14289c9",
    "papermill": {
     "duration": 209.251136,
     "end_time": "2023-07-20T16:51:03.896709",
     "exception": false,
     "start_time": "2023-07-20T16:47:34.645573",
     "status": "completed"
    },
    "tags": []
   },
   "outputs": [],
   "source": [
    "y_pred = model.predict(DataGenerator(range(809),1), verbose = 0)"
   ]
  },
  {
   "cell_type": "markdown",
   "id": "7a13c794",
   "metadata": {
    "id": "80af68ce",
    "papermill": {
     "duration": 0.074951,
     "end_time": "2023-07-20T16:51:04.475261",
     "exception": false,
     "start_time": "2023-07-20T16:51:04.400310",
     "status": "completed"
    },
    "tags": []
   },
   "source": [
    "### Classification Reports"
   ]
  },
  {
   "cell_type": "code",
   "execution_count": 17,
   "id": "a421092e",
   "metadata": {
    "execution": {
     "iopub.execute_input": "2023-07-20T16:51:04.609570Z",
     "iopub.status.busy": "2023-07-20T16:51:04.608946Z",
     "iopub.status.idle": "2023-07-20T16:51:04.741548Z",
     "shell.execute_reply": "2023-07-20T16:51:04.740022Z"
    },
    "id": "5ef8f090",
    "papermill": {
     "duration": 0.194963,
     "end_time": "2023-07-20T16:51:04.744171",
     "exception": false,
     "start_time": "2023-07-20T16:51:04.549208",
     "status": "completed"
    },
    "tags": []
   },
   "outputs": [
    {
     "name": "stdout",
     "output_type": "stream",
     "text": [
      "aromatic\n",
      "              precision    recall  f1-score   support\n",
      "\n",
      "           0       0.95      1.00      0.97       730\n",
      "           1       0.93      0.52      0.67        79\n",
      "\n",
      "    accuracy                           0.95       809\n",
      "   macro avg       0.94      0.76      0.82       809\n",
      "weighted avg       0.95      0.95      0.94       809\n",
      "\n",
      "roc_auc_score : 0.9441997572394658\n",
      "log loss      : 0.1543489313753483\n",
      "-------------------------------------------------------------\n",
      "hydrocarbon\n",
      "              precision    recall  f1-score   support\n",
      "\n",
      "           0       0.93      0.94      0.94       544\n",
      "           1       0.87      0.86      0.86       265\n",
      "\n",
      "    accuracy                           0.91       809\n",
      "   macro avg       0.90      0.90      0.90       809\n",
      "weighted avg       0.91      0.91      0.91       809\n",
      "\n",
      "roc_auc_score : 0.9601692563817981\n",
      "log loss      : 0.2456738426384613\n",
      "-------------------------------------------------------------\n",
      "carboxylic_acid\n",
      "              precision    recall  f1-score   support\n",
      "\n",
      "           0       0.94      0.99      0.96       694\n",
      "           1       0.90      0.61      0.73       115\n",
      "\n",
      "    accuracy                           0.93       809\n",
      "   macro avg       0.92      0.80      0.84       809\n",
      "weighted avg       0.93      0.93      0.93       809\n",
      "\n",
      "roc_auc_score : 0.9727352462097482\n",
      "log loss      : 0.15871786524468257\n",
      "-------------------------------------------------------------\n",
      "nitrogen_bearing_compound\n",
      "              precision    recall  f1-score   support\n",
      "\n",
      "           0       0.95      0.99      0.97       713\n",
      "           1       0.89      0.61      0.73        96\n",
      "\n",
      "    accuracy                           0.95       809\n",
      "   macro avg       0.92      0.80      0.85       809\n",
      "weighted avg       0.94      0.95      0.94       809\n",
      "\n",
      "roc_auc_score : 0.9643525011687705\n",
      "log loss      : 0.1496609759593807\n",
      "-------------------------------------------------------------\n",
      "chlorine_bearing_compound\n",
      "              precision    recall  f1-score   support\n",
      "\n",
      "           0       0.98      1.00      0.99       791\n",
      "           1       1.00      0.11      0.20        18\n",
      "\n",
      "    accuracy                           0.98       809\n",
      "   macro avg       0.99      0.56      0.59       809\n",
      "weighted avg       0.98      0.98      0.97       809\n",
      "\n",
      "roc_auc_score : 0.9544177553027109\n",
      "log loss      : 0.059680751162480006\n",
      "-------------------------------------------------------------\n",
      "sulfur_bearing_compound\n",
      "              precision    recall  f1-score   support\n",
      "\n",
      "           0       0.97      1.00      0.98       778\n",
      "           1       0.75      0.10      0.17        31\n",
      "\n",
      "    accuracy                           0.96       809\n",
      "   macro avg       0.86      0.55      0.58       809\n",
      "weighted avg       0.96      0.96      0.95       809\n",
      "\n",
      "roc_auc_score : 0.9667468280951985\n",
      "log loss      : 0.09277334322573692\n",
      "-------------------------------------------------------------\n",
      "alcohol\n",
      "              precision    recall  f1-score   support\n",
      "\n",
      "           0       0.97      1.00      0.98       783\n",
      "           1       1.00      0.04      0.07        26\n",
      "\n",
      "    accuracy                           0.97       809\n",
      "   macro avg       0.98      0.52      0.53       809\n",
      "weighted avg       0.97      0.97      0.96       809\n",
      "\n",
      "roc_auc_score : 0.9613910993221337\n",
      "log loss      : 0.08782608103489765\n",
      "-------------------------------------------------------------\n",
      "other_oxygen_bearing_compound\n",
      "              precision    recall  f1-score   support\n",
      "\n",
      "           0       0.97      1.00      0.99       788\n",
      "           1       0.00      0.00      0.00        21\n",
      "\n",
      "    accuracy                           0.97       809\n",
      "   macro avg       0.49      0.50      0.49       809\n",
      "weighted avg       0.95      0.97      0.96       809\n",
      "\n",
      "roc_auc_score : 0.9306864877930868\n",
      "log loss      : 0.07478678758021744\n",
      "-------------------------------------------------------------\n",
      "mineral\n",
      "              precision    recall  f1-score   support\n",
      "\n",
      "           0       0.93      0.97      0.95       692\n",
      "           1       0.78      0.60      0.68       117\n",
      "\n",
      "    accuracy                           0.92       809\n",
      "   macro avg       0.86      0.78      0.81       809\n",
      "weighted avg       0.91      0.92      0.91       809\n",
      "\n",
      "roc_auc_score : 0.9514352057704659\n",
      "log loss      : 0.19815549611104255\n",
      "-------------------------------------------------------------\n"
     ]
    }
   ],
   "source": [
    "for i in range(9):\n",
    "    y_true_column = train_labels.iloc[:, i+1].values\n",
    "    y_pred_column = y_pred[:, i].round()\n",
    "\n",
    "    report = classification_report(y_true_column, y_pred_column)\n",
    "    print(f\"{label_names[i]}\")\n",
    "    print(report)\n",
    "    print(f\"roc_auc_score : {roc_auc_score(y_true_column, y_pred[:, i])}\")\n",
    "    print(f\"log loss      : {log_loss(y_true_column, y_pred[:, i])}\")\n",
    "\n",
    "    print(\"-------------------------------------------------------------\")\n"
   ]
  },
  {
   "cell_type": "code",
   "execution_count": null,
   "id": "6600808a",
   "metadata": {
    "id": "2c0b5fd1",
    "papermill": {
     "duration": 0.053932,
     "end_time": "2023-07-20T16:51:04.861719",
     "exception": false,
     "start_time": "2023-07-20T16:51:04.807787",
     "status": "completed"
    },
    "tags": []
   },
   "outputs": [],
   "source": []
  }
 ],
 "metadata": {
  "kernelspec": {
   "display_name": "Python 3",
   "language": "python",
   "name": "python3"
  },
  "language_info": {
   "codemirror_mode": {
    "name": "ipython",
    "version": 3
   },
   "file_extension": ".py",
   "mimetype": "text/x-python",
   "name": "python",
   "nbconvert_exporter": "python",
   "pygments_lexer": "ipython3",
   "version": "3.10.12"
  },
  "papermill": {
   "default_parameters": {},
   "duration": 6796.006458,
   "end_time": "2023-07-20T16:51:08.367358",
   "environment_variables": {},
   "exception": null,
   "input_path": "__notebook__.ipynb",
   "output_path": "__notebook__.ipynb",
   "parameters": {},
   "start_time": "2023-07-20T14:57:52.360900",
   "version": "2.4.0"
  }
 },
 "nbformat": 4,
 "nbformat_minor": 5
}
