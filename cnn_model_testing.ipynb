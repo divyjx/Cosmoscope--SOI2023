{
 "cells": [
  {
   "cell_type": "markdown",
   "id": "4d627e3b",
   "metadata": {
    "id": "19a292b6",
    "papermill": {
     "duration": 0.007742,
     "end_time": "2023-07-19T12:10:37.288388",
     "exception": false,
     "start_time": "2023-07-19T12:10:37.280646",
     "status": "completed"
    },
    "tags": []
   },
   "source": [
    "## 1. Data Description\n",
    "<ul>\n",
    "<li>there are 809 training examples</li>\n",
    "<li>each of them is a dataframe with time, mass , and intensity values</li>\n",
    "<li>dataframe lenghts are variable</li>\n",
    "</ul>\n"
   ]
  },
  {
   "cell_type": "code",
   "execution_count": 1,
   "id": "103d214a",
   "metadata": {
    "execution": {
     "iopub.execute_input": "2023-07-19T12:10:37.304840Z",
     "iopub.status.busy": "2023-07-19T12:10:37.304137Z",
     "iopub.status.idle": "2023-07-19T12:10:47.246606Z",
     "shell.execute_reply": "2023-07-19T12:10:47.245696Z"
    },
    "id": "669ca0ad",
    "papermill": {
     "duration": 9.953659,
     "end_time": "2023-07-19T12:10:47.249201",
     "exception": false,
     "start_time": "2023-07-19T12:10:37.295542",
     "status": "completed"
    },
    "tags": []
   },
   "outputs": [],
   "source": [
    "import warnings\n",
    "warnings.filterwarnings('ignore')\n",
    "\n",
    "# for processing numbers and files csv\n",
    "import pandas as pd\n",
    "import numpy as np\n",
    "\n",
    "# for visualization\n",
    "import matplotlib.pyplot as plt\n",
    "%matplotlib inline\n",
    "\n",
    "# preprocessing\n",
    "from sklearn.preprocessing import MinMaxScaler\n",
    "from sklearn.model_selection import train_test_split\n",
    "from sklearn.metrics import classification_report, roc_auc_score, log_loss\n",
    "\n",
    "# model related\n",
    "from tensorflow.keras.callbacks import EarlyStopping\n",
    "from tensorflow.keras.utils import Sequence\n",
    "from tensorflow.keras.models import Sequential\n",
    "from tensorflow.keras.layers import Conv2D, MaxPooling2D, Flatten, Dense\n",
    "\n",
    "import tensorflow as tf\n"
   ]
  },
  {
   "cell_type": "code",
   "execution_count": 2,
   "id": "c828f458",
   "metadata": {
    "execution": {
     "iopub.execute_input": "2023-07-19T12:10:47.265762Z",
     "iopub.status.busy": "2023-07-19T12:10:47.265044Z",
     "iopub.status.idle": "2023-07-19T12:10:47.269658Z",
     "shell.execute_reply": "2023-07-19T12:10:47.268849Z"
    },
    "id": "YIiXAuIFueEv",
    "outputId": "bef609e5-3742-4d4c-8c6f-a12c7ab4bed4",
    "papermill": {
     "duration": 0.014804,
     "end_time": "2023-07-19T12:10:47.271557",
     "exception": false,
     "start_time": "2023-07-19T12:10:47.256753",
     "status": "completed"
    },
    "tags": []
   },
   "outputs": [],
   "source": [
    "# # for working in colab\n",
    "# from google.colab import drive\n",
    "# drive.mount('/content/drive')"
   ]
  },
  {
   "cell_type": "code",
   "execution_count": 3,
   "id": "2beb948e",
   "metadata": {
    "execution": {
     "iopub.execute_input": "2023-07-19T12:10:47.287817Z",
     "iopub.status.busy": "2023-07-19T12:10:47.287259Z",
     "iopub.status.idle": "2023-07-19T12:10:47.304607Z",
     "shell.execute_reply": "2023-07-19T12:10:47.303520Z"
    },
    "id": "3c287e18",
    "outputId": "0307db73-26a6-46e2-f685-979a2b58476d",
    "papermill": {
     "duration": 0.028001,
     "end_time": "2023-07-19T12:10:47.306890",
     "exception": false,
     "start_time": "2023-07-19T12:10:47.278889",
     "status": "completed"
    },
    "tags": []
   },
   "outputs": [
    {
     "data": {
      "text/plain": [
       "False"
      ]
     },
     "execution_count": 3,
     "metadata": {},
     "output_type": "execute_result"
    }
   ],
   "source": [
    "#for gpu\n",
    "tf.test.is_gpu_available()"
   ]
  },
  {
   "cell_type": "code",
   "execution_count": 4,
   "id": "78ca60dc",
   "metadata": {
    "execution": {
     "iopub.execute_input": "2023-07-19T12:10:47.323575Z",
     "iopub.status.busy": "2023-07-19T12:10:47.323217Z",
     "iopub.status.idle": "2023-07-19T12:10:47.328093Z",
     "shell.execute_reply": "2023-07-19T12:10:47.326965Z"
    },
    "id": "815d00ae",
    "papermill": {
     "duration": 0.015849,
     "end_time": "2023-07-19T12:10:47.330259",
     "exception": false,
     "start_time": "2023-07-19T12:10:47.314410",
     "status": "completed"
    },
    "tags": []
   },
   "outputs": [],
   "source": [
    "# for working in kaggle use this paths\n",
    "kag_path_in = \"/kaggle/input/mars-spec-train/\"\n",
    "kag_path_out = \"/kaggle/working/\"\n",
    "\n",
    "# # for working in colab  \n",
    "# kag_path_in = \"/content/drive/MyDrive/\" # google drive\n",
    "# kag_path_out = \"\"\n",
    "\n",
    "# add custom paths here (uncomment)\n",
    "# kag_path_in = \"\"\n",
    "# kag_path_out = \"\""
   ]
  },
  {
   "cell_type": "code",
   "execution_count": 5,
   "id": "aa128d4d",
   "metadata": {
    "execution": {
     "iopub.execute_input": "2023-07-19T12:10:47.347299Z",
     "iopub.status.busy": "2023-07-19T12:10:47.346425Z",
     "iopub.status.idle": "2023-07-19T12:10:47.396900Z",
     "shell.execute_reply": "2023-07-19T12:10:47.396109Z"
    },
    "id": "97f3d01c",
    "papermill": {
     "duration": 0.061255,
     "end_time": "2023-07-19T12:10:47.399148",
     "exception": false,
     "start_time": "2023-07-19T12:10:47.337893",
     "status": "completed"
    },
    "tags": []
   },
   "outputs": [],
   "source": [
    "# metadata = pd.read_csv('/kaggle/input/mars-spec-train/metadata.csv').fillna(0)\n",
    "# train_labels = pd.read_csv('/kaggle/input/mars-spec-train/train_labels.csv')\n",
    "metadata = pd.read_csv(kag_path_in+'metadata.csv').fillna(0)\n",
    "train_labels = pd.read_csv(kag_path_in+'train_labels.csv')"
   ]
  },
  {
   "cell_type": "markdown",
   "id": "418871f1",
   "metadata": {
    "id": "d6089094",
    "papermill": {
     "duration": 0.007231,
     "end_time": "2023-07-19T12:10:47.413544",
     "exception": false,
     "start_time": "2023-07-19T12:10:47.406313",
     "status": "completed"
    },
    "tags": []
   },
   "source": [
    "## 2. Preprocessing and Feature extraction\n",
    "<ul>\n",
    "<li>mass values are grouped into values seperated by 0.50 </li>\n",
    "<li>time values are grouped into values seperated by 0.02 </li>\n",
    "<li>Time * Mass matrix (2700,1400) with Intensity values </li>\n",
    "</ul>"
   ]
  },
  {
   "cell_type": "code",
   "execution_count": 6,
   "id": "3b39a6fd",
   "metadata": {
    "execution": {
     "iopub.execute_input": "2023-07-19T12:10:47.430006Z",
     "iopub.status.busy": "2023-07-19T12:10:47.429623Z",
     "iopub.status.idle": "2023-07-19T12:10:47.434322Z",
     "shell.execute_reply": "2023-07-19T12:10:47.433243Z"
    },
    "id": "39247504",
    "papermill": {
     "duration": 0.015521,
     "end_time": "2023-07-19T12:10:47.436515",
     "exception": false,
     "start_time": "2023-07-19T12:10:47.420994",
     "status": "completed"
    },
    "tags": []
   },
   "outputs": [],
   "source": [
    "# constants\n",
    "num_mass_values = 1400\n",
    "num_time_values = 2700\n",
    "matrix_shape = (num_time_values, num_mass_values)"
   ]
  },
  {
   "cell_type": "code",
   "execution_count": 7,
   "id": "bf525977",
   "metadata": {
    "execution": {
     "iopub.execute_input": "2023-07-19T12:10:47.454613Z",
     "iopub.status.busy": "2023-07-19T12:10:47.454236Z",
     "iopub.status.idle": "2023-07-19T12:10:47.462931Z",
     "shell.execute_reply": "2023-07-19T12:10:47.461733Z"
    },
    "id": "174557ea",
    "papermill": {
     "duration": 0.019813,
     "end_time": "2023-07-19T12:10:47.464984",
     "exception": false,
     "start_time": "2023-07-19T12:10:47.445171",
     "status": "completed"
    },
    "tags": []
   },
   "outputs": [],
   "source": [
    "\n",
    "# Function to create the Time X Mass matrix for a single data sample\n",
    "def create_matrix(id):\n",
    "\n",
    "    sample_id, split, derivate, path, _ = metadata.iloc[id]\n",
    "    data = pd.read_csv(kag_path_in+path)\n",
    "\n",
    "    label = None\n",
    "    if (split == 'train'):\n",
    "        label = train_labels.iloc[id].values[1:]\n",
    "\n",
    "    # discretization of time and mass\n",
    "    data.time = (data.time*50).round()\n",
    "    data.mass = (data.mass*2).round()\n",
    "    data.time = data.time.astype(int)\n",
    "    data.mass = data.mass.astype(int)\n",
    "\n",
    "    # scaling intensity\n",
    "    data.intensity = MinMaxScaler().fit_transform(data.intensity.values.reshape(-1, 1))\n",
    "\n",
    "    # filling matrix\n",
    "    matrix = np.zeros(matrix_shape)\n",
    "    matrix[data['time'],data['mass']] = data['intensity']\n",
    "\n",
    "    return matrix , label\n"
   ]
  },
  {
   "cell_type": "markdown",
   "id": "0899bad7",
   "metadata": {
    "id": "490a30fa",
    "papermill": {
     "duration": 0.00718,
     "end_time": "2023-07-19T12:10:47.479263",
     "exception": false,
     "start_time": "2023-07-19T12:10:47.472083",
     "status": "completed"
    },
    "tags": []
   },
   "source": [
    "## 3. Data Generation\n",
    "<ul>\n",
    "<li>Storing data matrix is costly</li>\n",
    "<li>data is generated in batches</li>\n",
    "</ul>\n"
   ]
  },
  {
   "cell_type": "code",
   "execution_count": 8,
   "id": "bf0e5f7c",
   "metadata": {
    "execution": {
     "iopub.execute_input": "2023-07-19T12:10:47.495028Z",
     "iopub.status.busy": "2023-07-19T12:10:47.494611Z",
     "iopub.status.idle": "2023-07-19T12:10:47.505341Z",
     "shell.execute_reply": "2023-07-19T12:10:47.504348Z"
    },
    "id": "79ddb7ca",
    "papermill": {
     "duration": 0.021089,
     "end_time": "2023-07-19T12:10:47.507441",
     "exception": false,
     "start_time": "2023-07-19T12:10:47.486352",
     "status": "completed"
    },
    "tags": []
   },
   "outputs": [],
   "source": [
    "class DataGenerator(Sequence):\n",
    "    def __init__(self, data, batch_size):\n",
    "        self.data = data\n",
    "        self.batch_size = batch_size\n",
    "    def __len__(self):\n",
    "        return len(self.data) // self.batch_size\n",
    "\n",
    "    def __getitem__(self, idx):\n",
    "        low = idx * self.batch_size\n",
    "        high = min(low + self.batch_size, len(self.data))\n",
    "        batch_x = []\n",
    "        batch_y = []\n",
    "\n",
    "        for i, data_sample in enumerate(self.data[low:high]):\n",
    "            processed_sample, processed_label = self.preprocess_data(data_sample)\n",
    "            batch_x.append(processed_sample)\n",
    "            batch_y.append(processed_label)\n",
    "\n",
    "\n",
    "        while len(batch_x) < self.batch_size:\n",
    "            random_no = np.random.randint(0,len(self.data))\n",
    "            processed_sample, processed_label = self.preprocess_data(data_sample)\n",
    "            batch_x.append(processed_sample)\n",
    "            batch_y.append(processed_label)\n",
    "\n",
    "        return np.array(batch_x), np.array(batch_y)\n",
    "\n",
    "    def preprocess_data(self, data_sample):\n",
    "        matrix, label = create_matrix(data_sample)\n",
    "        if type(label) == np.ndarray:\n",
    "            label = np.array(label).astype(int)\n",
    "        return matrix , label\n"
   ]
  },
  {
   "cell_type": "markdown",
   "id": "dad81f04",
   "metadata": {
    "id": "5a85a8cb",
    "papermill": {
     "duration": 0.007407,
     "end_time": "2023-07-19T12:10:47.522181",
     "exception": false,
     "start_time": "2023-07-19T12:10:47.514774",
     "status": "completed"
    },
    "tags": []
   },
   "source": [
    "## 4. Model\n",
    "<ul>\n",
    "<li>convolutional layers </li>\n",
    "<li>pooling layers (max pooling) </li>\n",
    "<li>fully connected layers</li>\n",
    "<li>sigmoid layer</li>\n",
    "<li>output positive label probability</li>\n",
    "</ul>"
   ]
  },
  {
   "cell_type": "code",
   "execution_count": 9,
   "id": "a7e54e8d",
   "metadata": {
    "execution": {
     "iopub.execute_input": "2023-07-19T12:10:47.539732Z",
     "iopub.status.busy": "2023-07-19T12:10:47.538842Z",
     "iopub.status.idle": "2023-07-19T12:10:47.544150Z",
     "shell.execute_reply": "2023-07-19T12:10:47.543327Z"
    },
    "id": "fd3c0758",
    "papermill": {
     "duration": 0.016726,
     "end_time": "2023-07-19T12:10:47.546401",
     "exception": false,
     "start_time": "2023-07-19T12:10:47.529675",
     "status": "completed"
    },
    "tags": []
   },
   "outputs": [],
   "source": [
    "label_names = [col for col in train_labels.columns[1:]]"
   ]
  },
  {
   "cell_type": "code",
   "execution_count": 10,
   "id": "7f29cc8a",
   "metadata": {
    "execution": {
     "iopub.execute_input": "2023-07-19T12:10:47.563569Z",
     "iopub.status.busy": "2023-07-19T12:10:47.562795Z",
     "iopub.status.idle": "2023-07-19T12:10:47.567695Z",
     "shell.execute_reply": "2023-07-19T12:10:47.566955Z"
    },
    "id": "ff54f238",
    "papermill": {
     "duration": 0.015892,
     "end_time": "2023-07-19T12:10:47.569996",
     "exception": false,
     "start_time": "2023-07-19T12:10:47.554104",
     "status": "completed"
    },
    "tags": []
   },
   "outputs": [],
   "source": [
    "# contants\n",
    "batch_size = 16\n",
    "num_epochs = 75\n",
    "model = None\n",
    "history = None"
   ]
  },
  {
   "cell_type": "code",
   "execution_count": 11,
   "id": "a1cfb0f5",
   "metadata": {
    "execution": {
     "iopub.execute_input": "2023-07-19T12:10:47.586879Z",
     "iopub.status.busy": "2023-07-19T12:10:47.586227Z",
     "iopub.status.idle": "2023-07-19T12:10:47.594360Z",
     "shell.execute_reply": "2023-07-19T12:10:47.592980Z"
    },
    "id": "kvgA-6pkiHZx",
    "outputId": "8617e103-a597-4aed-f3dc-fa1dc312b91e",
    "papermill": {
     "duration": 0.018913,
     "end_time": "2023-07-19T12:10:47.596629",
     "exception": false,
     "start_time": "2023-07-19T12:10:47.577716",
     "status": "completed"
    },
    "tags": []
   },
   "outputs": [
    {
     "name": "stdout",
     "output_type": "stream",
     "text": [
      "647 162\n"
     ]
    }
   ],
   "source": [
    "training_data = range(809)\n",
    "train_data, val_data = train_test_split(training_data, test_size=0.2, random_state=42)\n",
    "train_data_generator = DataGenerator(train_data, batch_size)\n",
    "val_data_generator = DataGenerator(val_data, batch_size)\n",
    "print(len(train_data), len(val_data))"
   ]
  },
  {
   "cell_type": "code",
   "execution_count": 12,
   "id": "bc5236b3",
   "metadata": {
    "execution": {
     "iopub.execute_input": "2023-07-19T12:10:47.613361Z",
     "iopub.status.busy": "2023-07-19T12:10:47.613016Z",
     "iopub.status.idle": "2023-07-19T12:10:47.920845Z",
     "shell.execute_reply": "2023-07-19T12:10:47.920019Z"
    },
    "id": "cf2fc727",
    "outputId": "ce65ac22-ecdf-416b-adbf-2dce39ce2ff8",
    "papermill": {
     "duration": 0.326652,
     "end_time": "2023-07-19T12:10:47.930861",
     "exception": false,
     "start_time": "2023-07-19T12:10:47.604209",
     "status": "completed"
    },
    "tags": []
   },
   "outputs": [
    {
     "name": "stdout",
     "output_type": "stream",
     "text": [
      "Model: \"sequential\"\n",
      "_________________________________________________________________\n",
      " Layer (type)                Output Shape              Param #   \n",
      "=================================================================\n",
      " conv2d (Conv2D)             (None, 27, 1400, 32)      3872      \n",
      "                                                                 \n",
      " max_pooling2d (MaxPooling2D  (None, 3, 700, 32)       0         \n",
      " )                                                               \n",
      "                                                                 \n",
      " flatten (Flatten)           (None, 67200)             0         \n",
      "                                                                 \n",
      " dense (Dense)               (None, 128)               8601728   \n",
      "                                                                 \n",
      " dense_1 (Dense)             (None, 64)                8256      \n",
      "                                                                 \n",
      " dense_2 (Dense)             (None, 9)                 585       \n",
      "                                                                 \n",
      "=================================================================\n",
      "Total params: 8,614,441\n",
      "Trainable params: 8,614,441\n",
      "Non-trainable params: 0\n",
      "_________________________________________________________________\n"
     ]
    }
   ],
   "source": [
    "model = Sequential()\n",
    "model.add(Conv2D(32, kernel_size = (120,1), padding= 'same',strides = (100,1),activation='relu', input_shape=(num_time_values, num_mass_values, 1)))\n",
    "model.add(MaxPooling2D(pool_size=(9, 2)))\n",
    "\n",
    "model.add(Flatten())\n",
    "\n",
    "model.add(Dense(128, activation='relu'))\n",
    "model.add(Dense(64, activation='relu'))\n",
    "model.add(Dense(9, activation='sigmoid'))\n",
    "\n",
    "opt = tf.keras.optimizers.Adam(learning_rate = 0.0001)\n",
    "\n",
    "model.compile(loss=tf.keras.losses.BinaryCrossentropy(from_logits=True), optimizer=opt, metrics=['AUC']) # from logits = true\n",
    "\n",
    "model.summary()"
   ]
  },
  {
   "cell_type": "code",
   "execution_count": 13,
   "id": "a9f6f9b0",
   "metadata": {
    "execution": {
     "iopub.execute_input": "2023-07-19T12:10:47.952079Z",
     "iopub.status.busy": "2023-07-19T12:10:47.951689Z",
     "iopub.status.idle": "2023-07-19T14:11:19.259838Z",
     "shell.execute_reply": "2023-07-19T14:11:19.253977Z"
    },
    "id": "c3a8f41d",
    "outputId": "aa0ae9b1-811c-499b-ea2b-801b1109e1ed",
    "papermill": {
     "duration": 7231.398293,
     "end_time": "2023-07-19T14:11:19.338893",
     "exception": false,
     "start_time": "2023-07-19T12:10:47.940600",
     "status": "completed"
    },
    "tags": []
   },
   "outputs": [
    {
     "name": "stdout",
     "output_type": "stream",
     "text": [
      "Epoch 1/75\n",
      "40/40 [==============================] - 435s 11s/step - loss: 0.5736 - auc: 0.5422 - val_loss: 0.3265 - val_auc: 0.6887\n",
      "Epoch 2/75\n",
      "40/40 [==============================] - 320s 8s/step - loss: 0.3113 - auc: 0.7022 - val_loss: 0.2686 - val_auc: 0.7774\n",
      "Epoch 3/75\n",
      "40/40 [==============================] - 378s 10s/step - loss: 0.2776 - auc: 0.7959 - val_loss: 0.2436 - val_auc: 0.8293\n",
      "Epoch 4/75\n",
      "40/40 [==============================] - 294s 7s/step - loss: 0.2543 - auc: 0.8400 - val_loss: 0.2315 - val_auc: 0.8588\n",
      "Epoch 5/75\n",
      "40/40 [==============================] - 310s 8s/step - loss: 0.2367 - auc: 0.8706 - val_loss: 0.2184 - val_auc: 0.8746\n",
      "Epoch 6/75\n",
      "40/40 [==============================] - 277s 7s/step - loss: 0.2252 - auc: 0.8860 - val_loss: 0.2149 - val_auc: 0.8833\n",
      "Epoch 7/75\n",
      "40/40 [==============================] - 350s 9s/step - loss: 0.2172 - auc: 0.8968 - val_loss: 0.2070 - val_auc: 0.8956\n",
      "Epoch 8/75\n",
      "40/40 [==============================] - 300s 7s/step - loss: 0.2088 - auc: 0.9060 - val_loss: 0.2035 - val_auc: 0.8972\n",
      "Epoch 9/75\n",
      "40/40 [==============================] - 392s 10s/step - loss: 0.2016 - auc: 0.9158 - val_loss: 0.1985 - val_auc: 0.9041\n",
      "Epoch 10/75\n",
      "40/40 [==============================] - 351s 9s/step - loss: 0.1955 - auc: 0.9230 - val_loss: 0.1936 - val_auc: 0.9117\n",
      "Epoch 11/75\n",
      "40/40 [==============================] - 316s 8s/step - loss: 0.1872 - auc: 0.9326 - val_loss: 0.1929 - val_auc: 0.9158\n",
      "Epoch 12/75\n",
      "40/40 [==============================] - 373s 9s/step - loss: 0.1827 - auc: 0.9378 - val_loss: 0.1870 - val_auc: 0.9190\n",
      "Epoch 13/75\n",
      "40/40 [==============================] - 285s 7s/step - loss: 0.1781 - auc: 0.9406 - val_loss: 0.1832 - val_auc: 0.9232\n",
      "Epoch 14/75\n",
      "40/40 [==============================] - 358s 9s/step - loss: 0.1714 - auc: 0.9465 - val_loss: 0.1829 - val_auc: 0.9225\n",
      "Epoch 15/75\n",
      "40/40 [==============================] - 304s 8s/step - loss: 0.1681 - auc: 0.9457 - val_loss: 0.1802 - val_auc: 0.9289\n",
      "Epoch 16/75\n",
      "40/40 [==============================] - 350s 9s/step - loss: 0.1637 - auc: 0.9502 - val_loss: 0.1725 - val_auc: 0.9320\n",
      "Epoch 17/75\n",
      "40/40 [==============================] - 341s 9s/step - loss: 0.1590 - auc: 0.9528 - val_loss: 0.1735 - val_auc: 0.9322\n",
      "Epoch 18/75\n",
      "40/40 [==============================] - 372s 9s/step - loss: 0.1552 - auc: 0.9553 - val_loss: 0.1688 - val_auc: 0.9351\n",
      "Epoch 19/75\n",
      "40/40 [==============================] - 387s 10s/step - loss: 0.1498 - auc: 0.9585 - val_loss: 0.1767 - val_auc: 0.9340\n",
      "Epoch 20/75\n",
      "40/40 [==============================] - 341s 9s/step - loss: 0.1476 - auc: 0.9601 - val_loss: 0.1692 - val_auc: 0.9344\n"
     ]
    }
   ],
   "source": [
    "es = EarlyStopping(monitor = 'val_loss', patience = 2, restore_best_weights = True  )\n",
    "history = model.fit(train_data_generator, epochs=num_epochs, validation_data=val_data_generator, callbacks=[es],verbose = 1)"
   ]
  },
  {
   "cell_type": "code",
   "execution_count": 14,
   "id": "66a2cb6d",
   "metadata": {
    "execution": {
     "iopub.execute_input": "2023-07-19T14:11:19.515650Z",
     "iopub.status.busy": "2023-07-19T14:11:19.514243Z",
     "iopub.status.idle": "2023-07-19T14:11:19.854384Z",
     "shell.execute_reply": "2023-07-19T14:11:19.853413Z"
    },
    "id": "3f2ae88e",
    "papermill": {
     "duration": 0.433094,
     "end_time": "2023-07-19T14:11:19.857187",
     "exception": false,
     "start_time": "2023-07-19T14:11:19.424093",
     "status": "completed"
    },
    "tags": []
   },
   "outputs": [],
   "source": [
    "model.save(\"cnn_model_test.keras\")"
   ]
  },
  {
   "cell_type": "markdown",
   "id": "b359064b",
   "metadata": {
    "id": "ba71ea10",
    "papermill": {
     "duration": 0.083093,
     "end_time": "2023-07-19T14:11:20.022957",
     "exception": false,
     "start_time": "2023-07-19T14:11:19.939864",
     "status": "completed"
    },
    "tags": []
   },
   "source": [
    "## 5. Performance\n",
    "<ul>\n",
    "<li>train and validation losses</li>\n",
    "</ul>"
   ]
  },
  {
   "cell_type": "code",
   "execution_count": 15,
   "id": "e763ecb5",
   "metadata": {
    "execution": {
     "iopub.execute_input": "2023-07-19T14:11:20.189372Z",
     "iopub.status.busy": "2023-07-19T14:11:20.188959Z",
     "iopub.status.idle": "2023-07-19T14:11:20.708378Z",
     "shell.execute_reply": "2023-07-19T14:11:20.707368Z"
    },
    "id": "bc61259e",
    "papermill": {
     "duration": 0.604935,
     "end_time": "2023-07-19T14:11:20.711398",
     "exception": false,
     "start_time": "2023-07-19T14:11:20.106463",
     "status": "completed"
    },
    "tags": []
   },
   "outputs": [
    {
     "data": {
      "image/png": "[encoded data removed]",
      "text/plain": [
       "<Figure size 640x480 with 1 Axes>"
      ]
     },
     "metadata": {},
     "output_type": "display_data"
    }
   ],
   "source": [
    "train_loss = history.history['loss']\n",
    "val_loss = history.history['val_loss']\n",
    "epochs = range(1, len(train_loss) + 1)\n",
    "\n",
    "plt.plot(epochs, train_loss, 'b', label='Training Loss')\n",
    "plt.plot(epochs, val_loss, 'r', label='Validation Loss')\n",
    "plt.title('Training and Validation Loss')\n",
    "plt.xlabel('Epochs')\n",
    "plt.ylabel('Loss')\n",
    "plt.grid()\n",
    "plt.legend()\n",
    "plt.show()\n",
    "\n"
   ]
  },
  {
   "cell_type": "code",
   "execution_count": 16,
   "id": "b1857e2d",
   "metadata": {
    "execution": {
     "iopub.execute_input": "2023-07-19T14:11:20.885051Z",
     "iopub.status.busy": "2023-07-19T14:11:20.884662Z",
     "iopub.status.idle": "2023-07-19T14:16:31.631148Z",
     "shell.execute_reply": "2023-07-19T14:16:31.629664Z"
    },
    "id": "c14289c9",
    "papermill": {
     "duration": 310.838087,
     "end_time": "2023-07-19T14:16:31.635189",
     "exception": false,
     "start_time": "2023-07-19T14:11:20.797102",
     "status": "completed"
    },
    "tags": []
   },
   "outputs": [],
   "source": [
    "y_pred = model.predict(DataGenerator(range(809),1), verbose = 0)"
   ]
  },
  {
   "cell_type": "markdown",
   "id": "97746404",
   "metadata": {
    "id": "80af68ce",
    "papermill": {
     "duration": 0.081549,
     "end_time": "2023-07-19T14:16:31.802000",
     "exception": false,
     "start_time": "2023-07-19T14:16:31.720451",
     "status": "completed"
    },
    "tags": []
   },
   "source": [
    "### Classification Reports"
   ]
  },
  {
   "cell_type": "code",
   "execution_count": 17,
   "id": "fdd02a1a",
   "metadata": {
    "execution": {
     "iopub.execute_input": "2023-07-19T14:16:31.971949Z",
     "iopub.status.busy": "2023-07-19T14:16:31.971229Z",
     "iopub.status.idle": "2023-07-19T14:16:32.104058Z",
     "shell.execute_reply": "2023-07-19T14:16:32.102976Z"
    },
    "id": "5ef8f090",
    "papermill": {
     "duration": 0.223385,
     "end_time": "2023-07-19T14:16:32.107001",
     "exception": false,
     "start_time": "2023-07-19T14:16:31.883616",
     "status": "completed"
    },
    "tags": []
   },
   "outputs": [
    {
     "name": "stdout",
     "output_type": "stream",
     "text": [
      "aromatic\n",
      "              precision    recall  f1-score   support\n",
      "\n",
      "           0       0.94      0.99      0.97       730\n",
      "           1       0.89      0.42      0.57        79\n",
      "\n",
      "    accuracy                           0.94       809\n",
      "   macro avg       0.92      0.71      0.77       809\n",
      "weighted avg       0.94      0.94      0.93       809\n",
      "\n",
      "roc_auc_score : 0.9362580197676434\n",
      "log loss      : 0.1692658447871921\n",
      "-------------------------------------------------------------\n",
      "hydrocarbon\n",
      "              precision    recall  f1-score   support\n",
      "\n",
      "           0       0.92      0.94      0.93       544\n",
      "           1       0.88      0.84      0.86       265\n",
      "\n",
      "    accuracy                           0.91       809\n",
      "   macro avg       0.90      0.89      0.89       809\n",
      "weighted avg       0.91      0.91      0.91       809\n",
      "\n",
      "roc_auc_score : 0.9564164816870144\n",
      "log loss      : 0.25777725122789535\n",
      "-------------------------------------------------------------\n",
      "carboxylic_acid\n",
      "              precision    recall  f1-score   support\n",
      "\n",
      "           0       0.90      0.98      0.94       694\n",
      "           1       0.80      0.37      0.51       115\n",
      "\n",
      "    accuracy                           0.90       809\n",
      "   macro avg       0.85      0.68      0.73       809\n",
      "weighted avg       0.89      0.90      0.88       809\n",
      "\n",
      "roc_auc_score : 0.9323267760932215\n",
      "log loss      : 0.22159926123036552\n",
      "-------------------------------------------------------------\n",
      "nitrogen_bearing_compound\n",
      "              precision    recall  f1-score   support\n",
      "\n",
      "           0       0.93      0.99      0.96       713\n",
      "           1       0.81      0.44      0.57        96\n",
      "\n",
      "    accuracy                           0.92       809\n",
      "   macro avg       0.87      0.71      0.76       809\n",
      "weighted avg       0.91      0.92      0.91       809\n",
      "\n",
      "roc_auc_score : 0.9420874240299205\n",
      "log loss      : 0.18913844982141134\n",
      "-------------------------------------------------------------\n",
      "chlorine_bearing_compound\n",
      "              precision    recall  f1-score   support\n",
      "\n",
      "           0       0.98      1.00      0.99       791\n",
      "           1       0.83      0.28      0.42        18\n",
      "\n",
      "    accuracy                           0.98       809\n",
      "   macro avg       0.91      0.64      0.70       809\n",
      "weighted avg       0.98      0.98      0.98       809\n",
      "\n",
      "roc_auc_score : 0.9661469307487006\n",
      "log loss      : 0.05578165883392315\n",
      "-------------------------------------------------------------\n",
      "sulfur_bearing_compound\n",
      "              precision    recall  f1-score   support\n",
      "\n",
      "           0       0.97      1.00      0.98       778\n",
      "           1       0.75      0.19      0.31        31\n",
      "\n",
      "    accuracy                           0.97       809\n",
      "   macro avg       0.86      0.60      0.65       809\n",
      "weighted avg       0.96      0.97      0.96       809\n",
      "\n",
      "roc_auc_score : 0.9390082096359565\n",
      "log loss      : 0.10009975222962438\n",
      "-------------------------------------------------------------\n",
      "alcohol\n",
      "              precision    recall  f1-score   support\n",
      "\n",
      "           0       0.97      1.00      0.98       783\n",
      "           1       0.67      0.08      0.14        26\n",
      "\n",
      "    accuracy                           0.97       809\n",
      "   macro avg       0.82      0.54      0.56       809\n",
      "weighted avg       0.96      0.97      0.96       809\n",
      "\n",
      "roc_auc_score : 0.9177718832891246\n",
      "log loss      : 0.09350113438296384\n",
      "-------------------------------------------------------------\n",
      "other_oxygen_bearing_compound\n",
      "              precision    recall  f1-score   support\n",
      "\n",
      "           0       0.98      1.00      0.99       788\n",
      "           1       1.00      0.05      0.09        21\n",
      "\n",
      "    accuracy                           0.98       809\n",
      "   macro avg       0.99      0.52      0.54       809\n",
      "weighted avg       0.98      0.98      0.96       809\n",
      "\n",
      "roc_auc_score : 0.9438602852308436\n",
      "log loss      : 0.07136142027301197\n",
      "-------------------------------------------------------------\n",
      "mineral\n",
      "              precision    recall  f1-score   support\n",
      "\n",
      "           0       0.92      0.98      0.95       692\n",
      "           1       0.83      0.49      0.61       117\n",
      "\n",
      "    accuracy                           0.91       809\n",
      "   macro avg       0.87      0.73      0.78       809\n",
      "weighted avg       0.91      0.91      0.90       809\n",
      "\n",
      "roc_auc_score : 0.9416036757077221\n",
      "log loss      : 0.21297974267285363\n",
      "-------------------------------------------------------------\n"
     ]
    }
   ],
   "source": [
    "for i in range(9):\n",
    "    y_true_column = train_labels.iloc[:, i+1].values\n",
    "    y_pred_column = y_pred[:, i].round()\n",
    "\n",
    "    report = classification_report(y_true_column, y_pred_column)\n",
    "    print(f\"{label_names[i]}\")\n",
    "    print(report)\n",
    "    print(f\"roc_auc_score : {roc_auc_score(y_true_column, y_pred[:, i])}\")\n",
    "    print(f\"log loss      : {log_loss(y_true_column, y_pred[:, i])}\")\n",
    "\n",
    "    print(\"-------------------------------------------------------------\")\n"
   ]
  },
  {
   "cell_type": "code",
   "execution_count": null,
   "id": "a4f1818a",
   "metadata": {
    "id": "2c0b5fd1",
    "papermill": {
     "duration": 0.082713,
     "end_time": "2023-07-19T14:16:32.272467",
     "exception": false,
     "start_time": "2023-07-19T14:16:32.189754",
     "status": "completed"
    },
    "tags": []
   },
   "outputs": [],
   "source": []
  }
 ],
 "metadata": {
  "kernelspec": {
   "display_name": "Python 3",
   "language": "python",
   "name": "python3"
  },
  "language_info": {
   "codemirror_mode": {
    "name": "ipython",
    "version": 3
   },
   "file_extension": ".py",
   "mimetype": "text/x-python",
   "name": "python",
   "nbconvert_exporter": "python",
   "pygments_lexer": "ipython3",
   "version": "3.10.12"
  },
  "papermill": {
   "default_parameters": {},
   "duration": 7568.583832,
   "end_time": "2023-07-19T14:16:35.433015",
   "environment_variables": {},
   "exception": null,
   "input_path": "__notebook__.ipynb",
   "output_path": "__notebook__.ipynb",
   "parameters": {},
   "start_time": "2023-07-19T12:10:26.849183",
   "version": "2.4.0"
  }
 },
 "nbformat": 4,
 "nbformat_minor": 5
}
