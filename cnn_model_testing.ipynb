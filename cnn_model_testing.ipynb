{
 "cells": [
  {
   "cell_type": "markdown",
   "id": "089d8ee8",
   "metadata": {
    "id": "19a292b6",
    "papermill": {
     "duration": 0.008741,
     "end_time": "2023-07-20T08:33:28.137013",
     "exception": false,
     "start_time": "2023-07-20T08:33:28.128272",
     "status": "completed"
    },
    "tags": []
   },
   "source": [
    "## 1. Data Description\n",
    "<ul>\n",
    "<li>there are 809 training examples</li>\n",
    "<li>each of them is a dataframe with time, mass , and intensity values</li>\n",
    "<li>dataframe lenghts are variable</li>\n",
    "</ul>\n"
   ]
  },
  {
   "cell_type": "code",
   "execution_count": 1,
   "id": "6fd41d2e",
   "metadata": {
    "execution": {
     "iopub.execute_input": "2023-07-20T08:33:28.154957Z",
     "iopub.status.busy": "2023-07-20T08:33:28.154442Z",
     "iopub.status.idle": "2023-07-20T08:33:39.393654Z",
     "shell.execute_reply": "2023-07-20T08:33:39.392457Z"
    },
    "id": "669ca0ad",
    "papermill": {
     "duration": 11.251618,
     "end_time": "2023-07-20T08:33:39.396545",
     "exception": false,
     "start_time": "2023-07-20T08:33:28.144927",
     "status": "completed"
    },
    "tags": []
   },
   "outputs": [],
   "source": [
    "import warnings\n",
    "warnings.filterwarnings('ignore')\n",
    "\n",
    "# for processing numbers and files csv\n",
    "import pandas as pd\n",
    "import numpy as np\n",
    "\n",
    "# for visualization\n",
    "import matplotlib.pyplot as plt\n",
    "%matplotlib inline\n",
    "\n",
    "# preprocessing\n",
    "from sklearn.preprocessing import MinMaxScaler\n",
    "from sklearn.model_selection import train_test_split\n",
    "from sklearn.metrics import classification_report, roc_auc_score, log_loss\n",
    "\n",
    "# model related\n",
    "from tensorflow.keras.callbacks import EarlyStopping\n",
    "from tensorflow.keras.utils import Sequence\n",
    "from tensorflow.keras.models import Sequential\n",
    "from tensorflow.keras.layers import Conv2D, MaxPooling2D, Flatten, Dense\n",
    "\n",
    "import tensorflow as tf\n"
   ]
  },
  {
   "cell_type": "code",
   "execution_count": 2,
   "id": "d82170b2",
   "metadata": {
    "execution": {
     "iopub.execute_input": "2023-07-20T08:33:39.414733Z",
     "iopub.status.busy": "2023-07-20T08:33:39.413968Z",
     "iopub.status.idle": "2023-07-20T08:33:39.418653Z",
     "shell.execute_reply": "2023-07-20T08:33:39.417550Z"
    },
    "id": "YIiXAuIFueEv",
    "outputId": "bef609e5-3742-4d4c-8c6f-a12c7ab4bed4",
    "papermill": {
     "duration": 0.016599,
     "end_time": "2023-07-20T08:33:39.421161",
     "exception": false,
     "start_time": "2023-07-20T08:33:39.404562",
     "status": "completed"
    },
    "tags": []
   },
   "outputs": [],
   "source": [
    "# # for working in colab\n",
    "# from google.colab import drive\n",
    "# drive.mount('/content/drive')"
   ]
  },
  {
   "cell_type": "code",
   "execution_count": 3,
   "id": "6c776da1",
   "metadata": {
    "execution": {
     "iopub.execute_input": "2023-07-20T08:33:39.438990Z",
     "iopub.status.busy": "2023-07-20T08:33:39.438587Z",
     "iopub.status.idle": "2023-07-20T08:33:39.462706Z",
     "shell.execute_reply": "2023-07-20T08:33:39.461897Z"
    },
    "id": "3c287e18",
    "outputId": "0307db73-26a6-46e2-f685-979a2b58476d",
    "papermill": {
     "duration": 0.036134,
     "end_time": "2023-07-20T08:33:39.465135",
     "exception": false,
     "start_time": "2023-07-20T08:33:39.429001",
     "status": "completed"
    },
    "tags": []
   },
   "outputs": [
    {
     "data": {
      "text/plain": [
       "False"
      ]
     },
     "execution_count": 3,
     "metadata": {},
     "output_type": "execute_result"
    }
   ],
   "source": [
    "#for gpu\n",
    "tf.test.is_gpu_available()"
   ]
  },
  {
   "cell_type": "code",
   "execution_count": 4,
   "id": "60980246",
   "metadata": {
    "execution": {
     "iopub.execute_input": "2023-07-20T08:33:39.482835Z",
     "iopub.status.busy": "2023-07-20T08:33:39.482384Z",
     "iopub.status.idle": "2023-07-20T08:33:39.487380Z",
     "shell.execute_reply": "2023-07-20T08:33:39.486256Z"
    },
    "id": "815d00ae",
    "papermill": {
     "duration": 0.016815,
     "end_time": "2023-07-20T08:33:39.489816",
     "exception": false,
     "start_time": "2023-07-20T08:33:39.473001",
     "status": "completed"
    },
    "tags": []
   },
   "outputs": [],
   "source": [
    "# for working in kaggle use this paths\n",
    "kag_path_in = \"/kaggle/input/mars-spec-train/\"\n",
    "kag_path_out = \"/kaggle/working/\"\n",
    "\n",
    "# # for working in colab  \n",
    "# kag_path_in = \"/content/drive/MyDrive/\" # google drive\n",
    "# kag_path_out = \"\"\n",
    "\n",
    "# add custom paths here (uncomment)\n",
    "# kag_path_in = \"\"\n",
    "# kag_path_out = \"\""
   ]
  },
  {
   "cell_type": "code",
   "execution_count": 5,
   "id": "ef93698b",
   "metadata": {
    "execution": {
     "iopub.execute_input": "2023-07-20T08:33:39.507522Z",
     "iopub.status.busy": "2023-07-20T08:33:39.507104Z",
     "iopub.status.idle": "2023-07-20T08:33:39.549635Z",
     "shell.execute_reply": "2023-07-20T08:33:39.548721Z"
    },
    "id": "97f3d01c",
    "papermill": {
     "duration": 0.054572,
     "end_time": "2023-07-20T08:33:39.552329",
     "exception": false,
     "start_time": "2023-07-20T08:33:39.497757",
     "status": "completed"
    },
    "tags": []
   },
   "outputs": [],
   "source": [
    "# metadata = pd.read_csv('/kaggle/input/mars-spec-train/metadata.csv').fillna(0)\n",
    "# train_labels = pd.read_csv('/kaggle/input/mars-spec-train/train_labels.csv')\n",
    "metadata = pd.read_csv(kag_path_in+'metadata.csv').fillna(0)\n",
    "train_labels = pd.read_csv(kag_path_in+'train_labels.csv')"
   ]
  },
  {
   "cell_type": "markdown",
   "id": "ee328bc5",
   "metadata": {
    "id": "d6089094",
    "papermill": {
     "duration": 0.007782,
     "end_time": "2023-07-20T08:33:39.568048",
     "exception": false,
     "start_time": "2023-07-20T08:33:39.560266",
     "status": "completed"
    },
    "tags": []
   },
   "source": [
    "## 2. Preprocessing and Feature extraction\n",
    "<ul>\n",
    "<li>mass values are grouped into values seperated by 0.50 </li>\n",
    "<li>time values are grouped into values seperated by 0.02 </li>\n",
    "<li>Time * Mass matrix (2700,1400) with Intensity values </li>\n",
    "</ul>"
   ]
  },
  {
   "cell_type": "code",
   "execution_count": 6,
   "id": "71d87f17",
   "metadata": {
    "execution": {
     "iopub.execute_input": "2023-07-20T08:33:39.586341Z",
     "iopub.status.busy": "2023-07-20T08:33:39.585533Z",
     "iopub.status.idle": "2023-07-20T08:33:39.590923Z",
     "shell.execute_reply": "2023-07-20T08:33:39.590056Z"
    },
    "id": "39247504",
    "papermill": {
     "duration": 0.017213,
     "end_time": "2023-07-20T08:33:39.593369",
     "exception": false,
     "start_time": "2023-07-20T08:33:39.576156",
     "status": "completed"
    },
    "tags": []
   },
   "outputs": [],
   "source": [
    "# constants\n",
    "num_mass_values = 1400\n",
    "num_time_values = 2700\n",
    "matrix_shape = (num_time_values, num_mass_values)"
   ]
  },
  {
   "cell_type": "code",
   "execution_count": 7,
   "id": "b31adf81",
   "metadata": {
    "execution": {
     "iopub.execute_input": "2023-07-20T08:33:39.613240Z",
     "iopub.status.busy": "2023-07-20T08:33:39.612577Z",
     "iopub.status.idle": "2023-07-20T08:33:39.621443Z",
     "shell.execute_reply": "2023-07-20T08:33:39.620628Z"
    },
    "id": "174557ea",
    "papermill": {
     "duration": 0.020949,
     "end_time": "2023-07-20T08:33:39.623877",
     "exception": false,
     "start_time": "2023-07-20T08:33:39.602928",
     "status": "completed"
    },
    "tags": []
   },
   "outputs": [],
   "source": [
    "\n",
    "# Function to create the Time X Mass matrix for a single data sample\n",
    "def create_matrix(id):\n",
    "\n",
    "    sample_id, split, derivate, path, _ = metadata.iloc[id]\n",
    "    data = pd.read_csv(kag_path_in+path)\n",
    "\n",
    "    label = None\n",
    "    if (split == 'train'):\n",
    "        label = train_labels.iloc[id].values[1:]\n",
    "\n",
    "    # discretization of time and mass\n",
    "    data.time = (data.time*50).round()\n",
    "    data.mass = (data.mass*2).round()\n",
    "    data.time = data.time.astype(int)\n",
    "    data.mass = data.mass.astype(int)\n",
    "\n",
    "    # scaling intensity\n",
    "    data.intensity = MinMaxScaler().fit_transform(data.intensity.values.reshape(-1, 1))\n",
    "\n",
    "    # filling matrix\n",
    "    matrix = np.zeros(matrix_shape)\n",
    "    matrix[data['time'],data['mass']] = data['intensity']\n",
    "\n",
    "    return matrix , label\n"
   ]
  },
  {
   "cell_type": "markdown",
   "id": "2b79bc6e",
   "metadata": {
    "id": "490a30fa",
    "papermill": {
     "duration": 0.007709,
     "end_time": "2023-07-20T08:33:39.639585",
     "exception": false,
     "start_time": "2023-07-20T08:33:39.631876",
     "status": "completed"
    },
    "tags": []
   },
   "source": [
    "## 3. Data Generation\n",
    "<ul>\n",
    "<li>Storing data matrix is costly</li>\n",
    "<li>data is generated in batches</li>\n",
    "</ul>\n"
   ]
  },
  {
   "cell_type": "code",
   "execution_count": 8,
   "id": "ada6c0d8",
   "metadata": {
    "execution": {
     "iopub.execute_input": "2023-07-20T08:33:39.657616Z",
     "iopub.status.busy": "2023-07-20T08:33:39.656935Z",
     "iopub.status.idle": "2023-07-20T08:33:39.667968Z",
     "shell.execute_reply": "2023-07-20T08:33:39.666889Z"
    },
    "id": "79ddb7ca",
    "papermill": {
     "duration": 0.023074,
     "end_time": "2023-07-20T08:33:39.670508",
     "exception": false,
     "start_time": "2023-07-20T08:33:39.647434",
     "status": "completed"
    },
    "tags": []
   },
   "outputs": [],
   "source": [
    "class DataGenerator(Sequence):\n",
    "    def __init__(self, data, batch_size):\n",
    "        self.data = data\n",
    "        self.batch_size = batch_size\n",
    "    def __len__(self):\n",
    "        return len(self.data) // self.batch_size\n",
    "\n",
    "    def __getitem__(self, idx):\n",
    "        low = idx * self.batch_size\n",
    "        high = min(low + self.batch_size, len(self.data))\n",
    "        batch_x = []\n",
    "        batch_y = []\n",
    "\n",
    "        for i, data_sample in enumerate(self.data[low:high]):\n",
    "            processed_sample, processed_label = self.preprocess_data(data_sample)\n",
    "            batch_x.append(processed_sample)\n",
    "            batch_y.append(processed_label)\n",
    "\n",
    "\n",
    "        while len(batch_x) < self.batch_size:\n",
    "            random_no = np.random.randint(0,len(self.data))\n",
    "            processed_sample, processed_label = self.preprocess_data(data_sample)\n",
    "            batch_x.append(processed_sample)\n",
    "            batch_y.append(processed_label)\n",
    "\n",
    "        return np.array(batch_x), np.array(batch_y)\n",
    "\n",
    "    def preprocess_data(self, data_sample):\n",
    "        matrix, label = create_matrix(data_sample)\n",
    "        if type(label) == np.ndarray:\n",
    "            label = np.array(label).astype(int)\n",
    "        return matrix , label\n"
   ]
  },
  {
   "cell_type": "markdown",
   "id": "83ebcd3a",
   "metadata": {
    "id": "5a85a8cb",
    "papermill": {
     "duration": 0.008168,
     "end_time": "2023-07-20T08:33:39.686936",
     "exception": false,
     "start_time": "2023-07-20T08:33:39.678768",
     "status": "completed"
    },
    "tags": []
   },
   "source": [
    "## 4. Model\n",
    "<ul>\n",
    "<li>convolutional layers </li>\n",
    "<li>pooling layers (max pooling) </li>\n",
    "<li>fully connected layers</li>\n",
    "<li>sigmoid layer</li>\n",
    "<li>output positive label probability</li>\n",
    "</ul>"
   ]
  },
  {
   "cell_type": "code",
   "execution_count": 9,
   "id": "ce53f206",
   "metadata": {
    "execution": {
     "iopub.execute_input": "2023-07-20T08:33:39.705215Z",
     "iopub.status.busy": "2023-07-20T08:33:39.704553Z",
     "iopub.status.idle": "2023-07-20T08:33:39.710309Z",
     "shell.execute_reply": "2023-07-20T08:33:39.709120Z"
    },
    "id": "fd3c0758",
    "papermill": {
     "duration": 0.017876,
     "end_time": "2023-07-20T08:33:39.712902",
     "exception": false,
     "start_time": "2023-07-20T08:33:39.695026",
     "status": "completed"
    },
    "tags": []
   },
   "outputs": [],
   "source": [
    "label_names = [col for col in train_labels.columns[1:]]"
   ]
  },
  {
   "cell_type": "code",
   "execution_count": 10,
   "id": "dac98024",
   "metadata": {
    "execution": {
     "iopub.execute_input": "2023-07-20T08:33:39.730835Z",
     "iopub.status.busy": "2023-07-20T08:33:39.730418Z",
     "iopub.status.idle": "2023-07-20T08:33:39.735119Z",
     "shell.execute_reply": "2023-07-20T08:33:39.733925Z"
    },
    "id": "ff54f238",
    "papermill": {
     "duration": 0.017079,
     "end_time": "2023-07-20T08:33:39.738015",
     "exception": false,
     "start_time": "2023-07-20T08:33:39.720936",
     "status": "completed"
    },
    "tags": []
   },
   "outputs": [],
   "source": [
    "# contants\n",
    "batch_size = 16\n",
    "num_epochs = 75\n",
    "model = None\n",
    "history = None"
   ]
  },
  {
   "cell_type": "code",
   "execution_count": 11,
   "id": "73c1b18c",
   "metadata": {
    "execution": {
     "iopub.execute_input": "2023-07-20T08:33:39.755945Z",
     "iopub.status.busy": "2023-07-20T08:33:39.755545Z",
     "iopub.status.idle": "2023-07-20T08:33:39.763405Z",
     "shell.execute_reply": "2023-07-20T08:33:39.762240Z"
    },
    "id": "kvgA-6pkiHZx",
    "outputId": "8617e103-a597-4aed-f3dc-fa1dc312b91e",
    "papermill": {
     "duration": 0.01965,
     "end_time": "2023-07-20T08:33:39.765962",
     "exception": false,
     "start_time": "2023-07-20T08:33:39.746312",
     "status": "completed"
    },
    "tags": []
   },
   "outputs": [
    {
     "name": "stdout",
     "output_type": "stream",
     "text": [
      "647 162\n"
     ]
    }
   ],
   "source": [
    "training_data = range(809)\n",
    "train_data, val_data = train_test_split(training_data, test_size=0.2, random_state=42)\n",
    "train_data_generator = DataGenerator(train_data, batch_size)\n",
    "val_data_generator = DataGenerator(val_data, batch_size)\n",
    "print(len(train_data), len(val_data))"
   ]
  },
  {
   "cell_type": "code",
   "execution_count": 12,
   "id": "83bbf637",
   "metadata": {
    "execution": {
     "iopub.execute_input": "2023-07-20T08:33:39.784174Z",
     "iopub.status.busy": "2023-07-20T08:33:39.783746Z",
     "iopub.status.idle": "2023-07-20T08:33:40.686925Z",
     "shell.execute_reply": "2023-07-20T08:33:40.685718Z"
    },
    "id": "cf2fc727",
    "outputId": "ce65ac22-ecdf-416b-adbf-2dce39ce2ff8",
    "papermill": {
     "duration": 0.91711,
     "end_time": "2023-07-20T08:33:40.691271",
     "exception": false,
     "start_time": "2023-07-20T08:33:39.774161",
     "status": "completed"
    },
    "tags": []
   },
   "outputs": [
    {
     "name": "stdout",
     "output_type": "stream",
     "text": [
      "Model: \"sequential\"\n",
      "_________________________________________________________________\n",
      " Layer (type)                Output Shape              Param #   \n",
      "=================================================================\n",
      " conv2d (Conv2D)             (None, 27, 1400, 32)      3232      \n",
      "                                                                 \n",
      " max_pooling2d (MaxPooling2D  (None, 3, 700, 32)       0         \n",
      " )                                                               \n",
      "                                                                 \n",
      " flatten (Flatten)           (None, 67200)             0         \n",
      "                                                                 \n",
      " dense (Dense)               (None, 1024)              68813824  \n",
      "                                                                 \n",
      " dense_1 (Dense)             (None, 128)               131200    \n",
      "                                                                 \n",
      " dense_2 (Dense)             (None, 9)                 1161      \n",
      "                                                                 \n",
      "=================================================================\n",
      "Total params: 68,949,417\n",
      "Trainable params: 68,949,417\n",
      "Non-trainable params: 0\n",
      "_________________________________________________________________\n"
     ]
    }
   ],
   "source": [
    "model = Sequential()\n",
    "model.add(Conv2D(32, kernel_size = (100,1), padding= 'same',strides = (100,1),activation='relu', input_shape=(num_time_values, num_mass_values, 1)))\n",
    "model.add(MaxPooling2D(pool_size=(9, 2)))\n",
    "\n",
    "model.add(Flatten())\n",
    "\n",
    "model.add(Dense(1024, activation='relu'))\n",
    "model.add(Dense(128, activation='relu'))\n",
    "model.add(Dense(9, activation='sigmoid'))\n",
    "\n",
    "opt = tf.keras.optimizers.Adam(learning_rate = 0.0001)\n",
    "\n",
    "model.compile(loss=tf.keras.losses.BinaryCrossentropy(), optimizer=opt, metrics=['AUC'])\n",
    "\n",
    "model.summary()"
   ]
  },
  {
   "cell_type": "code",
   "execution_count": 13,
   "id": "ea085827",
   "metadata": {
    "execution": {
     "iopub.execute_input": "2023-07-20T08:33:40.714379Z",
     "iopub.status.busy": "2023-07-20T08:33:40.713945Z",
     "iopub.status.idle": "2023-07-20T10:58:15.788651Z",
     "shell.execute_reply": "2023-07-20T10:58:15.782292Z"
    },
    "id": "c3a8f41d",
    "outputId": "aa0ae9b1-811c-499b-ea2b-801b1109e1ed",
    "papermill": {
     "duration": 8675.187631,
     "end_time": "2023-07-20T10:58:15.889242",
     "exception": false,
     "start_time": "2023-07-20T08:33:40.701611",
     "status": "completed"
    },
    "tags": []
   },
   "outputs": [
    {
     "name": "stdout",
     "output_type": "stream",
     "text": [
      "Epoch 1/75\n",
      "40/40 [==============================] - 431s 11s/step - loss: 0.4939 - auc: 0.5470 - val_loss: 0.2669 - val_auc: 0.7843\n",
      "Epoch 2/75\n",
      "40/40 [==============================] - 353s 9s/step - loss: 0.2715 - auc: 0.8109 - val_loss: 0.2346 - val_auc: 0.8485\n",
      "Epoch 3/75\n",
      "40/40 [==============================] - 383s 10s/step - loss: 0.2386 - auc: 0.8651 - val_loss: 0.2171 - val_auc: 0.8740\n",
      "Epoch 4/75\n",
      "40/40 [==============================] - 352s 9s/step - loss: 0.2204 - auc: 0.8889 - val_loss: 0.2063 - val_auc: 0.8917\n",
      "Epoch 5/75\n",
      "40/40 [==============================] - 356s 9s/step - loss: 0.2035 - auc: 0.9100 - val_loss: 0.1979 - val_auc: 0.9050\n",
      "Epoch 6/75\n",
      "40/40 [==============================] - 378s 9s/step - loss: 0.1914 - auc: 0.9251 - val_loss: 0.1985 - val_auc: 0.9140\n",
      "Epoch 7/75\n",
      "40/40 [==============================] - 321s 8s/step - loss: 0.1832 - auc: 0.9337 - val_loss: 0.1852 - val_auc: 0.9221\n",
      "Epoch 8/75\n",
      "40/40 [==============================] - 503s 13s/step - loss: 0.1710 - auc: 0.9442 - val_loss: 0.1861 - val_auc: 0.9274\n",
      "Epoch 9/75\n",
      "40/40 [==============================] - 382s 10s/step - loss: 0.1612 - auc: 0.9528 - val_loss: 0.1799 - val_auc: 0.9239\n",
      "Epoch 10/75\n",
      "40/40 [==============================] - 362s 9s/step - loss: 0.1558 - auc: 0.9557 - val_loss: 0.1725 - val_auc: 0.9341\n",
      "Epoch 11/75\n",
      "40/40 [==============================] - 379s 9s/step - loss: 0.1472 - auc: 0.9596 - val_loss: 0.1746 - val_auc: 0.9329\n",
      "Epoch 12/75\n",
      "40/40 [==============================] - 362s 9s/step - loss: 0.1411 - auc: 0.9635 - val_loss: 0.1779 - val_auc: 0.9243\n",
      "Epoch 13/75\n",
      "40/40 [==============================] - 409s 10s/step - loss: 0.1360 - auc: 0.9658 - val_loss: 0.1596 - val_auc: 0.9418\n",
      "Epoch 14/75\n",
      "40/40 [==============================] - 391s 10s/step - loss: 0.1279 - auc: 0.9702 - val_loss: 0.1594 - val_auc: 0.9415\n",
      "Epoch 15/75\n",
      "40/40 [==============================] - 358s 9s/step - loss: 0.1239 - auc: 0.9722 - val_loss: 0.1576 - val_auc: 0.9423\n",
      "Epoch 16/75\n",
      "40/40 [==============================] - 373s 9s/step - loss: 0.1159 - auc: 0.9759 - val_loss: 0.1606 - val_auc: 0.9341\n",
      "Epoch 17/75\n",
      "40/40 [==============================] - 361s 9s/step - loss: 0.1136 - auc: 0.9771 - val_loss: 0.1573 - val_auc: 0.9398\n",
      "Epoch 18/75\n",
      "40/40 [==============================] - 339s 8s/step - loss: 0.1067 - auc: 0.9801 - val_loss: 0.1593 - val_auc: 0.9399\n",
      "Epoch 19/75\n",
      "40/40 [==============================] - 403s 10s/step - loss: 0.1017 - auc: 0.9821 - val_loss: 0.1573 - val_auc: 0.9390\n",
      "Epoch 20/75\n",
      "40/40 [==============================] - 356s 9s/step - loss: 0.0998 - auc: 0.9831 - val_loss: 0.1616 - val_auc: 0.9380\n",
      "Epoch 21/75\n",
      "40/40 [==============================] - 365s 9s/step - loss: 0.0960 - auc: 0.9842 - val_loss: 0.1622 - val_auc: 0.9377\n",
      "Epoch 22/75\n",
      "40/40 [==============================] - 392s 10s/step - loss: 0.0905 - auc: 0.9865 - val_loss: 0.1642 - val_auc: 0.9329\n"
     ]
    }
   ],
   "source": [
    "es = EarlyStopping(monitor = 'val_loss', patience = 5 )\n",
    "history = model.fit(train_data_generator, epochs=num_epochs, validation_data=val_data_generator, callbacks=[es],verbose = 1)"
   ]
  },
  {
   "cell_type": "code",
   "execution_count": 14,
   "id": "9a0a5d3e",
   "metadata": {
    "execution": {
     "iopub.execute_input": "2023-07-20T10:58:16.087074Z",
     "iopub.status.busy": "2023-07-20T10:58:16.085733Z",
     "iopub.status.idle": "2023-07-20T10:58:17.435588Z",
     "shell.execute_reply": "2023-07-20T10:58:17.434267Z"
    },
    "id": "3f2ae88e",
    "papermill": {
     "duration": 1.455034,
     "end_time": "2023-07-20T10:58:17.438953",
     "exception": false,
     "start_time": "2023-07-20T10:58:15.983919",
     "status": "completed"
    },
    "tags": []
   },
   "outputs": [],
   "source": [
    "model.save(\"cnn_model_test.keras\")"
   ]
  },
  {
   "cell_type": "markdown",
   "id": "d7b2d65f",
   "metadata": {
    "id": "ba71ea10",
    "papermill": {
     "duration": 0.094714,
     "end_time": "2023-07-20T10:58:17.627514",
     "exception": false,
     "start_time": "2023-07-20T10:58:17.532800",
     "status": "completed"
    },
    "tags": []
   },
   "source": [
    "## 5. Performance\n",
    "<ul>\n",
    "<li>train and validation losses</li>\n",
    "</ul>"
   ]
  },
  {
   "cell_type": "code",
   "execution_count": 15,
   "id": "864678ed",
   "metadata": {
    "execution": {
     "iopub.execute_input": "2023-07-20T10:58:17.817517Z",
     "iopub.status.busy": "2023-07-20T10:58:17.817100Z",
     "iopub.status.idle": "2023-07-20T10:59:06.383448Z",
     "shell.execute_reply": "2023-07-20T10:59:06.382073Z"
    },
    "id": "bc61259e",
    "papermill": {
     "duration": 48.761808,
     "end_time": "2023-07-20T10:59:06.483253",
     "exception": false,
     "start_time": "2023-07-20T10:58:17.721445",
     "status": "completed"
    },
    "tags": []
   },
   "outputs": [
    {
     "data": {
      "image/png": "[encoded data removed]",
      "text/plain": [
       "<Figure size 640x480 with 1 Axes>"
      ]
     },
     "metadata": {},
     "output_type": "display_data"
    }
   ],
   "source": [
    "train_loss = history.history['loss']\n",
    "val_loss = history.history['val_loss']\n",
    "epochs = range(1, len(train_loss) + 1)\n",
    "\n",
    "plt.plot(epochs, train_loss, 'b', label='Training Loss')\n",
    "plt.plot(epochs, val_loss, 'r', label='Validation Loss')\n",
    "plt.title('Training and Validation Loss')\n",
    "plt.xlabel('Epochs')\n",
    "plt.ylabel('Loss')\n",
    "plt.grid()\n",
    "plt.legend()\n",
    "plt.show()\n",
    "\n"
   ]
  },
  {
   "cell_type": "code",
   "execution_count": 16,
   "id": "fb32f6ef",
   "metadata": {
    "execution": {
     "iopub.execute_input": "2023-07-20T10:59:06.678167Z",
     "iopub.status.busy": "2023-07-20T10:59:06.677746Z",
     "iopub.status.idle": "2023-07-20T11:03:49.737327Z",
     "shell.execute_reply": "2023-07-20T11:03:49.734441Z"
    },
    "id": "c14289c9",
    "papermill": {
     "duration": 283.165315,
     "end_time": "2023-07-20T11:03:49.745847",
     "exception": false,
     "start_time": "2023-07-20T10:59:06.580532",
     "status": "completed"
    },
    "tags": []
   },
   "outputs": [],
   "source": [
    "y_pred = model.predict(DataGenerator(range(809),1), verbose = 0)"
   ]
  },
  {
   "cell_type": "markdown",
   "id": "7ea9b628",
   "metadata": {
    "id": "80af68ce",
    "papermill": {
     "duration": 0.109078,
     "end_time": "2023-07-20T11:03:49.956230",
     "exception": false,
     "start_time": "2023-07-20T11:03:49.847152",
     "status": "completed"
    },
    "tags": []
   },
   "source": [
    "### Classification Reports"
   ]
  },
  {
   "cell_type": "code",
   "execution_count": 17,
   "id": "fa487055",
   "metadata": {
    "execution": {
     "iopub.execute_input": "2023-07-20T11:03:50.282618Z",
     "iopub.status.busy": "2023-07-20T11:03:50.281749Z",
     "iopub.status.idle": "2023-07-20T11:03:50.525584Z",
     "shell.execute_reply": "2023-07-20T11:03:50.524094Z"
    },
    "id": "5ef8f090",
    "papermill": {
     "duration": 0.41239,
     "end_time": "2023-07-20T11:03:50.531422",
     "exception": false,
     "start_time": "2023-07-20T11:03:50.119032",
     "status": "completed"
    },
    "tags": []
   },
   "outputs": [
    {
     "name": "stdout",
     "output_type": "stream",
     "text": [
      "aromatic\n",
      "              precision    recall  f1-score   support\n",
      "\n",
      "           0       0.96      1.00      0.98       730\n",
      "           1       0.94      0.63      0.76        79\n",
      "\n",
      "    accuracy                           0.96       809\n",
      "   macro avg       0.95      0.81      0.87       809\n",
      "weighted avg       0.96      0.96      0.96       809\n",
      "\n",
      "roc_auc_score : 0.9711808565978846\n",
      "log loss      : 0.11435733666794404\n",
      "-------------------------------------------------------------\n",
      "hydrocarbon\n",
      "              precision    recall  f1-score   support\n",
      "\n",
      "           0       0.94      0.98      0.96       544\n",
      "           1       0.96      0.88      0.92       265\n",
      "\n",
      "    accuracy                           0.95       809\n",
      "   macro avg       0.95      0.93      0.94       809\n",
      "weighted avg       0.95      0.95      0.95       809\n",
      "\n",
      "roc_auc_score : 0.9760751942286348\n",
      "log loss      : 0.18559618145249998\n",
      "-------------------------------------------------------------\n",
      "carboxylic_acid\n",
      "              precision    recall  f1-score   support\n",
      "\n",
      "           0       0.93      0.99      0.96       694\n",
      "           1       0.92      0.58      0.71       115\n",
      "\n",
      "    accuracy                           0.93       809\n",
      "   macro avg       0.93      0.79      0.84       809\n",
      "weighted avg       0.93      0.93      0.93       809\n",
      "\n",
      "roc_auc_score : 0.9752286680867059\n",
      "log loss      : 0.14693810452416892\n",
      "-------------------------------------------------------------\n",
      "nitrogen_bearing_compound\n",
      "              precision    recall  f1-score   support\n",
      "\n",
      "           0       0.96      0.99      0.97       713\n",
      "           1       0.88      0.70      0.78        96\n",
      "\n",
      "    accuracy                           0.95       809\n",
      "   macro avg       0.92      0.84      0.88       809\n",
      "weighted avg       0.95      0.95      0.95       809\n",
      "\n",
      "roc_auc_score : 0.9818110098176718\n",
      "log loss      : 0.11649193168653206\n",
      "-------------------------------------------------------------\n",
      "chlorine_bearing_compound\n",
      "              precision    recall  f1-score   support\n",
      "\n",
      "           0       0.99      1.00      0.99       791\n",
      "           1       0.89      0.44      0.59        18\n",
      "\n",
      "    accuracy                           0.99       809\n",
      "   macro avg       0.94      0.72      0.79       809\n",
      "weighted avg       0.99      0.99      0.98       809\n",
      "\n",
      "roc_auc_score : 0.9867256637168141\n",
      "log loss      : 0.036410563445040095\n",
      "-------------------------------------------------------------\n",
      "sulfur_bearing_compound\n",
      "              precision    recall  f1-score   support\n",
      "\n",
      "           0       0.99      1.00      0.99       778\n",
      "           1       0.91      0.65      0.75        31\n",
      "\n",
      "    accuracy                           0.98       809\n",
      "   macro avg       0.95      0.82      0.87       809\n",
      "weighted avg       0.98      0.98      0.98       809\n",
      "\n",
      "roc_auc_score : 0.9872709179865661\n",
      "log loss      : 0.05562913141818098\n",
      "-------------------------------------------------------------\n",
      "alcohol\n",
      "              precision    recall  f1-score   support\n",
      "\n",
      "           0       0.98      1.00      0.99       783\n",
      "           1       0.87      0.50      0.63        26\n",
      "\n",
      "    accuracy                           0.98       809\n",
      "   macro avg       0.93      0.75      0.81       809\n",
      "weighted avg       0.98      0.98      0.98       809\n",
      "\n",
      "roc_auc_score : 0.9843796050692603\n",
      "log loss      : 0.056305783777093985\n",
      "-------------------------------------------------------------\n",
      "other_oxygen_bearing_compound\n",
      "              precision    recall  f1-score   support\n",
      "\n",
      "           0       0.98      1.00      0.99       788\n",
      "           1       0.80      0.38      0.52        21\n",
      "\n",
      "    accuracy                           0.98       809\n",
      "   macro avg       0.89      0.69      0.75       809\n",
      "weighted avg       0.98      0.98      0.98       809\n",
      "\n",
      "roc_auc_score : 0.9843485617597293\n",
      "log loss      : 0.04979346056703225\n",
      "-------------------------------------------------------------\n",
      "mineral\n",
      "              precision    recall  f1-score   support\n",
      "\n",
      "           0       0.95      0.99      0.97       692\n",
      "           1       0.91      0.71      0.80       117\n",
      "\n",
      "    accuracy                           0.95       809\n",
      "   macro avg       0.93      0.85      0.88       809\n",
      "weighted avg       0.95      0.95      0.95       809\n",
      "\n",
      "roc_auc_score : 0.97309915518008\n",
      "log loss      : 0.14792410903798073\n",
      "-------------------------------------------------------------\n"
     ]
    }
   ],
   "source": [
    "for i in range(9):\n",
    "    y_true_column = train_labels.iloc[:, i+1].values\n",
    "    y_pred_column = y_pred[:, i].round()\n",
    "\n",
    "    report = classification_report(y_true_column, y_pred_column)\n",
    "    print(f\"{label_names[i]}\")\n",
    "    print(report)\n",
    "    print(f\"roc_auc_score : {roc_auc_score(y_true_column, y_pred[:, i])}\")\n",
    "    print(f\"log loss      : {log_loss(y_true_column, y_pred[:, i])}\")\n",
    "\n",
    "    print(\"-------------------------------------------------------------\")\n"
   ]
  },
  {
   "cell_type": "code",
   "execution_count": null,
   "id": "e8d42db2",
   "metadata": {
    "id": "2c0b5fd1",
    "papermill": {
     "duration": 0.166876,
     "end_time": "2023-07-20T11:03:50.852604",
     "exception": false,
     "start_time": "2023-07-20T11:03:50.685728",
     "status": "completed"
    },
    "tags": []
   },
   "outputs": [],
   "source": []
  }
 ],
 "metadata": {
  "kernelspec": {
   "display_name": "Python 3",
   "language": "python",
   "name": "python3"
  },
  "language_info": {
   "codemirror_mode": {
    "name": "ipython",
    "version": 3
   },
   "file_extension": ".py",
   "mimetype": "text/x-python",
   "name": "python",
   "nbconvert_exporter": "python",
   "pygments_lexer": "ipython3",
   "version": "3.10.12"
  },
  "papermill": {
   "default_parameters": {},
   "duration": 9038.026882,
   "end_time": "2023-07-20T11:03:54.247461",
   "environment_variables": {},
   "exception": null,
   "input_path": "__notebook__.ipynb",
   "output_path": "__notebook__.ipynb",
   "parameters": {},
   "start_time": "2023-07-20T08:33:16.220579",
   "version": "2.4.0"
  }
 },
 "nbformat": 4,
 "nbformat_minor": 5
}
