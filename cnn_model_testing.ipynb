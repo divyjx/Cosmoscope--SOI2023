{
 "cells": [
  {
   "cell_type": "markdown",
   "id": "ce40365a",
   "metadata": {
    "id": "19a292b6",
    "papermill": {
     "duration": 0.006158,
     "end_time": "2023-07-20T11:33:24.835777",
     "exception": false,
     "start_time": "2023-07-20T11:33:24.829619",
     "status": "completed"
    },
    "tags": []
   },
   "source": [
    "## 1. Data Description\n",
    "<ul>\n",
    "<li>there are 809 training examples</li>\n",
    "<li>each of them is a dataframe with time, mass , and intensity values</li>\n",
    "<li>dataframe lenghts are variable</li>\n",
    "</ul>\n"
   ]
  },
  {
   "cell_type": "code",
   "execution_count": 1,
   "id": "9f5f79dd",
   "metadata": {
    "execution": {
     "iopub.execute_input": "2023-07-20T11:33:24.849545Z",
     "iopub.status.busy": "2023-07-20T11:33:24.848807Z",
     "iopub.status.idle": "2023-07-20T11:33:35.830488Z",
     "shell.execute_reply": "2023-07-20T11:33:35.829296Z"
    },
    "id": "669ca0ad",
    "papermill": {
     "duration": 10.99168,
     "end_time": "2023-07-20T11:33:35.833261",
     "exception": false,
     "start_time": "2023-07-20T11:33:24.841581",
     "status": "completed"
    },
    "tags": []
   },
   "outputs": [],
   "source": [
    "import warnings\n",
    "warnings.filterwarnings('ignore')\n",
    "\n",
    "# for processing numbers and files csv\n",
    "import pandas as pd\n",
    "import numpy as np\n",
    "\n",
    "# for visualization\n",
    "import matplotlib.pyplot as plt\n",
    "%matplotlib inline\n",
    "\n",
    "# preprocessing\n",
    "from sklearn.preprocessing import MinMaxScaler\n",
    "from sklearn.model_selection import train_test_split\n",
    "from sklearn.metrics import classification_report, roc_auc_score, log_loss\n",
    "\n",
    "# model related\n",
    "from tensorflow.keras.callbacks import EarlyStopping\n",
    "from tensorflow.keras.utils import Sequence\n",
    "from tensorflow.keras.models import Sequential\n",
    "from tensorflow.keras.layers import Conv2D, MaxPooling2D, Flatten, Dense\n",
    "\n",
    "import tensorflow as tf\n"
   ]
  },
  {
   "cell_type": "code",
   "execution_count": 2,
   "id": "08f6d62c",
   "metadata": {
    "execution": {
     "iopub.execute_input": "2023-07-20T11:33:35.847235Z",
     "iopub.status.busy": "2023-07-20T11:33:35.846509Z",
     "iopub.status.idle": "2023-07-20T11:33:35.851533Z",
     "shell.execute_reply": "2023-07-20T11:33:35.850359Z"
    },
    "id": "YIiXAuIFueEv",
    "outputId": "bef609e5-3742-4d4c-8c6f-a12c7ab4bed4",
    "papermill": {
     "duration": 0.014534,
     "end_time": "2023-07-20T11:33:35.853680",
     "exception": false,
     "start_time": "2023-07-20T11:33:35.839146",
     "status": "completed"
    },
    "tags": []
   },
   "outputs": [],
   "source": [
    "# # for working in colab\n",
    "# from google.colab import drive\n",
    "# drive.mount('/content/drive')"
   ]
  },
  {
   "cell_type": "code",
   "execution_count": 3,
   "id": "e13719f2",
   "metadata": {
    "execution": {
     "iopub.execute_input": "2023-07-20T11:33:35.866430Z",
     "iopub.status.busy": "2023-07-20T11:33:35.866058Z",
     "iopub.status.idle": "2023-07-20T11:33:35.885236Z",
     "shell.execute_reply": "2023-07-20T11:33:35.884376Z"
    },
    "id": "3c287e18",
    "outputId": "0307db73-26a6-46e2-f685-979a2b58476d",
    "papermill": {
     "duration": 0.027752,
     "end_time": "2023-07-20T11:33:35.887042",
     "exception": false,
     "start_time": "2023-07-20T11:33:35.859290",
     "status": "completed"
    },
    "tags": []
   },
   "outputs": [
    {
     "data": {
      "text/plain": [
       "False"
      ]
     },
     "execution_count": 3,
     "metadata": {},
     "output_type": "execute_result"
    }
   ],
   "source": [
    "#for gpu\n",
    "tf.test.is_gpu_available()"
   ]
  },
  {
   "cell_type": "code",
   "execution_count": 4,
   "id": "676b32a7",
   "metadata": {
    "execution": {
     "iopub.execute_input": "2023-07-20T11:33:35.900725Z",
     "iopub.status.busy": "2023-07-20T11:33:35.900012Z",
     "iopub.status.idle": "2023-07-20T11:33:35.904670Z",
     "shell.execute_reply": "2023-07-20T11:33:35.903544Z"
    },
    "id": "815d00ae",
    "papermill": {
     "duration": 0.014305,
     "end_time": "2023-07-20T11:33:35.907118",
     "exception": false,
     "start_time": "2023-07-20T11:33:35.892813",
     "status": "completed"
    },
    "tags": []
   },
   "outputs": [],
   "source": [
    "# for working in kaggle use this paths\n",
    "kag_path_in = \"/kaggle/input/mars-spec-train/\"\n",
    "kag_path_out = \"/kaggle/working/\"\n",
    "\n",
    "# # for working in colab  \n",
    "# kag_path_in = \"/content/drive/MyDrive/\" # google drive\n",
    "# kag_path_out = \"\"\n",
    "\n",
    "# add custom paths here (uncomment)\n",
    "# kag_path_in = \"\"\n",
    "# kag_path_out = \"\""
   ]
  },
  {
   "cell_type": "code",
   "execution_count": 5,
   "id": "bc90d36f",
   "metadata": {
    "execution": {
     "iopub.execute_input": "2023-07-20T11:33:35.920829Z",
     "iopub.status.busy": "2023-07-20T11:33:35.920449Z",
     "iopub.status.idle": "2023-07-20T11:33:35.954628Z",
     "shell.execute_reply": "2023-07-20T11:33:35.953484Z"
    },
    "id": "97f3d01c",
    "papermill": {
     "duration": 0.044163,
     "end_time": "2023-07-20T11:33:35.957320",
     "exception": false,
     "start_time": "2023-07-20T11:33:35.913157",
     "status": "completed"
    },
    "tags": []
   },
   "outputs": [],
   "source": [
    "# metadata = pd.read_csv('/kaggle/input/mars-spec-train/metadata.csv').fillna(0)\n",
    "# train_labels = pd.read_csv('/kaggle/input/mars-spec-train/train_labels.csv')\n",
    "metadata = pd.read_csv(kag_path_in+'metadata.csv').fillna(0)\n",
    "train_labels = pd.read_csv(kag_path_in+'train_labels.csv')"
   ]
  },
  {
   "cell_type": "markdown",
   "id": "ac2e07f6",
   "metadata": {
    "id": "d6089094",
    "papermill": {
     "duration": 0.005431,
     "end_time": "2023-07-20T11:33:35.968651",
     "exception": false,
     "start_time": "2023-07-20T11:33:35.963220",
     "status": "completed"
    },
    "tags": []
   },
   "source": [
    "## 2. Preprocessing and Feature extraction\n",
    "<ul>\n",
    "<li>mass values are grouped into values seperated by 0.50 </li>\n",
    "<li>time values are grouped into values seperated by 0.02 </li>\n",
    "<li>Time * Mass matrix (2700,1400) with Intensity values </li>\n",
    "</ul>"
   ]
  },
  {
   "cell_type": "code",
   "execution_count": 6,
   "id": "7b5aa546",
   "metadata": {
    "execution": {
     "iopub.execute_input": "2023-07-20T11:33:35.982177Z",
     "iopub.status.busy": "2023-07-20T11:33:35.981427Z",
     "iopub.status.idle": "2023-07-20T11:33:35.986346Z",
     "shell.execute_reply": "2023-07-20T11:33:35.985546Z"
    },
    "id": "39247504",
    "papermill": {
     "duration": 0.01407,
     "end_time": "2023-07-20T11:33:35.988426",
     "exception": false,
     "start_time": "2023-07-20T11:33:35.974356",
     "status": "completed"
    },
    "tags": []
   },
   "outputs": [],
   "source": [
    "# constants\n",
    "num_mass_values = 1400\n",
    "num_time_values = 2700\n",
    "matrix_shape = (num_time_values, num_mass_values)"
   ]
  },
  {
   "cell_type": "code",
   "execution_count": 7,
   "id": "081a4499",
   "metadata": {
    "execution": {
     "iopub.execute_input": "2023-07-20T11:33:36.002875Z",
     "iopub.status.busy": "2023-07-20T11:33:36.002493Z",
     "iopub.status.idle": "2023-07-20T11:33:36.009846Z",
     "shell.execute_reply": "2023-07-20T11:33:36.008691Z"
    },
    "id": "174557ea",
    "papermill": {
     "duration": 0.016645,
     "end_time": "2023-07-20T11:33:36.012057",
     "exception": false,
     "start_time": "2023-07-20T11:33:35.995412",
     "status": "completed"
    },
    "tags": []
   },
   "outputs": [],
   "source": [
    "\n",
    "# Function to create the Time X Mass matrix for a single data sample\n",
    "def create_matrix(id):\n",
    "\n",
    "    sample_id, split, derivate, path, _ = metadata.iloc[id]\n",
    "    data = pd.read_csv(kag_path_in+path)\n",
    "\n",
    "    label = None\n",
    "    if (split == 'train'):\n",
    "        label = train_labels.iloc[id].values[1:]\n",
    "\n",
    "    # discretization of time and mass\n",
    "    data.time = (data.time*50).round()\n",
    "    data.mass = (data.mass*2).round()\n",
    "    data.time = data.time.astype(int)\n",
    "    data.mass = data.mass.astype(int)\n",
    "\n",
    "    # scaling intensity\n",
    "    data.intensity = MinMaxScaler().fit_transform(data.intensity.values.reshape(-1, 1))\n",
    "\n",
    "    # filling matrix\n",
    "    matrix = np.zeros(matrix_shape)\n",
    "    matrix[data['time'],data['mass']] = data['intensity']\n",
    "\n",
    "    return matrix , label\n"
   ]
  },
  {
   "cell_type": "markdown",
   "id": "ee565359",
   "metadata": {
    "id": "490a30fa",
    "papermill": {
     "duration": 0.005522,
     "end_time": "2023-07-20T11:33:36.023310",
     "exception": false,
     "start_time": "2023-07-20T11:33:36.017788",
     "status": "completed"
    },
    "tags": []
   },
   "source": [
    "## 3. Data Generation\n",
    "<ul>\n",
    "<li>Storing data matrix is costly</li>\n",
    "<li>data is generated in batches</li>\n",
    "</ul>\n"
   ]
  },
  {
   "cell_type": "code",
   "execution_count": 8,
   "id": "ac232f6a",
   "metadata": {
    "execution": {
     "iopub.execute_input": "2023-07-20T11:33:36.036340Z",
     "iopub.status.busy": "2023-07-20T11:33:36.035969Z",
     "iopub.status.idle": "2023-07-20T11:33:36.045947Z",
     "shell.execute_reply": "2023-07-20T11:33:36.044778Z"
    },
    "id": "79ddb7ca",
    "papermill": {
     "duration": 0.019346,
     "end_time": "2023-07-20T11:33:36.048434",
     "exception": false,
     "start_time": "2023-07-20T11:33:36.029088",
     "status": "completed"
    },
    "tags": []
   },
   "outputs": [],
   "source": [
    "class DataGenerator(Sequence):\n",
    "    def __init__(self, data, batch_size):\n",
    "        self.data = data\n",
    "        self.batch_size = batch_size\n",
    "    def __len__(self):\n",
    "        return len(self.data) // self.batch_size\n",
    "\n",
    "    def __getitem__(self, idx):\n",
    "        low = idx * self.batch_size\n",
    "        high = min(low + self.batch_size, len(self.data))\n",
    "        batch_x = []\n",
    "        batch_y = []\n",
    "\n",
    "        for i, data_sample in enumerate(self.data[low:high]):\n",
    "            processed_sample, processed_label = self.preprocess_data(data_sample)\n",
    "            batch_x.append(processed_sample)\n",
    "            batch_y.append(processed_label)\n",
    "\n",
    "\n",
    "        while len(batch_x) < self.batch_size:\n",
    "            random_no = np.random.randint(0,len(self.data))\n",
    "            processed_sample, processed_label = self.preprocess_data(data_sample)\n",
    "            batch_x.append(processed_sample)\n",
    "            batch_y.append(processed_label)\n",
    "\n",
    "        return np.array(batch_x), np.array(batch_y)\n",
    "\n",
    "    def preprocess_data(self, data_sample):\n",
    "        matrix, label = create_matrix(data_sample)\n",
    "        if type(label) == np.ndarray:\n",
    "            label = np.array(label).astype(int)\n",
    "        return matrix , label\n"
   ]
  },
  {
   "cell_type": "markdown",
   "id": "717f4e99",
   "metadata": {
    "id": "5a85a8cb",
    "papermill": {
     "duration": 0.005787,
     "end_time": "2023-07-20T11:33:36.060089",
     "exception": false,
     "start_time": "2023-07-20T11:33:36.054302",
     "status": "completed"
    },
    "tags": []
   },
   "source": [
    "## 4. Model\n",
    "<ul>\n",
    "<li>convolutional layers </li>\n",
    "<li>pooling layers (max pooling) </li>\n",
    "<li>fully connected layers</li>\n",
    "<li>sigmoid layer</li>\n",
    "<li>output positive label probability</li>\n",
    "</ul>"
   ]
  },
  {
   "cell_type": "code",
   "execution_count": 9,
   "id": "4b3eb3b6",
   "metadata": {
    "execution": {
     "iopub.execute_input": "2023-07-20T11:33:36.074418Z",
     "iopub.status.busy": "2023-07-20T11:33:36.073783Z",
     "iopub.status.idle": "2023-07-20T11:33:36.078171Z",
     "shell.execute_reply": "2023-07-20T11:33:36.077321Z"
    },
    "id": "fd3c0758",
    "papermill": {
     "duration": 0.01439,
     "end_time": "2023-07-20T11:33:36.080239",
     "exception": false,
     "start_time": "2023-07-20T11:33:36.065849",
     "status": "completed"
    },
    "tags": []
   },
   "outputs": [],
   "source": [
    "label_names = [col for col in train_labels.columns[1:]]"
   ]
  },
  {
   "cell_type": "code",
   "execution_count": 10,
   "id": "21d6953f",
   "metadata": {
    "execution": {
     "iopub.execute_input": "2023-07-20T11:33:36.093791Z",
     "iopub.status.busy": "2023-07-20T11:33:36.093222Z",
     "iopub.status.idle": "2023-07-20T11:33:36.097604Z",
     "shell.execute_reply": "2023-07-20T11:33:36.096694Z"
    },
    "id": "ff54f238",
    "papermill": {
     "duration": 0.013516,
     "end_time": "2023-07-20T11:33:36.099614",
     "exception": false,
     "start_time": "2023-07-20T11:33:36.086098",
     "status": "completed"
    },
    "tags": []
   },
   "outputs": [],
   "source": [
    "# contants\n",
    "batch_size = 16\n",
    "num_epochs = 75\n",
    "model = None\n",
    "history = None"
   ]
  },
  {
   "cell_type": "code",
   "execution_count": 11,
   "id": "d67e077b",
   "metadata": {
    "execution": {
     "iopub.execute_input": "2023-07-20T11:33:36.113558Z",
     "iopub.status.busy": "2023-07-20T11:33:36.112975Z",
     "iopub.status.idle": "2023-07-20T11:33:36.119596Z",
     "shell.execute_reply": "2023-07-20T11:33:36.118380Z"
    },
    "id": "kvgA-6pkiHZx",
    "outputId": "8617e103-a597-4aed-f3dc-fa1dc312b91e",
    "papermill": {
     "duration": 0.015893,
     "end_time": "2023-07-20T11:33:36.121678",
     "exception": false,
     "start_time": "2023-07-20T11:33:36.105785",
     "status": "completed"
    },
    "tags": []
   },
   "outputs": [
    {
     "name": "stdout",
     "output_type": "stream",
     "text": [
      "647 162\n"
     ]
    }
   ],
   "source": [
    "training_data = range(809)\n",
    "train_data, val_data = train_test_split(training_data, test_size=0.2, random_state=42)\n",
    "train_data_generator = DataGenerator(train_data, batch_size)\n",
    "val_data_generator = DataGenerator(val_data, batch_size)\n",
    "print(len(train_data), len(val_data))"
   ]
  },
  {
   "cell_type": "code",
   "execution_count": 12,
   "id": "1521943d",
   "metadata": {
    "execution": {
     "iopub.execute_input": "2023-07-20T11:33:36.135909Z",
     "iopub.status.busy": "2023-07-20T11:33:36.135218Z",
     "iopub.status.idle": "2023-07-20T11:33:36.538374Z",
     "shell.execute_reply": "2023-07-20T11:33:36.537118Z"
    },
    "id": "cf2fc727",
    "outputId": "ce65ac22-ecdf-416b-adbf-2dce39ce2ff8",
    "papermill": {
     "duration": 0.418105,
     "end_time": "2023-07-20T11:33:36.545708",
     "exception": false,
     "start_time": "2023-07-20T11:33:36.127603",
     "status": "completed"
    },
    "tags": []
   },
   "outputs": [
    {
     "name": "stdout",
     "output_type": "stream",
     "text": [
      "Model: \"sequential\"\n",
      "_________________________________________________________________\n",
      " Layer (type)                Output Shape              Param #   \n",
      "=================================================================\n",
      " conv2d (Conv2D)             (None, 9, 1400, 32)       9632      \n",
      "                                                                 \n",
      " max_pooling2d (MaxPooling2D  (None, 3, 700, 32)       0         \n",
      " )                                                               \n",
      "                                                                 \n",
      " flatten (Flatten)           (None, 67200)             0         \n",
      "                                                                 \n",
      " dense (Dense)               (None, 256)               17203456  \n",
      "                                                                 \n",
      " dense_1 (Dense)             (None, 64)                16448     \n",
      "                                                                 \n",
      " dense_2 (Dense)             (None, 9)                 585       \n",
      "                                                                 \n",
      "=================================================================\n",
      "Total params: 17,230,121\n",
      "Trainable params: 17,230,121\n",
      "Non-trainable params: 0\n",
      "_________________________________________________________________\n"
     ]
    }
   ],
   "source": [
    "model = Sequential()\n",
    "model.add(Conv2D(32, kernel_size = (300,1), padding= 'same',strides = (300,1),activation='relu', input_shape=(num_time_values, num_mass_values, 1)))\n",
    "model.add(MaxPooling2D(pool_size=(3, 2)))\n",
    "\n",
    "model.add(Flatten())\n",
    "\n",
    "model.add(Dense(256, activation='relu'))\n",
    "model.add(Dense(64, activation='relu'))\n",
    "\n",
    "model.add(Dense(9, activation='sigmoid'))\n",
    "\n",
    "opt = tf.keras.optimizers.Adam(learning_rate = 0.0001)\n",
    "\n",
    "model.compile(loss=tf.keras.losses.BinaryCrossentropy(), optimizer=opt, metrics=['AUC'])\n",
    "\n",
    "model.summary()"
   ]
  },
  {
   "cell_type": "code",
   "execution_count": 13,
   "id": "2503720e",
   "metadata": {
    "execution": {
     "iopub.execute_input": "2023-07-20T11:33:36.562902Z",
     "iopub.status.busy": "2023-07-20T11:33:36.562433Z",
     "iopub.status.idle": "2023-07-20T14:30:32.154583Z",
     "shell.execute_reply": "2023-07-20T14:30:32.148170Z"
    },
    "id": "c3a8f41d",
    "outputId": "aa0ae9b1-811c-499b-ea2b-801b1109e1ed",
    "papermill": {
     "duration": 10615.69166,
     "end_time": "2023-07-20T14:30:32.245018",
     "exception": false,
     "start_time": "2023-07-20T11:33:36.553358",
     "status": "completed"
    },
    "tags": []
   },
   "outputs": [
    {
     "name": "stdout",
     "output_type": "stream",
     "text": [
      "Epoch 1/75\n",
      "40/40 [==============================] - 376s 9s/step - loss: 0.5476 - auc: 0.4824 - val_loss: 0.3460 - val_auc: 0.5176\n",
      "Epoch 2/75\n",
      "40/40 [==============================] - 287s 7s/step - loss: 0.3213 - auc: 0.6899 - val_loss: 0.2701 - val_auc: 0.7679\n",
      "Epoch 3/75\n",
      "40/40 [==============================] - 308s 8s/step - loss: 0.2691 - auc: 0.8191 - val_loss: 0.2398 - val_auc: 0.8494\n",
      "Epoch 4/75\n",
      "40/40 [==============================] - 343s 9s/step - loss: 0.2392 - auc: 0.8672 - val_loss: 0.2250 - val_auc: 0.8722\n",
      "Epoch 5/75\n",
      "40/40 [==============================] - 275s 7s/step - loss: 0.2252 - auc: 0.8827 - val_loss: 0.2162 - val_auc: 0.8821\n",
      "Epoch 6/75\n",
      "40/40 [==============================] - 274s 7s/step - loss: 0.2123 - auc: 0.9008 - val_loss: 0.2072 - val_auc: 0.8953\n",
      "Epoch 7/75\n",
      "40/40 [==============================] - 352s 9s/step - loss: 0.2050 - auc: 0.9093 - val_loss: 0.2015 - val_auc: 0.9021\n",
      "Epoch 8/75\n",
      "40/40 [==============================] - 275s 7s/step - loss: 0.1929 - auc: 0.9223 - val_loss: 0.2129 - val_auc: 0.9040\n",
      "Epoch 9/75\n",
      "40/40 [==============================] - 365s 9s/step - loss: 0.1896 - auc: 0.9266 - val_loss: 0.1959 - val_auc: 0.9134\n",
      "Epoch 10/75\n",
      "40/40 [==============================] - 269s 7s/step - loss: 0.1798 - auc: 0.9372 - val_loss: 0.1916 - val_auc: 0.9165\n",
      "Epoch 11/75\n",
      "40/40 [==============================] - 330s 8s/step - loss: 0.1745 - auc: 0.9412 - val_loss: 0.1906 - val_auc: 0.9183\n",
      "Epoch 12/75\n",
      "40/40 [==============================] - 301s 8s/step - loss: 0.1671 - auc: 0.9467 - val_loss: 0.1913 - val_auc: 0.9213\n",
      "Epoch 13/75\n",
      "40/40 [==============================] - 311s 8s/step - loss: 0.1632 - auc: 0.9512 - val_loss: 0.1806 - val_auc: 0.9266\n",
      "Epoch 14/75\n",
      "40/40 [==============================] - 294s 7s/step - loss: 0.1578 - auc: 0.9542 - val_loss: 0.1767 - val_auc: 0.9310\n",
      "Epoch 15/75\n",
      "40/40 [==============================] - 327s 8s/step - loss: 0.1518 - auc: 0.9580 - val_loss: 0.1793 - val_auc: 0.9302\n",
      "Epoch 16/75\n",
      "40/40 [==============================] - 326s 8s/step - loss: 0.1480 - auc: 0.9600 - val_loss: 0.1738 - val_auc: 0.9330\n",
      "Epoch 17/75\n",
      "40/40 [==============================] - 293s 7s/step - loss: 0.1443 - auc: 0.9620 - val_loss: 0.1768 - val_auc: 0.9304\n",
      "Epoch 18/75\n",
      "40/40 [==============================] - 322s 8s/step - loss: 0.1383 - auc: 0.9651 - val_loss: 0.1722 - val_auc: 0.9361\n",
      "Epoch 19/75\n",
      "40/40 [==============================] - 268s 7s/step - loss: 0.1374 - auc: 0.9656 - val_loss: 0.1711 - val_auc: 0.9361\n",
      "Epoch 20/75\n",
      "40/40 [==============================] - 336s 8s/step - loss: 0.1312 - auc: 0.9692 - val_loss: 0.1668 - val_auc: 0.9403\n",
      "Epoch 21/75\n",
      "40/40 [==============================] - 237s 6s/step - loss: 0.1301 - auc: 0.9692 - val_loss: 0.1703 - val_auc: 0.9349\n",
      "Epoch 22/75\n",
      "40/40 [==============================] - 306s 8s/step - loss: 0.1266 - auc: 0.9717 - val_loss: 0.1666 - val_auc: 0.9403\n",
      "Epoch 23/75\n",
      "40/40 [==============================] - 271s 7s/step - loss: 0.1222 - auc: 0.9741 - val_loss: 0.1718 - val_auc: 0.9358\n",
      "Epoch 24/75\n",
      "40/40 [==============================] - 304s 8s/step - loss: 0.1190 - auc: 0.9760 - val_loss: 0.1680 - val_auc: 0.9394\n",
      "Epoch 25/75\n",
      "40/40 [==============================] - 266s 7s/step - loss: 0.1164 - auc: 0.9764 - val_loss: 0.1639 - val_auc: 0.9427\n",
      "Epoch 26/75\n",
      "40/40 [==============================] - 341s 9s/step - loss: 0.1161 - auc: 0.9769 - val_loss: 0.1732 - val_auc: 0.9337\n",
      "Epoch 27/75\n",
      "40/40 [==============================] - 267s 7s/step - loss: 0.1123 - auc: 0.9781 - val_loss: 0.1595 - val_auc: 0.9446\n",
      "Epoch 28/75\n",
      "40/40 [==============================] - 332s 8s/step - loss: 0.1077 - auc: 0.9804 - val_loss: 0.1642 - val_auc: 0.9445\n",
      "Epoch 29/75\n",
      "40/40 [==============================] - 269s 7s/step - loss: 0.1059 - auc: 0.9813 - val_loss: 0.1658 - val_auc: 0.9381\n",
      "Epoch 30/75\n",
      "40/40 [==============================] - 314s 8s/step - loss: 0.1041 - auc: 0.9818 - val_loss: 0.1651 - val_auc: 0.9401\n",
      "Epoch 31/75\n",
      "40/40 [==============================] - 238s 6s/step - loss: 0.1016 - auc: 0.9833 - val_loss: 0.1702 - val_auc: 0.9338\n",
      "Epoch 32/75\n",
      "40/40 [==============================] - 349s 9s/step - loss: 0.0997 - auc: 0.9835 - val_loss: 0.1633 - val_auc: 0.9402\n"
     ]
    }
   ],
   "source": [
    "es = EarlyStopping(monitor = 'val_loss', patience = 5 )\n",
    "history = model.fit(train_data_generator, epochs=num_epochs, validation_data=val_data_generator, callbacks=[es],verbose = 1)"
   ]
  },
  {
   "cell_type": "code",
   "execution_count": 14,
   "id": "55a0b2ca",
   "metadata": {
    "execution": {
     "iopub.execute_input": "2023-07-20T14:30:32.434673Z",
     "iopub.status.busy": "2023-07-20T14:30:32.434169Z",
     "iopub.status.idle": "2023-07-20T14:30:32.938740Z",
     "shell.execute_reply": "2023-07-20T14:30:32.937239Z"
    },
    "id": "3f2ae88e",
    "papermill": {
     "duration": 0.605066,
     "end_time": "2023-07-20T14:30:32.941644",
     "exception": false,
     "start_time": "2023-07-20T14:30:32.336578",
     "status": "completed"
    },
    "tags": []
   },
   "outputs": [],
   "source": [
    "model.save(\"cnn_model_test.keras\")"
   ]
  },
  {
   "cell_type": "markdown",
   "id": "a2404563",
   "metadata": {
    "id": "ba71ea10",
    "papermill": {
     "duration": 0.090182,
     "end_time": "2023-07-20T14:30:33.124709",
     "exception": false,
     "start_time": "2023-07-20T14:30:33.034527",
     "status": "completed"
    },
    "tags": []
   },
   "source": [
    "## 5. Performance\n",
    "<ul>\n",
    "<li>train and validation losses</li>\n",
    "</ul>"
   ]
  },
  {
   "cell_type": "code",
   "execution_count": 15,
   "id": "8a8712ac",
   "metadata": {
    "execution": {
     "iopub.execute_input": "2023-07-20T14:30:33.309795Z",
     "iopub.status.busy": "2023-07-20T14:30:33.309375Z",
     "iopub.status.idle": "2023-07-20T14:31:05.814294Z",
     "shell.execute_reply": "2023-07-20T14:31:05.812715Z"
    },
    "id": "bc61259e",
    "papermill": {
     "duration": 32.688507,
     "end_time": "2023-07-20T14:31:05.904799",
     "exception": false,
     "start_time": "2023-07-20T14:30:33.216292",
     "status": "completed"
    },
    "tags": []
   },
   "outputs": [
    {
     "data": {
      "image/png": "[encoded data removed]",
      "text/plain": [
       "<Figure size 640x480 with 1 Axes>"
      ]
     },
     "metadata": {},
     "output_type": "display_data"
    }
   ],
   "source": [
    "train_loss = history.history['loss']\n",
    "val_loss = history.history['val_loss']\n",
    "epochs = range(1, len(train_loss) + 1)\n",
    "\n",
    "plt.plot(epochs, train_loss, 'b', label='Training Loss')\n",
    "plt.plot(epochs, val_loss, 'r', label='Validation Loss')\n",
    "plt.title('Training and Validation Loss')\n",
    "plt.xlabel('Epochs')\n",
    "plt.ylabel('Loss')\n",
    "plt.grid()\n",
    "plt.legend()\n",
    "plt.show()\n",
    "\n"
   ]
  },
  {
   "cell_type": "code",
   "execution_count": 16,
   "id": "90ceab61",
   "metadata": {
    "execution": {
     "iopub.execute_input": "2023-07-20T14:31:06.095132Z",
     "iopub.status.busy": "2023-07-20T14:31:06.094169Z",
     "iopub.status.idle": "2023-07-20T14:34:20.146082Z",
     "shell.execute_reply": "2023-07-20T14:34:20.144451Z"
    },
    "id": "c14289c9",
    "papermill": {
     "duration": 194.150925,
     "end_time": "2023-07-20T14:34:20.149134",
     "exception": false,
     "start_time": "2023-07-20T14:31:05.998209",
     "status": "completed"
    },
    "tags": []
   },
   "outputs": [],
   "source": [
    "y_pred = model.predict(DataGenerator(range(809),1), verbose = 0)"
   ]
  },
  {
   "cell_type": "markdown",
   "id": "c45b7d7c",
   "metadata": {
    "id": "80af68ce",
    "papermill": {
     "duration": 0.094143,
     "end_time": "2023-07-20T14:34:20.339273",
     "exception": false,
     "start_time": "2023-07-20T14:34:20.245130",
     "status": "completed"
    },
    "tags": []
   },
   "source": [
    "### Classification Reports"
   ]
  },
  {
   "cell_type": "code",
   "execution_count": 17,
   "id": "4ebbf483",
   "metadata": {
    "execution": {
     "iopub.execute_input": "2023-07-20T14:34:20.526461Z",
     "iopub.status.busy": "2023-07-20T14:34:20.526038Z",
     "iopub.status.idle": "2023-07-20T14:34:20.656292Z",
     "shell.execute_reply": "2023-07-20T14:34:20.654187Z"
    },
    "id": "5ef8f090",
    "papermill": {
     "duration": 0.227037,
     "end_time": "2023-07-20T14:34:20.658713",
     "exception": false,
     "start_time": "2023-07-20T14:34:20.431676",
     "status": "completed"
    },
    "tags": []
   },
   "outputs": [
    {
     "name": "stdout",
     "output_type": "stream",
     "text": [
      "aromatic\n",
      "              precision    recall  f1-score   support\n",
      "\n",
      "           0       0.96      0.99      0.97       730\n",
      "           1       0.90      0.58      0.71        79\n",
      "\n",
      "    accuracy                           0.95       809\n",
      "   macro avg       0.93      0.79      0.84       809\n",
      "weighted avg       0.95      0.95      0.95       809\n",
      "\n",
      "roc_auc_score : 0.9718744581238079\n",
      "log loss      : 0.12216185791969722\n",
      "-------------------------------------------------------------\n",
      "hydrocarbon\n",
      "              precision    recall  f1-score   support\n",
      "\n",
      "           0       0.92      0.98      0.95       544\n",
      "           1       0.96      0.83      0.89       265\n",
      "\n",
      "    accuracy                           0.93       809\n",
      "   macro avg       0.94      0.91      0.92       809\n",
      "weighted avg       0.93      0.93      0.93       809\n",
      "\n",
      "roc_auc_score : 0.9755618756936736\n",
      "log loss      : 0.20582210210718202\n",
      "-------------------------------------------------------------\n",
      "carboxylic_acid\n",
      "              precision    recall  f1-score   support\n",
      "\n",
      "           0       0.95      0.99      0.97       694\n",
      "           1       0.90      0.69      0.78       115\n",
      "\n",
      "    accuracy                           0.94       809\n",
      "   macro avg       0.92      0.84      0.87       809\n",
      "weighted avg       0.94      0.94      0.94       809\n",
      "\n",
      "roc_auc_score : 0.9770078937476506\n",
      "log loss      : 0.14618443614032986\n",
      "-------------------------------------------------------------\n",
      "nitrogen_bearing_compound\n",
      "              precision    recall  f1-score   support\n",
      "\n",
      "           0       0.96      0.99      0.98       713\n",
      "           1       0.89      0.71      0.79        96\n",
      "\n",
      "    accuracy                           0.96       809\n",
      "   macro avg       0.93      0.85      0.88       809\n",
      "weighted avg       0.95      0.96      0.95       809\n",
      "\n",
      "roc_auc_score : 0.9827898550724636\n",
      "log loss      : 0.11127242640333475\n",
      "-------------------------------------------------------------\n",
      "chlorine_bearing_compound\n",
      "              precision    recall  f1-score   support\n",
      "\n",
      "           0       0.99      1.00      0.99       791\n",
      "           1       0.88      0.39      0.54        18\n",
      "\n",
      "    accuracy                           0.99       809\n",
      "   macro avg       0.93      0.69      0.77       809\n",
      "weighted avg       0.98      0.99      0.98       809\n",
      "\n",
      "roc_auc_score : 0.9896755162241888\n",
      "log loss      : 0.03850272469507105\n",
      "-------------------------------------------------------------\n",
      "sulfur_bearing_compound\n",
      "              precision    recall  f1-score   support\n",
      "\n",
      "           0       0.98      1.00      0.99       778\n",
      "           1       0.81      0.42      0.55        31\n",
      "\n",
      "    accuracy                           0.97       809\n",
      "   macro avg       0.89      0.71      0.77       809\n",
      "weighted avg       0.97      0.97      0.97       809\n",
      "\n",
      "roc_auc_score : 0.9763661995190314\n",
      "log loss      : 0.06936103663444314\n",
      "-------------------------------------------------------------\n",
      "alcohol\n",
      "              precision    recall  f1-score   support\n",
      "\n",
      "           0       0.98      1.00      0.99       783\n",
      "           1       0.88      0.27      0.41        26\n",
      "\n",
      "    accuracy                           0.98       809\n",
      "   macro avg       0.93      0.63      0.70       809\n",
      "weighted avg       0.97      0.98      0.97       809\n",
      "\n",
      "roc_auc_score : 0.9722959033303861\n",
      "log loss      : 0.07007140032924233\n",
      "-------------------------------------------------------------\n",
      "other_oxygen_bearing_compound\n",
      "              precision    recall  f1-score   support\n",
      "\n",
      "           0       0.98      1.00      0.99       788\n",
      "           1       1.00      0.38      0.55        21\n",
      "\n",
      "    accuracy                           0.98       809\n",
      "   macro avg       0.99      0.69      0.77       809\n",
      "weighted avg       0.98      0.98      0.98       809\n",
      "\n",
      "roc_auc_score : 0.9893642736282331\n",
      "log loss      : 0.04722099144569619\n",
      "-------------------------------------------------------------\n",
      "mineral\n",
      "              precision    recall  f1-score   support\n",
      "\n",
      "           0       0.95      0.96      0.96       692\n",
      "           1       0.76      0.69      0.72       117\n",
      "\n",
      "    accuracy                           0.92       809\n",
      "   macro avg       0.85      0.83      0.84       809\n",
      "weighted avg       0.92      0.92      0.92       809\n",
      "\n",
      "roc_auc_score : 0.9663307148856282\n",
      "log loss      : 0.16301571348558014\n",
      "-------------------------------------------------------------\n"
     ]
    }
   ],
   "source": [
    "for i in range(9):\n",
    "    y_true_column = train_labels.iloc[:, i+1].values\n",
    "    y_pred_column = y_pred[:, i].round()\n",
    "\n",
    "    report = classification_report(y_true_column, y_pred_column)\n",
    "    print(f\"{label_names[i]}\")\n",
    "    print(report)\n",
    "    print(f\"roc_auc_score : {roc_auc_score(y_true_column, y_pred[:, i])}\")\n",
    "    print(f\"log loss      : {log_loss(y_true_column, y_pred[:, i])}\")\n",
    "\n",
    "    print(\"-------------------------------------------------------------\")\n"
   ]
  },
  {
   "cell_type": "code",
   "execution_count": null,
   "id": "1880ef1a",
   "metadata": {
    "id": "2c0b5fd1",
    "papermill": {
     "duration": 0.092277,
     "end_time": "2023-07-20T14:34:20.844076",
     "exception": false,
     "start_time": "2023-07-20T14:34:20.751799",
     "status": "completed"
    },
    "tags": []
   },
   "outputs": [],
   "source": []
  }
 ],
 "metadata": {
  "kernelspec": {
   "display_name": "Python 3",
   "language": "python",
   "name": "python3"
  },
  "language_info": {
   "codemirror_mode": {
    "name": "ipython",
    "version": 3
   },
   "file_extension": ".py",
   "mimetype": "text/x-python",
   "name": "python",
   "nbconvert_exporter": "python",
   "pygments_lexer": "ipython3",
   "version": "3.10.12"
  },
  "papermill": {
   "default_parameters": {},
   "duration": 10869.355715,
   "end_time": "2023-07-20T14:34:24.311666",
   "environment_variables": {},
   "exception": null,
   "input_path": "__notebook__.ipynb",
   "output_path": "__notebook__.ipynb",
   "parameters": {},
   "start_time": "2023-07-20T11:33:14.955951",
   "version": "2.4.0"
  }
 },
 "nbformat": 4,
 "nbformat_minor": 5
}
