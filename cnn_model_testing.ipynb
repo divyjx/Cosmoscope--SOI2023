{
 "cells": [
  {
   "cell_type": "markdown",
   "id": "30b0dca4",
   "metadata": {
    "id": "19a292b6",
    "papermill": {
     "duration": 0.009692,
     "end_time": "2023-07-19T18:21:43.589590",
     "exception": false,
     "start_time": "2023-07-19T18:21:43.579898",
     "status": "completed"
    },
    "tags": []
   },
   "source": [
    "## 1. Data Description\n",
    "<ul>\n",
    "<li>there are 809 training examples</li>\n",
    "<li>each of them is a dataframe with time, mass , and intensity values</li>\n",
    "<li>dataframe lenghts are variable</li>\n",
    "</ul>\n"
   ]
  },
  {
   "cell_type": "code",
   "execution_count": 1,
   "id": "8221b57c",
   "metadata": {
    "execution": {
     "iopub.execute_input": "2023-07-19T18:21:43.608299Z",
     "iopub.status.busy": "2023-07-19T18:21:43.607638Z",
     "iopub.status.idle": "2023-07-19T18:21:56.480025Z",
     "shell.execute_reply": "2023-07-19T18:21:56.477870Z"
    },
    "id": "669ca0ad",
    "papermill": {
     "duration": 12.885774,
     "end_time": "2023-07-19T18:21:56.483510",
     "exception": false,
     "start_time": "2023-07-19T18:21:43.597736",
     "status": "completed"
    },
    "tags": []
   },
   "outputs": [],
   "source": [
    "import warnings\n",
    "warnings.filterwarnings('ignore')\n",
    "\n",
    "# for processing numbers and files csv\n",
    "import pandas as pd\n",
    "import numpy as np\n",
    "\n",
    "# for visualization\n",
    "import matplotlib.pyplot as plt\n",
    "%matplotlib inline\n",
    "\n",
    "# preprocessing\n",
    "from sklearn.preprocessing import MinMaxScaler\n",
    "from sklearn.model_selection import train_test_split\n",
    "from sklearn.metrics import classification_report, roc_auc_score, log_loss\n",
    "\n",
    "# model related\n",
    "from tensorflow.keras.callbacks import EarlyStopping\n",
    "from tensorflow.keras.utils import Sequence\n",
    "from tensorflow.keras.models import Sequential\n",
    "from tensorflow.keras.layers import Conv2D, MaxPooling2D, Flatten, Dense\n",
    "\n",
    "import tensorflow as tf\n"
   ]
  },
  {
   "cell_type": "code",
   "execution_count": 2,
   "id": "d530ca4b",
   "metadata": {
    "execution": {
     "iopub.execute_input": "2023-07-19T18:21:56.502256Z",
     "iopub.status.busy": "2023-07-19T18:21:56.501240Z",
     "iopub.status.idle": "2023-07-19T18:21:56.508228Z",
     "shell.execute_reply": "2023-07-19T18:21:56.506631Z"
    },
    "id": "YIiXAuIFueEv",
    "outputId": "bef609e5-3742-4d4c-8c6f-a12c7ab4bed4",
    "papermill": {
     "duration": 0.020007,
     "end_time": "2023-07-19T18:21:56.511504",
     "exception": false,
     "start_time": "2023-07-19T18:21:56.491497",
     "status": "completed"
    },
    "tags": []
   },
   "outputs": [],
   "source": [
    "# # for working in colab\n",
    "# from google.colab import drive\n",
    "# drive.mount('/content/drive')"
   ]
  },
  {
   "cell_type": "code",
   "execution_count": 3,
   "id": "8aa9f32b",
   "metadata": {
    "execution": {
     "iopub.execute_input": "2023-07-19T18:21:56.530729Z",
     "iopub.status.busy": "2023-07-19T18:21:56.530218Z",
     "iopub.status.idle": "2023-07-19T18:21:56.550667Z",
     "shell.execute_reply": "2023-07-19T18:21:56.549660Z"
    },
    "id": "3c287e18",
    "outputId": "0307db73-26a6-46e2-f685-979a2b58476d",
    "papermill": {
     "duration": 0.033217,
     "end_time": "2023-07-19T18:21:56.553222",
     "exception": false,
     "start_time": "2023-07-19T18:21:56.520005",
     "status": "completed"
    },
    "tags": []
   },
   "outputs": [
    {
     "data": {
      "text/plain": [
       "False"
      ]
     },
     "execution_count": 3,
     "metadata": {},
     "output_type": "execute_result"
    }
   ],
   "source": [
    "#for gpu\n",
    "tf.test.is_gpu_available()"
   ]
  },
  {
   "cell_type": "code",
   "execution_count": 4,
   "id": "8b8408b6",
   "metadata": {
    "execution": {
     "iopub.execute_input": "2023-07-19T18:21:56.573482Z",
     "iopub.status.busy": "2023-07-19T18:21:56.572627Z",
     "iopub.status.idle": "2023-07-19T18:21:56.580757Z",
     "shell.execute_reply": "2023-07-19T18:21:56.579362Z"
    },
    "id": "815d00ae",
    "papermill": {
     "duration": 0.021609,
     "end_time": "2023-07-19T18:21:56.583746",
     "exception": false,
     "start_time": "2023-07-19T18:21:56.562137",
     "status": "completed"
    },
    "tags": []
   },
   "outputs": [],
   "source": [
    "# for working in kaggle use this paths\n",
    "kag_path_in = \"/kaggle/input/mars-spec-train/\"\n",
    "kag_path_out = \"/kaggle/working/\"\n",
    "\n",
    "# # for working in colab  \n",
    "# kag_path_in = \"/content/drive/MyDrive/\" # google drive\n",
    "# kag_path_out = \"\"\n",
    "\n",
    "# add custom paths here (uncomment)\n",
    "# kag_path_in = \"\"\n",
    "# kag_path_out = \"\""
   ]
  },
  {
   "cell_type": "code",
   "execution_count": 5,
   "id": "4e8eae6e",
   "metadata": {
    "execution": {
     "iopub.execute_input": "2023-07-19T18:21:56.603379Z",
     "iopub.status.busy": "2023-07-19T18:21:56.602307Z",
     "iopub.status.idle": "2023-07-19T18:21:56.655409Z",
     "shell.execute_reply": "2023-07-19T18:21:56.654201Z"
    },
    "id": "97f3d01c",
    "papermill": {
     "duration": 0.066596,
     "end_time": "2023-07-19T18:21:56.659045",
     "exception": false,
     "start_time": "2023-07-19T18:21:56.592449",
     "status": "completed"
    },
    "tags": []
   },
   "outputs": [],
   "source": [
    "# metadata = pd.read_csv('/kaggle/input/mars-spec-train/metadata.csv').fillna(0)\n",
    "# train_labels = pd.read_csv('/kaggle/input/mars-spec-train/train_labels.csv')\n",
    "metadata = pd.read_csv(kag_path_in+'metadata.csv').fillna(0)\n",
    "train_labels = pd.read_csv(kag_path_in+'train_labels.csv')"
   ]
  },
  {
   "cell_type": "markdown",
   "id": "8b5eda4c",
   "metadata": {
    "id": "d6089094",
    "papermill": {
     "duration": 0.011269,
     "end_time": "2023-07-19T18:21:56.683353",
     "exception": false,
     "start_time": "2023-07-19T18:21:56.672084",
     "status": "completed"
    },
    "tags": []
   },
   "source": [
    "## 2. Preprocessing and Feature extraction\n",
    "<ul>\n",
    "<li>mass values are grouped into values seperated by 0.50 </li>\n",
    "<li>time values are grouped into values seperated by 0.02 </li>\n",
    "<li>Time * Mass matrix (2700,1400) with Intensity values </li>\n",
    "</ul>"
   ]
  },
  {
   "cell_type": "code",
   "execution_count": 6,
   "id": "956b10aa",
   "metadata": {
    "execution": {
     "iopub.execute_input": "2023-07-19T18:21:56.707457Z",
     "iopub.status.busy": "2023-07-19T18:21:56.706856Z",
     "iopub.status.idle": "2023-07-19T18:21:56.713233Z",
     "shell.execute_reply": "2023-07-19T18:21:56.712135Z"
    },
    "id": "39247504",
    "papermill": {
     "duration": 0.023713,
     "end_time": "2023-07-19T18:21:56.716603",
     "exception": false,
     "start_time": "2023-07-19T18:21:56.692890",
     "status": "completed"
    },
    "tags": []
   },
   "outputs": [],
   "source": [
    "# constants\n",
    "num_mass_values = 1400\n",
    "num_time_values = 2700\n",
    "matrix_shape = (num_time_values, num_mass_values)"
   ]
  },
  {
   "cell_type": "code",
   "execution_count": 7,
   "id": "8d21f090",
   "metadata": {
    "execution": {
     "iopub.execute_input": "2023-07-19T18:21:56.740081Z",
     "iopub.status.busy": "2023-07-19T18:21:56.738961Z",
     "iopub.status.idle": "2023-07-19T18:21:56.749013Z",
     "shell.execute_reply": "2023-07-19T18:21:56.747722Z"
    },
    "id": "174557ea",
    "papermill": {
     "duration": 0.023543,
     "end_time": "2023-07-19T18:21:56.751786",
     "exception": false,
     "start_time": "2023-07-19T18:21:56.728243",
     "status": "completed"
    },
    "tags": []
   },
   "outputs": [],
   "source": [
    "\n",
    "# Function to create the Time X Mass matrix for a single data sample\n",
    "def create_matrix(id):\n",
    "\n",
    "    sample_id, split, derivate, path, _ = metadata.iloc[id]\n",
    "    data = pd.read_csv(kag_path_in+path)\n",
    "\n",
    "    label = None\n",
    "    if (split == 'train'):\n",
    "        label = train_labels.iloc[id].values[1:]\n",
    "\n",
    "    # discretization of time and mass\n",
    "    data.time = (data.time*50).round()\n",
    "    data.mass = (data.mass*2).round()\n",
    "    data.time = data.time.astype(int)\n",
    "    data.mass = data.mass.astype(int)\n",
    "\n",
    "    # scaling intensity\n",
    "    data.intensity = MinMaxScaler().fit_transform(data.intensity.values.reshape(-1, 1))\n",
    "\n",
    "    # filling matrix\n",
    "    matrix = np.zeros(matrix_shape)\n",
    "    matrix[data['time'],data['mass']] = data['intensity']\n",
    "\n",
    "    return matrix , label\n"
   ]
  },
  {
   "cell_type": "markdown",
   "id": "efcea633",
   "metadata": {
    "id": "490a30fa",
    "papermill": {
     "duration": 0.007778,
     "end_time": "2023-07-19T18:21:56.768044",
     "exception": false,
     "start_time": "2023-07-19T18:21:56.760266",
     "status": "completed"
    },
    "tags": []
   },
   "source": [
    "## 3. Data Generation\n",
    "<ul>\n",
    "<li>Storing data matrix is costly</li>\n",
    "<li>data is generated in batches</li>\n",
    "</ul>\n"
   ]
  },
  {
   "cell_type": "code",
   "execution_count": 8,
   "id": "5337b75d",
   "metadata": {
    "execution": {
     "iopub.execute_input": "2023-07-19T18:21:56.787039Z",
     "iopub.status.busy": "2023-07-19T18:21:56.786100Z",
     "iopub.status.idle": "2023-07-19T18:21:56.797854Z",
     "shell.execute_reply": "2023-07-19T18:21:56.796704Z"
    },
    "id": "79ddb7ca",
    "papermill": {
     "duration": 0.024671,
     "end_time": "2023-07-19T18:21:56.800751",
     "exception": false,
     "start_time": "2023-07-19T18:21:56.776080",
     "status": "completed"
    },
    "tags": []
   },
   "outputs": [],
   "source": [
    "class DataGenerator(Sequence):\n",
    "    def __init__(self, data, batch_size):\n",
    "        self.data = data\n",
    "        self.batch_size = batch_size\n",
    "    def __len__(self):\n",
    "        return len(self.data) // self.batch_size\n",
    "\n",
    "    def __getitem__(self, idx):\n",
    "        low = idx * self.batch_size\n",
    "        high = min(low + self.batch_size, len(self.data))\n",
    "        batch_x = []\n",
    "        batch_y = []\n",
    "\n",
    "        for i, data_sample in enumerate(self.data[low:high]):\n",
    "            processed_sample, processed_label = self.preprocess_data(data_sample)\n",
    "            batch_x.append(processed_sample)\n",
    "            batch_y.append(processed_label)\n",
    "\n",
    "\n",
    "        while len(batch_x) < self.batch_size:\n",
    "            random_no = np.random.randint(0,len(self.data))\n",
    "            processed_sample, processed_label = self.preprocess_data(data_sample)\n",
    "            batch_x.append(processed_sample)\n",
    "            batch_y.append(processed_label)\n",
    "\n",
    "        return np.array(batch_x), np.array(batch_y)\n",
    "\n",
    "    def preprocess_data(self, data_sample):\n",
    "        matrix, label = create_matrix(data_sample)\n",
    "        if type(label) == np.ndarray:\n",
    "            label = np.array(label).astype(int)\n",
    "        return matrix , label\n"
   ]
  },
  {
   "cell_type": "markdown",
   "id": "110c78c0",
   "metadata": {
    "id": "5a85a8cb",
    "papermill": {
     "duration": 0.008368,
     "end_time": "2023-07-19T18:21:56.818413",
     "exception": false,
     "start_time": "2023-07-19T18:21:56.810045",
     "status": "completed"
    },
    "tags": []
   },
   "source": [
    "## 4. Model\n",
    "<ul>\n",
    "<li>convolutional layers </li>\n",
    "<li>pooling layers (max pooling) </li>\n",
    "<li>fully connected layers</li>\n",
    "<li>sigmoid layer</li>\n",
    "<li>output positive label probability</li>\n",
    "</ul>"
   ]
  },
  {
   "cell_type": "code",
   "execution_count": 9,
   "id": "8fee4eef",
   "metadata": {
    "execution": {
     "iopub.execute_input": "2023-07-19T18:21:56.837932Z",
     "iopub.status.busy": "2023-07-19T18:21:56.836866Z",
     "iopub.status.idle": "2023-07-19T18:21:56.844268Z",
     "shell.execute_reply": "2023-07-19T18:21:56.842468Z"
    },
    "id": "fd3c0758",
    "papermill": {
     "duration": 0.020517,
     "end_time": "2023-07-19T18:21:56.847521",
     "exception": false,
     "start_time": "2023-07-19T18:21:56.827004",
     "status": "completed"
    },
    "tags": []
   },
   "outputs": [],
   "source": [
    "label_names = [col for col in train_labels.columns[1:]]"
   ]
  },
  {
   "cell_type": "code",
   "execution_count": 10,
   "id": "6a453c84",
   "metadata": {
    "execution": {
     "iopub.execute_input": "2023-07-19T18:21:56.867632Z",
     "iopub.status.busy": "2023-07-19T18:21:56.867120Z",
     "iopub.status.idle": "2023-07-19T18:21:56.873200Z",
     "shell.execute_reply": "2023-07-19T18:21:56.872116Z"
    },
    "id": "ff54f238",
    "papermill": {
     "duration": 0.019637,
     "end_time": "2023-07-19T18:21:56.875528",
     "exception": false,
     "start_time": "2023-07-19T18:21:56.855891",
     "status": "completed"
    },
    "tags": []
   },
   "outputs": [],
   "source": [
    "# contants\n",
    "batch_size = 16\n",
    "num_epochs = 75\n",
    "model = None\n",
    "history = None"
   ]
  },
  {
   "cell_type": "code",
   "execution_count": 11,
   "id": "eb1ae500",
   "metadata": {
    "execution": {
     "iopub.execute_input": "2023-07-19T18:21:56.895096Z",
     "iopub.status.busy": "2023-07-19T18:21:56.894557Z",
     "iopub.status.idle": "2023-07-19T18:21:56.905778Z",
     "shell.execute_reply": "2023-07-19T18:21:56.903879Z"
    },
    "id": "kvgA-6pkiHZx",
    "outputId": "8617e103-a597-4aed-f3dc-fa1dc312b91e",
    "papermill": {
     "duration": 0.025109,
     "end_time": "2023-07-19T18:21:56.909020",
     "exception": false,
     "start_time": "2023-07-19T18:21:56.883911",
     "status": "completed"
    },
    "tags": []
   },
   "outputs": [
    {
     "name": "stdout",
     "output_type": "stream",
     "text": [
      "647 162\n"
     ]
    }
   ],
   "source": [
    "training_data = range(809)\n",
    "train_data, val_data = train_test_split(training_data, test_size=0.2, random_state=42)\n",
    "train_data_generator = DataGenerator(train_data, batch_size)\n",
    "val_data_generator = DataGenerator(val_data, batch_size)\n",
    "print(len(train_data), len(val_data))"
   ]
  },
  {
   "cell_type": "code",
   "execution_count": 12,
   "id": "b5dd9b6f",
   "metadata": {
    "execution": {
     "iopub.execute_input": "2023-07-19T18:21:56.929480Z",
     "iopub.status.busy": "2023-07-19T18:21:56.928951Z",
     "iopub.status.idle": "2023-07-19T18:21:57.968359Z",
     "shell.execute_reply": "2023-07-19T18:21:57.967381Z"
    },
    "id": "cf2fc727",
    "outputId": "ce65ac22-ecdf-416b-adbf-2dce39ce2ff8",
    "papermill": {
     "duration": 1.060243,
     "end_time": "2023-07-19T18:21:57.978487",
     "exception": false,
     "start_time": "2023-07-19T18:21:56.918244",
     "status": "completed"
    },
    "tags": []
   },
   "outputs": [
    {
     "name": "stdout",
     "output_type": "stream",
     "text": [
      "Model: \"sequential\"\n",
      "_________________________________________________________________\n",
      " Layer (type)                Output Shape              Param #   \n",
      "=================================================================\n",
      " conv2d (Conv2D)             (None, 27, 1400, 32)      3872      \n",
      "                                                                 \n",
      " max_pooling2d (MaxPooling2D  (None, 3, 700, 32)       0         \n",
      " )                                                               \n",
      "                                                                 \n",
      " flatten (Flatten)           (None, 67200)             0         \n",
      "                                                                 \n",
      " dense (Dense)               (None, 1024)              68813824  \n",
      "                                                                 \n",
      " dense_1 (Dense)             (None, 128)               131200    \n",
      "                                                                 \n",
      " dense_2 (Dense)             (None, 9)                 1161      \n",
      "                                                                 \n",
      "=================================================================\n",
      "Total params: 68,950,057\n",
      "Trainable params: 68,950,057\n",
      "Non-trainable params: 0\n",
      "_________________________________________________________________\n"
     ]
    }
   ],
   "source": [
    "model = Sequential()\n",
    "model.add(Conv2D(32, kernel_size = (120,1), padding= 'same',strides = (100,1),activation='relu', input_shape=(num_time_values, num_mass_values, 1)))\n",
    "model.add(MaxPooling2D(pool_size=(9, 2)))\n",
    "\n",
    "model.add(Flatten())\n",
    "\n",
    "model.add(Dense(1024, activation='relu'))\n",
    "model.add(Dense(128, activation='relu'))\n",
    "model.add(Dense(9, activation='sigmoid'))\n",
    "\n",
    "opt = tf.keras.optimizers.Adam(learning_rate = 0.0001)\n",
    "\n",
    "model.compile(loss=tf.keras.losses.BinaryCrossentropy(from_logits=True), optimizer=opt, metrics=['AUC']) # from logits = true\n",
    "\n",
    "model.summary()"
   ]
  },
  {
   "cell_type": "code",
   "execution_count": 13,
   "id": "6d96afb1",
   "metadata": {
    "execution": {
     "iopub.execute_input": "2023-07-19T18:21:58.002887Z",
     "iopub.status.busy": "2023-07-19T18:21:58.001120Z",
     "iopub.status.idle": "2023-07-19T21:26:56.489345Z",
     "shell.execute_reply": "2023-07-19T21:26:56.482318Z"
    },
    "id": "c3a8f41d",
    "outputId": "aa0ae9b1-811c-499b-ea2b-801b1109e1ed",
    "papermill": {
     "duration": 11098.604724,
     "end_time": "2023-07-19T21:26:56.593207",
     "exception": false,
     "start_time": "2023-07-19T18:21:57.988483",
     "status": "completed"
    },
    "tags": []
   },
   "outputs": [
    {
     "name": "stdout",
     "output_type": "stream",
     "text": [
      "Epoch 1/75\n",
      "40/40 [==============================] - 512s 13s/step - loss: 0.4607 - auc: 0.6166 - val_loss: 0.2800 - val_auc: 0.7733\n",
      "Epoch 2/75\n",
      "40/40 [==============================] - 394s 10s/step - loss: 0.2762 - auc: 0.8037 - val_loss: 0.2348 - val_auc: 0.8435\n",
      "Epoch 3/75\n",
      "40/40 [==============================] - 454s 11s/step - loss: 0.2408 - auc: 0.8595 - val_loss: 0.2172 - val_auc: 0.8743\n",
      "Epoch 4/75\n",
      "40/40 [==============================] - 393s 10s/step - loss: 0.2181 - auc: 0.8913 - val_loss: 0.2072 - val_auc: 0.8927\n",
      "Epoch 5/75\n",
      "40/40 [==============================] - 375s 9s/step - loss: 0.2036 - auc: 0.9104 - val_loss: 0.2074 - val_auc: 0.9063\n",
      "Epoch 6/75\n",
      "40/40 [==============================] - 428s 11s/step - loss: 0.1912 - auc: 0.9272 - val_loss: 0.1932 - val_auc: 0.9159\n",
      "Epoch 7/75\n",
      "40/40 [==============================] - 401s 10s/step - loss: 0.1807 - auc: 0.9365 - val_loss: 0.1944 - val_auc: 0.9144\n",
      "Epoch 8/75\n",
      "40/40 [==============================] - 433s 11s/step - loss: 0.1702 - auc: 0.9435 - val_loss: 0.1898 - val_auc: 0.9225\n",
      "Epoch 9/75\n",
      "40/40 [==============================] - 441s 11s/step - loss: 0.1658 - auc: 0.9488 - val_loss: 0.1752 - val_auc: 0.9304\n",
      "Epoch 10/75\n",
      "40/40 [==============================] - 471s 12s/step - loss: 0.1551 - auc: 0.9556 - val_loss: 0.1734 - val_auc: 0.9323\n",
      "Epoch 11/75\n",
      "40/40 [==============================] - 411s 10s/step - loss: 0.1487 - auc: 0.9595 - val_loss: 0.1723 - val_auc: 0.9318\n",
      "Epoch 12/75\n",
      "40/40 [==============================] - 425s 11s/step - loss: 0.1427 - auc: 0.9631 - val_loss: 0.1712 - val_auc: 0.9325\n",
      "Epoch 13/75\n",
      "40/40 [==============================] - 406s 10s/step - loss: 0.1345 - auc: 0.9671 - val_loss: 0.1679 - val_auc: 0.9323\n",
      "Epoch 14/75\n",
      "40/40 [==============================] - 403s 10s/step - loss: 0.1307 - auc: 0.9689 - val_loss: 0.1739 - val_auc: 0.9378\n",
      "Epoch 15/75\n",
      "40/40 [==============================] - 443s 11s/step - loss: 0.1279 - auc: 0.9715 - val_loss: 0.1633 - val_auc: 0.9335\n",
      "Epoch 16/75\n",
      "40/40 [==============================] - 444s 11s/step - loss: 0.1197 - auc: 0.9742 - val_loss: 0.1631 - val_auc: 0.9384\n",
      "Epoch 17/75\n",
      "40/40 [==============================] - 409s 10s/step - loss: 0.1131 - auc: 0.9774 - val_loss: 0.1710 - val_auc: 0.9395\n",
      "Epoch 18/75\n",
      "40/40 [==============================] - 400s 10s/step - loss: 0.1100 - auc: 0.9790 - val_loss: 0.1620 - val_auc: 0.9368\n",
      "Epoch 19/75\n",
      "40/40 [==============================] - 439s 11s/step - loss: 0.1060 - auc: 0.9795 - val_loss: 0.1649 - val_auc: 0.9410\n",
      "Epoch 20/75\n",
      "40/40 [==============================] - 479s 12s/step - loss: 0.1012 - auc: 0.9824 - val_loss: 0.1546 - val_auc: 0.9418\n",
      "Epoch 21/75\n",
      "40/40 [==============================] - 421s 10s/step - loss: 0.0950 - auc: 0.9842 - val_loss: 0.1647 - val_auc: 0.9383\n",
      "Epoch 22/75\n",
      "40/40 [==============================] - 454s 11s/step - loss: 0.0935 - auc: 0.9850 - val_loss: 0.1651 - val_auc: 0.9417\n",
      "Epoch 23/75\n",
      "40/40 [==============================] - 409s 10s/step - loss: 0.0890 - auc: 0.9867 - val_loss: 0.1783 - val_auc: 0.9308\n",
      "Epoch 24/75\n",
      "40/40 [==============================] - 408s 10s/step - loss: 0.0867 - auc: 0.9875 - val_loss: 0.1655 - val_auc: 0.9395\n",
      "Epoch 25/75\n",
      "40/40 [==============================] - 430s 11s/step - loss: 0.0846 - auc: 0.9876 - val_loss: 0.1649 - val_auc: 0.9355\n"
     ]
    }
   ],
   "source": [
    "es = EarlyStopping(monitor = 'val_loss', patience = 5, restore_best_weights = True  )\n",
    "history = model.fit(train_data_generator, epochs=num_epochs, validation_data=val_data_generator, callbacks=[es],verbose = 1)"
   ]
  },
  {
   "cell_type": "code",
   "execution_count": 14,
   "id": "b6c69530",
   "metadata": {
    "execution": {
     "iopub.execute_input": "2023-07-19T21:26:56.844835Z",
     "iopub.status.busy": "2023-07-19T21:26:56.843990Z",
     "iopub.status.idle": "2023-07-19T21:26:58.566293Z",
     "shell.execute_reply": "2023-07-19T21:26:58.564571Z"
    },
    "id": "3f2ae88e",
    "papermill": {
     "duration": 1.841577,
     "end_time": "2023-07-19T21:26:58.569892",
     "exception": false,
     "start_time": "2023-07-19T21:26:56.728315",
     "status": "completed"
    },
    "tags": []
   },
   "outputs": [],
   "source": [
    "model.save(\"cnn_model_test.keras\")"
   ]
  },
  {
   "cell_type": "markdown",
   "id": "7285be62",
   "metadata": {
    "id": "ba71ea10",
    "papermill": {
     "duration": 0.107591,
     "end_time": "2023-07-19T21:26:58.786699",
     "exception": false,
     "start_time": "2023-07-19T21:26:58.679108",
     "status": "completed"
    },
    "tags": []
   },
   "source": [
    "## 5. Performance\n",
    "<ul>\n",
    "<li>train and validation losses</li>\n",
    "</ul>"
   ]
  },
  {
   "cell_type": "code",
   "execution_count": 15,
   "id": "cbedaef2",
   "metadata": {
    "execution": {
     "iopub.execute_input": "2023-07-19T21:26:59.009738Z",
     "iopub.status.busy": "2023-07-19T21:26:59.008685Z",
     "iopub.status.idle": "2023-07-19T21:27:08.716180Z",
     "shell.execute_reply": "2023-07-19T21:27:08.714612Z"
    },
    "id": "bc61259e",
    "papermill": {
     "duration": 9.822285,
     "end_time": "2023-07-19T21:27:08.719471",
     "exception": false,
     "start_time": "2023-07-19T21:26:58.897186",
     "status": "completed"
    },
    "tags": []
   },
   "outputs": [
    {
     "data": {
      "image/png": "[encoded data removed]",
      "text/plain": [
       "<Figure size 640x480 with 1 Axes>"
      ]
     },
     "metadata": {},
     "output_type": "display_data"
    }
   ],
   "source": [
    "train_loss = history.history['loss']\n",
    "val_loss = history.history['val_loss']\n",
    "epochs = range(1, len(train_loss) + 1)\n",
    "\n",
    "plt.plot(epochs, train_loss, 'b', label='Training Loss')\n",
    "plt.plot(epochs, val_loss, 'r', label='Validation Loss')\n",
    "plt.title('Training and Validation Loss')\n",
    "plt.xlabel('Epochs')\n",
    "plt.ylabel('Loss')\n",
    "plt.grid()\n",
    "plt.legend()\n",
    "plt.show()\n",
    "\n"
   ]
  },
  {
   "cell_type": "code",
   "execution_count": 16,
   "id": "4ffabb79",
   "metadata": {
    "execution": {
     "iopub.execute_input": "2023-07-19T21:27:08.938098Z",
     "iopub.status.busy": "2023-07-19T21:27:08.937577Z",
     "iopub.status.idle": "2023-07-19T21:32:32.413499Z",
     "shell.execute_reply": "2023-07-19T21:32:32.411664Z"
    },
    "id": "c14289c9",
    "papermill": {
     "duration": 323.593211,
     "end_time": "2023-07-19T21:32:32.420679",
     "exception": false,
     "start_time": "2023-07-19T21:27:08.827468",
     "status": "completed"
    },
    "tags": []
   },
   "outputs": [],
   "source": [
    "y_pred = model.predict(DataGenerator(range(809),1), verbose = 0)"
   ]
  },
  {
   "cell_type": "markdown",
   "id": "fee025cb",
   "metadata": {
    "id": "80af68ce",
    "papermill": {
     "duration": 0.121475,
     "end_time": "2023-07-19T21:32:32.660557",
     "exception": false,
     "start_time": "2023-07-19T21:32:32.539082",
     "status": "completed"
    },
    "tags": []
   },
   "source": [
    "### Classification Reports"
   ]
  },
  {
   "cell_type": "code",
   "execution_count": 17,
   "id": "0a6977a2",
   "metadata": {
    "execution": {
     "iopub.execute_input": "2023-07-19T21:32:32.888732Z",
     "iopub.status.busy": "2023-07-19T21:32:32.888164Z",
     "iopub.status.idle": "2023-07-19T21:32:33.059737Z",
     "shell.execute_reply": "2023-07-19T21:32:33.058348Z"
    },
    "id": "5ef8f090",
    "papermill": {
     "duration": 0.290403,
     "end_time": "2023-07-19T21:32:33.062891",
     "exception": false,
     "start_time": "2023-07-19T21:32:32.772488",
     "status": "completed"
    },
    "tags": []
   },
   "outputs": [
    {
     "name": "stdout",
     "output_type": "stream",
     "text": [
      "aromatic\n",
      "              precision    recall  f1-score   support\n",
      "\n",
      "           0       0.97      0.97      0.97       730\n",
      "           1       0.72      0.76      0.74        79\n",
      "\n",
      "    accuracy                           0.95       809\n",
      "   macro avg       0.85      0.86      0.86       809\n",
      "weighted avg       0.95      0.95      0.95       809\n",
      "\n",
      "roc_auc_score : 0.967556788624935\n",
      "log loss      : 0.12826428768432313\n",
      "-------------------------------------------------------------\n",
      "hydrocarbon\n",
      "              precision    recall  f1-score   support\n",
      "\n",
      "           0       0.96      0.95      0.96       544\n",
      "           1       0.91      0.92      0.91       265\n",
      "\n",
      "    accuracy                           0.94       809\n",
      "   macro avg       0.93      0.94      0.93       809\n",
      "weighted avg       0.94      0.94      0.94       809\n",
      "\n",
      "roc_auc_score : 0.9747502774694784\n",
      "log loss      : 0.17895843637167166\n",
      "-------------------------------------------------------------\n",
      "carboxylic_acid\n",
      "              precision    recall  f1-score   support\n",
      "\n",
      "           0       0.93      0.99      0.96       694\n",
      "           1       0.93      0.57      0.71       115\n",
      "\n",
      "    accuracy                           0.93       809\n",
      "   macro avg       0.93      0.78      0.84       809\n",
      "weighted avg       0.93      0.93      0.93       809\n",
      "\n",
      "roc_auc_score : 0.9745645909033956\n",
      "log loss      : 0.15544742719868354\n",
      "-------------------------------------------------------------\n",
      "nitrogen_bearing_compound\n",
      "              precision    recall  f1-score   support\n",
      "\n",
      "           0       0.95      0.99      0.97       713\n",
      "           1       0.92      0.58      0.71        96\n",
      "\n",
      "    accuracy                           0.94       809\n",
      "   macro avg       0.93      0.79      0.84       809\n",
      "weighted avg       0.94      0.94      0.94       809\n",
      "\n",
      "roc_auc_score : 0.9784069658719028\n",
      "log loss      : 0.12620935284116847\n",
      "-------------------------------------------------------------\n",
      "chlorine_bearing_compound\n",
      "              precision    recall  f1-score   support\n",
      "\n",
      "           0       0.99      1.00      0.99       791\n",
      "           1       0.90      0.50      0.64        18\n",
      "\n",
      "    accuracy                           0.99       809\n",
      "   macro avg       0.94      0.75      0.82       809\n",
      "weighted avg       0.99      0.99      0.99       809\n",
      "\n",
      "roc_auc_score : 0.9822306503722433\n",
      "log loss      : 0.03862685926715352\n",
      "-------------------------------------------------------------\n",
      "sulfur_bearing_compound\n",
      "              precision    recall  f1-score   support\n",
      "\n",
      "           0       0.98      1.00      0.99       778\n",
      "           1       0.89      0.52      0.65        31\n",
      "\n",
      "    accuracy                           0.98       809\n",
      "   macro avg       0.93      0.76      0.82       809\n",
      "weighted avg       0.98      0.98      0.98       809\n",
      "\n",
      "roc_auc_score : 0.9859441081350029\n",
      "log loss      : 0.05796309958084185\n",
      "-------------------------------------------------------------\n",
      "alcohol\n",
      "              precision    recall  f1-score   support\n",
      "\n",
      "           0       0.98      1.00      0.99       783\n",
      "           1       0.80      0.46      0.59        26\n",
      "\n",
      "    accuracy                           0.98       809\n",
      "   macro avg       0.89      0.73      0.79       809\n",
      "weighted avg       0.98      0.98      0.98       809\n",
      "\n",
      "roc_auc_score : 0.9841340013753807\n",
      "log loss      : 0.058272361509323266\n",
      "-------------------------------------------------------------\n",
      "other_oxygen_bearing_compound\n",
      "              precision    recall  f1-score   support\n",
      "\n",
      "           0       0.98      1.00      0.99       788\n",
      "           1       1.00      0.43      0.60        21\n",
      "\n",
      "    accuracy                           0.99       809\n",
      "   macro avg       0.99      0.71      0.80       809\n",
      "weighted avg       0.99      0.99      0.98       809\n",
      "\n",
      "roc_auc_score : 0.9847111433405851\n",
      "log loss      : 0.049659749845903454\n",
      "-------------------------------------------------------------\n",
      "mineral\n",
      "              precision    recall  f1-score   support\n",
      "\n",
      "           0       0.94      0.99      0.97       692\n",
      "           1       0.91      0.66      0.76       117\n",
      "\n",
      "    accuracy                           0.94       809\n",
      "   macro avg       0.93      0.82      0.86       809\n",
      "weighted avg       0.94      0.94      0.94       809\n",
      "\n",
      "roc_auc_score : 0.9687762462328936\n",
      "log loss      : 0.15860711154885174\n",
      "-------------------------------------------------------------\n"
     ]
    }
   ],
   "source": [
    "for i in range(9):\n",
    "    y_true_column = train_labels.iloc[:, i+1].values\n",
    "    y_pred_column = y_pred[:, i].round()\n",
    "\n",
    "    report = classification_report(y_true_column, y_pred_column)\n",
    "    print(f\"{label_names[i]}\")\n",
    "    print(report)\n",
    "    print(f\"roc_auc_score : {roc_auc_score(y_true_column, y_pred[:, i])}\")\n",
    "    print(f\"log loss      : {log_loss(y_true_column, y_pred[:, i])}\")\n",
    "\n",
    "    print(\"-------------------------------------------------------------\")\n"
   ]
  },
  {
   "cell_type": "code",
   "execution_count": null,
   "id": "f648e7cf",
   "metadata": {
    "id": "2c0b5fd1",
    "papermill": {
     "duration": 0.110154,
     "end_time": "2023-07-19T21:32:33.287436",
     "exception": false,
     "start_time": "2023-07-19T21:32:33.177282",
     "status": "completed"
    },
    "tags": []
   },
   "outputs": [],
   "source": []
  }
 ],
 "metadata": {
  "kernelspec": {
   "display_name": "Python 3",
   "language": "python",
   "name": "python3"
  },
  "language_info": {
   "codemirror_mode": {
    "name": "ipython",
    "version": 3
   },
   "file_extension": ".py",
   "mimetype": "text/x-python",
   "name": "python",
   "nbconvert_exporter": "python",
   "pygments_lexer": "ipython3",
   "version": "3.10.12"
  },
  "papermill": {
   "default_parameters": {},
   "duration": 11468.38185,
   "end_time": "2023-07-19T21:32:36.574034",
   "environment_variables": {},
   "exception": null,
   "input_path": "__notebook__.ipynb",
   "output_path": "__notebook__.ipynb",
   "parameters": {},
   "start_time": "2023-07-19T18:21:28.192184",
   "version": "2.4.0"
  }
 },
 "nbformat": 4,
 "nbformat_minor": 5
}
