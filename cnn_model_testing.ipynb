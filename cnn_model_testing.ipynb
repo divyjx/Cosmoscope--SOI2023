{
 "cells": [
  {
   "cell_type": "markdown",
   "id": "cccf7ea4",
   "metadata": {
    "id": "19a292b6",
    "papermill": {
     "duration": 0.012148,
     "end_time": "2023-07-20T17:20:29.868220",
     "exception": false,
     "start_time": "2023-07-20T17:20:29.856072",
     "status": "completed"
    },
    "tags": []
   },
   "source": [
    "## 1. Data Description\n",
    "<ul>\n",
    "<li>there are 809 training examples</li>\n",
    "<li>each of them is a dataframe with time, mass , and intensity values</li>\n",
    "<li>dataframe lenghts are variable</li>\n",
    "</ul>\n"
   ]
  },
  {
   "cell_type": "code",
   "execution_count": 1,
   "id": "6c38901b",
   "metadata": {
    "execution": {
     "iopub.execute_input": "2023-07-20T17:20:29.887086Z",
     "iopub.status.busy": "2023-07-20T17:20:29.886126Z",
     "iopub.status.idle": "2023-07-20T17:20:40.902978Z",
     "shell.execute_reply": "2023-07-20T17:20:40.901682Z"
    },
    "id": "669ca0ad",
    "papermill": {
     "duration": 11.02944,
     "end_time": "2023-07-20T17:20:40.905883",
     "exception": false,
     "start_time": "2023-07-20T17:20:29.876443",
     "status": "completed"
    },
    "tags": []
   },
   "outputs": [],
   "source": [
    "import warnings\n",
    "warnings.filterwarnings('ignore')\n",
    "\n",
    "# for processing numbers and files csv\n",
    "import pandas as pd\n",
    "import numpy as np\n",
    "\n",
    "# for visualization\n",
    "import matplotlib.pyplot as plt\n",
    "%matplotlib inline\n",
    "\n",
    "# preprocessing\n",
    "from sklearn.preprocessing import MinMaxScaler\n",
    "from sklearn.model_selection import train_test_split\n",
    "from sklearn.metrics import classification_report, roc_auc_score, log_loss\n",
    "\n",
    "# model related\n",
    "from tensorflow.keras.callbacks import EarlyStopping\n",
    "from tensorflow.keras.utils import Sequence\n",
    "from tensorflow.keras.models import Sequential\n",
    "from tensorflow.keras.layers import Conv2D, MaxPooling2D, Flatten, Dense\n",
    "\n",
    "import tensorflow as tf\n"
   ]
  },
  {
   "cell_type": "code",
   "execution_count": 2,
   "id": "94e1a19f",
   "metadata": {
    "execution": {
     "iopub.execute_input": "2023-07-20T17:20:40.924152Z",
     "iopub.status.busy": "2023-07-20T17:20:40.923410Z",
     "iopub.status.idle": "2023-07-20T17:20:40.927874Z",
     "shell.execute_reply": "2023-07-20T17:20:40.926963Z"
    },
    "id": "YIiXAuIFueEv",
    "outputId": "bef609e5-3742-4d4c-8c6f-a12c7ab4bed4",
    "papermill": {
     "duration": 0.016345,
     "end_time": "2023-07-20T17:20:40.930273",
     "exception": false,
     "start_time": "2023-07-20T17:20:40.913928",
     "status": "completed"
    },
    "tags": []
   },
   "outputs": [],
   "source": [
    "# # for working in colab\n",
    "# from google.colab import drive\n",
    "# drive.mount('/content/drive')"
   ]
  },
  {
   "cell_type": "code",
   "execution_count": 3,
   "id": "fb1ff7cc",
   "metadata": {
    "execution": {
     "iopub.execute_input": "2023-07-20T17:20:40.948969Z",
     "iopub.status.busy": "2023-07-20T17:20:40.948213Z",
     "iopub.status.idle": "2023-07-20T17:20:40.968164Z",
     "shell.execute_reply": "2023-07-20T17:20:40.967013Z"
    },
    "id": "3c287e18",
    "outputId": "0307db73-26a6-46e2-f685-979a2b58476d",
    "papermill": {
     "duration": 0.032009,
     "end_time": "2023-07-20T17:20:40.970655",
     "exception": false,
     "start_time": "2023-07-20T17:20:40.938646",
     "status": "completed"
    },
    "tags": []
   },
   "outputs": [
    {
     "data": {
      "text/plain": [
       "False"
      ]
     },
     "execution_count": 3,
     "metadata": {},
     "output_type": "execute_result"
    }
   ],
   "source": [
    "#for gpu\n",
    "tf.test.is_gpu_available()"
   ]
  },
  {
   "cell_type": "code",
   "execution_count": 4,
   "id": "abc6d00d",
   "metadata": {
    "execution": {
     "iopub.execute_input": "2023-07-20T17:20:40.988776Z",
     "iopub.status.busy": "2023-07-20T17:20:40.987831Z",
     "iopub.status.idle": "2023-07-20T17:20:40.993290Z",
     "shell.execute_reply": "2023-07-20T17:20:40.992512Z"
    },
    "id": "815d00ae",
    "papermill": {
     "duration": 0.016985,
     "end_time": "2023-07-20T17:20:40.995600",
     "exception": false,
     "start_time": "2023-07-20T17:20:40.978615",
     "status": "completed"
    },
    "tags": []
   },
   "outputs": [],
   "source": [
    "# for working in kaggle use this paths\n",
    "kag_path_in = \"/kaggle/input/mars-spec-train/\"\n",
    "kag_path_out = \"/kaggle/working/\"\n",
    "\n",
    "# # for working in colab  \n",
    "# kag_path_in = \"/content/drive/MyDrive/\" # google drive\n",
    "# kag_path_out = \"\"\n",
    "\n",
    "# add custom paths here (uncomment)\n",
    "# kag_path_in = \"\"\n",
    "# kag_path_out = \"\""
   ]
  },
  {
   "cell_type": "code",
   "execution_count": 5,
   "id": "b7b3c77d",
   "metadata": {
    "execution": {
     "iopub.execute_input": "2023-07-20T17:20:41.014028Z",
     "iopub.status.busy": "2023-07-20T17:20:41.013187Z",
     "iopub.status.idle": "2023-07-20T17:20:41.058063Z",
     "shell.execute_reply": "2023-07-20T17:20:41.056621Z"
    },
    "id": "97f3d01c",
    "papermill": {
     "duration": 0.057428,
     "end_time": "2023-07-20T17:20:41.061094",
     "exception": false,
     "start_time": "2023-07-20T17:20:41.003666",
     "status": "completed"
    },
    "tags": []
   },
   "outputs": [],
   "source": [
    "# metadata = pd.read_csv('/kaggle/input/mars-spec-train/metadata.csv').fillna(0)\n",
    "# train_labels = pd.read_csv('/kaggle/input/mars-spec-train/train_labels.csv')\n",
    "metadata = pd.read_csv(kag_path_in+'metadata.csv').fillna(0)\n",
    "train_labels = pd.read_csv(kag_path_in+'train_labels.csv')"
   ]
  },
  {
   "cell_type": "markdown",
   "id": "05ccff8c",
   "metadata": {
    "id": "d6089094",
    "papermill": {
     "duration": 0.008031,
     "end_time": "2023-07-20T17:20:41.077309",
     "exception": false,
     "start_time": "2023-07-20T17:20:41.069278",
     "status": "completed"
    },
    "tags": []
   },
   "source": [
    "## 2. Preprocessing and Feature extraction\n",
    "<ul>\n",
    "<li>mass values are grouped into values seperated by 0.50 </li>\n",
    "<li>time values are grouped into values seperated by 0.02 </li>\n",
    "<li>Time * Mass matrix (2700,1400) with Intensity values </li>\n",
    "</ul>"
   ]
  },
  {
   "cell_type": "code",
   "execution_count": 6,
   "id": "c67cf703",
   "metadata": {
    "execution": {
     "iopub.execute_input": "2023-07-20T17:20:41.095908Z",
     "iopub.status.busy": "2023-07-20T17:20:41.095149Z",
     "iopub.status.idle": "2023-07-20T17:20:41.099944Z",
     "shell.execute_reply": "2023-07-20T17:20:41.099109Z"
    },
    "id": "39247504",
    "papermill": {
     "duration": 0.016837,
     "end_time": "2023-07-20T17:20:41.102226",
     "exception": false,
     "start_time": "2023-07-20T17:20:41.085389",
     "status": "completed"
    },
    "tags": []
   },
   "outputs": [],
   "source": [
    "# constants\n",
    "num_mass_values = 1400\n",
    "num_time_values = 2700\n",
    "matrix_shape = (num_time_values, num_mass_values)"
   ]
  },
  {
   "cell_type": "code",
   "execution_count": 7,
   "id": "54277a94",
   "metadata": {
    "execution": {
     "iopub.execute_input": "2023-07-20T17:20:41.121378Z",
     "iopub.status.busy": "2023-07-20T17:20:41.120940Z",
     "iopub.status.idle": "2023-07-20T17:20:41.129338Z",
     "shell.execute_reply": "2023-07-20T17:20:41.128327Z"
    },
    "id": "174557ea",
    "papermill": {
     "duration": 0.019998,
     "end_time": "2023-07-20T17:20:41.131561",
     "exception": false,
     "start_time": "2023-07-20T17:20:41.111563",
     "status": "completed"
    },
    "tags": []
   },
   "outputs": [],
   "source": [
    "\n",
    "# Function to create the Time X Mass matrix for a single data sample\n",
    "def create_matrix(id):\n",
    "\n",
    "    sample_id, split, derivate, path, _ = metadata.iloc[id]\n",
    "    data = pd.read_csv(kag_path_in+path)\n",
    "\n",
    "    label = None\n",
    "    if (split == 'train'):\n",
    "        label = train_labels.iloc[id].values[1:]\n",
    "\n",
    "    # discretization of time and mass\n",
    "    data.time = (data.time*50).round()\n",
    "    data.mass = (data.mass*2).round()\n",
    "    data.time = data.time.astype(int)\n",
    "    data.mass = data.mass.astype(int)\n",
    "\n",
    "    # scaling intensity\n",
    "    data.intensity = MinMaxScaler().fit_transform(data.intensity.values.reshape(-1, 1))\n",
    "\n",
    "    # filling matrix\n",
    "    matrix = np.zeros(matrix_shape)\n",
    "    matrix[data['time'],data['mass']] = data['intensity']\n",
    "\n",
    "    return matrix , label\n"
   ]
  },
  {
   "cell_type": "markdown",
   "id": "2b1a89b4",
   "metadata": {
    "id": "490a30fa",
    "papermill": {
     "duration": 0.007699,
     "end_time": "2023-07-20T17:20:41.147290",
     "exception": false,
     "start_time": "2023-07-20T17:20:41.139591",
     "status": "completed"
    },
    "tags": []
   },
   "source": [
    "## 3. Data Generation\n",
    "<ul>\n",
    "<li>Storing data matrix is costly</li>\n",
    "<li>data is generated in batches</li>\n",
    "</ul>\n"
   ]
  },
  {
   "cell_type": "code",
   "execution_count": 8,
   "id": "dd3a8553",
   "metadata": {
    "execution": {
     "iopub.execute_input": "2023-07-20T17:20:41.165359Z",
     "iopub.status.busy": "2023-07-20T17:20:41.164643Z",
     "iopub.status.idle": "2023-07-20T17:20:41.175179Z",
     "shell.execute_reply": "2023-07-20T17:20:41.174226Z"
    },
    "id": "79ddb7ca",
    "papermill": {
     "duration": 0.022617,
     "end_time": "2023-07-20T17:20:41.177764",
     "exception": false,
     "start_time": "2023-07-20T17:20:41.155147",
     "status": "completed"
    },
    "tags": []
   },
   "outputs": [],
   "source": [
    "class DataGenerator(Sequence):\n",
    "    def __init__(self, data, batch_size):\n",
    "        self.data = data\n",
    "        self.batch_size = batch_size\n",
    "    def __len__(self):\n",
    "        return len(self.data) // self.batch_size\n",
    "\n",
    "    def __getitem__(self, idx):\n",
    "        low = idx * self.batch_size\n",
    "        high = min(low + self.batch_size, len(self.data))\n",
    "        batch_x = []\n",
    "        batch_y = []\n",
    "\n",
    "        for i, data_sample in enumerate(self.data[low:high]):\n",
    "            processed_sample, processed_label = self.preprocess_data(data_sample)\n",
    "            batch_x.append(processed_sample)\n",
    "            batch_y.append(processed_label)\n",
    "\n",
    "\n",
    "        while len(batch_x) < self.batch_size:\n",
    "            random_no = np.random.randint(0,len(self.data))\n",
    "            processed_sample, processed_label = self.preprocess_data(data_sample)\n",
    "            batch_x.append(processed_sample)\n",
    "            batch_y.append(processed_label)\n",
    "\n",
    "        return np.array(batch_x), np.array(batch_y)\n",
    "\n",
    "    def preprocess_data(self, data_sample):\n",
    "        matrix, label = create_matrix(data_sample)\n",
    "        if type(label) == np.ndarray:\n",
    "            label = np.array(label).astype(int)\n",
    "        return matrix , label\n"
   ]
  },
  {
   "cell_type": "markdown",
   "id": "f9b13322",
   "metadata": {
    "id": "5a85a8cb",
    "papermill": {
     "duration": 0.007802,
     "end_time": "2023-07-20T17:20:41.193566",
     "exception": false,
     "start_time": "2023-07-20T17:20:41.185764",
     "status": "completed"
    },
    "tags": []
   },
   "source": [
    "## 4. Model\n",
    "<ul>\n",
    "<li>convolutional layers </li>\n",
    "<li>pooling layers (max pooling) </li>\n",
    "<li>fully connected layers</li>\n",
    "<li>sigmoid layer</li>\n",
    "<li>output positive label probability</li>\n",
    "</ul>"
   ]
  },
  {
   "cell_type": "code",
   "execution_count": 9,
   "id": "5fe0e5d3",
   "metadata": {
    "execution": {
     "iopub.execute_input": "2023-07-20T17:20:41.211771Z",
     "iopub.status.busy": "2023-07-20T17:20:41.211099Z",
     "iopub.status.idle": "2023-07-20T17:20:41.217389Z",
     "shell.execute_reply": "2023-07-20T17:20:41.216052Z"
    },
    "id": "fd3c0758",
    "papermill": {
     "duration": 0.018426,
     "end_time": "2023-07-20T17:20:41.219899",
     "exception": false,
     "start_time": "2023-07-20T17:20:41.201473",
     "status": "completed"
    },
    "tags": []
   },
   "outputs": [],
   "source": [
    "label_names = [col for col in train_labels.columns[1:]]"
   ]
  },
  {
   "cell_type": "code",
   "execution_count": 10,
   "id": "dc68a341",
   "metadata": {
    "execution": {
     "iopub.execute_input": "2023-07-20T17:20:41.237596Z",
     "iopub.status.busy": "2023-07-20T17:20:41.237157Z",
     "iopub.status.idle": "2023-07-20T17:20:41.242552Z",
     "shell.execute_reply": "2023-07-20T17:20:41.241311Z"
    },
    "id": "ff54f238",
    "papermill": {
     "duration": 0.016939,
     "end_time": "2023-07-20T17:20:41.244870",
     "exception": false,
     "start_time": "2023-07-20T17:20:41.227931",
     "status": "completed"
    },
    "tags": []
   },
   "outputs": [],
   "source": [
    "# contants\n",
    "batch_size = 16\n",
    "num_epochs = 75\n",
    "model = None\n",
    "history = None"
   ]
  },
  {
   "cell_type": "code",
   "execution_count": 11,
   "id": "499cf873",
   "metadata": {
    "execution": {
     "iopub.execute_input": "2023-07-20T17:20:41.263085Z",
     "iopub.status.busy": "2023-07-20T17:20:41.262367Z",
     "iopub.status.idle": "2023-07-20T17:20:41.270128Z",
     "shell.execute_reply": "2023-07-20T17:20:41.268850Z"
    },
    "id": "kvgA-6pkiHZx",
    "outputId": "8617e103-a597-4aed-f3dc-fa1dc312b91e",
    "papermill": {
     "duration": 0.019434,
     "end_time": "2023-07-20T17:20:41.272459",
     "exception": false,
     "start_time": "2023-07-20T17:20:41.253025",
     "status": "completed"
    },
    "tags": []
   },
   "outputs": [
    {
     "name": "stdout",
     "output_type": "stream",
     "text": [
      "647 162\n"
     ]
    }
   ],
   "source": [
    "training_data = range(809)\n",
    "train_data, val_data = train_test_split(training_data, test_size=0.2, random_state=42)\n",
    "train_data_generator = DataGenerator(train_data, batch_size)\n",
    "val_data_generator = DataGenerator(val_data, batch_size)\n",
    "print(len(train_data), len(val_data))"
   ]
  },
  {
   "cell_type": "code",
   "execution_count": 12,
   "id": "1222e31b",
   "metadata": {
    "execution": {
     "iopub.execute_input": "2023-07-20T17:20:41.291067Z",
     "iopub.status.busy": "2023-07-20T17:20:41.290318Z",
     "iopub.status.idle": "2023-07-20T17:20:42.825369Z",
     "shell.execute_reply": "2023-07-20T17:20:42.823138Z"
    },
    "id": "cf2fc727",
    "outputId": "ce65ac22-ecdf-416b-adbf-2dce39ce2ff8",
    "papermill": {
     "duration": 1.552933,
     "end_time": "2023-07-20T17:20:42.833538",
     "exception": false,
     "start_time": "2023-07-20T17:20:41.280605",
     "status": "completed"
    },
    "tags": []
   },
   "outputs": [
    {
     "name": "stdout",
     "output_type": "stream",
     "text": [
      "Model: \"sequential\"\n",
      "_________________________________________________________________\n",
      " Layer (type)                Output Shape              Param #   \n",
      "=================================================================\n",
      " conv2d (Conv2D)             (None, 27, 1400, 32)      3872      \n",
      "                                                                 \n",
      " max_pooling2d (MaxPooling2D  (None, 3, 700, 32)       0         \n",
      " )                                                               \n",
      "                                                                 \n",
      " flatten (Flatten)           (None, 67200)             0         \n",
      "                                                                 \n",
      " dense (Dense)               (None, 2048)              137627648 \n",
      "                                                                 \n",
      " dense_1 (Dense)             (None, 1024)              2098176   \n",
      "                                                                 \n",
      " dense_2 (Dense)             (None, 512)               524800    \n",
      "                                                                 \n",
      " dense_3 (Dense)             (None, 128)               65664     \n",
      "                                                                 \n",
      " dense_4 (Dense)             (None, 9)                 1161      \n",
      "                                                                 \n",
      "=================================================================\n",
      "Total params: 140,321,321\n",
      "Trainable params: 140,321,321\n",
      "Non-trainable params: 0\n",
      "_________________________________________________________________\n"
     ]
    }
   ],
   "source": [
    "model = Sequential()\n",
    "model.add(Conv2D(32, kernel_size = (120,1), padding= 'same',strides = (100,1),activation='relu', input_shape=(num_time_values, num_mass_values, 1)))\n",
    "model.add(MaxPooling2D(pool_size=(9, 2)))\n",
    "\n",
    "model.add(Flatten())\n",
    "model.add(Dense(2048, activation='relu'))\n",
    "model.add(Dense(1024, activation='relu'))\n",
    "model.add(Dense(512, activation='relu'))\n",
    "model.add(Dense(128, activation='relu'))\n",
    "model.add(Dense(9, activation='sigmoid'))\n",
    "\n",
    "opt = tf.keras.optimizers.Adam(learning_rate = 0.0001)\n",
    "\n",
    "model.compile(loss=tf.keras.losses.BinaryCrossentropy(), optimizer=opt, metrics=['AUC'])\n",
    "\n",
    "model.summary()"
   ]
  },
  {
   "cell_type": "code",
   "execution_count": 13,
   "id": "198eeedf",
   "metadata": {
    "execution": {
     "iopub.execute_input": "2023-07-20T17:20:42.856477Z",
     "iopub.status.busy": "2023-07-20T17:20:42.856025Z",
     "iopub.status.idle": "2023-07-20T19:25:59.304386Z",
     "shell.execute_reply": "2023-07-20T19:25:59.298230Z"
    },
    "id": "c3a8f41d",
    "outputId": "aa0ae9b1-811c-499b-ea2b-801b1109e1ed",
    "papermill": {
     "duration": 7516.539251,
     "end_time": "2023-07-20T19:25:59.383113",
     "exception": false,
     "start_time": "2023-07-20T17:20:42.843862",
     "status": "completed"
    },
    "tags": []
   },
   "outputs": [
    {
     "name": "stdout",
     "output_type": "stream",
     "text": [
      "Epoch 1/75\n",
      "40/40 [==============================] - 458s 11s/step - loss: 0.4651 - auc: 0.5926 - val_loss: 0.2886 - val_auc: 0.7881\n",
      "Epoch 2/75\n",
      "40/40 [==============================] - 370s 9s/step - loss: 0.2665 - auc: 0.8288 - val_loss: 0.2329 - val_auc: 0.8506\n",
      "Epoch 3/75\n",
      "40/40 [==============================] - 428s 11s/step - loss: 0.2281 - auc: 0.8779 - val_loss: 0.2072 - val_auc: 0.8926\n",
      "Epoch 4/75\n",
      "40/40 [==============================] - 415s 10s/step - loss: 0.2071 - auc: 0.9067 - val_loss: 0.2056 - val_auc: 0.9045\n",
      "Epoch 5/75\n",
      "40/40 [==============================] - 375s 9s/step - loss: 0.1953 - auc: 0.9210 - val_loss: 0.1923 - val_auc: 0.9268\n",
      "Epoch 6/75\n",
      "40/40 [==============================] - 404s 10s/step - loss: 0.1860 - auc: 0.9297 - val_loss: 0.1745 - val_auc: 0.9341\n",
      "Epoch 7/75\n",
      "40/40 [==============================] - 521s 13s/step - loss: 0.1685 - auc: 0.9454 - val_loss: 0.1792 - val_auc: 0.9315\n",
      "Epoch 8/75\n",
      "40/40 [==============================] - 418s 10s/step - loss: 0.1593 - auc: 0.9525 - val_loss: 0.1574 - val_auc: 0.9460\n",
      "Epoch 9/75\n",
      "40/40 [==============================] - 433s 11s/step - loss: 0.1485 - auc: 0.9590 - val_loss: 0.1662 - val_auc: 0.9415\n",
      "Epoch 10/75\n",
      "40/40 [==============================] - 456s 11s/step - loss: 0.1395 - auc: 0.9647 - val_loss: 0.1619 - val_auc: 0.9397\n",
      "Epoch 11/75\n",
      "40/40 [==============================] - 402s 10s/step - loss: 0.1280 - auc: 0.9714 - val_loss: 0.1581 - val_auc: 0.9384\n",
      "Epoch 12/75\n",
      "40/40 [==============================] - 384s 10s/step - loss: 0.1183 - auc: 0.9771 - val_loss: 0.1541 - val_auc: 0.9437\n",
      "Epoch 13/75\n",
      "40/40 [==============================] - 401s 10s/step - loss: 0.1165 - auc: 0.9752 - val_loss: 0.1619 - val_auc: 0.9480\n",
      "Epoch 14/75\n",
      "40/40 [==============================] - 424s 11s/step - loss: 0.1111 - auc: 0.9766 - val_loss: 0.1635 - val_auc: 0.9357\n",
      "Epoch 15/75\n",
      "40/40 [==============================] - 440s 11s/step - loss: 0.0951 - auc: 0.9853 - val_loss: 0.1571 - val_auc: 0.9439\n",
      "Epoch 16/75\n",
      "40/40 [==============================] - 433s 11s/step - loss: 0.0920 - auc: 0.9846 - val_loss: 0.1572 - val_auc: 0.9464\n",
      "Epoch 17/75\n",
      "40/40 [==============================] - 443s 11s/step - loss: 0.0823 - auc: 0.9887 - val_loss: 0.1564 - val_auc: 0.9425\n"
     ]
    }
   ],
   "source": [
    "es = EarlyStopping(monitor = 'val_loss', patience = 5, restore_best_weights = True)\n",
    "history = model.fit(train_data_generator, epochs=num_epochs, validation_data=val_data_generator, callbacks=[es],verbose = 1)"
   ]
  },
  {
   "cell_type": "code",
   "execution_count": 14,
   "id": "306d522f",
   "metadata": {
    "execution": {
     "iopub.execute_input": "2023-07-20T19:25:59.540845Z",
     "iopub.status.busy": "2023-07-20T19:25:59.540025Z",
     "iopub.status.idle": "2023-07-20T19:26:03.474915Z",
     "shell.execute_reply": "2023-07-20T19:26:03.473793Z"
    },
    "id": "3f2ae88e",
    "papermill": {
     "duration": 4.019177,
     "end_time": "2023-07-20T19:26:03.477989",
     "exception": false,
     "start_time": "2023-07-20T19:25:59.458812",
     "status": "completed"
    },
    "tags": []
   },
   "outputs": [],
   "source": [
    "model.save(\"cnn_model_test.keras\")"
   ]
  },
  {
   "cell_type": "markdown",
   "id": "21715525",
   "metadata": {
    "id": "ba71ea10",
    "papermill": {
     "duration": 0.07769,
     "end_time": "2023-07-20T19:26:03.631432",
     "exception": false,
     "start_time": "2023-07-20T19:26:03.553742",
     "status": "completed"
    },
    "tags": []
   },
   "source": [
    "## 5. Performance\n",
    "<ul>\n",
    "<li>train and validation losses</li>\n",
    "</ul>"
   ]
  },
  {
   "cell_type": "code",
   "execution_count": 15,
   "id": "84981f3c",
   "metadata": {
    "execution": {
     "iopub.execute_input": "2023-07-20T19:26:03.784553Z",
     "iopub.status.busy": "2023-07-20T19:26:03.784111Z",
     "iopub.status.idle": "2023-07-20T19:26:59.049939Z",
     "shell.execute_reply": "2023-07-20T19:26:59.048669Z"
    },
    "id": "bc61259e",
    "papermill": {
     "duration": 55.422224,
     "end_time": "2023-07-20T19:26:59.129608",
     "exception": false,
     "start_time": "2023-07-20T19:26:03.707384",
     "status": "completed"
    },
    "tags": []
   },
   "outputs": [
    {
     "data": {
      "image/png": "[encoded data removed]",
      "text/plain": [
       "<Figure size 640x480 with 1 Axes>"
      ]
     },
     "metadata": {},
     "output_type": "display_data"
    }
   ],
   "source": [
    "train_loss = history.history['loss']\n",
    "val_loss = history.history['val_loss']\n",
    "epochs = range(1, len(train_loss) + 1)\n",
    "\n",
    "plt.plot(epochs, train_loss, 'b', label='Training Loss')\n",
    "plt.plot(epochs, val_loss, 'r', label='Validation Loss')\n",
    "plt.title('Training and Validation Loss')\n",
    "plt.xlabel('Epochs')\n",
    "plt.ylabel('Loss')\n",
    "plt.grid()\n",
    "plt.legend()\n",
    "plt.show()\n",
    "\n"
   ]
  },
  {
   "cell_type": "code",
   "execution_count": 16,
   "id": "2cc79c00",
   "metadata": {
    "execution": {
     "iopub.execute_input": "2023-07-20T19:26:59.285253Z",
     "iopub.status.busy": "2023-07-20T19:26:59.283977Z",
     "iopub.status.idle": "2023-07-20T19:32:18.090689Z",
     "shell.execute_reply": "2023-07-20T19:32:18.089405Z"
    },
    "id": "c14289c9",
    "papermill": {
     "duration": 318.887748,
     "end_time": "2023-07-20T19:32:18.094206",
     "exception": false,
     "start_time": "2023-07-20T19:26:59.206458",
     "status": "completed"
    },
    "tags": []
   },
   "outputs": [],
   "source": [
    "y_pred = model.predict(DataGenerator(range(809),1), verbose = 0)"
   ]
  },
  {
   "cell_type": "markdown",
   "id": "e1cc8cb2",
   "metadata": {
    "id": "80af68ce",
    "papermill": {
     "duration": 0.075299,
     "end_time": "2023-07-20T19:32:18.247970",
     "exception": false,
     "start_time": "2023-07-20T19:32:18.172671",
     "status": "completed"
    },
    "tags": []
   },
   "source": [
    "### Classification Reports"
   ]
  },
  {
   "cell_type": "code",
   "execution_count": 17,
   "id": "3e7c377f",
   "metadata": {
    "execution": {
     "iopub.execute_input": "2023-07-20T19:32:18.403566Z",
     "iopub.status.busy": "2023-07-20T19:32:18.402659Z",
     "iopub.status.idle": "2023-07-20T19:32:18.546492Z",
     "shell.execute_reply": "2023-07-20T19:32:18.545264Z"
    },
    "id": "5ef8f090",
    "papermill": {
     "duration": 0.226537,
     "end_time": "2023-07-20T19:32:18.550384",
     "exception": false,
     "start_time": "2023-07-20T19:32:18.323847",
     "status": "completed"
    },
    "tags": []
   },
   "outputs": [
    {
     "name": "stdout",
     "output_type": "stream",
     "text": [
      "aromatic\n",
      "              precision    recall  f1-score   support\n",
      "\n",
      "           0       0.95      0.99      0.97       730\n",
      "           1       0.92      0.56      0.69        79\n",
      "\n",
      "    accuracy                           0.95       809\n",
      "   macro avg       0.94      0.78      0.83       809\n",
      "weighted avg       0.95      0.95      0.95       809\n",
      "\n",
      "roc_auc_score : 0.9657360846193861\n",
      "log loss      : 0.13025120891839653\n",
      "-------------------------------------------------------------\n",
      "hydrocarbon\n",
      "              precision    recall  f1-score   support\n",
      "\n",
      "           0       0.95      0.95      0.95       544\n",
      "           1       0.90      0.90      0.90       265\n",
      "\n",
      "    accuracy                           0.93       809\n",
      "   macro avg       0.92      0.92      0.92       809\n",
      "weighted avg       0.93      0.93      0.93       809\n",
      "\n",
      "roc_auc_score : 0.9726831298557159\n",
      "log loss      : 0.18755785919508336\n",
      "-------------------------------------------------------------\n",
      "carboxylic_acid\n",
      "              precision    recall  f1-score   support\n",
      "\n",
      "           0       0.96      0.98      0.97       694\n",
      "           1       0.85      0.75      0.80       115\n",
      "\n",
      "    accuracy                           0.95       809\n",
      "   macro avg       0.91      0.86      0.88       809\n",
      "weighted avg       0.94      0.95      0.94       809\n",
      "\n",
      "roc_auc_score : 0.971607567973938\n",
      "log loss      : 0.16078090185618366\n",
      "-------------------------------------------------------------\n",
      "nitrogen_bearing_compound\n",
      "              precision    recall  f1-score   support\n",
      "\n",
      "           0       0.96      0.99      0.97       713\n",
      "           1       0.86      0.67      0.75        96\n",
      "\n",
      "    accuracy                           0.95       809\n",
      "   macro avg       0.91      0.83      0.86       809\n",
      "weighted avg       0.95      0.95      0.95       809\n",
      "\n",
      "roc_auc_score : 0.9763323983169706\n",
      "log loss      : 0.13458630750611564\n",
      "-------------------------------------------------------------\n",
      "chlorine_bearing_compound\n",
      "              precision    recall  f1-score   support\n",
      "\n",
      "           0       0.99      1.00      0.99       791\n",
      "           1       1.00      0.33      0.50        18\n",
      "\n",
      "    accuracy                           0.99       809\n",
      "   macro avg       0.99      0.67      0.75       809\n",
      "weighted avg       0.99      0.99      0.98       809\n",
      "\n",
      "roc_auc_score : 0.9849697991290912\n",
      "log loss      : 0.044396324091504936\n",
      "-------------------------------------------------------------\n",
      "sulfur_bearing_compound\n",
      "              precision    recall  f1-score   support\n",
      "\n",
      "           0       0.98      1.00      0.99       778\n",
      "           1       0.82      0.45      0.58        31\n",
      "\n",
      "    accuracy                           0.98       809\n",
      "   macro avg       0.90      0.72      0.79       809\n",
      "weighted avg       0.97      0.98      0.97       809\n",
      "\n",
      "roc_auc_score : 0.9769881416369516\n",
      "log loss      : 0.06472010279199024\n",
      "-------------------------------------------------------------\n",
      "alcohol\n",
      "              precision    recall  f1-score   support\n",
      "\n",
      "           0       0.98      1.00      0.99       783\n",
      "           1       1.00      0.23      0.38        26\n",
      "\n",
      "    accuracy                           0.98       809\n",
      "   macro avg       0.99      0.62      0.68       809\n",
      "weighted avg       0.98      0.98      0.97       809\n",
      "\n",
      "roc_auc_score : 0.9776500638569604\n",
      "log loss      : 0.06568782031319634\n",
      "-------------------------------------------------------------\n",
      "other_oxygen_bearing_compound\n",
      "              precision    recall  f1-score   support\n",
      "\n",
      "           0       0.98      1.00      0.99       788\n",
      "           1       1.00      0.24      0.38        21\n",
      "\n",
      "    accuracy                           0.98       809\n",
      "   macro avg       0.99      0.62      0.69       809\n",
      "weighted avg       0.98      0.98      0.97       809\n",
      "\n",
      "roc_auc_score : 0.9684554024655547\n",
      "log loss      : 0.05985986944548658\n",
      "-------------------------------------------------------------\n",
      "mineral\n",
      "              precision    recall  f1-score   support\n",
      "\n",
      "           0       0.96      0.95      0.96       692\n",
      "           1       0.73      0.78      0.76       117\n",
      "\n",
      "    accuracy                           0.93       809\n",
      "   macro avg       0.85      0.87      0.86       809\n",
      "weighted avg       0.93      0.93      0.93       809\n",
      "\n",
      "roc_auc_score : 0.964564497801492\n",
      "log loss      : 0.17451093919631966\n",
      "-------------------------------------------------------------\n"
     ]
    }
   ],
   "source": [
    "for i in range(9):\n",
    "    y_true_column = train_labels.iloc[:, i+1].values\n",
    "    y_pred_column = y_pred[:, i].round()\n",
    "\n",
    "    report = classification_report(y_true_column, y_pred_column)\n",
    "    print(f\"{label_names[i]}\")\n",
    "    print(report)\n",
    "    print(f\"roc_auc_score : {roc_auc_score(y_true_column, y_pred[:, i])}\")\n",
    "    print(f\"log loss      : {log_loss(y_true_column, y_pred[:, i])}\")\n",
    "\n",
    "    print(\"-------------------------------------------------------------\")\n"
   ]
  },
  {
   "cell_type": "code",
   "execution_count": null,
   "id": "306e6f66",
   "metadata": {
    "id": "2c0b5fd1",
    "papermill": {
     "duration": 0.077819,
     "end_time": "2023-07-20T19:32:18.707478",
     "exception": false,
     "start_time": "2023-07-20T19:32:18.629659",
     "status": "completed"
    },
    "tags": []
   },
   "outputs": [],
   "source": []
  }
 ],
 "metadata": {
  "kernelspec": {
   "display_name": "Python 3",
   "language": "python",
   "name": "python3"
  },
  "language_info": {
   "codemirror_mode": {
    "name": "ipython",
    "version": 3
   },
   "file_extension": ".py",
   "mimetype": "text/x-python",
   "name": "python",
   "nbconvert_exporter": "python",
   "pygments_lexer": "ipython3",
   "version": "3.10.12"
  },
  "papermill": {
   "default_parameters": {},
   "duration": 7923.48713,
   "end_time": "2023-07-20T19:32:21.807619",
   "environment_variables": {},
   "exception": null,
   "input_path": "__notebook__.ipynb",
   "output_path": "__notebook__.ipynb",
   "parameters": {},
   "start_time": "2023-07-20T17:20:18.320489",
   "version": "2.4.0"
  }
 },
 "nbformat": 4,
 "nbformat_minor": 5
}
