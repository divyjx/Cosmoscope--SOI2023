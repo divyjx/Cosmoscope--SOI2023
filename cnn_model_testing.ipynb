{
 "cells": [
  {
   "cell_type": "markdown",
   "id": "36fdf9b4",
   "metadata": {
    "id": "19a292b6",
    "papermill": {
     "duration": 0.009033,
     "end_time": "2023-07-19T10:37:34.001793",
     "exception": false,
     "start_time": "2023-07-19T10:37:33.992760",
     "status": "completed"
    },
    "tags": []
   },
   "source": [
    "## 1. Data Description\n",
    "<ul>\n",
    "<li>there are 809 training examples</li>\n",
    "<li>each of them is a dataframe with time, mass , and intensity values</li>\n",
    "<li>dataframe lenghts are variable</li>\n",
    "</ul>\n"
   ]
  },
  {
   "cell_type": "code",
   "execution_count": 1,
   "id": "e997c0ea",
   "metadata": {
    "execution": {
     "iopub.execute_input": "2023-07-19T10:37:34.025637Z",
     "iopub.status.busy": "2023-07-19T10:37:34.024677Z",
     "iopub.status.idle": "2023-07-19T10:37:46.303068Z",
     "shell.execute_reply": "2023-07-19T10:37:46.301604Z"
    },
    "id": "669ca0ad",
    "papermill": {
     "duration": 12.292153,
     "end_time": "2023-07-19T10:37:46.306540",
     "exception": false,
     "start_time": "2023-07-19T10:37:34.014387",
     "status": "completed"
    },
    "tags": []
   },
   "outputs": [],
   "source": [
    "import warnings\n",
    "warnings.filterwarnings('ignore')\n",
    "\n",
    "# for processing numbers and files csv\n",
    "import pandas as pd\n",
    "import numpy as np\n",
    "\n",
    "# for visualization\n",
    "import matplotlib.pyplot as plt\n",
    "%matplotlib inline\n",
    "\n",
    "# preprocessing\n",
    "from sklearn.preprocessing import MinMaxScaler\n",
    "from sklearn.model_selection import train_test_split\n",
    "from sklearn.metrics import classification_report, roc_auc_score, log_loss\n",
    "\n",
    "# model related\n",
    "from tensorflow.keras.callbacks import EarlyStopping\n",
    "from tensorflow.keras.utils import Sequence\n",
    "from tensorflow.keras.models import Sequential\n",
    "from tensorflow.keras.layers import Conv2D, MaxPooling2D, Flatten, Dense\n",
    "\n",
    "import tensorflow as tf\n"
   ]
  },
  {
   "cell_type": "code",
   "execution_count": 2,
   "id": "3e30dbfc",
   "metadata": {
    "execution": {
     "iopub.execute_input": "2023-07-19T10:37:46.325804Z",
     "iopub.status.busy": "2023-07-19T10:37:46.324772Z",
     "iopub.status.idle": "2023-07-19T10:37:46.330924Z",
     "shell.execute_reply": "2023-07-19T10:37:46.329816Z"
    },
    "id": "YIiXAuIFueEv",
    "outputId": "bef609e5-3742-4d4c-8c6f-a12c7ab4bed4",
    "papermill": {
     "duration": 0.018494,
     "end_time": "2023-07-19T10:37:46.333393",
     "exception": false,
     "start_time": "2023-07-19T10:37:46.314899",
     "status": "completed"
    },
    "tags": []
   },
   "outputs": [],
   "source": [
    "# # for working in colab\n",
    "# from google.colab import drive\n",
    "# drive.mount('/content/drive')"
   ]
  },
  {
   "cell_type": "code",
   "execution_count": 3,
   "id": "332c6ec6",
   "metadata": {
    "execution": {
     "iopub.execute_input": "2023-07-19T10:37:46.352130Z",
     "iopub.status.busy": "2023-07-19T10:37:46.351342Z",
     "iopub.status.idle": "2023-07-19T10:37:46.371673Z",
     "shell.execute_reply": "2023-07-19T10:37:46.370547Z"
    },
    "id": "3c287e18",
    "outputId": "0307db73-26a6-46e2-f685-979a2b58476d",
    "papermill": {
     "duration": 0.032643,
     "end_time": "2023-07-19T10:37:46.374150",
     "exception": false,
     "start_time": "2023-07-19T10:37:46.341507",
     "status": "completed"
    },
    "tags": []
   },
   "outputs": [
    {
     "data": {
      "text/plain": [
       "False"
      ]
     },
     "execution_count": 3,
     "metadata": {},
     "output_type": "execute_result"
    }
   ],
   "source": [
    "#for gpu\n",
    "tf.test.is_gpu_available()"
   ]
  },
  {
   "cell_type": "code",
   "execution_count": 4,
   "id": "44fc511a",
   "metadata": {
    "execution": {
     "iopub.execute_input": "2023-07-19T10:37:46.393687Z",
     "iopub.status.busy": "2023-07-19T10:37:46.392839Z",
     "iopub.status.idle": "2023-07-19T10:37:46.397780Z",
     "shell.execute_reply": "2023-07-19T10:37:46.396966Z"
    },
    "id": "815d00ae",
    "papermill": {
     "duration": 0.017197,
     "end_time": "2023-07-19T10:37:46.400018",
     "exception": false,
     "start_time": "2023-07-19T10:37:46.382821",
     "status": "completed"
    },
    "tags": []
   },
   "outputs": [],
   "source": [
    "# for working in kaggle use this paths\n",
    "kag_path_in = \"/kaggle/input/mars-spec-train/\"\n",
    "kag_path_out = \"/kaggle/working/\"\n",
    "\n",
    "# # for working in colab  \n",
    "# kag_path_in = \"/content/drive/MyDrive/\" # google drive\n",
    "# kag_path_out = \"\"\n",
    "\n",
    "# add custom paths here (uncomment)\n",
    "# kag_path_in = \"\"\n",
    "# kag_path_out = \"\""
   ]
  },
  {
   "cell_type": "code",
   "execution_count": 5,
   "id": "a3c2db38",
   "metadata": {
    "execution": {
     "iopub.execute_input": "2023-07-19T10:37:46.419842Z",
     "iopub.status.busy": "2023-07-19T10:37:46.418867Z",
     "iopub.status.idle": "2023-07-19T10:37:46.474693Z",
     "shell.execute_reply": "2023-07-19T10:37:46.473189Z"
    },
    "id": "97f3d01c",
    "papermill": {
     "duration": 0.069084,
     "end_time": "2023-07-19T10:37:46.477985",
     "exception": false,
     "start_time": "2023-07-19T10:37:46.408901",
     "status": "completed"
    },
    "tags": []
   },
   "outputs": [],
   "source": [
    "# metadata = pd.read_csv('/kaggle/input/mars-spec-train/metadata.csv').fillna(0)\n",
    "# train_labels = pd.read_csv('/kaggle/input/mars-spec-train/train_labels.csv')\n",
    "metadata = pd.read_csv(kag_path_in+'metadata.csv').fillna(0)\n",
    "train_labels = pd.read_csv(kag_path_in+'train_labels.csv')"
   ]
  },
  {
   "cell_type": "markdown",
   "id": "4608398c",
   "metadata": {
    "id": "d6089094",
    "papermill": {
     "duration": 0.008051,
     "end_time": "2023-07-19T10:37:46.494484",
     "exception": false,
     "start_time": "2023-07-19T10:37:46.486433",
     "status": "completed"
    },
    "tags": []
   },
   "source": [
    "## 2. Preprocessing and Feature extraction\n",
    "<ul>\n",
    "<li>mass values are grouped into values seperated by 0.50 </li>\n",
    "<li>time values are grouped into values seperated by 0.02 </li>\n",
    "<li>Time * Mass matrix (2700,1400) with Intensity values </li>\n",
    "</ul>"
   ]
  },
  {
   "cell_type": "code",
   "execution_count": 6,
   "id": "9fac8649",
   "metadata": {
    "execution": {
     "iopub.execute_input": "2023-07-19T10:37:46.513958Z",
     "iopub.status.busy": "2023-07-19T10:37:46.512934Z",
     "iopub.status.idle": "2023-07-19T10:37:46.518386Z",
     "shell.execute_reply": "2023-07-19T10:37:46.517351Z"
    },
    "id": "39247504",
    "papermill": {
     "duration": 0.018427,
     "end_time": "2023-07-19T10:37:46.521191",
     "exception": false,
     "start_time": "2023-07-19T10:37:46.502764",
     "status": "completed"
    },
    "tags": []
   },
   "outputs": [],
   "source": [
    "# constants\n",
    "num_mass_values = 1400\n",
    "num_time_values = 2700\n",
    "matrix_shape = (num_time_values, num_mass_values)"
   ]
  },
  {
   "cell_type": "code",
   "execution_count": 7,
   "id": "bd2e5102",
   "metadata": {
    "execution": {
     "iopub.execute_input": "2023-07-19T10:37:46.541735Z",
     "iopub.status.busy": "2023-07-19T10:37:46.541193Z",
     "iopub.status.idle": "2023-07-19T10:37:46.551823Z",
     "shell.execute_reply": "2023-07-19T10:37:46.550505Z"
    },
    "id": "174557ea",
    "papermill": {
     "duration": 0.02287,
     "end_time": "2023-07-19T10:37:46.554193",
     "exception": false,
     "start_time": "2023-07-19T10:37:46.531323",
     "status": "completed"
    },
    "tags": []
   },
   "outputs": [],
   "source": [
    "\n",
    "# Function to create the Time X Mass matrix for a single data sample\n",
    "def create_matrix(id):\n",
    "\n",
    "    sample_id, split, derivate, path, _ = metadata.iloc[id]\n",
    "    data = pd.read_csv(kag_path_in+path)\n",
    "\n",
    "    label = None\n",
    "    if (split == 'train'):\n",
    "        label = train_labels.iloc[id].values[1:]\n",
    "\n",
    "    # discretization of time and mass\n",
    "    data.time = (data.time*50).round()\n",
    "    data.mass = (data.mass*2).round()\n",
    "    data.time = data.time.astype(int)\n",
    "    data.mass = data.mass.astype(int)\n",
    "\n",
    "    # scaling intensity\n",
    "    data.intensity = MinMaxScaler().fit_transform(data.intensity.values.reshape(-1, 1))\n",
    "\n",
    "    # filling matrix\n",
    "    matrix = np.zeros(matrix_shape)\n",
    "    matrix[data['time'],data['mass']] = data['intensity']\n",
    "\n",
    "    return matrix , label\n"
   ]
  },
  {
   "cell_type": "markdown",
   "id": "7dbe582d",
   "metadata": {
    "id": "490a30fa",
    "papermill": {
     "duration": 0.008054,
     "end_time": "2023-07-19T10:37:46.571123",
     "exception": false,
     "start_time": "2023-07-19T10:37:46.563069",
     "status": "completed"
    },
    "tags": []
   },
   "source": [
    "## 3. Data Generation\n",
    "<ul>\n",
    "<li>Storing data matrix is costly</li>\n",
    "<li>data is generated in batches</li>\n",
    "</ul>\n"
   ]
  },
  {
   "cell_type": "code",
   "execution_count": 8,
   "id": "a8bc213f",
   "metadata": {
    "execution": {
     "iopub.execute_input": "2023-07-19T10:37:46.590285Z",
     "iopub.status.busy": "2023-07-19T10:37:46.589760Z",
     "iopub.status.idle": "2023-07-19T10:37:46.601997Z",
     "shell.execute_reply": "2023-07-19T10:37:46.600797Z"
    },
    "id": "79ddb7ca",
    "papermill": {
     "duration": 0.02443,
     "end_time": "2023-07-19T10:37:46.604399",
     "exception": false,
     "start_time": "2023-07-19T10:37:46.579969",
     "status": "completed"
    },
    "tags": []
   },
   "outputs": [],
   "source": [
    "class DataGenerator(Sequence):\n",
    "    def __init__(self, data, batch_size):\n",
    "        self.data = data\n",
    "        self.batch_size = batch_size\n",
    "    def __len__(self):\n",
    "        return len(self.data) // self.batch_size\n",
    "\n",
    "    def __getitem__(self, idx):\n",
    "        low = idx * self.batch_size\n",
    "        high = min(low + self.batch_size, len(self.data))\n",
    "        batch_x = []\n",
    "        batch_y = []\n",
    "\n",
    "        for i, data_sample in enumerate(self.data[low:high]):\n",
    "            processed_sample, processed_label = self.preprocess_data(data_sample)\n",
    "            batch_x.append(processed_sample)\n",
    "            batch_y.append(processed_label)\n",
    "\n",
    "\n",
    "        while len(batch_x) < self.batch_size:\n",
    "            random_no = np.random.randint(0,len(self.data))\n",
    "            processed_sample, processed_label = self.preprocess_data(data_sample)\n",
    "            batch_x.append(processed_sample)\n",
    "            batch_y.append(processed_label)\n",
    "\n",
    "        return np.array(batch_x), np.array(batch_y)\n",
    "\n",
    "    def preprocess_data(self, data_sample):\n",
    "        matrix, label = create_matrix(data_sample)\n",
    "        if type(label) == np.ndarray:\n",
    "            label = np.array(label).astype(int)\n",
    "        return matrix , label\n"
   ]
  },
  {
   "cell_type": "markdown",
   "id": "e642aa74",
   "metadata": {
    "id": "5a85a8cb",
    "papermill": {
     "duration": 0.007799,
     "end_time": "2023-07-19T10:37:46.620385",
     "exception": false,
     "start_time": "2023-07-19T10:37:46.612586",
     "status": "completed"
    },
    "tags": []
   },
   "source": [
    "## 4. Model\n",
    "<ul>\n",
    "<li>convolutional layers </li>\n",
    "<li>pooling layers (max pooling) </li>\n",
    "<li>fully connected layers</li>\n",
    "<li>sigmoid layer</li>\n",
    "<li>output positive label probability</li>\n",
    "</ul>"
   ]
  },
  {
   "cell_type": "code",
   "execution_count": 9,
   "id": "af575329",
   "metadata": {
    "execution": {
     "iopub.execute_input": "2023-07-19T10:37:46.639185Z",
     "iopub.status.busy": "2023-07-19T10:37:46.638039Z",
     "iopub.status.idle": "2023-07-19T10:37:46.644138Z",
     "shell.execute_reply": "2023-07-19T10:37:46.643198Z"
    },
    "id": "fd3c0758",
    "papermill": {
     "duration": 0.018209,
     "end_time": "2023-07-19T10:37:46.646498",
     "exception": false,
     "start_time": "2023-07-19T10:37:46.628289",
     "status": "completed"
    },
    "tags": []
   },
   "outputs": [],
   "source": [
    "label_names = [col for col in train_labels.columns[1:]]"
   ]
  },
  {
   "cell_type": "code",
   "execution_count": 10,
   "id": "ec8a780a",
   "metadata": {
    "execution": {
     "iopub.execute_input": "2023-07-19T10:37:46.665427Z",
     "iopub.status.busy": "2023-07-19T10:37:46.664617Z",
     "iopub.status.idle": "2023-07-19T10:37:46.670189Z",
     "shell.execute_reply": "2023-07-19T10:37:46.669321Z"
    },
    "id": "ff54f238",
    "papermill": {
     "duration": 0.01792,
     "end_time": "2023-07-19T10:37:46.672551",
     "exception": false,
     "start_time": "2023-07-19T10:37:46.654631",
     "status": "completed"
    },
    "tags": []
   },
   "outputs": [],
   "source": [
    "# contants\n",
    "batch_size = 16\n",
    "num_epochs = 75\n",
    "model = None\n",
    "history = None"
   ]
  },
  {
   "cell_type": "code",
   "execution_count": 11,
   "id": "014200b5",
   "metadata": {
    "execution": {
     "iopub.execute_input": "2023-07-19T10:37:46.691523Z",
     "iopub.status.busy": "2023-07-19T10:37:46.690970Z",
     "iopub.status.idle": "2023-07-19T10:37:46.700928Z",
     "shell.execute_reply": "2023-07-19T10:37:46.699152Z"
    },
    "id": "kvgA-6pkiHZx",
    "outputId": "8617e103-a597-4aed-f3dc-fa1dc312b91e",
    "papermill": {
     "duration": 0.022513,
     "end_time": "2023-07-19T10:37:46.703357",
     "exception": false,
     "start_time": "2023-07-19T10:37:46.680844",
     "status": "completed"
    },
    "tags": []
   },
   "outputs": [
    {
     "name": "stdout",
     "output_type": "stream",
     "text": [
      "647 162\n"
     ]
    }
   ],
   "source": [
    "training_data = range(809)\n",
    "train_data, val_data = train_test_split(training_data, test_size=0.2, random_state=42)\n",
    "train_data_generator = DataGenerator(train_data, batch_size)\n",
    "val_data_generator = DataGenerator(val_data, batch_size)\n",
    "print(len(train_data), len(val_data))"
   ]
  },
  {
   "cell_type": "code",
   "execution_count": 12,
   "id": "b62ee374",
   "metadata": {
    "execution": {
     "iopub.execute_input": "2023-07-19T10:37:46.722338Z",
     "iopub.status.busy": "2023-07-19T10:37:46.721755Z",
     "iopub.status.idle": "2023-07-19T10:37:47.120046Z",
     "shell.execute_reply": "2023-07-19T10:37:47.118521Z"
    },
    "id": "cf2fc727",
    "outputId": "ce65ac22-ecdf-416b-adbf-2dce39ce2ff8",
    "papermill": {
     "duration": 0.412381,
     "end_time": "2023-07-19T10:37:47.124029",
     "exception": false,
     "start_time": "2023-07-19T10:37:46.711648",
     "status": "completed"
    },
    "tags": []
   },
   "outputs": [
    {
     "name": "stdout",
     "output_type": "stream",
     "text": [
      "Model: \"sequential\"\n",
      "_________________________________________________________________\n",
      " Layer (type)                Output Shape              Param #   \n",
      "=================================================================\n",
      " conv2d (Conv2D)             (None, 27, 1400, 32)      3872      \n",
      "                                                                 \n",
      " max_pooling2d (MaxPooling2D  (None, 3, 700, 32)       0         \n",
      " )                                                               \n",
      "                                                                 \n",
      " flatten (Flatten)           (None, 67200)             0         \n",
      "                                                                 \n",
      " dense (Dense)               (None, 128)               8601728   \n",
      "                                                                 \n",
      " dense_1 (Dense)             (None, 64)                8256      \n",
      "                                                                 \n",
      " dense_2 (Dense)             (None, 9)                 585       \n",
      "                                                                 \n",
      "=================================================================\n",
      "Total params: 8,614,441\n",
      "Trainable params: 8,614,441\n",
      "Non-trainable params: 0\n",
      "_________________________________________________________________\n"
     ]
    }
   ],
   "source": [
    "model = Sequential()\n",
    "model.add(Conv2D(32, kernel_size = (120,1), padding= 'same',strides = (100,1),activation='relu', input_shape=(num_time_values, num_mass_values, 1)))\n",
    "model.add(MaxPooling2D(pool_size=(9, 2)))\n",
    "\n",
    "model.add(Flatten())\n",
    "\n",
    "model.add(Dense(128, activation='relu'))\n",
    "model.add(Dense(64, activation='relu'))\n",
    "model.add(Dense(9, activation='sigmoid'))\n",
    "\n",
    "opt = tf.keras.optimizers.Adam(learning_rate = 0.0005)\n",
    "\n",
    "model.compile(loss=tf.keras.losses.BinaryCrossentropy(from_logits=True), optimizer=opt, metrics=['AUC']) # from logits = true\n",
    "\n",
    "model.summary()"
   ]
  },
  {
   "cell_type": "code",
   "execution_count": 13,
   "id": "40dbde01",
   "metadata": {
    "execution": {
     "iopub.execute_input": "2023-07-19T10:37:47.147963Z",
     "iopub.status.busy": "2023-07-19T10:37:47.147448Z",
     "iopub.status.idle": "2023-07-19T11:59:00.539562Z",
     "shell.execute_reply": "2023-07-19T11:59:00.535417Z"
    },
    "id": "c3a8f41d",
    "outputId": "aa0ae9b1-811c-499b-ea2b-801b1109e1ed",
    "papermill": {
     "duration": 4873.461113,
     "end_time": "2023-07-19T11:59:00.596135",
     "exception": false,
     "start_time": "2023-07-19T10:37:47.135022",
     "status": "completed"
    },
    "tags": []
   },
   "outputs": [
    {
     "name": "stdout",
     "output_type": "stream",
     "text": [
      "Epoch 1/75\n",
      "40/40 [==============================] - 538s 14s/step - loss: 0.3976 - auc: 0.6322 - val_loss: 0.2565 - val_auc: 0.8322\n",
      "Epoch 2/75\n",
      "40/40 [==============================] - 350s 9s/step - loss: 0.2397 - auc: 0.8612 - val_loss: 0.2088 - val_auc: 0.8828\n",
      "Epoch 3/75\n",
      "40/40 [==============================] - 432s 11s/step - loss: 0.2102 - auc: 0.9014 - val_loss: 0.2026 - val_auc: 0.9145\n",
      "Epoch 4/75\n",
      "40/40 [==============================] - 378s 9s/step - loss: 0.1907 - auc: 0.9251 - val_loss: 0.1879 - val_auc: 0.9143\n",
      "Epoch 5/75\n",
      "40/40 [==============================] - 380s 10s/step - loss: 0.1772 - auc: 0.9362 - val_loss: 0.1715 - val_auc: 0.9366\n",
      "Epoch 6/75\n",
      "40/40 [==============================] - 465s 12s/step - loss: 0.1645 - auc: 0.9475 - val_loss: 0.1669 - val_auc: 0.9373\n",
      "Epoch 7/75\n",
      "40/40 [==============================] - 445s 11s/step - loss: 0.1519 - auc: 0.9570 - val_loss: 0.1603 - val_auc: 0.9432\n",
      "Epoch 8/75\n",
      "40/40 [==============================] - 408s 10s/step - loss: 0.1379 - auc: 0.9657 - val_loss: 0.1589 - val_auc: 0.9430\n",
      "Epoch 9/75\n",
      "40/40 [==============================] - 405s 10s/step - loss: 0.1295 - auc: 0.9689 - val_loss: 0.1481 - val_auc: 0.9487\n",
      "Epoch 10/75\n",
      "40/40 [==============================] - 461s 12s/step - loss: 0.1216 - auc: 0.9735 - val_loss: 0.1681 - val_auc: 0.9371\n",
      "Epoch 11/75\n",
      "40/40 [==============================] - 414s 10s/step - loss: 0.1121 - auc: 0.9768 - val_loss: 0.1585 - val_auc: 0.9457\n"
     ]
    }
   ],
   "source": [
    "es = EarlyStopping(monitor = 'val_loss', patience = 2, restore_best_weights = True  )\n",
    "history = model.fit(train_data_generator, epochs=num_epochs, validation_data=val_data_generator, callbacks=[es],verbose = 1)"
   ]
  },
  {
   "cell_type": "code",
   "execution_count": 14,
   "id": "cb57bf35",
   "metadata": {
    "execution": {
     "iopub.execute_input": "2023-07-19T11:59:00.714842Z",
     "iopub.status.busy": "2023-07-19T11:59:00.712308Z",
     "iopub.status.idle": "2023-07-19T11:59:01.058866Z",
     "shell.execute_reply": "2023-07-19T11:59:01.057633Z"
    },
    "id": "3f2ae88e",
    "papermill": {
     "duration": 0.41156,
     "end_time": "2023-07-19T11:59:01.062201",
     "exception": false,
     "start_time": "2023-07-19T11:59:00.650641",
     "status": "completed"
    },
    "tags": []
   },
   "outputs": [],
   "source": [
    "model.save(\"cnn_model_test.keras\")"
   ]
  },
  {
   "cell_type": "markdown",
   "id": "08e71679",
   "metadata": {
    "id": "ba71ea10",
    "papermill": {
     "duration": 0.053811,
     "end_time": "2023-07-19T11:59:01.169545",
     "exception": false,
     "start_time": "2023-07-19T11:59:01.115734",
     "status": "completed"
    },
    "tags": []
   },
   "source": [
    "## 5. Performance\n",
    "<ul>\n",
    "<li>train and validation losses</li>\n",
    "</ul>"
   ]
  },
  {
   "cell_type": "code",
   "execution_count": 15,
   "id": "1052d536",
   "metadata": {
    "execution": {
     "iopub.execute_input": "2023-07-19T11:59:01.279326Z",
     "iopub.status.busy": "2023-07-19T11:59:01.278854Z",
     "iopub.status.idle": "2023-07-19T11:59:01.810631Z",
     "shell.execute_reply": "2023-07-19T11:59:01.809247Z"
    },
    "id": "bc61259e",
    "papermill": {
     "duration": 0.591935,
     "end_time": "2023-07-19T11:59:01.815633",
     "exception": false,
     "start_time": "2023-07-19T11:59:01.223698",
     "status": "completed"
    },
    "tags": []
   },
   "outputs": [
    {
     "data": {
      "image/png": "[encoded data removed]",
      "text/plain": [
       "<Figure size 640x480 with 1 Axes>"
      ]
     },
     "metadata": {},
     "output_type": "display_data"
    }
   ],
   "source": [
    "train_loss = history.history['loss']\n",
    "val_loss = history.history['val_loss']\n",
    "epochs = range(1, len(train_loss) + 1)\n",
    "\n",
    "plt.plot(epochs, train_loss, 'b', label='Training Loss')\n",
    "plt.plot(epochs, val_loss, 'r', label='Validation Loss')\n",
    "plt.title('Training and Validation Loss')\n",
    "plt.xlabel('Epochs')\n",
    "plt.ylabel('Loss')\n",
    "plt.grid()\n",
    "plt.legend()\n",
    "plt.show()\n",
    "\n"
   ]
  },
  {
   "cell_type": "code",
   "execution_count": 16,
   "id": "faf083de",
   "metadata": {
    "execution": {
     "iopub.execute_input": "2023-07-19T11:59:01.927727Z",
     "iopub.status.busy": "2023-07-19T11:59:01.927224Z",
     "iopub.status.idle": "2023-07-19T12:05:24.617612Z",
     "shell.execute_reply": "2023-07-19T12:05:24.615915Z"
    },
    "id": "c14289c9",
    "papermill": {
     "duration": 382.750748,
     "end_time": "2023-07-19T12:05:24.621638",
     "exception": false,
     "start_time": "2023-07-19T11:59:01.870890",
     "status": "completed"
    },
    "tags": []
   },
   "outputs": [],
   "source": [
    "y_pred = model.predict(DataGenerator(range(809),1), verbose = 0)"
   ]
  },
  {
   "cell_type": "markdown",
   "id": "0061a3e2",
   "metadata": {
    "id": "80af68ce",
    "papermill": {
     "duration": 0.054842,
     "end_time": "2023-07-19T12:05:24.732767",
     "exception": false,
     "start_time": "2023-07-19T12:05:24.677925",
     "status": "completed"
    },
    "tags": []
   },
   "source": [
    "### Classification Reports"
   ]
  },
  {
   "cell_type": "code",
   "execution_count": 17,
   "id": "8383e7ad",
   "metadata": {
    "execution": {
     "iopub.execute_input": "2023-07-19T12:05:24.846601Z",
     "iopub.status.busy": "2023-07-19T12:05:24.845780Z",
     "iopub.status.idle": "2023-07-19T12:05:24.985748Z",
     "shell.execute_reply": "2023-07-19T12:05:24.984231Z"
    },
    "id": "5ef8f090",
    "papermill": {
     "duration": 0.200145,
     "end_time": "2023-07-19T12:05:24.988891",
     "exception": false,
     "start_time": "2023-07-19T12:05:24.788746",
     "status": "completed"
    },
    "tags": []
   },
   "outputs": [
    {
     "name": "stdout",
     "output_type": "stream",
     "text": [
      "aromatic\n",
      "              precision    recall  f1-score   support\n",
      "\n",
      "           0       0.95      1.00      0.97       730\n",
      "           1       0.93      0.49      0.64        79\n",
      "\n",
      "    accuracy                           0.95       809\n",
      "   macro avg       0.94      0.74      0.81       809\n",
      "weighted avg       0.95      0.95      0.94       809\n",
      "\n",
      "roc_auc_score : 0.9573608461938616\n",
      "log loss      : 0.14095865112032463\n",
      "-------------------------------------------------------------\n",
      "hydrocarbon\n",
      "              precision    recall  f1-score   support\n",
      "\n",
      "           0       0.94      0.95      0.95       544\n",
      "           1       0.90      0.88      0.89       265\n",
      "\n",
      "    accuracy                           0.93       809\n",
      "   macro avg       0.92      0.91      0.92       809\n",
      "weighted avg       0.93      0.93      0.93       809\n",
      "\n",
      "roc_auc_score : 0.9713235294117647\n",
      "log loss      : 0.20171091098655228\n",
      "-------------------------------------------------------------\n",
      "carboxylic_acid\n",
      "              precision    recall  f1-score   support\n",
      "\n",
      "           0       0.93      0.98      0.95       694\n",
      "           1       0.80      0.57      0.67       115\n",
      "\n",
      "    accuracy                           0.92       809\n",
      "   macro avg       0.87      0.78      0.81       809\n",
      "weighted avg       0.91      0.92      0.91       809\n",
      "\n",
      "roc_auc_score : 0.9688009021425887\n",
      "log loss      : 0.16504937095787658\n",
      "-------------------------------------------------------------\n",
      "nitrogen_bearing_compound\n",
      "              precision    recall  f1-score   support\n",
      "\n",
      "           0       0.96      0.97      0.96       713\n",
      "           1       0.74      0.69      0.71        96\n",
      "\n",
      "    accuracy                           0.93       809\n",
      "   macro avg       0.85      0.83      0.84       809\n",
      "weighted avg       0.93      0.93      0.93       809\n",
      "\n",
      "roc_auc_score : 0.9709122253389435\n",
      "log loss      : 0.14612338237281047\n",
      "-------------------------------------------------------------\n",
      "chlorine_bearing_compound\n",
      "              precision    recall  f1-score   support\n",
      "\n",
      "           0       0.99      1.00      0.99       791\n",
      "           1       0.86      0.33      0.48        18\n",
      "\n",
      "    accuracy                           0.98       809\n",
      "   macro avg       0.92      0.67      0.74       809\n",
      "weighted avg       0.98      0.98      0.98       809\n",
      "\n",
      "roc_auc_score : 0.978157044528726\n",
      "log loss      : 0.045471638148176445\n",
      "-------------------------------------------------------------\n",
      "sulfur_bearing_compound\n",
      "              precision    recall  f1-score   support\n",
      "\n",
      "           0       0.98      0.99      0.99       778\n",
      "           1       0.78      0.45      0.57        31\n",
      "\n",
      "    accuracy                           0.97       809\n",
      "   macro avg       0.88      0.72      0.78       809\n",
      "weighted avg       0.97      0.97      0.97       809\n",
      "\n",
      "roc_auc_score : 0.971432125383531\n",
      "log loss      : 0.06881115672090125\n",
      "-------------------------------------------------------------\n",
      "alcohol\n",
      "              precision    recall  f1-score   support\n",
      "\n",
      "           0       0.98      1.00      0.99       783\n",
      "           1       0.80      0.31      0.44        26\n",
      "\n",
      "    accuracy                           0.98       809\n",
      "   macro avg       0.89      0.65      0.72       809\n",
      "weighted avg       0.97      0.98      0.97       809\n",
      "\n",
      "roc_auc_score : 0.9747028195304057\n",
      "log loss      : 0.07076677135355335\n",
      "-------------------------------------------------------------\n",
      "other_oxygen_bearing_compound\n",
      "              precision    recall  f1-score   support\n",
      "\n",
      "           0       0.98      1.00      0.99       788\n",
      "           1       0.89      0.38      0.53        21\n",
      "\n",
      "    accuracy                           0.98       809\n",
      "   macro avg       0.94      0.69      0.76       809\n",
      "weighted avg       0.98      0.98      0.98       809\n",
      "\n",
      "roc_auc_score : 0.9722625090645395\n",
      "log loss      : 0.05523541033262183\n",
      "-------------------------------------------------------------\n",
      "mineral\n",
      "              precision    recall  f1-score   support\n",
      "\n",
      "           0       0.92      0.99      0.95       692\n",
      "           1       0.87      0.50      0.64       117\n",
      "\n",
      "    accuracy                           0.92       809\n",
      "   macro avg       0.89      0.75      0.80       809\n",
      "weighted avg       0.91      0.92      0.91       809\n",
      "\n",
      "roc_auc_score : 0.9535596067387975\n",
      "log loss      : 0.1890682453143077\n",
      "-------------------------------------------------------------\n"
     ]
    }
   ],
   "source": [
    "for i in range(9):\n",
    "    y_true_column = train_labels.iloc[:, i+1].values\n",
    "    y_pred_column = y_pred[:, i].round()\n",
    "\n",
    "    report = classification_report(y_true_column, y_pred_column)\n",
    "    print(f\"{label_names[i]}\")\n",
    "    print(report)\n",
    "    print(f\"roc_auc_score : {roc_auc_score(y_true_column, y_pred[:, i])}\")\n",
    "    print(f\"log loss      : {log_loss(y_true_column, y_pred[:, i])}\")\n",
    "\n",
    "    print(\"-------------------------------------------------------------\")\n"
   ]
  },
  {
   "cell_type": "code",
   "execution_count": null,
   "id": "2089e4e2",
   "metadata": {
    "id": "2c0b5fd1",
    "papermill": {
     "duration": 0.054543,
     "end_time": "2023-07-19T12:05:25.101548",
     "exception": false,
     "start_time": "2023-07-19T12:05:25.047005",
     "status": "completed"
    },
    "tags": []
   },
   "outputs": [],
   "source": []
  }
 ],
 "metadata": {
  "kernelspec": {
   "display_name": "Python 3",
   "language": "python",
   "name": "python3"
  },
  "language_info": {
   "codemirror_mode": {
    "name": "ipython",
    "version": 3
   },
   "file_extension": ".py",
   "mimetype": "text/x-python",
   "name": "python",
   "nbconvert_exporter": "python",
   "pygments_lexer": "ipython3",
   "version": "3.10.12"
  },
  "papermill": {
   "default_parameters": {},
   "duration": 5286.414717,
   "end_time": "2023-07-19T12:05:28.014239",
   "environment_variables": {},
   "exception": null,
   "input_path": "__notebook__.ipynb",
   "output_path": "__notebook__.ipynb",
   "parameters": {},
   "start_time": "2023-07-19T10:37:21.599522",
   "version": "2.4.0"
  }
 },
 "nbformat": 4,
 "nbformat_minor": 5
}
