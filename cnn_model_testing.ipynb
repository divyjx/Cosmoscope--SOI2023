{
 "cells": [
  {
   "cell_type": "markdown",
   "id": "c55d8856",
   "metadata": {
    "id": "19a292b6",
    "papermill": {
     "duration": 0.006179,
     "end_time": "2023-07-20T02:14:04.823063",
     "exception": false,
     "start_time": "2023-07-20T02:14:04.816884",
     "status": "completed"
    },
    "tags": []
   },
   "source": [
    "## 1. Data Description\n",
    "<ul>\n",
    "<li>there are 809 training examples</li>\n",
    "<li>each of them is a dataframe with time, mass , and intensity values</li>\n",
    "<li>dataframe lenghts are variable</li>\n",
    "</ul>\n"
   ]
  },
  {
   "cell_type": "code",
   "execution_count": 1,
   "id": "ca18390f",
   "metadata": {
    "execution": {
     "iopub.execute_input": "2023-07-20T02:14:04.836399Z",
     "iopub.status.busy": "2023-07-20T02:14:04.835882Z",
     "iopub.status.idle": "2023-07-20T02:14:14.454819Z",
     "shell.execute_reply": "2023-07-20T02:14:14.453662Z"
    },
    "id": "669ca0ad",
    "papermill": {
     "duration": 9.628745,
     "end_time": "2023-07-20T02:14:14.457354",
     "exception": false,
     "start_time": "2023-07-20T02:14:04.828609",
     "status": "completed"
    },
    "tags": []
   },
   "outputs": [],
   "source": [
    "import warnings\n",
    "warnings.filterwarnings('ignore')\n",
    "\n",
    "# for processing numbers and files csv\n",
    "import pandas as pd\n",
    "import numpy as np\n",
    "\n",
    "# for visualization\n",
    "import matplotlib.pyplot as plt\n",
    "%matplotlib inline\n",
    "\n",
    "# preprocessing\n",
    "from sklearn.preprocessing import MinMaxScaler\n",
    "from sklearn.model_selection import train_test_split\n",
    "from sklearn.metrics import classification_report, roc_auc_score, log_loss\n",
    "\n",
    "# model related\n",
    "from tensorflow.keras.callbacks import EarlyStopping\n",
    "from tensorflow.keras.utils import Sequence\n",
    "from tensorflow.keras.models import Sequential\n",
    "from tensorflow.keras.layers import Conv2D, MaxPooling2D, Flatten, Dense\n",
    "\n",
    "import tensorflow as tf\n"
   ]
  },
  {
   "cell_type": "code",
   "execution_count": 2,
   "id": "ff11e754",
   "metadata": {
    "execution": {
     "iopub.execute_input": "2023-07-20T02:14:14.470707Z",
     "iopub.status.busy": "2023-07-20T02:14:14.470004Z",
     "iopub.status.idle": "2023-07-20T02:14:14.474482Z",
     "shell.execute_reply": "2023-07-20T02:14:14.473350Z"
    },
    "id": "YIiXAuIFueEv",
    "outputId": "bef609e5-3742-4d4c-8c6f-a12c7ab4bed4",
    "papermill": {
     "duration": 0.013537,
     "end_time": "2023-07-20T02:14:14.476548",
     "exception": false,
     "start_time": "2023-07-20T02:14:14.463011",
     "status": "completed"
    },
    "tags": []
   },
   "outputs": [],
   "source": [
    "# # for working in colab\n",
    "# from google.colab import drive\n",
    "# drive.mount('/content/drive')"
   ]
  },
  {
   "cell_type": "code",
   "execution_count": 3,
   "id": "af0f77de",
   "metadata": {
    "execution": {
     "iopub.execute_input": "2023-07-20T02:14:14.490199Z",
     "iopub.status.busy": "2023-07-20T02:14:14.489499Z",
     "iopub.status.idle": "2023-07-20T02:14:14.506767Z",
     "shell.execute_reply": "2023-07-20T02:14:14.505896Z"
    },
    "id": "3c287e18",
    "outputId": "0307db73-26a6-46e2-f685-979a2b58476d",
    "papermill": {
     "duration": 0.02631,
     "end_time": "2023-07-20T02:14:14.508662",
     "exception": false,
     "start_time": "2023-07-20T02:14:14.482352",
     "status": "completed"
    },
    "tags": []
   },
   "outputs": [
    {
     "data": {
      "text/plain": [
       "False"
      ]
     },
     "execution_count": 3,
     "metadata": {},
     "output_type": "execute_result"
    }
   ],
   "source": [
    "#for gpu\n",
    "tf.test.is_gpu_available()"
   ]
  },
  {
   "cell_type": "code",
   "execution_count": 4,
   "id": "9dfbb853",
   "metadata": {
    "execution": {
     "iopub.execute_input": "2023-07-20T02:14:14.521303Z",
     "iopub.status.busy": "2023-07-20T02:14:14.520916Z",
     "iopub.status.idle": "2023-07-20T02:14:14.525962Z",
     "shell.execute_reply": "2023-07-20T02:14:14.524785Z"
    },
    "id": "815d00ae",
    "papermill": {
     "duration": 0.013858,
     "end_time": "2023-07-20T02:14:14.528040",
     "exception": false,
     "start_time": "2023-07-20T02:14:14.514182",
     "status": "completed"
    },
    "tags": []
   },
   "outputs": [],
   "source": [
    "# for working in kaggle use this paths\n",
    "kag_path_in = \"/kaggle/input/mars-spec-train/\"\n",
    "kag_path_out = \"/kaggle/working/\"\n",
    "\n",
    "# # for working in colab  \n",
    "# kag_path_in = \"/content/drive/MyDrive/\" # google drive\n",
    "# kag_path_out = \"\"\n",
    "\n",
    "# add custom paths here (uncomment)\n",
    "# kag_path_in = \"\"\n",
    "# kag_path_out = \"\""
   ]
  },
  {
   "cell_type": "code",
   "execution_count": 5,
   "id": "f4835b6d",
   "metadata": {
    "execution": {
     "iopub.execute_input": "2023-07-20T02:14:14.541325Z",
     "iopub.status.busy": "2023-07-20T02:14:14.540355Z",
     "iopub.status.idle": "2023-07-20T02:14:14.582781Z",
     "shell.execute_reply": "2023-07-20T02:14:14.581887Z"
    },
    "id": "97f3d01c",
    "papermill": {
     "duration": 0.051594,
     "end_time": "2023-07-20T02:14:14.585242",
     "exception": false,
     "start_time": "2023-07-20T02:14:14.533648",
     "status": "completed"
    },
    "tags": []
   },
   "outputs": [],
   "source": [
    "# metadata = pd.read_csv('/kaggle/input/mars-spec-train/metadata.csv').fillna(0)\n",
    "# train_labels = pd.read_csv('/kaggle/input/mars-spec-train/train_labels.csv')\n",
    "metadata = pd.read_csv(kag_path_in+'metadata.csv').fillna(0)\n",
    "train_labels = pd.read_csv(kag_path_in+'train_labels.csv')"
   ]
  },
  {
   "cell_type": "markdown",
   "id": "f766b2b8",
   "metadata": {
    "id": "d6089094",
    "papermill": {
     "duration": 0.005347,
     "end_time": "2023-07-20T02:14:14.596365",
     "exception": false,
     "start_time": "2023-07-20T02:14:14.591018",
     "status": "completed"
    },
    "tags": []
   },
   "source": [
    "## 2. Preprocessing and Feature extraction\n",
    "<ul>\n",
    "<li>mass values are grouped into values seperated by 0.50 </li>\n",
    "<li>time values are grouped into values seperated by 0.02 </li>\n",
    "<li>Time * Mass matrix (2700,1400) with Intensity values </li>\n",
    "</ul>"
   ]
  },
  {
   "cell_type": "code",
   "execution_count": 6,
   "id": "333ebd34",
   "metadata": {
    "execution": {
     "iopub.execute_input": "2023-07-20T02:14:14.609349Z",
     "iopub.status.busy": "2023-07-20T02:14:14.608563Z",
     "iopub.status.idle": "2023-07-20T02:14:14.613674Z",
     "shell.execute_reply": "2023-07-20T02:14:14.612888Z"
    },
    "id": "39247504",
    "papermill": {
     "duration": 0.014186,
     "end_time": "2023-07-20T02:14:14.615926",
     "exception": false,
     "start_time": "2023-07-20T02:14:14.601740",
     "status": "completed"
    },
    "tags": []
   },
   "outputs": [],
   "source": [
    "# constants\n",
    "num_mass_values = 1400\n",
    "num_time_values = 2700\n",
    "matrix_shape = (num_time_values, num_mass_values)"
   ]
  },
  {
   "cell_type": "code",
   "execution_count": 7,
   "id": "12bd1da0",
   "metadata": {
    "execution": {
     "iopub.execute_input": "2023-07-20T02:14:14.630875Z",
     "iopub.status.busy": "2023-07-20T02:14:14.630074Z",
     "iopub.status.idle": "2023-07-20T02:14:14.637698Z",
     "shell.execute_reply": "2023-07-20T02:14:14.636898Z"
    },
    "id": "174557ea",
    "papermill": {
     "duration": 0.016926,
     "end_time": "2023-07-20T02:14:14.639868",
     "exception": false,
     "start_time": "2023-07-20T02:14:14.622942",
     "status": "completed"
    },
    "tags": []
   },
   "outputs": [],
   "source": [
    "\n",
    "# Function to create the Time X Mass matrix for a single data sample\n",
    "def create_matrix(id):\n",
    "\n",
    "    sample_id, split, derivate, path, _ = metadata.iloc[id]\n",
    "    data = pd.read_csv(kag_path_in+path)\n",
    "\n",
    "    label = None\n",
    "    if (split == 'train'):\n",
    "        label = train_labels.iloc[id].values[1:]\n",
    "\n",
    "    # discretization of time and mass\n",
    "    data.time = (data.time*50).round()\n",
    "    data.mass = (data.mass*2).round()\n",
    "    data.time = data.time.astype(int)\n",
    "    data.mass = data.mass.astype(int)\n",
    "\n",
    "    # scaling intensity\n",
    "    data.intensity = MinMaxScaler().fit_transform(data.intensity.values.reshape(-1, 1))\n",
    "\n",
    "    # filling matrix\n",
    "    matrix = np.zeros(matrix_shape)\n",
    "    matrix[data['time'],data['mass']] = data['intensity']\n",
    "\n",
    "    return matrix , label\n"
   ]
  },
  {
   "cell_type": "markdown",
   "id": "ad822544",
   "metadata": {
    "id": "490a30fa",
    "papermill": {
     "duration": 0.005235,
     "end_time": "2023-07-20T02:14:14.650678",
     "exception": false,
     "start_time": "2023-07-20T02:14:14.645443",
     "status": "completed"
    },
    "tags": []
   },
   "source": [
    "## 3. Data Generation\n",
    "<ul>\n",
    "<li>Storing data matrix is costly</li>\n",
    "<li>data is generated in batches</li>\n",
    "</ul>\n"
   ]
  },
  {
   "cell_type": "code",
   "execution_count": 8,
   "id": "6ca419a6",
   "metadata": {
    "execution": {
     "iopub.execute_input": "2023-07-20T02:14:14.663852Z",
     "iopub.status.busy": "2023-07-20T02:14:14.663068Z",
     "iopub.status.idle": "2023-07-20T02:14:14.672767Z",
     "shell.execute_reply": "2023-07-20T02:14:14.671865Z"
    },
    "id": "79ddb7ca",
    "papermill": {
     "duration": 0.019023,
     "end_time": "2023-07-20T02:14:14.675136",
     "exception": false,
     "start_time": "2023-07-20T02:14:14.656113",
     "status": "completed"
    },
    "tags": []
   },
   "outputs": [],
   "source": [
    "class DataGenerator(Sequence):\n",
    "    def __init__(self, data, batch_size):\n",
    "        self.data = data\n",
    "        self.batch_size = batch_size\n",
    "    def __len__(self):\n",
    "        return len(self.data) // self.batch_size\n",
    "\n",
    "    def __getitem__(self, idx):\n",
    "        low = idx * self.batch_size\n",
    "        high = min(low + self.batch_size, len(self.data))\n",
    "        batch_x = []\n",
    "        batch_y = []\n",
    "\n",
    "        for i, data_sample in enumerate(self.data[low:high]):\n",
    "            processed_sample, processed_label = self.preprocess_data(data_sample)\n",
    "            batch_x.append(processed_sample)\n",
    "            batch_y.append(processed_label)\n",
    "\n",
    "\n",
    "        while len(batch_x) < self.batch_size:\n",
    "            random_no = np.random.randint(0,len(self.data))\n",
    "            processed_sample, processed_label = self.preprocess_data(data_sample)\n",
    "            batch_x.append(processed_sample)\n",
    "            batch_y.append(processed_label)\n",
    "\n",
    "        return np.array(batch_x), np.array(batch_y)\n",
    "\n",
    "    def preprocess_data(self, data_sample):\n",
    "        matrix, label = create_matrix(data_sample)\n",
    "        if type(label) == np.ndarray:\n",
    "            label = np.array(label).astype(int)\n",
    "        return matrix , label\n"
   ]
  },
  {
   "cell_type": "markdown",
   "id": "31f56c58",
   "metadata": {
    "id": "5a85a8cb",
    "papermill": {
     "duration": 0.005487,
     "end_time": "2023-07-20T02:14:14.686460",
     "exception": false,
     "start_time": "2023-07-20T02:14:14.680973",
     "status": "completed"
    },
    "tags": []
   },
   "source": [
    "## 4. Model\n",
    "<ul>\n",
    "<li>convolutional layers </li>\n",
    "<li>pooling layers (max pooling) </li>\n",
    "<li>fully connected layers</li>\n",
    "<li>sigmoid layer</li>\n",
    "<li>output positive label probability</li>\n",
    "</ul>"
   ]
  },
  {
   "cell_type": "code",
   "execution_count": 9,
   "id": "a44795f5",
   "metadata": {
    "execution": {
     "iopub.execute_input": "2023-07-20T02:14:14.700069Z",
     "iopub.status.busy": "2023-07-20T02:14:14.699253Z",
     "iopub.status.idle": "2023-07-20T02:14:14.704618Z",
     "shell.execute_reply": "2023-07-20T02:14:14.703793Z"
    },
    "id": "fd3c0758",
    "papermill": {
     "duration": 0.015264,
     "end_time": "2023-07-20T02:14:14.707300",
     "exception": false,
     "start_time": "2023-07-20T02:14:14.692036",
     "status": "completed"
    },
    "tags": []
   },
   "outputs": [],
   "source": [
    "label_names = [col for col in train_labels.columns[1:]]"
   ]
  },
  {
   "cell_type": "code",
   "execution_count": 10,
   "id": "89c17f6c",
   "metadata": {
    "execution": {
     "iopub.execute_input": "2023-07-20T02:14:14.719919Z",
     "iopub.status.busy": "2023-07-20T02:14:14.719529Z",
     "iopub.status.idle": "2023-07-20T02:14:14.724329Z",
     "shell.execute_reply": "2023-07-20T02:14:14.723144Z"
    },
    "id": "ff54f238",
    "papermill": {
     "duration": 0.013612,
     "end_time": "2023-07-20T02:14:14.726525",
     "exception": false,
     "start_time": "2023-07-20T02:14:14.712913",
     "status": "completed"
    },
    "tags": []
   },
   "outputs": [],
   "source": [
    "# contants\n",
    "batch_size = 16\n",
    "num_epochs = 75\n",
    "model = None\n",
    "history = None"
   ]
  },
  {
   "cell_type": "code",
   "execution_count": 11,
   "id": "766327a7",
   "metadata": {
    "execution": {
     "iopub.execute_input": "2023-07-20T02:14:14.740028Z",
     "iopub.status.busy": "2023-07-20T02:14:14.739371Z",
     "iopub.status.idle": "2023-07-20T02:14:14.746235Z",
     "shell.execute_reply": "2023-07-20T02:14:14.744979Z"
    },
    "id": "kvgA-6pkiHZx",
    "outputId": "8617e103-a597-4aed-f3dc-fa1dc312b91e",
    "papermill": {
     "duration": 0.015947,
     "end_time": "2023-07-20T02:14:14.748294",
     "exception": false,
     "start_time": "2023-07-20T02:14:14.732347",
     "status": "completed"
    },
    "tags": []
   },
   "outputs": [
    {
     "name": "stdout",
     "output_type": "stream",
     "text": [
      "647 162\n"
     ]
    }
   ],
   "source": [
    "training_data = range(809)\n",
    "train_data, val_data = train_test_split(training_data, test_size=0.2, random_state=42)\n",
    "train_data_generator = DataGenerator(train_data, batch_size)\n",
    "val_data_generator = DataGenerator(val_data, batch_size)\n",
    "print(len(train_data), len(val_data))"
   ]
  },
  {
   "cell_type": "code",
   "execution_count": 12,
   "id": "f28d0ba8",
   "metadata": {
    "execution": {
     "iopub.execute_input": "2023-07-20T02:14:14.761552Z",
     "iopub.status.busy": "2023-07-20T02:14:14.760865Z",
     "iopub.status.idle": "2023-07-20T02:14:15.459010Z",
     "shell.execute_reply": "2023-07-20T02:14:15.457639Z"
    },
    "id": "cf2fc727",
    "outputId": "ce65ac22-ecdf-416b-adbf-2dce39ce2ff8",
    "papermill": {
     "duration": 0.710665,
     "end_time": "2023-07-20T02:14:15.464628",
     "exception": false,
     "start_time": "2023-07-20T02:14:14.753963",
     "status": "completed"
    },
    "tags": []
   },
   "outputs": [
    {
     "name": "stdout",
     "output_type": "stream",
     "text": [
      "Model: \"sequential\"\n",
      "_________________________________________________________________\n",
      " Layer (type)                Output Shape              Param #   \n",
      "=================================================================\n",
      " conv2d (Conv2D)             (None, 27, 1400, 32)      3872      \n",
      "                                                                 \n",
      " max_pooling2d (MaxPooling2D  (None, 3, 700, 32)       0         \n",
      " )                                                               \n",
      "                                                                 \n",
      " flatten (Flatten)           (None, 67200)             0         \n",
      "                                                                 \n",
      " dense (Dense)               (None, 1024)              68813824  \n",
      "                                                                 \n",
      " dense_1 (Dense)             (None, 128)               131200    \n",
      "                                                                 \n",
      " dense_2 (Dense)             (None, 9)                 1161      \n",
      "                                                                 \n",
      "=================================================================\n",
      "Total params: 68,950,057\n",
      "Trainable params: 68,950,057\n",
      "Non-trainable params: 0\n",
      "_________________________________________________________________\n"
     ]
    }
   ],
   "source": [
    "model = Sequential()\n",
    "model.add(Conv2D(32, kernel_size = (120,1), padding= 'same',strides = (100,1),activation='relu', input_shape=(num_time_values, num_mass_values, 1)))\n",
    "model.add(MaxPooling2D(pool_size=(9, 2)))\n",
    "\n",
    "model.add(Flatten())\n",
    "\n",
    "model.add(Dense(1024, activation='relu'))\n",
    "model.add(Dense(128, activation='relu'))\n",
    "model.add(Dense(9, activation='sigmoid'))\n",
    "\n",
    "opt = tf.keras.optimizers.Adam(learning_rate = 0.00001)\n",
    "\n",
    "model.compile(loss=tf.keras.losses.BinaryCrossentropy(), optimizer=opt, metrics=['AUC'])\n",
    "\n",
    "model.summary()"
   ]
  },
  {
   "cell_type": "code",
   "execution_count": 13,
   "id": "af963f2a",
   "metadata": {
    "execution": {
     "iopub.execute_input": "2023-07-20T02:14:15.480523Z",
     "iopub.status.busy": "2023-07-20T02:14:15.480135Z",
     "iopub.status.idle": "2023-07-20T09:22:07.899669Z",
     "shell.execute_reply": "2023-07-20T09:22:07.891228Z"
    },
    "id": "c3a8f41d",
    "outputId": "aa0ae9b1-811c-499b-ea2b-801b1109e1ed",
    "papermill": {
     "duration": 25672.635288,
     "end_time": "2023-07-20T09:22:08.106960",
     "exception": false,
     "start_time": "2023-07-20T02:14:15.471672",
     "status": "completed"
    },
    "tags": []
   },
   "outputs": [
    {
     "name": "stdout",
     "output_type": "stream",
     "text": [
      "Epoch 1/75\n",
      "40/40 [==============================] - 378s 9s/step - loss: 0.6877 - auc: 0.5594 - val_loss: 0.6757 - val_auc: 0.6890\n",
      "Epoch 2/75\n",
      "40/40 [==============================] - 308s 8s/step - loss: 0.6353 - auc: 0.5801 - val_loss: 0.5654 - val_auc: 0.6941\n",
      "Epoch 3/75\n",
      "40/40 [==============================] - 317s 8s/step - loss: 0.4853 - auc: 0.6188 - val_loss: 0.3891 - val_auc: 0.7212\n",
      "Epoch 4/75\n",
      "40/40 [==============================] - 315s 8s/step - loss: 0.3526 - auc: 0.7214 - val_loss: 0.2977 - val_auc: 0.7688\n",
      "Epoch 5/75\n",
      "40/40 [==============================] - 319s 8s/step - loss: 0.3059 - auc: 0.7604 - val_loss: 0.2754 - val_auc: 0.7875\n",
      "Epoch 6/75\n",
      "40/40 [==============================] - 289s 7s/step - loss: 0.2933 - auc: 0.7785 - val_loss: 0.2666 - val_auc: 0.7954\n",
      "Epoch 7/75\n",
      "40/40 [==============================] - 331s 8s/step - loss: 0.2869 - auc: 0.7897 - val_loss: 0.2616 - val_auc: 0.8068\n",
      "Epoch 8/75\n",
      "40/40 [==============================] - 347s 9s/step - loss: 0.2815 - auc: 0.7986 - val_loss: 0.2567 - val_auc: 0.8137\n",
      "Epoch 9/75\n",
      "40/40 [==============================] - 365s 9s/step - loss: 0.2754 - auc: 0.8107 - val_loss: 0.2517 - val_auc: 0.8209\n",
      "Epoch 10/75\n",
      "40/40 [==============================] - 272s 7s/step - loss: 0.2691 - auc: 0.8245 - val_loss: 0.2468 - val_auc: 0.8310\n",
      "Epoch 11/75\n",
      "40/40 [==============================] - 371s 9s/step - loss: 0.2630 - auc: 0.8324 - val_loss: 0.2427 - val_auc: 0.8363\n",
      "Epoch 12/75\n",
      "40/40 [==============================] - 289s 7s/step - loss: 0.2572 - auc: 0.8428 - val_loss: 0.2390 - val_auc: 0.8443\n",
      "Epoch 13/75\n",
      "40/40 [==============================] - 336s 8s/step - loss: 0.2519 - auc: 0.8479 - val_loss: 0.2350 - val_auc: 0.8486\n",
      "Epoch 14/75\n",
      "40/40 [==============================] - 286s 7s/step - loss: 0.2466 - auc: 0.8572 - val_loss: 0.2313 - val_auc: 0.8539\n",
      "Epoch 15/75\n",
      "40/40 [==============================] - 312s 8s/step - loss: 0.2424 - auc: 0.8627 - val_loss: 0.2294 - val_auc: 0.8606\n",
      "Epoch 16/75\n",
      "40/40 [==============================] - 290s 7s/step - loss: 0.2378 - auc: 0.8691 - val_loss: 0.2260 - val_auc: 0.8655\n",
      "Epoch 17/75\n",
      "40/40 [==============================] - 339s 8s/step - loss: 0.2343 - auc: 0.8731 - val_loss: 0.2247 - val_auc: 0.8686\n",
      "Epoch 18/75\n",
      "40/40 [==============================] - 281s 7s/step - loss: 0.2309 - auc: 0.8784 - val_loss: 0.2210 - val_auc: 0.8724\n",
      "Epoch 19/75\n",
      "40/40 [==============================] - 341s 9s/step - loss: 0.2274 - auc: 0.8825 - val_loss: 0.2195 - val_auc: 0.8751\n",
      "Epoch 20/75\n",
      "40/40 [==============================] - 289s 7s/step - loss: 0.2245 - auc: 0.8865 - val_loss: 0.2176 - val_auc: 0.8783\n",
      "Epoch 21/75\n",
      "40/40 [==============================] - 328s 8s/step - loss: 0.2215 - auc: 0.8905 - val_loss: 0.2154 - val_auc: 0.8794\n",
      "Epoch 22/75\n",
      "40/40 [==============================] - 356s 9s/step - loss: 0.2191 - auc: 0.8936 - val_loss: 0.2141 - val_auc: 0.8833\n",
      "Epoch 23/75\n",
      "40/40 [==============================] - 289s 7s/step - loss: 0.2168 - auc: 0.8962 - val_loss: 0.2124 - val_auc: 0.8858\n",
      "Epoch 24/75\n",
      "40/40 [==============================] - 348s 9s/step - loss: 0.2144 - auc: 0.8995 - val_loss: 0.2111 - val_auc: 0.8873\n",
      "Epoch 25/75\n",
      "40/40 [==============================] - 298s 7s/step - loss: 0.2120 - auc: 0.9031 - val_loss: 0.2093 - val_auc: 0.8891\n",
      "Epoch 26/75\n",
      "40/40 [==============================] - 371s 9s/step - loss: 0.2098 - auc: 0.9050 - val_loss: 0.2089 - val_auc: 0.8910\n",
      "Epoch 27/75\n",
      "40/40 [==============================] - 272s 7s/step - loss: 0.2074 - auc: 0.9082 - val_loss: 0.2065 - val_auc: 0.8938\n",
      "Epoch 28/75\n",
      "40/40 [==============================] - 339s 8s/step - loss: 0.2055 - auc: 0.9106 - val_loss: 0.2052 - val_auc: 0.8961\n",
      "Epoch 29/75\n",
      "40/40 [==============================] - 321s 8s/step - loss: 0.2033 - auc: 0.9128 - val_loss: 0.2043 - val_auc: 0.8979\n",
      "Epoch 30/75\n",
      "40/40 [==============================] - 287s 7s/step - loss: 0.2011 - auc: 0.9152 - val_loss: 0.2026 - val_auc: 0.8991\n",
      "Epoch 31/75\n",
      "40/40 [==============================] - 296s 7s/step - loss: 0.1991 - auc: 0.9174 - val_loss: 0.2019 - val_auc: 0.9010\n",
      "Epoch 32/75\n",
      "40/40 [==============================] - 339s 8s/step - loss: 0.1978 - auc: 0.9197 - val_loss: 0.2012 - val_auc: 0.9023\n",
      "Epoch 33/75\n",
      "40/40 [==============================] - 314s 8s/step - loss: 0.1956 - auc: 0.9215 - val_loss: 0.2000 - val_auc: 0.9035\n",
      "Epoch 34/75\n",
      "40/40 [==============================] - 298s 7s/step - loss: 0.1938 - auc: 0.9238 - val_loss: 0.1983 - val_auc: 0.9052\n",
      "Epoch 35/75\n",
      "40/40 [==============================] - 314s 8s/step - loss: 0.1920 - auc: 0.9258 - val_loss: 0.1968 - val_auc: 0.9067\n",
      "Epoch 36/75\n",
      "40/40 [==============================] - 330s 8s/step - loss: 0.1899 - auc: 0.9286 - val_loss: 0.1961 - val_auc: 0.9077\n",
      "Epoch 37/75\n",
      "40/40 [==============================] - 354s 9s/step - loss: 0.1882 - auc: 0.9301 - val_loss: 0.1956 - val_auc: 0.9092\n",
      "Epoch 38/75\n",
      "40/40 [==============================] - 265s 7s/step - loss: 0.1863 - auc: 0.9325 - val_loss: 0.1943 - val_auc: 0.9105\n",
      "Epoch 39/75\n",
      "40/40 [==============================] - 364s 9s/step - loss: 0.1845 - auc: 0.9338 - val_loss: 0.1930 - val_auc: 0.9104\n",
      "Epoch 40/75\n",
      "40/40 [==============================] - 252s 6s/step - loss: 0.1830 - auc: 0.9349 - val_loss: 0.1928 - val_auc: 0.9122\n",
      "Epoch 41/75\n",
      "40/40 [==============================] - 344s 9s/step - loss: 0.1814 - auc: 0.9362 - val_loss: 0.1922 - val_auc: 0.9131\n",
      "Epoch 42/75\n",
      "40/40 [==============================] - 268s 7s/step - loss: 0.1801 - auc: 0.9382 - val_loss: 0.1911 - val_auc: 0.9142\n",
      "Epoch 43/75\n",
      "40/40 [==============================] - 365s 9s/step - loss: 0.1780 - auc: 0.9401 - val_loss: 0.1897 - val_auc: 0.9153\n",
      "Epoch 44/75\n",
      "40/40 [==============================] - 304s 8s/step - loss: 0.1774 - auc: 0.9402 - val_loss: 0.1894 - val_auc: 0.9164\n",
      "Epoch 45/75\n",
      "40/40 [==============================] - 360s 9s/step - loss: 0.1749 - auc: 0.9422 - val_loss: 0.1879 - val_auc: 0.9168\n",
      "Epoch 46/75\n",
      "40/40 [==============================] - 289s 7s/step - loss: 0.1735 - auc: 0.9439 - val_loss: 0.1872 - val_auc: 0.9179\n",
      "Epoch 47/75\n",
      "40/40 [==============================] - 345s 9s/step - loss: 0.1720 - auc: 0.9455 - val_loss: 0.1872 - val_auc: 0.9183\n",
      "Epoch 48/75\n",
      "40/40 [==============================] - 312s 8s/step - loss: 0.1706 - auc: 0.9464 - val_loss: 0.1857 - val_auc: 0.9200\n",
      "Epoch 49/75\n",
      "40/40 [==============================] - 338s 8s/step - loss: 0.1694 - auc: 0.9472 - val_loss: 0.1850 - val_auc: 0.9210\n",
      "Epoch 50/75\n",
      "40/40 [==============================] - 334s 8s/step - loss: 0.1678 - auc: 0.9483 - val_loss: 0.1834 - val_auc: 0.9223\n",
      "Epoch 51/75\n",
      "40/40 [==============================] - 321s 8s/step - loss: 0.1663 - auc: 0.9489 - val_loss: 0.1829 - val_auc: 0.9231\n",
      "Epoch 52/75\n",
      "40/40 [==============================] - 362s 9s/step - loss: 0.1647 - auc: 0.9505 - val_loss: 0.1825 - val_auc: 0.9230\n",
      "Epoch 53/75\n",
      "40/40 [==============================] - 273s 7s/step - loss: 0.1640 - auc: 0.9512 - val_loss: 0.1810 - val_auc: 0.9239\n",
      "Epoch 54/75\n",
      "40/40 [==============================] - 381s 9s/step - loss: 0.1624 - auc: 0.9523 - val_loss: 0.1806 - val_auc: 0.9242\n",
      "Epoch 55/75\n",
      "40/40 [==============================] - 283s 7s/step - loss: 0.1610 - auc: 0.9531 - val_loss: 0.1798 - val_auc: 0.9261\n",
      "Epoch 56/75\n",
      "40/40 [==============================] - 333s 8s/step - loss: 0.1599 - auc: 0.9539 - val_loss: 0.1797 - val_auc: 0.9261\n",
      "Epoch 57/75\n",
      "40/40 [==============================] - 254s 6s/step - loss: 0.1587 - auc: 0.9546 - val_loss: 0.1787 - val_auc: 0.9273\n",
      "Epoch 58/75\n",
      "40/40 [==============================] - 341s 9s/step - loss: 0.1573 - auc: 0.9557 - val_loss: 0.1778 - val_auc: 0.9276\n",
      "Epoch 59/75\n",
      "40/40 [==============================] - 298s 7s/step - loss: 0.1559 - auc: 0.9563 - val_loss: 0.1771 - val_auc: 0.9290\n",
      "Epoch 60/75\n",
      "40/40 [==============================] - 368s 9s/step - loss: 0.1551 - auc: 0.9568 - val_loss: 0.1768 - val_auc: 0.9293\n",
      "Epoch 61/75\n",
      "40/40 [==============================] - 282s 7s/step - loss: 0.1543 - auc: 0.9570 - val_loss: 0.1755 - val_auc: 0.9299\n",
      "Epoch 62/75\n",
      "40/40 [==============================] - 347s 9s/step - loss: 0.1528 - auc: 0.9584 - val_loss: 0.1750 - val_auc: 0.9303\n",
      "Epoch 63/75\n",
      "40/40 [==============================] - 306s 8s/step - loss: 0.1524 - auc: 0.9581 - val_loss: 0.1747 - val_auc: 0.9301\n",
      "Epoch 64/75\n",
      "40/40 [==============================] - 326s 8s/step - loss: 0.1510 - auc: 0.9592 - val_loss: 0.1740 - val_auc: 0.9316\n",
      "Epoch 65/75\n",
      "40/40 [==============================] - 327s 8s/step - loss: 0.1497 - auc: 0.9601 - val_loss: 0.1730 - val_auc: 0.9322\n",
      "Epoch 66/75\n",
      "40/40 [==============================] - 349s 9s/step - loss: 0.1487 - auc: 0.9603 - val_loss: 0.1729 - val_auc: 0.9321\n",
      "Epoch 67/75\n",
      "40/40 [==============================] - 376s 9s/step - loss: 0.1473 - auc: 0.9612 - val_loss: 0.1715 - val_auc: 0.9332\n",
      "Epoch 68/75\n",
      "40/40 [==============================] - 299s 7s/step - loss: 0.1464 - auc: 0.9619 - val_loss: 0.1724 - val_auc: 0.9335\n",
      "Epoch 69/75\n",
      "40/40 [==============================] - 359s 9s/step - loss: 0.1453 - auc: 0.9619 - val_loss: 0.1705 - val_auc: 0.9324\n",
      "Epoch 70/75\n",
      "40/40 [==============================] - 290s 7s/step - loss: 0.1444 - auc: 0.9627 - val_loss: 0.1706 - val_auc: 0.9326\n",
      "Epoch 71/75\n",
      "40/40 [==============================] - 330s 8s/step - loss: 0.1435 - auc: 0.9638 - val_loss: 0.1696 - val_auc: 0.9335\n",
      "Epoch 72/75\n",
      "40/40 [==============================] - 339s 8s/step - loss: 0.1429 - auc: 0.9632 - val_loss: 0.1703 - val_auc: 0.9348\n",
      "Epoch 73/75\n",
      "40/40 [==============================] - 336s 8s/step - loss: 0.1418 - auc: 0.9643 - val_loss: 0.1693 - val_auc: 0.9341\n",
      "Epoch 74/75\n",
      "40/40 [==============================] - 361s 9s/step - loss: 0.1406 - auc: 0.9644 - val_loss: 0.1684 - val_auc: 0.9352\n",
      "Epoch 75/75\n",
      "40/40 [==============================] - 325s 8s/step - loss: 0.1396 - auc: 0.9655 - val_loss: 0.1680 - val_auc: 0.9354\n"
     ]
    }
   ],
   "source": [
    "es = EarlyStopping(monitor = 'val_loss', patience = 5 )\n",
    "history = model.fit(train_data_generator, epochs=num_epochs, validation_data=val_data_generator, callbacks=[es],verbose = 1)"
   ]
  },
  {
   "cell_type": "code",
   "execution_count": 14,
   "id": "d313321a",
   "metadata": {
    "execution": {
     "iopub.execute_input": "2023-07-20T09:22:08.527301Z",
     "iopub.status.busy": "2023-07-20T09:22:08.526638Z",
     "iopub.status.idle": "2023-07-20T09:22:09.831248Z",
     "shell.execute_reply": "2023-07-20T09:22:09.830068Z"
    },
    "id": "3f2ae88e",
    "papermill": {
     "duration": 1.520642,
     "end_time": "2023-07-20T09:22:09.833994",
     "exception": false,
     "start_time": "2023-07-20T09:22:08.313352",
     "status": "completed"
    },
    "tags": []
   },
   "outputs": [],
   "source": [
    "model.save(\"cnn_model_test.keras\")"
   ]
  },
  {
   "cell_type": "markdown",
   "id": "2d23b6fd",
   "metadata": {
    "id": "ba71ea10",
    "papermill": {
     "duration": 0.201357,
     "end_time": "2023-07-20T09:22:10.237059",
     "exception": false,
     "start_time": "2023-07-20T09:22:10.035702",
     "status": "completed"
    },
    "tags": []
   },
   "source": [
    "## 5. Performance\n",
    "<ul>\n",
    "<li>train and validation losses</li>\n",
    "</ul>"
   ]
  },
  {
   "cell_type": "code",
   "execution_count": 15,
   "id": "ca72b4b3",
   "metadata": {
    "execution": {
     "iopub.execute_input": "2023-07-20T09:22:10.651463Z",
     "iopub.status.busy": "2023-07-20T09:22:10.651053Z",
     "iopub.status.idle": "2023-07-20T09:22:11.156910Z",
     "shell.execute_reply": "2023-07-20T09:22:11.155598Z"
    },
    "id": "bc61259e",
    "papermill": {
     "duration": 0.718296,
     "end_time": "2023-07-20T09:22:11.159446",
     "exception": false,
     "start_time": "2023-07-20T09:22:10.441150",
     "status": "completed"
    },
    "tags": []
   },
   "outputs": [
    {
     "data": {
      "image/png": "[encoded data removed]",
      "text/plain": [
       "<Figure size 640x480 with 1 Axes>"
      ]
     },
     "metadata": {},
     "output_type": "display_data"
    }
   ],
   "source": [
    "train_loss = history.history['loss']\n",
    "val_loss = history.history['val_loss']\n",
    "epochs = range(1, len(train_loss) + 1)\n",
    "\n",
    "plt.plot(epochs, train_loss, 'b', label='Training Loss')\n",
    "plt.plot(epochs, val_loss, 'r', label='Validation Loss')\n",
    "plt.title('Training and Validation Loss')\n",
    "plt.xlabel('Epochs')\n",
    "plt.ylabel('Loss')\n",
    "plt.grid()\n",
    "plt.legend()\n",
    "plt.show()\n",
    "\n"
   ]
  },
  {
   "cell_type": "code",
   "execution_count": 16,
   "id": "60a0e300",
   "metadata": {
    "execution": {
     "iopub.execute_input": "2023-07-20T09:22:11.579979Z",
     "iopub.status.busy": "2023-07-20T09:22:11.579510Z",
     "iopub.status.idle": "2023-07-20T09:27:34.299497Z",
     "shell.execute_reply": "2023-07-20T09:27:34.298278Z"
    },
    "id": "c14289c9",
    "papermill": {
     "duration": 322.932685,
     "end_time": "2023-07-20T09:27:34.304034",
     "exception": false,
     "start_time": "2023-07-20T09:22:11.371349",
     "status": "completed"
    },
    "tags": []
   },
   "outputs": [],
   "source": [
    "y_pred = model.predict(DataGenerator(range(809),1), verbose = 0)"
   ]
  },
  {
   "cell_type": "markdown",
   "id": "93d9d2e9",
   "metadata": {
    "id": "80af68ce",
    "papermill": {
     "duration": 0.217168,
     "end_time": "2023-07-20T09:27:34.740380",
     "exception": false,
     "start_time": "2023-07-20T09:27:34.523212",
     "status": "completed"
    },
    "tags": []
   },
   "source": [
    "### Classification Reports"
   ]
  },
  {
   "cell_type": "code",
   "execution_count": 17,
   "id": "c1fcd2f6",
   "metadata": {
    "execution": {
     "iopub.execute_input": "2023-07-20T09:27:35.160299Z",
     "iopub.status.busy": "2023-07-20T09:27:35.159036Z",
     "iopub.status.idle": "2023-07-20T09:27:35.302127Z",
     "shell.execute_reply": "2023-07-20T09:27:35.300295Z"
    },
    "id": "5ef8f090",
    "papermill": {
     "duration": 0.356571,
     "end_time": "2023-07-20T09:27:35.306366",
     "exception": false,
     "start_time": "2023-07-20T09:27:34.949795",
     "status": "completed"
    },
    "tags": []
   },
   "outputs": [
    {
     "name": "stdout",
     "output_type": "stream",
     "text": [
      "aromatic\n",
      "              precision    recall  f1-score   support\n",
      "\n",
      "           0       0.94      1.00      0.97       730\n",
      "           1       0.92      0.42      0.57        79\n",
      "\n",
      "    accuracy                           0.94       809\n",
      "   macro avg       0.93      0.71      0.77       809\n",
      "weighted avg       0.94      0.94      0.93       809\n",
      "\n",
      "roc_auc_score : 0.9461245014739033\n",
      "log loss      : 0.16534399156270999\n",
      "-------------------------------------------------------------\n",
      "hydrocarbon\n",
      "              precision    recall  f1-score   support\n",
      "\n",
      "           0       0.94      0.94      0.94       544\n",
      "           1       0.87      0.87      0.87       265\n",
      "\n",
      "    accuracy                           0.91       809\n",
      "   macro avg       0.90      0.90      0.90       809\n",
      "weighted avg       0.91      0.91      0.91       809\n",
      "\n",
      "roc_auc_score : 0.963679245283019\n",
      "log loss      : 0.23453246837915367\n",
      "-------------------------------------------------------------\n",
      "carboxylic_acid\n",
      "              precision    recall  f1-score   support\n",
      "\n",
      "           0       0.91      0.99      0.95       694\n",
      "           1       0.85      0.43      0.57       115\n",
      "\n",
      "    accuracy                           0.91       809\n",
      "   macro avg       0.88      0.71      0.76       809\n",
      "weighted avg       0.90      0.91      0.90       809\n",
      "\n",
      "roc_auc_score : 0.9481393309109134\n",
      "log loss      : 0.20395213602316914\n",
      "-------------------------------------------------------------\n",
      "nitrogen_bearing_compound\n",
      "              precision    recall  f1-score   support\n",
      "\n",
      "           0       0.93      0.99      0.96       713\n",
      "           1       0.87      0.42      0.56        96\n",
      "\n",
      "    accuracy                           0.92       809\n",
      "   macro avg       0.90      0.70      0.76       809\n",
      "weighted avg       0.92      0.92      0.91       809\n",
      "\n",
      "roc_auc_score : 0.9508239831697054\n",
      "log loss      : 0.181650566717122\n",
      "-------------------------------------------------------------\n",
      "chlorine_bearing_compound\n",
      "              precision    recall  f1-score   support\n",
      "\n",
      "           0       0.98      1.00      0.99       791\n",
      "           1       0.83      0.28      0.42        18\n",
      "\n",
      "    accuracy                           0.98       809\n",
      "   macro avg       0.91      0.64      0.70       809\n",
      "weighted avg       0.98      0.98      0.98       809\n",
      "\n",
      "roc_auc_score : 0.9697991290911645\n",
      "log loss      : 0.05589421909984516\n",
      "-------------------------------------------------------------\n",
      "sulfur_bearing_compound\n",
      "              precision    recall  f1-score   support\n",
      "\n",
      "           0       0.97      1.00      0.99       778\n",
      "           1       0.83      0.32      0.47        31\n",
      "\n",
      "    accuracy                           0.97       809\n",
      "   macro avg       0.90      0.66      0.73       809\n",
      "weighted avg       0.97      0.97      0.97       809\n",
      "\n",
      "roc_auc_score : 0.9408325731818559\n",
      "log loss      : 0.08872537111629052\n",
      "-------------------------------------------------------------\n",
      "alcohol\n",
      "              precision    recall  f1-score   support\n",
      "\n",
      "           0       0.97      1.00      0.99       783\n",
      "           1       1.00      0.12      0.21        26\n",
      "\n",
      "    accuracy                           0.97       809\n",
      "   macro avg       0.99      0.56      0.60       809\n",
      "weighted avg       0.97      0.97      0.96       809\n",
      "\n",
      "roc_auc_score : 0.9489635524118283\n",
      "log loss      : 0.0859992040400552\n",
      "-------------------------------------------------------------\n",
      "other_oxygen_bearing_compound\n",
      "              precision    recall  f1-score   support\n",
      "\n",
      "           0       0.98      1.00      0.99       788\n",
      "           1       0.67      0.10      0.17        21\n",
      "\n",
      "    accuracy                           0.98       809\n",
      "   macro avg       0.82      0.55      0.58       809\n",
      "weighted avg       0.97      0.98      0.97       809\n",
      "\n",
      "roc_auc_score : 0.9447063089195069\n",
      "log loss      : 0.06939858311177162\n",
      "-------------------------------------------------------------\n",
      "mineral\n",
      "              precision    recall  f1-score   support\n",
      "\n",
      "           0       0.92      0.98      0.95       692\n",
      "           1       0.81      0.53      0.64       117\n",
      "\n",
      "    accuracy                           0.91       809\n",
      "   macro avg       0.87      0.75      0.80       809\n",
      "weighted avg       0.91      0.91      0.91       809\n",
      "\n",
      "roc_auc_score : 0.9405785287288178\n",
      "log loss      : 0.21286479692942925\n",
      "-------------------------------------------------------------\n"
     ]
    }
   ],
   "source": [
    "for i in range(9):\n",
    "    y_true_column = train_labels.iloc[:, i+1].values\n",
    "    y_pred_column = y_pred[:, i].round()\n",
    "\n",
    "    report = classification_report(y_true_column, y_pred_column)\n",
    "    print(f\"{label_names[i]}\")\n",
    "    print(report)\n",
    "    print(f\"roc_auc_score : {roc_auc_score(y_true_column, y_pred[:, i])}\")\n",
    "    print(f\"log loss      : {log_loss(y_true_column, y_pred[:, i])}\")\n",
    "\n",
    "    print(\"-------------------------------------------------------------\")\n"
   ]
  },
  {
   "cell_type": "code",
   "execution_count": null,
   "id": "781201a3",
   "metadata": {
    "id": "2c0b5fd1",
    "papermill": {
     "duration": 0.336926,
     "end_time": "2023-07-20T09:27:35.853865",
     "exception": false,
     "start_time": "2023-07-20T09:27:35.516939",
     "status": "completed"
    },
    "tags": []
   },
   "outputs": [],
   "source": []
  }
 ],
 "metadata": {
  "kernelspec": {
   "display_name": "Python 3",
   "language": "python",
   "name": "python3"
  },
  "language_info": {
   "codemirror_mode": {
    "name": "ipython",
    "version": 3
   },
   "file_extension": ".py",
   "mimetype": "text/x-python",
   "name": "python",
   "nbconvert_exporter": "python",
   "pygments_lexer": "ipython3",
   "version": "3.10.12"
  },
  "papermill": {
   "default_parameters": {},
   "duration": 26025.590938,
   "end_time": "2023-07-20T09:27:39.585937",
   "environment_variables": {},
   "exception": null,
   "input_path": "__notebook__.ipynb",
   "output_path": "__notebook__.ipynb",
   "parameters": {},
   "start_time": "2023-07-20T02:13:53.994999",
   "version": "2.4.0"
  }
 },
 "nbformat": 4,
 "nbformat_minor": 5
}
