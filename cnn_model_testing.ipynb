{
  "cells": [
    {
      "cell_type": "markdown",
      "id": "19a292b6",
      "metadata": {
        "papermill": {
          "duration": 0.006792,
          "end_time": "2023-07-16T04:44:21.923696",
          "exception": false,
          "start_time": "2023-07-16T04:44:21.916904",
          "status": "completed"
        },
        "tags": [],
        "id": "19a292b6"
      },
      "source": [
        "## 1. Data Description\n",
        "<ul>\n",
        "<li>there are 809 training examples</li>\n",
        "<li>each of them is a dataframe with time, mass , and intensity values</li>\n",
        "<li>dataframe lenghts are variable</li>\n",
        "</ul>\n"
      ]
    },
    {
      "cell_type": "code",
      "execution_count": null,
      "id": "669ca0ad",
      "metadata": {
        "execution": {
          "iopub.execute_input": "2023-07-16T04:44:21.937474Z",
          "iopub.status.busy": "2023-07-16T04:44:21.936956Z",
          "iopub.status.idle": "2023-07-16T04:44:30.819511Z",
          "shell.execute_reply": "2023-07-16T04:44:30.818488Z"
        },
        "papermill": {
          "duration": 8.892053,
          "end_time": "2023-07-16T04:44:30.821893",
          "exception": false,
          "start_time": "2023-07-16T04:44:21.929840",
          "status": "completed"
        },
        "tags": [],
        "id": "669ca0ad"
      },
      "outputs": [],
      "source": [
        "import warnings\n",
        "warnings.filterwarnings('ignore')\n",
        "\n",
        "# for processing numbers and files csv\n",
        "import pandas as pd\n",
        "import numpy as np\n",
        "\n",
        "# for visualization\n",
        "import matplotlib.pyplot as plt\n",
        "%matplotlib inline\n",
        "\n",
        "# preprocessing\n",
        "from sklearn.preprocessing import MinMaxScaler\n",
        "from sklearn.model_selection import train_test_split\n",
        "from sklearn.metrics import classification_report, roc_auc_score, log_loss\n",
        "\n",
        "# model related\n",
        "from tensorflow.keras.callbacks import EarlyStopping\n",
        "from tensorflow.keras.utils import Sequence\n",
        "from tensorflow.keras.models import Sequential\n",
        "from tensorflow.keras.layers import Conv2D, MaxPooling2D, Flatten, Dense\n",
        "\n",
        "import tensorflow as tf\n"
      ]
    },
    {
      "cell_type": "code",
      "source": [
        "from google.colab import drive\n",
        "drive.mount('/content/drive')"
      ],
      "metadata": {
        "colab": {
          "base_uri": "https://localhost:8080/"
        },
        "id": "YIiXAuIFueEv",
        "outputId": "bef609e5-3742-4d4c-8c6f-a12c7ab4bed4"
      },
      "id": "YIiXAuIFueEv",
      "execution_count": null,
      "outputs": [
        {
          "output_type": "stream",
          "name": "stdout",
          "text": [
            "Mounted at /content/drive\n"
          ]
        }
      ]
    },
    {
      "cell_type": "code",
      "execution_count": null,
      "id": "3c287e18",
      "metadata": {
        "execution": {
          "iopub.execute_input": "2023-07-16T04:44:30.835464Z",
          "iopub.status.busy": "2023-07-16T04:44:30.834869Z",
          "iopub.status.idle": "2023-07-16T04:44:30.840500Z",
          "shell.execute_reply": "2023-07-16T04:44:30.839663Z"
        },
        "papermill": {
          "duration": 0.01446,
          "end_time": "2023-07-16T04:44:30.842526",
          "exception": false,
          "start_time": "2023-07-16T04:44:30.828066",
          "status": "completed"
        },
        "tags": [],
        "colab": {
          "base_uri": "https://localhost:8080/"
        },
        "id": "3c287e18",
        "outputId": "0307db73-26a6-46e2-f685-979a2b58476d"
      },
      "outputs": [
        {
          "output_type": "stream",
          "name": "stderr",
          "text": [
            "WARNING:tensorflow:From <ipython-input-3-d65ef826492d>:11: is_gpu_available (from tensorflow.python.framework.test_util) is deprecated and will be removed in a future version.\n",
            "Instructions for updating:\n",
            "Use `tf.config.list_physical_devices('GPU')` instead.\n"
          ]
        },
        {
          "output_type": "stream",
          "name": "stdout",
          "text": [
            "[name: \"/device:CPU:0\"\n",
            "device_type: \"CPU\"\n",
            "memory_limit: 268435456\n",
            "locality {\n",
            "}\n",
            "incarnation: 10163601398610753540\n",
            "xla_global_id: -1\n",
            "]\n"
          ]
        },
        {
          "output_type": "execute_result",
          "data": {
            "text/plain": [
              "False"
            ]
          },
          "metadata": {},
          "execution_count": 3
        }
      ],
      "source": [
        "#for gpu\n",
        "\n",
        "gpus = tf.config.list_physical_devices('GPU')\n",
        "for gpu in gpus:\n",
        "    print(\"Name:\", gpu.name, \"  Type:\", gpu.device_type)\n",
        "\n",
        "from tensorflow.python.client import device_lib\n",
        "\n",
        "print(device_lib.list_local_devices())\n",
        "\n",
        "tf.test.is_gpu_available()"
      ]
    },
    {
      "cell_type": "code",
      "execution_count": null,
      "id": "815d00ae",
      "metadata": {
        "execution": {
          "iopub.execute_input": "2023-07-16T04:44:30.855246Z",
          "iopub.status.busy": "2023-07-16T04:44:30.854977Z",
          "iopub.status.idle": "2023-07-16T04:44:30.859216Z",
          "shell.execute_reply": "2023-07-16T04:44:30.858286Z"
        },
        "papermill": {
          "duration": 0.012789,
          "end_time": "2023-07-16T04:44:30.861084",
          "exception": false,
          "start_time": "2023-07-16T04:44:30.848295",
          "status": "completed"
        },
        "tags": [],
        "id": "815d00ae"
      },
      "outputs": [],
      "source": [
        "# for working in kaggle use this paths\n",
        "kag_path_in = \"/kaggle/input/mars-spec-train/\"\n",
        "kag_path_out = \"/kaggle/working/\"\n",
        "\n",
        "kag_path_in = \"/content/drive/MyDrive/\" # google drive\n",
        "# add custom paths here (uncomment)\n",
        "# kag_path_in = \"\"\n",
        "kag_path_out = \"\""
      ]
    },
    {
      "cell_type": "code",
      "execution_count": null,
      "id": "97f3d01c",
      "metadata": {
        "execution": {
          "iopub.execute_input": "2023-07-16T04:44:30.873687Z",
          "iopub.status.busy": "2023-07-16T04:44:30.873411Z",
          "iopub.status.idle": "2023-07-16T04:44:30.905297Z",
          "shell.execute_reply": "2023-07-16T04:44:30.904410Z"
        },
        "papermill": {
          "duration": 0.040643,
          "end_time": "2023-07-16T04:44:30.907403",
          "exception": false,
          "start_time": "2023-07-16T04:44:30.866760",
          "status": "completed"
        },
        "tags": [],
        "id": "97f3d01c"
      },
      "outputs": [],
      "source": [
        "# metadata = pd.read_csv('/kaggle/input/mars-spec-train/metadata.csv').fillna(0)\n",
        "# train_labels = pd.read_csv('/kaggle/input/mars-spec-train/train_labels.csv')\n",
        "metadata = pd.read_csv(kag_path_in+'metadata.csv').fillna(0)\n",
        "train_labels = pd.read_csv(kag_path_in+'train_labels.csv')"
      ]
    },
    {
      "cell_type": "markdown",
      "id": "d6089094",
      "metadata": {
        "papermill": {
          "duration": 0.005602,
          "end_time": "2023-07-16T04:44:30.919053",
          "exception": false,
          "start_time": "2023-07-16T04:44:30.913451",
          "status": "completed"
        },
        "tags": [],
        "id": "d6089094"
      },
      "source": [
        "## 2. Preprocessing and Feature extraction\n",
        "<ul>\n",
        "<li>mass values are grouped into values seperated by 0.50 </li>\n",
        "<li>time values are grouped into values seperated by 0.02 </li>\n",
        "<li>Time * Mass matrix (2700,1400) with Intensity values </li>\n",
        "</ul>"
      ]
    },
    {
      "cell_type": "code",
      "execution_count": null,
      "id": "39247504",
      "metadata": {
        "execution": {
          "iopub.execute_input": "2023-07-16T04:44:30.932466Z",
          "iopub.status.busy": "2023-07-16T04:44:30.931875Z",
          "iopub.status.idle": "2023-07-16T04:44:30.936154Z",
          "shell.execute_reply": "2023-07-16T04:44:30.935239Z"
        },
        "papermill": {
          "duration": 0.013342,
          "end_time": "2023-07-16T04:44:30.938132",
          "exception": false,
          "start_time": "2023-07-16T04:44:30.924790",
          "status": "completed"
        },
        "tags": [],
        "id": "39247504"
      },
      "outputs": [],
      "source": [
        "# constants\n",
        "num_mass_values = 1400\n",
        "num_time_values = 2700\n",
        "matrix_shape = (num_time_values, num_mass_values)"
      ]
    },
    {
      "cell_type": "code",
      "execution_count": null,
      "id": "174557ea",
      "metadata": {
        "execution": {
          "iopub.execute_input": "2023-07-16T04:44:30.950714Z",
          "iopub.status.busy": "2023-07-16T04:44:30.950453Z",
          "iopub.status.idle": "2023-07-16T04:44:30.957723Z",
          "shell.execute_reply": "2023-07-16T04:44:30.956831Z"
        },
        "papermill": {
          "duration": 0.015758,
          "end_time": "2023-07-16T04:44:30.959646",
          "exception": false,
          "start_time": "2023-07-16T04:44:30.943888",
          "status": "completed"
        },
        "tags": [],
        "id": "174557ea"
      },
      "outputs": [],
      "source": [
        "\n",
        "# Function to create the Time X Mass matrix for a single data sample\n",
        "def create_matrix(id):\n",
        "\n",
        "    sample_id, split, derivate, path, _ = metadata.iloc[id]\n",
        "    data = pd.read_csv(kag_path_in+path)\n",
        "\n",
        "    label = None\n",
        "    if (split == 'train'):\n",
        "        label = train_labels.iloc[id].values[1:]\n",
        "\n",
        "    # discretization of time and mass\n",
        "    data.time = (data.time*50).round()\n",
        "    data.mass = (data.mass*2).round()\n",
        "    data.time = data.time.astype(int)\n",
        "    data.mass = data.mass.astype(int)\n",
        "\n",
        "    # scaling intensity\n",
        "    data.intensity = MinMaxScaler().fit_transform(data.intensity.values.reshape(-1, 1))\n",
        "\n",
        "    # filling matrix\n",
        "    matrix = np.zeros(matrix_shape)\n",
        "    matrix[data['time'],data['mass']] = data['intensity']\n",
        "\n",
        "    return matrix , label\n"
      ]
    },
    {
      "cell_type": "markdown",
      "id": "490a30fa",
      "metadata": {
        "papermill": {
          "duration": 0.005569,
          "end_time": "2023-07-16T04:44:30.971126",
          "exception": false,
          "start_time": "2023-07-16T04:44:30.965557",
          "status": "completed"
        },
        "tags": [],
        "id": "490a30fa"
      },
      "source": [
        "## 3. Data Generation\n",
        "<ul>\n",
        "<li>Storing data matrix is costly</li>\n",
        "<li>data is generated in batches</li>\n",
        "</ul>\n"
      ]
    },
    {
      "cell_type": "code",
      "execution_count": null,
      "id": "79ddb7ca",
      "metadata": {
        "execution": {
          "iopub.execute_input": "2023-07-16T04:44:31.004272Z",
          "iopub.status.busy": "2023-07-16T04:44:31.003511Z",
          "iopub.status.idle": "2023-07-16T04:44:31.012125Z",
          "shell.execute_reply": "2023-07-16T04:44:31.011190Z"
        },
        "papermill": {
          "duration": 0.01738,
          "end_time": "2023-07-16T04:44:31.014321",
          "exception": false,
          "start_time": "2023-07-16T04:44:30.996941",
          "status": "completed"
        },
        "tags": [],
        "id": "79ddb7ca"
      },
      "outputs": [],
      "source": [
        "class DataGenerator(Sequence):\n",
        "    def __init__(self, data, batch_size):\n",
        "        self.data = data\n",
        "        self.batch_size = batch_size\n",
        "    def __len__(self):\n",
        "        return len(self.data) // self.batch_size\n",
        "\n",
        "    def __getitem__(self, idx):\n",
        "        low = idx * self.batch_size\n",
        "        high = min(low + self.batch_size, len(self.data))\n",
        "        batch_x = []\n",
        "        batch_y = []\n",
        "\n",
        "        for i, data_sample in enumerate(self.data[low:high]):\n",
        "            processed_sample, processed_label = self.preprocess_data(data_sample)\n",
        "            batch_x.append(processed_sample)\n",
        "            batch_y.append(processed_label)\n",
        "\n",
        "\n",
        "        while len(batch_x) < self.batch_size:\n",
        "            random_no = np.random.randint(0,len(self.data))\n",
        "            processed_sample, processed_label = self.preprocess_data(data_sample)\n",
        "            batch_x.append(processed_sample)\n",
        "            batch_y.append(processed_label)\n",
        "\n",
        "        return np.array(batch_x), np.array(batch_y)\n",
        "\n",
        "    def preprocess_data(self, data_sample):\n",
        "        matrix, label = create_matrix(data_sample)\n",
        "        if type(label) == np.ndarray:\n",
        "            label = np.array(label).astype(int)\n",
        "        return matrix , label\n"
      ]
    },
    {
      "cell_type": "markdown",
      "id": "5a85a8cb",
      "metadata": {
        "papermill": {
          "duration": 0.005802,
          "end_time": "2023-07-16T04:44:31.627533",
          "exception": false,
          "start_time": "2023-07-16T04:44:31.621731",
          "status": "completed"
        },
        "tags": [],
        "id": "5a85a8cb"
      },
      "source": [
        "## 4. Model\n",
        "<ul>\n",
        "<li>convolutional layers </li>\n",
        "<li>pooling layers (max pooling) </li>\n",
        "<li>fully connected layers</li>\n",
        "<li>sigmoid layer</li>\n",
        "<li>output positive label probability</li>\n",
        "</ul>"
      ]
    },
    {
      "cell_type": "code",
      "execution_count": null,
      "id": "fd3c0758",
      "metadata": {
        "execution": {
          "iopub.execute_input": "2023-07-16T04:44:31.640882Z",
          "iopub.status.busy": "2023-07-16T04:44:31.640562Z",
          "iopub.status.idle": "2023-07-16T04:44:31.644996Z",
          "shell.execute_reply": "2023-07-16T04:44:31.644001Z"
        },
        "papermill": {
          "duration": 0.01382,
          "end_time": "2023-07-16T04:44:31.647359",
          "exception": false,
          "start_time": "2023-07-16T04:44:31.633539",
          "status": "completed"
        },
        "tags": [],
        "id": "fd3c0758"
      },
      "outputs": [],
      "source": [
        "label_names = [col for col in train_labels.columns[1:]]"
      ]
    },
    {
      "cell_type": "code",
      "execution_count": null,
      "id": "ff54f238",
      "metadata": {
        "execution": {
          "iopub.execute_input": "2023-07-16T04:44:31.660528Z",
          "iopub.status.busy": "2023-07-16T04:44:31.660258Z",
          "iopub.status.idle": "2023-07-16T04:44:31.665300Z",
          "shell.execute_reply": "2023-07-16T04:44:31.664466Z"
        },
        "papermill": {
          "duration": 0.014025,
          "end_time": "2023-07-16T04:44:31.667263",
          "exception": false,
          "start_time": "2023-07-16T04:44:31.653238",
          "status": "completed"
        },
        "tags": [],
        "id": "ff54f238"
      },
      "outputs": [],
      "source": [
        "# contants\n",
        "batch_size = 16\n",
        "num_epochs = 75\n",
        "model = None\n",
        "history = None"
      ]
    },
    {
      "cell_type": "code",
      "source": [
        "training_data = range(809)\n",
        "train_data, val_data = train_test_split(training_data, test_size=0.2, random_state=42)\n",
        "train_data_generator = DataGenerator(training_data, batch_size)\n",
        "val_data_generator = DataGenerator(val_data, batch_size)\n",
        "print(len(train_data), len(val_data))"
      ],
      "metadata": {
        "colab": {
          "base_uri": "https://localhost:8080/"
        },
        "id": "kvgA-6pkiHZx",
        "outputId": "8617e103-a597-4aed-f3dc-fa1dc312b91e"
      },
      "id": "kvgA-6pkiHZx",
      "execution_count": null,
      "outputs": [
        {
          "output_type": "stream",
          "name": "stdout",
          "text": [
            "647 162\n"
          ]
        }
      ]
    },
    {
      "cell_type": "code",
      "execution_count": null,
      "id": "cf2fc727",
      "metadata": {
        "execution": {
          "iopub.execute_input": "2023-07-16T04:44:31.680250Z",
          "iopub.status.busy": "2023-07-16T04:44:31.679985Z",
          "iopub.status.idle": "2023-07-16T04:44:34.575923Z",
          "shell.execute_reply": "2023-07-16T04:44:34.575130Z"
        },
        "papermill": {
          "duration": 2.917614,
          "end_time": "2023-07-16T04:44:34.590747",
          "exception": false,
          "start_time": "2023-07-16T04:44:31.673133",
          "status": "completed"
        },
        "tags": [],
        "colab": {
          "base_uri": "https://localhost:8080/"
        },
        "id": "cf2fc727",
        "outputId": "ce65ac22-ecdf-416b-adbf-2dce39ce2ff8"
      },
      "outputs": [
        {
          "output_type": "stream",
          "name": "stdout",
          "text": [
            "Model: \"sequential\"\n",
            "_________________________________________________________________\n",
            " Layer (type)                Output Shape              Param #   \n",
            "=================================================================\n",
            " conv2d (Conv2D)             (None, 27, 1400, 32)      3872      \n",
            "                                                                 \n",
            " max_pooling2d (MaxPooling2D  (None, 3, 700, 32)       0         \n",
            " )                                                               \n",
            "                                                                 \n",
            " flatten (Flatten)           (None, 67200)             0         \n",
            "                                                                 \n",
            " dense (Dense)               (None, 128)               8601728   \n",
            "                                                                 \n",
            " dense_1 (Dense)             (None, 64)                8256      \n",
            "                                                                 \n",
            " dense_2 (Dense)             (None, 9)                 585       \n",
            "                                                                 \n",
            "=================================================================\n",
            "Total params: 8,614,441\n",
            "Trainable params: 8,614,441\n",
            "Non-trainable params: 0\n",
            "_________________________________________________________________\n"
          ]
        }
      ],
      "source": [
        "model = Sequential()\n",
        "model.add(Conv2D(32, kernel_size = (120,1), padding= 'same',strides = (100,1),activation='relu', input_shape=(num_time_values, num_mass_values, 1)))\n",
        "model.add(MaxPooling2D(pool_size=(9, 2)))\n",
        "\n",
        "model.add(Flatten())\n",
        "\n",
        "model.add(Dense(128, activation='relu'))\n",
        "model.add(Dense(64, activation='relu'))\n",
        "model.add(Dense(9, activation='sigmoid'))\n",
        "\n",
        "opt = tf.keras.optimizers.Adam(learning_rate = 0.001)\n",
        "\n",
        "model.compile(loss=tf.keras.losses.BinaryCrossentropy(from_logits=True), optimizer=opt, metrics=['AUC']) # from logits = true\n",
        "\n",
        "model.summary()"
      ]
    },
    {
      "cell_type": "code",
      "execution_count": null,
      "id": "c3a8f41d",
      "metadata": {
        "execution": {
          "iopub.execute_input": "2023-07-16T04:44:34.608482Z",
          "iopub.status.busy": "2023-07-16T04:44:34.608150Z",
          "iopub.status.idle": "2023-07-16T11:12:33.726380Z",
          "shell.execute_reply": "2023-07-16T11:12:33.724452Z"
        },
        "papermill": {
          "duration": 23279.134272,
          "end_time": "2023-07-16T11:12:33.733326",
          "exception": false,
          "start_time": "2023-07-16T04:44:34.599054",
          "status": "completed"
        },
        "tags": [],
        "colab": {
          "base_uri": "https://localhost:8080/"
        },
        "id": "c3a8f41d",
        "outputId": "aa0ae9b1-811c-499b-ea2b-801b1109e1ed"
      },
      "outputs": [
        {
          "output_type": "stream",
          "name": "stdout",
          "text": [
            "Epoch 1/75\n",
            "50/50 [==============================] - 818s 16s/step - loss: 0.3037 - auc: 0.7781 - val_loss: 0.1948 - val_auc: 0.9138\n",
            "Epoch 2/75\n",
            "50/50 [==============================] - 604s 12s/step - loss: 0.2052 - auc: 0.9062 - val_loss: 0.1740 - val_auc: 0.9505\n",
            "Epoch 3/75\n",
            "50/50 [==============================] - 556s 11s/step - loss: 0.1774 - auc: 0.9341 - val_loss: 0.1378 - val_auc: 0.9656\n",
            "Epoch 4/75\n",
            "48/50 [===========================>..] - ETA: 18s - loss: 0.1496 - auc: 0.9565"
          ]
        }
      ],
      "source": [
        "es = EarlyStopping(monitor = 'val_loss', patience = 2, restore_best_weights = True  )\n",
        "history = model.fit(train_data_generator, epochs=num_epochs, validation_data=val_data_generator, callbacks=[es],verbose = 1)"
      ]
    },
    {
      "cell_type": "code",
      "execution_count": null,
      "id": "3f2ae88e",
      "metadata": {
        "execution": {
          "iopub.execute_input": "2023-07-16T11:12:34.661195Z",
          "iopub.status.busy": "2023-07-16T11:12:34.660605Z",
          "iopub.status.idle": "2023-07-16T11:12:34.758377Z",
          "shell.execute_reply": "2023-07-16T11:12:34.757448Z"
        },
        "papermill": {
          "duration": 0.562423,
          "end_time": "2023-07-16T11:12:34.760703",
          "exception": false,
          "start_time": "2023-07-16T11:12:34.198280",
          "status": "completed"
        },
        "tags": [],
        "id": "3f2ae88e"
      },
      "outputs": [],
      "source": [
        "model.save(\"cnn_model_test.keras\")"
      ]
    },
    {
      "cell_type": "markdown",
      "id": "ba71ea10",
      "metadata": {
        "papermill": {
          "duration": 0.456501,
          "end_time": "2023-07-16T11:12:35.680134",
          "exception": false,
          "start_time": "2023-07-16T11:12:35.223633",
          "status": "completed"
        },
        "tags": [],
        "id": "ba71ea10"
      },
      "source": [
        "## 5. Performance\n",
        "<ul>\n",
        "<li>train and validation losses</li>\n",
        "</ul>"
      ]
    },
    {
      "cell_type": "code",
      "execution_count": null,
      "id": "bc61259e",
      "metadata": {
        "execution": {
          "iopub.execute_input": "2023-07-16T11:12:36.598057Z",
          "iopub.status.busy": "2023-07-16T11:12:36.597666Z",
          "iopub.status.idle": "2023-07-16T11:12:36.972359Z",
          "shell.execute_reply": "2023-07-16T11:12:36.971471Z"
        },
        "papermill": {
          "duration": 0.8347,
          "end_time": "2023-07-16T11:12:36.974437",
          "exception": false,
          "start_time": "2023-07-16T11:12:36.139737",
          "status": "completed"
        },
        "tags": [],
        "id": "bc61259e"
      },
      "outputs": [],
      "source": [
        "train_loss = history.history['loss']\n",
        "val_loss = history.history['val_loss']\n",
        "epochs = range(1, len(train_loss) + 1)\n",
        "\n",
        "plt.plot(epochs, train_loss, 'b', label='Training Loss')\n",
        "plt.plot(epochs, val_loss, 'r', label='Validation Loss')\n",
        "plt.title('Training and Validation Loss')\n",
        "plt.xlabel('Epochs')\n",
        "plt.ylabel('Loss')\n",
        "plt.grid()\n",
        "plt.legend()\n",
        "plt.show()\n",
        "\n"
      ]
    },
    {
      "cell_type": "code",
      "execution_count": null,
      "id": "c14289c9",
      "metadata": {
        "execution": {
          "iopub.execute_input": "2023-07-16T11:12:37.898313Z",
          "iopub.status.busy": "2023-07-16T11:12:37.897955Z",
          "iopub.status.idle": "2023-07-16T11:16:49.318722Z",
          "shell.execute_reply": "2023-07-16T11:16:49.317400Z"
        },
        "papermill": {
          "duration": 251.886737,
          "end_time": "2023-07-16T11:16:49.322159",
          "exception": false,
          "start_time": "2023-07-16T11:12:37.435422",
          "status": "completed"
        },
        "tags": [],
        "id": "c14289c9"
      },
      "outputs": [],
      "source": [
        "y_pred = model.predict(DataGenerator(range(809),1), verbose = 0)"
      ]
    },
    {
      "cell_type": "markdown",
      "id": "80af68ce",
      "metadata": {
        "papermill": {
          "duration": 0.472396,
          "end_time": "2023-07-16T11:16:50.367716",
          "exception": false,
          "start_time": "2023-07-16T11:16:49.895320",
          "status": "completed"
        },
        "tags": [],
        "id": "80af68ce"
      },
      "source": [
        "### Classification Reports"
      ]
    },
    {
      "cell_type": "code",
      "execution_count": null,
      "id": "5ef8f090",
      "metadata": {
        "execution": {
          "iopub.execute_input": "2023-07-16T11:16:51.310508Z",
          "iopub.status.busy": "2023-07-16T11:16:51.309429Z",
          "iopub.status.idle": "2023-07-16T11:16:51.430574Z",
          "shell.execute_reply": "2023-07-16T11:16:51.428785Z"
        },
        "papermill": {
          "duration": 0.599508,
          "end_time": "2023-07-16T11:16:51.432814",
          "exception": false,
          "start_time": "2023-07-16T11:16:50.833306",
          "status": "completed"
        },
        "tags": [],
        "id": "5ef8f090"
      },
      "outputs": [],
      "source": [
        "for i in range(9):\n",
        "    y_true_column = train_labels.iloc[:, i+1].values\n",
        "    y_pred_column = y_pred[:, i].round()\n",
        "\n",
        "    report = classification_report(y_true_column, y_pred_column)\n",
        "    print(f\"{label_names[i]}\")\n",
        "    print(report)\n",
        "    print(f\"roc_auc_score : {roc_auc_score(y_true_column, y_pred[:, i])}\")\n",
        "    print(f\"log loss      : {log_loss(y_true_column, y_pred[:, i])}\")\n",
        "\n",
        "    print(\"-------------------------------------------------------------\")\n"
      ]
    },
    {
      "cell_type": "code",
      "execution_count": null,
      "id": "2c0b5fd1",
      "metadata": {
        "papermill": {
          "duration": 0.469091,
          "end_time": "2023-07-16T11:16:52.367116",
          "exception": false,
          "start_time": "2023-07-16T11:16:51.898025",
          "status": "completed"
        },
        "tags": [],
        "id": "2c0b5fd1"
      },
      "outputs": [],
      "source": []
    }
  ],
  "metadata": {
    "kernelspec": {
      "display_name": "Python 3",
      "name": "python3"
    },
    "language_info": {
      "codemirror_mode": {
        "name": "ipython",
        "version": 3
      },
      "file_extension": ".py",
      "mimetype": "text/x-python",
      "name": "python",
      "nbconvert_exporter": "python",
      "pygments_lexer": "ipython3",
      "version": "3.10.10"
    },
    "papermill": {
      "default_parameters": {},
      "duration": 23565.091248,
      "end_time": "2023-07-16T11:16:56.324682",
      "environment_variables": {},
      "exception": null,
      "input_path": "__notebook__.ipynb",
      "output_path": "__notebook__.ipynb",
      "parameters": {},
      "start_time": "2023-07-16T04:44:11.233434",
      "version": "2.4.0"
    },
    "colab": {
      "provenance": [],
      "gpuType": "T4"
    },
    "accelerator": "GPU"
  },
  "nbformat": 4,
  "nbformat_minor": 5
}