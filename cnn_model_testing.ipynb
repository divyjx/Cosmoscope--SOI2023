{
 "cells": [
  {
   "cell_type": "markdown",
   "id": "5e2b8159",
   "metadata": {
    "id": "19a292b6",
    "papermill": {
     "duration": 0.005576,
     "end_time": "2023-07-20T22:19:14.375158",
     "exception": false,
     "start_time": "2023-07-20T22:19:14.369582",
     "status": "completed"
    },
    "tags": []
   },
   "source": [
    "## 1. Data Description\n",
    "<ul>\n",
    "<li>there are 809 training examples</li>\n",
    "<li>each of them is a dataframe with time, mass , and intensity values</li>\n",
    "<li>dataframe lenghts are variable</li>\n",
    "</ul>\n"
   ]
  },
  {
   "cell_type": "code",
   "execution_count": 1,
   "id": "c1e45a99",
   "metadata": {
    "execution": {
     "iopub.execute_input": "2023-07-20T22:19:14.387786Z",
     "iopub.status.busy": "2023-07-20T22:19:14.386931Z",
     "iopub.status.idle": "2023-07-20T22:19:24.843737Z",
     "shell.execute_reply": "2023-07-20T22:19:24.842405Z"
    },
    "id": "669ca0ad",
    "papermill": {
     "duration": 10.466187,
     "end_time": "2023-07-20T22:19:24.846428",
     "exception": false,
     "start_time": "2023-07-20T22:19:14.380241",
     "status": "completed"
    },
    "tags": []
   },
   "outputs": [],
   "source": [
    "import warnings\n",
    "warnings.filterwarnings('ignore')\n",
    "\n",
    "# for processing numbers and files csv\n",
    "import pandas as pd\n",
    "import numpy as np\n",
    "\n",
    "# for visualization\n",
    "import matplotlib.pyplot as plt\n",
    "%matplotlib inline\n",
    "\n",
    "# preprocessing\n",
    "from sklearn.preprocessing import MinMaxScaler\n",
    "from sklearn.model_selection import train_test_split\n",
    "from sklearn.metrics import classification_report, roc_auc_score, log_loss\n",
    "\n",
    "# model related\n",
    "from tensorflow.keras.callbacks import EarlyStopping\n",
    "from tensorflow.keras.utils import Sequence\n",
    "from tensorflow.keras.models import Sequential\n",
    "from tensorflow.keras.layers import Conv2D, MaxPooling2D, Flatten, Dense\n",
    "\n",
    "import tensorflow as tf\n"
   ]
  },
  {
   "cell_type": "code",
   "execution_count": 2,
   "id": "f9d330f1",
   "metadata": {
    "execution": {
     "iopub.execute_input": "2023-07-20T22:19:24.858408Z",
     "iopub.status.busy": "2023-07-20T22:19:24.857689Z",
     "iopub.status.idle": "2023-07-20T22:19:24.863391Z",
     "shell.execute_reply": "2023-07-20T22:19:24.861670Z"
    },
    "id": "YIiXAuIFueEv",
    "outputId": "bef609e5-3742-4d4c-8c6f-a12c7ab4bed4",
    "papermill": {
     "duration": 0.014338,
     "end_time": "2023-07-20T22:19:24.865962",
     "exception": false,
     "start_time": "2023-07-20T22:19:24.851624",
     "status": "completed"
    },
    "tags": []
   },
   "outputs": [],
   "source": [
    "# # for working in colab\n",
    "# from google.colab import drive\n",
    "# drive.mount('/content/drive')"
   ]
  },
  {
   "cell_type": "code",
   "execution_count": 3,
   "id": "47ebc2b1",
   "metadata": {
    "execution": {
     "iopub.execute_input": "2023-07-20T22:19:24.877626Z",
     "iopub.status.busy": "2023-07-20T22:19:24.877265Z",
     "iopub.status.idle": "2023-07-20T22:19:24.896861Z",
     "shell.execute_reply": "2023-07-20T22:19:24.895742Z"
    },
    "id": "3c287e18",
    "outputId": "0307db73-26a6-46e2-f685-979a2b58476d",
    "papermill": {
     "duration": 0.027929,
     "end_time": "2023-07-20T22:19:24.898977",
     "exception": false,
     "start_time": "2023-07-20T22:19:24.871048",
     "status": "completed"
    },
    "tags": []
   },
   "outputs": [
    {
     "data": {
      "text/plain": [
       "False"
      ]
     },
     "execution_count": 3,
     "metadata": {},
     "output_type": "execute_result"
    }
   ],
   "source": [
    "#for gpu\n",
    "tf.test.is_gpu_available()"
   ]
  },
  {
   "cell_type": "code",
   "execution_count": 4,
   "id": "12a58cae",
   "metadata": {
    "execution": {
     "iopub.execute_input": "2023-07-20T22:19:24.911086Z",
     "iopub.status.busy": "2023-07-20T22:19:24.910497Z",
     "iopub.status.idle": "2023-07-20T22:19:24.914872Z",
     "shell.execute_reply": "2023-07-20T22:19:24.913840Z"
    },
    "id": "815d00ae",
    "papermill": {
     "duration": 0.012295,
     "end_time": "2023-07-20T22:19:24.916547",
     "exception": false,
     "start_time": "2023-07-20T22:19:24.904252",
     "status": "completed"
    },
    "tags": []
   },
   "outputs": [],
   "source": [
    "# for working in kaggle use this paths\n",
    "kag_path_in = \"/kaggle/input/mars-spec-train/\"\n",
    "kag_path_out = \"/kaggle/working/\"\n",
    "\n",
    "# # for working in colab  \n",
    "# kag_path_in = \"/content/drive/MyDrive/\" # google drive\n",
    "# kag_path_out = \"\"\n",
    "\n",
    "# add custom paths here (uncomment)\n",
    "# kag_path_in = \"\"\n",
    "# kag_path_out = \"\""
   ]
  },
  {
   "cell_type": "code",
   "execution_count": 5,
   "id": "6259e1c9",
   "metadata": {
    "execution": {
     "iopub.execute_input": "2023-07-20T22:19:24.927768Z",
     "iopub.status.busy": "2023-07-20T22:19:24.927258Z",
     "iopub.status.idle": "2023-07-20T22:19:24.974700Z",
     "shell.execute_reply": "2023-07-20T22:19:24.973999Z"
    },
    "id": "97f3d01c",
    "papermill": {
     "duration": 0.055458,
     "end_time": "2023-07-20T22:19:24.976957",
     "exception": false,
     "start_time": "2023-07-20T22:19:24.921499",
     "status": "completed"
    },
    "tags": []
   },
   "outputs": [],
   "source": [
    "# metadata = pd.read_csv('/kaggle/input/mars-spec-train/metadata.csv').fillna(0)\n",
    "# train_labels = pd.read_csv('/kaggle/input/mars-spec-train/train_labels.csv')\n",
    "metadata = pd.read_csv(kag_path_in+'metadata.csv').fillna(0)\n",
    "train_labels = pd.read_csv(kag_path_in+'train_labels.csv')"
   ]
  },
  {
   "cell_type": "markdown",
   "id": "beb31e49",
   "metadata": {
    "id": "d6089094",
    "papermill": {
     "duration": 0.004685,
     "end_time": "2023-07-20T22:19:24.986772",
     "exception": false,
     "start_time": "2023-07-20T22:19:24.982087",
     "status": "completed"
    },
    "tags": []
   },
   "source": [
    "## 2. Preprocessing and Feature extraction\n",
    "<ul>\n",
    "<li>mass values are grouped into values seperated by 0.50 </li>\n",
    "<li>time values are grouped into values seperated by 0.02 </li>\n",
    "<li>Time * Mass matrix (2700,1400) with Intensity values </li>\n",
    "</ul>"
   ]
  },
  {
   "cell_type": "code",
   "execution_count": 6,
   "id": "6c704d61",
   "metadata": {
    "execution": {
     "iopub.execute_input": "2023-07-20T22:19:24.998066Z",
     "iopub.status.busy": "2023-07-20T22:19:24.997494Z",
     "iopub.status.idle": "2023-07-20T22:19:25.001004Z",
     "shell.execute_reply": "2023-07-20T22:19:25.000408Z"
    },
    "id": "39247504",
    "papermill": {
     "duration": 0.011066,
     "end_time": "2023-07-20T22:19:25.002587",
     "exception": false,
     "start_time": "2023-07-20T22:19:24.991521",
     "status": "completed"
    },
    "tags": []
   },
   "outputs": [],
   "source": [
    "# constants\n",
    "num_mass_values = 1400\n",
    "num_time_values = 2700\n",
    "matrix_shape = (num_time_values, num_mass_values)"
   ]
  },
  {
   "cell_type": "code",
   "execution_count": 7,
   "id": "89b5c740",
   "metadata": {
    "execution": {
     "iopub.execute_input": "2023-07-20T22:19:25.015338Z",
     "iopub.status.busy": "2023-07-20T22:19:25.014679Z",
     "iopub.status.idle": "2023-07-20T22:19:25.021602Z",
     "shell.execute_reply": "2023-07-20T22:19:25.020572Z"
    },
    "id": "174557ea",
    "papermill": {
     "duration": 0.014588,
     "end_time": "2023-07-20T22:19:25.023279",
     "exception": false,
     "start_time": "2023-07-20T22:19:25.008691",
     "status": "completed"
    },
    "tags": []
   },
   "outputs": [],
   "source": [
    "\n",
    "# Function to create the Time X Mass matrix for a single data sample\n",
    "def create_matrix(id):\n",
    "\n",
    "    sample_id, split, derivate, path, _ = metadata.iloc[id]\n",
    "    data = pd.read_csv(kag_path_in+path)\n",
    "\n",
    "    label = None\n",
    "    if (split == 'train'):\n",
    "        label = train_labels.iloc[id].values[1:]\n",
    "\n",
    "    # discretization of time and mass\n",
    "    data.time = (data.time*50).round()\n",
    "    data.mass = (data.mass*2).round()\n",
    "    data.time = data.time.astype(int)\n",
    "    data.mass = data.mass.astype(int)\n",
    "\n",
    "    # scaling intensity\n",
    "    data.intensity = MinMaxScaler().fit_transform(data.intensity.values.reshape(-1, 1))\n",
    "\n",
    "    # filling matrix\n",
    "    matrix = np.zeros(matrix_shape)\n",
    "    matrix[data['time'],data['mass']] = data['intensity']\n",
    "\n",
    "    return matrix , label\n"
   ]
  },
  {
   "cell_type": "markdown",
   "id": "1e6cef47",
   "metadata": {
    "id": "490a30fa",
    "papermill": {
     "duration": 0.004637,
     "end_time": "2023-07-20T22:19:25.032704",
     "exception": false,
     "start_time": "2023-07-20T22:19:25.028067",
     "status": "completed"
    },
    "tags": []
   },
   "source": [
    "## 3. Data Generation\n",
    "<ul>\n",
    "<li>Storing data matrix is costly</li>\n",
    "<li>data is generated in batches</li>\n",
    "</ul>\n"
   ]
  },
  {
   "cell_type": "code",
   "execution_count": 8,
   "id": "9e059e74",
   "metadata": {
    "execution": {
     "iopub.execute_input": "2023-07-20T22:19:25.043862Z",
     "iopub.status.busy": "2023-07-20T22:19:25.043427Z",
     "iopub.status.idle": "2023-07-20T22:19:25.052232Z",
     "shell.execute_reply": "2023-07-20T22:19:25.050873Z"
    },
    "id": "79ddb7ca",
    "papermill": {
     "duration": 0.016455,
     "end_time": "2023-07-20T22:19:25.053880",
     "exception": false,
     "start_time": "2023-07-20T22:19:25.037425",
     "status": "completed"
    },
    "tags": []
   },
   "outputs": [],
   "source": [
    "class DataGenerator(Sequence):\n",
    "    def __init__(self, data, batch_size):\n",
    "        self.data = data\n",
    "        self.batch_size = batch_size\n",
    "    def __len__(self):\n",
    "        return len(self.data) // self.batch_size\n",
    "\n",
    "    def __getitem__(self, idx):\n",
    "        low = idx * self.batch_size\n",
    "        high = min(low + self.batch_size, len(self.data))\n",
    "        batch_x = []\n",
    "        batch_y = []\n",
    "\n",
    "        for i, data_sample in enumerate(self.data[low:high]):\n",
    "            processed_sample, processed_label = self.preprocess_data(data_sample)\n",
    "            batch_x.append(processed_sample)\n",
    "            batch_y.append(processed_label)\n",
    "\n",
    "\n",
    "        while len(batch_x) < self.batch_size:\n",
    "            random_no = np.random.randint(0,len(self.data))\n",
    "            processed_sample, processed_label = self.preprocess_data(data_sample)\n",
    "            batch_x.append(processed_sample)\n",
    "            batch_y.append(processed_label)\n",
    "\n",
    "        return np.array(batch_x), np.array(batch_y)\n",
    "\n",
    "    def preprocess_data(self, data_sample):\n",
    "        matrix, label = create_matrix(data_sample)\n",
    "        if type(label) == np.ndarray:\n",
    "            label = np.array(label).astype(int)\n",
    "        return matrix , label\n"
   ]
  },
  {
   "cell_type": "markdown",
   "id": "6331f268",
   "metadata": {
    "id": "5a85a8cb",
    "papermill": {
     "duration": 0.004778,
     "end_time": "2023-07-20T22:19:25.063661",
     "exception": false,
     "start_time": "2023-07-20T22:19:25.058883",
     "status": "completed"
    },
    "tags": []
   },
   "source": [
    "## 4. Model\n",
    "<ul>\n",
    "<li>convolutional layers </li>\n",
    "<li>pooling layers (max pooling) </li>\n",
    "<li>fully connected layers</li>\n",
    "<li>sigmoid layer</li>\n",
    "<li>output positive label probability</li>\n",
    "</ul>"
   ]
  },
  {
   "cell_type": "code",
   "execution_count": 9,
   "id": "ba95e07d",
   "metadata": {
    "execution": {
     "iopub.execute_input": "2023-07-20T22:19:25.075262Z",
     "iopub.status.busy": "2023-07-20T22:19:25.074616Z",
     "iopub.status.idle": "2023-07-20T22:19:25.078443Z",
     "shell.execute_reply": "2023-07-20T22:19:25.077840Z"
    },
    "id": "fd3c0758",
    "papermill": {
     "duration": 0.01237,
     "end_time": "2023-07-20T22:19:25.080903",
     "exception": false,
     "start_time": "2023-07-20T22:19:25.068533",
     "status": "completed"
    },
    "tags": []
   },
   "outputs": [],
   "source": [
    "label_names = [col for col in train_labels.columns[1:]]"
   ]
  },
  {
   "cell_type": "code",
   "execution_count": 10,
   "id": "0c729864",
   "metadata": {
    "execution": {
     "iopub.execute_input": "2023-07-20T22:19:25.093746Z",
     "iopub.status.busy": "2023-07-20T22:19:25.092811Z",
     "iopub.status.idle": "2023-07-20T22:19:25.097452Z",
     "shell.execute_reply": "2023-07-20T22:19:25.096592Z"
    },
    "id": "ff54f238",
    "papermill": {
     "duration": 0.013175,
     "end_time": "2023-07-20T22:19:25.099675",
     "exception": false,
     "start_time": "2023-07-20T22:19:25.086500",
     "status": "completed"
    },
    "tags": []
   },
   "outputs": [],
   "source": [
    "# contants\n",
    "batch_size = 16\n",
    "num_epochs = 75\n",
    "model = None\n",
    "history = None"
   ]
  },
  {
   "cell_type": "code",
   "execution_count": 11,
   "id": "5ccbd499",
   "metadata": {
    "execution": {
     "iopub.execute_input": "2023-07-20T22:19:25.113072Z",
     "iopub.status.busy": "2023-07-20T22:19:25.112536Z",
     "iopub.status.idle": "2023-07-20T22:19:25.120433Z",
     "shell.execute_reply": "2023-07-20T22:19:25.119083Z"
    },
    "id": "kvgA-6pkiHZx",
    "outputId": "8617e103-a597-4aed-f3dc-fa1dc312b91e",
    "papermill": {
     "duration": 0.017232,
     "end_time": "2023-07-20T22:19:25.122462",
     "exception": false,
     "start_time": "2023-07-20T22:19:25.105230",
     "status": "completed"
    },
    "tags": []
   },
   "outputs": [
    {
     "name": "stdout",
     "output_type": "stream",
     "text": [
      "647 162\n"
     ]
    }
   ],
   "source": [
    "training_data = range(809)\n",
    "train_data, val_data = train_test_split(training_data, test_size=0.2, random_state=42)\n",
    "train_data_generator = DataGenerator(train_data, batch_size)\n",
    "val_data_generator = DataGenerator(val_data, batch_size)\n",
    "print(len(train_data), len(val_data))"
   ]
  },
  {
   "cell_type": "code",
   "execution_count": 12,
   "id": "6aba47db",
   "metadata": {
    "execution": {
     "iopub.execute_input": "2023-07-20T22:19:25.133857Z",
     "iopub.status.busy": "2023-07-20T22:19:25.133522Z",
     "iopub.status.idle": "2023-07-20T22:19:25.770771Z",
     "shell.execute_reply": "2023-07-20T22:19:25.769690Z"
    },
    "id": "cf2fc727",
    "outputId": "ce65ac22-ecdf-416b-adbf-2dce39ce2ff8",
    "papermill": {
     "duration": 0.648453,
     "end_time": "2023-07-20T22:19:25.775982",
     "exception": false,
     "start_time": "2023-07-20T22:19:25.127529",
     "status": "completed"
    },
    "tags": []
   },
   "outputs": [
    {
     "name": "stdout",
     "output_type": "stream",
     "text": [
      "Model: \"sequential\"\n",
      "_________________________________________________________________\n",
      " Layer (type)                Output Shape              Param #   \n",
      "=================================================================\n",
      " conv2d (Conv2D)             (None, 27, 1400, 32)      3872      \n",
      "                                                                 \n",
      " max_pooling2d (MaxPooling2D  (None, 3, 700, 32)       0         \n",
      " )                                                               \n",
      "                                                                 \n",
      " flatten (Flatten)           (None, 67200)             0         \n",
      "                                                                 \n",
      " dense (Dense)               (None, 1024)              68813824  \n",
      "                                                                 \n",
      " dense_1 (Dense)             (None, 512)               524800    \n",
      "                                                                 \n",
      " dense_2 (Dense)             (None, 256)               131328    \n",
      "                                                                 \n",
      " dense_3 (Dense)             (None, 128)               32896     \n",
      "                                                                 \n",
      " dense_4 (Dense)             (None, 64)                8256      \n",
      "                                                                 \n",
      " dense_5 (Dense)             (None, 9)                 585       \n",
      "                                                                 \n",
      "=================================================================\n",
      "Total params: 69,515,561\n",
      "Trainable params: 69,515,561\n",
      "Non-trainable params: 0\n",
      "_________________________________________________________________\n"
     ]
    }
   ],
   "source": [
    "model = Sequential()\n",
    "model.add(Conv2D(32, kernel_size = (120,1), padding= 'same',strides = (100,1),activation='relu', input_shape=(num_time_values, num_mass_values, 1)))\n",
    "model.add(MaxPooling2D(pool_size=(9, 2)))\n",
    "\n",
    "model.add(Flatten())\n",
    "model.add(Dense(1024, activation='relu'))\n",
    "model.add(Dense(512, activation='relu'))\n",
    "model.add(Dense(256, activation='relu'))\n",
    "model.add(Dense(128, activation='relu'))\n",
    "model.add(Dense(64, activation='relu'))\n",
    "model.add(Dense(9, activation='sigmoid'))\n",
    "\n",
    "opt = tf.keras.optimizers.Adam(learning_rate = 0.0001)\n",
    "\n",
    "model.compile(loss=tf.keras.losses.BinaryCrossentropy(), optimizer=opt, metrics=['AUC'])\n",
    "\n",
    "model.summary()"
   ]
  },
  {
   "cell_type": "code",
   "execution_count": 13,
   "id": "39451419",
   "metadata": {
    "execution": {
     "iopub.execute_input": "2023-07-20T22:19:25.790636Z",
     "iopub.status.busy": "2023-07-20T22:19:25.790312Z",
     "iopub.status.idle": "2023-07-20T23:41:51.229856Z",
     "shell.execute_reply": "2023-07-20T23:41:51.224772Z"
    },
    "id": "c3a8f41d",
    "outputId": "aa0ae9b1-811c-499b-ea2b-801b1109e1ed",
    "papermill": {
     "duration": 4945.510126,
     "end_time": "2023-07-20T23:41:51.292745",
     "exception": false,
     "start_time": "2023-07-20T22:19:25.782619",
     "status": "completed"
    },
    "tags": []
   },
   "outputs": [
    {
     "name": "stdout",
     "output_type": "stream",
     "text": [
      "Epoch 1/75\n",
      "40/40 [==============================] - 313s 8s/step - loss: 0.5387 - auc: 0.5785 - val_loss: 0.3054 - val_auc: 0.7319\n",
      "Epoch 2/75\n",
      "40/40 [==============================] - 179s 4s/step - loss: 0.3054 - auc: 0.7479 - val_loss: 0.2643 - val_auc: 0.7912\n",
      "Epoch 3/75\n",
      "40/40 [==============================] - 152s 4s/step - loss: 0.2691 - auc: 0.8164 - val_loss: 0.2410 - val_auc: 0.8568\n",
      "Epoch 4/75\n",
      "40/40 [==============================] - 264s 7s/step - loss: 0.2404 - auc: 0.8667 - val_loss: 0.2178 - val_auc: 0.8832\n",
      "Epoch 5/75\n",
      "40/40 [==============================] - 179s 4s/step - loss: 0.2176 - auc: 0.8941 - val_loss: 0.2029 - val_auc: 0.9020\n",
      "Epoch 6/75\n",
      "40/40 [==============================] - 180s 5s/step - loss: 0.2021 - auc: 0.9128 - val_loss: 0.1949 - val_auc: 0.9128\n",
      "Epoch 7/75\n",
      "40/40 [==============================] - 194s 5s/step - loss: 0.1926 - auc: 0.9224 - val_loss: 0.1871 - val_auc: 0.9192\n",
      "Epoch 8/75\n",
      "40/40 [==============================] - 155s 4s/step - loss: 0.1791 - auc: 0.9379 - val_loss: 0.1885 - val_auc: 0.9141\n",
      "Epoch 9/75\n",
      "40/40 [==============================] - 170s 4s/step - loss: 0.1717 - auc: 0.9407 - val_loss: 0.1771 - val_auc: 0.9373\n",
      "Epoch 10/75\n",
      "40/40 [==============================] - 297s 7s/step - loss: 0.1711 - auc: 0.9420 - val_loss: 0.1704 - val_auc: 0.9359\n",
      "Epoch 11/75\n",
      "40/40 [==============================] - 162s 4s/step - loss: 0.1660 - auc: 0.9440 - val_loss: 0.1703 - val_auc: 0.9357\n",
      "Epoch 12/75\n",
      "40/40 [==============================] - 230s 6s/step - loss: 0.1525 - auc: 0.9567 - val_loss: 0.1636 - val_auc: 0.9379\n",
      "Epoch 13/75\n",
      "40/40 [==============================] - 227s 6s/step - loss: 0.1496 - auc: 0.9579 - val_loss: 0.1576 - val_auc: 0.9410\n",
      "Epoch 14/75\n",
      "40/40 [==============================] - 174s 4s/step - loss: 0.1401 - auc: 0.9637 - val_loss: 0.1676 - val_auc: 0.9316\n",
      "Epoch 15/75\n",
      "40/40 [==============================] - 235s 6s/step - loss: 0.1370 - auc: 0.9667 - val_loss: 0.1619 - val_auc: 0.9395\n",
      "Epoch 16/75\n",
      "40/40 [==============================] - 199s 5s/step - loss: 0.1292 - auc: 0.9701 - val_loss: 0.1569 - val_auc: 0.9488\n",
      "Epoch 17/75\n",
      "40/40 [==============================] - 158s 4s/step - loss: 0.1222 - auc: 0.9730 - val_loss: 0.1540 - val_auc: 0.9482\n",
      "Epoch 18/75\n",
      "40/40 [==============================] - 207s 5s/step - loss: 0.1143 - auc: 0.9764 - val_loss: 0.1611 - val_auc: 0.9420\n",
      "Epoch 19/75\n",
      "40/40 [==============================] - 197s 5s/step - loss: 0.1089 - auc: 0.9788 - val_loss: 0.1568 - val_auc: 0.9474\n",
      "Epoch 20/75\n",
      "40/40 [==============================] - 176s 4s/step - loss: 0.1041 - auc: 0.9808 - val_loss: 0.1653 - val_auc: 0.9382\n",
      "Epoch 21/75\n",
      "40/40 [==============================] - 214s 5s/step - loss: 0.0997 - auc: 0.9822 - val_loss: 0.1620 - val_auc: 0.9382\n",
      "Epoch 22/75\n",
      "40/40 [==============================] - 215s 5s/step - loss: 0.0932 - auc: 0.9850 - val_loss: 0.1572 - val_auc: 0.9446\n"
     ]
    }
   ],
   "source": [
    "es = EarlyStopping(monitor = 'val_loss', patience = 5, restore_best_weights = True)\n",
    "history = model.fit(train_data_generator, epochs=num_epochs, validation_data=val_data_generator, callbacks=[es],verbose = 1)"
   ]
  },
  {
   "cell_type": "code",
   "execution_count": 14,
   "id": "cabea69c",
   "metadata": {
    "execution": {
     "iopub.execute_input": "2023-07-20T23:41:51.419294Z",
     "iopub.status.busy": "2023-07-20T23:41:51.418731Z",
     "iopub.status.idle": "2023-07-20T23:41:52.150944Z",
     "shell.execute_reply": "2023-07-20T23:41:52.150014Z"
    },
    "id": "3f2ae88e",
    "papermill": {
     "duration": 0.80324,
     "end_time": "2023-07-20T23:41:52.155417",
     "exception": false,
     "start_time": "2023-07-20T23:41:51.352177",
     "status": "completed"
    },
    "tags": []
   },
   "outputs": [],
   "source": [
    "model.save(\"cnn_model_test.keras\")"
   ]
  },
  {
   "cell_type": "markdown",
   "id": "c0b9b651",
   "metadata": {
    "id": "ba71ea10",
    "papermill": {
     "duration": 0.06035,
     "end_time": "2023-07-20T23:41:52.276299",
     "exception": false,
     "start_time": "2023-07-20T23:41:52.215949",
     "status": "completed"
    },
    "tags": []
   },
   "source": [
    "## 5. Performance\n",
    "<ul>\n",
    "<li>train and validation losses</li>\n",
    "</ul>"
   ]
  },
  {
   "cell_type": "code",
   "execution_count": 15,
   "id": "7d17b971",
   "metadata": {
    "execution": {
     "iopub.execute_input": "2023-07-20T23:41:52.399150Z",
     "iopub.status.busy": "2023-07-20T23:41:52.398511Z",
     "iopub.status.idle": "2023-07-20T23:41:52.802340Z",
     "shell.execute_reply": "2023-07-20T23:41:52.800655Z"
    },
    "id": "bc61259e",
    "papermill": {
     "duration": 0.469276,
     "end_time": "2023-07-20T23:41:52.805880",
     "exception": false,
     "start_time": "2023-07-20T23:41:52.336604",
     "status": "completed"
    },
    "tags": []
   },
   "outputs": [
    {
     "data": {
      "image/png": "[encoded data removed]",
      "text/plain": [
       "<Figure size 640x480 with 1 Axes>"
      ]
     },
     "metadata": {},
     "output_type": "display_data"
    }
   ],
   "source": [
    "train_loss = history.history['loss']\n",
    "val_loss = history.history['val_loss']\n",
    "epochs = range(1, len(train_loss) + 1)\n",
    "\n",
    "plt.plot(epochs, train_loss, 'b', label='Training Loss')\n",
    "plt.plot(epochs, val_loss, 'r', label='Validation Loss')\n",
    "plt.title('Training and Validation Loss')\n",
    "plt.xlabel('Epochs')\n",
    "plt.ylabel('Loss')\n",
    "plt.grid()\n",
    "plt.legend()\n",
    "plt.show()\n",
    "\n"
   ]
  },
  {
   "cell_type": "code",
   "execution_count": 16,
   "id": "32549616",
   "metadata": {
    "execution": {
     "iopub.execute_input": "2023-07-20T23:41:52.930667Z",
     "iopub.status.busy": "2023-07-20T23:41:52.930217Z",
     "iopub.status.idle": "2023-07-20T23:44:07.824058Z",
     "shell.execute_reply": "2023-07-20T23:44:07.822720Z"
    },
    "id": "c14289c9",
    "papermill": {
     "duration": 134.95872,
     "end_time": "2023-07-20T23:44:07.826584",
     "exception": false,
     "start_time": "2023-07-20T23:41:52.867864",
     "status": "completed"
    },
    "tags": []
   },
   "outputs": [],
   "source": [
    "y_pred = model.predict(DataGenerator(range(809),1), verbose = 0)"
   ]
  },
  {
   "cell_type": "markdown",
   "id": "1fcf8e6f",
   "metadata": {
    "id": "80af68ce",
    "papermill": {
     "duration": 0.058847,
     "end_time": "2023-07-20T23:44:07.945081",
     "exception": false,
     "start_time": "2023-07-20T23:44:07.886234",
     "status": "completed"
    },
    "tags": []
   },
   "source": [
    "### Classification Reports"
   ]
  },
  {
   "cell_type": "code",
   "execution_count": 17,
   "id": "aa8f77dd",
   "metadata": {
    "execution": {
     "iopub.execute_input": "2023-07-20T23:44:08.067450Z",
     "iopub.status.busy": "2023-07-20T23:44:08.067077Z",
     "iopub.status.idle": "2023-07-20T23:44:08.174959Z",
     "shell.execute_reply": "2023-07-20T23:44:08.173971Z"
    },
    "id": "5ef8f090",
    "papermill": {
     "duration": 0.172816,
     "end_time": "2023-07-20T23:44:08.177286",
     "exception": false,
     "start_time": "2023-07-20T23:44:08.004470",
     "status": "completed"
    },
    "tags": []
   },
   "outputs": [
    {
     "name": "stdout",
     "output_type": "stream",
     "text": [
      "aromatic\n",
      "              precision    recall  f1-score   support\n",
      "\n",
      "           0       0.95      0.99      0.97       730\n",
      "           1       0.83      0.49      0.62        79\n",
      "\n",
      "    accuracy                           0.94       809\n",
      "   macro avg       0.89      0.74      0.79       809\n",
      "weighted avg       0.94      0.94      0.93       809\n",
      "\n",
      "roc_auc_score : 0.9562164036760881\n",
      "log loss      : 0.14270909178556532\n",
      "-------------------------------------------------------------\n",
      "hydrocarbon\n",
      "              precision    recall  f1-score   support\n",
      "\n",
      "           0       0.96      0.94      0.95       544\n",
      "           1       0.88      0.93      0.90       265\n",
      "\n",
      "    accuracy                           0.93       809\n",
      "   macro avg       0.92      0.93      0.93       809\n",
      "weighted avg       0.94      0.93      0.93       809\n",
      "\n",
      "roc_auc_score : 0.9715524417314095\n",
      "log loss      : 0.20577258436041207\n",
      "-------------------------------------------------------------\n",
      "carboxylic_acid\n",
      "              precision    recall  f1-score   support\n",
      "\n",
      "           0       0.94      0.98      0.96       694\n",
      "           1       0.81      0.64      0.72       115\n",
      "\n",
      "    accuracy                           0.93       809\n",
      "   macro avg       0.88      0.81      0.84       809\n",
      "weighted avg       0.92      0.93      0.92       809\n",
      "\n",
      "roc_auc_score : 0.9676356346322516\n",
      "log loss      : 0.15980755887559034\n",
      "-------------------------------------------------------------\n",
      "nitrogen_bearing_compound\n",
      "              precision    recall  f1-score   support\n",
      "\n",
      "           0       0.96      0.97      0.97       713\n",
      "           1       0.77      0.73      0.75        96\n",
      "\n",
      "    accuracy                           0.94       809\n",
      "   macro avg       0.87      0.85      0.86       809\n",
      "weighted avg       0.94      0.94      0.94       809\n",
      "\n",
      "roc_auc_score : 0.9730598410472183\n",
      "log loss      : 0.1361472868688226\n",
      "-------------------------------------------------------------\n",
      "chlorine_bearing_compound\n",
      "              precision    recall  f1-score   support\n",
      "\n",
      "           0       0.98      1.00      0.99       791\n",
      "           1       1.00      0.22      0.36        18\n",
      "\n",
      "    accuracy                           0.98       809\n",
      "   macro avg       0.99      0.61      0.68       809\n",
      "weighted avg       0.98      0.98      0.98       809\n",
      "\n",
      "roc_auc_score : 0.9787189211967974\n",
      "log loss      : 0.047949019945461954\n",
      "-------------------------------------------------------------\n",
      "sulfur_bearing_compound\n",
      "              precision    recall  f1-score   support\n",
      "\n",
      "           0       0.98      1.00      0.99       778\n",
      "           1       0.86      0.39      0.53        31\n",
      "\n",
      "    accuracy                           0.97       809\n",
      "   macro avg       0.92      0.69      0.76       809\n",
      "weighted avg       0.97      0.97      0.97       809\n",
      "\n",
      "roc_auc_score : 0.9819636785803134\n",
      "log loss      : 0.07035112572150654\n",
      "-------------------------------------------------------------\n",
      "alcohol\n",
      "              precision    recall  f1-score   support\n",
      "\n",
      "           0       0.98      1.00      0.99       783\n",
      "           1       1.00      0.27      0.42        26\n",
      "\n",
      "    accuracy                           0.98       809\n",
      "   macro avg       0.99      0.63      0.71       809\n",
      "weighted avg       0.98      0.98      0.97       809\n",
      "\n",
      "roc_auc_score : 0.9803517044896356\n",
      "log loss      : 0.06513944612586334\n",
      "-------------------------------------------------------------\n",
      "other_oxygen_bearing_compound\n",
      "              precision    recall  f1-score   support\n",
      "\n",
      "           0       0.98      1.00      0.99       788\n",
      "           1       1.00      0.19      0.32        21\n",
      "\n",
      "    accuracy                           0.98       809\n",
      "   macro avg       0.99      0.60      0.65       809\n",
      "weighted avg       0.98      0.98      0.97       809\n",
      "\n",
      "roc_auc_score : 0.9692409958907421\n",
      "log loss      : 0.06213929559332975\n",
      "-------------------------------------------------------------\n",
      "mineral\n",
      "              precision    recall  f1-score   support\n",
      "\n",
      "           0       0.92      0.99      0.95       692\n",
      "           1       0.88      0.50      0.63       117\n",
      "\n",
      "    accuracy                           0.92       809\n",
      "   macro avg       0.90      0.74      0.79       809\n",
      "weighted avg       0.91      0.92      0.91       809\n",
      "\n",
      "roc_auc_score : 0.957005582728126\n",
      "log loss      : 0.19153021773141904\n",
      "-------------------------------------------------------------\n"
     ]
    }
   ],
   "source": [
    "for i in range(9):\n",
    "    y_true_column = train_labels.iloc[:, i+1].values\n",
    "    y_pred_column = y_pred[:, i].round()\n",
    "\n",
    "    report = classification_report(y_true_column, y_pred_column)\n",
    "    print(f\"{label_names[i]}\")\n",
    "    print(report)\n",
    "    print(f\"roc_auc_score : {roc_auc_score(y_true_column, y_pred[:, i])}\")\n",
    "    print(f\"log loss      : {log_loss(y_true_column, y_pred[:, i])}\")\n",
    "\n",
    "    print(\"-------------------------------------------------------------\")\n"
   ]
  },
  {
   "cell_type": "code",
   "execution_count": null,
   "id": "7b6e1a21",
   "metadata": {
    "id": "2c0b5fd1",
    "papermill": {
     "duration": 0.05861,
     "end_time": "2023-07-20T23:44:08.296439",
     "exception": false,
     "start_time": "2023-07-20T23:44:08.237829",
     "status": "completed"
    },
    "tags": []
   },
   "outputs": [],
   "source": []
  }
 ],
 "metadata": {
  "kernelspec": {
   "display_name": "Python 3",
   "language": "python",
   "name": "python3"
  },
  "language_info": {
   "codemirror_mode": {
    "name": "ipython",
    "version": 3
   },
   "file_extension": ".py",
   "mimetype": "text/x-python",
   "name": "python",
   "nbconvert_exporter": "python",
   "pygments_lexer": "ipython3",
   "version": "3.10.12"
  },
  "papermill": {
   "default_parameters": {},
   "duration": 5106.109796,
   "end_time": "2023-07-20T23:44:12.029918",
   "environment_variables": {},
   "exception": null,
   "input_path": "__notebook__.ipynb",
   "output_path": "__notebook__.ipynb",
   "parameters": {},
   "start_time": "2023-07-20T22:19:05.920122",
   "version": "2.4.0"
  }
 },
 "nbformat": 4,
 "nbformat_minor": 5
}
