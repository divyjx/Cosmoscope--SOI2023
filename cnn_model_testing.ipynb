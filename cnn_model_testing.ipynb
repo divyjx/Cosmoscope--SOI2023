{
 "cells": [
  {
   "cell_type": "markdown",
   "id": "12a968ad",
   "metadata": {
    "id": "19a292b6",
    "papermill": {
     "duration": 0.006019,
     "end_time": "2023-07-20T19:34:29.605122",
     "exception": false,
     "start_time": "2023-07-20T19:34:29.599103",
     "status": "completed"
    },
    "tags": []
   },
   "source": [
    "## 1. Data Description\n",
    "<ul>\n",
    "<li>there are 809 training examples</li>\n",
    "<li>each of them is a dataframe with time, mass , and intensity values</li>\n",
    "<li>dataframe lenghts are variable</li>\n",
    "</ul>\n"
   ]
  },
  {
   "cell_type": "code",
   "execution_count": 1,
   "id": "9bfe3ad5",
   "metadata": {
    "execution": {
     "iopub.execute_input": "2023-07-20T19:34:29.618293Z",
     "iopub.status.busy": "2023-07-20T19:34:29.617875Z",
     "iopub.status.idle": "2023-07-20T19:34:39.401612Z",
     "shell.execute_reply": "2023-07-20T19:34:39.400377Z"
    },
    "id": "669ca0ad",
    "papermill": {
     "duration": 9.793671,
     "end_time": "2023-07-20T19:34:39.404517",
     "exception": false,
     "start_time": "2023-07-20T19:34:29.610846",
     "status": "completed"
    },
    "tags": []
   },
   "outputs": [],
   "source": [
    "import warnings\n",
    "warnings.filterwarnings('ignore')\n",
    "\n",
    "# for processing numbers and files csv\n",
    "import pandas as pd\n",
    "import numpy as np\n",
    "\n",
    "# for visualization\n",
    "import matplotlib.pyplot as plt\n",
    "%matplotlib inline\n",
    "\n",
    "# preprocessing\n",
    "from sklearn.preprocessing import MinMaxScaler\n",
    "from sklearn.model_selection import train_test_split\n",
    "from sklearn.metrics import classification_report, roc_auc_score, log_loss\n",
    "\n",
    "# model related\n",
    "from tensorflow.keras.callbacks import EarlyStopping\n",
    "from tensorflow.keras.utils import Sequence\n",
    "from tensorflow.keras.models import Sequential\n",
    "from tensorflow.keras.layers import Conv2D, MaxPooling2D, Flatten, Dense\n",
    "\n",
    "import tensorflow as tf\n"
   ]
  },
  {
   "cell_type": "code",
   "execution_count": 2,
   "id": "6cef5082",
   "metadata": {
    "execution": {
     "iopub.execute_input": "2023-07-20T19:34:39.418360Z",
     "iopub.status.busy": "2023-07-20T19:34:39.417599Z",
     "iopub.status.idle": "2023-07-20T19:34:39.422780Z",
     "shell.execute_reply": "2023-07-20T19:34:39.421511Z"
    },
    "id": "YIiXAuIFueEv",
    "outputId": "bef609e5-3742-4d4c-8c6f-a12c7ab4bed4",
    "papermill": {
     "duration": 0.014424,
     "end_time": "2023-07-20T19:34:39.424939",
     "exception": false,
     "start_time": "2023-07-20T19:34:39.410515",
     "status": "completed"
    },
    "tags": []
   },
   "outputs": [],
   "source": [
    "# # for working in colab\n",
    "# from google.colab import drive\n",
    "# drive.mount('/content/drive')"
   ]
  },
  {
   "cell_type": "code",
   "execution_count": 3,
   "id": "37b04d05",
   "metadata": {
    "execution": {
     "iopub.execute_input": "2023-07-20T19:34:39.438978Z",
     "iopub.status.busy": "2023-07-20T19:34:39.438364Z",
     "iopub.status.idle": "2023-07-20T19:34:39.456033Z",
     "shell.execute_reply": "2023-07-20T19:34:39.455262Z"
    },
    "id": "3c287e18",
    "outputId": "0307db73-26a6-46e2-f685-979a2b58476d",
    "papermill": {
     "duration": 0.027584,
     "end_time": "2023-07-20T19:34:39.458451",
     "exception": false,
     "start_time": "2023-07-20T19:34:39.430867",
     "status": "completed"
    },
    "tags": []
   },
   "outputs": [
    {
     "data": {
      "text/plain": [
       "False"
      ]
     },
     "execution_count": 3,
     "metadata": {},
     "output_type": "execute_result"
    }
   ],
   "source": [
    "#for gpu\n",
    "tf.test.is_gpu_available()"
   ]
  },
  {
   "cell_type": "code",
   "execution_count": 4,
   "id": "f2a55f60",
   "metadata": {
    "execution": {
     "iopub.execute_input": "2023-07-20T19:34:39.472274Z",
     "iopub.status.busy": "2023-07-20T19:34:39.471504Z",
     "iopub.status.idle": "2023-07-20T19:34:39.475836Z",
     "shell.execute_reply": "2023-07-20T19:34:39.475056Z"
    },
    "id": "815d00ae",
    "papermill": {
     "duration": 0.013415,
     "end_time": "2023-07-20T19:34:39.477794",
     "exception": false,
     "start_time": "2023-07-20T19:34:39.464379",
     "status": "completed"
    },
    "tags": []
   },
   "outputs": [],
   "source": [
    "# for working in kaggle use this paths\n",
    "kag_path_in = \"/kaggle/input/mars-spec-train/\"\n",
    "kag_path_out = \"/kaggle/working/\"\n",
    "\n",
    "# # for working in colab  \n",
    "# kag_path_in = \"/content/drive/MyDrive/\" # google drive\n",
    "# kag_path_out = \"\"\n",
    "\n",
    "# add custom paths here (uncomment)\n",
    "# kag_path_in = \"\"\n",
    "# kag_path_out = \"\""
   ]
  },
  {
   "cell_type": "code",
   "execution_count": 5,
   "id": "60c9fed4",
   "metadata": {
    "execution": {
     "iopub.execute_input": "2023-07-20T19:34:39.491305Z",
     "iopub.status.busy": "2023-07-20T19:34:39.490861Z",
     "iopub.status.idle": "2023-07-20T19:34:39.531797Z",
     "shell.execute_reply": "2023-07-20T19:34:39.530842Z"
    },
    "id": "97f3d01c",
    "papermill": {
     "duration": 0.050495,
     "end_time": "2023-07-20T19:34:39.534153",
     "exception": false,
     "start_time": "2023-07-20T19:34:39.483658",
     "status": "completed"
    },
    "tags": []
   },
   "outputs": [],
   "source": [
    "# metadata = pd.read_csv('/kaggle/input/mars-spec-train/metadata.csv').fillna(0)\n",
    "# train_labels = pd.read_csv('/kaggle/input/mars-spec-train/train_labels.csv')\n",
    "metadata = pd.read_csv(kag_path_in+'metadata.csv').fillna(0)\n",
    "train_labels = pd.read_csv(kag_path_in+'train_labels.csv')"
   ]
  },
  {
   "cell_type": "markdown",
   "id": "e6ae37dc",
   "metadata": {
    "id": "d6089094",
    "papermill": {
     "duration": 0.005511,
     "end_time": "2023-07-20T19:34:39.545558",
     "exception": false,
     "start_time": "2023-07-20T19:34:39.540047",
     "status": "completed"
    },
    "tags": []
   },
   "source": [
    "## 2. Preprocessing and Feature extraction\n",
    "<ul>\n",
    "<li>mass values are grouped into values seperated by 0.50 </li>\n",
    "<li>time values are grouped into values seperated by 0.02 </li>\n",
    "<li>Time * Mass matrix (2700,1400) with Intensity values </li>\n",
    "</ul>"
   ]
  },
  {
   "cell_type": "code",
   "execution_count": 6,
   "id": "93cb245d",
   "metadata": {
    "execution": {
     "iopub.execute_input": "2023-07-20T19:34:39.558783Z",
     "iopub.status.busy": "2023-07-20T19:34:39.558385Z",
     "iopub.status.idle": "2023-07-20T19:34:39.563573Z",
     "shell.execute_reply": "2023-07-20T19:34:39.562253Z"
    },
    "id": "39247504",
    "papermill": {
     "duration": 0.01488,
     "end_time": "2023-07-20T19:34:39.566131",
     "exception": false,
     "start_time": "2023-07-20T19:34:39.551251",
     "status": "completed"
    },
    "tags": []
   },
   "outputs": [],
   "source": [
    "# constants\n",
    "num_mass_values = 1400\n",
    "num_time_values = 2700\n",
    "matrix_shape = (num_time_values, num_mass_values)"
   ]
  },
  {
   "cell_type": "code",
   "execution_count": 7,
   "id": "910de4c0",
   "metadata": {
    "execution": {
     "iopub.execute_input": "2023-07-20T19:34:39.581959Z",
     "iopub.status.busy": "2023-07-20T19:34:39.581111Z",
     "iopub.status.idle": "2023-07-20T19:34:39.589336Z",
     "shell.execute_reply": "2023-07-20T19:34:39.588423Z"
    },
    "id": "174557ea",
    "papermill": {
     "duration": 0.018458,
     "end_time": "2023-07-20T19:34:39.591904",
     "exception": false,
     "start_time": "2023-07-20T19:34:39.573446",
     "status": "completed"
    },
    "tags": []
   },
   "outputs": [],
   "source": [
    "\n",
    "# Function to create the Time X Mass matrix for a single data sample\n",
    "def create_matrix(id):\n",
    "\n",
    "    sample_id, split, derivate, path, _ = metadata.iloc[id]\n",
    "    data = pd.read_csv(kag_path_in+path)\n",
    "\n",
    "    label = None\n",
    "    if (split == 'train'):\n",
    "        label = train_labels.iloc[id].values[1:]\n",
    "\n",
    "    # discretization of time and mass\n",
    "    data.time = (data.time*50).round()\n",
    "    data.mass = (data.mass*2).round()\n",
    "    data.time = data.time.astype(int)\n",
    "    data.mass = data.mass.astype(int)\n",
    "\n",
    "    # scaling intensity\n",
    "    data.intensity = MinMaxScaler().fit_transform(data.intensity.values.reshape(-1, 1))\n",
    "\n",
    "    # filling matrix\n",
    "    matrix = np.zeros(matrix_shape)\n",
    "    matrix[data['time'],data['mass']] = data['intensity']\n",
    "\n",
    "    return matrix , label\n"
   ]
  },
  {
   "cell_type": "markdown",
   "id": "74f14c21",
   "metadata": {
    "id": "490a30fa",
    "papermill": {
     "duration": 0.005868,
     "end_time": "2023-07-20T19:34:39.603558",
     "exception": false,
     "start_time": "2023-07-20T19:34:39.597690",
     "status": "completed"
    },
    "tags": []
   },
   "source": [
    "## 3. Data Generation\n",
    "<ul>\n",
    "<li>Storing data matrix is costly</li>\n",
    "<li>data is generated in batches</li>\n",
    "</ul>\n"
   ]
  },
  {
   "cell_type": "code",
   "execution_count": 8,
   "id": "8a72d716",
   "metadata": {
    "execution": {
     "iopub.execute_input": "2023-07-20T19:34:39.617591Z",
     "iopub.status.busy": "2023-07-20T19:34:39.616761Z",
     "iopub.status.idle": "2023-07-20T19:34:39.626278Z",
     "shell.execute_reply": "2023-07-20T19:34:39.625386Z"
    },
    "id": "79ddb7ca",
    "papermill": {
     "duration": 0.019225,
     "end_time": "2023-07-20T19:34:39.628711",
     "exception": false,
     "start_time": "2023-07-20T19:34:39.609486",
     "status": "completed"
    },
    "tags": []
   },
   "outputs": [],
   "source": [
    "class DataGenerator(Sequence):\n",
    "    def __init__(self, data, batch_size):\n",
    "        self.data = data\n",
    "        self.batch_size = batch_size\n",
    "    def __len__(self):\n",
    "        return len(self.data) // self.batch_size\n",
    "\n",
    "    def __getitem__(self, idx):\n",
    "        low = idx * self.batch_size\n",
    "        high = min(low + self.batch_size, len(self.data))\n",
    "        batch_x = []\n",
    "        batch_y = []\n",
    "\n",
    "        for i, data_sample in enumerate(self.data[low:high]):\n",
    "            processed_sample, processed_label = self.preprocess_data(data_sample)\n",
    "            batch_x.append(processed_sample)\n",
    "            batch_y.append(processed_label)\n",
    "\n",
    "\n",
    "        while len(batch_x) < self.batch_size:\n",
    "            random_no = np.random.randint(0,len(self.data))\n",
    "            processed_sample, processed_label = self.preprocess_data(data_sample)\n",
    "            batch_x.append(processed_sample)\n",
    "            batch_y.append(processed_label)\n",
    "\n",
    "        return np.array(batch_x), np.array(batch_y)\n",
    "\n",
    "    def preprocess_data(self, data_sample):\n",
    "        matrix, label = create_matrix(data_sample)\n",
    "        if type(label) == np.ndarray:\n",
    "            label = np.array(label).astype(int)\n",
    "        return matrix , label\n"
   ]
  },
  {
   "cell_type": "markdown",
   "id": "b10f4f13",
   "metadata": {
    "id": "5a85a8cb",
    "papermill": {
     "duration": 0.005527,
     "end_time": "2023-07-20T19:34:39.639955",
     "exception": false,
     "start_time": "2023-07-20T19:34:39.634428",
     "status": "completed"
    },
    "tags": []
   },
   "source": [
    "## 4. Model\n",
    "<ul>\n",
    "<li>convolutional layers </li>\n",
    "<li>pooling layers (max pooling) </li>\n",
    "<li>fully connected layers</li>\n",
    "<li>sigmoid layer</li>\n",
    "<li>output positive label probability</li>\n",
    "</ul>"
   ]
  },
  {
   "cell_type": "code",
   "execution_count": 9,
   "id": "73968e92",
   "metadata": {
    "execution": {
     "iopub.execute_input": "2023-07-20T19:34:39.653486Z",
     "iopub.status.busy": "2023-07-20T19:34:39.652707Z",
     "iopub.status.idle": "2023-07-20T19:34:39.657998Z",
     "shell.execute_reply": "2023-07-20T19:34:39.657232Z"
    },
    "id": "fd3c0758",
    "papermill": {
     "duration": 0.014579,
     "end_time": "2023-07-20T19:34:39.660235",
     "exception": false,
     "start_time": "2023-07-20T19:34:39.645656",
     "status": "completed"
    },
    "tags": []
   },
   "outputs": [],
   "source": [
    "label_names = [col for col in train_labels.columns[1:]]"
   ]
  },
  {
   "cell_type": "code",
   "execution_count": 10,
   "id": "180ab33d",
   "metadata": {
    "execution": {
     "iopub.execute_input": "2023-07-20T19:34:39.673959Z",
     "iopub.status.busy": "2023-07-20T19:34:39.673161Z",
     "iopub.status.idle": "2023-07-20T19:34:39.678231Z",
     "shell.execute_reply": "2023-07-20T19:34:39.677399Z"
    },
    "id": "ff54f238",
    "papermill": {
     "duration": 0.014592,
     "end_time": "2023-07-20T19:34:39.680526",
     "exception": false,
     "start_time": "2023-07-20T19:34:39.665934",
     "status": "completed"
    },
    "tags": []
   },
   "outputs": [],
   "source": [
    "# contants\n",
    "batch_size = 16\n",
    "num_epochs = 75\n",
    "model = None\n",
    "history = None"
   ]
  },
  {
   "cell_type": "code",
   "execution_count": 11,
   "id": "8ed9149c",
   "metadata": {
    "execution": {
     "iopub.execute_input": "2023-07-20T19:34:39.694359Z",
     "iopub.status.busy": "2023-07-20T19:34:39.693560Z",
     "iopub.status.idle": "2023-07-20T19:34:39.701864Z",
     "shell.execute_reply": "2023-07-20T19:34:39.700377Z"
    },
    "id": "kvgA-6pkiHZx",
    "outputId": "8617e103-a597-4aed-f3dc-fa1dc312b91e",
    "papermill": {
     "duration": 0.017582,
     "end_time": "2023-07-20T19:34:39.703954",
     "exception": false,
     "start_time": "2023-07-20T19:34:39.686372",
     "status": "completed"
    },
    "tags": []
   },
   "outputs": [
    {
     "name": "stdout",
     "output_type": "stream",
     "text": [
      "647 162\n"
     ]
    }
   ],
   "source": [
    "training_data = range(809)\n",
    "train_data, val_data = train_test_split(training_data, test_size=0.2, random_state=42)\n",
    "train_data_generator = DataGenerator(train_data, batch_size)\n",
    "val_data_generator = DataGenerator(val_data, batch_size)\n",
    "print(len(train_data), len(val_data))"
   ]
  },
  {
   "cell_type": "code",
   "execution_count": 12,
   "id": "8570c1ae",
   "metadata": {
    "execution": {
     "iopub.execute_input": "2023-07-20T19:34:39.717136Z",
     "iopub.status.busy": "2023-07-20T19:34:39.716716Z",
     "iopub.status.idle": "2023-07-20T19:34:40.655605Z",
     "shell.execute_reply": "2023-07-20T19:34:40.654756Z"
    },
    "id": "cf2fc727",
    "outputId": "ce65ac22-ecdf-416b-adbf-2dce39ce2ff8",
    "papermill": {
     "duration": 0.954769,
     "end_time": "2023-07-20T19:34:40.664551",
     "exception": false,
     "start_time": "2023-07-20T19:34:39.709782",
     "status": "completed"
    },
    "tags": []
   },
   "outputs": [
    {
     "name": "stdout",
     "output_type": "stream",
     "text": [
      "Model: \"sequential\"\n",
      "_________________________________________________________________\n",
      " Layer (type)                Output Shape              Param #   \n",
      "=================================================================\n",
      " conv2d (Conv2D)             (None, 27, 1400, 32)      3872      \n",
      "                                                                 \n",
      " max_pooling2d (MaxPooling2D  (None, 3, 700, 32)       0         \n",
      " )                                                               \n",
      "                                                                 \n",
      " flatten (Flatten)           (None, 67200)             0         \n",
      "                                                                 \n",
      " dense (Dense)               (None, 1024)              68813824  \n",
      "                                                                 \n",
      " dense_1 (Dense)             (None, 512)               524800    \n",
      "                                                                 \n",
      " dense_2 (Dense)             (None, 128)               65664     \n",
      "                                                                 \n",
      " dense_3 (Dense)             (None, 9)                 1161      \n",
      "                                                                 \n",
      "=================================================================\n",
      "Total params: 69,409,321\n",
      "Trainable params: 69,409,321\n",
      "Non-trainable params: 0\n",
      "_________________________________________________________________\n"
     ]
    }
   ],
   "source": [
    "model = Sequential()\n",
    "model.add(Conv2D(32, kernel_size = (120,1), padding= 'same',strides = (100,1),activation='relu', input_shape=(num_time_values, num_mass_values, 1)))\n",
    "model.add(MaxPooling2D(pool_size=(9, 2)))\n",
    "\n",
    "model.add(Flatten())\n",
    "model.add(Dense(1024, activation='relu'))\n",
    "model.add(Dense(512, activation='relu'))\n",
    "model.add(Dense(128, activation='relu'))\n",
    "model.add(Dense(9, activation='sigmoid'))\n",
    "\n",
    "opt = tf.keras.optimizers.Adam(learning_rate = 0.0001)\n",
    "\n",
    "model.compile(loss=tf.keras.losses.BinaryCrossentropy(), optimizer=opt, metrics=['AUC'])\n",
    "\n",
    "model.summary()"
   ]
  },
  {
   "cell_type": "code",
   "execution_count": 13,
   "id": "6f763db9",
   "metadata": {
    "execution": {
     "iopub.execute_input": "2023-07-20T19:34:40.680933Z",
     "iopub.status.busy": "2023-07-20T19:34:40.680565Z",
     "iopub.status.idle": "2023-07-20T21:40:47.382291Z",
     "shell.execute_reply": "2023-07-20T21:40:47.374553Z"
    },
    "id": "c3a8f41d",
    "outputId": "aa0ae9b1-811c-499b-ea2b-801b1109e1ed",
    "papermill": {
     "duration": 7566.782388,
     "end_time": "2023-07-20T21:40:47.454236",
     "exception": false,
     "start_time": "2023-07-20T19:34:40.671848",
     "status": "completed"
    },
    "tags": []
   },
   "outputs": [
    {
     "name": "stdout",
     "output_type": "stream",
     "text": [
      "Epoch 1/75\n",
      "40/40 [==============================] - 381s 10s/step - loss: 0.4840 - auc: 0.5345 - val_loss: 0.2757 - val_auc: 0.7682\n",
      "Epoch 2/75\n",
      "40/40 [==============================] - 302s 8s/step - loss: 0.2828 - auc: 0.7939 - val_loss: 0.2388 - val_auc: 0.8457\n",
      "Epoch 3/75\n",
      "40/40 [==============================] - 358s 9s/step - loss: 0.2411 - auc: 0.8634 - val_loss: 0.2141 - val_auc: 0.8819\n",
      "Epoch 4/75\n",
      "40/40 [==============================] - 319s 8s/step - loss: 0.2192 - auc: 0.8904 - val_loss: 0.2116 - val_auc: 0.8955\n",
      "Epoch 5/75\n",
      "40/40 [==============================] - 345s 8s/step - loss: 0.2066 - auc: 0.9089 - val_loss: 0.1932 - val_auc: 0.9130\n",
      "Epoch 6/75\n",
      "40/40 [==============================] - 292s 7s/step - loss: 0.1935 - auc: 0.9252 - val_loss: 0.1920 - val_auc: 0.9216\n",
      "Epoch 7/75\n",
      "40/40 [==============================] - 376s 9s/step - loss: 0.1848 - auc: 0.9315 - val_loss: 0.1828 - val_auc: 0.9259\n",
      "Epoch 8/75\n",
      "40/40 [==============================] - 326s 8s/step - loss: 0.1737 - auc: 0.9430 - val_loss: 0.1828 - val_auc: 0.9301\n",
      "Epoch 9/75\n",
      "40/40 [==============================] - 305s 8s/step - loss: 0.1638 - auc: 0.9496 - val_loss: 0.1749 - val_auc: 0.9328\n",
      "Epoch 10/75\n",
      "40/40 [==============================] - 302s 8s/step - loss: 0.1546 - auc: 0.9571 - val_loss: 0.1698 - val_auc: 0.9344\n",
      "Epoch 11/75\n",
      "40/40 [==============================] - 317s 8s/step - loss: 0.1511 - auc: 0.9569 - val_loss: 0.1718 - val_auc: 0.9374\n",
      "Epoch 12/75\n",
      "40/40 [==============================] - 332s 8s/step - loss: 0.1409 - auc: 0.9635 - val_loss: 0.1593 - val_auc: 0.9431\n",
      "Epoch 13/75\n",
      "40/40 [==============================] - 314s 8s/step - loss: 0.1314 - auc: 0.9694 - val_loss: 0.1678 - val_auc: 0.9416\n",
      "Epoch 14/75\n",
      "40/40 [==============================] - 341s 9s/step - loss: 0.1234 - auc: 0.9739 - val_loss: 0.1521 - val_auc: 0.9511\n",
      "Epoch 15/75\n",
      "40/40 [==============================] - 309s 8s/step - loss: 0.1228 - auc: 0.9732 - val_loss: 0.1504 - val_auc: 0.9464\n",
      "Epoch 16/75\n",
      "40/40 [==============================] - 355s 9s/step - loss: 0.1130 - auc: 0.9783 - val_loss: 0.1495 - val_auc: 0.9454\n",
      "Epoch 17/75\n",
      "40/40 [==============================] - 286s 7s/step - loss: 0.1052 - auc: 0.9814 - val_loss: 0.1486 - val_auc: 0.9472\n",
      "Epoch 18/75\n",
      "40/40 [==============================] - 317s 8s/step - loss: 0.0978 - auc: 0.9840 - val_loss: 0.1656 - val_auc: 0.9410\n",
      "Epoch 19/75\n",
      "40/40 [==============================] - 271s 7s/step - loss: 0.0981 - auc: 0.9837 - val_loss: 0.1546 - val_auc: 0.9492\n",
      "Epoch 20/75\n",
      "40/40 [==============================] - 360s 9s/step - loss: 0.0918 - auc: 0.9856 - val_loss: 0.1577 - val_auc: 0.9436\n",
      "Epoch 21/75\n",
      "40/40 [==============================] - 330s 8s/step - loss: 0.0880 - auc: 0.9871 - val_loss: 0.1534 - val_auc: 0.9391\n",
      "Epoch 22/75\n",
      "40/40 [==============================] - 283s 7s/step - loss: 0.0823 - auc: 0.9890 - val_loss: 0.1588 - val_auc: 0.9407\n"
     ]
    }
   ],
   "source": [
    "es = EarlyStopping(monitor = 'val_loss', patience = 5, restore_best_weights = True)\n",
    "history = model.fit(train_data_generator, epochs=num_epochs, validation_data=val_data_generator, callbacks=[es],verbose = 1)"
   ]
  },
  {
   "cell_type": "code",
   "execution_count": 14,
   "id": "bd8d79c0",
   "metadata": {
    "execution": {
     "iopub.execute_input": "2023-07-20T21:40:47.605720Z",
     "iopub.status.busy": "2023-07-20T21:40:47.604317Z",
     "iopub.status.idle": "2023-07-20T21:40:48.880733Z",
     "shell.execute_reply": "2023-07-20T21:40:48.878999Z"
    },
    "id": "3f2ae88e",
    "papermill": {
     "duration": 1.361417,
     "end_time": "2023-07-20T21:40:48.886082",
     "exception": false,
     "start_time": "2023-07-20T21:40:47.524665",
     "status": "completed"
    },
    "tags": []
   },
   "outputs": [],
   "source": [
    "model.save(\"cnn_model_test.keras\")"
   ]
  },
  {
   "cell_type": "markdown",
   "id": "60e00ccc",
   "metadata": {
    "id": "ba71ea10",
    "papermill": {
     "duration": 0.06924,
     "end_time": "2023-07-20T21:40:49.046605",
     "exception": false,
     "start_time": "2023-07-20T21:40:48.977365",
     "status": "completed"
    },
    "tags": []
   },
   "source": [
    "## 5. Performance\n",
    "<ul>\n",
    "<li>train and validation losses</li>\n",
    "</ul>"
   ]
  },
  {
   "cell_type": "code",
   "execution_count": 15,
   "id": "cac2de22",
   "metadata": {
    "execution": {
     "iopub.execute_input": "2023-07-20T21:40:49.184275Z",
     "iopub.status.busy": "2023-07-20T21:40:49.183237Z",
     "iopub.status.idle": "2023-07-20T21:40:49.823281Z",
     "shell.execute_reply": "2023-07-20T21:40:49.821562Z"
    },
    "id": "bc61259e",
    "papermill": {
     "duration": 0.71204,
     "end_time": "2023-07-20T21:40:49.826969",
     "exception": false,
     "start_time": "2023-07-20T21:40:49.114929",
     "status": "completed"
    },
    "tags": []
   },
   "outputs": [
    {
     "data": {
      "image/png": "[encoded data removed]",
      "text/plain": [
       "<Figure size 640x480 with 1 Axes>"
      ]
     },
     "metadata": {},
     "output_type": "display_data"
    }
   ],
   "source": [
    "train_loss = history.history['loss']\n",
    "val_loss = history.history['val_loss']\n",
    "epochs = range(1, len(train_loss) + 1)\n",
    "\n",
    "plt.plot(epochs, train_loss, 'b', label='Training Loss')\n",
    "plt.plot(epochs, val_loss, 'r', label='Validation Loss')\n",
    "plt.title('Training and Validation Loss')\n",
    "plt.xlabel('Epochs')\n",
    "plt.ylabel('Loss')\n",
    "plt.grid()\n",
    "plt.legend()\n",
    "plt.show()\n",
    "\n"
   ]
  },
  {
   "cell_type": "code",
   "execution_count": 16,
   "id": "da41556f",
   "metadata": {
    "execution": {
     "iopub.execute_input": "2023-07-20T21:40:49.971831Z",
     "iopub.status.busy": "2023-07-20T21:40:49.971384Z",
     "iopub.status.idle": "2023-07-20T21:45:12.847066Z",
     "shell.execute_reply": "2023-07-20T21:45:12.845318Z"
    },
    "id": "c14289c9",
    "papermill": {
     "duration": 262.957612,
     "end_time": "2023-07-20T21:45:12.855912",
     "exception": false,
     "start_time": "2023-07-20T21:40:49.898300",
     "status": "completed"
    },
    "tags": []
   },
   "outputs": [],
   "source": [
    "y_pred = model.predict(DataGenerator(range(809),1), verbose = 0)"
   ]
  },
  {
   "cell_type": "markdown",
   "id": "9e6cbcb8",
   "metadata": {
    "id": "80af68ce",
    "papermill": {
     "duration": 0.071514,
     "end_time": "2023-07-20T21:45:13.001590",
     "exception": false,
     "start_time": "2023-07-20T21:45:12.930076",
     "status": "completed"
    },
    "tags": []
   },
   "source": [
    "### Classification Reports"
   ]
  },
  {
   "cell_type": "code",
   "execution_count": 17,
   "id": "a681dcd1",
   "metadata": {
    "execution": {
     "iopub.execute_input": "2023-07-20T21:45:13.153724Z",
     "iopub.status.busy": "2023-07-20T21:45:13.151903Z",
     "iopub.status.idle": "2023-07-20T21:45:13.368529Z",
     "shell.execute_reply": "2023-07-20T21:45:13.365967Z"
    },
    "id": "5ef8f090",
    "papermill": {
     "duration": 0.296618,
     "end_time": "2023-07-20T21:45:13.373892",
     "exception": false,
     "start_time": "2023-07-20T21:45:13.077274",
     "status": "completed"
    },
    "tags": []
   },
   "outputs": [
    {
     "name": "stdout",
     "output_type": "stream",
     "text": [
      "aromatic\n",
      "              precision    recall  f1-score   support\n",
      "\n",
      "           0       0.97      0.98      0.98       730\n",
      "           1       0.81      0.75      0.78        79\n",
      "\n",
      "    accuracy                           0.96       809\n",
      "   macro avg       0.89      0.86      0.88       809\n",
      "weighted avg       0.96      0.96      0.96       809\n",
      "\n",
      "roc_auc_score : 0.967574128663083\n",
      "log loss      : 0.12462625087768037\n",
      "-------------------------------------------------------------\n",
      "hydrocarbon\n",
      "              precision    recall  f1-score   support\n",
      "\n",
      "           0       0.94      0.97      0.95       544\n",
      "           1       0.93      0.87      0.90       265\n",
      "\n",
      "    accuracy                           0.94       809\n",
      "   macro avg       0.93      0.92      0.93       809\n",
      "weighted avg       0.94      0.94      0.94       809\n",
      "\n",
      "roc_auc_score : 0.9746115427302997\n",
      "log loss      : 0.19003953447587013\n",
      "-------------------------------------------------------------\n",
      "carboxylic_acid\n",
      "              precision    recall  f1-score   support\n",
      "\n",
      "           0       0.97      0.96      0.96       694\n",
      "           1       0.77      0.82      0.79       115\n",
      "\n",
      "    accuracy                           0.94       809\n",
      "   macro avg       0.87      0.89      0.88       809\n",
      "weighted avg       0.94      0.94      0.94       809\n",
      "\n",
      "roc_auc_score : 0.9727227164515725\n",
      "log loss      : 0.15712837882303404\n",
      "-------------------------------------------------------------\n",
      "nitrogen_bearing_compound\n",
      "              precision    recall  f1-score   support\n",
      "\n",
      "           0       0.97      0.97      0.97       713\n",
      "           1       0.79      0.78      0.79        96\n",
      "\n",
      "    accuracy                           0.95       809\n",
      "   macro avg       0.88      0.88      0.88       809\n",
      "weighted avg       0.95      0.95      0.95       809\n",
      "\n",
      "roc_auc_score : 0.9797802711547452\n",
      "log loss      : 0.12903451218971534\n",
      "-------------------------------------------------------------\n",
      "chlorine_bearing_compound\n",
      "              precision    recall  f1-score   support\n",
      "\n",
      "           0       0.99      1.00      0.99       791\n",
      "           1       1.00      0.39      0.56        18\n",
      "\n",
      "    accuracy                           0.99       809\n",
      "   macro avg       0.99      0.69      0.78       809\n",
      "weighted avg       0.99      0.99      0.98       809\n",
      "\n",
      "roc_auc_score : 0.9877089478859391\n",
      "log loss      : 0.040097315397575356\n",
      "-------------------------------------------------------------\n",
      "sulfur_bearing_compound\n",
      "              precision    recall  f1-score   support\n",
      "\n",
      "           0       0.98      1.00      0.99       778\n",
      "           1       0.90      0.61      0.73        31\n",
      "\n",
      "    accuracy                           0.98       809\n",
      "   macro avg       0.94      0.81      0.86       809\n",
      "weighted avg       0.98      0.98      0.98       809\n",
      "\n",
      "roc_auc_score : 0.98892943030102\n",
      "log loss      : 0.05559607789153206\n",
      "-------------------------------------------------------------\n",
      "alcohol\n",
      "              precision    recall  f1-score   support\n",
      "\n",
      "           0       0.98      1.00      0.99       783\n",
      "           1       0.92      0.42      0.58        26\n",
      "\n",
      "    accuracy                           0.98       809\n",
      "   macro avg       0.95      0.71      0.78       809\n",
      "weighted avg       0.98      0.98      0.98       809\n",
      "\n",
      "roc_auc_score : 0.9813341192651537\n",
      "log loss      : 0.05950479461133861\n",
      "-------------------------------------------------------------\n",
      "other_oxygen_bearing_compound\n",
      "              precision    recall  f1-score   support\n",
      "\n",
      "           0       0.98      1.00      0.99       788\n",
      "           1       1.00      0.24      0.38        21\n",
      "\n",
      "    accuracy                           0.98       809\n",
      "   macro avg       0.99      0.62      0.69       809\n",
      "weighted avg       0.98      0.98      0.97       809\n",
      "\n",
      "roc_auc_score : 0.9777616630408509\n",
      "log loss      : 0.055299430194745765\n",
      "-------------------------------------------------------------\n",
      "mineral\n",
      "              precision    recall  f1-score   support\n",
      "\n",
      "           0       0.96      0.97      0.96       692\n",
      "           1       0.83      0.74      0.78       117\n",
      "\n",
      "    accuracy                           0.94       809\n",
      "   macro avg       0.89      0.85      0.87       809\n",
      "weighted avg       0.94      0.94      0.94       809\n",
      "\n",
      "roc_auc_score : 0.9662072032014228\n",
      "log loss      : 0.1559272198763302\n",
      "-------------------------------------------------------------\n"
     ]
    }
   ],
   "source": [
    "for i in range(9):\n",
    "    y_true_column = train_labels.iloc[:, i+1].values\n",
    "    y_pred_column = y_pred[:, i].round()\n",
    "\n",
    "    report = classification_report(y_true_column, y_pred_column)\n",
    "    print(f\"{label_names[i]}\")\n",
    "    print(report)\n",
    "    print(f\"roc_auc_score : {roc_auc_score(y_true_column, y_pred[:, i])}\")\n",
    "    print(f\"log loss      : {log_loss(y_true_column, y_pred[:, i])}\")\n",
    "\n",
    "    print(\"-------------------------------------------------------------\")\n"
   ]
  },
  {
   "cell_type": "code",
   "execution_count": null,
   "id": "48881514",
   "metadata": {
    "id": "2c0b5fd1",
    "papermill": {
     "duration": 0.098555,
     "end_time": "2023-07-20T21:45:13.563069",
     "exception": false,
     "start_time": "2023-07-20T21:45:13.464514",
     "status": "completed"
    },
    "tags": []
   },
   "outputs": [],
   "source": []
  }
 ],
 "metadata": {
  "kernelspec": {
   "display_name": "Python 3",
   "language": "python",
   "name": "python3"
  },
  "language_info": {
   "codemirror_mode": {
    "name": "ipython",
    "version": 3
   },
   "file_extension": ".py",
   "mimetype": "text/x-python",
   "name": "python",
   "nbconvert_exporter": "python",
   "pygments_lexer": "ipython3",
   "version": "3.10.12"
  },
  "papermill": {
   "default_parameters": {},
   "duration": 7857.126557,
   "end_time": "2023-07-20T21:45:16.847107",
   "environment_variables": {},
   "exception": null,
   "input_path": "__notebook__.ipynb",
   "output_path": "__notebook__.ipynb",
   "parameters": {},
   "start_time": "2023-07-20T19:34:19.720550",
   "version": "2.4.0"
  }
 },
 "nbformat": 4,
 "nbformat_minor": 5
}
