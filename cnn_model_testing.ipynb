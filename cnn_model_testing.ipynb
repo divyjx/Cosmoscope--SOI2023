{
 "cells": [
  {
   "cell_type": "markdown",
   "id": "04be48f6",
   "metadata": {
    "id": "19a292b6",
    "papermill": {
     "duration": 0.006178,
     "end_time": "2023-07-19T21:42:20.185538",
     "exception": false,
     "start_time": "2023-07-19T21:42:20.179360",
     "status": "completed"
    },
    "tags": []
   },
   "source": [
    "## 1. Data Description\n",
    "<ul>\n",
    "<li>there are 809 training examples</li>\n",
    "<li>each of them is a dataframe with time, mass , and intensity values</li>\n",
    "<li>dataframe lenghts are variable</li>\n",
    "</ul>\n"
   ]
  },
  {
   "cell_type": "code",
   "execution_count": 1,
   "id": "03e270af",
   "metadata": {
    "execution": {
     "iopub.execute_input": "2023-07-19T21:42:20.198947Z",
     "iopub.status.busy": "2023-07-19T21:42:20.198582Z",
     "iopub.status.idle": "2023-07-19T21:42:30.404342Z",
     "shell.execute_reply": "2023-07-19T21:42:30.403012Z"
    },
    "id": "669ca0ad",
    "papermill": {
     "duration": 10.215722,
     "end_time": "2023-07-19T21:42:30.407159",
     "exception": false,
     "start_time": "2023-07-19T21:42:20.191437",
     "status": "completed"
    },
    "tags": []
   },
   "outputs": [],
   "source": [
    "import warnings\n",
    "warnings.filterwarnings('ignore')\n",
    "\n",
    "# for processing numbers and files csv\n",
    "import pandas as pd\n",
    "import numpy as np\n",
    "\n",
    "# for visualization\n",
    "import matplotlib.pyplot as plt\n",
    "%matplotlib inline\n",
    "\n",
    "# preprocessing\n",
    "from sklearn.preprocessing import MinMaxScaler\n",
    "from sklearn.model_selection import train_test_split\n",
    "from sklearn.metrics import classification_report, roc_auc_score, log_loss\n",
    "\n",
    "# model related\n",
    "from tensorflow.keras.callbacks import EarlyStopping\n",
    "from tensorflow.keras.utils import Sequence\n",
    "from tensorflow.keras.models import Sequential\n",
    "from tensorflow.keras.layers import Conv2D, MaxPooling2D, Flatten, Dense\n",
    "\n",
    "import tensorflow as tf\n"
   ]
  },
  {
   "cell_type": "code",
   "execution_count": 2,
   "id": "d0d50ca2",
   "metadata": {
    "execution": {
     "iopub.execute_input": "2023-07-19T21:42:30.420644Z",
     "iopub.status.busy": "2023-07-19T21:42:30.419906Z",
     "iopub.status.idle": "2023-07-19T21:42:30.424842Z",
     "shell.execute_reply": "2023-07-19T21:42:30.423700Z"
    },
    "id": "YIiXAuIFueEv",
    "outputId": "bef609e5-3742-4d4c-8c6f-a12c7ab4bed4",
    "papermill": {
     "duration": 0.013906,
     "end_time": "2023-07-19T21:42:30.426916",
     "exception": false,
     "start_time": "2023-07-19T21:42:30.413010",
     "status": "completed"
    },
    "tags": []
   },
   "outputs": [],
   "source": [
    "# # for working in colab\n",
    "# from google.colab import drive\n",
    "# drive.mount('/content/drive')"
   ]
  },
  {
   "cell_type": "code",
   "execution_count": 3,
   "id": "84179271",
   "metadata": {
    "execution": {
     "iopub.execute_input": "2023-07-19T21:42:30.440201Z",
     "iopub.status.busy": "2023-07-19T21:42:30.439592Z",
     "iopub.status.idle": "2023-07-19T21:42:30.458858Z",
     "shell.execute_reply": "2023-07-19T21:42:30.457990Z"
    },
    "id": "3c287e18",
    "outputId": "0307db73-26a6-46e2-f685-979a2b58476d",
    "papermill": {
     "duration": 0.028621,
     "end_time": "2023-07-19T21:42:30.461153",
     "exception": false,
     "start_time": "2023-07-19T21:42:30.432532",
     "status": "completed"
    },
    "tags": []
   },
   "outputs": [
    {
     "data": {
      "text/plain": [
       "False"
      ]
     },
     "execution_count": 3,
     "metadata": {},
     "output_type": "execute_result"
    }
   ],
   "source": [
    "#for gpu\n",
    "tf.test.is_gpu_available()"
   ]
  },
  {
   "cell_type": "code",
   "execution_count": 4,
   "id": "aa35aea8",
   "metadata": {
    "execution": {
     "iopub.execute_input": "2023-07-19T21:42:30.474706Z",
     "iopub.status.busy": "2023-07-19T21:42:30.473963Z",
     "iopub.status.idle": "2023-07-19T21:42:30.480819Z",
     "shell.execute_reply": "2023-07-19T21:42:30.479641Z"
    },
    "id": "815d00ae",
    "papermill": {
     "duration": 0.016361,
     "end_time": "2023-07-19T21:42:30.483239",
     "exception": false,
     "start_time": "2023-07-19T21:42:30.466878",
     "status": "completed"
    },
    "tags": []
   },
   "outputs": [],
   "source": [
    "# for working in kaggle use this paths\n",
    "kag_path_in = \"/kaggle/input/mars-spec-train/\"\n",
    "kag_path_out = \"/kaggle/working/\"\n",
    "\n",
    "# # for working in colab  \n",
    "# kag_path_in = \"/content/drive/MyDrive/\" # google drive\n",
    "# kag_path_out = \"\"\n",
    "\n",
    "# add custom paths here (uncomment)\n",
    "# kag_path_in = \"\"\n",
    "# kag_path_out = \"\""
   ]
  },
  {
   "cell_type": "code",
   "execution_count": 5,
   "id": "93033754",
   "metadata": {
    "execution": {
     "iopub.execute_input": "2023-07-19T21:42:30.496790Z",
     "iopub.status.busy": "2023-07-19T21:42:30.496373Z",
     "iopub.status.idle": "2023-07-19T21:42:30.537331Z",
     "shell.execute_reply": "2023-07-19T21:42:30.536446Z"
    },
    "id": "97f3d01c",
    "papermill": {
     "duration": 0.050521,
     "end_time": "2023-07-19T21:42:30.539776",
     "exception": false,
     "start_time": "2023-07-19T21:42:30.489255",
     "status": "completed"
    },
    "tags": []
   },
   "outputs": [],
   "source": [
    "# metadata = pd.read_csv('/kaggle/input/mars-spec-train/metadata.csv').fillna(0)\n",
    "# train_labels = pd.read_csv('/kaggle/input/mars-spec-train/train_labels.csv')\n",
    "metadata = pd.read_csv(kag_path_in+'metadata.csv').fillna(0)\n",
    "train_labels = pd.read_csv(kag_path_in+'train_labels.csv')"
   ]
  },
  {
   "cell_type": "markdown",
   "id": "2f8f430a",
   "metadata": {
    "id": "d6089094",
    "papermill": {
     "duration": 0.005381,
     "end_time": "2023-07-19T21:42:30.550888",
     "exception": false,
     "start_time": "2023-07-19T21:42:30.545507",
     "status": "completed"
    },
    "tags": []
   },
   "source": [
    "## 2. Preprocessing and Feature extraction\n",
    "<ul>\n",
    "<li>mass values are grouped into values seperated by 0.50 </li>\n",
    "<li>time values are grouped into values seperated by 0.02 </li>\n",
    "<li>Time * Mass matrix (2700,1400) with Intensity values </li>\n",
    "</ul>"
   ]
  },
  {
   "cell_type": "code",
   "execution_count": 6,
   "id": "81eee4f5",
   "metadata": {
    "execution": {
     "iopub.execute_input": "2023-07-19T21:42:30.564580Z",
     "iopub.status.busy": "2023-07-19T21:42:30.563390Z",
     "iopub.status.idle": "2023-07-19T21:42:30.569336Z",
     "shell.execute_reply": "2023-07-19T21:42:30.568153Z"
    },
    "id": "39247504",
    "papermill": {
     "duration": 0.015266,
     "end_time": "2023-07-19T21:42:30.571765",
     "exception": false,
     "start_time": "2023-07-19T21:42:30.556499",
     "status": "completed"
    },
    "tags": []
   },
   "outputs": [],
   "source": [
    "# constants\n",
    "num_mass_values = 1400\n",
    "num_time_values = 2700\n",
    "matrix_shape = (num_time_values, num_mass_values)"
   ]
  },
  {
   "cell_type": "code",
   "execution_count": 7,
   "id": "201bb975",
   "metadata": {
    "execution": {
     "iopub.execute_input": "2023-07-19T21:42:30.586654Z",
     "iopub.status.busy": "2023-07-19T21:42:30.586278Z",
     "iopub.status.idle": "2023-07-19T21:42:30.593327Z",
     "shell.execute_reply": "2023-07-19T21:42:30.592473Z"
    },
    "id": "174557ea",
    "papermill": {
     "duration": 0.01631,
     "end_time": "2023-07-19T21:42:30.595219",
     "exception": false,
     "start_time": "2023-07-19T21:42:30.578909",
     "status": "completed"
    },
    "tags": []
   },
   "outputs": [],
   "source": [
    "\n",
    "# Function to create the Time X Mass matrix for a single data sample\n",
    "def create_matrix(id):\n",
    "\n",
    "    sample_id, split, derivate, path, _ = metadata.iloc[id]\n",
    "    data = pd.read_csv(kag_path_in+path)\n",
    "\n",
    "    label = None\n",
    "    if (split == 'train'):\n",
    "        label = train_labels.iloc[id].values[1:]\n",
    "\n",
    "    # discretization of time and mass\n",
    "    data.time = (data.time*50).round()\n",
    "    data.mass = (data.mass*2).round()\n",
    "    data.time = data.time.astype(int)\n",
    "    data.mass = data.mass.astype(int)\n",
    "\n",
    "    # scaling intensity\n",
    "    data.intensity = MinMaxScaler().fit_transform(data.intensity.values.reshape(-1, 1))\n",
    "\n",
    "    # filling matrix\n",
    "    matrix = np.zeros(matrix_shape)\n",
    "    matrix[data['time'],data['mass']] = data['intensity']\n",
    "\n",
    "    return matrix , label\n"
   ]
  },
  {
   "cell_type": "markdown",
   "id": "660f31dc",
   "metadata": {
    "id": "490a30fa",
    "papermill": {
     "duration": 0.005527,
     "end_time": "2023-07-19T21:42:30.606584",
     "exception": false,
     "start_time": "2023-07-19T21:42:30.601057",
     "status": "completed"
    },
    "tags": []
   },
   "source": [
    "## 3. Data Generation\n",
    "<ul>\n",
    "<li>Storing data matrix is costly</li>\n",
    "<li>data is generated in batches</li>\n",
    "</ul>\n"
   ]
  },
  {
   "cell_type": "code",
   "execution_count": 8,
   "id": "12cf9e7b",
   "metadata": {
    "execution": {
     "iopub.execute_input": "2023-07-19T21:42:30.620089Z",
     "iopub.status.busy": "2023-07-19T21:42:30.619361Z",
     "iopub.status.idle": "2023-07-19T21:42:30.628196Z",
     "shell.execute_reply": "2023-07-19T21:42:30.627032Z"
    },
    "id": "79ddb7ca",
    "papermill": {
     "duration": 0.01867,
     "end_time": "2023-07-19T21:42:30.631013",
     "exception": false,
     "start_time": "2023-07-19T21:42:30.612343",
     "status": "completed"
    },
    "tags": []
   },
   "outputs": [],
   "source": [
    "class DataGenerator(Sequence):\n",
    "    def __init__(self, data, batch_size):\n",
    "        self.data = data\n",
    "        self.batch_size = batch_size\n",
    "    def __len__(self):\n",
    "        return len(self.data) // self.batch_size\n",
    "\n",
    "    def __getitem__(self, idx):\n",
    "        low = idx * self.batch_size\n",
    "        high = min(low + self.batch_size, len(self.data))\n",
    "        batch_x = []\n",
    "        batch_y = []\n",
    "\n",
    "        for i, data_sample in enumerate(self.data[low:high]):\n",
    "            processed_sample, processed_label = self.preprocess_data(data_sample)\n",
    "            batch_x.append(processed_sample)\n",
    "            batch_y.append(processed_label)\n",
    "\n",
    "\n",
    "        while len(batch_x) < self.batch_size:\n",
    "            random_no = np.random.randint(0,len(self.data))\n",
    "            processed_sample, processed_label = self.preprocess_data(data_sample)\n",
    "            batch_x.append(processed_sample)\n",
    "            batch_y.append(processed_label)\n",
    "\n",
    "        return np.array(batch_x), np.array(batch_y)\n",
    "\n",
    "    def preprocess_data(self, data_sample):\n",
    "        matrix, label = create_matrix(data_sample)\n",
    "        if type(label) == np.ndarray:\n",
    "            label = np.array(label).astype(int)\n",
    "        return matrix , label\n"
   ]
  },
  {
   "cell_type": "markdown",
   "id": "cff5555b",
   "metadata": {
    "id": "5a85a8cb",
    "papermill": {
     "duration": 0.005883,
     "end_time": "2023-07-19T21:42:30.643170",
     "exception": false,
     "start_time": "2023-07-19T21:42:30.637287",
     "status": "completed"
    },
    "tags": []
   },
   "source": [
    "## 4. Model\n",
    "<ul>\n",
    "<li>convolutional layers </li>\n",
    "<li>pooling layers (max pooling) </li>\n",
    "<li>fully connected layers</li>\n",
    "<li>sigmoid layer</li>\n",
    "<li>output positive label probability</li>\n",
    "</ul>"
   ]
  },
  {
   "cell_type": "code",
   "execution_count": 9,
   "id": "77ad32fd",
   "metadata": {
    "execution": {
     "iopub.execute_input": "2023-07-19T21:42:30.656269Z",
     "iopub.status.busy": "2023-07-19T21:42:30.655888Z",
     "iopub.status.idle": "2023-07-19T21:42:30.660875Z",
     "shell.execute_reply": "2023-07-19T21:42:30.659828Z"
    },
    "id": "fd3c0758",
    "papermill": {
     "duration": 0.014394,
     "end_time": "2023-07-19T21:42:30.663219",
     "exception": false,
     "start_time": "2023-07-19T21:42:30.648825",
     "status": "completed"
    },
    "tags": []
   },
   "outputs": [],
   "source": [
    "label_names = [col for col in train_labels.columns[1:]]"
   ]
  },
  {
   "cell_type": "code",
   "execution_count": 10,
   "id": "d4adf0a2",
   "metadata": {
    "execution": {
     "iopub.execute_input": "2023-07-19T21:42:30.676701Z",
     "iopub.status.busy": "2023-07-19T21:42:30.675905Z",
     "iopub.status.idle": "2023-07-19T21:42:30.680818Z",
     "shell.execute_reply": "2023-07-19T21:42:30.679995Z"
    },
    "id": "ff54f238",
    "papermill": {
     "duration": 0.014297,
     "end_time": "2023-07-19T21:42:30.683170",
     "exception": false,
     "start_time": "2023-07-19T21:42:30.668873",
     "status": "completed"
    },
    "tags": []
   },
   "outputs": [],
   "source": [
    "# contants\n",
    "batch_size = 16\n",
    "num_epochs = 75\n",
    "model = None\n",
    "history = None"
   ]
  },
  {
   "cell_type": "code",
   "execution_count": 11,
   "id": "5c4fc4cf",
   "metadata": {
    "execution": {
     "iopub.execute_input": "2023-07-19T21:42:30.696465Z",
     "iopub.status.busy": "2023-07-19T21:42:30.696074Z",
     "iopub.status.idle": "2023-07-19T21:42:30.702991Z",
     "shell.execute_reply": "2023-07-19T21:42:30.701902Z"
    },
    "id": "kvgA-6pkiHZx",
    "outputId": "8617e103-a597-4aed-f3dc-fa1dc312b91e",
    "papermill": {
     "duration": 0.017491,
     "end_time": "2023-07-19T21:42:30.706452",
     "exception": false,
     "start_time": "2023-07-19T21:42:30.688961",
     "status": "completed"
    },
    "tags": []
   },
   "outputs": [
    {
     "name": "stdout",
     "output_type": "stream",
     "text": [
      "647 162\n"
     ]
    }
   ],
   "source": [
    "training_data = range(809)\n",
    "train_data, val_data = train_test_split(training_data, test_size=0.2, random_state=42)\n",
    "train_data_generator = DataGenerator(train_data, batch_size)\n",
    "val_data_generator = DataGenerator(val_data, batch_size)\n",
    "print(len(train_data), len(val_data))"
   ]
  },
  {
   "cell_type": "code",
   "execution_count": 12,
   "id": "20163f5f",
   "metadata": {
    "execution": {
     "iopub.execute_input": "2023-07-19T21:42:30.720822Z",
     "iopub.status.busy": "2023-07-19T21:42:30.720034Z",
     "iopub.status.idle": "2023-07-19T21:42:31.554179Z",
     "shell.execute_reply": "2023-07-19T21:42:31.553084Z"
    },
    "id": "cf2fc727",
    "outputId": "ce65ac22-ecdf-416b-adbf-2dce39ce2ff8",
    "papermill": {
     "duration": 0.849164,
     "end_time": "2023-07-19T21:42:31.561305",
     "exception": false,
     "start_time": "2023-07-19T21:42:30.712141",
     "status": "completed"
    },
    "tags": []
   },
   "outputs": [
    {
     "name": "stdout",
     "output_type": "stream",
     "text": [
      "Model: \"sequential\"\n",
      "_________________________________________________________________\n",
      " Layer (type)                Output Shape              Param #   \n",
      "=================================================================\n",
      " conv2d (Conv2D)             (None, 27, 1400, 32)      3872      \n",
      "                                                                 \n",
      " max_pooling2d (MaxPooling2D  (None, 3, 700, 32)       0         \n",
      " )                                                               \n",
      "                                                                 \n",
      " flatten (Flatten)           (None, 67200)             0         \n",
      "                                                                 \n",
      " dense (Dense)               (None, 1024)              68813824  \n",
      "                                                                 \n",
      " dense_1 (Dense)             (None, 128)               131200    \n",
      "                                                                 \n",
      " dense_2 (Dense)             (None, 9)                 1161      \n",
      "                                                                 \n",
      "=================================================================\n",
      "Total params: 68,950,057\n",
      "Trainable params: 68,950,057\n",
      "Non-trainable params: 0\n",
      "_________________________________________________________________\n"
     ]
    }
   ],
   "source": [
    "model = Sequential()\n",
    "model.add(Conv2D(32, kernel_size = (120,1), padding= 'same',strides = (100,1),activation='relu', input_shape=(num_time_values, num_mass_values, 1)))\n",
    "model.add(MaxPooling2D(pool_size=(9, 2)))\n",
    "\n",
    "model.add(Flatten())\n",
    "\n",
    "model.add(Dense(1024, activation='relu'))\n",
    "model.add(Dense(128, activation='relu'))\n",
    "model.add(Dense(9, activation='sigmoid'))\n",
    "\n",
    "opt = tf.keras.optimizers.Adam(learning_rate = 0.0001)\n",
    "\n",
    "model.compile(loss=tf.keras.losses.BinaryCrossentropy(), optimizer=opt, metrics=['AUC'])\n",
    "\n",
    "model.summary()"
   ]
  },
  {
   "cell_type": "code",
   "execution_count": 13,
   "id": "cc283b87",
   "metadata": {
    "execution": {
     "iopub.execute_input": "2023-07-19T21:42:31.578058Z",
     "iopub.status.busy": "2023-07-19T21:42:31.577186Z",
     "iopub.status.idle": "2023-07-19T23:30:37.863675Z",
     "shell.execute_reply": "2023-07-19T23:30:37.857852Z"
    },
    "id": "c3a8f41d",
    "outputId": "aa0ae9b1-811c-499b-ea2b-801b1109e1ed",
    "papermill": {
     "duration": 6486.348946,
     "end_time": "2023-07-19T23:30:37.917671",
     "exception": false,
     "start_time": "2023-07-19T21:42:31.568725",
     "status": "completed"
    },
    "tags": []
   },
   "outputs": [
    {
     "name": "stdout",
     "output_type": "stream",
     "text": [
      "Epoch 1/75\n",
      "40/40 [==============================] - 382s 10s/step - loss: 0.4749 - auc: 0.5986 - val_loss: 0.2631 - val_auc: 0.7945\n",
      "Epoch 2/75\n",
      "40/40 [==============================] - 268s 7s/step - loss: 0.2661 - auc: 0.8197 - val_loss: 0.2364 - val_auc: 0.8558\n",
      "Epoch 3/75\n",
      "40/40 [==============================] - 369s 9s/step - loss: 0.2318 - auc: 0.8757 - val_loss: 0.2233 - val_auc: 0.8816\n",
      "Epoch 4/75\n",
      "40/40 [==============================] - 312s 8s/step - loss: 0.2156 - auc: 0.8968 - val_loss: 0.2075 - val_auc: 0.8978\n",
      "Epoch 5/75\n",
      "40/40 [==============================] - 348s 9s/step - loss: 0.2006 - auc: 0.9149 - val_loss: 0.1993 - val_auc: 0.9047\n",
      "Epoch 6/75\n",
      "40/40 [==============================] - 253s 6s/step - loss: 0.1908 - auc: 0.9240 - val_loss: 0.1899 - val_auc: 0.9156\n",
      "Epoch 7/75\n",
      "40/40 [==============================] - 386s 10s/step - loss: 0.1800 - auc: 0.9369 - val_loss: 0.1913 - val_auc: 0.9143\n",
      "Epoch 8/75\n",
      "40/40 [==============================] - 306s 8s/step - loss: 0.1707 - auc: 0.9440 - val_loss: 0.1821 - val_auc: 0.9290\n",
      "Epoch 9/75\n",
      "40/40 [==============================] - 337s 8s/step - loss: 0.1615 - auc: 0.9508 - val_loss: 0.1784 - val_auc: 0.9303\n",
      "Epoch 10/75\n",
      "40/40 [==============================] - 331s 8s/step - loss: 0.1548 - auc: 0.9550 - val_loss: 0.1720 - val_auc: 0.9308\n",
      "Epoch 11/75\n",
      "40/40 [==============================] - 298s 7s/step - loss: 0.1436 - auc: 0.9621 - val_loss: 0.1682 - val_auc: 0.9384\n",
      "Epoch 12/75\n",
      "40/40 [==============================] - 340s 9s/step - loss: 0.1362 - auc: 0.9672 - val_loss: 0.1678 - val_auc: 0.9356\n",
      "Epoch 13/75\n",
      "40/40 [==============================] - 320s 8s/step - loss: 0.1309 - auc: 0.9691 - val_loss: 0.1656 - val_auc: 0.9365\n",
      "Epoch 14/75\n",
      "40/40 [==============================] - 341s 9s/step - loss: 0.1259 - auc: 0.9722 - val_loss: 0.1662 - val_auc: 0.9327\n",
      "Epoch 15/75\n",
      "40/40 [==============================] - 292s 7s/step - loss: 0.1221 - auc: 0.9739 - val_loss: 0.1637 - val_auc: 0.9394\n",
      "Epoch 16/75\n",
      "40/40 [==============================] - 317s 8s/step - loss: 0.1157 - auc: 0.9764 - val_loss: 0.1586 - val_auc: 0.9409\n",
      "Epoch 17/75\n",
      "40/40 [==============================] - 277s 7s/step - loss: 0.1095 - auc: 0.9788 - val_loss: 0.1651 - val_auc: 0.9385\n",
      "Epoch 18/75\n",
      "40/40 [==============================] - 316s 8s/step - loss: 0.1049 - auc: 0.9809 - val_loss: 0.1624 - val_auc: 0.9319\n",
      "Epoch 19/75\n",
      "40/40 [==============================] - 274s 7s/step - loss: 0.1023 - auc: 0.9809 - val_loss: 0.1659 - val_auc: 0.9334\n"
     ]
    }
   ],
   "source": [
    "es = EarlyStopping(monitor = 'val_loss', patience = 3 )\n",
    "history = model.fit(train_data_generator, epochs=num_epochs, validation_data=val_data_generator, callbacks=[es],verbose = 1)"
   ]
  },
  {
   "cell_type": "code",
   "execution_count": 14,
   "id": "9c788d36",
   "metadata": {
    "execution": {
     "iopub.execute_input": "2023-07-19T23:30:38.041764Z",
     "iopub.status.busy": "2023-07-19T23:30:38.041069Z",
     "iopub.status.idle": "2023-07-19T23:30:39.623631Z",
     "shell.execute_reply": "2023-07-19T23:30:39.621718Z"
    },
    "id": "3f2ae88e",
    "papermill": {
     "duration": 1.653523,
     "end_time": "2023-07-19T23:30:39.630022",
     "exception": false,
     "start_time": "2023-07-19T23:30:37.976499",
     "status": "completed"
    },
    "tags": []
   },
   "outputs": [],
   "source": [
    "model.save(\"cnn_model_test.keras\")"
   ]
  },
  {
   "cell_type": "markdown",
   "id": "b665d527",
   "metadata": {
    "id": "ba71ea10",
    "papermill": {
     "duration": 0.057266,
     "end_time": "2023-07-19T23:30:39.757631",
     "exception": false,
     "start_time": "2023-07-19T23:30:39.700365",
     "status": "completed"
    },
    "tags": []
   },
   "source": [
    "## 5. Performance\n",
    "<ul>\n",
    "<li>train and validation losses</li>\n",
    "</ul>"
   ]
  },
  {
   "cell_type": "code",
   "execution_count": 15,
   "id": "80a1f13f",
   "metadata": {
    "execution": {
     "iopub.execute_input": "2023-07-19T23:30:39.876364Z",
     "iopub.status.busy": "2023-07-19T23:30:39.875666Z",
     "iopub.status.idle": "2023-07-19T23:31:26.648367Z",
     "shell.execute_reply": "2023-07-19T23:31:26.647071Z"
    },
    "id": "bc61259e",
    "papermill": {
     "duration": 46.888989,
     "end_time": "2023-07-19T23:31:26.704039",
     "exception": false,
     "start_time": "2023-07-19T23:30:39.815050",
     "status": "completed"
    },
    "tags": []
   },
   "outputs": [
    {
     "data": {
      "image/png": "[encoded data removed]",
      "text/plain": [
       "<Figure size 640x480 with 1 Axes>"
      ]
     },
     "metadata": {},
     "output_type": "display_data"
    }
   ],
   "source": [
    "train_loss = history.history['loss']\n",
    "val_loss = history.history['val_loss']\n",
    "epochs = range(1, len(train_loss) + 1)\n",
    "\n",
    "plt.plot(epochs, train_loss, 'b', label='Training Loss')\n",
    "plt.plot(epochs, val_loss, 'r', label='Validation Loss')\n",
    "plt.title('Training and Validation Loss')\n",
    "plt.xlabel('Epochs')\n",
    "plt.ylabel('Loss')\n",
    "plt.grid()\n",
    "plt.legend()\n",
    "plt.show()\n",
    "\n"
   ]
  },
  {
   "cell_type": "code",
   "execution_count": 16,
   "id": "ffb19995",
   "metadata": {
    "execution": {
     "iopub.execute_input": "2023-07-19T23:31:26.820257Z",
     "iopub.status.busy": "2023-07-19T23:31:26.819862Z",
     "iopub.status.idle": "2023-07-19T23:35:52.833900Z",
     "shell.execute_reply": "2023-07-19T23:35:52.832589Z"
    },
    "id": "c14289c9",
    "papermill": {
     "duration": 266.07617,
     "end_time": "2023-07-19T23:35:52.836990",
     "exception": false,
     "start_time": "2023-07-19T23:31:26.760820",
     "status": "completed"
    },
    "tags": []
   },
   "outputs": [],
   "source": [
    "y_pred = model.predict(DataGenerator(range(809),1), verbose = 0)"
   ]
  },
  {
   "cell_type": "markdown",
   "id": "5587c866",
   "metadata": {
    "id": "80af68ce",
    "papermill": {
     "duration": 0.347612,
     "end_time": "2023-07-19T23:35:53.242320",
     "exception": false,
     "start_time": "2023-07-19T23:35:52.894708",
     "status": "completed"
    },
    "tags": []
   },
   "source": [
    "### Classification Reports"
   ]
  },
  {
   "cell_type": "code",
   "execution_count": 17,
   "id": "d017f201",
   "metadata": {
    "execution": {
     "iopub.execute_input": "2023-07-19T23:35:53.360149Z",
     "iopub.status.busy": "2023-07-19T23:35:53.359744Z",
     "iopub.status.idle": "2023-07-19T23:35:53.487770Z",
     "shell.execute_reply": "2023-07-19T23:35:53.486228Z"
    },
    "id": "5ef8f090",
    "papermill": {
     "duration": 0.19052,
     "end_time": "2023-07-19T23:35:53.490505",
     "exception": false,
     "start_time": "2023-07-19T23:35:53.299985",
     "status": "completed"
    },
    "tags": []
   },
   "outputs": [
    {
     "name": "stdout",
     "output_type": "stream",
     "text": [
      "aromatic\n",
      "              precision    recall  f1-score   support\n",
      "\n",
      "           0       0.95      1.00      0.97       730\n",
      "           1       0.93      0.52      0.67        79\n",
      "\n",
      "    accuracy                           0.95       809\n",
      "   macro avg       0.94      0.76      0.82       809\n",
      "weighted avg       0.95      0.95      0.94       809\n",
      "\n",
      "roc_auc_score : 0.9622507369516212\n",
      "log loss      : 0.12743065425441555\n",
      "-------------------------------------------------------------\n",
      "hydrocarbon\n",
      "              precision    recall  f1-score   support\n",
      "\n",
      "           0       0.95      0.97      0.96       544\n",
      "           1       0.94      0.89      0.91       265\n",
      "\n",
      "    accuracy                           0.94       809\n",
      "   macro avg       0.94      0.93      0.93       809\n",
      "weighted avg       0.94      0.94      0.94       809\n",
      "\n",
      "roc_auc_score : 0.9743271365149834\n",
      "log loss      : 0.18303419426457282\n",
      "-------------------------------------------------------------\n",
      "carboxylic_acid\n",
      "              precision    recall  f1-score   support\n",
      "\n",
      "           0       0.92      1.00      0.96       694\n",
      "           1       0.96      0.47      0.63       115\n",
      "\n",
      "    accuracy                           0.92       809\n",
      "   macro avg       0.94      0.73      0.79       809\n",
      "weighted avg       0.93      0.92      0.91       809\n",
      "\n",
      "roc_auc_score : 0.9745144718706928\n",
      "log loss      : 0.1676054543219256\n",
      "-------------------------------------------------------------\n",
      "nitrogen_bearing_compound\n",
      "              precision    recall  f1-score   support\n",
      "\n",
      "           0       0.95      0.99      0.97       713\n",
      "           1       0.93      0.57      0.71        96\n",
      "\n",
      "    accuracy                           0.94       809\n",
      "   macro avg       0.94      0.78      0.84       809\n",
      "weighted avg       0.94      0.94      0.94       809\n",
      "\n",
      "roc_auc_score : 0.979283543712015\n",
      "log loss      : 0.12815811089549364\n",
      "-------------------------------------------------------------\n",
      "chlorine_bearing_compound\n",
      "              precision    recall  f1-score   support\n",
      "\n",
      "           0       0.99      1.00      0.99       791\n",
      "           1       0.88      0.39      0.54        18\n",
      "\n",
      "    accuracy                           0.99       809\n",
      "   macro avg       0.93      0.69      0.77       809\n",
      "weighted avg       0.98      0.99      0.98       809\n",
      "\n",
      "roc_auc_score : 0.9823008849557523\n",
      "log loss      : 0.039139093828130876\n",
      "-------------------------------------------------------------\n",
      "sulfur_bearing_compound\n",
      "              precision    recall  f1-score   support\n",
      "\n",
      "           0       0.98      1.00      0.99       778\n",
      "           1       0.84      0.52      0.64        31\n",
      "\n",
      "    accuracy                           0.98       809\n",
      "   macro avg       0.91      0.76      0.81       809\n",
      "weighted avg       0.98      0.98      0.98       809\n",
      "\n",
      "roc_auc_score : 0.9838295049340742\n",
      "log loss      : 0.062397921010368416\n",
      "-------------------------------------------------------------\n",
      "alcohol\n",
      "              precision    recall  f1-score   support\n",
      "\n",
      "           0       0.98      1.00      0.99       783\n",
      "           1       0.90      0.35      0.50        26\n",
      "\n",
      "    accuracy                           0.98       809\n",
      "   macro avg       0.94      0.67      0.74       809\n",
      "weighted avg       0.98      0.98      0.97       809\n",
      "\n",
      "roc_auc_score : 0.9835445525100698\n",
      "log loss      : 0.06054825096384659\n",
      "-------------------------------------------------------------\n",
      "other_oxygen_bearing_compound\n",
      "              precision    recall  f1-score   support\n",
      "\n",
      "           0       0.98      1.00      0.99       788\n",
      "           1       1.00      0.24      0.38        21\n",
      "\n",
      "    accuracy                           0.98       809\n",
      "   macro avg       0.99      0.62      0.69       809\n",
      "weighted avg       0.98      0.98      0.97       809\n",
      "\n",
      "roc_auc_score : 0.9741962774957699\n",
      "log loss      : 0.054296394457129075\n",
      "-------------------------------------------------------------\n",
      "mineral\n",
      "              precision    recall  f1-score   support\n",
      "\n",
      "           0       0.94      0.99      0.96       692\n",
      "           1       0.91      0.62      0.74       117\n",
      "\n",
      "    accuracy                           0.94       809\n",
      "   macro avg       0.93      0.81      0.85       809\n",
      "weighted avg       0.94      0.94      0.93       809\n",
      "\n",
      "roc_auc_score : 0.9680722296329234\n",
      "log loss      : 0.1609646876338374\n",
      "-------------------------------------------------------------\n"
     ]
    }
   ],
   "source": [
    "for i in range(9):\n",
    "    y_true_column = train_labels.iloc[:, i+1].values\n",
    "    y_pred_column = y_pred[:, i].round()\n",
    "\n",
    "    report = classification_report(y_true_column, y_pred_column)\n",
    "    print(f\"{label_names[i]}\")\n",
    "    print(report)\n",
    "    print(f\"roc_auc_score : {roc_auc_score(y_true_column, y_pred[:, i])}\")\n",
    "    print(f\"log loss      : {log_loss(y_true_column, y_pred[:, i])}\")\n",
    "\n",
    "    print(\"-------------------------------------------------------------\")\n"
   ]
  },
  {
   "cell_type": "code",
   "execution_count": null,
   "id": "897fae5a",
   "metadata": {
    "id": "2c0b5fd1",
    "papermill": {
     "duration": 0.058258,
     "end_time": "2023-07-19T23:35:53.607933",
     "exception": false,
     "start_time": "2023-07-19T23:35:53.549675",
     "status": "completed"
    },
    "tags": []
   },
   "outputs": [],
   "source": []
  }
 ],
 "metadata": {
  "kernelspec": {
   "display_name": "Python 3",
   "language": "python",
   "name": "python3"
  },
  "language_info": {
   "codemirror_mode": {
    "name": "ipython",
    "version": 3
   },
   "file_extension": ".py",
   "mimetype": "text/x-python",
   "name": "python",
   "nbconvert_exporter": "python",
   "pygments_lexer": "ipython3",
   "version": "3.10.12"
  },
  "papermill": {
   "default_parameters": {},
   "duration": 6826.81244,
   "end_time": "2023-07-19T23:35:57.236653",
   "environment_variables": {},
   "exception": null,
   "input_path": "__notebook__.ipynb",
   "output_path": "__notebook__.ipynb",
   "parameters": {},
   "start_time": "2023-07-19T21:42:10.424213",
   "version": "2.4.0"
  }
 },
 "nbformat": 4,
 "nbformat_minor": 5
}
