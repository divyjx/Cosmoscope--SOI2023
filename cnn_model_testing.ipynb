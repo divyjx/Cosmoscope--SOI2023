{
 "cells": [
  {
   "cell_type": "markdown",
   "id": "f959abef",
   "metadata": {
    "id": "19a292b6",
    "papermill": {
     "duration": 0.008081,
     "end_time": "2023-07-19T14:23:21.515888",
     "exception": false,
     "start_time": "2023-07-19T14:23:21.507807",
     "status": "completed"
    },
    "tags": []
   },
   "source": [
    "## 1. Data Description\n",
    "<ul>\n",
    "<li>there are 809 training examples</li>\n",
    "<li>each of them is a dataframe with time, mass , and intensity values</li>\n",
    "<li>dataframe lenghts are variable</li>\n",
    "</ul>\n"
   ]
  },
  {
   "cell_type": "code",
   "execution_count": 1,
   "id": "7f27384f",
   "metadata": {
    "execution": {
     "iopub.execute_input": "2023-07-19T14:23:21.532832Z",
     "iopub.status.busy": "2023-07-19T14:23:21.532450Z",
     "iopub.status.idle": "2023-07-19T14:23:31.452687Z",
     "shell.execute_reply": "2023-07-19T14:23:31.451535Z"
    },
    "id": "669ca0ad",
    "papermill": {
     "duration": 9.932212,
     "end_time": "2023-07-19T14:23:31.455708",
     "exception": false,
     "start_time": "2023-07-19T14:23:21.523496",
     "status": "completed"
    },
    "tags": []
   },
   "outputs": [],
   "source": [
    "import warnings\n",
    "warnings.filterwarnings('ignore')\n",
    "\n",
    "# for processing numbers and files csv\n",
    "import pandas as pd\n",
    "import numpy as np\n",
    "\n",
    "# for visualization\n",
    "import matplotlib.pyplot as plt\n",
    "%matplotlib inline\n",
    "\n",
    "# preprocessing\n",
    "from sklearn.preprocessing import MinMaxScaler\n",
    "from sklearn.model_selection import train_test_split\n",
    "from sklearn.metrics import classification_report, roc_auc_score, log_loss\n",
    "\n",
    "# model related\n",
    "from tensorflow.keras.callbacks import EarlyStopping\n",
    "from tensorflow.keras.utils import Sequence\n",
    "from tensorflow.keras.models import Sequential\n",
    "from tensorflow.keras.layers import Conv2D, MaxPooling2D, Flatten, Dense\n",
    "\n",
    "import tensorflow as tf\n"
   ]
  },
  {
   "cell_type": "code",
   "execution_count": 2,
   "id": "b19ceebc",
   "metadata": {
    "execution": {
     "iopub.execute_input": "2023-07-19T14:23:31.472834Z",
     "iopub.status.busy": "2023-07-19T14:23:31.472077Z",
     "iopub.status.idle": "2023-07-19T14:23:31.476914Z",
     "shell.execute_reply": "2023-07-19T14:23:31.475842Z"
    },
    "id": "YIiXAuIFueEv",
    "outputId": "bef609e5-3742-4d4c-8c6f-a12c7ab4bed4",
    "papermill": {
     "duration": 0.015731,
     "end_time": "2023-07-19T14:23:31.479165",
     "exception": false,
     "start_time": "2023-07-19T14:23:31.463434",
     "status": "completed"
    },
    "tags": []
   },
   "outputs": [],
   "source": [
    "# # for working in colab\n",
    "# from google.colab import drive\n",
    "# drive.mount('/content/drive')"
   ]
  },
  {
   "cell_type": "code",
   "execution_count": 3,
   "id": "a071711b",
   "metadata": {
    "execution": {
     "iopub.execute_input": "2023-07-19T14:23:31.496147Z",
     "iopub.status.busy": "2023-07-19T14:23:31.495378Z",
     "iopub.status.idle": "2023-07-19T14:23:31.513546Z",
     "shell.execute_reply": "2023-07-19T14:23:31.512432Z"
    },
    "id": "3c287e18",
    "outputId": "0307db73-26a6-46e2-f685-979a2b58476d",
    "papermill": {
     "duration": 0.029354,
     "end_time": "2023-07-19T14:23:31.516109",
     "exception": false,
     "start_time": "2023-07-19T14:23:31.486755",
     "status": "completed"
    },
    "tags": []
   },
   "outputs": [
    {
     "data": {
      "text/plain": [
       "False"
      ]
     },
     "execution_count": 3,
     "metadata": {},
     "output_type": "execute_result"
    }
   ],
   "source": [
    "#for gpu\n",
    "tf.test.is_gpu_available()"
   ]
  },
  {
   "cell_type": "code",
   "execution_count": 4,
   "id": "2b1c8b7f",
   "metadata": {
    "execution": {
     "iopub.execute_input": "2023-07-19T14:23:31.533360Z",
     "iopub.status.busy": "2023-07-19T14:23:31.532834Z",
     "iopub.status.idle": "2023-07-19T14:23:31.538075Z",
     "shell.execute_reply": "2023-07-19T14:23:31.536875Z"
    },
    "id": "815d00ae",
    "papermill": {
     "duration": 0.016322,
     "end_time": "2023-07-19T14:23:31.540277",
     "exception": false,
     "start_time": "2023-07-19T14:23:31.523955",
     "status": "completed"
    },
    "tags": []
   },
   "outputs": [],
   "source": [
    "# for working in kaggle use this paths\n",
    "kag_path_in = \"/kaggle/input/mars-spec-train/\"\n",
    "kag_path_out = \"/kaggle/working/\"\n",
    "\n",
    "# # for working in colab  \n",
    "# kag_path_in = \"/content/drive/MyDrive/\" # google drive\n",
    "# kag_path_out = \"\"\n",
    "\n",
    "# add custom paths here (uncomment)\n",
    "# kag_path_in = \"\"\n",
    "# kag_path_out = \"\""
   ]
  },
  {
   "cell_type": "code",
   "execution_count": 5,
   "id": "63bf2125",
   "metadata": {
    "execution": {
     "iopub.execute_input": "2023-07-19T14:23:31.558173Z",
     "iopub.status.busy": "2023-07-19T14:23:31.556952Z",
     "iopub.status.idle": "2023-07-19T14:23:31.606087Z",
     "shell.execute_reply": "2023-07-19T14:23:31.604920Z"
    },
    "id": "97f3d01c",
    "papermill": {
     "duration": 0.060682,
     "end_time": "2023-07-19T14:23:31.608728",
     "exception": false,
     "start_time": "2023-07-19T14:23:31.548046",
     "status": "completed"
    },
    "tags": []
   },
   "outputs": [],
   "source": [
    "# metadata = pd.read_csv('/kaggle/input/mars-spec-train/metadata.csv').fillna(0)\n",
    "# train_labels = pd.read_csv('/kaggle/input/mars-spec-train/train_labels.csv')\n",
    "metadata = pd.read_csv(kag_path_in+'metadata.csv').fillna(0)\n",
    "train_labels = pd.read_csv(kag_path_in+'train_labels.csv')"
   ]
  },
  {
   "cell_type": "markdown",
   "id": "dc4fa56c",
   "metadata": {
    "id": "d6089094",
    "papermill": {
     "duration": 0.007435,
     "end_time": "2023-07-19T14:23:31.624004",
     "exception": false,
     "start_time": "2023-07-19T14:23:31.616569",
     "status": "completed"
    },
    "tags": []
   },
   "source": [
    "## 2. Preprocessing and Feature extraction\n",
    "<ul>\n",
    "<li>mass values are grouped into values seperated by 0.50 </li>\n",
    "<li>time values are grouped into values seperated by 0.02 </li>\n",
    "<li>Time * Mass matrix (2700,1400) with Intensity values </li>\n",
    "</ul>"
   ]
  },
  {
   "cell_type": "code",
   "execution_count": 6,
   "id": "09b57dc6",
   "metadata": {
    "execution": {
     "iopub.execute_input": "2023-07-19T14:23:31.641109Z",
     "iopub.status.busy": "2023-07-19T14:23:31.640684Z",
     "iopub.status.idle": "2023-07-19T14:23:31.645857Z",
     "shell.execute_reply": "2023-07-19T14:23:31.645031Z"
    },
    "id": "39247504",
    "papermill": {
     "duration": 0.01601,
     "end_time": "2023-07-19T14:23:31.647808",
     "exception": false,
     "start_time": "2023-07-19T14:23:31.631798",
     "status": "completed"
    },
    "tags": []
   },
   "outputs": [],
   "source": [
    "# constants\n",
    "num_mass_values = 1400\n",
    "num_time_values = 2700\n",
    "matrix_shape = (num_time_values, num_mass_values)"
   ]
  },
  {
   "cell_type": "code",
   "execution_count": 7,
   "id": "96f505a4",
   "metadata": {
    "execution": {
     "iopub.execute_input": "2023-07-19T14:23:31.666424Z",
     "iopub.status.busy": "2023-07-19T14:23:31.665678Z",
     "iopub.status.idle": "2023-07-19T14:23:31.674884Z",
     "shell.execute_reply": "2023-07-19T14:23:31.673825Z"
    },
    "id": "174557ea",
    "papermill": {
     "duration": 0.020399,
     "end_time": "2023-07-19T14:23:31.677181",
     "exception": false,
     "start_time": "2023-07-19T14:23:31.656782",
     "status": "completed"
    },
    "tags": []
   },
   "outputs": [],
   "source": [
    "\n",
    "# Function to create the Time X Mass matrix for a single data sample\n",
    "def create_matrix(id):\n",
    "\n",
    "    sample_id, split, derivate, path, _ = metadata.iloc[id]\n",
    "    data = pd.read_csv(kag_path_in+path)\n",
    "\n",
    "    label = None\n",
    "    if (split == 'train'):\n",
    "        label = train_labels.iloc[id].values[1:]\n",
    "\n",
    "    # discretization of time and mass\n",
    "    data.time = (data.time*50).round()\n",
    "    data.mass = (data.mass*2).round()\n",
    "    data.time = data.time.astype(int)\n",
    "    data.mass = data.mass.astype(int)\n",
    "\n",
    "    # scaling intensity\n",
    "    data.intensity = MinMaxScaler().fit_transform(data.intensity.values.reshape(-1, 1))\n",
    "\n",
    "    # filling matrix\n",
    "    matrix = np.zeros(matrix_shape)\n",
    "    matrix[data['time'],data['mass']] = data['intensity']\n",
    "\n",
    "    return matrix , label\n"
   ]
  },
  {
   "cell_type": "markdown",
   "id": "622d6999",
   "metadata": {
    "id": "490a30fa",
    "papermill": {
     "duration": 0.007553,
     "end_time": "2023-07-19T14:23:31.692967",
     "exception": false,
     "start_time": "2023-07-19T14:23:31.685414",
     "status": "completed"
    },
    "tags": []
   },
   "source": [
    "## 3. Data Generation\n",
    "<ul>\n",
    "<li>Storing data matrix is costly</li>\n",
    "<li>data is generated in batches</li>\n",
    "</ul>\n"
   ]
  },
  {
   "cell_type": "code",
   "execution_count": 8,
   "id": "cab9f4f5",
   "metadata": {
    "execution": {
     "iopub.execute_input": "2023-07-19T14:23:31.710664Z",
     "iopub.status.busy": "2023-07-19T14:23:31.710229Z",
     "iopub.status.idle": "2023-07-19T14:23:31.722184Z",
     "shell.execute_reply": "2023-07-19T14:23:31.721046Z"
    },
    "id": "79ddb7ca",
    "papermill": {
     "duration": 0.023399,
     "end_time": "2023-07-19T14:23:31.724435",
     "exception": false,
     "start_time": "2023-07-19T14:23:31.701036",
     "status": "completed"
    },
    "tags": []
   },
   "outputs": [],
   "source": [
    "class DataGenerator(Sequence):\n",
    "    def __init__(self, data, batch_size):\n",
    "        self.data = data\n",
    "        self.batch_size = batch_size\n",
    "    def __len__(self):\n",
    "        return len(self.data) // self.batch_size\n",
    "\n",
    "    def __getitem__(self, idx):\n",
    "        low = idx * self.batch_size\n",
    "        high = min(low + self.batch_size, len(self.data))\n",
    "        batch_x = []\n",
    "        batch_y = []\n",
    "\n",
    "        for i, data_sample in enumerate(self.data[low:high]):\n",
    "            processed_sample, processed_label = self.preprocess_data(data_sample)\n",
    "            batch_x.append(processed_sample)\n",
    "            batch_y.append(processed_label)\n",
    "\n",
    "\n",
    "        while len(batch_x) < self.batch_size:\n",
    "            random_no = np.random.randint(0,len(self.data))\n",
    "            processed_sample, processed_label = self.preprocess_data(data_sample)\n",
    "            batch_x.append(processed_sample)\n",
    "            batch_y.append(processed_label)\n",
    "\n",
    "        return np.array(batch_x), np.array(batch_y)\n",
    "\n",
    "    def preprocess_data(self, data_sample):\n",
    "        matrix, label = create_matrix(data_sample)\n",
    "        if type(label) == np.ndarray:\n",
    "            label = np.array(label).astype(int)\n",
    "        return matrix , label\n"
   ]
  },
  {
   "cell_type": "markdown",
   "id": "84c66240",
   "metadata": {
    "id": "5a85a8cb",
    "papermill": {
     "duration": 0.007619,
     "end_time": "2023-07-19T14:23:31.739789",
     "exception": false,
     "start_time": "2023-07-19T14:23:31.732170",
     "status": "completed"
    },
    "tags": []
   },
   "source": [
    "## 4. Model\n",
    "<ul>\n",
    "<li>convolutional layers </li>\n",
    "<li>pooling layers (max pooling) </li>\n",
    "<li>fully connected layers</li>\n",
    "<li>sigmoid layer</li>\n",
    "<li>output positive label probability</li>\n",
    "</ul>"
   ]
  },
  {
   "cell_type": "code",
   "execution_count": 9,
   "id": "21d4febe",
   "metadata": {
    "execution": {
     "iopub.execute_input": "2023-07-19T14:23:31.756882Z",
     "iopub.status.busy": "2023-07-19T14:23:31.756476Z",
     "iopub.status.idle": "2023-07-19T14:23:31.761784Z",
     "shell.execute_reply": "2023-07-19T14:23:31.760611Z"
    },
    "id": "fd3c0758",
    "papermill": {
     "duration": 0.016559,
     "end_time": "2023-07-19T14:23:31.763981",
     "exception": false,
     "start_time": "2023-07-19T14:23:31.747422",
     "status": "completed"
    },
    "tags": []
   },
   "outputs": [],
   "source": [
    "label_names = [col for col in train_labels.columns[1:]]"
   ]
  },
  {
   "cell_type": "code",
   "execution_count": 10,
   "id": "cb198d83",
   "metadata": {
    "execution": {
     "iopub.execute_input": "2023-07-19T14:23:31.781261Z",
     "iopub.status.busy": "2023-07-19T14:23:31.780819Z",
     "iopub.status.idle": "2023-07-19T14:23:31.785802Z",
     "shell.execute_reply": "2023-07-19T14:23:31.784741Z"
    },
    "id": "ff54f238",
    "papermill": {
     "duration": 0.016532,
     "end_time": "2023-07-19T14:23:31.788167",
     "exception": false,
     "start_time": "2023-07-19T14:23:31.771635",
     "status": "completed"
    },
    "tags": []
   },
   "outputs": [],
   "source": [
    "# contants\n",
    "batch_size = 16\n",
    "num_epochs = 75\n",
    "model = None\n",
    "history = None"
   ]
  },
  {
   "cell_type": "code",
   "execution_count": 11,
   "id": "a6deb6cd",
   "metadata": {
    "execution": {
     "iopub.execute_input": "2023-07-19T14:23:31.805347Z",
     "iopub.status.busy": "2023-07-19T14:23:31.804941Z",
     "iopub.status.idle": "2023-07-19T14:23:31.812849Z",
     "shell.execute_reply": "2023-07-19T14:23:31.811631Z"
    },
    "id": "kvgA-6pkiHZx",
    "outputId": "8617e103-a597-4aed-f3dc-fa1dc312b91e",
    "papermill": {
     "duration": 0.019158,
     "end_time": "2023-07-19T14:23:31.815159",
     "exception": false,
     "start_time": "2023-07-19T14:23:31.796001",
     "status": "completed"
    },
    "tags": []
   },
   "outputs": [
    {
     "name": "stdout",
     "output_type": "stream",
     "text": [
      "647 162\n"
     ]
    }
   ],
   "source": [
    "training_data = range(809)\n",
    "train_data, val_data = train_test_split(training_data, test_size=0.2, random_state=42)\n",
    "train_data_generator = DataGenerator(train_data, batch_size)\n",
    "val_data_generator = DataGenerator(val_data, batch_size)\n",
    "print(len(train_data), len(val_data))"
   ]
  },
  {
   "cell_type": "code",
   "execution_count": 12,
   "id": "81a84b7c",
   "metadata": {
    "execution": {
     "iopub.execute_input": "2023-07-19T14:23:31.832486Z",
     "iopub.status.busy": "2023-07-19T14:23:31.832066Z",
     "iopub.status.idle": "2023-07-19T14:23:32.355947Z",
     "shell.execute_reply": "2023-07-19T14:23:32.354890Z"
    },
    "id": "cf2fc727",
    "outputId": "ce65ac22-ecdf-416b-adbf-2dce39ce2ff8",
    "papermill": {
     "duration": 0.543346,
     "end_time": "2023-07-19T14:23:32.366377",
     "exception": false,
     "start_time": "2023-07-19T14:23:31.823031",
     "status": "completed"
    },
    "tags": []
   },
   "outputs": [
    {
     "name": "stdout",
     "output_type": "stream",
     "text": [
      "Model: \"sequential\"\n",
      "_________________________________________________________________\n",
      " Layer (type)                Output Shape              Param #   \n",
      "=================================================================\n",
      " conv2d (Conv2D)             (None, 27, 1400, 32)      3872      \n",
      "                                                                 \n",
      " max_pooling2d (MaxPooling2D  (None, 3, 700, 32)       0         \n",
      " )                                                               \n",
      "                                                                 \n",
      " flatten (Flatten)           (None, 67200)             0         \n",
      "                                                                 \n",
      " dense (Dense)               (None, 512)               34406912  \n",
      "                                                                 \n",
      " dense_1 (Dense)             (None, 128)               65664     \n",
      "                                                                 \n",
      " dense_2 (Dense)             (None, 9)                 1161      \n",
      "                                                                 \n",
      "=================================================================\n",
      "Total params: 34,477,609\n",
      "Trainable params: 34,477,609\n",
      "Non-trainable params: 0\n",
      "_________________________________________________________________\n"
     ]
    }
   ],
   "source": [
    "model = Sequential()\n",
    "model.add(Conv2D(32, kernel_size = (120,1), padding= 'same',strides = (100,1),activation='relu', input_shape=(num_time_values, num_mass_values, 1)))\n",
    "model.add(MaxPooling2D(pool_size=(9, 2)))\n",
    "\n",
    "model.add(Flatten())\n",
    "\n",
    "model.add(Dense(512, activation='relu'))\n",
    "model.add(Dense(128, activation='relu'))\n",
    "model.add(Dense(9, activation='sigmoid'))\n",
    "\n",
    "opt = tf.keras.optimizers.Adam(learning_rate = 0.0001)\n",
    "\n",
    "model.compile(loss=tf.keras.losses.BinaryCrossentropy(from_logits=True), optimizer=opt, metrics=['AUC']) # from logits = true\n",
    "\n",
    "model.summary()"
   ]
  },
  {
   "cell_type": "code",
   "execution_count": 13,
   "id": "414e5429",
   "metadata": {
    "execution": {
     "iopub.execute_input": "2023-07-19T14:23:32.388329Z",
     "iopub.status.busy": "2023-07-19T14:23:32.387629Z",
     "iopub.status.idle": "2023-07-19T17:12:39.557580Z",
     "shell.execute_reply": "2023-07-19T17:12:39.549538Z"
    },
    "id": "c3a8f41d",
    "outputId": "aa0ae9b1-811c-499b-ea2b-801b1109e1ed",
    "papermill": {
     "duration": 10147.305055,
     "end_time": "2023-07-19T17:12:39.681331",
     "exception": false,
     "start_time": "2023-07-19T14:23:32.376276",
     "status": "completed"
    },
    "tags": []
   },
   "outputs": [
    {
     "name": "stdout",
     "output_type": "stream",
     "text": [
      "Epoch 1/75\n",
      "40/40 [==============================] - 428s 11s/step - loss: 0.4935 - auc: 0.5629 - val_loss: 0.2704 - val_auc: 0.7780\n",
      "Epoch 2/75\n",
      "40/40 [==============================] - 344s 9s/step - loss: 0.2844 - auc: 0.7845 - val_loss: 0.2509 - val_auc: 0.8327\n",
      "Epoch 3/75\n",
      "40/40 [==============================] - 321s 8s/step - loss: 0.2462 - auc: 0.8547 - val_loss: 0.2199 - val_auc: 0.8723\n",
      "Epoch 4/75\n",
      "40/40 [==============================] - 400s 10s/step - loss: 0.2230 - auc: 0.8861 - val_loss: 0.2134 - val_auc: 0.8877\n",
      "Epoch 5/75\n",
      "40/40 [==============================] - 349s 9s/step - loss: 0.2087 - auc: 0.9055 - val_loss: 0.2030 - val_auc: 0.8987\n",
      "Epoch 6/75\n",
      "40/40 [==============================] - 302s 8s/step - loss: 0.1999 - auc: 0.9154 - val_loss: 0.1971 - val_auc: 0.9100\n",
      "Epoch 7/75\n",
      "40/40 [==============================] - 377s 9s/step - loss: 0.1901 - auc: 0.9274 - val_loss: 0.1908 - val_auc: 0.9170\n",
      "Epoch 8/75\n",
      "40/40 [==============================] - 330s 8s/step - loss: 0.1797 - auc: 0.9366 - val_loss: 0.1827 - val_auc: 0.9222\n",
      "Epoch 9/75\n",
      "40/40 [==============================] - 379s 9s/step - loss: 0.1712 - auc: 0.9429 - val_loss: 0.1819 - val_auc: 0.9304\n",
      "Epoch 10/75\n",
      "40/40 [==============================] - 306s 8s/step - loss: 0.1657 - auc: 0.9503 - val_loss: 0.1759 - val_auc: 0.9305\n",
      "Epoch 11/75\n",
      "40/40 [==============================] - 350s 9s/step - loss: 0.1558 - auc: 0.9548 - val_loss: 0.1696 - val_auc: 0.9379\n",
      "Epoch 12/75\n",
      "40/40 [==============================] - 330s 8s/step - loss: 0.1563 - auc: 0.9544 - val_loss: 0.1726 - val_auc: 0.9342\n",
      "Epoch 13/75\n",
      "40/40 [==============================] - 381s 10s/step - loss: 0.1453 - auc: 0.9619 - val_loss: 0.1701 - val_auc: 0.9395\n",
      "Epoch 14/75\n",
      "40/40 [==============================] - 388s 10s/step - loss: 0.1374 - auc: 0.9670 - val_loss: 0.1691 - val_auc: 0.9335\n",
      "Epoch 15/75\n",
      "40/40 [==============================] - 339s 9s/step - loss: 0.1363 - auc: 0.9676 - val_loss: 0.1579 - val_auc: 0.9439\n",
      "Epoch 16/75\n",
      "40/40 [==============================] - 324s 8s/step - loss: 0.1290 - auc: 0.9707 - val_loss: 0.1599 - val_auc: 0.9460\n",
      "Epoch 17/75\n",
      "40/40 [==============================] - 377s 9s/step - loss: 0.1244 - auc: 0.9728 - val_loss: 0.1575 - val_auc: 0.9446\n",
      "Epoch 18/75\n",
      "40/40 [==============================] - 374s 9s/step - loss: 0.1194 - auc: 0.9756 - val_loss: 0.1606 - val_auc: 0.9415\n",
      "Epoch 19/75\n",
      "40/40 [==============================] - 355s 9s/step - loss: 0.1146 - auc: 0.9780 - val_loss: 0.1549 - val_auc: 0.9436\n",
      "Epoch 20/75\n",
      "40/40 [==============================] - 348s 9s/step - loss: 0.1112 - auc: 0.9793 - val_loss: 0.1594 - val_auc: 0.9403\n",
      "Epoch 21/75\n",
      "40/40 [==============================] - 361s 9s/step - loss: 0.1078 - auc: 0.9799 - val_loss: 0.1577 - val_auc: 0.9439\n",
      "Epoch 22/75\n",
      "40/40 [==============================] - 343s 9s/step - loss: 0.1056 - auc: 0.9805 - val_loss: 0.1532 - val_auc: 0.9439\n",
      "Epoch 23/75\n",
      "40/40 [==============================] - 377s 9s/step - loss: 0.0994 - auc: 0.9834 - val_loss: 0.1567 - val_auc: 0.9465\n",
      "Epoch 24/75\n",
      "40/40 [==============================] - 367s 9s/step - loss: 0.0992 - auc: 0.9836 - val_loss: 0.1547 - val_auc: 0.9400\n",
      "Epoch 25/75\n",
      "40/40 [==============================] - 328s 8s/step - loss: 0.0936 - auc: 0.9850 - val_loss: 0.1559 - val_auc: 0.9389\n",
      "Epoch 26/75\n",
      "40/40 [==============================] - 396s 10s/step - loss: 0.0897 - auc: 0.9867 - val_loss: 0.1544 - val_auc: 0.9410\n",
      "Epoch 27/75\n",
      "40/40 [==============================] - 364s 9s/step - loss: 0.0855 - auc: 0.9879 - val_loss: 0.1619 - val_auc: 0.9421\n"
     ]
    }
   ],
   "source": [
    "es = EarlyStopping(monitor = 'val_loss', patience = 5, restore_best_weights = True  )\n",
    "history = model.fit(train_data_generator, epochs=num_epochs, validation_data=val_data_generator, callbacks=[es],verbose = 1)"
   ]
  },
  {
   "cell_type": "code",
   "execution_count": 14,
   "id": "b68bf771",
   "metadata": {
    "execution": {
     "iopub.execute_input": "2023-07-19T17:12:39.941525Z",
     "iopub.status.busy": "2023-07-19T17:12:39.924896Z",
     "iopub.status.idle": "2023-07-19T17:12:40.965116Z",
     "shell.execute_reply": "2023-07-19T17:12:40.962487Z"
    },
    "id": "3f2ae88e",
    "papermill": {
     "duration": 1.165942,
     "end_time": "2023-07-19T17:12:40.968521",
     "exception": false,
     "start_time": "2023-07-19T17:12:39.802579",
     "status": "completed"
    },
    "tags": []
   },
   "outputs": [],
   "source": [
    "model.save(\"cnn_model_test.keras\")"
   ]
  },
  {
   "cell_type": "markdown",
   "id": "3e34db5b",
   "metadata": {
    "id": "ba71ea10",
    "papermill": {
     "duration": 0.112392,
     "end_time": "2023-07-19T17:12:41.197641",
     "exception": false,
     "start_time": "2023-07-19T17:12:41.085249",
     "status": "completed"
    },
    "tags": []
   },
   "source": [
    "## 5. Performance\n",
    "<ul>\n",
    "<li>train and validation losses</li>\n",
    "</ul>"
   ]
  },
  {
   "cell_type": "code",
   "execution_count": 15,
   "id": "2d4fe8b4",
   "metadata": {
    "execution": {
     "iopub.execute_input": "2023-07-19T17:12:41.433838Z",
     "iopub.status.busy": "2023-07-19T17:12:41.433372Z",
     "iopub.status.idle": "2023-07-19T17:12:42.072099Z",
     "shell.execute_reply": "2023-07-19T17:12:42.070875Z"
    },
    "id": "bc61259e",
    "papermill": {
     "duration": 0.762505,
     "end_time": "2023-07-19T17:12:42.077977",
     "exception": false,
     "start_time": "2023-07-19T17:12:41.315472",
     "status": "completed"
    },
    "tags": []
   },
   "outputs": [
    {
     "data": {
      "image/png": "[encoded data removed]",
      "text/plain": [
       "<Figure size 640x480 with 1 Axes>"
      ]
     },
     "metadata": {},
     "output_type": "display_data"
    }
   ],
   "source": [
    "train_loss = history.history['loss']\n",
    "val_loss = history.history['val_loss']\n",
    "epochs = range(1, len(train_loss) + 1)\n",
    "\n",
    "plt.plot(epochs, train_loss, 'b', label='Training Loss')\n",
    "plt.plot(epochs, val_loss, 'r', label='Validation Loss')\n",
    "plt.title('Training and Validation Loss')\n",
    "plt.xlabel('Epochs')\n",
    "plt.ylabel('Loss')\n",
    "plt.grid()\n",
    "plt.legend()\n",
    "plt.show()\n",
    "\n"
   ]
  },
  {
   "cell_type": "code",
   "execution_count": 16,
   "id": "1bdc7d02",
   "metadata": {
    "execution": {
     "iopub.execute_input": "2023-07-19T17:12:42.325371Z",
     "iopub.status.busy": "2023-07-19T17:12:42.324498Z",
     "iopub.status.idle": "2023-07-19T17:18:04.985063Z",
     "shell.execute_reply": "2023-07-19T17:18:04.983733Z"
    },
    "id": "c14289c9",
    "papermill": {
     "duration": 322.786499,
     "end_time": "2023-07-19T17:18:04.988056",
     "exception": false,
     "start_time": "2023-07-19T17:12:42.201557",
     "status": "completed"
    },
    "tags": []
   },
   "outputs": [],
   "source": [
    "y_pred = model.predict(DataGenerator(range(809),1), verbose = 0)"
   ]
  },
  {
   "cell_type": "markdown",
   "id": "81288773",
   "metadata": {
    "id": "80af68ce",
    "papermill": {
     "duration": 0.112402,
     "end_time": "2023-07-19T17:18:05.216904",
     "exception": false,
     "start_time": "2023-07-19T17:18:05.104502",
     "status": "completed"
    },
    "tags": []
   },
   "source": [
    "### Classification Reports"
   ]
  },
  {
   "cell_type": "code",
   "execution_count": 17,
   "id": "154672a5",
   "metadata": {
    "execution": {
     "iopub.execute_input": "2023-07-19T17:18:05.444746Z",
     "iopub.status.busy": "2023-07-19T17:18:05.444256Z",
     "iopub.status.idle": "2023-07-19T17:18:05.581264Z",
     "shell.execute_reply": "2023-07-19T17:18:05.579751Z"
    },
    "id": "5ef8f090",
    "papermill": {
     "duration": 0.255626,
     "end_time": "2023-07-19T17:18:05.585080",
     "exception": false,
     "start_time": "2023-07-19T17:18:05.329454",
     "status": "completed"
    },
    "tags": []
   },
   "outputs": [
    {
     "name": "stdout",
     "output_type": "stream",
     "text": [
      "aromatic\n",
      "              precision    recall  f1-score   support\n",
      "\n",
      "           0       0.95      1.00      0.97       730\n",
      "           1       0.95      0.53      0.68        79\n",
      "\n",
      "    accuracy                           0.95       809\n",
      "   macro avg       0.95      0.76      0.83       809\n",
      "weighted avg       0.95      0.95      0.95       809\n",
      "\n",
      "roc_auc_score : 0.9689960117912259\n",
      "log loss      : 0.1261766863695065\n",
      "-------------------------------------------------------------\n",
      "hydrocarbon\n",
      "              precision    recall  f1-score   support\n",
      "\n",
      "           0       0.96      0.95      0.95       544\n",
      "           1       0.90      0.92      0.91       265\n",
      "\n",
      "    accuracy                           0.94       809\n",
      "   macro avg       0.93      0.93      0.93       809\n",
      "weighted avg       0.94      0.94      0.94       809\n",
      "\n",
      "roc_auc_score : 0.9761584350721421\n",
      "log loss      : 0.18300951907497642\n",
      "-------------------------------------------------------------\n",
      "carboxylic_acid\n",
      "              precision    recall  f1-score   support\n",
      "\n",
      "           0       0.93      0.99      0.96       694\n",
      "           1       0.93      0.56      0.70       115\n",
      "\n",
      "    accuracy                           0.93       809\n",
      "   macro avg       0.93      0.77      0.83       809\n",
      "weighted avg       0.93      0.93      0.92       809\n",
      "\n",
      "roc_auc_score : 0.9746147099360982\n",
      "log loss      : 0.1524330391666402\n",
      "-------------------------------------------------------------\n",
      "nitrogen_bearing_compound\n",
      "              precision    recall  f1-score   support\n",
      "\n",
      "           0       0.96      0.99      0.97       713\n",
      "           1       0.89      0.68      0.77        96\n",
      "\n",
      "    accuracy                           0.95       809\n",
      "   macro avg       0.92      0.83      0.87       809\n",
      "weighted avg       0.95      0.95      0.95       809\n",
      "\n",
      "roc_auc_score : 0.9784507947639084\n",
      "log loss      : 0.1267938304723497\n",
      "-------------------------------------------------------------\n",
      "chlorine_bearing_compound\n",
      "              precision    recall  f1-score   support\n",
      "\n",
      "           0       0.99      1.00      0.99       791\n",
      "           1       1.00      0.44      0.62        18\n",
      "\n",
      "    accuracy                           0.99       809\n",
      "   macro avg       0.99      0.72      0.80       809\n",
      "weighted avg       0.99      0.99      0.99       809\n",
      "\n",
      "roc_auc_score : 0.9834246382918949\n",
      "log loss      : 0.04104838425098023\n",
      "-------------------------------------------------------------\n",
      "sulfur_bearing_compound\n",
      "              precision    recall  f1-score   support\n",
      "\n",
      "           0       0.98      1.00      0.99       778\n",
      "           1       0.82      0.45      0.58        31\n",
      "\n",
      "    accuracy                           0.98       809\n",
      "   macro avg       0.90      0.72      0.79       809\n",
      "weighted avg       0.97      0.98      0.97       809\n",
      "\n",
      "roc_auc_score : 0.9787295795671282\n",
      "log loss      : 0.06516779824356213\n",
      "-------------------------------------------------------------\n",
      "alcohol\n",
      "              precision    recall  f1-score   support\n",
      "\n",
      "           0       0.98      1.00      0.99       783\n",
      "           1       0.91      0.38      0.54        26\n",
      "\n",
      "    accuracy                           0.98       809\n",
      "   macro avg       0.94      0.69      0.76       809\n",
      "weighted avg       0.98      0.98      0.97       809\n",
      "\n",
      "roc_auc_score : 0.9861970724039689\n",
      "log loss      : 0.05697459488366802\n",
      "-------------------------------------------------------------\n",
      "other_oxygen_bearing_compound\n",
      "              precision    recall  f1-score   support\n",
      "\n",
      "           0       0.98      1.00      0.99       788\n",
      "           1       0.89      0.38      0.53        21\n",
      "\n",
      "    accuracy                           0.98       809\n",
      "   macro avg       0.94      0.69      0.76       809\n",
      "weighted avg       0.98      0.98      0.98       809\n",
      "\n",
      "roc_auc_score : 0.98120618805898\n",
      "log loss      : 0.05418563833240436\n",
      "-------------------------------------------------------------\n",
      "mineral\n",
      "              precision    recall  f1-score   support\n",
      "\n",
      "           0       0.94      0.98      0.96       692\n",
      "           1       0.86      0.64      0.74       117\n",
      "\n",
      "    accuracy                           0.93       809\n",
      "   macro avg       0.90      0.81      0.85       809\n",
      "weighted avg       0.93      0.93      0.93       809\n",
      "\n",
      "roc_auc_score : 0.9634405414752235\n",
      "log loss      : 0.166509652369183\n",
      "-------------------------------------------------------------\n"
     ]
    }
   ],
   "source": [
    "for i in range(9):\n",
    "    y_true_column = train_labels.iloc[:, i+1].values\n",
    "    y_pred_column = y_pred[:, i].round()\n",
    "\n",
    "    report = classification_report(y_true_column, y_pred_column)\n",
    "    print(f\"{label_names[i]}\")\n",
    "    print(report)\n",
    "    print(f\"roc_auc_score : {roc_auc_score(y_true_column, y_pred[:, i])}\")\n",
    "    print(f\"log loss      : {log_loss(y_true_column, y_pred[:, i])}\")\n",
    "\n",
    "    print(\"-------------------------------------------------------------\")\n"
   ]
  },
  {
   "cell_type": "code",
   "execution_count": null,
   "id": "5400c6fa",
   "metadata": {
    "id": "2c0b5fd1",
    "papermill": {
     "duration": 0.114116,
     "end_time": "2023-07-19T17:18:05.815773",
     "exception": false,
     "start_time": "2023-07-19T17:18:05.701657",
     "status": "completed"
    },
    "tags": []
   },
   "outputs": [],
   "source": []
  }
 ],
 "metadata": {
  "kernelspec": {
   "display_name": "Python 3",
   "language": "python",
   "name": "python3"
  },
  "language_info": {
   "codemirror_mode": {
    "name": "ipython",
    "version": 3
   },
   "file_extension": ".py",
   "mimetype": "text/x-python",
   "name": "python",
   "nbconvert_exporter": "python",
   "pygments_lexer": "ipython3",
   "version": "3.10.12"
  },
  "papermill": {
   "default_parameters": {},
   "duration": 10498.186462,
   "end_time": "2023-07-19T17:18:08.943176",
   "environment_variables": {},
   "exception": null,
   "input_path": "__notebook__.ipynb",
   "output_path": "__notebook__.ipynb",
   "parameters": {},
   "start_time": "2023-07-19T14:23:10.756714",
   "version": "2.4.0"
  }
 },
 "nbformat": 4,
 "nbformat_minor": 5
}
