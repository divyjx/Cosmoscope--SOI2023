{
 "cells": [
  {
   "cell_type": "markdown",
   "id": "5def93fe",
   "metadata": {
    "papermill": {
     "duration": 0.008387,
     "end_time": "2023-07-15T17:56:57.722157",
     "exception": false,
     "start_time": "2023-07-15T17:56:57.713770",
     "status": "completed"
    },
    "tags": []
   },
   "source": [
    "## 1. Data Description \n",
    "<ul> \n",
    "<li>there are 809 training examples</li>\n",
    "<li>each of them is a dataframe with time, mass , and intensity values</li>\n",
    "<li>dataframe lenghts are variable</li>\n",
    "</ul>\n"
   ]
  },
  {
   "cell_type": "code",
   "execution_count": 1,
   "id": "1522cd73",
   "metadata": {
    "execution": {
     "iopub.execute_input": "2023-07-15T17:56:57.737429Z",
     "iopub.status.busy": "2023-07-15T17:56:57.736958Z",
     "iopub.status.idle": "2023-07-15T17:57:07.249527Z",
     "shell.execute_reply": "2023-07-15T17:57:07.248496Z"
    },
    "papermill": {
     "duration": 9.522856,
     "end_time": "2023-07-15T17:57:07.251960",
     "exception": false,
     "start_time": "2023-07-15T17:56:57.729104",
     "status": "completed"
    },
    "tags": []
   },
   "outputs": [],
   "source": [
    "import warnings \n",
    "warnings.filterwarnings('ignore')\n",
    "\n",
    "# for processing numbers and files csv\n",
    "import pandas as pd\n",
    "import numpy as np\n",
    "\n",
    "# for visualization\n",
    "import matplotlib.pyplot as plt\n",
    "%matplotlib inline\n",
    "\n",
    "# preprocessing \n",
    "from sklearn.preprocessing import MinMaxScaler\n",
    "from sklearn.model_selection import train_test_split\n",
    "from sklearn.metrics import classification_report, roc_auc_score, log_loss\n",
    "\n",
    "# model related\n",
    "from tensorflow.keras.callbacks import EarlyStopping\n",
    "from tensorflow.keras.utils import Sequence\n",
    "from tensorflow.keras.models import Sequential\n",
    "from tensorflow.keras.layers import Conv2D, MaxPooling2D, Flatten, Dense\n",
    "\n",
    "import tensorflow as tf\n"
   ]
  },
  {
   "cell_type": "code",
   "execution_count": 2,
   "id": "79ca807c",
   "metadata": {
    "execution": {
     "iopub.execute_input": "2023-07-15T17:57:07.266187Z",
     "iopub.status.busy": "2023-07-15T17:57:07.265556Z",
     "iopub.status.idle": "2023-07-15T17:57:07.269890Z",
     "shell.execute_reply": "2023-07-15T17:57:07.269052Z"
    },
    "papermill": {
     "duration": 0.013598,
     "end_time": "2023-07-15T17:57:07.271958",
     "exception": false,
     "start_time": "2023-07-15T17:57:07.258360",
     "status": "completed"
    },
    "tags": []
   },
   "outputs": [],
   "source": [
    "#for gpu\n",
    "\n",
    "# gpus = tf.config.experimental.list_physical_devices('GPU')\n",
    "# for gpu in gpus:\n",
    "#     print(\"Name:\", gpu.name, \"  Type:\", gpu.device_type)\n",
    "\n",
    "# from tensorflow.python.client import device_lib\n",
    "\n",
    "# print(device_lib.list_local_devices())\n",
    "\n",
    "# tf.test.is_gpu_available()"
   ]
  },
  {
   "cell_type": "code",
   "execution_count": 3,
   "id": "d8901fd6",
   "metadata": {
    "execution": {
     "iopub.execute_input": "2023-07-15T17:57:07.285713Z",
     "iopub.status.busy": "2023-07-15T17:57:07.285438Z",
     "iopub.status.idle": "2023-07-15T17:57:07.289880Z",
     "shell.execute_reply": "2023-07-15T17:57:07.288923Z"
    },
    "papermill": {
     "duration": 0.013818,
     "end_time": "2023-07-15T17:57:07.292085",
     "exception": false,
     "start_time": "2023-07-15T17:57:07.278267",
     "status": "completed"
    },
    "tags": []
   },
   "outputs": [],
   "source": [
    "# for working in kaggle use this paths\n",
    "kag_path_in = \"/kaggle/input/mars-spec-train/\"\n",
    "kag_path_out = \"/kaggle/working/\"\n",
    "\n",
    "# add custom paths here (uncomment)\n",
    "# kag_path_in = \"\"\n",
    "# kag_path_out = \"\""
   ]
  },
  {
   "cell_type": "code",
   "execution_count": 4,
   "id": "0d0eebfc",
   "metadata": {
    "execution": {
     "iopub.execute_input": "2023-07-15T17:57:07.306367Z",
     "iopub.status.busy": "2023-07-15T17:57:07.305576Z",
     "iopub.status.idle": "2023-07-15T17:57:07.446979Z",
     "shell.execute_reply": "2023-07-15T17:57:07.446079Z"
    },
    "papermill": {
     "duration": 0.150934,
     "end_time": "2023-07-15T17:57:07.449356",
     "exception": false,
     "start_time": "2023-07-15T17:57:07.298422",
     "status": "completed"
    },
    "tags": []
   },
   "outputs": [],
   "source": [
    "# metadata = pd.read_csv('/kaggle/input/mars-spec-train/metadata.csv').fillna(0)\n",
    "# train_labels = pd.read_csv('/kaggle/input/mars-spec-train/train_labels.csv')\n",
    "metadata = pd.read_csv(kag_path_in+'metadata.csv').fillna(0)\n",
    "train_labels = pd.read_csv(kag_path_in+'train_labels.csv')"
   ]
  },
  {
   "cell_type": "markdown",
   "id": "099706bf",
   "metadata": {
    "papermill": {
     "duration": 0.005979,
     "end_time": "2023-07-15T17:57:07.461709",
     "exception": false,
     "start_time": "2023-07-15T17:57:07.455730",
     "status": "completed"
    },
    "tags": []
   },
   "source": [
    "## 2. Preprocessing and Feature extraction\n",
    "<ul>\n",
    "<li>mass values are grouped into values seperated by 0.50 </li>\n",
    "<li>time values are grouped into values seperated by 0.02 </li>\n",
    "<li>Time * Mass matrix (2700,1400) with Intensity values </li>\n",
    "</ul>"
   ]
  },
  {
   "cell_type": "code",
   "execution_count": 5,
   "id": "08880643",
   "metadata": {
    "execution": {
     "iopub.execute_input": "2023-07-15T17:57:07.475631Z",
     "iopub.status.busy": "2023-07-15T17:57:07.474892Z",
     "iopub.status.idle": "2023-07-15T17:57:07.480015Z",
     "shell.execute_reply": "2023-07-15T17:57:07.479214Z"
    },
    "papermill": {
     "duration": 0.014078,
     "end_time": "2023-07-15T17:57:07.481976",
     "exception": false,
     "start_time": "2023-07-15T17:57:07.467898",
     "status": "completed"
    },
    "tags": []
   },
   "outputs": [],
   "source": [
    "# constants\n",
    "num_mass_values = 1400\n",
    "num_time_values = 2700\n",
    "matrix_shape = (num_time_values, num_mass_values)"
   ]
  },
  {
   "cell_type": "code",
   "execution_count": 6,
   "id": "13d88ccd",
   "metadata": {
    "execution": {
     "iopub.execute_input": "2023-07-15T17:57:07.495446Z",
     "iopub.status.busy": "2023-07-15T17:57:07.494738Z",
     "iopub.status.idle": "2023-07-15T17:57:07.502563Z",
     "shell.execute_reply": "2023-07-15T17:57:07.501591Z"
    },
    "papermill": {
     "duration": 0.016701,
     "end_time": "2023-07-15T17:57:07.504703",
     "exception": false,
     "start_time": "2023-07-15T17:57:07.488002",
     "status": "completed"
    },
    "tags": []
   },
   "outputs": [],
   "source": [
    "\n",
    "# Function to create the Time X Mass matrix for a single data sample\n",
    "def create_matrix(id):\n",
    "    \n",
    "    sample_id, split, derivate, path, _ = metadata.iloc[id]\n",
    "    data = pd.read_csv(kag_path_in+path)\n",
    "\n",
    "    label = None\n",
    "    if (split == 'train'):\n",
    "        label = train_labels.iloc[id].values[1:]\n",
    "\n",
    "    # discretization of time and mass\n",
    "    data.time = (data.time*50).round()\n",
    "    data.mass = (data.mass*2).round()\n",
    "    data.time = data.time.astype(int)\n",
    "    data.mass = data.mass.astype(int)\n",
    "    \n",
    "    # scaling intensity\n",
    "    data.intensity = MinMaxScaler().fit_transform(data.intensity.values.reshape(-1, 1))\n",
    "    \n",
    "    # filling matrix\n",
    "    matrix = np.zeros(matrix_shape)\n",
    "    matrix[data['time'],data['mass']] = data['intensity']\n",
    "\n",
    "    return matrix , label\n"
   ]
  },
  {
   "cell_type": "markdown",
   "id": "44dd85a6",
   "metadata": {
    "papermill": {
     "duration": 0.00586,
     "end_time": "2023-07-15T17:57:07.516770",
     "exception": false,
     "start_time": "2023-07-15T17:57:07.510910",
     "status": "completed"
    },
    "tags": []
   },
   "source": [
    "## 3. Data Generation\n",
    "<ul>\n",
    "<li>Storing data matrix is costly</li>\n",
    "<li>data is generated in batches</li>\n",
    "</ul>\n"
   ]
  },
  {
   "cell_type": "code",
   "execution_count": 7,
   "id": "0d084cb9",
   "metadata": {
    "execution": {
     "iopub.execute_input": "2023-07-15T17:57:07.530493Z",
     "iopub.status.busy": "2023-07-15T17:57:07.529709Z",
     "iopub.status.idle": "2023-07-15T17:57:07.535606Z",
     "shell.execute_reply": "2023-07-15T17:57:07.534696Z"
    },
    "papermill": {
     "duration": 0.014926,
     "end_time": "2023-07-15T17:57:07.537762",
     "exception": false,
     "start_time": "2023-07-15T17:57:07.522836",
     "status": "completed"
    },
    "tags": []
   },
   "outputs": [],
   "source": [
    "training_data = range(809)  \n",
    "train_data, val_data = train_test_split(training_data, test_size=0.2, random_state=42)\n"
   ]
  },
  {
   "cell_type": "code",
   "execution_count": 8,
   "id": "f704a80f",
   "metadata": {
    "execution": {
     "iopub.execute_input": "2023-07-15T17:57:07.551684Z",
     "iopub.status.busy": "2023-07-15T17:57:07.550828Z",
     "iopub.status.idle": "2023-07-15T17:57:07.560863Z",
     "shell.execute_reply": "2023-07-15T17:57:07.560020Z"
    },
    "papermill": {
     "duration": 0.019094,
     "end_time": "2023-07-15T17:57:07.562928",
     "exception": false,
     "start_time": "2023-07-15T17:57:07.543834",
     "status": "completed"
    },
    "tags": []
   },
   "outputs": [],
   "source": [
    "class DataGenerator(Sequence):\n",
    "    def __init__(self, data, batch_size):\n",
    "        self.data = data\n",
    "        self.batch_size = batch_size\n",
    "    def __len__(self):\n",
    "        return len(self.data) // self.batch_size\n",
    "\n",
    "    def __getitem__(self, idx):        \n",
    "        \n",
    "        low = idx * self.batch_size\n",
    "        high = min(low + self.batch_size, len(self.data))\n",
    "        batch_x = []\n",
    "        batch_y = []\n",
    "\n",
    "        for i,data_sample in enumerate(self.data[low:high]):\n",
    "            processed_sample, processed_label = self.preprocess_data(data_sample)\n",
    "            batch_x.append(processed_sample)\n",
    "            batch_y.append(processed_label)\n",
    "        return np.array(batch_x), np.array(batch_y)\n",
    "\n",
    "    def preprocess_data(self, data_sample):\n",
    "        matrix, label = create_matrix(data_sample)\n",
    "        if type(label) == np.ndarray:\n",
    "            label = np.array(label).astype(int)\n",
    "        return matrix , label\n"
   ]
  },
  {
   "cell_type": "code",
   "execution_count": 9,
   "id": "e08ed246",
   "metadata": {
    "execution": {
     "iopub.execute_input": "2023-07-15T17:57:07.575787Z",
     "iopub.status.busy": "2023-07-15T17:57:07.575523Z",
     "iopub.status.idle": "2023-07-15T17:57:08.361201Z",
     "shell.execute_reply": "2023-07-15T17:57:08.360101Z"
    },
    "papermill": {
     "duration": 0.794623,
     "end_time": "2023-07-15T17:57:08.363445",
     "exception": false,
     "start_time": "2023-07-15T17:57:07.568822",
     "status": "completed"
    },
    "tags": []
   },
   "outputs": [
    {
     "data": {
      "text/plain": [
       "(array([[[0., 0., 0., ..., 0., 0., 0.],\n",
       "         [0., 0., 0., ..., 0., 0., 0.],\n",
       "         [0., 0., 0., ..., 0., 0., 0.],\n",
       "         ...,\n",
       "         [0., 0., 0., ..., 0., 0., 0.],\n",
       "         [0., 0., 0., ..., 0., 0., 0.],\n",
       "         [0., 0., 0., ..., 0., 0., 0.]],\n",
       " \n",
       "        [[0., 0., 0., ..., 0., 0., 0.],\n",
       "         [0., 0., 0., ..., 0., 0., 0.],\n",
       "         [0., 0., 0., ..., 0., 0., 0.],\n",
       "         ...,\n",
       "         [0., 0., 0., ..., 0., 0., 0.],\n",
       "         [0., 0., 0., ..., 0., 0., 0.],\n",
       "         [0., 0., 0., ..., 0., 0., 0.]]]),\n",
       " array([[0, 0, 0, 0, 0, 0, 0, 0, 0],\n",
       "        [1, 0, 1, 1, 0, 1, 1, 0, 0]]))"
      ]
     },
     "execution_count": 9,
     "metadata": {},
     "output_type": "execute_result"
    }
   ],
   "source": [
    "a = DataGenerator([2,1,32,13,132,122,90,91,7,9],4)\n",
    "a[2]"
   ]
  },
  {
   "cell_type": "markdown",
   "id": "3ce5e7ea",
   "metadata": {
    "papermill": {
     "duration": 0.006547,
     "end_time": "2023-07-15T17:57:08.377262",
     "exception": false,
     "start_time": "2023-07-15T17:57:08.370715",
     "status": "completed"
    },
    "tags": []
   },
   "source": [
    "## 4. Model\n",
    "<ul>\n",
    "<li>convolutional layers </li>\n",
    "<li>pooling layers (max pooling) </li>\n",
    "<li>fully connected layers</li>\n",
    "<li>sigmoid layer</li>\n",
    "<li>output positive label probability</li>\n",
    "</ul>"
   ]
  },
  {
   "cell_type": "code",
   "execution_count": 10,
   "id": "c303f715",
   "metadata": {
    "execution": {
     "iopub.execute_input": "2023-07-15T17:57:08.392950Z",
     "iopub.status.busy": "2023-07-15T17:57:08.392628Z",
     "iopub.status.idle": "2023-07-15T17:57:08.397275Z",
     "shell.execute_reply": "2023-07-15T17:57:08.396311Z"
    },
    "papermill": {
     "duration": 0.014543,
     "end_time": "2023-07-15T17:57:08.399386",
     "exception": false,
     "start_time": "2023-07-15T17:57:08.384843",
     "status": "completed"
    },
    "tags": []
   },
   "outputs": [],
   "source": [
    "label_names = [col for col in train_labels.columns[1:]]"
   ]
  },
  {
   "cell_type": "code",
   "execution_count": 11,
   "id": "40c0bf14",
   "metadata": {
    "execution": {
     "iopub.execute_input": "2023-07-15T17:57:08.412789Z",
     "iopub.status.busy": "2023-07-15T17:57:08.412511Z",
     "iopub.status.idle": "2023-07-15T17:57:08.416951Z",
     "shell.execute_reply": "2023-07-15T17:57:08.415936Z"
    },
    "papermill": {
     "duration": 0.013785,
     "end_time": "2023-07-15T17:57:08.419314",
     "exception": false,
     "start_time": "2023-07-15T17:57:08.405529",
     "status": "completed"
    },
    "tags": []
   },
   "outputs": [],
   "source": [
    "# contants\n",
    "batch_size = 8\n",
    "num_epochs = 75\n",
    "model = None\n",
    "history = None"
   ]
  },
  {
   "cell_type": "code",
   "execution_count": 12,
   "id": "66e29848",
   "metadata": {
    "execution": {
     "iopub.execute_input": "2023-07-15T17:57:08.432697Z",
     "iopub.status.busy": "2023-07-15T17:57:08.432428Z",
     "iopub.status.idle": "2023-07-15T17:57:11.588854Z",
     "shell.execute_reply": "2023-07-15T17:57:11.587925Z"
    },
    "papermill": {
     "duration": 3.175085,
     "end_time": "2023-07-15T17:57:11.600523",
     "exception": false,
     "start_time": "2023-07-15T17:57:08.425438",
     "status": "completed"
    },
    "tags": []
   },
   "outputs": [
    {
     "name": "stdout",
     "output_type": "stream",
     "text": [
      "Model: \"sequential\"\n",
      "_________________________________________________________________\n",
      " Layer (type)                Output Shape              Param #   \n",
      "=================================================================\n",
      " conv2d (Conv2D)             (None, 2700, 1400, 8)     208       \n",
      "                                                                 \n",
      " max_pooling2d (MaxPooling2D  (None, 3, 700, 8)        0         \n",
      " )                                                               \n",
      "                                                                 \n",
      " flatten (Flatten)           (None, 16800)             0         \n",
      "                                                                 \n",
      " dense (Dense)               (None, 128)               2150528   \n",
      "                                                                 \n",
      " dense_1 (Dense)             (None, 64)                8256      \n",
      "                                                                 \n",
      " dense_2 (Dense)             (None, 9)                 585       \n",
      "                                                                 \n",
      "=================================================================\n",
      "Total params: 2,159,577\n",
      "Trainable params: 2,159,577\n",
      "Non-trainable params: 0\n",
      "_________________________________________________________________\n"
     ]
    }
   ],
   "source": [
    "model = Sequential()\n",
    "model.add(Conv2D(8, kernel_size=(5, 5), padding= 'same',activation='relu', input_shape=(num_time_values, num_mass_values, 1)))\n",
    "model.add(MaxPooling2D(pool_size=(900, 2)))\n",
    "\n",
    "model.add(Flatten())\n",
    "model.add(Dense(128, activation='relu'))\n",
    "model.add(Dense(64, activation='relu'))\n",
    "\n",
    "model.add(Dense(9, activation='sigmoid'))\n",
    "opt = tf.keras.optimizers.Adam(learning_rate = 0.0001) # slow\n",
    "model.compile(loss=tf.keras.losses.BinaryCrossentropy(from_logits=True), optimizer=opt, metrics=['AUC']) # from logits = true\n",
    " \n",
    "train_data_generator = DataGenerator(train_data, batch_size)\n",
    "val_data_generator = DataGenerator(val_data, batch_size)\n",
    "\n",
    "model.summary()"
   ]
  },
  {
   "cell_type": "code",
   "execution_count": 13,
   "id": "49ac5965",
   "metadata": {
    "execution": {
     "iopub.execute_input": "2023-07-15T17:57:11.618353Z",
     "iopub.status.busy": "2023-07-15T17:57:11.618027Z",
     "iopub.status.idle": "2023-07-15T23:41:47.421932Z",
     "shell.execute_reply": "2023-07-15T23:41:47.419990Z"
    },
    "papermill": {
     "duration": 20676.250628,
     "end_time": "2023-07-15T23:41:47.859602",
     "exception": false,
     "start_time": "2023-07-15T17:57:11.608974",
     "status": "completed"
    },
    "tags": []
   },
   "outputs": [
    {
     "name": "stdout",
     "output_type": "stream",
     "text": [
      "Epoch 1/75\n",
      "80/80 [==============================] - 384s 5s/step - loss: 0.5064 - auc: 0.5187 - val_loss: 0.2880 - val_auc: 0.7282\n",
      "Epoch 2/75\n",
      "80/80 [==============================] - 305s 4s/step - loss: 0.2981 - auc: 0.7478 - val_loss: 0.2677 - val_auc: 0.7927\n",
      "Epoch 3/75\n",
      "80/80 [==============================] - 281s 4s/step - loss: 0.2784 - auc: 0.8024 - val_loss: 0.2501 - val_auc: 0.8250\n",
      "Epoch 4/75\n",
      "80/80 [==============================] - 286s 4s/step - loss: 0.2600 - auc: 0.8306 - val_loss: 0.2400 - val_auc: 0.8484\n",
      "Epoch 5/75\n",
      "80/80 [==============================] - 280s 4s/step - loss: 0.2443 - auc: 0.8524 - val_loss: 0.2253 - val_auc: 0.8581\n",
      "Epoch 6/75\n",
      "80/80 [==============================] - 295s 4s/step - loss: 0.2290 - auc: 0.8723 - val_loss: 0.2187 - val_auc: 0.8749\n",
      "Epoch 7/75\n",
      "80/80 [==============================] - 285s 4s/step - loss: 0.2189 - auc: 0.8851 - val_loss: 0.2075 - val_auc: 0.8907\n",
      "Epoch 8/75\n",
      "80/80 [==============================] - 310s 4s/step - loss: 0.2098 - auc: 0.8969 - val_loss: 0.2033 - val_auc: 0.8973\n",
      "Epoch 9/75\n",
      "80/80 [==============================] - 300s 4s/step - loss: 0.2036 - auc: 0.9056 - val_loss: 0.1985 - val_auc: 0.9031\n",
      "Epoch 10/75\n",
      "80/80 [==============================] - 323s 4s/step - loss: 0.1970 - auc: 0.9141 - val_loss: 0.1952 - val_auc: 0.9047\n",
      "Epoch 11/75\n",
      "80/80 [==============================] - 316s 4s/step - loss: 0.1919 - auc: 0.9195 - val_loss: 0.1912 - val_auc: 0.9116\n",
      "Epoch 12/75\n",
      "80/80 [==============================] - 303s 4s/step - loss: 0.1864 - auc: 0.9252 - val_loss: 0.1912 - val_auc: 0.9111\n",
      "Epoch 13/75\n",
      "80/80 [==============================] - 296s 4s/step - loss: 0.1843 - auc: 0.9275 - val_loss: 0.1873 - val_auc: 0.9186\n",
      "Epoch 14/75\n",
      "80/80 [==============================] - 293s 4s/step - loss: 0.1799 - auc: 0.9330 - val_loss: 0.1845 - val_auc: 0.9211\n",
      "Epoch 15/75\n",
      "80/80 [==============================] - 291s 4s/step - loss: 0.1759 - auc: 0.9363 - val_loss: 0.1840 - val_auc: 0.9231\n",
      "Epoch 16/75\n",
      "80/80 [==============================] - 298s 4s/step - loss: 0.1729 - auc: 0.9392 - val_loss: 0.1817 - val_auc: 0.9243\n",
      "Epoch 17/75\n",
      "80/80 [==============================] - 288s 4s/step - loss: 0.1698 - auc: 0.9419 - val_loss: 0.1822 - val_auc: 0.9247\n",
      "Epoch 18/75\n",
      "80/80 [==============================] - 298s 4s/step - loss: 0.1665 - auc: 0.9439 - val_loss: 0.1788 - val_auc: 0.9266\n",
      "Epoch 19/75\n",
      "80/80 [==============================] - 298s 4s/step - loss: 0.1649 - auc: 0.9457 - val_loss: 0.1792 - val_auc: 0.9262\n",
      "Epoch 20/75\n",
      "80/80 [==============================] - 296s 4s/step - loss: 0.1623 - auc: 0.9466 - val_loss: 0.1759 - val_auc: 0.9285\n",
      "Epoch 21/75\n",
      "80/80 [==============================] - 296s 4s/step - loss: 0.1592 - auc: 0.9517 - val_loss: 0.1742 - val_auc: 0.9283\n",
      "Epoch 22/75\n",
      "80/80 [==============================] - 299s 4s/step - loss: 0.1556 - auc: 0.9532 - val_loss: 0.1766 - val_auc: 0.9282\n",
      "Epoch 23/75\n",
      "80/80 [==============================] - 304s 4s/step - loss: 0.1547 - auc: 0.9543 - val_loss: 0.1748 - val_auc: 0.9300\n",
      "Epoch 24/75\n",
      "80/80 [==============================] - 300s 4s/step - loss: 0.1548 - auc: 0.9523 - val_loss: 0.1750 - val_auc: 0.9272\n",
      "Epoch 25/75\n",
      "80/80 [==============================] - 304s 4s/step - loss: 0.1498 - auc: 0.9586 - val_loss: 0.1717 - val_auc: 0.9311\n",
      "Epoch 26/75\n",
      "80/80 [==============================] - 304s 4s/step - loss: 0.1475 - auc: 0.9587 - val_loss: 0.1732 - val_auc: 0.9333\n",
      "Epoch 27/75\n",
      "80/80 [==============================] - 304s 4s/step - loss: 0.1448 - auc: 0.9614 - val_loss: 0.1723 - val_auc: 0.9323\n",
      "Epoch 28/75\n",
      "80/80 [==============================] - 301s 4s/step - loss: 0.1434 - auc: 0.9618 - val_loss: 0.1712 - val_auc: 0.9331\n",
      "Epoch 29/75\n",
      "80/80 [==============================] - 299s 4s/step - loss: 0.1403 - auc: 0.9640 - val_loss: 0.1694 - val_auc: 0.9314\n",
      "Epoch 30/75\n",
      "80/80 [==============================] - 296s 4s/step - loss: 0.1386 - auc: 0.9652 - val_loss: 0.1673 - val_auc: 0.9338\n",
      "Epoch 31/75\n",
      "80/80 [==============================] - 294s 4s/step - loss: 0.1365 - auc: 0.9665 - val_loss: 0.1691 - val_auc: 0.9355\n",
      "Epoch 32/75\n",
      "80/80 [==============================] - 299s 4s/step - loss: 0.1366 - auc: 0.9665 - val_loss: 0.1707 - val_auc: 0.9345\n",
      "Epoch 33/75\n",
      "80/80 [==============================] - 301s 4s/step - loss: 0.1341 - auc: 0.9675 - val_loss: 0.1652 - val_auc: 0.9368\n",
      "Epoch 34/75\n",
      "80/80 [==============================] - 308s 4s/step - loss: 0.1314 - auc: 0.9690 - val_loss: 0.1651 - val_auc: 0.9353\n",
      "Epoch 35/75\n",
      "80/80 [==============================] - 307s 4s/step - loss: 0.1289 - auc: 0.9707 - val_loss: 0.1663 - val_auc: 0.9384\n",
      "Epoch 36/75\n",
      "80/80 [==============================] - 306s 4s/step - loss: 0.1287 - auc: 0.9710 - val_loss: 0.1642 - val_auc: 0.9369\n",
      "Epoch 37/75\n",
      "80/80 [==============================] - 310s 4s/step - loss: 0.1269 - auc: 0.9718 - val_loss: 0.1655 - val_auc: 0.9359\n",
      "Epoch 38/75\n",
      "80/80 [==============================] - 300s 4s/step - loss: 0.1254 - auc: 0.9724 - val_loss: 0.1701 - val_auc: 0.9298\n",
      "Epoch 39/75\n",
      "80/80 [==============================] - 298s 4s/step - loss: 0.1224 - auc: 0.9737 - val_loss: 0.1639 - val_auc: 0.9373\n",
      "Epoch 40/75\n",
      "80/80 [==============================] - 298s 4s/step - loss: 0.1203 - auc: 0.9755 - val_loss: 0.1625 - val_auc: 0.9393\n",
      "Epoch 41/75\n",
      "80/80 [==============================] - 298s 4s/step - loss: 0.1177 - auc: 0.9767 - val_loss: 0.1625 - val_auc: 0.9376\n",
      "Epoch 42/75\n",
      "80/80 [==============================] - 302s 4s/step - loss: 0.1173 - auc: 0.9766 - val_loss: 0.1632 - val_auc: 0.9382\n",
      "Epoch 43/75\n",
      "80/80 [==============================] - 290s 4s/step - loss: 0.1152 - auc: 0.9776 - val_loss: 0.1624 - val_auc: 0.9410\n",
      "Epoch 44/75\n",
      "80/80 [==============================] - 296s 4s/step - loss: 0.1138 - auc: 0.9784 - val_loss: 0.1619 - val_auc: 0.9393\n",
      "Epoch 45/75\n",
      "80/80 [==============================] - 294s 4s/step - loss: 0.1126 - auc: 0.9787 - val_loss: 0.1609 - val_auc: 0.9408\n",
      "Epoch 46/75\n",
      "80/80 [==============================] - 297s 4s/step - loss: 0.1103 - auc: 0.9794 - val_loss: 0.1606 - val_auc: 0.9370\n",
      "Epoch 47/75\n",
      "80/80 [==============================] - 294s 4s/step - loss: 0.1099 - auc: 0.9799 - val_loss: 0.1592 - val_auc: 0.9376\n",
      "Epoch 48/75\n",
      "80/80 [==============================] - 299s 4s/step - loss: 0.1078 - auc: 0.9806 - val_loss: 0.1591 - val_auc: 0.9387\n",
      "Epoch 49/75\n",
      "80/80 [==============================] - 289s 4s/step - loss: 0.1055 - auc: 0.9823 - val_loss: 0.1620 - val_auc: 0.9388\n",
      "Epoch 50/75\n",
      "80/80 [==============================] - 296s 4s/step - loss: 0.1053 - auc: 0.9817 - val_loss: 0.1638 - val_auc: 0.9390\n",
      "Epoch 51/75\n",
      "80/80 [==============================] - 292s 4s/step - loss: 0.1027 - auc: 0.9819 - val_loss: 0.1594 - val_auc: 0.9394\n",
      "Epoch 52/75\n",
      "80/80 [==============================] - 300s 4s/step - loss: 0.1020 - auc: 0.9829 - val_loss: 0.1610 - val_auc: 0.9399\n",
      "Epoch 53/75\n",
      "80/80 [==============================] - 295s 4s/step - loss: 0.1003 - auc: 0.9838 - val_loss: 0.1593 - val_auc: 0.9407\n",
      "Epoch 54/75\n",
      "80/80 [==============================] - 293s 4s/step - loss: 0.0994 - auc: 0.9840 - val_loss: 0.1629 - val_auc: 0.9400\n",
      "Epoch 55/75\n",
      "80/80 [==============================] - 293s 4s/step - loss: 0.0971 - auc: 0.9845 - val_loss: 0.1659 - val_auc: 0.9396\n",
      "Epoch 56/75\n",
      "80/80 [==============================] - 296s 4s/step - loss: 0.0957 - auc: 0.9855 - val_loss: 0.1607 - val_auc: 0.9411\n",
      "Epoch 57/75\n",
      "80/80 [==============================] - 289s 4s/step - loss: 0.0942 - auc: 0.9858 - val_loss: 0.1583 - val_auc: 0.9422\n",
      "Epoch 58/75\n",
      "80/80 [==============================] - 301s 4s/step - loss: 0.0930 - auc: 0.9856 - val_loss: 0.1583 - val_auc: 0.9431\n",
      "Epoch 59/75\n",
      "80/80 [==============================] - 296s 4s/step - loss: 0.0923 - auc: 0.9864 - val_loss: 0.1593 - val_auc: 0.9426\n",
      "Epoch 60/75\n",
      "80/80 [==============================] - 306s 4s/step - loss: 0.0906 - auc: 0.9859 - val_loss: 0.1585 - val_auc: 0.9433\n",
      "Epoch 61/75\n",
      "80/80 [==============================] - 288s 4s/step - loss: 0.0897 - auc: 0.9868 - val_loss: 0.1591 - val_auc: 0.9427\n",
      "Epoch 62/75\n",
      "80/80 [==============================] - 295s 4s/step - loss: 0.0884 - auc: 0.9873 - val_loss: 0.1629 - val_auc: 0.9430\n",
      "Epoch 63/75\n",
      "80/80 [==============================] - 334s 4s/step - loss: 0.0869 - auc: 0.9880 - val_loss: 0.1595 - val_auc: 0.9438\n",
      "Epoch 64/75\n",
      "80/80 [==============================] - 291s 4s/step - loss: 0.0858 - auc: 0.9877 - val_loss: 0.1604 - val_auc: 0.9431\n",
      "Epoch 65/75\n",
      "80/80 [==============================] - 288s 4s/step - loss: 0.0857 - auc: 0.9871 - val_loss: 0.1592 - val_auc: 0.9446\n",
      "Epoch 66/75\n",
      "80/80 [==============================] - 300s 4s/step - loss: 0.0837 - auc: 0.9889 - val_loss: 0.1606 - val_auc: 0.9441\n",
      "Epoch 67/75\n",
      "80/80 [==============================] - 298s 4s/step - loss: 0.0821 - auc: 0.9887 - val_loss: 0.1629 - val_auc: 0.9430\n"
     ]
    }
   ],
   "source": [
    "es = EarlyStopping(monitor = 'val_loss', patience = 10, restore_best_weights = True  )\n",
    "history = model.fit(train_data_generator, epochs=num_epochs, validation_data=val_data_generator, callbacks=[es],verbose = 1)"
   ]
  },
  {
   "cell_type": "code",
   "execution_count": 14,
   "id": "26ac0fbe",
   "metadata": {
    "execution": {
     "iopub.execute_input": "2023-07-15T23:41:48.790618Z",
     "iopub.status.busy": "2023-07-15T23:41:48.790183Z",
     "iopub.status.idle": "2023-07-15T23:41:48.926960Z",
     "shell.execute_reply": "2023-07-15T23:41:48.926002Z"
    },
    "papermill": {
     "duration": 0.642045,
     "end_time": "2023-07-15T23:41:48.929368",
     "exception": false,
     "start_time": "2023-07-15T23:41:48.287323",
     "status": "completed"
    },
    "tags": []
   },
   "outputs": [],
   "source": [
    "model.save(\"model_CNN.keras\")"
   ]
  },
  {
   "cell_type": "markdown",
   "id": "6acb7a72",
   "metadata": {
    "papermill": {
     "duration": 0.419553,
     "end_time": "2023-07-15T23:41:49.764102",
     "exception": false,
     "start_time": "2023-07-15T23:41:49.344549",
     "status": "completed"
    },
    "tags": []
   },
   "source": [
    "## 5. Performance \n",
    "<ul>\n",
    "<li>train and validation losses</li>\n",
    "</ul>"
   ]
  },
  {
   "cell_type": "code",
   "execution_count": 15,
   "id": "0cc7c095",
   "metadata": {
    "execution": {
     "iopub.execute_input": "2023-07-15T23:41:50.606285Z",
     "iopub.status.busy": "2023-07-15T23:41:50.605911Z",
     "iopub.status.idle": "2023-07-15T23:42:11.706922Z",
     "shell.execute_reply": "2023-07-15T23:42:11.705955Z"
    },
    "papermill": {
     "duration": 21.523498,
     "end_time": "2023-07-15T23:42:11.709321",
     "exception": false,
     "start_time": "2023-07-15T23:41:50.185823",
     "status": "completed"
    },
    "tags": []
   },
   "outputs": [
    {
     "data": {
      "image/png": "[encoded data removed]",
      "text/plain": [
       "<Figure size 640x480 with 1 Axes>"
      ]
     },
     "metadata": {},
     "output_type": "display_data"
    }
   ],
   "source": [
    "train_loss = history.history['loss']\n",
    "val_loss = history.history['val_loss']\n",
    "epochs = range(1, len(train_loss) + 1)\n",
    "\n",
    "plt.plot(epochs, train_loss, 'b', label='Training Loss')\n",
    "plt.plot(epochs, val_loss, 'r', label='Validation Loss')\n",
    "plt.title('Training and Validation Loss')\n",
    "plt.xlabel('Epochs')\n",
    "plt.ylabel('Loss')\n",
    "plt.legend()\n",
    "plt.show()\n",
    "\n"
   ]
  },
  {
   "cell_type": "code",
   "execution_count": 16,
   "id": "5445cabf",
   "metadata": {
    "execution": {
     "iopub.execute_input": "2023-07-15T23:42:12.554613Z",
     "iopub.status.busy": "2023-07-15T23:42:12.554257Z",
     "iopub.status.idle": "2023-07-15T23:46:32.132938Z",
     "shell.execute_reply": "2023-07-15T23:46:32.128205Z"
    },
    "papermill": {
     "duration": 260.007342,
     "end_time": "2023-07-15T23:46:32.136960",
     "exception": false,
     "start_time": "2023-07-15T23:42:12.129618",
     "status": "completed"
    },
    "tags": []
   },
   "outputs": [],
   "source": [
    "y_pred = model.predict(DataGenerator(range(809),1), verbose = 0)"
   ]
  },
  {
   "cell_type": "markdown",
   "id": "547e1a84",
   "metadata": {
    "papermill": {
     "duration": 0.476347,
     "end_time": "2023-07-15T23:46:33.028131",
     "exception": false,
     "start_time": "2023-07-15T23:46:32.551784",
     "status": "completed"
    },
    "tags": []
   },
   "source": [
    "### Classification Reports"
   ]
  },
  {
   "cell_type": "code",
   "execution_count": 17,
   "id": "08d856d3",
   "metadata": {
    "execution": {
     "iopub.execute_input": "2023-07-15T23:46:33.869092Z",
     "iopub.status.busy": "2023-07-15T23:46:33.868057Z",
     "iopub.status.idle": "2023-07-15T23:46:33.995362Z",
     "shell.execute_reply": "2023-07-15T23:46:33.994262Z"
    },
    "papermill": {
     "duration": 0.551065,
     "end_time": "2023-07-15T23:46:33.998757",
     "exception": false,
     "start_time": "2023-07-15T23:46:33.447692",
     "status": "completed"
    },
    "tags": []
   },
   "outputs": [
    {
     "name": "stdout",
     "output_type": "stream",
     "text": [
      "aromatic\n",
      "              precision    recall  f1-score   support\n",
      "\n",
      "           0       0.96      1.00      0.98       730\n",
      "           1       0.98      0.62      0.76        79\n",
      "\n",
      "    accuracy                           0.96       809\n",
      "   macro avg       0.97      0.81      0.87       809\n",
      "weighted avg       0.96      0.96      0.96       809\n",
      "\n",
      "roc_auc_score : 0.9710074562164037\n",
      "log loss      : 0.11291854203746447\n",
      "-------------------------------------------------------------\n",
      "hydrocarbon\n",
      "              precision    recall  f1-score   support\n",
      "\n",
      "           0       0.95      0.97      0.96       544\n",
      "           1       0.94      0.89      0.91       265\n",
      "\n",
      "    accuracy                           0.95       809\n",
      "   macro avg       0.95      0.93      0.94       809\n",
      "weighted avg       0.95      0.95      0.95       809\n",
      "\n",
      "roc_auc_score : 0.975430077691454\n",
      "log loss      : 0.1813297647271926\n",
      "-------------------------------------------------------------\n",
      "carboxylic_acid\n",
      "              precision    recall  f1-score   support\n",
      "\n",
      "           0       0.95      0.98      0.96       694\n",
      "           1       0.86      0.68      0.76       115\n",
      "\n",
      "    accuracy                           0.94       809\n",
      "   macro avg       0.90      0.83      0.86       809\n",
      "weighted avg       0.94      0.94      0.94       809\n",
      "\n",
      "roc_auc_score : 0.9765944117278536\n",
      "log loss      : 0.13768037978545786\n",
      "-------------------------------------------------------------\n",
      "nitrogen_bearing_compound\n",
      "              precision    recall  f1-score   support\n",
      "\n",
      "           0       0.97      0.98      0.97       713\n",
      "           1       0.83      0.76      0.79        96\n",
      "\n",
      "    accuracy                           0.95       809\n",
      "   macro avg       0.90      0.87      0.88       809\n",
      "weighted avg       0.95      0.95      0.95       809\n",
      "\n",
      "roc_auc_score : 0.9836079943899018\n",
      "log loss      : 0.11460495459902363\n",
      "-------------------------------------------------------------\n",
      "chlorine_bearing_compound\n",
      "              precision    recall  f1-score   support\n",
      "\n",
      "           0       0.99      1.00      0.99       791\n",
      "           1       1.00      0.39      0.56        18\n",
      "\n",
      "    accuracy                           0.99       809\n",
      "   macro avg       0.99      0.69      0.78       809\n",
      "weighted avg       0.99      0.99      0.98       809\n",
      "\n",
      "roc_auc_score : 0.9867256637168141\n",
      "log loss      : 0.038081784311483194\n",
      "-------------------------------------------------------------\n",
      "sulfur_bearing_compound\n",
      "              precision    recall  f1-score   support\n",
      "\n",
      "           0       0.98      1.00      0.99       778\n",
      "           1       0.94      0.48      0.64        31\n",
      "\n",
      "    accuracy                           0.98       809\n",
      "   macro avg       0.96      0.74      0.81       809\n",
      "weighted avg       0.98      0.98      0.98       809\n",
      "\n",
      "roc_auc_score : 0.9922464549299278\n",
      "log loss      : 0.05399721149500923\n",
      "-------------------------------------------------------------\n",
      "alcohol\n",
      "              precision    recall  f1-score   support\n",
      "\n",
      "           0       0.98      1.00      0.99       783\n",
      "           1       0.78      0.27      0.40        26\n",
      "\n",
      "    accuracy                           0.97       809\n",
      "   macro avg       0.88      0.63      0.69       809\n",
      "weighted avg       0.97      0.97      0.97       809\n",
      "\n",
      "roc_auc_score : 0.9737204047548875\n",
      "log loss      : 0.06937154990958924\n",
      "-------------------------------------------------------------\n",
      "other_oxygen_bearing_compound\n",
      "              precision    recall  f1-score   support\n",
      "\n",
      "           0       0.98      1.00      0.99       788\n",
      "           1       1.00      0.43      0.60        21\n",
      "\n",
      "    accuracy                           0.99       809\n",
      "   macro avg       0.99      0.71      0.80       809\n",
      "weighted avg       0.99      0.99      0.98       809\n",
      "\n",
      "roc_auc_score : 0.9813270485859318\n",
      "log loss      : 0.0488763527271232\n",
      "-------------------------------------------------------------\n",
      "mineral\n",
      "              precision    recall  f1-score   support\n",
      "\n",
      "           0       0.94      0.97      0.96       692\n",
      "           1       0.78      0.66      0.71       117\n",
      "\n",
      "    accuracy                           0.92       809\n",
      "   macro avg       0.86      0.81      0.83       809\n",
      "weighted avg       0.92      0.92      0.92       809\n",
      "\n",
      "roc_auc_score : 0.9569314757176028\n",
      "log loss      : 0.18079450912577602\n",
      "-------------------------------------------------------------\n"
     ]
    }
   ],
   "source": [
    "for i in range(9):\n",
    "    y_true_column = train_labels.iloc[:, i+1].values\n",
    "    y_pred_column = y_pred[:, i].round()\n",
    "    \n",
    "    report = classification_report(y_true_column, y_pred_column)\n",
    "    print(f\"{label_names[i]}\")\n",
    "    print(report)\n",
    "    print(f\"roc_auc_score : {roc_auc_score(y_true_column, y_pred[:, i])}\")\n",
    "    print(f\"log loss      : {log_loss(y_true_column, y_pred[:, i])}\")\n",
    "    \n",
    "    print(\"-------------------------------------------------------------\")\n"
   ]
  },
  {
   "cell_type": "code",
   "execution_count": null,
   "id": "8012c002",
   "metadata": {
    "papermill": {
     "duration": 0.420785,
     "end_time": "2023-07-15T23:46:34.921288",
     "exception": false,
     "start_time": "2023-07-15T23:46:34.500503",
     "status": "completed"
    },
    "tags": []
   },
   "outputs": [],
   "source": []
  }
 ],
 "metadata": {
  "kernelspec": {
   "display_name": "Python 3",
   "language": "python",
   "name": "python3"
  },
  "language_info": {
   "codemirror_mode": {
    "name": "ipython",
    "version": 3
   },
   "file_extension": ".py",
   "mimetype": "text/x-python",
   "name": "python",
   "nbconvert_exporter": "python",
   "pygments_lexer": "ipython3",
   "version": "3.10.10"
  },
  "papermill": {
   "default_parameters": {},
   "duration": 20992.937343,
   "end_time": "2023-07-15T23:46:38.904226",
   "environment_variables": {},
   "exception": null,
   "input_path": "__notebook__.ipynb",
   "output_path": "__notebook__.ipynb",
   "parameters": {},
   "start_time": "2023-07-15T17:56:45.966883",
   "version": "2.4.0"
  }
 },
 "nbformat": 4,
 "nbformat_minor": 5
}
