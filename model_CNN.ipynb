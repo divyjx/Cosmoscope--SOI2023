{
 "cells": [
  {
   "cell_type": "markdown",
   "id": "dc1bc16d",
   "metadata": {
    "papermill": {
     "duration": 0.006544,
     "end_time": "2023-07-15T11:46:14.849413",
     "exception": false,
     "start_time": "2023-07-15T11:46:14.842869",
     "status": "completed"
    },
    "tags": []
   },
   "source": [
    "## 1. Data Description \n",
    "<ul> \n",
    "<li>there are 809 training examples</li>\n",
    "<li>each of them is a dataframe with time, mass , and intensity values</li>\n",
    "<li>dataframe lenghts are variable</li>\n",
    "</ul>\n"
   ]
  },
  {
   "cell_type": "code",
   "execution_count": 1,
   "id": "cae016cb",
   "metadata": {
    "execution": {
     "iopub.execute_input": "2023-07-15T11:46:14.863491Z",
     "iopub.status.busy": "2023-07-15T11:46:14.863034Z",
     "iopub.status.idle": "2023-07-15T11:46:23.830708Z",
     "shell.execute_reply": "2023-07-15T11:46:23.829718Z"
    },
    "papermill": {
     "duration": 8.977979,
     "end_time": "2023-07-15T11:46:23.833455",
     "exception": false,
     "start_time": "2023-07-15T11:46:14.855476",
     "status": "completed"
    },
    "tags": []
   },
   "outputs": [],
   "source": [
    "import warnings \n",
    "warnings.filterwarnings('ignore')\n",
    "\n",
    "# for processing numbers and files csv\n",
    "import pandas as pd\n",
    "import numpy as np\n",
    "\n",
    "# for visualization\n",
    "import matplotlib.pyplot as plt\n",
    "%matplotlib inline\n",
    "\n",
    "# preprocessing \n",
    "from sklearn.preprocessing import MinMaxScaler\n",
    "from sklearn.model_selection import train_test_split\n",
    "from sklearn.metrics import classification_report, roc_auc_score, log_loss\n",
    "\n",
    "# model related\n",
    "from tensorflow.keras.callbacks import EarlyStopping\n",
    "from tensorflow.keras.utils import Sequence\n",
    "from tensorflow.keras.models import Sequential\n",
    "from tensorflow.keras.layers import Conv2D, MaxPooling2D, Flatten, Dense\n",
    "\n",
    "import tensorflow as tf\n"
   ]
  },
  {
   "cell_type": "code",
   "execution_count": 2,
   "id": "4992435b",
   "metadata": {
    "execution": {
     "iopub.execute_input": "2023-07-15T11:46:23.847945Z",
     "iopub.status.busy": "2023-07-15T11:46:23.847337Z",
     "iopub.status.idle": "2023-07-15T11:46:23.852232Z",
     "shell.execute_reply": "2023-07-15T11:46:23.851159Z"
    },
    "papermill": {
     "duration": 0.014123,
     "end_time": "2023-07-15T11:46:23.854605",
     "exception": false,
     "start_time": "2023-07-15T11:46:23.840482",
     "status": "completed"
    },
    "tags": []
   },
   "outputs": [],
   "source": [
    "#for gpu\n",
    "\n",
    "# gpus = tf.config.experimental.list_physical_devices('GPU')\n",
    "# for gpu in gpus:\n",
    "#     print(\"Name:\", gpu.name, \"  Type:\", gpu.device_type)\n",
    "\n",
    "# from tensorflow.python.client import device_lib\n",
    "\n",
    "# print(device_lib.list_local_devices())\n",
    "\n",
    "# tf.test.is_gpu_available()"
   ]
  },
  {
   "cell_type": "code",
   "execution_count": 3,
   "id": "0b89ec01",
   "metadata": {
    "execution": {
     "iopub.execute_input": "2023-07-15T11:46:23.867993Z",
     "iopub.status.busy": "2023-07-15T11:46:23.867124Z",
     "iopub.status.idle": "2023-07-15T11:46:23.871809Z",
     "shell.execute_reply": "2023-07-15T11:46:23.870985Z"
    },
    "papermill": {
     "duration": 0.013325,
     "end_time": "2023-07-15T11:46:23.873761",
     "exception": false,
     "start_time": "2023-07-15T11:46:23.860436",
     "status": "completed"
    },
    "tags": []
   },
   "outputs": [],
   "source": [
    "# for working in kaggle use this paths\n",
    "kag_path_in = \"/kaggle/input/mars-spec-train/\"\n",
    "kag_path_out = \"/kaggle/working/\"\n",
    "\n",
    "# add custom paths here (uncomment)\n",
    "# kag_path_in = \"\"\n",
    "# kag_path_out = \"\""
   ]
  },
  {
   "cell_type": "code",
   "execution_count": 4,
   "id": "b5aba34b",
   "metadata": {
    "execution": {
     "iopub.execute_input": "2023-07-15T11:46:23.886801Z",
     "iopub.status.busy": "2023-07-15T11:46:23.886053Z",
     "iopub.status.idle": "2023-07-15T11:46:23.928061Z",
     "shell.execute_reply": "2023-07-15T11:46:23.927231Z"
    },
    "papermill": {
     "duration": 0.050668,
     "end_time": "2023-07-15T11:46:23.930178",
     "exception": false,
     "start_time": "2023-07-15T11:46:23.879510",
     "status": "completed"
    },
    "tags": []
   },
   "outputs": [],
   "source": [
    "# metadata = pd.read_csv('/kaggle/input/mars-spec-train/metadata.csv').fillna(0)\n",
    "# train_labels = pd.read_csv('/kaggle/input/mars-spec-train/train_labels.csv')\n",
    "metadata = pd.read_csv(kag_path_in+'metadata.csv').fillna(0)\n",
    "train_labels = pd.read_csv(kag_path_in+'train_labels.csv')"
   ]
  },
  {
   "cell_type": "markdown",
   "id": "6f264856",
   "metadata": {
    "papermill": {
     "duration": 0.005623,
     "end_time": "2023-07-15T11:46:23.941709",
     "exception": false,
     "start_time": "2023-07-15T11:46:23.936086",
     "status": "completed"
    },
    "tags": []
   },
   "source": [
    "## 2. Preprocessing and Feature extraction\n",
    "<ul>\n",
    "<li>mass values are grouped into values seperated by 0.50 </li>\n",
    "<li>time values are grouped into values seperated by 0.02 </li>\n",
    "<li>Time * Mass matrix (2700,1400) with Intensity values </li>\n",
    "</ul>"
   ]
  },
  {
   "cell_type": "code",
   "execution_count": 5,
   "id": "8eaafb57",
   "metadata": {
    "execution": {
     "iopub.execute_input": "2023-07-15T11:46:23.955869Z",
     "iopub.status.busy": "2023-07-15T11:46:23.954362Z",
     "iopub.status.idle": "2023-07-15T11:46:23.959543Z",
     "shell.execute_reply": "2023-07-15T11:46:23.958695Z"
    },
    "papermill": {
     "duration": 0.01396,
     "end_time": "2023-07-15T11:46:23.961462",
     "exception": false,
     "start_time": "2023-07-15T11:46:23.947502",
     "status": "completed"
    },
    "tags": []
   },
   "outputs": [],
   "source": [
    "# constants\n",
    "num_mass_values = 1400\n",
    "num_time_values = 2700\n",
    "matrix_shape = (num_time_values, num_mass_values)"
   ]
  },
  {
   "cell_type": "code",
   "execution_count": 6,
   "id": "34c02e60",
   "metadata": {
    "execution": {
     "iopub.execute_input": "2023-07-15T11:46:23.974646Z",
     "iopub.status.busy": "2023-07-15T11:46:23.973858Z",
     "iopub.status.idle": "2023-07-15T11:46:23.981539Z",
     "shell.execute_reply": "2023-07-15T11:46:23.980713Z"
    },
    "papermill": {
     "duration": 0.016195,
     "end_time": "2023-07-15T11:46:23.983444",
     "exception": false,
     "start_time": "2023-07-15T11:46:23.967249",
     "status": "completed"
    },
    "tags": []
   },
   "outputs": [],
   "source": [
    "\n",
    "# Function to create the Time X Mass matrix for a single data sample\n",
    "def create_matrix(id):\n",
    "    \n",
    "    sample_id, split, derivate, path, _ = metadata.iloc[id]\n",
    "    data = pd.read_csv(kag_path_in+path)\n",
    "\n",
    "    label = None\n",
    "    if (split == 'train'):\n",
    "        label = train_labels.iloc[id].values[1:]\n",
    "\n",
    "    # discretization of time and mass\n",
    "    data.time = (data.time*50).round()\n",
    "    data.mass = (data.mass*2).round()\n",
    "    data.time = data.time.astype(int)\n",
    "    data.mass = data.mass.astype(int)\n",
    "    \n",
    "    # scaling intensity\n",
    "    data.intensity = MinMaxScaler().fit_transform(data.intensity.values.reshape(-1, 1))\n",
    "    \n",
    "    # filling matrix\n",
    "    matrix = np.zeros(matrix_shape)\n",
    "    matrix[data['time'],data['mass']] = data['intensity']\n",
    "\n",
    "    return matrix , label\n"
   ]
  },
  {
   "cell_type": "markdown",
   "id": "97be9ea2",
   "metadata": {
    "papermill": {
     "duration": 0.005551,
     "end_time": "2023-07-15T11:46:23.994871",
     "exception": false,
     "start_time": "2023-07-15T11:46:23.989320",
     "status": "completed"
    },
    "tags": []
   },
   "source": [
    "## 3. Data Generation\n",
    "<ul>\n",
    "<li>Storing data matrix is costly</li>\n",
    "<li>data is generated in batches</li>\n",
    "</ul>\n"
   ]
  },
  {
   "cell_type": "code",
   "execution_count": 7,
   "id": "1841e488",
   "metadata": {
    "execution": {
     "iopub.execute_input": "2023-07-15T11:46:24.008232Z",
     "iopub.status.busy": "2023-07-15T11:46:24.007360Z",
     "iopub.status.idle": "2023-07-15T11:46:24.013009Z",
     "shell.execute_reply": "2023-07-15T11:46:24.012174Z"
    },
    "papermill": {
     "duration": 0.014245,
     "end_time": "2023-07-15T11:46:24.014987",
     "exception": false,
     "start_time": "2023-07-15T11:46:24.000742",
     "status": "completed"
    },
    "tags": []
   },
   "outputs": [],
   "source": [
    "training_data = range(809)  \n",
    "train_data, val_data = train_test_split(training_data, test_size=0.2, random_state=42)\n"
   ]
  },
  {
   "cell_type": "code",
   "execution_count": 8,
   "id": "43063c08",
   "metadata": {
    "execution": {
     "iopub.execute_input": "2023-07-15T11:46:24.028248Z",
     "iopub.status.busy": "2023-07-15T11:46:24.027477Z",
     "iopub.status.idle": "2023-07-15T11:46:24.037170Z",
     "shell.execute_reply": "2023-07-15T11:46:24.036236Z"
    },
    "papermill": {
     "duration": 0.018397,
     "end_time": "2023-07-15T11:46:24.039147",
     "exception": false,
     "start_time": "2023-07-15T11:46:24.020750",
     "status": "completed"
    },
    "tags": []
   },
   "outputs": [],
   "source": [
    "class DataGenerator(Sequence):\n",
    "    def __init__(self, data, batch_size):\n",
    "        self.data = data\n",
    "        self.batch_size = batch_size\n",
    "    def __len__(self):\n",
    "        return len(self.data) // self.batch_size\n",
    "\n",
    "    def __getitem__(self, idx):        \n",
    "        \n",
    "        low = idx * self.batch_size\n",
    "        high = min(low + self.batch_size, len(self.data))\n",
    "        batch_x = []\n",
    "        batch_y = []\n",
    "\n",
    "        for i,data_sample in enumerate(self.data[low:high]):\n",
    "            processed_sample, processed_label = self.preprocess_data(data_sample)\n",
    "            batch_x.append(processed_sample)\n",
    "            batch_y.append(processed_label)\n",
    "        return np.array(batch_x), np.array(batch_y)\n",
    "\n",
    "    def preprocess_data(self, data_sample):\n",
    "        matrix, label = create_matrix(data_sample)\n",
    "        if type(label) == np.ndarray:\n",
    "            label = np.array(label).astype(int)\n",
    "        return matrix , label\n"
   ]
  },
  {
   "cell_type": "code",
   "execution_count": 9,
   "id": "a7645b86",
   "metadata": {
    "execution": {
     "iopub.execute_input": "2023-07-15T11:46:24.052582Z",
     "iopub.status.busy": "2023-07-15T11:46:24.051768Z",
     "iopub.status.idle": "2023-07-15T11:46:24.745426Z",
     "shell.execute_reply": "2023-07-15T11:46:24.744462Z"
    },
    "papermill": {
     "duration": 0.702657,
     "end_time": "2023-07-15T11:46:24.747741",
     "exception": false,
     "start_time": "2023-07-15T11:46:24.045084",
     "status": "completed"
    },
    "tags": []
   },
   "outputs": [
    {
     "data": {
      "text/plain": [
       "(array([[[0., 0., 0., ..., 0., 0., 0.],\n",
       "         [0., 0., 0., ..., 0., 0., 0.],\n",
       "         [0., 0., 0., ..., 0., 0., 0.],\n",
       "         ...,\n",
       "         [0., 0., 0., ..., 0., 0., 0.],\n",
       "         [0., 0., 0., ..., 0., 0., 0.],\n",
       "         [0., 0., 0., ..., 0., 0., 0.]],\n",
       " \n",
       "        [[0., 0., 0., ..., 0., 0., 0.],\n",
       "         [0., 0., 0., ..., 0., 0., 0.],\n",
       "         [0., 0., 0., ..., 0., 0., 0.],\n",
       "         ...,\n",
       "         [0., 0., 0., ..., 0., 0., 0.],\n",
       "         [0., 0., 0., ..., 0., 0., 0.],\n",
       "         [0., 0., 0., ..., 0., 0., 0.]]]),\n",
       " array([[0, 0, 0, 0, 0, 0, 0, 0, 0],\n",
       "        [1, 0, 1, 1, 0, 1, 1, 0, 0]]))"
      ]
     },
     "execution_count": 9,
     "metadata": {},
     "output_type": "execute_result"
    }
   ],
   "source": [
    "a = DataGenerator([2,1,32,13,132,122,90,91,7,9],4)\n",
    "a[2]"
   ]
  },
  {
   "cell_type": "markdown",
   "id": "8069dbf6",
   "metadata": {
    "papermill": {
     "duration": 0.006065,
     "end_time": "2023-07-15T11:46:24.760303",
     "exception": false,
     "start_time": "2023-07-15T11:46:24.754238",
     "status": "completed"
    },
    "tags": []
   },
   "source": [
    "## 4. Model\n",
    "<ul>\n",
    "<li>convolutional layers </li>\n",
    "<li>pooling layers (max pooling) </li>\n",
    "<li>fully connected layers</li>\n",
    "<li>sigmoid layer</li>\n",
    "<li>output positive label probability</li>\n",
    "</ul>"
   ]
  },
  {
   "cell_type": "code",
   "execution_count": 10,
   "id": "ee378d37",
   "metadata": {
    "execution": {
     "iopub.execute_input": "2023-07-15T11:46:24.773964Z",
     "iopub.status.busy": "2023-07-15T11:46:24.773293Z",
     "iopub.status.idle": "2023-07-15T11:46:24.777644Z",
     "shell.execute_reply": "2023-07-15T11:46:24.776761Z"
    },
    "papermill": {
     "duration": 0.013347,
     "end_time": "2023-07-15T11:46:24.779638",
     "exception": false,
     "start_time": "2023-07-15T11:46:24.766291",
     "status": "completed"
    },
    "tags": []
   },
   "outputs": [],
   "source": [
    "label_names = [col for col in train_labels.columns[1:]]"
   ]
  },
  {
   "cell_type": "code",
   "execution_count": 11,
   "id": "c4646b4a",
   "metadata": {
    "execution": {
     "iopub.execute_input": "2023-07-15T11:46:24.792677Z",
     "iopub.status.busy": "2023-07-15T11:46:24.792415Z",
     "iopub.status.idle": "2023-07-15T11:46:24.796613Z",
     "shell.execute_reply": "2023-07-15T11:46:24.795676Z"
    },
    "papermill": {
     "duration": 0.013017,
     "end_time": "2023-07-15T11:46:24.798524",
     "exception": false,
     "start_time": "2023-07-15T11:46:24.785507",
     "status": "completed"
    },
    "tags": []
   },
   "outputs": [],
   "source": [
    "# contants\n",
    "batch_size = 8\n",
    "num_epochs = 75\n",
    "model = None\n",
    "history = None"
   ]
  },
  {
   "cell_type": "code",
   "execution_count": 12,
   "id": "513550cc",
   "metadata": {
    "execution": {
     "iopub.execute_input": "2023-07-15T11:46:24.811960Z",
     "iopub.status.busy": "2023-07-15T11:46:24.811242Z",
     "iopub.status.idle": "2023-07-15T11:46:27.961981Z",
     "shell.execute_reply": "2023-07-15T11:46:27.961241Z"
    },
    "papermill": {
     "duration": 3.168343,
     "end_time": "2023-07-15T11:46:27.972769",
     "exception": false,
     "start_time": "2023-07-15T11:46:24.804426",
     "status": "completed"
    },
    "tags": []
   },
   "outputs": [
    {
     "name": "stdout",
     "output_type": "stream",
     "text": [
      "Model: \"sequential\"\n",
      "_________________________________________________________________\n",
      " Layer (type)                Output Shape              Param #   \n",
      "=================================================================\n",
      " conv2d (Conv2D)             (None, 2700, 1400, 8)     208       \n",
      "                                                                 \n",
      " max_pooling2d (MaxPooling2D  (None, 3, 700, 8)        0         \n",
      " )                                                               \n",
      "                                                                 \n",
      " flatten (Flatten)           (None, 16800)             0         \n",
      "                                                                 \n",
      " dense (Dense)               (None, 64)                1075264   \n",
      "                                                                 \n",
      " dense_1 (Dense)             (None, 9)                 585       \n",
      "                                                                 \n",
      "=================================================================\n",
      "Total params: 1,076,057\n",
      "Trainable params: 1,076,057\n",
      "Non-trainable params: 0\n",
      "_________________________________________________________________\n"
     ]
    }
   ],
   "source": [
    "model = Sequential()\n",
    "model.add(Conv2D(8, kernel_size=(5, 5), padding= 'same',activation='relu', input_shape=(num_time_values, num_mass_values, 1)))\n",
    "model.add(MaxPooling2D(pool_size=(900, 2)))\n",
    "\n",
    "model.add(Flatten())\n",
    "\n",
    "model.add(Dense(64, activation='relu'))\n",
    "\n",
    "model.add(Dense(9, activation='sigmoid'))\n",
    "opt = tf.keras.optimizers.Adam(learning_rate = 0.0001) # slow\n",
    "model.compile(loss=tf.keras.losses.BinaryCrossentropy(from_logits=True), optimizer=opt, metrics=['AUC']) # from logits = true\n",
    " \n",
    "train_data_generator = DataGenerator(train_data, batch_size)\n",
    "val_data_generator = DataGenerator(val_data, batch_size)\n",
    "\n",
    "model.summary()"
   ]
  },
  {
   "cell_type": "code",
   "execution_count": 13,
   "id": "3a458a06",
   "metadata": {
    "execution": {
     "iopub.execute_input": "2023-07-15T11:46:27.989049Z",
     "iopub.status.busy": "2023-07-15T11:46:27.988737Z",
     "iopub.status.idle": "2023-07-15T17:46:08.040493Z",
     "shell.execute_reply": "2023-07-15T17:46:08.038633Z"
    },
    "papermill": {
     "duration": 21580.496339,
     "end_time": "2023-07-15T17:46:08.476709",
     "exception": false,
     "start_time": "2023-07-15T11:46:27.980370",
     "status": "completed"
    },
    "tags": []
   },
   "outputs": [
    {
     "name": "stdout",
     "output_type": "stream",
     "text": [
      "Epoch 1/75\n",
      "80/80 [==============================] - 363s 4s/step - loss: 0.5222 - auc: 0.5502 - val_loss: 0.2993 - val_auc: 0.7105\n",
      "Epoch 2/75\n",
      "80/80 [==============================] - 289s 4s/step - loss: 0.2963 - auc: 0.7595 - val_loss: 0.2622 - val_auc: 0.7902\n",
      "Epoch 3/75\n",
      "80/80 [==============================] - 270s 3s/step - loss: 0.2765 - auc: 0.8003 - val_loss: 0.2504 - val_auc: 0.8204\n",
      "Epoch 4/75\n",
      "80/80 [==============================] - 270s 3s/step - loss: 0.2595 - auc: 0.8289 - val_loss: 0.2407 - val_auc: 0.8345\n",
      "Epoch 5/75\n",
      "80/80 [==============================] - 278s 3s/step - loss: 0.2453 - auc: 0.8461 - val_loss: 0.2291 - val_auc: 0.8421\n",
      "Epoch 6/75\n",
      "80/80 [==============================] - 280s 4s/step - loss: 0.2332 - auc: 0.8574 - val_loss: 0.2230 - val_auc: 0.8575\n",
      "Epoch 7/75\n",
      "80/80 [==============================] - 271s 3s/step - loss: 0.2244 - auc: 0.8700 - val_loss: 0.2143 - val_auc: 0.8676\n",
      "Epoch 8/75\n",
      "80/80 [==============================] - 288s 4s/step - loss: 0.2176 - auc: 0.8765 - val_loss: 0.2096 - val_auc: 0.8799\n",
      "Epoch 9/75\n",
      "80/80 [==============================] - 283s 4s/step - loss: 0.2114 - auc: 0.8883 - val_loss: 0.2045 - val_auc: 0.8894\n",
      "Epoch 10/75\n",
      "80/80 [==============================] - 286s 4s/step - loss: 0.2062 - auc: 0.8991 - val_loss: 0.2021 - val_auc: 0.8922\n",
      "Epoch 11/75\n",
      "80/80 [==============================] - 279s 3s/step - loss: 0.2012 - auc: 0.9060 - val_loss: 0.1975 - val_auc: 0.9000\n",
      "Epoch 12/75\n",
      "80/80 [==============================] - 289s 4s/step - loss: 0.1966 - auc: 0.9118 - val_loss: 0.1991 - val_auc: 0.9026\n",
      "Epoch 13/75\n",
      "80/80 [==============================] - 285s 4s/step - loss: 0.1929 - auc: 0.9164 - val_loss: 0.1956 - val_auc: 0.9044\n",
      "Epoch 14/75\n",
      "80/80 [==============================] - 298s 4s/step - loss: 0.1887 - auc: 0.9220 - val_loss: 0.1911 - val_auc: 0.9083\n",
      "Epoch 15/75\n",
      "80/80 [==============================] - 284s 4s/step - loss: 0.1866 - auc: 0.9228 - val_loss: 0.1901 - val_auc: 0.9107\n",
      "Epoch 16/75\n",
      "80/80 [==============================] - 291s 4s/step - loss: 0.1825 - auc: 0.9283 - val_loss: 0.1892 - val_auc: 0.9123\n",
      "Epoch 17/75\n",
      "80/80 [==============================] - 287s 4s/step - loss: 0.1792 - auc: 0.9307 - val_loss: 0.1874 - val_auc: 0.9134\n",
      "Epoch 18/75\n",
      "80/80 [==============================] - 293s 4s/step - loss: 0.1760 - auc: 0.9345 - val_loss: 0.1865 - val_auc: 0.9152\n",
      "Epoch 19/75\n",
      "80/80 [==============================] - 292s 4s/step - loss: 0.1747 - auc: 0.9369 - val_loss: 0.1848 - val_auc: 0.9173\n",
      "Epoch 20/75\n",
      "80/80 [==============================] - 291s 4s/step - loss: 0.1707 - auc: 0.9397 - val_loss: 0.1872 - val_auc: 0.9178\n",
      "Epoch 21/75\n",
      "80/80 [==============================] - 286s 4s/step - loss: 0.1683 - auc: 0.9424 - val_loss: 0.1849 - val_auc: 0.9188\n",
      "Epoch 22/75\n",
      "80/80 [==============================] - 290s 4s/step - loss: 0.1667 - auc: 0.9433 - val_loss: 0.1838 - val_auc: 0.9196\n",
      "Epoch 23/75\n",
      "80/80 [==============================] - 282s 4s/step - loss: 0.1638 - auc: 0.9462 - val_loss: 0.1832 - val_auc: 0.9205\n",
      "Epoch 24/75\n",
      "80/80 [==============================] - 286s 4s/step - loss: 0.1619 - auc: 0.9471 - val_loss: 0.1812 - val_auc: 0.9212\n",
      "Epoch 25/75\n",
      "80/80 [==============================] - 285s 4s/step - loss: 0.1595 - auc: 0.9502 - val_loss: 0.1799 - val_auc: 0.9218\n",
      "Epoch 26/75\n",
      "80/80 [==============================] - 290s 4s/step - loss: 0.1572 - auc: 0.9523 - val_loss: 0.1802 - val_auc: 0.9222\n",
      "Epoch 27/75\n",
      "80/80 [==============================] - 283s 4s/step - loss: 0.1553 - auc: 0.9538 - val_loss: 0.1783 - val_auc: 0.9239\n",
      "Epoch 28/75\n",
      "80/80 [==============================] - 298s 4s/step - loss: 0.1533 - auc: 0.9547 - val_loss: 0.1773 - val_auc: 0.9231\n",
      "Epoch 29/75\n",
      "80/80 [==============================] - 294s 4s/step - loss: 0.1522 - auc: 0.9549 - val_loss: 0.1785 - val_auc: 0.9239\n",
      "Epoch 30/75\n",
      "80/80 [==============================] - 302s 4s/step - loss: 0.1500 - auc: 0.9569 - val_loss: 0.1758 - val_auc: 0.9258\n",
      "Epoch 31/75\n",
      "80/80 [==============================] - 296s 4s/step - loss: 0.1493 - auc: 0.9564 - val_loss: 0.1763 - val_auc: 0.9253\n",
      "Epoch 32/75\n",
      "80/80 [==============================] - 295s 4s/step - loss: 0.1467 - auc: 0.9595 - val_loss: 0.1758 - val_auc: 0.9252\n",
      "Epoch 33/75\n",
      "80/80 [==============================] - 316s 4s/step - loss: 0.1449 - auc: 0.9602 - val_loss: 0.1728 - val_auc: 0.9265\n",
      "Epoch 34/75\n",
      "80/80 [==============================] - 288s 4s/step - loss: 0.1446 - auc: 0.9601 - val_loss: 0.1737 - val_auc: 0.9270\n",
      "Epoch 35/75\n",
      "80/80 [==============================] - 288s 4s/step - loss: 0.1422 - auc: 0.9619 - val_loss: 0.1729 - val_auc: 0.9276\n",
      "Epoch 36/75\n",
      "80/80 [==============================] - 288s 4s/step - loss: 0.1408 - auc: 0.9621 - val_loss: 0.1735 - val_auc: 0.9281\n",
      "Epoch 37/75\n",
      "80/80 [==============================] - 291s 4s/step - loss: 0.1394 - auc: 0.9637 - val_loss: 0.1747 - val_auc: 0.9282\n",
      "Epoch 38/75\n",
      "80/80 [==============================] - 295s 4s/step - loss: 0.1379 - auc: 0.9653 - val_loss: 0.1706 - val_auc: 0.9298\n",
      "Epoch 39/75\n",
      "80/80 [==============================] - 294s 4s/step - loss: 0.1360 - auc: 0.9659 - val_loss: 0.1717 - val_auc: 0.9306\n",
      "Epoch 40/75\n",
      "80/80 [==============================] - 296s 4s/step - loss: 0.1349 - auc: 0.9660 - val_loss: 0.1698 - val_auc: 0.9307\n",
      "Epoch 41/75\n",
      "80/80 [==============================] - 291s 4s/step - loss: 0.1340 - auc: 0.9676 - val_loss: 0.1700 - val_auc: 0.9318\n",
      "Epoch 42/75\n",
      "80/80 [==============================] - 293s 4s/step - loss: 0.1322 - auc: 0.9690 - val_loss: 0.1701 - val_auc: 0.9329\n",
      "Epoch 43/75\n",
      "80/80 [==============================] - 293s 4s/step - loss: 0.1308 - auc: 0.9683 - val_loss: 0.1691 - val_auc: 0.9329\n",
      "Epoch 44/75\n",
      "80/80 [==============================] - 293s 4s/step - loss: 0.1291 - auc: 0.9706 - val_loss: 0.1697 - val_auc: 0.9307\n",
      "Epoch 45/75\n",
      "80/80 [==============================] - 291s 4s/step - loss: 0.1279 - auc: 0.9705 - val_loss: 0.1670 - val_auc: 0.9344\n",
      "Epoch 46/75\n",
      "80/80 [==============================] - 286s 4s/step - loss: 0.1267 - auc: 0.9715 - val_loss: 0.1689 - val_auc: 0.9351\n",
      "Epoch 47/75\n",
      "80/80 [==============================] - 292s 4s/step - loss: 0.1258 - auc: 0.9717 - val_loss: 0.1670 - val_auc: 0.9311\n",
      "Epoch 48/75\n",
      "80/80 [==============================] - 299s 4s/step - loss: 0.1244 - auc: 0.9727 - val_loss: 0.1671 - val_auc: 0.9324\n",
      "Epoch 49/75\n",
      "80/80 [==============================] - 296s 4s/step - loss: 0.1233 - auc: 0.9737 - val_loss: 0.1687 - val_auc: 0.9330\n",
      "Epoch 50/75\n",
      "80/80 [==============================] - 300s 4s/step - loss: 0.1220 - auc: 0.9740 - val_loss: 0.1667 - val_auc: 0.9330\n",
      "Epoch 51/75\n",
      "80/80 [==============================] - 291s 4s/step - loss: 0.1202 - auc: 0.9748 - val_loss: 0.1685 - val_auc: 0.9321\n",
      "Epoch 52/75\n",
      "80/80 [==============================] - 288s 4s/step - loss: 0.1206 - auc: 0.9746 - val_loss: 0.1680 - val_auc: 0.9336\n",
      "Epoch 53/75\n",
      "80/80 [==============================] - 289s 4s/step - loss: 0.1187 - auc: 0.9757 - val_loss: 0.1662 - val_auc: 0.9335\n",
      "Epoch 54/75\n",
      "80/80 [==============================] - 290s 4s/step - loss: 0.1178 - auc: 0.9764 - val_loss: 0.1662 - val_auc: 0.9344\n",
      "Epoch 55/75\n",
      "80/80 [==============================] - 301s 4s/step - loss: 0.1167 - auc: 0.9762 - val_loss: 0.1665 - val_auc: 0.9345\n",
      "Epoch 56/75\n",
      "80/80 [==============================] - 300s 4s/step - loss: 0.1149 - auc: 0.9776 - val_loss: 0.1664 - val_auc: 0.9347\n",
      "Epoch 57/75\n",
      "80/80 [==============================] - 297s 4s/step - loss: 0.1147 - auc: 0.9774 - val_loss: 0.1670 - val_auc: 0.9356\n",
      "Epoch 58/75\n",
      "80/80 [==============================] - 293s 4s/step - loss: 0.1130 - auc: 0.9783 - val_loss: 0.1655 - val_auc: 0.9364\n",
      "Epoch 59/75\n",
      "80/80 [==============================] - 291s 4s/step - loss: 0.1119 - auc: 0.9789 - val_loss: 0.1667 - val_auc: 0.9375\n",
      "Epoch 60/75\n",
      "80/80 [==============================] - 297s 4s/step - loss: 0.1109 - auc: 0.9796 - val_loss: 0.1645 - val_auc: 0.9374\n",
      "Epoch 61/75\n",
      "80/80 [==============================] - 298s 4s/step - loss: 0.1097 - auc: 0.9799 - val_loss: 0.1647 - val_auc: 0.9372\n",
      "Epoch 62/75\n",
      "80/80 [==============================] - 297s 4s/step - loss: 0.1090 - auc: 0.9803 - val_loss: 0.1653 - val_auc: 0.9365\n",
      "Epoch 63/75\n",
      "80/80 [==============================] - 298s 4s/step - loss: 0.1080 - auc: 0.9801 - val_loss: 0.1652 - val_auc: 0.9360\n",
      "Epoch 64/75\n",
      "80/80 [==============================] - 297s 4s/step - loss: 0.1070 - auc: 0.9811 - val_loss: 0.1665 - val_auc: 0.9348\n",
      "Epoch 65/75\n",
      "80/80 [==============================] - 302s 4s/step - loss: 0.1057 - auc: 0.9814 - val_loss: 0.1652 - val_auc: 0.9372\n",
      "Epoch 66/75\n",
      "80/80 [==============================] - 309s 4s/step - loss: 0.1052 - auc: 0.9814 - val_loss: 0.1653 - val_auc: 0.9374\n",
      "Epoch 67/75\n",
      "80/80 [==============================] - 300s 4s/step - loss: 0.1041 - auc: 0.9820 - val_loss: 0.1650 - val_auc: 0.9400\n",
      "Epoch 68/75\n",
      "80/80 [==============================] - 302s 4s/step - loss: 0.1025 - auc: 0.9828 - val_loss: 0.1657 - val_auc: 0.9396\n",
      "Epoch 69/75\n",
      "80/80 [==============================] - 294s 4s/step - loss: 0.1023 - auc: 0.9825 - val_loss: 0.1658 - val_auc: 0.9385\n",
      "Epoch 70/75\n",
      "80/80 [==============================] - 289s 4s/step - loss: 0.1014 - auc: 0.9834 - val_loss: 0.1674 - val_auc: 0.9371\n"
     ]
    }
   ],
   "source": [
    "es = EarlyStopping(monitor = 'val_loss', patience = 10, restore_best_weights = True  )\n",
    "history = model.fit(train_data_generator, epochs=num_epochs, validation_data=val_data_generator, callbacks=[es],verbose = 1)"
   ]
  },
  {
   "cell_type": "code",
   "execution_count": 14,
   "id": "cce60a60",
   "metadata": {
    "execution": {
     "iopub.execute_input": "2023-07-15T17:46:09.424785Z",
     "iopub.status.busy": "2023-07-15T17:46:09.424336Z",
     "iopub.status.idle": "2023-07-15T17:46:09.534555Z",
     "shell.execute_reply": "2023-07-15T17:46:09.533625Z"
    },
    "papermill": {
     "duration": 0.632135,
     "end_time": "2023-07-15T17:46:09.536786",
     "exception": false,
     "start_time": "2023-07-15T17:46:08.904651",
     "status": "completed"
    },
    "tags": []
   },
   "outputs": [],
   "source": [
    "model.save(\"model_CNN.keras\")"
   ]
  },
  {
   "cell_type": "markdown",
   "id": "4beeef0f",
   "metadata": {
    "papermill": {
     "duration": 0.434645,
     "end_time": "2023-07-15T17:46:10.399756",
     "exception": false,
     "start_time": "2023-07-15T17:46:09.965111",
     "status": "completed"
    },
    "tags": []
   },
   "source": [
    "## 5. Performance \n",
    "<ul>\n",
    "<li>train and validation losses</li>\n",
    "</ul>"
   ]
  },
  {
   "cell_type": "code",
   "execution_count": 15,
   "id": "56684ce5",
   "metadata": {
    "execution": {
     "iopub.execute_input": "2023-07-15T17:46:11.267949Z",
     "iopub.status.busy": "2023-07-15T17:46:11.267589Z",
     "iopub.status.idle": "2023-07-15T17:46:41.558135Z",
     "shell.execute_reply": "2023-07-15T17:46:41.557130Z"
    },
    "papermill": {
     "duration": 31.159587,
     "end_time": "2023-07-15T17:46:41.990441",
     "exception": false,
     "start_time": "2023-07-15T17:46:10.830854",
     "status": "completed"
    },
    "tags": []
   },
   "outputs": [
    {
     "data": {
      "image/png": "[encoded data removed]",
      "text/plain": [
       "<Figure size 640x480 with 1 Axes>"
      ]
     },
     "metadata": {},
     "output_type": "display_data"
    }
   ],
   "source": [
    "train_loss = history.history['loss']\n",
    "val_loss = history.history['val_loss']\n",
    "epochs = range(1, len(train_loss) + 1)\n",
    "\n",
    "plt.plot(epochs, train_loss, 'b', label='Training Loss')\n",
    "plt.plot(epochs, val_loss, 'r', label='Validation Loss')\n",
    "plt.title('Training and Validation Loss')\n",
    "plt.xlabel('Epochs')\n",
    "plt.ylabel('Loss')\n",
    "plt.legend()\n",
    "plt.show()\n",
    "\n"
   ]
  },
  {
   "cell_type": "code",
   "execution_count": 16,
   "id": "fab88c1e",
   "metadata": {
    "execution": {
     "iopub.execute_input": "2023-07-15T17:46:42.854799Z",
     "iopub.status.busy": "2023-07-15T17:46:42.854436Z",
     "iopub.status.idle": "2023-07-15T17:51:05.203989Z",
     "shell.execute_reply": "2023-07-15T17:51:05.198245Z"
    },
    "papermill": {
     "duration": 262.788471,
     "end_time": "2023-07-15T17:51:05.209563",
     "exception": false,
     "start_time": "2023-07-15T17:46:42.421092",
     "status": "completed"
    },
    "tags": []
   },
   "outputs": [],
   "source": [
    "y_pred = model.predict(DataGenerator(range(809),1), verbose = 0)"
   ]
  },
  {
   "cell_type": "markdown",
   "id": "1d0eb851",
   "metadata": {
    "papermill": {
     "duration": 0.526584,
     "end_time": "2023-07-15T17:51:06.170107",
     "exception": false,
     "start_time": "2023-07-15T17:51:05.643523",
     "status": "completed"
    },
    "tags": []
   },
   "source": [
    "### Classification Reports"
   ]
  },
  {
   "cell_type": "code",
   "execution_count": 17,
   "id": "693529fb",
   "metadata": {
    "execution": {
     "iopub.execute_input": "2023-07-15T17:51:07.036612Z",
     "iopub.status.busy": "2023-07-15T17:51:07.036146Z",
     "iopub.status.idle": "2023-07-15T17:51:07.156709Z",
     "shell.execute_reply": "2023-07-15T17:51:07.155805Z"
    },
    "papermill": {
     "duration": 0.559476,
     "end_time": "2023-07-15T17:51:07.159544",
     "exception": false,
     "start_time": "2023-07-15T17:51:06.600068",
     "status": "completed"
    },
    "tags": []
   },
   "outputs": [
    {
     "name": "stdout",
     "output_type": "stream",
     "text": [
      "aromatic\n",
      "              precision    recall  f1-score   support\n",
      "\n",
      "           0       0.95      1.00      0.98       730\n",
      "           1       1.00      0.53      0.69        79\n",
      "\n",
      "    accuracy                           0.95       809\n",
      "   macro avg       0.98      0.77      0.83       809\n",
      "weighted avg       0.96      0.95      0.95       809\n",
      "\n",
      "roc_auc_score : 0.9641928212242067\n",
      "log loss      : 0.1291192080618485\n",
      "-------------------------------------------------------------\n",
      "hydrocarbon\n",
      "              precision    recall  f1-score   support\n",
      "\n",
      "           0       0.94      0.97      0.95       544\n",
      "           1       0.93      0.86      0.90       265\n",
      "\n",
      "    accuracy                           0.94       809\n",
      "   macro avg       0.94      0.92      0.93       809\n",
      "weighted avg       0.94      0.94      0.94       809\n",
      "\n",
      "roc_auc_score : 0.9676401220865705\n",
      "log loss      : 0.20058408029766459\n",
      "-------------------------------------------------------------\n",
      "carboxylic_acid\n",
      "              precision    recall  f1-score   support\n",
      "\n",
      "           0       0.94      0.98      0.96       694\n",
      "           1       0.83      0.65      0.73       115\n",
      "\n",
      "    accuracy                           0.93       809\n",
      "   macro avg       0.89      0.82      0.85       809\n",
      "weighted avg       0.93      0.93      0.93       809\n",
      "\n",
      "roc_auc_score : 0.96995363989475\n",
      "log loss      : 0.15841650819096367\n",
      "-------------------------------------------------------------\n",
      "nitrogen_bearing_compound\n",
      "              precision    recall  f1-score   support\n",
      "\n",
      "           0       0.95      0.99      0.97       713\n",
      "           1       0.87      0.60      0.71        96\n",
      "\n",
      "    accuracy                           0.94       809\n",
      "   macro avg       0.91      0.80      0.84       809\n",
      "weighted avg       0.94      0.94      0.94       809\n",
      "\n",
      "roc_auc_score : 0.9787868162692847\n",
      "log loss      : 0.1295424947052123\n",
      "-------------------------------------------------------------\n",
      "chlorine_bearing_compound\n",
      "              precision    recall  f1-score   support\n",
      "\n",
      "           0       0.98      1.00      0.99       791\n",
      "           1       1.00      0.17      0.29        18\n",
      "\n",
      "    accuracy                           0.98       809\n",
      "   macro avg       0.99      0.58      0.64       809\n",
      "weighted avg       0.98      0.98      0.97       809\n",
      "\n",
      "roc_auc_score : 0.9811771316196094\n",
      "log loss      : 0.04310691211708382\n",
      "-------------------------------------------------------------\n",
      "sulfur_bearing_compound\n",
      "              precision    recall  f1-score   support\n",
      "\n",
      "           0       0.97      1.00      0.98       778\n",
      "           1       0.88      0.23      0.36        31\n",
      "\n",
      "    accuracy                           0.97       809\n",
      "   macro avg       0.92      0.61      0.67       809\n",
      "weighted avg       0.97      0.97      0.96       809\n",
      "\n",
      "roc_auc_score : 0.981673438925284\n",
      "log loss      : 0.07264089876272523\n",
      "-------------------------------------------------------------\n",
      "alcohol\n",
      "              precision    recall  f1-score   support\n",
      "\n",
      "           0       0.97      1.00      0.98       783\n",
      "           1       0.67      0.08      0.14        26\n",
      "\n",
      "    accuracy                           0.97       809\n",
      "   macro avg       0.82      0.54      0.56       809\n",
      "weighted avg       0.96      0.97      0.96       809\n",
      "\n",
      "roc_auc_score : 0.9637488947833774\n",
      "log loss      : 0.07938525511709918\n",
      "-------------------------------------------------------------\n",
      "other_oxygen_bearing_compound\n",
      "              precision    recall  f1-score   support\n",
      "\n",
      "           0       0.98      1.00      0.99       788\n",
      "           1       1.00      0.05      0.09        21\n",
      "\n",
      "    accuracy                           0.98       809\n",
      "   macro avg       0.99      0.52      0.54       809\n",
      "weighted avg       0.98      0.98      0.96       809\n",
      "\n",
      "roc_auc_score : 0.9706913222141648\n",
      "log loss      : 0.060535717040754354\n",
      "-------------------------------------------------------------\n",
      "mineral\n",
      "              precision    recall  f1-score   support\n",
      "\n",
      "           0       0.94      0.96      0.95       692\n",
      "           1       0.71      0.62      0.66       117\n",
      "\n",
      "    accuracy                           0.91       809\n",
      "   macro avg       0.82      0.79      0.81       809\n",
      "weighted avg       0.90      0.91      0.91       809\n",
      "\n",
      "roc_auc_score : 0.9468776246232893\n",
      "log loss      : 0.2001167809951886\n",
      "-------------------------------------------------------------\n"
     ]
    }
   ],
   "source": [
    "for i in range(9):\n",
    "    y_true_column = train_labels.iloc[:, i+1].values\n",
    "    y_pred_column = y_pred[:, i].round()\n",
    "    \n",
    "    report = classification_report(y_true_column, y_pred_column)\n",
    "    print(f\"{label_names[i]}\")\n",
    "    print(report)\n",
    "    print(f\"roc_auc_score : {roc_auc_score(y_true_column, y_pred[:, i])}\")\n",
    "    print(f\"log loss      : {log_loss(y_true_column, y_pred[:, i])}\")\n",
    "    \n",
    "    print(\"-------------------------------------------------------------\")\n"
   ]
  },
  {
   "cell_type": "code",
   "execution_count": null,
   "id": "1657bb23",
   "metadata": {
    "papermill": {
     "duration": 0.435798,
     "end_time": "2023-07-15T17:51:08.028765",
     "exception": false,
     "start_time": "2023-07-15T17:51:07.592967",
     "status": "completed"
    },
    "tags": []
   },
   "outputs": [],
   "source": []
  }
 ],
 "metadata": {
  "kernelspec": {
   "display_name": "Python 3",
   "language": "python",
   "name": "python3"
  },
  "language_info": {
   "codemirror_mode": {
    "name": "ipython",
    "version": 3
   },
   "file_extension": ".py",
   "mimetype": "text/x-python",
   "name": "python",
   "nbconvert_exporter": "python",
   "pygments_lexer": "ipython3",
   "version": "3.10.10"
  },
  "papermill": {
   "default_parameters": {},
   "duration": 21907.441122,
   "end_time": "2023-07-15T17:51:11.590013",
   "environment_variables": {},
   "exception": null,
   "input_path": "__notebook__.ipynb",
   "output_path": "__notebook__.ipynb",
   "parameters": {},
   "start_time": "2023-07-15T11:46:04.148891",
   "version": "2.4.0"
  }
 },
 "nbformat": 4,
 "nbformat_minor": 5
}
