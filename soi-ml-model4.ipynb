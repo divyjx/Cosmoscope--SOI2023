{
 "cells": [
  {
   "cell_type": "code",
   "execution_count": 1,
   "id": "25699e21",
   "metadata": {
    "execution": {
     "iopub.execute_input": "2023-07-10T10:01:17.040114Z",
     "iopub.status.busy": "2023-07-10T10:01:17.039589Z",
     "iopub.status.idle": "2023-07-10T10:01:17.103330Z",
     "shell.execute_reply": "2023-07-10T10:01:17.101498Z"
    },
    "papermill": {
     "duration": 0.077272,
     "end_time": "2023-07-10T10:01:17.106008",
     "exception": false,
     "start_time": "2023-07-10T10:01:17.028736",
     "status": "completed"
    },
    "tags": []
   },
   "outputs": [
    {
     "name": "stdout",
     "output_type": "stream",
     "text": [
      "/kaggle/input/mars-spec-train/train_labels.csv\n",
      "/kaggle/input/mars-spec-train/train_features/S0459.csv\n"
     ]
    }
   ],
   "source": [
    "# This Python 3 environment comes with many helpful analytics libraries installed\n",
    "# It is defined by the kaggle/python Docker image: https://github.com/kaggle/docker-python\n",
    "# For example, here's several helpful packages to load\n",
    "\n",
    "import numpy as np # linear algebra\n",
    "import pandas as pd # data processing, CSV file I/O (e.g. pd.read_csv)\n",
    "\n",
    "# Input data files are available in the read-only \"../input/\" directory\n",
    "# For example, running this (by clicking run or pressing Shift+Enter) will list all files under the input directory\n",
    "\n",
    "import os\n",
    "for dirname, _, filenames in os.walk('/kaggle/input'):\n",
    "    for filename in filenames:\n",
    "        print(os.path.join(dirname, filename))\n",
    "        break\n",
    "# You can write up to 20GB to the current directory (/kaggle/working/) that gets preserved as output when you create a version using \"Save & Run All\" \n",
    "# You can also write temporary files to /kaggle/temp/, but they won't be saved outside of the current session"
   ]
  },
  {
   "cell_type": "markdown",
   "id": "564c5082",
   "metadata": {
    "papermill": {
     "duration": 0.008012,
     "end_time": "2023-07-10T10:01:17.122778",
     "exception": false,
     "start_time": "2023-07-10T10:01:17.114766",
     "status": "completed"
    },
    "tags": []
   },
   "source": [
    "### 1. Loading data and libraries "
   ]
  },
  {
   "cell_type": "code",
   "execution_count": 2,
   "id": "d8063464",
   "metadata": {
    "execution": {
     "iopub.execute_input": "2023-07-10T10:01:17.142028Z",
     "iopub.status.busy": "2023-07-10T10:01:17.141378Z",
     "iopub.status.idle": "2023-07-10T10:01:27.403438Z",
     "shell.execute_reply": "2023-07-10T10:01:27.401885Z"
    },
    "papermill": {
     "duration": 10.274845,
     "end_time": "2023-07-10T10:01:27.406343",
     "exception": false,
     "start_time": "2023-07-10T10:01:17.131498",
     "status": "completed"
    },
    "tags": []
   },
   "outputs": [
    {
     "name": "stderr",
     "output_type": "stream",
     "text": [
      "/opt/conda/lib/python3.10/site-packages/tensorflow_io/python/ops/__init__.py:98: UserWarning: unable to load libtensorflow_io_plugins.so: unable to open file: libtensorflow_io_plugins.so, from paths: ['/opt/conda/lib/python3.10/site-packages/tensorflow_io/python/ops/libtensorflow_io_plugins.so']\n",
      "caused by: ['/opt/conda/lib/python3.10/site-packages/tensorflow_io/python/ops/libtensorflow_io_plugins.so: undefined symbol: _ZN3tsl6StatusC1EN10tensorflow5error4CodeESt17basic_string_viewIcSt11char_traitsIcEENS_14SourceLocationE']\n",
      "  warnings.warn(f\"unable to load libtensorflow_io_plugins.so: {e}\")\n",
      "/opt/conda/lib/python3.10/site-packages/tensorflow_io/python/ops/__init__.py:104: UserWarning: file system plugins are not loaded: unable to open file: libtensorflow_io.so, from paths: ['/opt/conda/lib/python3.10/site-packages/tensorflow_io/python/ops/libtensorflow_io.so']\n",
      "caused by: ['/opt/conda/lib/python3.10/site-packages/tensorflow_io/python/ops/libtensorflow_io.so: undefined symbol: _ZTVN10tensorflow13GcsFileSystemE']\n",
      "  warnings.warn(f\"file system plugins are not loaded: {e}\")\n"
     ]
    }
   ],
   "source": [
    "# for processing numbers and files csv\n",
    "import pandas as pd\n",
    "import numpy as np\n",
    "\n",
    "# for visualization\n",
    "# import matplotlib.pyplot as plt\n",
    "import seaborn as sns\n",
    "# %matplotlib inline\n",
    "\n",
    "# preprocessing \n",
    "# from scipy.fft import fft\n",
    "from sklearn.preprocessing import MinMaxScaler\n",
    "from sklearn.model_selection import train_test_split\n",
    "\n",
    "# model related\n",
    "from tensorflow.keras.utils import Sequence\n",
    "from tensorflow.keras.models import Sequential\n",
    "from tensorflow.keras.layers import Conv2D, MaxPooling2D, Flatten, Dense\n",
    "\n",
    "import tensorflow as tf\n",
    "# other\n",
    "import copy\n",
    "# from scipy.signal import find_peaks\n"
   ]
  },
  {
   "cell_type": "markdown",
   "id": "352d0178",
   "metadata": {
    "papermill": {
     "duration": 0.008106,
     "end_time": "2023-07-10T10:01:27.423213",
     "exception": false,
     "start_time": "2023-07-10T10:01:27.415107",
     "status": "completed"
    },
    "tags": []
   },
   "source": [
    "# A. Data description\n",
    "###  input data \n",
    "<ul> \n",
    "<li>there are 1000 training examples</li>\n",
    "<li>each of them is dataframe with time, mass , and intensity:: sorted by time then mass</li>\n",
    "<li>dataframe lenghts are variable</li>\n",
    "</ul>\n",
    "\n",
    "### output binary clssification\n",
    "<ul> \n",
    "<li>positive class probability</li>\n",
    "</ul>\n",
    "\n",
    "\n",
    "# B. Feature Extraction Steps\n",
    "<ul>\n",
    "<li>group mass values upto 1 decimal (0.0 to 650.0 , diff = 0.5)           /<br>-- total (1300) or multiply by 2  and take round() </li>\n",
    "<li>take time values and fill remaining with (0.00 to 53.00 , diff = 0.02) /<br>-- total (2650) or multiply by 50 and take round() </li>\n",
    "<li>create a Time X Mass matrix (2650,1300) with intensity values</li>\n",
    "\n",
    "<li>noramlize intensity values --\n",
    "    <ol> \n",
    "    <li>subtract mean</li>\n",
    "    <li>minmax scale</li>\n",
    "    </ol>   \n",
    "</li>\n",
    "<li>total 2650x1300 values = 3,445,000</li> \n",
    "</ul>\n",
    "\n",
    "# C. Model architecture\n",
    "<ul>\n",
    "<li>feed this as convolutional layers (2,5 2d conv stride 2, 5 , that is comvolute these values)  . This will group similar time and mass values</li>\n",
    "<li>feed this as pooling layers ( pooling layers with mean/ max pooling ) </li>\n",
    "<li>further data reduction steps</li>\n",
    "<li>then fully connected layers</li>\n",
    "<li>sigmoid or softmax layer</li>\n",
    "<li>output positive label probability</li>\n",
    "</ul>\n"
   ]
  },
  {
   "cell_type": "code",
   "execution_count": 3,
   "id": "f428cc67",
   "metadata": {
    "execution": {
     "iopub.execute_input": "2023-07-10T10:01:27.444267Z",
     "iopub.status.busy": "2023-07-10T10:01:27.442712Z",
     "iopub.status.idle": "2023-07-10T10:01:27.480597Z",
     "shell.execute_reply": "2023-07-10T10:01:27.479760Z"
    },
    "papermill": {
     "duration": 0.049949,
     "end_time": "2023-07-10T10:01:27.483021",
     "exception": false,
     "start_time": "2023-07-10T10:01:27.433072",
     "status": "completed"
    },
    "tags": []
   },
   "outputs": [],
   "source": [
    "metadata = pd.read_csv('/kaggle/input/mars-spec-train/metadata.csv').fillna(0)\n",
    "train_labels = pd.read_csv('/kaggle/input/mars-spec-train/train_labels.csv')"
   ]
  },
  {
   "cell_type": "code",
   "execution_count": 4,
   "id": "1c78c8b5",
   "metadata": {
    "execution": {
     "iopub.execute_input": "2023-07-10T10:01:27.502201Z",
     "iopub.status.busy": "2023-07-10T10:01:27.501205Z",
     "iopub.status.idle": "2023-07-10T10:01:27.534222Z",
     "shell.execute_reply": "2023-07-10T10:01:27.533135Z"
    },
    "papermill": {
     "duration": 0.045572,
     "end_time": "2023-07-10T10:01:27.537067",
     "exception": false,
     "start_time": "2023-07-10T10:01:27.491495",
     "status": "completed"
    },
    "tags": []
   },
   "outputs": [
    {
     "data": {
      "text/html": [
       "<div>\n",
       "<style scoped>\n",
       "    .dataframe tbody tr th:only-of-type {\n",
       "        vertical-align: middle;\n",
       "    }\n",
       "\n",
       "    .dataframe tbody tr th {\n",
       "        vertical-align: top;\n",
       "    }\n",
       "\n",
       "    .dataframe thead th {\n",
       "        text-align: right;\n",
       "    }\n",
       "</style>\n",
       "<table border=\"1\" class=\"dataframe\">\n",
       "  <thead>\n",
       "    <tr style=\"text-align: right;\">\n",
       "      <th></th>\n",
       "      <th>sample_id</th>\n",
       "      <th>split</th>\n",
       "      <th>derivatized</th>\n",
       "      <th>features_path</th>\n",
       "      <th>features_md5_hash</th>\n",
       "    </tr>\n",
       "  </thead>\n",
       "  <tbody>\n",
       "    <tr>\n",
       "      <th>0</th>\n",
       "      <td>S0000</td>\n",
       "      <td>train</td>\n",
       "      <td>0.0</td>\n",
       "      <td>train_features/S0000.csv</td>\n",
       "      <td>52ec6d6f8372500ab4e069b5fbdae6f9</td>\n",
       "    </tr>\n",
       "    <tr>\n",
       "      <th>1</th>\n",
       "      <td>S0001</td>\n",
       "      <td>train</td>\n",
       "      <td>0.0</td>\n",
       "      <td>train_features/S0001.csv</td>\n",
       "      <td>348f90baed8a8189bf0d4c7b9ed9f965</td>\n",
       "    </tr>\n",
       "  </tbody>\n",
       "</table>\n",
       "</div>"
      ],
      "text/plain": [
       "  sample_id  split  derivatized             features_path  \\\n",
       "0     S0000  train          0.0  train_features/S0000.csv   \n",
       "1     S0001  train          0.0  train_features/S0001.csv   \n",
       "\n",
       "                  features_md5_hash  \n",
       "0  52ec6d6f8372500ab4e069b5fbdae6f9  \n",
       "1  348f90baed8a8189bf0d4c7b9ed9f965  "
      ]
     },
     "execution_count": 4,
     "metadata": {},
     "output_type": "execute_result"
    }
   ],
   "source": [
    "metadata.head(2)"
   ]
  },
  {
   "cell_type": "code",
   "execution_count": 5,
   "id": "2d2fe3d3",
   "metadata": {
    "execution": {
     "iopub.execute_input": "2023-07-10T10:01:27.556101Z",
     "iopub.status.busy": "2023-07-10T10:01:27.555688Z",
     "iopub.status.idle": "2023-07-10T10:01:27.569621Z",
     "shell.execute_reply": "2023-07-10T10:01:27.568285Z"
    },
    "papermill": {
     "duration": 0.026335,
     "end_time": "2023-07-10T10:01:27.572106",
     "exception": false,
     "start_time": "2023-07-10T10:01:27.545771",
     "status": "completed"
    },
    "tags": []
   },
   "outputs": [
    {
     "data": {
      "text/html": [
       "<div>\n",
       "<style scoped>\n",
       "    .dataframe tbody tr th:only-of-type {\n",
       "        vertical-align: middle;\n",
       "    }\n",
       "\n",
       "    .dataframe tbody tr th {\n",
       "        vertical-align: top;\n",
       "    }\n",
       "\n",
       "    .dataframe thead th {\n",
       "        text-align: right;\n",
       "    }\n",
       "</style>\n",
       "<table border=\"1\" class=\"dataframe\">\n",
       "  <thead>\n",
       "    <tr style=\"text-align: right;\">\n",
       "      <th></th>\n",
       "      <th>sample_id</th>\n",
       "      <th>aromatic</th>\n",
       "      <th>hydrocarbon</th>\n",
       "      <th>carboxylic_acid</th>\n",
       "      <th>nitrogen_bearing_compound</th>\n",
       "      <th>chlorine_bearing_compound</th>\n",
       "      <th>sulfur_bearing_compound</th>\n",
       "      <th>alcohol</th>\n",
       "      <th>other_oxygen_bearing_compound</th>\n",
       "      <th>mineral</th>\n",
       "    </tr>\n",
       "  </thead>\n",
       "  <tbody>\n",
       "    <tr>\n",
       "      <th>0</th>\n",
       "      <td>S0000</td>\n",
       "      <td>0</td>\n",
       "      <td>0</td>\n",
       "      <td>0</td>\n",
       "      <td>0</td>\n",
       "      <td>0</td>\n",
       "      <td>0</td>\n",
       "      <td>0</td>\n",
       "      <td>0</td>\n",
       "      <td>1</td>\n",
       "    </tr>\n",
       "    <tr>\n",
       "      <th>1</th>\n",
       "      <td>S0001</td>\n",
       "      <td>0</td>\n",
       "      <td>0</td>\n",
       "      <td>0</td>\n",
       "      <td>0</td>\n",
       "      <td>0</td>\n",
       "      <td>0</td>\n",
       "      <td>0</td>\n",
       "      <td>0</td>\n",
       "      <td>0</td>\n",
       "    </tr>\n",
       "  </tbody>\n",
       "</table>\n",
       "</div>"
      ],
      "text/plain": [
       "  sample_id  aromatic  hydrocarbon  carboxylic_acid  \\\n",
       "0     S0000         0            0                0   \n",
       "1     S0001         0            0                0   \n",
       "\n",
       "   nitrogen_bearing_compound  chlorine_bearing_compound  \\\n",
       "0                          0                          0   \n",
       "1                          0                          0   \n",
       "\n",
       "   sulfur_bearing_compound  alcohol  other_oxygen_bearing_compound  mineral  \n",
       "0                        0        0                              0        1  \n",
       "1                        0        0                              0        0  "
      ]
     },
     "execution_count": 5,
     "metadata": {},
     "output_type": "execute_result"
    }
   ],
   "source": [
    "train_labels.head(2)"
   ]
  },
  {
   "cell_type": "markdown",
   "id": "05b41c4b",
   "metadata": {
    "papermill": {
     "duration": 0.00905,
     "end_time": "2023-07-10T10:01:27.590276",
     "exception": false,
     "start_time": "2023-07-10T10:01:27.581226",
     "status": "completed"
    },
    "tags": []
   },
   "source": [
    "### 2. Preprocessing, Feature extraction"
   ]
  },
  {
   "cell_type": "code",
   "execution_count": 6,
   "id": "fde4cc06",
   "metadata": {
    "execution": {
     "iopub.execute_input": "2023-07-10T10:01:27.610093Z",
     "iopub.status.busy": "2023-07-10T10:01:27.609641Z",
     "iopub.status.idle": "2023-07-10T10:01:27.615087Z",
     "shell.execute_reply": "2023-07-10T10:01:27.614095Z"
    },
    "papermill": {
     "duration": 0.018086,
     "end_time": "2023-07-10T10:01:27.617283",
     "exception": false,
     "start_time": "2023-07-10T10:01:27.599197",
     "status": "completed"
    },
    "tags": []
   },
   "outputs": [],
   "source": [
    "# constants\n",
    "num_mass_values = 1350\n",
    "num_time_values = 2650\n",
    "matrix_shape = (num_time_values, num_mass_values)\n"
   ]
  },
  {
   "cell_type": "code",
   "execution_count": 7,
   "id": "b1e041cf",
   "metadata": {
    "execution": {
     "iopub.execute_input": "2023-07-10T10:01:27.637481Z",
     "iopub.status.busy": "2023-07-10T10:01:27.637060Z",
     "iopub.status.idle": "2023-07-10T10:01:27.646172Z",
     "shell.execute_reply": "2023-07-10T10:01:27.644967Z"
    },
    "papermill": {
     "duration": 0.021965,
     "end_time": "2023-07-10T10:01:27.648563",
     "exception": false,
     "start_time": "2023-07-10T10:01:27.626598",
     "status": "completed"
    },
    "tags": []
   },
   "outputs": [],
   "source": [
    "\n",
    "# Function to create the Time X Mass matrix for a single data sample\n",
    "def create_matrix(id ):\n",
    "    \n",
    "    sample_id, split, derivate, path, _ = metadata.iloc[id]\n",
    "#     print(path)\n",
    "    path = '/kaggle/input/mars-spec-train/'+ path\n",
    "    data = pd.read_csv(path)\n",
    "\n",
    "    label = None\n",
    "    if (split == 'train'):\n",
    "        label = train_labels.iloc[id].values[1:]\n",
    "\n",
    "    # discretization of time and mass\n",
    "    data.time = (data.time*50).round()\n",
    "    data.mass = (data.mass*2).round()\n",
    "    data.time = data.time.astype(int)\n",
    "    data.mass = data.mass.astype(int)\n",
    "    \n",
    "    # scaling intensity\n",
    "    data.intensity = MinMaxScaler().fit_transform(data.intensity.values.reshape(-1, 1))\n",
    "    \n",
    "    # filling matrix\n",
    "    matrix = np.zeros(matrix_shape)\n",
    "    matrix[data['time'],data['mass']] = data['intensity']\n",
    "\n",
    "    return matrix , label\n"
   ]
  },
  {
   "cell_type": "code",
   "execution_count": 8,
   "id": "1c4abe11",
   "metadata": {
    "execution": {
     "iopub.execute_input": "2023-07-10T10:01:27.668365Z",
     "iopub.status.busy": "2023-07-10T10:01:27.667945Z",
     "iopub.status.idle": "2023-07-10T10:01:28.349456Z",
     "shell.execute_reply": "2023-07-10T10:01:28.348552Z"
    },
    "papermill": {
     "duration": 0.69419,
     "end_time": "2023-07-10T10:01:28.351706",
     "exception": false,
     "start_time": "2023-07-10T10:01:27.657516",
     "status": "completed"
    },
    "tags": []
   },
   "outputs": [
    {
     "data": {
      "text/plain": [
       "(array([[0.00000000e+00, 0.00000000e+00, 0.00000000e+00, ...,\n",
       "         0.00000000e+00, 0.00000000e+00, 0.00000000e+00],\n",
       "        [0.00000000e+00, 0.00000000e+00, 0.00000000e+00, ...,\n",
       "         0.00000000e+00, 0.00000000e+00, 0.00000000e+00],\n",
       "        [5.18668826e-06, 0.00000000e+00, 0.00000000e+00, ...,\n",
       "         0.00000000e+00, 3.32877008e-06, 1.89662481e-05],\n",
       "        ...,\n",
       "        [2.25473854e-03, 0.00000000e+00, 2.98273282e-04, ...,\n",
       "         1.15345754e-05, 1.80372890e-05, 0.00000000e+00],\n",
       "        [1.85575061e-03, 0.00000000e+00, 2.72726907e-04, ...,\n",
       "         0.00000000e+00, 1.57923046e-05, 0.00000000e+00],\n",
       "        [3.39201671e-03, 0.00000000e+00, 3.50759471e-04, ...,\n",
       "         0.00000000e+00, 2.96492777e-05, 0.00000000e+00]]),\n",
       " array([0, 0, 0, 0, 0, 0, 0, 0, 0], dtype=object))"
      ]
     },
     "execution_count": 8,
     "metadata": {},
     "output_type": "execute_result"
    }
   ],
   "source": [
    "sample_matrix, sample_label= create_matrix(np.random.randint(809)) ## 0.2 second # max = 1120\n",
    "sample_matrix[0:100, 100:200],sample_label\n",
    "# print(sample_matrix[500:1000,np.random.randint(0,100)])"
   ]
  },
  {
   "cell_type": "code",
   "execution_count": 9,
   "id": "c40b4627",
   "metadata": {
    "execution": {
     "iopub.execute_input": "2023-07-10T10:01:28.372417Z",
     "iopub.status.busy": "2023-07-10T10:01:28.371446Z",
     "iopub.status.idle": "2023-07-10T10:01:28.377836Z",
     "shell.execute_reply": "2023-07-10T10:01:28.377016Z"
    },
    "papermill": {
     "duration": 0.019458,
     "end_time": "2023-07-10T10:01:28.380302",
     "exception": false,
     "start_time": "2023-07-10T10:01:28.360844",
     "status": "completed"
    },
    "tags": []
   },
   "outputs": [],
   "source": [
    "training_data = range(809)  # Load your training data\n"
   ]
  },
  {
   "cell_type": "code",
   "execution_count": 10,
   "id": "f0db4abc",
   "metadata": {
    "execution": {
     "iopub.execute_input": "2023-07-10T10:01:28.401082Z",
     "iopub.status.busy": "2023-07-10T10:01:28.400034Z",
     "iopub.status.idle": "2023-07-10T10:01:28.411590Z",
     "shell.execute_reply": "2023-07-10T10:01:28.410490Z"
    },
    "papermill": {
     "duration": 0.024725,
     "end_time": "2023-07-10T10:01:28.414267",
     "exception": false,
     "start_time": "2023-07-10T10:01:28.389542",
     "status": "completed"
    },
    "tags": []
   },
   "outputs": [],
   "source": [
    "class DataGenerator(Sequence):\n",
    "    \n",
    "    def __init__(self, data, batch_size):\n",
    "        self.data = data\n",
    "        self.batch_size = batch_size\n",
    "    def __len__(self):\n",
    "        return len(self.data) // self.batch_size\n",
    "\n",
    "    def __getitem__(self, idx):        \n",
    "        \n",
    "        low = idx * self.batch_size\n",
    "        high = min(low + self.batch_size, len(self.data))\n",
    "        batch_x = []\n",
    "        batch_y = []\n",
    "\n",
    "        for i,data_sample in enumerate(self.data[low:high]):\n",
    "            processed_sample, processed_label = self.preprocess_data(data_sample)\n",
    "            batch_x.append(processed_sample)\n",
    "            batch_y.append(processed_label)\n",
    "        return np.array(batch_x), np.array(batch_y)\n",
    "\n",
    "    def preprocess_data(self, data_sample):\n",
    "        # Perform the feature extraction steps and create the matrix\n",
    "        matrix, label = create_matrix(data_sample)\n",
    "        if type(label) == np.ndarray:\n",
    "            label = np.array(label).astype(int)\n",
    "        return matrix , label\n",
    "    \n",
    "    def getLabel(self, data_sample):\n",
    "        matrix, label = create_matrix(data_sample)\n",
    "        if type(label) == np.ndarray:\n",
    "            label = np.array(label).astype(int)\n",
    "        return label\n"
   ]
  },
  {
   "cell_type": "code",
   "execution_count": 11,
   "id": "7accda58",
   "metadata": {
    "execution": {
     "iopub.execute_input": "2023-07-10T10:01:28.434818Z",
     "iopub.status.busy": "2023-07-10T10:01:28.433758Z",
     "iopub.status.idle": "2023-07-10T10:01:28.446794Z",
     "shell.execute_reply": "2023-07-10T10:01:28.445512Z"
    },
    "papermill": {
     "duration": 0.025869,
     "end_time": "2023-07-10T10:01:28.449316",
     "exception": false,
     "start_time": "2023-07-10T10:01:28.423447",
     "status": "completed"
    },
    "tags": []
   },
   "outputs": [
    {
     "data": {
      "text/plain": [
       "array([[0, 1, 0, 0, 0, 0, 0, 0, 0],\n",
       "       [0, 0, 1, 0, 0, 0, 0, 0, 0],\n",
       "       [0, 1, 0, 0, 0, 0, 0, 0, 0]])"
      ]
     },
     "execution_count": 11,
     "metadata": {},
     "output_type": "execute_result"
    }
   ],
   "source": [
    "train_data, val_data = train_test_split(training_data, test_size=0.2, random_state=42)\n",
    "train_labels.iloc[[3,334,534]].values[:,1:].astype(int)"
   ]
  },
  {
   "cell_type": "code",
   "execution_count": 12,
   "id": "dd909d85",
   "metadata": {
    "execution": {
     "iopub.execute_input": "2023-07-10T10:01:28.470488Z",
     "iopub.status.busy": "2023-07-10T10:01:28.470089Z",
     "iopub.status.idle": "2023-07-10T10:01:28.478030Z",
     "shell.execute_reply": "2023-07-10T10:01:28.476668Z"
    },
    "papermill": {
     "duration": 0.021577,
     "end_time": "2023-07-10T10:01:28.480352",
     "exception": false,
     "start_time": "2023-07-10T10:01:28.458775",
     "status": "completed"
    },
    "tags": []
   },
   "outputs": [],
   "source": [
    "def log_loss_agg(y_test,y_pred):\n",
    "    y_test = y_test.astype(np.float16)\n",
    "    y_pred = y_pred.astype(np.float16)\n",
    "    N,M = y_test.shape\n",
    "    a=[]\n",
    "    for m in range(M):\n",
    "        loss=0\n",
    "        for i in range(N):\n",
    "            loss -= ((y_test[i,m]*np.log(y_pred[i,m]))+((1.0-y_test[i,m])*np.log(1.0-y_pred[i,m])))\n",
    "        loss = loss/N\n",
    "        a.append(round(loss,8))\n",
    "    return np.array(a)"
   ]
  },
  {
   "cell_type": "code",
   "execution_count": 13,
   "id": "e556cd61",
   "metadata": {
    "execution": {
     "iopub.execute_input": "2023-07-10T10:01:28.500800Z",
     "iopub.status.busy": "2023-07-10T10:01:28.500386Z",
     "iopub.status.idle": "2023-07-10T10:01:28.778131Z",
     "shell.execute_reply": "2023-07-10T10:01:28.777116Z"
    },
    "papermill": {
     "duration": 0.29436,
     "end_time": "2023-07-10T10:01:28.783892",
     "exception": false,
     "start_time": "2023-07-10T10:01:28.489532",
     "status": "completed"
    },
    "tags": []
   },
   "outputs": [
    {
     "name": "stdout",
     "output_type": "stream",
     "text": [
      "Model: \"sequential\"\n",
      "_________________________________________________________________\n",
      " Layer (type)                Output Shape              Param #   \n",
      "=================================================================\n",
      " conv2d (Conv2D)             (None, 1323, 673, 8)      208       \n",
      "                                                                 \n",
      " max_pooling2d (MaxPooling2D  (None, 132, 336, 8)      0         \n",
      " )                                                               \n",
      "                                                                 \n",
      " conv2d_1 (Conv2D)           (None, 128, 332, 4)       804       \n",
      "                                                                 \n",
      " max_pooling2d_1 (MaxPooling  (None, 42, 332, 4)       0         \n",
      " 2D)                                                             \n",
      "                                                                 \n",
      " flatten (Flatten)           (None, 55776)             0         \n",
      "                                                                 \n",
      " dense (Dense)               (None, 32)                1784864   \n",
      "                                                                 \n",
      " dense_1 (Dense)             (None, 9)                 297       \n",
      "                                                                 \n",
      "=================================================================\n",
      "Total params: 1,786,173\n",
      "Trainable params: 1,786,173\n",
      "Non-trainable params: 0\n",
      "_________________________________________________________________\n"
     ]
    }
   ],
   "source": [
    "from tensorflow.keras.models import Sequential\n",
    "from tensorflow.keras.layers import Conv2D, MaxPooling2D, Flatten, Dense\n",
    "from sklearn.metrics import log_loss\n",
    "model = Sequential()\n",
    "\n",
    "model.add(Conv2D(8, kernel_size=(5, 5),strides = (2,2), activation='relu', input_shape=(2650, 1350, 1)))\n",
    "model.add(MaxPooling2D(pool_size=(10, 2)))\n",
    "\n",
    "model.add(Conv2D(4, kernel_size=(5, 5), activation='relu'))\n",
    "model.add(MaxPooling2D(pool_size=(3, 1)))\n",
    "\n",
    "model.add(Flatten())\n",
    "\n",
    "model.add(Dense(32, activation='relu'))\n",
    "\n",
    "model.add(Dense(9, activation='sigmoid'))\n",
    "\n",
    "model.compile(loss='binary_crossentropy', optimizer='adam', metrics=['accuracy', \"AUC\"])\n",
    "\n",
    "# Define the batch size and number of epochs\n",
    "batch_size = 16\n",
    "num_epochs = 32\n",
    "\n",
    "# Create instances of the custom data generator for training and validation\n",
    "train_data_generator = DataGenerator(train_data, batch_size)\n",
    "val_data_generator = DataGenerator(val_data, batch_size)\n",
    "\n",
    "model.summary()"
   ]
  },
  {
   "cell_type": "code",
   "execution_count": 14,
   "id": "750b174d",
   "metadata": {
    "execution": {
     "iopub.execute_input": "2023-07-10T10:01:28.809331Z",
     "iopub.status.busy": "2023-07-10T10:01:28.808889Z",
     "iopub.status.idle": "2023-07-10T11:04:21.691154Z",
     "shell.execute_reply": "2023-07-10T11:04:21.686274Z"
    },
    "papermill": {
     "duration": 3772.939781,
     "end_time": "2023-07-10T11:04:21.735321",
     "exception": false,
     "start_time": "2023-07-10T10:01:28.795540",
     "status": "completed"
    },
    "tags": []
   },
   "outputs": [
    {
     "name": "stdout",
     "output_type": "stream",
     "text": [
      "Epoch 1/32\n",
      "40/40 [==============================] - 490s 12s/step - loss: 0.3590 - accuracy: 0.2562 - auc: 0.6719 - val_loss: 0.2766 - val_accuracy: 0.2875 - val_auc: 0.7854\n",
      "Epoch 2/32\n",
      "40/40 [==============================] - 352s 9s/step - loss: 0.2757 - accuracy: 0.3297 - auc: 0.8071 - val_loss: 0.2273 - val_accuracy: 0.4250 - val_auc: 0.8800\n",
      "Epoch 3/32\n",
      "40/40 [==============================] - 381s 10s/step - loss: 0.2131 - accuracy: 0.4672 - auc: 0.8962 - val_loss: 0.1865 - val_accuracy: 0.5125 - val_auc: 0.9234\n",
      "Epoch 4/32\n",
      "40/40 [==============================] - 363s 9s/step - loss: 0.1716 - accuracy: 0.5141 - auc: 0.9374 - val_loss: 0.1808 - val_accuracy: 0.5250 - val_auc: 0.9302\n",
      "Epoch 5/32\n",
      "40/40 [==============================] - 429s 11s/step - loss: 0.1486 - accuracy: 0.5250 - auc: 0.9568 - val_loss: 0.1741 - val_accuracy: 0.4500 - val_auc: 0.9350\n",
      "Epoch 6/32\n",
      "40/40 [==============================] - 388s 10s/step - loss: 0.1345 - accuracy: 0.5297 - auc: 0.9642 - val_loss: 0.1671 - val_accuracy: 0.5250 - val_auc: 0.9453\n",
      "Epoch 7/32\n",
      "40/40 [==============================] - 393s 10s/step - loss: 0.1189 - accuracy: 0.5516 - auc: 0.9741 - val_loss: 0.1690 - val_accuracy: 0.5562 - val_auc: 0.9378\n",
      "Epoch 8/32\n",
      "40/40 [==============================] - 413s 10s/step - loss: 0.1070 - accuracy: 0.5672 - auc: 0.9798 - val_loss: 0.1789 - val_accuracy: 0.5312 - val_auc: 0.9438\n",
      "Epoch 9/32\n",
      "40/40 [==============================] - 377s 9s/step - loss: 0.0997 - accuracy: 0.5594 - auc: 0.9823 - val_loss: 0.1902 - val_accuracy: 0.5437 - val_auc: 0.9338\n"
     ]
    }
   ],
   "source": [
    "from tensorflow.keras.callbacks import EarlyStopping\n",
    "es = EarlyStopping(monitor = 'val_loss', patience = 3 )\n",
    "history = model.fit(train_data_generator, epochs=num_epochs, validation_data=val_data_generator, callbacks=[es])"
   ]
  },
  {
   "cell_type": "code",
   "execution_count": 15,
   "id": "62dbc4d7",
   "metadata": {
    "execution": {
     "iopub.execute_input": "2023-07-10T11:04:21.832914Z",
     "iopub.status.busy": "2023-07-10T11:04:21.831080Z",
     "iopub.status.idle": "2023-07-10T11:04:22.026418Z",
     "shell.execute_reply": "2023-07-10T11:04:22.025155Z"
    },
    "papermill": {
     "duration": 0.248253,
     "end_time": "2023-07-10T11:04:22.029340",
     "exception": false,
     "start_time": "2023-07-10T11:04:21.781087",
     "status": "completed"
    },
    "tags": []
   },
   "outputs": [],
   "source": [
    "# model = ...  # Get model (Sequential, Functional Model, or Model subclass)\n",
    "model.save('model4.keras')\n",
    "# metadata.to_csv(\"opopo\")"
   ]
  },
  {
   "cell_type": "code",
   "execution_count": 16,
   "id": "344d4da1",
   "metadata": {
    "execution": {
     "iopub.execute_input": "2023-07-10T11:04:22.124087Z",
     "iopub.status.busy": "2023-07-10T11:04:22.123298Z",
     "iopub.status.idle": "2023-07-10T11:09:52.282629Z",
     "shell.execute_reply": "2023-07-10T11:09:52.281382Z"
    },
    "papermill": {
     "duration": 330.210688,
     "end_time": "2023-07-10T11:09:52.285984",
     "exception": false,
     "start_time": "2023-07-10T11:04:22.075296",
     "status": "completed"
    },
    "tags": []
   },
   "outputs": [
    {
     "name": "stdout",
     "output_type": "stream",
     "text": [
      "0\n",
      "100\n",
      "200\n",
      "300\n",
      "400\n",
      "500\n",
      "600\n"
     ]
    }
   ],
   "source": [
    "train_loss = 0\n",
    "train_lab = []\n",
    "train_pred = []\n",
    "from sklearn.metrics import log_loss\n",
    "for i,data in enumerate(train_data):\n",
    "    mat , lab = create_matrix(data)\n",
    "    lab = np.array(lab).astype(int).reshape(1,9)\n",
    "    pred = model.predict(mat.reshape(-1,2650,1350,1), verbose = 0)\n",
    "    train_lab.append(lab)\n",
    "    train_pred.append(pred)\n",
    "    if (i%100 == 0):\n",
    "        print (i)"
   ]
  },
  {
   "cell_type": "code",
   "execution_count": 17,
   "id": "5fdfab1d",
   "metadata": {
    "execution": {
     "iopub.execute_input": "2023-07-10T11:09:52.382505Z",
     "iopub.status.busy": "2023-07-10T11:09:52.381197Z",
     "iopub.status.idle": "2023-07-10T11:09:52.415063Z",
     "shell.execute_reply": "2023-07-10T11:09:52.413229Z"
    },
    "papermill": {
     "duration": 0.08514,
     "end_time": "2023-07-10T11:09:52.417923",
     "exception": false,
     "start_time": "2023-07-10T11:09:52.332783",
     "status": "completed"
    },
    "tags": []
   },
   "outputs": [
    {
     "name": "stdout",
     "output_type": "stream",
     "text": [
      "train log loss : 0.8861799569670138\n"
     ]
    }
   ],
   "source": [
    "\n",
    "train_lab = np.array(train_lab).reshape(-1,9)\n",
    "train_pred = np.array(train_pred).reshape(-1,9)\n",
    "print(f\"train log loss : {log_loss(train_lab, train_pred)}\")"
   ]
  },
  {
   "cell_type": "code",
   "execution_count": 18,
   "id": "ec5f7bbe",
   "metadata": {
    "execution": {
     "iopub.execute_input": "2023-07-10T11:09:52.513363Z",
     "iopub.status.busy": "2023-07-10T11:09:52.512915Z",
     "iopub.status.idle": "2023-07-10T11:11:00.727290Z",
     "shell.execute_reply": "2023-07-10T11:11:00.725832Z"
    },
    "papermill": {
     "duration": 68.265386,
     "end_time": "2023-07-10T11:11:00.730021",
     "exception": false,
     "start_time": "2023-07-10T11:09:52.464635",
     "status": "completed"
    },
    "tags": []
   },
   "outputs": [
    {
     "name": "stdout",
     "output_type": "stream",
     "text": [
      "0\n",
      "100\n"
     ]
    }
   ],
   "source": [
    "val_loss = 0\n",
    "val_lab = []\n",
    "val_pred = []\n",
    "from sklearn.metrics import log_loss\n",
    "for i,data in enumerate(val_data):\n",
    "    mat , lab = create_matrix(data)\n",
    "    lab = np.array(lab).astype(int).reshape(1,9)\n",
    "    pred = model.predict(mat.reshape(-1,2650,1350,1), verbose = 0)\n",
    "    val_lab.append(lab)\n",
    "    val_pred.append(pred)\n",
    "    if (i%100 == 0):\n",
    "        print (i)"
   ]
  },
  {
   "cell_type": "code",
   "execution_count": 19,
   "id": "ff164326",
   "metadata": {
    "execution": {
     "iopub.execute_input": "2023-07-10T11:11:00.825334Z",
     "iopub.status.busy": "2023-07-10T11:11:00.824314Z",
     "iopub.status.idle": "2023-07-10T11:11:00.830018Z",
     "shell.execute_reply": "2023-07-10T11:11:00.829152Z"
    },
    "papermill": {
     "duration": 0.055856,
     "end_time": "2023-07-10T11:11:00.832395",
     "exception": false,
     "start_time": "2023-07-10T11:11:00.776539",
     "status": "completed"
    },
    "tags": []
   },
   "outputs": [],
   "source": [
    "val_lab = np.array(val_lab).reshape(-1,9)\n",
    "val_pred = np.array(val_pred).reshape(-1,9)"
   ]
  },
  {
   "cell_type": "code",
   "execution_count": 20,
   "id": "12e4d68b",
   "metadata": {
    "execution": {
     "iopub.execute_input": "2023-07-10T11:11:00.926998Z",
     "iopub.status.busy": "2023-07-10T11:11:00.926221Z",
     "iopub.status.idle": "2023-07-10T11:11:00.933322Z",
     "shell.execute_reply": "2023-07-10T11:11:00.932330Z"
    },
    "papermill": {
     "duration": 0.05749,
     "end_time": "2023-07-10T11:11:00.936112",
     "exception": false,
     "start_time": "2023-07-10T11:11:00.878622",
     "status": "completed"
    },
    "tags": []
   },
   "outputs": [
    {
     "name": "stdout",
     "output_type": "stream",
     "text": [
      "valid log loss : 1.1753591145161233\n"
     ]
    }
   ],
   "source": [
    "print(f\"valid log loss : {log_loss(val_lab, val_pred).mean()}\")"
   ]
  },
  {
   "cell_type": "markdown",
   "id": "c57711f9",
   "metadata": {
    "papermill": {
     "duration": 0.04796,
     "end_time": "2023-07-10T11:11:01.030275",
     "exception": false,
     "start_time": "2023-07-10T11:11:00.982315",
     "status": "completed"
    },
    "tags": []
   },
   "source": [
    "benchmark\\\n",
    "train log loss : 1.0316461173431106 \\\n",
    "valid log loss : 1.0560311513842007 \\\n",
    "sample predictions below"
   ]
  },
  {
   "cell_type": "code",
   "execution_count": 21,
   "id": "91d3afae",
   "metadata": {
    "execution": {
     "iopub.execute_input": "2023-07-10T11:11:01.126065Z",
     "iopub.status.busy": "2023-07-10T11:11:01.125656Z",
     "iopub.status.idle": "2023-07-10T11:11:05.217314Z",
     "shell.execute_reply": "2023-07-10T11:11:05.216356Z"
    },
    "papermill": {
     "duration": 4.144229,
     "end_time": "2023-07-10T11:11:05.220863",
     "exception": false,
     "start_time": "2023-07-10T11:11:01.076634",
     "status": "completed"
    },
    "tags": []
   },
   "outputs": [
    {
     "name": "stdout",
     "output_type": "stream",
     "text": [
      "1th prediction\n",
      "prediction :  [1 0 0 0 0 0 0 0 0]\n",
      "true label :  [0 0 0 0 0 0 0 0 0]\n",
      "2th prediction\n",
      "prediction :  [0 1 0 0 0 0 0 0 0]\n",
      "true label :  [0 1 0 0 0 0 0 0 0]\n",
      "3th prediction\n",
      "prediction :  [0 0 0 1 0 0 0 0 0]\n",
      "true label :  [0 0 0 0 0 0 0 0 0]\n",
      "4th prediction\n",
      "prediction :  [0 0 0 0 0 0 0 0 0]\n",
      "true label :  [0 0 0 0 0 0 0 0 0]\n",
      "5th prediction\n",
      "prediction :  [0 0 1 1 0 0 0 0 0]\n",
      "true label :  [0 0 1 1 0 0 0 0 0]\n",
      "6th prediction\n",
      "prediction :  [0 1 0 0 0 0 0 0 0]\n",
      "true label :  [0 1 0 0 0 0 0 0 0]\n",
      "7th prediction\n",
      "prediction :  [0 1 0 0 0 0 0 0 0]\n",
      "true label :  [0 1 0 0 0 0 0 0 0]\n",
      "8th prediction\n",
      "prediction :  [1 0 0 0 0 0 0 0 1]\n",
      "true label :  [0 0 0 0 0 0 0 0 1]\n",
      "9th prediction\n",
      "prediction :  [0 0 0 0 0 0 0 0 1]\n",
      "true label :  [0 0 0 0 0 0 0 0 0]\n",
      "10th prediction\n",
      "prediction :  [0 1 0 0 0 0 0 0 0]\n",
      "true label :  [0 1 0 0 0 0 0 0 0]\n"
     ]
    }
   ],
   "source": [
    "for i in range (10):\n",
    "    sample_matrix, sample_label= create_matrix(np.random.randint(809)) ## 0.2 second # max = 1120\n",
    "    print (f\"{i+1}th prediction\")\n",
    "    print(\"prediction : \",(model.predict(sample_matrix.reshape(-1, 2650,1350,1),verbose = 0).round().astype(int)).squeeze())\n",
    "    print(\"true label : \",np.array(sample_label))"
   ]
  }
 ],
 "metadata": {
  "kernelspec": {
   "display_name": "Python 3",
   "language": "python",
   "name": "python3"
  },
  "language_info": {
   "codemirror_mode": {
    "name": "ipython",
    "version": 3
   },
   "file_extension": ".py",
   "mimetype": "text/x-python",
   "name": "python",
   "nbconvert_exporter": "python",
   "pygments_lexer": "ipython3",
   "version": "3.10.10"
  },
  "papermill": {
   "default_parameters": {},
   "duration": 4203.113186,
   "end_time": "2023-07-10T11:11:08.393141",
   "environment_variables": {},
   "exception": null,
   "input_path": "__notebook__.ipynb",
   "output_path": "__notebook__.ipynb",
   "parameters": {},
   "start_time": "2023-07-10T10:01:05.279955",
   "version": "2.4.0"
  }
 },
 "nbformat": 4,
 "nbformat_minor": 5
}
