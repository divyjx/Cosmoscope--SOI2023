{
 "cells": [
  {
   "cell_type": "code",
   "execution_count": 1,
   "id": "b52413e0",
   "metadata": {
    "execution": {
     "iopub.execute_input": "2023-07-10T06:58:42.925384Z",
     "iopub.status.busy": "2023-07-10T06:58:42.925013Z",
     "iopub.status.idle": "2023-07-10T06:58:43.029076Z",
     "shell.execute_reply": "2023-07-10T06:58:43.028102Z"
    },
    "papermill": {
     "duration": 0.11805,
     "end_time": "2023-07-10T06:58:43.031667",
     "exception": false,
     "start_time": "2023-07-10T06:58:42.913617",
     "status": "completed"
    },
    "tags": []
   },
   "outputs": [
    {
     "name": "stdout",
     "output_type": "stream",
     "text": [
      "/kaggle/input/mars-spec-train/train_labels.csv\n",
      "/kaggle/input/mars-spec-train/train_features/S0459.csv\n"
     ]
    }
   ],
   "source": [
    "# This Python 3 environment comes with many helpful analytics libraries installed\n",
    "# It is defined by the kaggle/python Docker image: https://github.com/kaggle/docker-python\n",
    "# For example, here's several helpful packages to load\n",
    "\n",
    "import numpy as np # linear algebra\n",
    "import pandas as pd # data processing, CSV file I/O (e.g. pd.read_csv)\n",
    "\n",
    "# Input data files are available in the read-only \"../input/\" directory\n",
    "# For example, running this (by clicking run or pressing Shift+Enter) will list all files under the input directory\n",
    "\n",
    "import os\n",
    "for dirname, _, filenames in os.walk('/kaggle/input'):\n",
    "    for filename in filenames:\n",
    "        print(os.path.join(dirname, filename))\n",
    "        break\n",
    "# You can write up to 20GB to the current directory (/kaggle/working/) that gets preserved as output when you create a version using \"Save & Run All\" \n",
    "# You can also write temporary files to /kaggle/temp/, but they won't be saved outside of the current session"
   ]
  },
  {
   "cell_type": "markdown",
   "id": "2736418e",
   "metadata": {
    "papermill": {
     "duration": 0.00829,
     "end_time": "2023-07-10T06:58:43.048698",
     "exception": false,
     "start_time": "2023-07-10T06:58:43.040408",
     "status": "completed"
    },
    "tags": []
   },
   "source": [
    "### 1. Loading data and libraries "
   ]
  },
  {
   "cell_type": "code",
   "execution_count": 2,
   "id": "d07bdcf4",
   "metadata": {
    "execution": {
     "iopub.execute_input": "2023-07-10T06:58:43.067699Z",
     "iopub.status.busy": "2023-07-10T06:58:43.067054Z",
     "iopub.status.idle": "2023-07-10T06:58:53.760332Z",
     "shell.execute_reply": "2023-07-10T06:58:53.759139Z"
    },
    "papermill": {
     "duration": 10.706125,
     "end_time": "2023-07-10T06:58:53.763234",
     "exception": false,
     "start_time": "2023-07-10T06:58:43.057109",
     "status": "completed"
    },
    "tags": []
   },
   "outputs": [
    {
     "name": "stderr",
     "output_type": "stream",
     "text": [
      "/opt/conda/lib/python3.10/site-packages/tensorflow_io/python/ops/__init__.py:98: UserWarning: unable to load libtensorflow_io_plugins.so: unable to open file: libtensorflow_io_plugins.so, from paths: ['/opt/conda/lib/python3.10/site-packages/tensorflow_io/python/ops/libtensorflow_io_plugins.so']\n",
      "caused by: ['/opt/conda/lib/python3.10/site-packages/tensorflow_io/python/ops/libtensorflow_io_plugins.so: undefined symbol: _ZN3tsl6StatusC1EN10tensorflow5error4CodeESt17basic_string_viewIcSt11char_traitsIcEENS_14SourceLocationE']\n",
      "  warnings.warn(f\"unable to load libtensorflow_io_plugins.so: {e}\")\n",
      "/opt/conda/lib/python3.10/site-packages/tensorflow_io/python/ops/__init__.py:104: UserWarning: file system plugins are not loaded: unable to open file: libtensorflow_io.so, from paths: ['/opt/conda/lib/python3.10/site-packages/tensorflow_io/python/ops/libtensorflow_io.so']\n",
      "caused by: ['/opt/conda/lib/python3.10/site-packages/tensorflow_io/python/ops/libtensorflow_io.so: undefined symbol: _ZTVN10tensorflow13GcsFileSystemE']\n",
      "  warnings.warn(f\"file system plugins are not loaded: {e}\")\n"
     ]
    }
   ],
   "source": [
    "# for processing numbers and files csv\n",
    "import pandas as pd\n",
    "import numpy as np\n",
    "\n",
    "# for visualization\n",
    "# import matplotlib.pyplot as plt\n",
    "import seaborn as sns\n",
    "# %matplotlib inline\n",
    "\n",
    "# preprocessing \n",
    "# from scipy.fft import fft\n",
    "from sklearn.preprocessing import MinMaxScaler\n",
    "from sklearn.model_selection import train_test_split\n",
    "\n",
    "# model related\n",
    "from tensorflow.keras.utils import Sequence\n",
    "from tensorflow.keras.models import Sequential\n",
    "from tensorflow.keras.layers import Conv2D, MaxPooling2D, Flatten, Dense\n",
    "\n",
    "import tensorflow as tf\n",
    "# other\n",
    "import copy\n",
    "# from scipy.signal import find_peaks\n"
   ]
  },
  {
   "cell_type": "markdown",
   "id": "4df802df",
   "metadata": {
    "papermill": {
     "duration": 0.008107,
     "end_time": "2023-07-10T06:58:53.780368",
     "exception": false,
     "start_time": "2023-07-10T06:58:53.772261",
     "status": "completed"
    },
    "tags": []
   },
   "source": [
    "# A. Data description\n",
    "###  input data \n",
    "<ul> \n",
    "<li>there are 1000 training examples</li>\n",
    "<li>each of them is dataframe with time, mass , and intensity:: sorted by time then mass</li>\n",
    "<li>dataframe lenghts are variable</li>\n",
    "</ul>\n",
    "\n",
    "### output binary clssification\n",
    "<ul> \n",
    "<li>positive class probability</li>\n",
    "</ul>\n",
    "\n",
    "\n",
    "# B. Feature Extraction Steps\n",
    "<ul>\n",
    "<li>group mass values upto 1 decimal (0.0 to 650.0 , diff = 0.5)           /<br>-- total (1300) or multiply by 2  and take round() </li>\n",
    "<li>take time values and fill remaining with (0.00 to 53.00 , diff = 0.02) /<br>-- total (2650) or multiply by 50 and take round() </li>\n",
    "<li>create a Time X Mass matrix (2650,1300) with intensity values</li>\n",
    "\n",
    "<li>noramlize intensity values --\n",
    "    <ol> \n",
    "    <li>subtract mean</li>\n",
    "    <li>minmax scale</li>\n",
    "    </ol>   \n",
    "</li>\n",
    "<li>total 2650x1300 values = 3,445,000</li> \n",
    "</ul>\n",
    "\n",
    "# C. Model architecture\n",
    "<ul>\n",
    "<li>feed this as convolutional layers (2,5 2d conv stride 2, 5 , that is comvolute these values)  . This will group similar time and mass values</li>\n",
    "<li>feed this as pooling layers ( pooling layers with mean/ max pooling ) </li>\n",
    "<li>further data reduction steps</li>\n",
    "<li>then fully connected layers</li>\n",
    "<li>sigmoid or softmax layer</li>\n",
    "<li>output positive label probability</li>\n",
    "</ul>\n"
   ]
  },
  {
   "cell_type": "code",
   "execution_count": 3,
   "id": "a0f006d8",
   "metadata": {
    "execution": {
     "iopub.execute_input": "2023-07-10T06:58:53.801128Z",
     "iopub.status.busy": "2023-07-10T06:58:53.800315Z",
     "iopub.status.idle": "2023-07-10T06:58:53.835320Z",
     "shell.execute_reply": "2023-07-10T06:58:53.834243Z"
    },
    "papermill": {
     "duration": 0.047445,
     "end_time": "2023-07-10T06:58:53.837895",
     "exception": false,
     "start_time": "2023-07-10T06:58:53.790450",
     "status": "completed"
    },
    "tags": []
   },
   "outputs": [],
   "source": [
    "metadata = pd.read_csv('/kaggle/input/mars-spec-train/metadata.csv').fillna(0)\n",
    "train_labels = pd.read_csv('/kaggle/input/mars-spec-train/train_labels.csv')"
   ]
  },
  {
   "cell_type": "code",
   "execution_count": 4,
   "id": "531419d7",
   "metadata": {
    "execution": {
     "iopub.execute_input": "2023-07-10T06:58:53.857288Z",
     "iopub.status.busy": "2023-07-10T06:58:53.856556Z",
     "iopub.status.idle": "2023-07-10T06:58:53.889352Z",
     "shell.execute_reply": "2023-07-10T06:58:53.888248Z"
    },
    "papermill": {
     "duration": 0.045283,
     "end_time": "2023-07-10T06:58:53.891778",
     "exception": false,
     "start_time": "2023-07-10T06:58:53.846495",
     "status": "completed"
    },
    "tags": []
   },
   "outputs": [
    {
     "data": {
      "text/html": [
       "<div>\n",
       "<style scoped>\n",
       "    .dataframe tbody tr th:only-of-type {\n",
       "        vertical-align: middle;\n",
       "    }\n",
       "\n",
       "    .dataframe tbody tr th {\n",
       "        vertical-align: top;\n",
       "    }\n",
       "\n",
       "    .dataframe thead th {\n",
       "        text-align: right;\n",
       "    }\n",
       "</style>\n",
       "<table border=\"1\" class=\"dataframe\">\n",
       "  <thead>\n",
       "    <tr style=\"text-align: right;\">\n",
       "      <th></th>\n",
       "      <th>sample_id</th>\n",
       "      <th>split</th>\n",
       "      <th>derivatized</th>\n",
       "      <th>features_path</th>\n",
       "      <th>features_md5_hash</th>\n",
       "    </tr>\n",
       "  </thead>\n",
       "  <tbody>\n",
       "    <tr>\n",
       "      <th>0</th>\n",
       "      <td>S0000</td>\n",
       "      <td>train</td>\n",
       "      <td>0.0</td>\n",
       "      <td>train_features/S0000.csv</td>\n",
       "      <td>52ec6d6f8372500ab4e069b5fbdae6f9</td>\n",
       "    </tr>\n",
       "    <tr>\n",
       "      <th>1</th>\n",
       "      <td>S0001</td>\n",
       "      <td>train</td>\n",
       "      <td>0.0</td>\n",
       "      <td>train_features/S0001.csv</td>\n",
       "      <td>348f90baed8a8189bf0d4c7b9ed9f965</td>\n",
       "    </tr>\n",
       "  </tbody>\n",
       "</table>\n",
       "</div>"
      ],
      "text/plain": [
       "  sample_id  split  derivatized             features_path  \\\n",
       "0     S0000  train          0.0  train_features/S0000.csv   \n",
       "1     S0001  train          0.0  train_features/S0001.csv   \n",
       "\n",
       "                  features_md5_hash  \n",
       "0  52ec6d6f8372500ab4e069b5fbdae6f9  \n",
       "1  348f90baed8a8189bf0d4c7b9ed9f965  "
      ]
     },
     "execution_count": 4,
     "metadata": {},
     "output_type": "execute_result"
    }
   ],
   "source": [
    "metadata.head(2)"
   ]
  },
  {
   "cell_type": "code",
   "execution_count": 5,
   "id": "d3842f36",
   "metadata": {
    "execution": {
     "iopub.execute_input": "2023-07-10T06:58:53.911166Z",
     "iopub.status.busy": "2023-07-10T06:58:53.910761Z",
     "iopub.status.idle": "2023-07-10T06:58:53.923841Z",
     "shell.execute_reply": "2023-07-10T06:58:53.922767Z"
    },
    "papermill": {
     "duration": 0.025783,
     "end_time": "2023-07-10T06:58:53.926293",
     "exception": false,
     "start_time": "2023-07-10T06:58:53.900510",
     "status": "completed"
    },
    "tags": []
   },
   "outputs": [
    {
     "data": {
      "text/html": [
       "<div>\n",
       "<style scoped>\n",
       "    .dataframe tbody tr th:only-of-type {\n",
       "        vertical-align: middle;\n",
       "    }\n",
       "\n",
       "    .dataframe tbody tr th {\n",
       "        vertical-align: top;\n",
       "    }\n",
       "\n",
       "    .dataframe thead th {\n",
       "        text-align: right;\n",
       "    }\n",
       "</style>\n",
       "<table border=\"1\" class=\"dataframe\">\n",
       "  <thead>\n",
       "    <tr style=\"text-align: right;\">\n",
       "      <th></th>\n",
       "      <th>sample_id</th>\n",
       "      <th>aromatic</th>\n",
       "      <th>hydrocarbon</th>\n",
       "      <th>carboxylic_acid</th>\n",
       "      <th>nitrogen_bearing_compound</th>\n",
       "      <th>chlorine_bearing_compound</th>\n",
       "      <th>sulfur_bearing_compound</th>\n",
       "      <th>alcohol</th>\n",
       "      <th>other_oxygen_bearing_compound</th>\n",
       "      <th>mineral</th>\n",
       "    </tr>\n",
       "  </thead>\n",
       "  <tbody>\n",
       "    <tr>\n",
       "      <th>0</th>\n",
       "      <td>S0000</td>\n",
       "      <td>0</td>\n",
       "      <td>0</td>\n",
       "      <td>0</td>\n",
       "      <td>0</td>\n",
       "      <td>0</td>\n",
       "      <td>0</td>\n",
       "      <td>0</td>\n",
       "      <td>0</td>\n",
       "      <td>1</td>\n",
       "    </tr>\n",
       "    <tr>\n",
       "      <th>1</th>\n",
       "      <td>S0001</td>\n",
       "      <td>0</td>\n",
       "      <td>0</td>\n",
       "      <td>0</td>\n",
       "      <td>0</td>\n",
       "      <td>0</td>\n",
       "      <td>0</td>\n",
       "      <td>0</td>\n",
       "      <td>0</td>\n",
       "      <td>0</td>\n",
       "    </tr>\n",
       "  </tbody>\n",
       "</table>\n",
       "</div>"
      ],
      "text/plain": [
       "  sample_id  aromatic  hydrocarbon  carboxylic_acid  \\\n",
       "0     S0000         0            0                0   \n",
       "1     S0001         0            0                0   \n",
       "\n",
       "   nitrogen_bearing_compound  chlorine_bearing_compound  \\\n",
       "0                          0                          0   \n",
       "1                          0                          0   \n",
       "\n",
       "   sulfur_bearing_compound  alcohol  other_oxygen_bearing_compound  mineral  \n",
       "0                        0        0                              0        1  \n",
       "1                        0        0                              0        0  "
      ]
     },
     "execution_count": 5,
     "metadata": {},
     "output_type": "execute_result"
    }
   ],
   "source": [
    "train_labels.head(2)"
   ]
  },
  {
   "cell_type": "markdown",
   "id": "6a10a203",
   "metadata": {
    "papermill": {
     "duration": 0.008659,
     "end_time": "2023-07-10T06:58:53.944168",
     "exception": false,
     "start_time": "2023-07-10T06:58:53.935509",
     "status": "completed"
    },
    "tags": []
   },
   "source": [
    "### 2. Preprocessing, Feature extraction"
   ]
  },
  {
   "cell_type": "code",
   "execution_count": 6,
   "id": "13e6dfe0",
   "metadata": {
    "execution": {
     "iopub.execute_input": "2023-07-10T06:58:53.964122Z",
     "iopub.status.busy": "2023-07-10T06:58:53.963681Z",
     "iopub.status.idle": "2023-07-10T06:58:53.969129Z",
     "shell.execute_reply": "2023-07-10T06:58:53.967904Z"
    },
    "papermill": {
     "duration": 0.018455,
     "end_time": "2023-07-10T06:58:53.971639",
     "exception": false,
     "start_time": "2023-07-10T06:58:53.953184",
     "status": "completed"
    },
    "tags": []
   },
   "outputs": [],
   "source": [
    "# constants\n",
    "num_mass_values = 1350\n",
    "num_time_values = 2650\n",
    "matrix_shape = (num_time_values, num_mass_values)\n"
   ]
  },
  {
   "cell_type": "code",
   "execution_count": 7,
   "id": "76bbb5a7",
   "metadata": {
    "execution": {
     "iopub.execute_input": "2023-07-10T06:58:53.991944Z",
     "iopub.status.busy": "2023-07-10T06:58:53.991437Z",
     "iopub.status.idle": "2023-07-10T06:58:54.001148Z",
     "shell.execute_reply": "2023-07-10T06:58:54.000029Z"
    },
    "papermill": {
     "duration": 0.022702,
     "end_time": "2023-07-10T06:58:54.003502",
     "exception": false,
     "start_time": "2023-07-10T06:58:53.980800",
     "status": "completed"
    },
    "tags": []
   },
   "outputs": [],
   "source": [
    "\n",
    "# Function to create the Time X Mass matrix for a single data sample\n",
    "def create_matrix(id ):\n",
    "    \n",
    "    sample_id, split, derivate, path, _ = metadata.iloc[id]\n",
    "#     print(path)\n",
    "    path = '/kaggle/input/mars-spec-train/'+ path\n",
    "    data = pd.read_csv(path)\n",
    "\n",
    "    label = None\n",
    "    if (split == 'train'):\n",
    "        label = train_labels.iloc[id].values[1:]\n",
    "\n",
    "    # discretization of time and mass\n",
    "    data.time = (data.time*50).round()\n",
    "    data.mass = (data.mass*2).round()\n",
    "    data.time = data.time.astype(int)\n",
    "    data.mass = data.mass.astype(int)\n",
    "    \n",
    "    # scaling intensity\n",
    "    data.intensity = MinMaxScaler().fit_transform(data.intensity.values.reshape(-1, 1))\n",
    "    \n",
    "    # filling matrix\n",
    "    matrix = np.zeros(matrix_shape)\n",
    "    matrix[data['time'],data['mass']] = data['intensity']\n",
    "\n",
    "    return matrix , label\n"
   ]
  },
  {
   "cell_type": "code",
   "execution_count": 8,
   "id": "d330806c",
   "metadata": {
    "execution": {
     "iopub.execute_input": "2023-07-10T06:58:54.023448Z",
     "iopub.status.busy": "2023-07-10T06:58:54.023077Z",
     "iopub.status.idle": "2023-07-10T06:58:54.389950Z",
     "shell.execute_reply": "2023-07-10T06:58:54.388739Z"
    },
    "papermill": {
     "duration": 0.37977,
     "end_time": "2023-07-10T06:58:54.392594",
     "exception": false,
     "start_time": "2023-07-10T06:58:54.012824",
     "status": "completed"
    },
    "tags": []
   },
   "outputs": [
    {
     "data": {
      "text/plain": [
       "(array([[0., 0., 0., ..., 0., 0., 0.],\n",
       "        [0., 0., 0., ..., 0., 0., 0.],\n",
       "        [0., 0., 0., ..., 0., 0., 0.],\n",
       "        ...,\n",
       "        [0., 0., 0., ..., 0., 0., 0.],\n",
       "        [0., 0., 0., ..., 0., 0., 0.],\n",
       "        [0., 0., 0., ..., 0., 0., 0.]]),\n",
       " array([0, 0, 0, 0, 0, 0, 0, 0, 0], dtype=object))"
      ]
     },
     "execution_count": 8,
     "metadata": {},
     "output_type": "execute_result"
    }
   ],
   "source": [
    "sample_matrix, sample_label= create_matrix(np.random.randint(809)) ## 0.2 second # max = 1120\n",
    "sample_matrix[0:100, 100:200],sample_label\n",
    "# print(sample_matrix[500:1000,np.random.randint(0,100)])"
   ]
  },
  {
   "cell_type": "markdown",
   "id": "57fad41b",
   "metadata": {
    "papermill": {
     "duration": 0.008831,
     "end_time": "2023-07-10T06:58:54.410571",
     "exception": false,
     "start_time": "2023-07-10T06:58:54.401740",
     "status": "completed"
    },
    "tags": []
   },
   "source": [
    "Dummy model"
   ]
  },
  {
   "cell_type": "code",
   "execution_count": 9,
   "id": "896610e3",
   "metadata": {
    "execution": {
     "iopub.execute_input": "2023-07-10T06:58:54.430962Z",
     "iopub.status.busy": "2023-07-10T06:58:54.430572Z",
     "iopub.status.idle": "2023-07-10T06:58:54.434886Z",
     "shell.execute_reply": "2023-07-10T06:58:54.433992Z"
    },
    "papermill": {
     "duration": 0.017132,
     "end_time": "2023-07-10T06:58:54.436974",
     "exception": false,
     "start_time": "2023-07-10T06:58:54.419842",
     "status": "completed"
    },
    "tags": []
   },
   "outputs": [],
   "source": [
    "training_data = range(809)  # Load your training data\n"
   ]
  },
  {
   "cell_type": "code",
   "execution_count": 10,
   "id": "fd96cd4a",
   "metadata": {
    "execution": {
     "iopub.execute_input": "2023-07-10T06:58:54.457211Z",
     "iopub.status.busy": "2023-07-10T06:58:54.456792Z",
     "iopub.status.idle": "2023-07-10T06:58:54.468082Z",
     "shell.execute_reply": "2023-07-10T06:58:54.467007Z"
    },
    "papermill": {
     "duration": 0.024102,
     "end_time": "2023-07-10T06:58:54.470336",
     "exception": false,
     "start_time": "2023-07-10T06:58:54.446234",
     "status": "completed"
    },
    "tags": []
   },
   "outputs": [],
   "source": [
    "class DataGenerator(Sequence):\n",
    "    \n",
    "    def __init__(self, data, batch_size):\n",
    "        self.data = data\n",
    "        self.batch_size = batch_size\n",
    "    def __len__(self):\n",
    "        return len(self.data) // self.batch_size\n",
    "\n",
    "    def __getitem__(self, idx):        \n",
    "        \n",
    "        low = idx * self.batch_size\n",
    "        high = min(low + self.batch_size, len(self.data))\n",
    "        batch_x = []\n",
    "        batch_y = []\n",
    "\n",
    "        for i,data_sample in enumerate(self.data[low:high]):\n",
    "            processed_sample, processed_label = self.preprocess_data(data_sample)\n",
    "            batch_x.append(processed_sample)\n",
    "            batch_y.append(processed_label)\n",
    "        return np.array(batch_x), np.array(batch_y)\n",
    "\n",
    "    def preprocess_data(self, data_sample):\n",
    "        # Perform the feature extraction steps and create the matrix\n",
    "        matrix, label = create_matrix(data_sample)\n",
    "        if type(label) == np.ndarray:\n",
    "            label = np.array(label).astype(int)\n",
    "        return matrix , label\n",
    "    \n",
    "    def getLabel(self, data_sample):\n",
    "        matrix, label = create_matrix(data_sample)\n",
    "        if type(label) == np.ndarray:\n",
    "            label = np.array(label).astype(int)\n",
    "        return label\n"
   ]
  },
  {
   "cell_type": "code",
   "execution_count": 11,
   "id": "e8b37acd",
   "metadata": {
    "execution": {
     "iopub.execute_input": "2023-07-10T06:58:54.490337Z",
     "iopub.status.busy": "2023-07-10T06:58:54.489958Z",
     "iopub.status.idle": "2023-07-10T06:58:54.502473Z",
     "shell.execute_reply": "2023-07-10T06:58:54.501406Z"
    },
    "papermill": {
     "duration": 0.025263,
     "end_time": "2023-07-10T06:58:54.504853",
     "exception": false,
     "start_time": "2023-07-10T06:58:54.479590",
     "status": "completed"
    },
    "tags": []
   },
   "outputs": [
    {
     "data": {
      "text/plain": [
       "array([[0, 1, 0, 0, 0, 0, 0, 0, 0],\n",
       "       [0, 0, 1, 0, 0, 0, 0, 0, 0],\n",
       "       [0, 1, 0, 0, 0, 0, 0, 0, 0]])"
      ]
     },
     "execution_count": 11,
     "metadata": {},
     "output_type": "execute_result"
    }
   ],
   "source": [
    "train_data, val_data = train_test_split(training_data, test_size=0.2, random_state=42)\n",
    "train_labels.iloc[[3,334,534]].values[:,1:].astype(int)"
   ]
  },
  {
   "cell_type": "code",
   "execution_count": 12,
   "id": "69f8a1cf",
   "metadata": {
    "execution": {
     "iopub.execute_input": "2023-07-10T06:58:54.524847Z",
     "iopub.status.busy": "2023-07-10T06:58:54.524448Z",
     "iopub.status.idle": "2023-07-10T06:58:54.532084Z",
     "shell.execute_reply": "2023-07-10T06:58:54.530974Z"
    },
    "papermill": {
     "duration": 0.020217,
     "end_time": "2023-07-10T06:58:54.534284",
     "exception": false,
     "start_time": "2023-07-10T06:58:54.514067",
     "status": "completed"
    },
    "tags": []
   },
   "outputs": [],
   "source": [
    "def log_loss_agg(y_test,y_pred):\n",
    "    y_test = y_test.astype(np.float16)\n",
    "    y_pred = y_pred.astype(np.float16)\n",
    "    N,M = y_test.shape\n",
    "    a=[]\n",
    "    for m in range(M):\n",
    "        loss=0\n",
    "        for i in range(N):\n",
    "            loss -= ((y_test[i,m]*np.log(y_pred[i,m]))+((1.0-y_test[i,m])*np.log(1.0-y_pred[i,m])))\n",
    "        loss = loss/N\n",
    "        a.append(round(loss,8))\n",
    "    return np.array(a)"
   ]
  },
  {
   "cell_type": "code",
   "execution_count": 13,
   "id": "92f02776",
   "metadata": {
    "execution": {
     "iopub.execute_input": "2023-07-10T06:58:54.554534Z",
     "iopub.status.busy": "2023-07-10T06:58:54.554185Z",
     "iopub.status.idle": "2023-07-10T06:58:54.793043Z",
     "shell.execute_reply": "2023-07-10T06:58:54.791915Z"
    },
    "papermill": {
     "duration": 0.257316,
     "end_time": "2023-07-10T06:58:54.800767",
     "exception": false,
     "start_time": "2023-07-10T06:58:54.543451",
     "status": "completed"
    },
    "tags": []
   },
   "outputs": [
    {
     "name": "stdout",
     "output_type": "stream",
     "text": [
      "Model: \"sequential\"\n",
      "_________________________________________________________________\n",
      " Layer (type)                Output Shape              Param #   \n",
      "=================================================================\n",
      " conv2d (Conv2D)             (None, 1323, 1346, 4)     104       \n",
      "                                                                 \n",
      " max_pooling2d (MaxPooling2D  (None, 32, 268, 4)       0         \n",
      " )                                                               \n",
      "                                                                 \n",
      " flatten (Flatten)           (None, 34304)             0         \n",
      "                                                                 \n",
      " dense (Dense)               (None, 32)                1097760   \n",
      "                                                                 \n",
      " dense_1 (Dense)             (None, 9)                 297       \n",
      "                                                                 \n",
      "=================================================================\n",
      "Total params: 1,098,161\n",
      "Trainable params: 1,098,161\n",
      "Non-trainable params: 0\n",
      "_________________________________________________________________\n"
     ]
    }
   ],
   "source": [
    "from tensorflow.keras.models import Sequential\n",
    "from tensorflow.keras.layers import Conv2D, MaxPooling2D, Flatten, Dense\n",
    "from sklearn.metrics import log_loss\n",
    "model = Sequential()\n",
    "\n",
    "model.add(Conv2D(4, kernel_size=(5, 5),strides = (2,1), activation='relu', input_shape=(2650, 1350, 1)))\n",
    "model.add(MaxPooling2D(pool_size=(80, 10), strides=(40,5)))\n",
    "\n",
    "model.add(Flatten())\n",
    "\n",
    "model.add(Dense(32, activation='relu'))\n",
    "\n",
    "model.add(Dense(9, activation='sigmoid'))\n",
    "\n",
    "model.compile(loss='binary_crossentropy', optimizer='adam', metrics=['accuracy', \"AUC\"])\n",
    "\n",
    "# Define the batch size and number of epochs\n",
    "batch_size = 16\n",
    "num_epochs = 32\n",
    "\n",
    "# Create instances of the custom data generator for training and validation\n",
    "train_data_generator = DataGenerator(train_data, batch_size)\n",
    "val_data_generator = DataGenerator(val_data, batch_size)\n",
    "\n",
    "model.summary()"
   ]
  },
  {
   "cell_type": "code",
   "execution_count": 14,
   "id": "2194dc06",
   "metadata": {
    "execution": {
     "iopub.execute_input": "2023-07-10T06:58:54.824536Z",
     "iopub.status.busy": "2023-07-10T06:58:54.824135Z",
     "iopub.status.idle": "2023-07-10T08:34:25.735628Z",
     "shell.execute_reply": "2023-07-10T08:34:25.727976Z"
    },
    "papermill": {
     "duration": 5730.974475,
     "end_time": "2023-07-10T08:34:25.786147",
     "exception": false,
     "start_time": "2023-07-10T06:58:54.811672",
     "status": "completed"
    },
    "tags": []
   },
   "outputs": [
    {
     "name": "stdout",
     "output_type": "stream",
     "text": [
      "Epoch 1/32\n",
      "40/40 [==============================] - 533s 13s/step - loss: 0.3626 - accuracy: 0.2391 - auc: 0.6745 - val_loss: 0.2472 - val_accuracy: 0.3688 - val_auc: 0.8242\n",
      "Epoch 2/32\n",
      "40/40 [==============================] - 519s 13s/step - loss: 0.2493 - accuracy: 0.3781 - auc: 0.8352 - val_loss: 0.2184 - val_accuracy: 0.3938 - val_auc: 0.8764\n",
      "Epoch 3/32\n",
      "40/40 [==============================] - 533s 13s/step - loss: 0.2127 - accuracy: 0.4141 - auc: 0.8878 - val_loss: 0.1913 - val_accuracy: 0.3812 - val_auc: 0.9142\n",
      "Epoch 4/32\n",
      "40/40 [==============================] - 565s 14s/step - loss: 0.1869 - accuracy: 0.4500 - auc: 0.9170 - val_loss: 0.1733 - val_accuracy: 0.4375 - val_auc: 0.9299\n",
      "Epoch 5/32\n",
      "40/40 [==============================] - 569s 14s/step - loss: 0.1629 - accuracy: 0.4578 - auc: 0.9436 - val_loss: 0.1621 - val_accuracy: 0.4500 - val_auc: 0.9396\n",
      "Epoch 6/32\n",
      "40/40 [==============================] - 574s 14s/step - loss: 0.1451 - accuracy: 0.4906 - auc: 0.9580 - val_loss: 0.1626 - val_accuracy: 0.4563 - val_auc: 0.9363\n",
      "Epoch 7/32\n",
      "40/40 [==============================] - 520s 13s/step - loss: 0.1377 - accuracy: 0.4859 - auc: 0.9636 - val_loss: 0.1575 - val_accuracy: 0.4563 - val_auc: 0.9425\n",
      "Epoch 8/32\n",
      "40/40 [==============================] - 511s 13s/step - loss: 0.1247 - accuracy: 0.5047 - auc: 0.9716 - val_loss: 0.1645 - val_accuracy: 0.4437 - val_auc: 0.9356\n",
      "Epoch 9/32\n",
      "40/40 [==============================] - 546s 13s/step - loss: 0.1182 - accuracy: 0.4938 - auc: 0.9746 - val_loss: 0.1594 - val_accuracy: 0.4500 - val_auc: 0.9472\n",
      "Epoch 10/32\n",
      "40/40 [==============================] - 531s 13s/step - loss: 0.1129 - accuracy: 0.5078 - auc: 0.9776 - val_loss: 0.1611 - val_accuracy: 0.4563 - val_auc: 0.9388\n"
     ]
    }
   ],
   "source": [
    "from tensorflow.keras.callbacks import EarlyStopping\n",
    "es = EarlyStopping(monitor = 'val_loss', patience = 3 )\n",
    "history = model.fit(train_data_generator, epochs=num_epochs, validation_data=val_data_generator, callbacks=[es])"
   ]
  },
  {
   "cell_type": "code",
   "execution_count": 15,
   "id": "35392dca",
   "metadata": {
    "execution": {
     "iopub.execute_input": "2023-07-10T08:34:25.893405Z",
     "iopub.status.busy": "2023-07-10T08:34:25.891623Z",
     "iopub.status.idle": "2023-07-10T08:34:26.096116Z",
     "shell.execute_reply": "2023-07-10T08:34:26.095005Z"
    },
    "papermill": {
     "duration": 0.264458,
     "end_time": "2023-07-10T08:34:26.099480",
     "exception": false,
     "start_time": "2023-07-10T08:34:25.835022",
     "status": "completed"
    },
    "tags": []
   },
   "outputs": [],
   "source": [
    "# model = ...  # Get model (Sequential, Functional Model, or Model subclass)\n",
    "model.save('model3.keras')\n",
    "# metadata.to_csv(\"opopo\")"
   ]
  },
  {
   "cell_type": "code",
   "execution_count": 16,
   "id": "1e5acf19",
   "metadata": {
    "execution": {
     "iopub.execute_input": "2023-07-10T08:34:26.201561Z",
     "iopub.status.busy": "2023-07-10T08:34:26.200430Z",
     "iopub.status.idle": "2023-07-10T08:41:29.877606Z",
     "shell.execute_reply": "2023-07-10T08:41:29.876261Z"
    },
    "papermill": {
     "duration": 423.735014,
     "end_time": "2023-07-10T08:41:29.884000",
     "exception": false,
     "start_time": "2023-07-10T08:34:26.148986",
     "status": "completed"
    },
    "tags": []
   },
   "outputs": [
    {
     "name": "stdout",
     "output_type": "stream",
     "text": [
      "0\n",
      "100\n",
      "200\n",
      "300\n",
      "400\n",
      "500\n",
      "600\n"
     ]
    }
   ],
   "source": [
    "train_loss = 0\n",
    "train_lab = []\n",
    "train_pred = []\n",
    "from sklearn.metrics import log_loss\n",
    "for i,data in enumerate(train_data):\n",
    "    mat , lab = create_matrix(data)\n",
    "    lab = np.array(lab).astype(int).reshape(1,9)\n",
    "    pred = model.predict(mat.reshape(-1,2650,1350,1), verbose = 0)\n",
    "    train_lab.append(lab)\n",
    "    train_pred.append(pred)\n",
    "    if (i%100 == 0):\n",
    "        print (i)"
   ]
  },
  {
   "cell_type": "code",
   "execution_count": 17,
   "id": "ce0a96e0",
   "metadata": {
    "execution": {
     "iopub.execute_input": "2023-07-10T08:41:29.987061Z",
     "iopub.status.busy": "2023-07-10T08:41:29.986278Z",
     "iopub.status.idle": "2023-07-10T08:41:30.026490Z",
     "shell.execute_reply": "2023-07-10T08:41:30.025015Z"
    },
    "papermill": {
     "duration": 0.095813,
     "end_time": "2023-07-10T08:41:30.029281",
     "exception": false,
     "start_time": "2023-07-10T08:41:29.933468",
     "status": "completed"
    },
    "tags": []
   },
   "outputs": [
    {
     "name": "stdout",
     "output_type": "stream",
     "text": [
      "train log loss : 0.9294082760524709\n"
     ]
    }
   ],
   "source": [
    "\n",
    "train_lab = np.array(train_lab).reshape(-1,9)\n",
    "train_pred = np.array(train_pred).reshape(-1,9)\n",
    "print(f\"train log loss : {log_loss(train_lab, train_pred)}\")"
   ]
  },
  {
   "cell_type": "code",
   "execution_count": 18,
   "id": "eaf0f25f",
   "metadata": {
    "execution": {
     "iopub.execute_input": "2023-07-10T08:41:30.130738Z",
     "iopub.status.busy": "2023-07-10T08:41:30.129548Z",
     "iopub.status.idle": "2023-07-10T08:43:10.700039Z",
     "shell.execute_reply": "2023-07-10T08:43:10.698676Z"
    },
    "papermill": {
     "duration": 100.62415,
     "end_time": "2023-07-10T08:43:10.702885",
     "exception": false,
     "start_time": "2023-07-10T08:41:30.078735",
     "status": "completed"
    },
    "tags": []
   },
   "outputs": [
    {
     "name": "stdout",
     "output_type": "stream",
     "text": [
      "0\n",
      "100\n"
     ]
    }
   ],
   "source": [
    "val_loss = 0\n",
    "val_lab = []\n",
    "val_pred = []\n",
    "from sklearn.metrics import log_loss\n",
    "for i,data in enumerate(val_data):\n",
    "    mat , lab = create_matrix(data)\n",
    "    lab = np.array(lab).astype(int).reshape(1,9)\n",
    "    pred = model.predict(mat.reshape(-1,2650,1350,1), verbose = 0)\n",
    "    val_lab.append(lab)\n",
    "    val_pred.append(pred)\n",
    "    if (i%100 == 0):\n",
    "        print (i)"
   ]
  },
  {
   "cell_type": "code",
   "execution_count": 19,
   "id": "bbc9fac8",
   "metadata": {
    "execution": {
     "iopub.execute_input": "2023-07-10T08:43:10.805175Z",
     "iopub.status.busy": "2023-07-10T08:43:10.804734Z",
     "iopub.status.idle": "2023-07-10T08:43:10.811268Z",
     "shell.execute_reply": "2023-07-10T08:43:10.810201Z"
    },
    "papermill": {
     "duration": 0.060521,
     "end_time": "2023-07-10T08:43:10.813630",
     "exception": false,
     "start_time": "2023-07-10T08:43:10.753109",
     "status": "completed"
    },
    "tags": []
   },
   "outputs": [],
   "source": [
    "val_lab = np.array(val_lab).reshape(-1,9)\n",
    "val_pred = np.array(val_pred).reshape(-1,9)"
   ]
  },
  {
   "cell_type": "code",
   "execution_count": 20,
   "id": "ba50238e",
   "metadata": {
    "execution": {
     "iopub.execute_input": "2023-07-10T08:43:10.915073Z",
     "iopub.status.busy": "2023-07-10T08:43:10.914615Z",
     "iopub.status.idle": "2023-07-10T08:43:10.923523Z",
     "shell.execute_reply": "2023-07-10T08:43:10.922138Z"
    },
    "papermill": {
     "duration": 0.062828,
     "end_time": "2023-07-10T08:43:10.926183",
     "exception": false,
     "start_time": "2023-07-10T08:43:10.863355",
     "status": "completed"
    },
    "tags": []
   },
   "outputs": [
    {
     "name": "stdout",
     "output_type": "stream",
     "text": [
      "valid log loss : 1.0541745896278631\n"
     ]
    }
   ],
   "source": [
    "print(f\"valid log loss : {log_loss(val_lab, val_pred).mean()}\")"
   ]
  },
  {
   "cell_type": "markdown",
   "id": "6571f36a",
   "metadata": {
    "papermill": {
     "duration": 0.049755,
     "end_time": "2023-07-10T08:43:11.025424",
     "exception": false,
     "start_time": "2023-07-10T08:43:10.975669",
     "status": "completed"
    },
    "tags": []
   },
   "source": [
    "train log loss : 1.0316461173431106 \\\n",
    "valid log loss : 1.0560311513842007 \\\n",
    "sample predictions below"
   ]
  },
  {
   "cell_type": "code",
   "execution_count": 21,
   "id": "535a3298",
   "metadata": {
    "execution": {
     "iopub.execute_input": "2023-07-10T08:43:11.127922Z",
     "iopub.status.busy": "2023-07-10T08:43:11.127239Z",
     "iopub.status.idle": "2023-07-10T08:43:17.851670Z",
     "shell.execute_reply": "2023-07-10T08:43:17.850478Z"
    },
    "papermill": {
     "duration": 6.778963,
     "end_time": "2023-07-10T08:43:17.854346",
     "exception": false,
     "start_time": "2023-07-10T08:43:11.075383",
     "status": "completed"
    },
    "tags": []
   },
   "outputs": [
    {
     "name": "stdout",
     "output_type": "stream",
     "text": [
      "1th prediction\n",
      "prediction :  [1 0 1 1 0 0 0 0 0]\n",
      "true label :  [1 0 1 1 0 0 0 0 0]\n",
      "2th prediction\n",
      "prediction :  [0 1 0 0 0 0 0 0 0]\n",
      "true label :  [0 1 0 0 0 0 0 0 0]\n",
      "3th prediction\n",
      "prediction :  [0 0 0 0 0 0 0 0 0]\n",
      "true label :  [0 0 0 0 0 0 1 0 0]\n",
      "4th prediction\n",
      "prediction :  [0 0 0 0 0 0 0 0 0]\n",
      "true label :  [0 0 0 0 0 0 0 0 0]\n",
      "5th prediction\n",
      "prediction :  [0 0 0 0 0 0 0 0 0]\n",
      "true label :  [0 0 0 0 0 0 0 0 0]\n",
      "6th prediction\n",
      "prediction :  [0 0 0 0 0 0 0 0 1]\n",
      "true label :  [0 0 0 0 0 0 0 0 0]\n",
      "7th prediction\n",
      "prediction :  [0 0 0 0 0 0 0 0 1]\n",
      "true label :  [0 0 0 0 0 0 0 0 1]\n",
      "8th prediction\n",
      "prediction :  [0 0 0 0 0 0 0 0 0]\n",
      "true label :  [0 0 0 0 0 0 0 0 0]\n",
      "9th prediction\n",
      "prediction :  [0 0 0 0 0 0 0 0 0]\n",
      "true label :  [0 0 0 0 0 0 0 0 0]\n",
      "10th prediction\n",
      "prediction :  [0 1 0 0 0 0 0 0 0]\n",
      "true label :  [0 1 0 0 0 0 0 0 0]\n"
     ]
    }
   ],
   "source": [
    "for i in range (10):\n",
    "    sample_matrix, sample_label= create_matrix(np.random.randint(809)) ## 0.2 second # max = 1120\n",
    "    print (f\"{i+1}th prediction\")\n",
    "    print(\"prediction : \",(model.predict(sample_matrix.reshape(-1, 2650,1350,1),verbose = 0).round().astype(int)).squeeze())\n",
    "    print(\"true label : \",np.array(sample_label))"
   ]
  }
 ],
 "metadata": {
  "kernelspec": {
   "display_name": "Python 3",
   "language": "python",
   "name": "python3"
  },
  "language_info": {
   "codemirror_mode": {
    "name": "ipython",
    "version": 3
   },
   "file_extension": ".py",
   "mimetype": "text/x-python",
   "name": "python",
   "nbconvert_exporter": "python",
   "pygments_lexer": "ipython3",
   "version": "3.10.10"
  },
  "papermill": {
   "default_parameters": {},
   "duration": 6290.594737,
   "end_time": "2023-07-10T08:43:21.601159",
   "environment_variables": {},
   "exception": null,
   "input_path": "__notebook__.ipynb",
   "output_path": "__notebook__.ipynb",
   "parameters": {},
   "start_time": "2023-07-10T06:58:31.006422",
   "version": "2.4.0"
  }
 },
 "nbformat": 4,
 "nbformat_minor": 5
}
