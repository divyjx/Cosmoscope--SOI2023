{
 "cells": [
  {
   "cell_type": "code",
   "execution_count": 2,
   "metadata": {},
   "outputs": [],
   "source": [
    "# for processing numbers and files csv\n",
    "import pandas as pd\n",
    "import numpy as np\n",
    "from sklearn.metrics import log_loss"
   ]
  },
  {
   "cell_type": "code",
   "execution_count": 3,
   "metadata": {},
   "outputs": [],
   "source": [
    "train_labels = pd.read_csv('train_labels.csv')"
   ]
  },
  {
   "cell_type": "code",
   "execution_count": 4,
   "metadata": {},
   "outputs": [
    {
     "name": "stdout",
     "output_type": "stream",
     "text": [
      "train_predictions1\n",
      "\n",
      "aromatic :                                         0.169\n",
      "hydrocarbon :                                      0.2391\n",
      "carboxylic_acid :                                  0.1896\n",
      "nitrogen_bearing_compound :                        0.1425\n",
      "chlorine_bearing_compound :                        0.0648\n",
      "sulfur_bearing_compound :                          0.1043\n",
      "alcohol :                                          0.0979\n",
      "other_oxygen_bearing_compound :                    0.0782\n",
      "mineral :                                          0.2111\n",
      "\n",
      "train_predictions3\n",
      "\n",
      "aromatic :                                         0.1253\n",
      "hydrocarbon :                                      0.1805\n",
      "carboxylic_acid :                                  0.1353\n",
      "nitrogen_bearing_compound :                        0.1261\n",
      "chlorine_bearing_compound :                        0.0544\n",
      "sulfur_bearing_compound :                          0.0636\n",
      "alcohol :                                          0.0809\n",
      "other_oxygen_bearing_compound :                    0.06\n",
      "mineral :                                          0.201\n",
      "\n",
      "train_predictions4\n",
      "\n",
      "aromatic :                                         0.1406\n",
      "hydrocarbon :                                      0.1703\n",
      "carboxylic_acid :                                  0.1602\n",
      "nitrogen_bearing_compound :                        0.1305\n",
      "chlorine_bearing_compound :                        0.0393\n",
      "sulfur_bearing_compound :                          0.0582\n",
      "alcohol :                                          0.0609\n",
      "other_oxygen_bearing_compound :                    0.0524\n",
      "mineral :                                          0.1841\n"
     ]
    }
   ],
   "source": [
    "predictions = pd.read_csv('train_predictions1.csv')\n",
    "print(\"train_predictions1\\n\")\n",
    "for col in train_labels.columns[1:]:\n",
    "    loss = log_loss(train_labels[col].values,predictions[col].values) \n",
    "    print(f\"{col} :\".ljust(50,\" \"), loss.round(4) )\n",
    "    # break    \n",
    "\n",
    "predictions = pd.read_csv('train_predictions3.csv')\n",
    "print(\"\\ntrain_predictions3\\n\")\n",
    "for col in train_labels.columns[1:]:\n",
    "    loss = log_loss(train_labels[col].values,predictions[col].values) \n",
    "    print(f\"{col} :\".ljust(50,\" \"), loss.round(4) )\n",
    "    # break    \n",
    "\n",
    "predictions = pd.read_csv('train_predictions4.csv')\n",
    "print(\"\\ntrain_predictions4\\n\")\n",
    "for col in train_labels.columns[1:]:\n",
    "    loss = log_loss(train_labels[col].values,predictions[col].values) \n",
    "    print(f\"{col} :\".ljust(50,\" \"), loss.round(4) )\n",
    "    # break    \n"
   ]
  }
 ],
 "metadata": {
  "kernelspec": {
   "display_name": "Python 3",
   "language": "python",
   "name": "python3"
  },
  "language_info": {
   "codemirror_mode": {
    "name": "ipython",
    "version": 3
   },
   "file_extension": ".py",
   "mimetype": "text/x-python",
   "name": "python",
   "nbconvert_exporter": "python",
   "pygments_lexer": "ipython3",
   "version": "3.11.3"
  },
  "orig_nbformat": 4
 },
 "nbformat": 4,
 "nbformat_minor": 2
}
