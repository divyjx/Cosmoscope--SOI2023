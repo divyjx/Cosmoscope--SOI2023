{
 "cells": [
  {
   "cell_type": "markdown",
   "id": "57f85842",
   "metadata": {
    "papermill": {
     "duration": 0.005121,
     "end_time": "2023-07-11T18:33:42.027751",
     "exception": false,
     "start_time": "2023-07-11T18:33:42.022630",
     "status": "completed"
    },
    "tags": []
   },
   "source": [
    "## 1. Data Description \n",
    "<ul> \n",
    "<li>there are 809 training examples</li>\n",
    "<li>each of them is dataframe with time, mass , and intensity</li>\n",
    "<li>dataframe lenghts are variable</li>\n",
    "</ul>\n"
   ]
  },
  {
   "cell_type": "code",
   "execution_count": 1,
   "id": "fcf32236",
   "metadata": {
    "execution": {
     "iopub.execute_input": "2023-07-11T18:33:42.037897Z",
     "iopub.status.busy": "2023-07-11T18:33:42.037578Z",
     "iopub.status.idle": "2023-07-11T18:33:53.006406Z",
     "shell.execute_reply": "2023-07-11T18:33:53.004759Z"
    },
    "papermill": {
     "duration": 10.977147,
     "end_time": "2023-07-11T18:33:53.009225",
     "exception": false,
     "start_time": "2023-07-11T18:33:42.032078",
     "status": "completed"
    },
    "tags": []
   },
   "outputs": [],
   "source": [
    "import warnings \n",
    "warnings.filterwarnings('ignore')\n",
    "\n",
    "# for processing numbers and files csv\n",
    "import pandas as pd\n",
    "import numpy as np\n",
    "\n",
    "# for visualization\n",
    "import matplotlib.pyplot as plt\n",
    "import seaborn as sns\n",
    "%matplotlib inline\n",
    "\n",
    "# preprocessing \n",
    "from sklearn.preprocessing import MinMaxScaler\n",
    "from sklearn.model_selection import train_test_split\n",
    "from sklearn.metrics import log_loss\n",
    "from sklearn.utils import class_weight\n",
    "\n",
    "\n",
    "# model related\n",
    "from tensorflow.keras.callbacks import EarlyStopping\n",
    "from tensorflow.keras.utils import Sequence\n",
    "from tensorflow.keras.models import Sequential\n",
    "from tensorflow.keras.layers import Conv2D, MaxPooling2D, Flatten, Dense\n",
    "\n",
    "import tensorflow as tf\n"
   ]
  },
  {
   "cell_type": "code",
   "execution_count": 2,
   "id": "e04b9a3b",
   "metadata": {
    "execution": {
     "iopub.execute_input": "2023-07-11T18:33:53.021189Z",
     "iopub.status.busy": "2023-07-11T18:33:53.020498Z",
     "iopub.status.idle": "2023-07-11T18:33:53.025300Z",
     "shell.execute_reply": "2023-07-11T18:33:53.024611Z"
    },
    "papermill": {
     "duration": 0.01277,
     "end_time": "2023-07-11T18:33:53.027322",
     "exception": false,
     "start_time": "2023-07-11T18:33:53.014552",
     "status": "completed"
    },
    "tags": []
   },
   "outputs": [],
   "source": [
    "#for gpu\n",
    "\n",
    "# gpus = tf.config.experimental.list_physical_devices('GPU')\n",
    "# for gpu in gpus:\n",
    "#     print(\"Name:\", gpu.name, \"  Type:\", gpu.device_type)\n",
    "\n",
    "# from tensorflow.python.client import device_lib\n",
    "\n",
    "# print(device_lib.list_local_devices())\n",
    "\n",
    "# tf.test.is_gpu_available()"
   ]
  },
  {
   "cell_type": "code",
   "execution_count": 3,
   "id": "2ff724fd",
   "metadata": {
    "execution": {
     "iopub.execute_input": "2023-07-11T18:33:53.038693Z",
     "iopub.status.busy": "2023-07-11T18:33:53.038016Z",
     "iopub.status.idle": "2023-07-11T18:33:53.044232Z",
     "shell.execute_reply": "2023-07-11T18:33:53.042499Z"
    },
    "papermill": {
     "duration": 0.015143,
     "end_time": "2023-07-11T18:33:53.047051",
     "exception": false,
     "start_time": "2023-07-11T18:33:53.031908",
     "status": "completed"
    },
    "tags": []
   },
   "outputs": [],
   "source": [
    "# for working in kaggle use this paths\n",
    "kag_path_in = \"/kaggle/input/mars-spec-train/\"\n",
    "kag_path_out = \"/kaggle/working/\"\n",
    "\n",
    "\n",
    "# kag_path_in = \"\"\n",
    "# kag_path_out = \"\""
   ]
  },
  {
   "cell_type": "code",
   "execution_count": 4,
   "id": "5607d6ff",
   "metadata": {
    "execution": {
     "iopub.execute_input": "2023-07-11T18:33:53.059130Z",
     "iopub.status.busy": "2023-07-11T18:33:53.058604Z",
     "iopub.status.idle": "2023-07-11T18:33:53.103368Z",
     "shell.execute_reply": "2023-07-11T18:33:53.101846Z"
    },
    "papermill": {
     "duration": 0.053925,
     "end_time": "2023-07-11T18:33:53.106030",
     "exception": false,
     "start_time": "2023-07-11T18:33:53.052105",
     "status": "completed"
    },
    "tags": []
   },
   "outputs": [],
   "source": [
    "# metadata = pd.read_csv('/kaggle/input/mars-spec-train/metadata.csv').fillna(0)\n",
    "# train_labels = pd.read_csv('/kaggle/input/mars-spec-train/train_labels.csv')\n",
    "metadata = pd.read_csv(kag_path_in+'metadata.csv').fillna(0)\n",
    "train_labels = pd.read_csv(kag_path_in+'train_labels.csv')"
   ]
  },
  {
   "cell_type": "markdown",
   "id": "8ec9ff99",
   "metadata": {
    "papermill": {
     "duration": 0.00413,
     "end_time": "2023-07-11T18:33:53.116370",
     "exception": false,
     "start_time": "2023-07-11T18:33:53.112240",
     "status": "completed"
    },
    "tags": []
   },
   "source": [
    "## 2. Preprocessing and Feature extraction\n",
    "<ul>\n",
    "<li>mass values are grouped into values seperated by 0.50 </li>\n",
    "<li>time values are grouped into values seperated by 0.02 </li>\n",
    "<li>Time * Mass matrix (2650,1350) with Intensity values </li>\n",
    "</ul>"
   ]
  },
  {
   "cell_type": "code",
   "execution_count": 5,
   "id": "9602e906",
   "metadata": {
    "execution": {
     "iopub.execute_input": "2023-07-11T18:33:53.127168Z",
     "iopub.status.busy": "2023-07-11T18:33:53.126821Z",
     "iopub.status.idle": "2023-07-11T18:33:53.132139Z",
     "shell.execute_reply": "2023-07-11T18:33:53.130875Z"
    },
    "papermill": {
     "duration": 0.014545,
     "end_time": "2023-07-11T18:33:53.135322",
     "exception": false,
     "start_time": "2023-07-11T18:33:53.120777",
     "status": "completed"
    },
    "tags": []
   },
   "outputs": [],
   "source": [
    "# constants\n",
    "num_mass_values = 1350\n",
    "num_time_values = 2650\n",
    "matrix_shape = (num_time_values, num_mass_values)"
   ]
  },
  {
   "cell_type": "code",
   "execution_count": 6,
   "id": "42ee24f4",
   "metadata": {
    "execution": {
     "iopub.execute_input": "2023-07-11T18:33:53.146390Z",
     "iopub.status.busy": "2023-07-11T18:33:53.146067Z",
     "iopub.status.idle": "2023-07-11T18:33:53.153839Z",
     "shell.execute_reply": "2023-07-11T18:33:53.152116Z"
    },
    "papermill": {
     "duration": 0.016492,
     "end_time": "2023-07-11T18:33:53.156692",
     "exception": false,
     "start_time": "2023-07-11T18:33:53.140200",
     "status": "completed"
    },
    "tags": []
   },
   "outputs": [],
   "source": [
    "\n",
    "# Function to create the Time X Mass matrix for a single data sample\n",
    "def create_matrix(id):\n",
    "    \n",
    "    sample_id, split, derivate, path, _ = metadata.iloc[id]\n",
    "    data = pd.read_csv(kag_path_in+path)\n",
    "\n",
    "    label = None\n",
    "    if (split == 'train'):\n",
    "        label = train_labels.iloc[id].values[1:]\n",
    "\n",
    "    # discretization of time and mass\n",
    "    data.time = (data.time*50).round()\n",
    "    data.mass = (data.mass*2).round()\n",
    "    data.time = data.time.astype(int)\n",
    "    data.mass = data.mass.astype(int)\n",
    "    \n",
    "    # scaling intensity\n",
    "    data.intensity = MinMaxScaler().fit_transform(data.intensity.values.reshape(-1, 1))\n",
    "    \n",
    "    # filling matrix\n",
    "    matrix = np.zeros(matrix_shape)\n",
    "    matrix[data['time'],data['mass']] = data['intensity']\n",
    "\n",
    "    return matrix , label\n"
   ]
  },
  {
   "cell_type": "markdown",
   "id": "9a409d92",
   "metadata": {
    "papermill": {
     "duration": 0.004481,
     "end_time": "2023-07-11T18:33:53.166153",
     "exception": false,
     "start_time": "2023-07-11T18:33:53.161672",
     "status": "completed"
    },
    "tags": []
   },
   "source": [
    "## 3. Data Generation\n",
    "<ul>\n",
    "<li>Storing data matrix is costly</li>\n",
    "<li>data is generated in batches</li>\n",
    "</ul>\n"
   ]
  },
  {
   "cell_type": "code",
   "execution_count": 7,
   "id": "86aa95ec",
   "metadata": {
    "execution": {
     "iopub.execute_input": "2023-07-11T18:33:53.178062Z",
     "iopub.status.busy": "2023-07-11T18:33:53.177410Z",
     "iopub.status.idle": "2023-07-11T18:33:53.183274Z",
     "shell.execute_reply": "2023-07-11T18:33:53.182025Z"
    },
    "papermill": {
     "duration": 0.015102,
     "end_time": "2023-07-11T18:33:53.186191",
     "exception": false,
     "start_time": "2023-07-11T18:33:53.171089",
     "status": "completed"
    },
    "tags": []
   },
   "outputs": [],
   "source": [
    "training_data = range(809)  # Load your training data\n",
    "train_data, val_data = train_test_split(training_data, test_size=0.2, random_state=28)\n"
   ]
  },
  {
   "cell_type": "code",
   "execution_count": 8,
   "id": "6a64bef4",
   "metadata": {
    "execution": {
     "iopub.execute_input": "2023-07-11T18:33:53.197501Z",
     "iopub.status.busy": "2023-07-11T18:33:53.197125Z",
     "iopub.status.idle": "2023-07-11T18:33:53.204921Z",
     "shell.execute_reply": "2023-07-11T18:33:53.203459Z"
    },
    "papermill": {
     "duration": 0.016527,
     "end_time": "2023-07-11T18:33:53.207469",
     "exception": false,
     "start_time": "2023-07-11T18:33:53.190942",
     "status": "completed"
    },
    "tags": []
   },
   "outputs": [],
   "source": [
    "class DataGenerator(Sequence):\n",
    "    def __init__(self, data, batch_size):\n",
    "        self.data = data\n",
    "        self.batch_size = batch_size\n",
    "    def __len__(self):\n",
    "        return len(self.data) // self.batch_size\n",
    "\n",
    "    def __getitem__(self, idx):        \n",
    "        \n",
    "        low = idx * self.batch_size\n",
    "        high = min(low + self.batch_size, len(self.data))\n",
    "        batch_x = []\n",
    "        batch_y = []\n",
    "\n",
    "        for i,data_sample in enumerate(self.data[low:high]):\n",
    "            processed_sample, processed_label = self.preprocess_data(data_sample)\n",
    "            batch_x.append(processed_sample)\n",
    "            batch_y.append(processed_label)\n",
    "        return np.array(batch_x), np.array(batch_y)\n",
    "\n",
    "    def preprocess_data(self, data_sample):\n",
    "        matrix, label = create_matrix(data_sample)\n",
    "        if type(label) == np.ndarray:\n",
    "            label = np.array(label).astype(int)\n",
    "        return matrix , label\n"
   ]
  },
  {
   "cell_type": "code",
   "execution_count": 9,
   "id": "1e1fcfcf",
   "metadata": {
    "execution": {
     "iopub.execute_input": "2023-07-11T18:33:53.220030Z",
     "iopub.status.busy": "2023-07-11T18:33:53.218720Z",
     "iopub.status.idle": "2023-07-11T18:33:53.831282Z",
     "shell.execute_reply": "2023-07-11T18:33:53.830226Z"
    },
    "papermill": {
     "duration": 0.620997,
     "end_time": "2023-07-11T18:33:53.833542",
     "exception": false,
     "start_time": "2023-07-11T18:33:53.212545",
     "status": "completed"
    },
    "tags": []
   },
   "outputs": [
    {
     "data": {
      "text/plain": [
       "(array([[[0., 0., 0., ..., 0., 0., 0.],\n",
       "         [0., 0., 0., ..., 0., 0., 0.],\n",
       "         [0., 0., 0., ..., 0., 0., 0.],\n",
       "         ...,\n",
       "         [0., 0., 0., ..., 0., 0., 0.],\n",
       "         [0., 0., 0., ..., 0., 0., 0.],\n",
       "         [0., 0., 0., ..., 0., 0., 0.]],\n",
       " \n",
       "        [[0., 0., 0., ..., 0., 0., 0.],\n",
       "         [0., 0., 0., ..., 0., 0., 0.],\n",
       "         [0., 0., 0., ..., 0., 0., 0.],\n",
       "         ...,\n",
       "         [0., 0., 0., ..., 0., 0., 0.],\n",
       "         [0., 0., 0., ..., 0., 0., 0.],\n",
       "         [0., 0., 0., ..., 0., 0., 0.]]]),\n",
       " array([[0, 0, 0, 0, 0, 0, 0, 0, 0],\n",
       "        [1, 0, 1, 1, 0, 1, 1, 0, 0]]))"
      ]
     },
     "execution_count": 9,
     "metadata": {},
     "output_type": "execute_result"
    }
   ],
   "source": [
    "a = DataGenerator([2,1,32,13,132,122,90,91,7,9],4)\n",
    "a[2]"
   ]
  },
  {
   "cell_type": "markdown",
   "id": "5142cc73",
   "metadata": {
    "papermill": {
     "duration": 0.004089,
     "end_time": "2023-07-11T18:33:53.842321",
     "exception": false,
     "start_time": "2023-07-11T18:33:53.838232",
     "status": "completed"
    },
    "tags": []
   },
   "source": [
    "## 4. Model\n",
    "<ul>\n",
    "<li>convolutional layers </li>\n",
    "<li>pooling layers (max pooling) </li>\n",
    "<li>fully connected layers</li>\n",
    "<li>sigmoid layer</li>\n",
    "<li>output positive label probability</li>\n",
    "</ul>"
   ]
  },
  {
   "cell_type": "code",
   "execution_count": 10,
   "id": "9eba4835",
   "metadata": {
    "execution": {
     "iopub.execute_input": "2023-07-11T18:33:53.853567Z",
     "iopub.status.busy": "2023-07-11T18:33:53.852341Z",
     "iopub.status.idle": "2023-07-11T18:33:53.858374Z",
     "shell.execute_reply": "2023-07-11T18:33:53.856622Z"
    },
    "papermill": {
     "duration": 0.014317,
     "end_time": "2023-07-11T18:33:53.860971",
     "exception": false,
     "start_time": "2023-07-11T18:33:53.846654",
     "status": "completed"
    },
    "tags": []
   },
   "outputs": [],
   "source": [
    "label_names = [col for col in train_labels.columns[1:]]"
   ]
  },
  {
   "cell_type": "code",
   "execution_count": 11,
   "id": "66f26d1e",
   "metadata": {
    "execution": {
     "iopub.execute_input": "2023-07-11T18:33:53.872991Z",
     "iopub.status.busy": "2023-07-11T18:33:53.872586Z",
     "iopub.status.idle": "2023-07-11T18:33:53.878093Z",
     "shell.execute_reply": "2023-07-11T18:33:53.877038Z"
    },
    "papermill": {
     "duration": 0.014211,
     "end_time": "2023-07-11T18:33:53.880187",
     "exception": false,
     "start_time": "2023-07-11T18:33:53.865976",
     "status": "completed"
    },
    "tags": []
   },
   "outputs": [],
   "source": [
    "# contants\n",
    "label_number = 1\n",
    "batch_size = 8\n",
    "num_epochs = 50\n",
    "model = None\n",
    "history = None"
   ]
  },
  {
   "cell_type": "code",
   "execution_count": 12,
   "id": "76620333",
   "metadata": {
    "execution": {
     "iopub.execute_input": "2023-07-11T18:33:53.892304Z",
     "iopub.status.busy": "2023-07-11T18:33:53.890957Z",
     "iopub.status.idle": "2023-07-11T18:33:54.112863Z",
     "shell.execute_reply": "2023-07-11T18:33:54.111622Z"
    },
    "papermill": {
     "duration": 0.230193,
     "end_time": "2023-07-11T18:33:54.115222",
     "exception": false,
     "start_time": "2023-07-11T18:33:53.885029",
     "status": "completed"
    },
    "tags": []
   },
   "outputs": [
    {
     "name": "stdout",
     "output_type": "stream",
     "text": [
      "Model: \"sequential\"\n",
      "_________________________________________________________________\n",
      " Layer (type)                Output Shape              Param #   \n",
      "=================================================================\n",
      " conv2d (Conv2D)             (None, 1323, 1346, 2)     52        \n",
      "                                                                 \n",
      " max_pooling2d (MaxPooling2D  (None, 13, 673, 2)       0         \n",
      " )                                                               \n",
      "                                                                 \n",
      " flatten (Flatten)           (None, 17498)             0         \n",
      "                                                                 \n",
      " dense (Dense)               (None, 16)                279984    \n",
      "                                                                 \n",
      " dense_1 (Dense)             (None, 9)                 153       \n",
      "                                                                 \n",
      "=================================================================\n",
      "Total params: 280,189\n",
      "Trainable params: 280,189\n",
      "Non-trainable params: 0\n",
      "_________________________________________________________________\n"
     ]
    }
   ],
   "source": [
    "model = Sequential()\n",
    "model.add(Conv2D(2, kernel_size=(5, 5),strides = (2,1), activation='relu', input_shape=(2650, 1350, 1)))\n",
    "model.add(MaxPooling2D(pool_size=(100, 2)))\n",
    "\n",
    "model.add(Flatten())\n",
    "\n",
    "model.add(Dense(16, activation='relu'))\n",
    "\n",
    "model.add(Dense(9, activation='sigmoid'))\n",
    "opt = tf.keras.optimizers.Adam(learning_rate = 0.001) # \n",
    "model.compile(loss='binary_crossentropy', optimizer=opt, metrics=['AUC'])\n",
    "\n",
    "# Create instances of the custom data generator for training and validation \n",
    "train_data_generator = DataGenerator(train_data, batch_size)\n",
    "val_data_generator = DataGenerator(val_data, batch_size)\n",
    "\n",
    "model.summary()"
   ]
  },
  {
   "cell_type": "code",
   "execution_count": 13,
   "id": "6e25e8bd",
   "metadata": {
    "execution": {
     "iopub.execute_input": "2023-07-11T18:33:54.129036Z",
     "iopub.status.busy": "2023-07-11T18:33:54.128667Z",
     "iopub.status.idle": "2023-07-11T20:56:46.701846Z",
     "shell.execute_reply": "2023-07-11T20:56:46.692694Z"
    },
    "papermill": {
     "duration": 8572.71123,
     "end_time": "2023-07-11T20:56:46.832335",
     "exception": false,
     "start_time": "2023-07-11T18:33:54.121105",
     "status": "completed"
    },
    "tags": []
   },
   "outputs": [
    {
     "name": "stdout",
     "output_type": "stream",
     "text": [
      "Epoch 1/50\n",
      "80/80 [==============================] - 323s 4s/step - loss: 0.3824 - auc: 0.6281 - val_loss: 0.3017 - val_auc: 0.7087\n",
      "Epoch 2/50\n",
      "80/80 [==============================] - 308s 4s/step - loss: 0.2583 - auc: 0.8115 - val_loss: 0.2452 - val_auc: 0.8337\n",
      "Epoch 3/50\n",
      "80/80 [==============================] - 288s 4s/step - loss: 0.2106 - auc: 0.8922 - val_loss: 0.2158 - val_auc: 0.8900\n",
      "Epoch 4/50\n",
      "80/80 [==============================] - 340s 4s/step - loss: 0.1864 - auc: 0.9242 - val_loss: 0.2005 - val_auc: 0.9057\n",
      "Epoch 5/50\n",
      "80/80 [==============================] - 306s 4s/step - loss: 0.1692 - auc: 0.9421 - val_loss: 0.1909 - val_auc: 0.9153\n",
      "Epoch 6/50\n",
      "80/80 [==============================] - 322s 4s/step - loss: 0.1560 - auc: 0.9525 - val_loss: 0.1881 - val_auc: 0.9205\n",
      "Epoch 7/50\n",
      "80/80 [==============================] - 300s 4s/step - loss: 0.1439 - auc: 0.9607 - val_loss: 0.1834 - val_auc: 0.9242\n",
      "Epoch 8/50\n",
      "80/80 [==============================] - 359s 4s/step - loss: 0.1359 - auc: 0.9675 - val_loss: 0.1880 - val_auc: 0.9212\n",
      "Epoch 9/50\n",
      "80/80 [==============================] - 295s 4s/step - loss: 0.1275 - auc: 0.9715 - val_loss: 0.1773 - val_auc: 0.9296\n",
      "Epoch 10/50\n",
      "80/80 [==============================] - 351s 4s/step - loss: 0.1213 - auc: 0.9746 - val_loss: 0.1823 - val_auc: 0.9252\n",
      "Epoch 11/50\n",
      "80/80 [==============================] - 317s 4s/step - loss: 0.1136 - auc: 0.9773 - val_loss: 0.1730 - val_auc: 0.9348\n",
      "Epoch 12/50\n",
      "80/80 [==============================] - 352s 4s/step - loss: 0.1077 - auc: 0.9804 - val_loss: 0.1735 - val_auc: 0.9352\n",
      "Epoch 13/50\n",
      "80/80 [==============================] - 358s 4s/step - loss: 0.1030 - auc: 0.9825 - val_loss: 0.1711 - val_auc: 0.9337\n",
      "Epoch 14/50\n",
      "80/80 [==============================] - 307s 4s/step - loss: 0.0985 - auc: 0.9837 - val_loss: 0.1824 - val_auc: 0.9312\n",
      "Epoch 15/50\n",
      "80/80 [==============================] - 340s 4s/step - loss: 0.0935 - auc: 0.9857 - val_loss: 0.1660 - val_auc: 0.9377\n",
      "Epoch 16/50\n",
      "80/80 [==============================] - 308s 4s/step - loss: 0.0911 - auc: 0.9865 - val_loss: 0.1789 - val_auc: 0.9318\n",
      "Epoch 17/50\n",
      "80/80 [==============================] - 361s 5s/step - loss: 0.0863 - auc: 0.9884 - val_loss: 0.1687 - val_auc: 0.9404\n",
      "Epoch 18/50\n",
      "80/80 [==============================] - 299s 4s/step - loss: 0.0835 - auc: 0.9891 - val_loss: 0.1731 - val_auc: 0.9351\n",
      "Epoch 19/50\n",
      "80/80 [==============================] - 355s 4s/step - loss: 0.0801 - auc: 0.9901 - val_loss: 0.1782 - val_auc: 0.9341\n",
      "Epoch 20/50\n",
      "80/80 [==============================] - 302s 4s/step - loss: 0.0766 - auc: 0.9910 - val_loss: 0.1739 - val_auc: 0.9355\n",
      "Epoch 21/50\n",
      "80/80 [==============================] - 335s 4s/step - loss: 0.0734 - auc: 0.9921 - val_loss: 0.1946 - val_auc: 0.9286\n",
      "Epoch 22/50\n",
      "80/80 [==============================] - 297s 4s/step - loss: 0.0705 - auc: 0.9926 - val_loss: 0.1959 - val_auc: 0.9307\n",
      "Epoch 23/50\n",
      "80/80 [==============================] - 326s 4s/step - loss: 0.0700 - auc: 0.9926 - val_loss: 0.1834 - val_auc: 0.9344\n",
      "Epoch 24/50\n",
      "80/80 [==============================] - 324s 4s/step - loss: 0.0689 - auc: 0.9922 - val_loss: 0.2124 - val_auc: 0.9277\n",
      "Epoch 25/50\n",
      "80/80 [==============================] - 310s 4s/step - loss: 0.0652 - auc: 0.9937 - val_loss: 0.1927 - val_auc: 0.9361\n"
     ]
    }
   ],
   "source": [
    "es = EarlyStopping(monitor = 'val_loss', patience = 10, restore_best_weights = True  )\n",
    "history = model.fit(train_data_generator, epochs=num_epochs, validation_data=val_data_generator, callbacks=[es],verbose = 1)"
   ]
  },
  {
   "cell_type": "code",
   "execution_count": 14,
   "id": "366353e8",
   "metadata": {
    "execution": {
     "iopub.execute_input": "2023-07-11T20:56:47.102642Z",
     "iopub.status.busy": "2023-07-11T20:56:47.101999Z",
     "iopub.status.idle": "2023-07-11T20:56:47.269706Z",
     "shell.execute_reply": "2023-07-11T20:56:47.267737Z"
    },
    "papermill": {
     "duration": 0.306957,
     "end_time": "2023-07-11T20:56:47.273654",
     "exception": false,
     "start_time": "2023-07-11T20:56:46.966697",
     "status": "completed"
    },
    "tags": []
   },
   "outputs": [],
   "source": [
    "model.save(\"model.keras\")"
   ]
  },
  {
   "cell_type": "markdown",
   "id": "35d458e8",
   "metadata": {
    "papermill": {
     "duration": 0.127142,
     "end_time": "2023-07-11T20:56:47.527184",
     "exception": false,
     "start_time": "2023-07-11T20:56:47.400042",
     "status": "completed"
    },
    "tags": []
   },
   "source": [
    "## 5. Performance \n",
    "<ul>\n",
    "<li>train and validation losses</li>\n",
    "</ul>"
   ]
  },
  {
   "cell_type": "code",
   "execution_count": 15,
   "id": "38598cd8",
   "metadata": {
    "execution": {
     "iopub.execute_input": "2023-07-11T20:56:47.892357Z",
     "iopub.status.busy": "2023-07-11T20:56:47.891115Z",
     "iopub.status.idle": "2023-07-11T20:56:48.389746Z",
     "shell.execute_reply": "2023-07-11T20:56:48.388187Z"
    },
    "papermill": {
     "duration": 0.737487,
     "end_time": "2023-07-11T20:56:48.392886",
     "exception": false,
     "start_time": "2023-07-11T20:56:47.655399",
     "status": "completed"
    },
    "tags": []
   },
   "outputs": [
    {
     "data": {
      "image/png": "[encoded data removed]",
      "text/plain": [
       "<Figure size 640x480 with 1 Axes>"
      ]
     },
     "metadata": {},
     "output_type": "display_data"
    }
   ],
   "source": [
    "train_loss = history.history['loss']\n",
    "val_loss = history.history['val_loss']\n",
    "epochs = range(1, len(train_loss) + 1)\n",
    "\n",
    "plt.plot(epochs, train_loss, 'b', label='Training Loss')\n",
    "plt.plot(epochs, val_loss, 'r', label='Validation Loss')\n",
    "plt.title('Training and Validation Loss')\n",
    "plt.xlabel('Epochs')\n",
    "plt.ylabel('Loss')\n",
    "plt.legend()\n",
    "plt.show()\n",
    "\n"
   ]
  },
  {
   "cell_type": "code",
   "execution_count": 16,
   "id": "1f4195cc",
   "metadata": {
    "execution": {
     "iopub.execute_input": "2023-07-11T20:56:48.647488Z",
     "iopub.status.busy": "2023-07-11T20:56:48.646812Z",
     "iopub.status.idle": "2023-07-11T20:59:56.272867Z",
     "shell.execute_reply": "2023-07-11T20:59:56.268235Z"
    },
    "papermill": {
     "duration": 187.758869,
     "end_time": "2023-07-11T20:59:56.280337",
     "exception": false,
     "start_time": "2023-07-11T20:56:48.521468",
     "status": "completed"
    },
    "tags": []
   },
   "outputs": [],
   "source": [
    "y_pred = model.predict(DataGenerator(range(809),1), verbose = 0)"
   ]
  },
  {
   "cell_type": "markdown",
   "id": "a5c3561a",
   "metadata": {
    "papermill": {
     "duration": 0.133454,
     "end_time": "2023-07-11T20:59:56.586993",
     "exception": false,
     "start_time": "2023-07-11T20:59:56.453539",
     "status": "completed"
    },
    "tags": []
   },
   "source": [
    "### Classification Reports"
   ]
  },
  {
   "cell_type": "code",
   "execution_count": 17,
   "id": "7e6ceb57",
   "metadata": {
    "execution": {
     "iopub.execute_input": "2023-07-11T20:59:56.862217Z",
     "iopub.status.busy": "2023-07-11T20:59:56.861481Z",
     "iopub.status.idle": "2023-07-11T20:59:56.988158Z",
     "shell.execute_reply": "2023-07-11T20:59:56.986531Z"
    },
    "papermill": {
     "duration": 0.272598,
     "end_time": "2023-07-11T20:59:56.991298",
     "exception": false,
     "start_time": "2023-07-11T20:59:56.718700",
     "status": "completed"
    },
    "tags": []
   },
   "outputs": [
    {
     "name": "stdout",
     "output_type": "stream",
     "text": [
      "aromatic\n",
      "              precision    recall  f1-score   support\n",
      "\n",
      "           0       0.97      0.96      0.97       730\n",
      "           1       0.68      0.71      0.70        79\n",
      "\n",
      "    accuracy                           0.94       809\n",
      "   macro avg       0.83      0.84      0.83       809\n",
      "weighted avg       0.94      0.94      0.94       809\n",
      "\n",
      "roc_auc_score : 0.9661522455349402\n",
      "-------------------------------------------------------------\n",
      "hydrocarbon\n",
      "              precision    recall  f1-score   support\n",
      "\n",
      "           0       0.95      0.97      0.96       544\n",
      "           1       0.93      0.91      0.92       265\n",
      "\n",
      "    accuracy                           0.95       809\n",
      "   macro avg       0.94      0.94      0.94       809\n",
      "weighted avg       0.95      0.95      0.95       809\n",
      "\n",
      "roc_auc_score : 0.9820407880133185\n",
      "-------------------------------------------------------------\n",
      "carboxylic_acid\n",
      "              precision    recall  f1-score   support\n",
      "\n",
      "           0       0.95      0.99      0.97       694\n",
      "           1       0.91      0.70      0.79       115\n",
      "\n",
      "    accuracy                           0.95       809\n",
      "   macro avg       0.93      0.84      0.88       809\n",
      "weighted avg       0.95      0.95      0.94       809\n",
      "\n",
      "roc_auc_score : 0.9801779225660945\n",
      "-------------------------------------------------------------\n",
      "nitrogen_bearing_compound\n",
      "              precision    recall  f1-score   support\n",
      "\n",
      "           0       0.96      0.98      0.97       713\n",
      "           1       0.82      0.67      0.74        96\n",
      "\n",
      "    accuracy                           0.94       809\n",
      "   macro avg       0.89      0.82      0.85       809\n",
      "weighted avg       0.94      0.94      0.94       809\n",
      "\n",
      "roc_auc_score : 0.9763762272089762\n",
      "-------------------------------------------------------------\n",
      "chlorine_bearing_compound\n",
      "              precision    recall  f1-score   support\n",
      "\n",
      "           0       0.98      1.00      0.99       791\n",
      "           1       1.00      0.06      0.11        18\n",
      "\n",
      "    accuracy                           0.98       809\n",
      "   macro avg       0.99      0.53      0.55       809\n",
      "weighted avg       0.98      0.98      0.97       809\n",
      "\n",
      "roc_auc_score : 0.9487989886219974\n",
      "-------------------------------------------------------------\n",
      "sulfur_bearing_compound\n",
      "              precision    recall  f1-score   support\n",
      "\n",
      "           0       0.98      0.99      0.98       778\n",
      "           1       0.65      0.48      0.56        31\n",
      "\n",
      "    accuracy                           0.97       809\n",
      "   macro avg       0.82      0.74      0.77       809\n",
      "weighted avg       0.97      0.97      0.97       809\n",
      "\n",
      "roc_auc_score : 0.9684882660253753\n",
      "-------------------------------------------------------------\n",
      "alcohol\n",
      "              precision    recall  f1-score   support\n",
      "\n",
      "           0       0.97      1.00      0.98       783\n",
      "           1       1.00      0.08      0.14        26\n",
      "\n",
      "    accuracy                           0.97       809\n",
      "   macro avg       0.99      0.54      0.56       809\n",
      "weighted avg       0.97      0.97      0.96       809\n",
      "\n",
      "roc_auc_score : 0.9656154828568622\n",
      "-------------------------------------------------------------\n",
      "other_oxygen_bearing_compound\n",
      "              precision    recall  f1-score   support\n",
      "\n",
      "           0       0.98      1.00      0.99       788\n",
      "           1       0.88      0.33      0.48        21\n",
      "\n",
      "    accuracy                           0.98       809\n",
      "   macro avg       0.93      0.67      0.74       809\n",
      "weighted avg       0.98      0.98      0.98       809\n",
      "\n",
      "roc_auc_score : 0.9785472564660382\n",
      "-------------------------------------------------------------\n",
      "mineral\n",
      "              precision    recall  f1-score   support\n",
      "\n",
      "           0       0.96      0.96      0.96       692\n",
      "           1       0.77      0.77      0.77       117\n",
      "\n",
      "    accuracy                           0.93       809\n",
      "   macro avg       0.87      0.87      0.87       809\n",
      "weighted avg       0.93      0.93      0.93       809\n",
      "\n",
      "roc_auc_score : 0.9679240156118769\n",
      "-------------------------------------------------------------\n"
     ]
    }
   ],
   "source": [
    "from sklearn.metrics import classification_report, roc_auc_score\n",
    "for i in range(9):\n",
    "    y_true_column = train_labels.iloc[:, i+1].values\n",
    "    y_pred_column = y_pred[:, i].round()\n",
    "    \n",
    "    report = classification_report(y_true_column, y_pred_column)\n",
    "    print(f\"{label_names[i]}\")\n",
    "    print(report)\n",
    "    print(f\"roc_auc_score : {roc_auc_score(y_true_column, y_pred[:, i])}\")\n",
    "    print(\"-------------------------------------------------------------\")\n"
   ]
  }
 ],
 "metadata": {
  "kernelspec": {
   "display_name": "Python 3",
   "language": "python",
   "name": "python3"
  },
  "language_info": {
   "codemirror_mode": {
    "name": "ipython",
    "version": 3
   },
   "file_extension": ".py",
   "mimetype": "text/x-python",
   "name": "python",
   "nbconvert_exporter": "python",
   "pygments_lexer": "ipython3",
   "version": "3.10.10"
  },
  "papermill": {
   "default_parameters": {},
   "duration": 8788.984151,
   "end_time": "2023-07-11T20:59:59.871074",
   "environment_variables": {},
   "exception": null,
   "input_path": "__notebook__.ipynb",
   "output_path": "__notebook__.ipynb",
   "parameters": {},
   "start_time": "2023-07-11T18:33:30.886923",
   "version": "2.4.0"
  }
 },
 "nbformat": 4,
 "nbformat_minor": 5
}
