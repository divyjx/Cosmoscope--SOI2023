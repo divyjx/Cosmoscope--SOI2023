{
 "cells": [
  {
   "cell_type": "markdown",
   "metadata": {},
   "source": [
    "## 1. Data Description \n",
    "<ul> \n",
    "<li>there are 809 training examples</li>\n",
    "<li>each of them is dataframe with time, mass , and intensity</li>\n",
    "<li>dataframe lenghts are variable</li>\n",
    "</ul>\n"
   ]
  },
  {
   "cell_type": "code",
   "execution_count": 2,
   "metadata": {},
   "outputs": [],
   "source": [
    "# for processing numbers and files csv\n",
    "import pandas as pd\n",
    "import numpy as np\n",
    "\n",
    "# for visualization\n",
    "import matplotlib.pyplot as plt\n",
    "import seaborn as sns\n",
    "%matplotlib inline\n",
    "\n",
    "# preprocessing \n",
    "from sklearn.preprocessing import MinMaxScaler\n",
    "from sklearn.model_selection import train_test_split\n",
    "from sklearn.metrics import log_loss\n",
    "from sklearn.utils import class_weight\n",
    "\n",
    "\n",
    "# model related\n",
    "from tensorflow.keras.callbacks import EarlyStopping\n",
    "from tensorflow.keras.utils import Sequence\n",
    "from tensorflow.keras.models import Sequential\n",
    "from tensorflow.keras.layers import Conv2D, MaxPooling2D, Flatten, Dense\n",
    "\n",
    "import tensorflow as tf\n"
   ]
  },
  {
   "cell_type": "code",
   "execution_count": 3,
   "metadata": {},
   "outputs": [],
   "source": [
    "kag_path_in = \"/kaggle/input/mars-spec-train/\"\n",
    "kag_path_out = \"/kaggle/working/\"\n",
    "kag_path_in = \"\"\n",
    "kag_path_out = \"\""
   ]
  },
  {
   "cell_type": "code",
   "execution_count": 4,
   "metadata": {},
   "outputs": [],
   "source": [
    "# metadata = pd.read_csv('/kaggle/input/mars-spec-train/metadata.csv').fillna(0)\n",
    "# train_labels = pd.read_csv('/kaggle/input/mars-spec-train/train_labels.csv')\n",
    "metadata = pd.read_csv(kag_path_in+'metadata.csv').fillna(0)\n",
    "train_labels = pd.read_csv(kag_path_in+'train_labels.csv')"
   ]
  },
  {
   "cell_type": "markdown",
   "metadata": {},
   "source": [
    "## 2. Preprocessing and Feature extraction\n",
    "<ul>\n",
    "<li>mass values are grouped into values seperated by 0.50 </li>\n",
    "<li>time values are grouped into values seperated by 0.02 </li>\n",
    "<li>Time * Mass matrix (2650,1350) with Intensity values </li>\n",
    "</ul>"
   ]
  },
  {
   "cell_type": "code",
   "execution_count": 5,
   "metadata": {},
   "outputs": [],
   "source": [
    "# constants\n",
    "num_mass_values = 1350\n",
    "num_time_values = 2650\n",
    "matrix_shape = (num_time_values, num_mass_values)"
   ]
  },
  {
   "cell_type": "code",
   "execution_count": 6,
   "metadata": {},
   "outputs": [],
   "source": [
    "\n",
    "# Function to create the Time X Mass matrix for a single data sample\n",
    "def create_matrix(id ):\n",
    "    \n",
    "    sample_id, split, derivate, path, _ = metadata.iloc[id]\n",
    "    data = pd.read_csv(path)\n",
    "\n",
    "    label = None\n",
    "    if (split == 'train'):\n",
    "        label = train_labels.iloc[id].values[1:]\n",
    "\n",
    "    # discretization of time and mass\n",
    "    data.time = (data.time*50).round()\n",
    "    data.mass = (data.mass*2).round()\n",
    "    data.time = data.time.astype(int)\n",
    "    data.mass = data.mass.astype(int)\n",
    "    \n",
    "    # scaling intensity\n",
    "    data.intensity = MinMaxScaler().fit_transform(data.intensity.values.reshape(-1, 1))\n",
    "    \n",
    "    # filling matrix\n",
    "    matrix = np.zeros(matrix_shape)\n",
    "    matrix[data['time'],data['mass']] = data['intensity']\n",
    "\n",
    "    return matrix , label\n"
   ]
  },
  {
   "cell_type": "markdown",
   "metadata": {},
   "source": [
    "## 3. Data Generation\n",
    "<ul>\n",
    "<li>Storing data matrix is costly</li>\n",
    "<li>data is generated in batches</li>\n",
    "</ul>\n"
   ]
  },
  {
   "cell_type": "code",
   "execution_count": 7,
   "metadata": {},
   "outputs": [],
   "source": [
    "training_data = range(809)  # Load your training data\n",
    "train_data, val_data = train_test_split(training_data, test_size=0.2, random_state=28)\n"
   ]
  },
  {
   "cell_type": "code",
   "execution_count": 8,
   "metadata": {},
   "outputs": [],
   "source": [
    "class DataGenerator(Sequence):\n",
    "    def __init__(self, data, batch_size):\n",
    "        self.data = data\n",
    "        self.batch_size = batch_size\n",
    "    def __len__(self):\n",
    "        return len(self.data) // self.batch_size\n",
    "\n",
    "    def __getitem__(self, idx):        \n",
    "        \n",
    "        low = idx * self.batch_size\n",
    "        high = min(low + self.batch_size, len(self.data))\n",
    "        batch_x = []\n",
    "        batch_y = []\n",
    "\n",
    "        for i,data_sample in enumerate(self.data[low:high]):\n",
    "            processed_sample, processed_label = self.preprocess_data(data_sample)\n",
    "            batch_x.append(processed_sample)\n",
    "            batch_y.append(processed_label)\n",
    "        return np.array(batch_x), np.array(batch_y)\n",
    "\n",
    "    def preprocess_data(self, data_sample):\n",
    "        # Perform the feature extraction steps and create the matrix\n",
    "        matrix, label = create_matrix(data_sample)\n",
    "        if type(label) == np.ndarray:\n",
    "            label = np.array(label).astype(int)\n",
    "        return matrix , label\n"
   ]
  },
  {
   "cell_type": "code",
   "execution_count": 10,
   "metadata": {},
   "outputs": [
    {
     "data": {
      "text/plain": [
       "(array([[[0., 0., 0., ..., 0., 0., 0.],\n",
       "         [0., 0., 0., ..., 0., 0., 0.],\n",
       "         [0., 0., 0., ..., 0., 0., 0.],\n",
       "         ...,\n",
       "         [0., 0., 0., ..., 0., 0., 0.],\n",
       "         [0., 0., 0., ..., 0., 0., 0.],\n",
       "         [0., 0., 0., ..., 0., 0., 0.]],\n",
       " \n",
       "        [[0., 0., 0., ..., 0., 0., 0.],\n",
       "         [0., 0., 0., ..., 0., 0., 0.],\n",
       "         [0., 0., 0., ..., 0., 0., 0.],\n",
       "         ...,\n",
       "         [0., 0., 0., ..., 0., 0., 0.],\n",
       "         [0., 0., 0., ..., 0., 0., 0.],\n",
       "         [0., 0., 0., ..., 0., 0., 0.]]]),\n",
       " array([[0, 0, 0, 0, 0, 0, 0, 0, 0],\n",
       "        [0, 0, 0, 0, 0, 0, 0, 0, 1]]))"
      ]
     },
     "execution_count": 10,
     "metadata": {},
     "output_type": "execute_result"
    }
   ],
   "source": [
    "a = DataGenerator([2,1,32,13,132,122,90,91],2)\n",
    "a[1]"
   ]
  },
  {
   "cell_type": "markdown",
   "metadata": {},
   "source": [
    "## 4. Models\n",
    "<ul>\n",
    "<li>convolutional layers </li>\n",
    "<li>pooling layers (max pooling) </li>\n",
    "<li>fully connected layers</li>\n",
    "<li>sigmoid layer</li>\n",
    "<li>output positive label probability</li>\n",
    "</ul>"
   ]
  },
  {
   "cell_type": "code",
   "execution_count": 11,
   "metadata": {},
   "outputs": [],
   "source": [
    "label_names = [col for col in train_labels.columns[1:]]"
   ]
  },
  {
   "cell_type": "markdown",
   "metadata": {},
   "source": [
    "### Aromatic (model 1)  "
   ]
  },
  {
   "cell_type": "code",
   "execution_count": 12,
   "metadata": {},
   "outputs": [],
   "source": [
    "# contants\n",
    "label_number = 1\n",
    "batch_size = 16\n",
    "num_epochs = 32\n",
    "patience = 5\n",
    "model = None\n",
    "history = None"
   ]
  },
  {
   "cell_type": "code",
   "execution_count": 20,
   "metadata": {},
   "outputs": [
    {
     "name": "stdout",
     "output_type": "stream",
     "text": [
      "Model: \"sequential_5\"\n",
      "_________________________________________________________________\n",
      " Layer (type)                Output Shape              Param #   \n",
      "=================================================================\n",
      " conv2d_5 (Conv2D)           (None, 2646, 1347, 4)     84        \n",
      "                                                                 \n",
      " max_pooling2d_5 (MaxPoolin  (None, 66, 269, 4)        0         \n",
      " g2D)                                                            \n",
      "                                                                 \n",
      " flatten_5 (Flatten)         (None, 71016)             0         \n",
      "                                                                 \n",
      " dense_10 (Dense)            (None, 16)                1136272   \n",
      "                                                                 \n",
      " dense_11 (Dense)            (None, 9)                 153       \n",
      "                                                                 \n",
      "=================================================================\n",
      "Total params: 1136509 (4.34 MB)\n",
      "Trainable params: 1136509 (4.34 MB)\n",
      "Non-trainable params: 0 (0.00 Byte)\n",
      "_________________________________________________________________\n"
     ]
    }
   ],
   "source": [
    "\n",
    "model = Sequential()\n",
    "\n",
    "model.add(Conv2D(4, kernel_size=(5, 4), activation='relu', input_shape=(2650, 1350, 1)))\n",
    "model.add(MaxPooling2D(pool_size=(40, 5)))\n",
    "\n",
    "model.add(Flatten())\n",
    "\n",
    "model.add(Dense(16, activation='relu'))\n",
    "\n",
    "model.add(Dense(9, activation='sigmoid'))\n",
    "\n",
    "model.compile(loss='binary_crossentropy', optimizer='adam', metrics=['accuracy'])\n",
    "\n",
    "# Create instances of the custom data generator for training and validation\n",
    "train_data_generator = DataGenerator(train_data, batch_size)\n",
    "val_data_generator = DataGenerator(val_data, batch_size)\n",
    "\n",
    "model.summary()"
   ]
  },
  {
   "cell_type": "code",
   "execution_count": 15,
   "metadata": {},
   "outputs": [],
   "source": [
    "es = EarlyStopping(monitor = 'val_loss', patience = 5, restore_best_weights = True  )\n",
    "history = model.fit(train_data_generator, epochs=num_epochs, validation_data=val_data_generator, callbacks=[es],verbose = 2)"
   ]
  },
  {
   "cell_type": "code",
   "execution_count": 1,
   "metadata": {},
   "outputs": [
    {
     "ename": "NameError",
     "evalue": "name 'tf' is not defined",
     "output_type": "error",
     "traceback": [
      "\u001b[1;31m---------------------------------------------------------------------------\u001b[0m",
      "\u001b[1;31mNameError\u001b[0m                                 Traceback (most recent call last)",
      "Cell \u001b[1;32mIn[1], line 1\u001b[0m\n\u001b[1;32m----> 1\u001b[0m tf\u001b[39m.\u001b[39mkeras\u001b[39m.\u001b[39mmodels\u001b[39m.\u001b[39msave_model(\u001b[39m\"\u001b[39m\u001b[39mmodel.keras\u001b[39m\u001b[39m\"\u001b[39m)\n",
      "\u001b[1;31mNameError\u001b[0m: name 'tf' is not defined"
     ]
    }
   ],
   "source": [
    "tf.keras.models.save_model(\"model.keras\")"
   ]
  },
  {
   "cell_type": "markdown",
   "metadata": {},
   "source": [
    "## 5. Predictions\n",
    "<ul>\n",
    "<li>prediction of total 312 samples</li>\n",
    "<li>merging predictions from all model</li>\n",
    "<li>summerizing each model loss</li>\n",
    "</ul>"
   ]
  }
 ],
 "metadata": {
  "kernelspec": {
   "display_name": "Python 3",
   "language": "python",
   "name": "python3"
  },
  "language_info": {
   "codemirror_mode": {
    "name": "ipython",
    "version": 3
   },
   "file_extension": ".py",
   "mimetype": "text/x-python",
   "name": "python",
   "nbconvert_exporter": "python",
   "pygments_lexer": "ipython3",
   "version": "3.10.10"
  },
  "orig_nbformat": 4
 },
 "nbformat": 4,
 "nbformat_minor": 2
}
