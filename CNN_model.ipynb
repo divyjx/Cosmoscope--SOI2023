{
 "cells": [
  {
   "cell_type": "markdown",
   "id": "b0d62e4f",
   "metadata": {
    "papermill": {
     "duration": 0.00619,
     "end_time": "2023-07-12T15:31:59.323793",
     "exception": false,
     "start_time": "2023-07-12T15:31:59.317603",
     "status": "completed"
    },
    "tags": []
   },
   "source": [
    "## 1. Data Description \n",
    "<ul> \n",
    "<li>there are 809 training examples</li>\n",
    "<li>each of them is a dataframe with time, mass , and intensity values</li>\n",
    "<li>dataframe lenghts are variable</li>\n",
    "</ul>\n"
   ]
  },
  {
   "cell_type": "code",
   "execution_count": 1,
   "id": "1a874e1e",
   "metadata": {
    "execution": {
     "iopub.execute_input": "2023-07-12T15:31:59.337096Z",
     "iopub.status.busy": "2023-07-12T15:31:59.336656Z",
     "iopub.status.idle": "2023-07-12T15:32:08.584208Z",
     "shell.execute_reply": "2023-07-12T15:32:08.583285Z"
    },
    "papermill": {
     "duration": 9.257077,
     "end_time": "2023-07-12T15:32:08.586632",
     "exception": false,
     "start_time": "2023-07-12T15:31:59.329555",
     "status": "completed"
    },
    "tags": []
   },
   "outputs": [],
   "source": [
    "import warnings \n",
    "warnings.filterwarnings('ignore')\n",
    "\n",
    "# for processing numbers and files csv\n",
    "import pandas as pd\n",
    "import numpy as np\n",
    "\n",
    "# for visualization\n",
    "import matplotlib.pyplot as plt\n",
    "%matplotlib inline\n",
    "\n",
    "# preprocessing \n",
    "from sklearn.preprocessing import MinMaxScaler\n",
    "from sklearn.model_selection import train_test_split\n",
    "from sklearn.metrics import classification_report, roc_auc_score\n",
    "\n",
    "# model related\n",
    "from tensorflow.keras.callbacks import EarlyStopping\n",
    "from tensorflow.keras.utils import Sequence\n",
    "from tensorflow.keras.models import Sequential\n",
    "from tensorflow.keras.layers import Conv2D, MaxPooling2D, Flatten, Dense\n",
    "\n",
    "import tensorflow as tf\n"
   ]
  },
  {
   "cell_type": "code",
   "execution_count": 2,
   "id": "d9cc40c8",
   "metadata": {
    "execution": {
     "iopub.execute_input": "2023-07-12T15:32:08.600034Z",
     "iopub.status.busy": "2023-07-12T15:32:08.599462Z",
     "iopub.status.idle": "2023-07-12T15:32:08.603848Z",
     "shell.execute_reply": "2023-07-12T15:32:08.602969Z"
    },
    "papermill": {
     "duration": 0.012861,
     "end_time": "2023-07-12T15:32:08.605725",
     "exception": false,
     "start_time": "2023-07-12T15:32:08.592864",
     "status": "completed"
    },
    "tags": []
   },
   "outputs": [],
   "source": [
    "#for gpu\n",
    "\n",
    "# gpus = tf.config.experimental.list_physical_devices('GPU')\n",
    "# for gpu in gpus:\n",
    "#     print(\"Name:\", gpu.name, \"  Type:\", gpu.device_type)\n",
    "\n",
    "# from tensorflow.python.client import device_lib\n",
    "\n",
    "# print(device_lib.list_local_devices())\n",
    "\n",
    "# tf.test.is_gpu_available()"
   ]
  },
  {
   "cell_type": "code",
   "execution_count": 3,
   "id": "7d8ac8c1",
   "metadata": {
    "execution": {
     "iopub.execute_input": "2023-07-12T15:32:08.618528Z",
     "iopub.status.busy": "2023-07-12T15:32:08.617799Z",
     "iopub.status.idle": "2023-07-12T15:32:08.622315Z",
     "shell.execute_reply": "2023-07-12T15:32:08.621515Z"
    },
    "papermill": {
     "duration": 0.012993,
     "end_time": "2023-07-12T15:32:08.624315",
     "exception": false,
     "start_time": "2023-07-12T15:32:08.611322",
     "status": "completed"
    },
    "tags": []
   },
   "outputs": [],
   "source": [
    "# for working in kaggle use this paths\n",
    "kag_path_in = \"/kaggle/input/mars-spec-train/\"\n",
    "kag_path_out = \"/kaggle/working/\"\n",
    "\n",
    "# add custom paths here (uncomment)\n",
    "# kag_path_in = \"\"\n",
    "# kag_path_out = \"\""
   ]
  },
  {
   "cell_type": "code",
   "execution_count": 4,
   "id": "d53faeb8",
   "metadata": {
    "execution": {
     "iopub.execute_input": "2023-07-12T15:32:08.637937Z",
     "iopub.status.busy": "2023-07-12T15:32:08.636501Z",
     "iopub.status.idle": "2023-07-12T15:32:08.672668Z",
     "shell.execute_reply": "2023-07-12T15:32:08.671797Z"
    },
    "papermill": {
     "duration": 0.044859,
     "end_time": "2023-07-12T15:32:08.674688",
     "exception": false,
     "start_time": "2023-07-12T15:32:08.629829",
     "status": "completed"
    },
    "tags": []
   },
   "outputs": [],
   "source": [
    "# metadata = pd.read_csv('/kaggle/input/mars-spec-train/metadata.csv').fillna(0)\n",
    "# train_labels = pd.read_csv('/kaggle/input/mars-spec-train/train_labels.csv')\n",
    "metadata = pd.read_csv(kag_path_in+'metadata.csv').fillna(0)\n",
    "train_labels = pd.read_csv(kag_path_in+'train_labels.csv')"
   ]
  },
  {
   "cell_type": "markdown",
   "id": "13a69c2f",
   "metadata": {
    "papermill": {
     "duration": 0.005996,
     "end_time": "2023-07-12T15:32:08.686426",
     "exception": false,
     "start_time": "2023-07-12T15:32:08.680430",
     "status": "completed"
    },
    "tags": []
   },
   "source": [
    "## 2. Preprocessing and Feature extraction\n",
    "<ul>\n",
    "<li>mass values are grouped into values seperated by 0.50 </li>\n",
    "<li>time values are grouped into values seperated by 0.02 </li>\n",
    "<li>Time * Mass matrix (2700,1400) with Intensity values </li>\n",
    "</ul>"
   ]
  },
  {
   "cell_type": "code",
   "execution_count": 5,
   "id": "18a94268",
   "metadata": {
    "execution": {
     "iopub.execute_input": "2023-07-12T15:32:08.699399Z",
     "iopub.status.busy": "2023-07-12T15:32:08.699092Z",
     "iopub.status.idle": "2023-07-12T15:32:08.703184Z",
     "shell.execute_reply": "2023-07-12T15:32:08.702291Z"
    },
    "papermill": {
     "duration": 0.012437,
     "end_time": "2023-07-12T15:32:08.705129",
     "exception": false,
     "start_time": "2023-07-12T15:32:08.692692",
     "status": "completed"
    },
    "tags": []
   },
   "outputs": [],
   "source": [
    "# constants\n",
    "num_mass_values = 1400\n",
    "num_time_values = 2700\n",
    "matrix_shape = (num_time_values, num_mass_values)"
   ]
  },
  {
   "cell_type": "code",
   "execution_count": 6,
   "id": "643c3299",
   "metadata": {
    "execution": {
     "iopub.execute_input": "2023-07-12T15:32:08.717662Z",
     "iopub.status.busy": "2023-07-12T15:32:08.717039Z",
     "iopub.status.idle": "2023-07-12T15:32:08.724778Z",
     "shell.execute_reply": "2023-07-12T15:32:08.723936Z"
    },
    "papermill": {
     "duration": 0.016133,
     "end_time": "2023-07-12T15:32:08.726717",
     "exception": false,
     "start_time": "2023-07-12T15:32:08.710584",
     "status": "completed"
    },
    "tags": []
   },
   "outputs": [],
   "source": [
    "\n",
    "# Function to create the Time X Mass matrix for a single data sample\n",
    "def create_matrix(id):\n",
    "    \n",
    "    sample_id, split, derivate, path, _ = metadata.iloc[id]\n",
    "    data = pd.read_csv(kag_path_in+path)\n",
    "\n",
    "    label = None\n",
    "    if (split == 'train'):\n",
    "        label = train_labels.iloc[id].values[1:]\n",
    "\n",
    "    # discretization of time and mass\n",
    "    data.time = (data.time*50).round()\n",
    "    data.mass = (data.mass*2).round()\n",
    "    data.time = data.time.astype(int)\n",
    "    data.mass = data.mass.astype(int)\n",
    "    \n",
    "    # scaling intensity\n",
    "    data.intensity = MinMaxScaler().fit_transform(data.intensity.values.reshape(-1, 1))\n",
    "    \n",
    "    # filling matrix\n",
    "    matrix = np.zeros(matrix_shape)\n",
    "    matrix[data['time'],data['mass']] = data['intensity']\n",
    "\n",
    "    return matrix , label\n"
   ]
  },
  {
   "cell_type": "markdown",
   "id": "031b9446",
   "metadata": {
    "papermill": {
     "duration": 0.005402,
     "end_time": "2023-07-12T15:32:08.738091",
     "exception": false,
     "start_time": "2023-07-12T15:32:08.732689",
     "status": "completed"
    },
    "tags": []
   },
   "source": [
    "## 3. Data Generation\n",
    "<ul>\n",
    "<li>Storing data matrix is costly</li>\n",
    "<li>data is generated in batches</li>\n",
    "</ul>\n"
   ]
  },
  {
   "cell_type": "code",
   "execution_count": 7,
   "id": "e47843bd",
   "metadata": {
    "execution": {
     "iopub.execute_input": "2023-07-12T15:32:08.750723Z",
     "iopub.status.busy": "2023-07-12T15:32:08.749987Z",
     "iopub.status.idle": "2023-07-12T15:32:08.755818Z",
     "shell.execute_reply": "2023-07-12T15:32:08.754990Z"
    },
    "papermill": {
     "duration": 0.014307,
     "end_time": "2023-07-12T15:32:08.757921",
     "exception": false,
     "start_time": "2023-07-12T15:32:08.743614",
     "status": "completed"
    },
    "tags": []
   },
   "outputs": [],
   "source": [
    "training_data = range(809)  \n",
    "train_data, val_data = train_test_split(training_data, test_size=0.2, random_state=42)\n"
   ]
  },
  {
   "cell_type": "code",
   "execution_count": 8,
   "id": "ffa81c1b",
   "metadata": {
    "execution": {
     "iopub.execute_input": "2023-07-12T15:32:08.770026Z",
     "iopub.status.busy": "2023-07-12T15:32:08.769771Z",
     "iopub.status.idle": "2023-07-12T15:32:08.779455Z",
     "shell.execute_reply": "2023-07-12T15:32:08.778542Z"
    },
    "papermill": {
     "duration": 0.0182,
     "end_time": "2023-07-12T15:32:08.781542",
     "exception": false,
     "start_time": "2023-07-12T15:32:08.763342",
     "status": "completed"
    },
    "tags": []
   },
   "outputs": [],
   "source": [
    "class DataGenerator(Sequence):\n",
    "    def __init__(self, data, batch_size):\n",
    "        self.data = data\n",
    "        self.batch_size = batch_size\n",
    "    def __len__(self):\n",
    "        return len(self.data) // self.batch_size\n",
    "\n",
    "    def __getitem__(self, idx):        \n",
    "        \n",
    "        low = idx * self.batch_size\n",
    "        high = min(low + self.batch_size, len(self.data))\n",
    "        batch_x = []\n",
    "        batch_y = []\n",
    "\n",
    "        for i,data_sample in enumerate(self.data[low:high]):\n",
    "            processed_sample, processed_label = self.preprocess_data(data_sample)\n",
    "            batch_x.append(processed_sample)\n",
    "            batch_y.append(processed_label)\n",
    "        return np.array(batch_x), np.array(batch_y)\n",
    "\n",
    "    def preprocess_data(self, data_sample):\n",
    "        matrix, label = create_matrix(data_sample)\n",
    "        if type(label) == np.ndarray:\n",
    "            label = np.array(label).astype(int)\n",
    "        return matrix , label\n"
   ]
  },
  {
   "cell_type": "code",
   "execution_count": 9,
   "id": "fc762ea1",
   "metadata": {
    "execution": {
     "iopub.execute_input": "2023-07-12T15:32:08.794605Z",
     "iopub.status.busy": "2023-07-12T15:32:08.793759Z",
     "iopub.status.idle": "2023-07-12T15:32:09.556995Z",
     "shell.execute_reply": "2023-07-12T15:32:09.556122Z"
    },
    "papermill": {
     "duration": 0.772369,
     "end_time": "2023-07-12T15:32:09.559410",
     "exception": false,
     "start_time": "2023-07-12T15:32:08.787041",
     "status": "completed"
    },
    "tags": []
   },
   "outputs": [
    {
     "data": {
      "text/plain": [
       "(array([[[0., 0., 0., ..., 0., 0., 0.],\n",
       "         [0., 0., 0., ..., 0., 0., 0.],\n",
       "         [0., 0., 0., ..., 0., 0., 0.],\n",
       "         ...,\n",
       "         [0., 0., 0., ..., 0., 0., 0.],\n",
       "         [0., 0., 0., ..., 0., 0., 0.],\n",
       "         [0., 0., 0., ..., 0., 0., 0.]],\n",
       " \n",
       "        [[0., 0., 0., ..., 0., 0., 0.],\n",
       "         [0., 0., 0., ..., 0., 0., 0.],\n",
       "         [0., 0., 0., ..., 0., 0., 0.],\n",
       "         ...,\n",
       "         [0., 0., 0., ..., 0., 0., 0.],\n",
       "         [0., 0., 0., ..., 0., 0., 0.],\n",
       "         [0., 0., 0., ..., 0., 0., 0.]]]),\n",
       " array([[0, 0, 0, 0, 0, 0, 0, 0, 0],\n",
       "        [1, 0, 1, 1, 0, 1, 1, 0, 0]]))"
      ]
     },
     "execution_count": 9,
     "metadata": {},
     "output_type": "execute_result"
    }
   ],
   "source": [
    "a = DataGenerator([2,1,32,13,132,122,90,91,7,9],4)\n",
    "a[2]"
   ]
  },
  {
   "cell_type": "markdown",
   "id": "83219334",
   "metadata": {
    "papermill": {
     "duration": 0.005527,
     "end_time": "2023-07-12T15:32:09.570731",
     "exception": false,
     "start_time": "2023-07-12T15:32:09.565204",
     "status": "completed"
    },
    "tags": []
   },
   "source": [
    "## 4. Model\n",
    "<ul>\n",
    "<li>convolutional layers </li>\n",
    "<li>pooling layers (max pooling) </li>\n",
    "<li>fully connected layers</li>\n",
    "<li>sigmoid layer</li>\n",
    "<li>output positive label probability</li>\n",
    "</ul>"
   ]
  },
  {
   "cell_type": "code",
   "execution_count": 10,
   "id": "ebe73817",
   "metadata": {
    "execution": {
     "iopub.execute_input": "2023-07-12T15:32:09.584368Z",
     "iopub.status.busy": "2023-07-12T15:32:09.583570Z",
     "iopub.status.idle": "2023-07-12T15:32:09.588313Z",
     "shell.execute_reply": "2023-07-12T15:32:09.587412Z"
    },
    "papermill": {
     "duration": 0.013311,
     "end_time": "2023-07-12T15:32:09.590317",
     "exception": false,
     "start_time": "2023-07-12T15:32:09.577006",
     "status": "completed"
    },
    "tags": []
   },
   "outputs": [],
   "source": [
    "label_names = [col for col in train_labels.columns[1:]]"
   ]
  },
  {
   "cell_type": "code",
   "execution_count": 11,
   "id": "c6902293",
   "metadata": {
    "execution": {
     "iopub.execute_input": "2023-07-12T15:32:09.603036Z",
     "iopub.status.busy": "2023-07-12T15:32:09.602767Z",
     "iopub.status.idle": "2023-07-12T15:32:09.608057Z",
     "shell.execute_reply": "2023-07-12T15:32:09.607223Z"
    },
    "papermill": {
     "duration": 0.013804,
     "end_time": "2023-07-12T15:32:09.609968",
     "exception": false,
     "start_time": "2023-07-12T15:32:09.596164",
     "status": "completed"
    },
    "tags": []
   },
   "outputs": [],
   "source": [
    "# contants\n",
    "batch_size = 8\n",
    "num_epochs = 80\n",
    "model = None\n",
    "history = None"
   ]
  },
  {
   "cell_type": "code",
   "execution_count": 12,
   "id": "79fd51dd",
   "metadata": {
    "execution": {
     "iopub.execute_input": "2023-07-12T15:32:09.623344Z",
     "iopub.status.busy": "2023-07-12T15:32:09.622622Z",
     "iopub.status.idle": "2023-07-12T15:32:12.628088Z",
     "shell.execute_reply": "2023-07-12T15:32:12.627356Z"
    },
    "papermill": {
     "duration": 3.023754,
     "end_time": "2023-07-12T15:32:12.639822",
     "exception": false,
     "start_time": "2023-07-12T15:32:09.616068",
     "status": "completed"
    },
    "tags": []
   },
   "outputs": [
    {
     "name": "stdout",
     "output_type": "stream",
     "text": [
      "Model: \"sequential\"\n",
      "_________________________________________________________________\n",
      " Layer (type)                Output Shape              Param #   \n",
      "=================================================================\n",
      " conv2d (Conv2D)             (None, 2651, 1391, 4)     2004      \n",
      "                                                                 \n",
      " max_pooling2d (MaxPooling2D  (None, 13, 278, 4)       0         \n",
      " )                                                               \n",
      "                                                                 \n",
      " flatten (Flatten)           (None, 14456)             0         \n",
      "                                                                 \n",
      " dense (Dense)               (None, 64)                925248    \n",
      "                                                                 \n",
      " dense_1 (Dense)             (None, 9)                 585       \n",
      "                                                                 \n",
      "=================================================================\n",
      "Total params: 927,837\n",
      "Trainable params: 927,837\n",
      "Non-trainable params: 0\n",
      "_________________________________________________________________\n"
     ]
    }
   ],
   "source": [
    "model = Sequential()\n",
    "model.add(Conv2D(4, kernel_size=(50, 10), activation='relu', input_shape=(num_time_values, num_mass_values, 1)))\n",
    "model.add(MaxPooling2D(pool_size=(200, 5)))\n",
    "\n",
    "model.add(Flatten())\n",
    "\n",
    "model.add(Dense(64, activation='relu'))\n",
    "\n",
    "model.add(Dense(9, activation='sigmoid'))\n",
    "opt = tf.keras.optimizers.Adam(learning_rate = 0.0001) # slow\n",
    "model.compile(loss=tf.keras.losses.BinaryCrossentropy(from_logits=True), optimizer=opt, metrics=['AUC']) # from logits = true\n",
    " \n",
    "train_data_generator = DataGenerator(train_data, batch_size)\n",
    "val_data_generator = DataGenerator(val_data, batch_size)\n",
    "\n",
    "model.summary()"
   ]
  },
  {
   "cell_type": "code",
   "execution_count": 13,
   "id": "bf937dc6",
   "metadata": {
    "execution": {
     "iopub.execute_input": "2023-07-12T15:32:12.655715Z",
     "iopub.status.busy": "2023-07-12T15:32:12.655421Z",
     "iopub.status.idle": "2023-07-12T18:25:40.637073Z",
     "shell.execute_reply": "2023-07-12T18:25:40.635258Z"
    },
    "papermill": {
     "duration": 10408.259786,
     "end_time": "2023-07-12T18:25:40.906793",
     "exception": false,
     "start_time": "2023-07-12T15:32:12.647007",
     "status": "completed"
    },
    "tags": []
   },
   "outputs": [
    {
     "name": "stdout",
     "output_type": "stream",
     "text": [
      "Epoch 1/80\n",
      "80/80 [==============================] - 371s 4s/step - loss: 0.5252 - auc: 0.6649 - val_loss: 0.3024 - val_auc: 0.7383\n",
      "Epoch 2/80\n",
      "80/80 [==============================] - 355s 4s/step - loss: 0.2913 - auc: 0.7668 - val_loss: 0.2532 - val_auc: 0.8237\n",
      "Epoch 3/80\n",
      "80/80 [==============================] - 321s 4s/step - loss: 0.2609 - auc: 0.8306 - val_loss: 0.2293 - val_auc: 0.8531\n",
      "Epoch 4/80\n",
      "80/80 [==============================] - 321s 4s/step - loss: 0.2402 - auc: 0.8583 - val_loss: 0.2146 - val_auc: 0.8734\n",
      "Epoch 5/80\n",
      "80/80 [==============================] - 297s 4s/step - loss: 0.2258 - auc: 0.8802 - val_loss: 0.2058 - val_auc: 0.8873\n",
      "Epoch 6/80\n",
      "80/80 [==============================] - 323s 4s/step - loss: 0.2137 - auc: 0.8966 - val_loss: 0.2001 - val_auc: 0.8981\n",
      "Epoch 7/80\n",
      "80/80 [==============================] - 320s 4s/step - loss: 0.2047 - auc: 0.9096 - val_loss: 0.1934 - val_auc: 0.9062\n",
      "Epoch 8/80\n",
      "80/80 [==============================] - 301s 4s/step - loss: 0.1966 - auc: 0.9189 - val_loss: 0.1900 - val_auc: 0.9119\n",
      "Epoch 9/80\n",
      "80/80 [==============================] - 294s 4s/step - loss: 0.1890 - auc: 0.9276 - val_loss: 0.1838 - val_auc: 0.9174\n",
      "Epoch 10/80\n",
      "80/80 [==============================] - 305s 4s/step - loss: 0.1824 - auc: 0.9342 - val_loss: 0.1816 - val_auc: 0.9202\n",
      "Epoch 11/80\n",
      "80/80 [==============================] - 294s 4s/step - loss: 0.1761 - auc: 0.9396 - val_loss: 0.1790 - val_auc: 0.9264\n",
      "Epoch 12/80\n",
      "80/80 [==============================] - 307s 4s/step - loss: 0.1710 - auc: 0.9451 - val_loss: 0.1760 - val_auc: 0.9301\n",
      "Epoch 13/80\n",
      "80/80 [==============================] - 300s 4s/step - loss: 0.1648 - auc: 0.9504 - val_loss: 0.1704 - val_auc: 0.9311\n",
      "Epoch 14/80\n",
      "80/80 [==============================] - 306s 4s/step - loss: 0.1598 - auc: 0.9545 - val_loss: 0.1684 - val_auc: 0.9344\n",
      "Epoch 15/80\n",
      "80/80 [==============================] - 332s 4s/step - loss: 0.1542 - auc: 0.9573 - val_loss: 0.1694 - val_auc: 0.9326\n",
      "Epoch 16/80\n",
      "80/80 [==============================] - 310s 4s/step - loss: 0.1507 - auc: 0.9608 - val_loss: 0.1654 - val_auc: 0.9364\n",
      "Epoch 17/80\n",
      "80/80 [==============================] - 317s 4s/step - loss: 0.1461 - auc: 0.9626 - val_loss: 0.1654 - val_auc: 0.9355\n",
      "Epoch 18/80\n",
      "80/80 [==============================] - 318s 4s/step - loss: 0.1419 - auc: 0.9651 - val_loss: 0.1657 - val_auc: 0.9354\n",
      "Epoch 19/80\n",
      "80/80 [==============================] - 324s 4s/step - loss: 0.1393 - auc: 0.9664 - val_loss: 0.1652 - val_auc: 0.9344\n",
      "Epoch 20/80\n",
      "80/80 [==============================] - 308s 4s/step - loss: 0.1351 - auc: 0.9683 - val_loss: 0.1673 - val_auc: 0.9340\n",
      "Epoch 21/80\n",
      "80/80 [==============================] - 300s 4s/step - loss: 0.1329 - auc: 0.9705 - val_loss: 0.1632 - val_auc: 0.9348\n",
      "Epoch 22/80\n",
      "80/80 [==============================] - 306s 4s/step - loss: 0.1293 - auc: 0.9719 - val_loss: 0.1634 - val_auc: 0.9359\n",
      "Epoch 23/80\n",
      "80/80 [==============================] - 302s 4s/step - loss: 0.1266 - auc: 0.9727 - val_loss: 0.1626 - val_auc: 0.9324\n",
      "Epoch 24/80\n",
      "80/80 [==============================] - 308s 4s/step - loss: 0.1235 - auc: 0.9741 - val_loss: 0.1651 - val_auc: 0.9354\n",
      "Epoch 25/80\n",
      "80/80 [==============================] - 299s 4s/step - loss: 0.1215 - auc: 0.9746 - val_loss: 0.1646 - val_auc: 0.9299\n",
      "Epoch 26/80\n",
      "80/80 [==============================] - 296s 4s/step - loss: 0.1188 - auc: 0.9763 - val_loss: 0.1632 - val_auc: 0.9307\n",
      "Epoch 27/80\n",
      "80/80 [==============================] - 299s 4s/step - loss: 0.1164 - auc: 0.9774 - val_loss: 0.1661 - val_auc: 0.9310\n",
      "Epoch 28/80\n",
      "80/80 [==============================] - 299s 4s/step - loss: 0.1141 - auc: 0.9781 - val_loss: 0.1643 - val_auc: 0.9314\n",
      "Epoch 29/80\n",
      "80/80 [==============================] - 295s 4s/step - loss: 0.1110 - auc: 0.9798 - val_loss: 0.1663 - val_auc: 0.9317\n",
      "Epoch 30/80\n",
      "80/80 [==============================] - 306s 4s/step - loss: 0.1099 - auc: 0.9799 - val_loss: 0.1683 - val_auc: 0.9256\n",
      "Epoch 31/80\n",
      "80/80 [==============================] - 298s 4s/step - loss: 0.1076 - auc: 0.9810 - val_loss: 0.1670 - val_auc: 0.9268\n",
      "Epoch 32/80\n",
      "80/80 [==============================] - 306s 4s/step - loss: 0.1054 - auc: 0.9817 - val_loss: 0.1695 - val_auc: 0.9298\n",
      "Epoch 33/80\n",
      "80/80 [==============================] - 287s 4s/step - loss: 0.1039 - auc: 0.9823 - val_loss: 0.1688 - val_auc: 0.9290\n"
     ]
    }
   ],
   "source": [
    "es = EarlyStopping(monitor = 'val_loss', patience = 10, restore_best_weights = True  )\n",
    "history = model.fit(train_data_generator, epochs=num_epochs, validation_data=val_data_generator, callbacks=[es],verbose = 1)"
   ]
  },
  {
   "cell_type": "code",
   "execution_count": 14,
   "id": "2b4ad1a2",
   "metadata": {
    "execution": {
     "iopub.execute_input": "2023-07-12T18:25:41.319745Z",
     "iopub.status.busy": "2023-07-12T18:25:41.319315Z",
     "iopub.status.idle": "2023-07-12T18:25:41.423244Z",
     "shell.execute_reply": "2023-07-12T18:25:41.422342Z"
    },
    "papermill": {
     "duration": 0.314902,
     "end_time": "2023-07-12T18:25:41.425441",
     "exception": false,
     "start_time": "2023-07-12T18:25:41.110539",
     "status": "completed"
    },
    "tags": []
   },
   "outputs": [],
   "source": [
    "model.save(\"model_final.keras\")"
   ]
  },
  {
   "cell_type": "markdown",
   "id": "daac475f",
   "metadata": {
    "papermill": {
     "duration": 0.205844,
     "end_time": "2023-07-12T18:25:41.836946",
     "exception": false,
     "start_time": "2023-07-12T18:25:41.631102",
     "status": "completed"
    },
    "tags": []
   },
   "source": [
    "## 5. Performance \n",
    "<ul>\n",
    "<li>train and validation losses</li>\n",
    "</ul>"
   ]
  },
  {
   "cell_type": "code",
   "execution_count": 15,
   "id": "96e89a51",
   "metadata": {
    "execution": {
     "iopub.execute_input": "2023-07-12T18:25:42.249028Z",
     "iopub.status.busy": "2023-07-12T18:25:42.248102Z",
     "iopub.status.idle": "2023-07-12T18:26:16.085260Z",
     "shell.execute_reply": "2023-07-12T18:26:16.084202Z"
    },
    "papermill": {
     "duration": 34.261003,
     "end_time": "2023-07-12T18:26:16.303312",
     "exception": false,
     "start_time": "2023-07-12T18:25:42.042309",
     "status": "completed"
    },
    "tags": []
   },
   "outputs": [
    {
     "data": {
      "image/png": "[encoded data removed]",
      "text/plain": [
       "<Figure size 640x480 with 1 Axes>"
      ]
     },
     "metadata": {},
     "output_type": "display_data"
    }
   ],
   "source": [
    "train_loss = history.history['loss']\n",
    "val_loss = history.history['val_loss']\n",
    "epochs = range(1, len(train_loss) + 1)\n",
    "\n",
    "plt.plot(epochs, train_loss, 'b', label='Training Loss')\n",
    "plt.plot(epochs, val_loss, 'r', label='Validation Loss')\n",
    "plt.title('Training and Validation Loss')\n",
    "plt.xlabel('Epochs')\n",
    "plt.ylabel('Loss')\n",
    "plt.legend()\n",
    "plt.show()\n",
    "\n"
   ]
  },
  {
   "cell_type": "code",
   "execution_count": 16,
   "id": "87391880",
   "metadata": {
    "execution": {
     "iopub.execute_input": "2023-07-12T18:26:16.719171Z",
     "iopub.status.busy": "2023-07-12T18:26:16.718837Z",
     "iopub.status.idle": "2023-07-12T18:30:37.306739Z",
     "shell.execute_reply": "2023-07-12T18:30:37.304049Z"
    },
    "papermill": {
     "duration": 260.800033,
     "end_time": "2023-07-12T18:30:37.310509",
     "exception": false,
     "start_time": "2023-07-12T18:26:16.510476",
     "status": "completed"
    },
    "tags": []
   },
   "outputs": [],
   "source": [
    "y_pred = model.predict(DataGenerator(range(809),1), verbose = 0)"
   ]
  },
  {
   "cell_type": "markdown",
   "id": "46de3c3c",
   "metadata": {
    "papermill": {
     "duration": 0.207959,
     "end_time": "2023-07-12T18:30:37.724842",
     "exception": false,
     "start_time": "2023-07-12T18:30:37.516883",
     "status": "completed"
    },
    "tags": []
   },
   "source": [
    "### Classification Reports"
   ]
  },
  {
   "cell_type": "code",
   "execution_count": 17,
   "id": "e124d0cd",
   "metadata": {
    "execution": {
     "iopub.execute_input": "2023-07-12T18:30:38.138634Z",
     "iopub.status.busy": "2023-07-12T18:30:38.136881Z",
     "iopub.status.idle": "2023-07-12T18:30:38.246203Z",
     "shell.execute_reply": "2023-07-12T18:30:38.245292Z"
    },
    "papermill": {
     "duration": 0.319137,
     "end_time": "2023-07-12T18:30:38.248273",
     "exception": false,
     "start_time": "2023-07-12T18:30:37.929136",
     "status": "completed"
    },
    "tags": []
   },
   "outputs": [
    {
     "name": "stdout",
     "output_type": "stream",
     "text": [
      "aromatic\n",
      "              precision    recall  f1-score   support\n",
      "\n",
      "           0       0.94      1.00      0.97       730\n",
      "           1       0.94      0.38      0.54        79\n",
      "\n",
      "    accuracy                           0.94       809\n",
      "   macro avg       0.94      0.69      0.75       809\n",
      "weighted avg       0.94      0.94      0.92       809\n",
      "\n",
      "roc_auc_score : 0.9452228194902029\n",
      "-------------------------------------------------------------\n",
      "hydrocarbon\n",
      "              precision    recall  f1-score   support\n",
      "\n",
      "           0       0.93      0.95      0.94       544\n",
      "           1       0.90      0.85      0.87       265\n",
      "\n",
      "    accuracy                           0.92       809\n",
      "   macro avg       0.91      0.90      0.91       809\n",
      "weighted avg       0.92      0.92      0.92       809\n",
      "\n",
      "roc_auc_score : 0.9607380688124305\n",
      "-------------------------------------------------------------\n",
      "carboxylic_acid\n",
      "              precision    recall  f1-score   support\n",
      "\n",
      "           0       0.93      0.99      0.96       694\n",
      "           1       0.88      0.57      0.69       115\n",
      "\n",
      "    accuracy                           0.93       809\n",
      "   macro avg       0.91      0.78      0.82       809\n",
      "weighted avg       0.92      0.93      0.92       809\n",
      "\n",
      "roc_auc_score : 0.9699786994111014\n",
      "-------------------------------------------------------------\n",
      "nitrogen_bearing_compound\n",
      "              precision    recall  f1-score   support\n",
      "\n",
      "           0       0.94      0.98      0.96       713\n",
      "           1       0.83      0.57      0.68        96\n",
      "\n",
      "    accuracy                           0.94       809\n",
      "   macro avg       0.89      0.78      0.82       809\n",
      "weighted avg       0.93      0.94      0.93       809\n",
      "\n",
      "roc_auc_score : 0.9669530154277699\n",
      "-------------------------------------------------------------\n",
      "chlorine_bearing_compound\n",
      "              precision    recall  f1-score   support\n",
      "\n",
      "           0       0.98      1.00      0.99       791\n",
      "           1       1.00      0.22      0.36        18\n",
      "\n",
      "    accuracy                           0.98       809\n",
      "   macro avg       0.99      0.61      0.68       809\n",
      "weighted avg       0.98      0.98      0.98       809\n",
      "\n",
      "roc_auc_score : 0.9795617361989043\n",
      "-------------------------------------------------------------\n",
      "sulfur_bearing_compound\n",
      "              precision    recall  f1-score   support\n",
      "\n",
      "           0       0.97      1.00      0.99       778\n",
      "           1       0.92      0.35      0.51        31\n",
      "\n",
      "    accuracy                           0.97       809\n",
      "   macro avg       0.95      0.68      0.75       809\n",
      "weighted avg       0.97      0.97      0.97       809\n",
      "\n",
      "roc_auc_score : 0.9805124803051662\n",
      "-------------------------------------------------------------\n",
      "alcohol\n",
      "              precision    recall  f1-score   support\n",
      "\n",
      "           0       0.97      1.00      0.98       783\n",
      "           1       1.00      0.08      0.14        26\n",
      "\n",
      "    accuracy                           0.97       809\n",
      "   macro avg       0.99      0.54      0.56       809\n",
      "weighted avg       0.97      0.97      0.96       809\n",
      "\n",
      "roc_auc_score : 0.9572158365261814\n",
      "-------------------------------------------------------------\n",
      "other_oxygen_bearing_compound\n",
      "              precision    recall  f1-score   support\n",
      "\n",
      "           0       0.97      1.00      0.99       788\n",
      "           1       0.00      0.00      0.00        21\n",
      "\n",
      "    accuracy                           0.97       809\n",
      "   macro avg       0.49      0.50      0.49       809\n",
      "weighted avg       0.95      0.97      0.96       809\n",
      "\n",
      "roc_auc_score : 0.9675489485134156\n",
      "-------------------------------------------------------------\n",
      "mineral\n",
      "              precision    recall  f1-score   support\n",
      "\n",
      "           0       0.93      0.97      0.95       692\n",
      "           1       0.74      0.56      0.63       117\n",
      "\n",
      "    accuracy                           0.91       809\n",
      "   macro avg       0.83      0.76      0.79       809\n",
      "weighted avg       0.90      0.91      0.90       809\n",
      "\n",
      "roc_auc_score : 0.9464206313917296\n",
      "-------------------------------------------------------------\n"
     ]
    }
   ],
   "source": [
    "for i in range(9):\n",
    "    y_true_column = train_labels.iloc[:, i+1].values\n",
    "    y_pred_column = y_pred[:, i].round()\n",
    "    \n",
    "    report = classification_report(y_true_column, y_pred_column)\n",
    "    print(f\"{label_names[i]}\")\n",
    "    print(report)\n",
    "    print(f\"roc_auc_score : {roc_auc_score(y_true_column, y_pred[:, i])}\")\n",
    "    print(\"-------------------------------------------------------------\")\n"
   ]
  }
 ],
 "metadata": {
  "kernelspec": {
   "display_name": "Python 3",
   "language": "python",
   "name": "python3"
  },
  "language_info": {
   "codemirror_mode": {
    "name": "ipython",
    "version": 3
   },
   "file_extension": ".py",
   "mimetype": "text/x-python",
   "name": "python",
   "nbconvert_exporter": "python",
   "pygments_lexer": "ipython3",
   "version": "3.10.10"
  },
  "papermill": {
   "default_parameters": {},
   "duration": 10732.841106,
   "end_time": "2023-07-12T18:30:41.445758",
   "environment_variables": {},
   "exception": null,
   "input_path": "__notebook__.ipynb",
   "output_path": "__notebook__.ipynb",
   "parameters": {},
   "start_time": "2023-07-12T15:31:48.604652",
   "version": "2.4.0"
  }
 },
 "nbformat": 4,
 "nbformat_minor": 5
}
