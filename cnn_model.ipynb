{
 "cells": [
  {
   "cell_type": "markdown",
   "id": "5f1999d6",
   "metadata": {
    "papermill": {
     "duration": 0.007241,
     "end_time": "2023-07-18T10:08:09.702739",
     "exception": false,
     "start_time": "2023-07-18T10:08:09.695498",
     "status": "completed"
    },
    "tags": []
   },
   "source": [
    "## 1. Data Description \n",
    "<ul> \n",
    "<li>there are 809 training examples</li>\n",
    "<li>each of them is a dataframe with time, mass , and intensity values</li>\n",
    "<li>dataframe lenghts are variable</li>\n",
    "</ul>\n"
   ]
  },
  {
   "cell_type": "code",
   "execution_count": 1,
   "id": "d71528b7",
   "metadata": {
    "execution": {
     "iopub.execute_input": "2023-07-18T10:08:09.718493Z",
     "iopub.status.busy": "2023-07-18T10:08:09.717616Z",
     "iopub.status.idle": "2023-07-18T10:08:19.733906Z",
     "shell.execute_reply": "2023-07-18T10:08:19.732787Z"
    },
    "papermill": {
     "duration": 10.027414,
     "end_time": "2023-07-18T10:08:19.736806",
     "exception": false,
     "start_time": "2023-07-18T10:08:09.709392",
     "status": "completed"
    },
    "tags": []
   },
   "outputs": [],
   "source": [
    "import warnings \n",
    "warnings.filterwarnings('ignore')\n",
    "\n",
    "# for processing numbers and files csv\n",
    "import pandas as pd\n",
    "import numpy as np\n",
    "\n",
    "# for visualization\n",
    "import matplotlib.pyplot as plt\n",
    "%matplotlib inline\n",
    "\n",
    "# preprocessing \n",
    "from sklearn.preprocessing import MinMaxScaler\n",
    "from sklearn.model_selection import train_test_split\n",
    "from sklearn.metrics import classification_report, roc_auc_score, log_loss\n",
    "\n",
    "# model related\n",
    "from tensorflow.keras.callbacks import EarlyStopping\n",
    "from tensorflow.keras.utils import Sequence\n",
    "from tensorflow.keras.models import Sequential\n",
    "from tensorflow.keras.layers import Conv2D, MaxPooling2D, Flatten, Dense\n",
    "\n",
    "import tensorflow as tf\n"
   ]
  },
  {
   "cell_type": "code",
   "execution_count": 2,
   "id": "5001c917",
   "metadata": {
    "execution": {
     "iopub.execute_input": "2023-07-18T10:08:19.753391Z",
     "iopub.status.busy": "2023-07-18T10:08:19.751338Z",
     "iopub.status.idle": "2023-07-18T10:08:19.757894Z",
     "shell.execute_reply": "2023-07-18T10:08:19.756972Z"
    },
    "papermill": {
     "duration": 0.016638,
     "end_time": "2023-07-18T10:08:19.760065",
     "exception": false,
     "start_time": "2023-07-18T10:08:19.743427",
     "status": "completed"
    },
    "tags": []
   },
   "outputs": [],
   "source": [
    "# # for gpu\n",
    "\n",
    "# gpus = tf.config.experimental.list_physical_devices('GPU')\n",
    "# for gpu in gpus:\n",
    "#     print(\"Name:\", gpu.name, \"  Type:\", gpu.device_type)\n",
    "\n",
    "# from tensorflow.python.client import device_lib\n",
    "\n",
    "# print(device_lib.list_local_devices())\n",
    "\n",
    "# tf.test.is_gpu_available()"
   ]
  },
  {
   "cell_type": "code",
   "execution_count": 3,
   "id": "2a7ef5c9",
   "metadata": {
    "execution": {
     "iopub.execute_input": "2023-07-18T10:08:19.772785Z",
     "iopub.status.busy": "2023-07-18T10:08:19.772487Z",
     "iopub.status.idle": "2023-07-18T10:08:19.776971Z",
     "shell.execute_reply": "2023-07-18T10:08:19.775997Z"
    },
    "papermill": {
     "duration": 0.013605,
     "end_time": "2023-07-18T10:08:19.779262",
     "exception": false,
     "start_time": "2023-07-18T10:08:19.765657",
     "status": "completed"
    },
    "tags": []
   },
   "outputs": [],
   "source": [
    "# for working in kaggle use this paths\n",
    "kag_path_in = \"/kaggle/input/mars-spec-train/\"\n",
    "kag_path_out = \"/kaggle/working/\"\n",
    "\n",
    "# add custom paths here (uncomment)\n",
    "# kag_path_in = \"\"\n",
    "# kag_path_out = \"\""
   ]
  },
  {
   "cell_type": "code",
   "execution_count": 4,
   "id": "e1c24d41",
   "metadata": {
    "execution": {
     "iopub.execute_input": "2023-07-18T10:08:19.792693Z",
     "iopub.status.busy": "2023-07-18T10:08:19.792412Z",
     "iopub.status.idle": "2023-07-18T10:08:19.828833Z",
     "shell.execute_reply": "2023-07-18T10:08:19.827889Z"
    },
    "papermill": {
     "duration": 0.04576,
     "end_time": "2023-07-18T10:08:19.831316",
     "exception": false,
     "start_time": "2023-07-18T10:08:19.785556",
     "status": "completed"
    },
    "tags": []
   },
   "outputs": [],
   "source": [
    "# metadata = pd.read_csv('/kaggle/input/mars-spec-train/metadata.csv').fillna(0)\n",
    "# train_labels = pd.read_csv('/kaggle/input/mars-spec-train/train_labels.csv')\n",
    "metadata = pd.read_csv(kag_path_in+'metadata.csv').fillna(0)\n",
    "train_labels = pd.read_csv(kag_path_in+'train_labels.csv')"
   ]
  },
  {
   "cell_type": "markdown",
   "id": "501e44c7",
   "metadata": {
    "papermill": {
     "duration": 0.006386,
     "end_time": "2023-07-18T10:08:19.844455",
     "exception": false,
     "start_time": "2023-07-18T10:08:19.838069",
     "status": "completed"
    },
    "tags": []
   },
   "source": [
    "## 2. Preprocessing and Feature extraction\n",
    "<ul>\n",
    "<li>mass values are grouped into values seperated by 0.50 </li>\n",
    "<li>time values are grouped into values seperated by 0.02 </li>\n",
    "<li>Time * Mass matrix (2700,1400) with Intensity values </li>\n",
    "</ul>"
   ]
  },
  {
   "cell_type": "code",
   "execution_count": 5,
   "id": "3ec1175f",
   "metadata": {
    "execution": {
     "iopub.execute_input": "2023-07-18T10:08:19.859724Z",
     "iopub.status.busy": "2023-07-18T10:08:19.858739Z",
     "iopub.status.idle": "2023-07-18T10:08:19.864114Z",
     "shell.execute_reply": "2023-07-18T10:08:19.863087Z"
    },
    "papermill": {
     "duration": 0.015327,
     "end_time": "2023-07-18T10:08:19.866429",
     "exception": false,
     "start_time": "2023-07-18T10:08:19.851102",
     "status": "completed"
    },
    "tags": []
   },
   "outputs": [],
   "source": [
    "# constants\n",
    "num_mass_values = 1400\n",
    "num_time_values = 2700\n",
    "matrix_shape = (num_time_values, num_mass_values)"
   ]
  },
  {
   "cell_type": "code",
   "execution_count": 6,
   "id": "d94f6fb1",
   "metadata": {
    "execution": {
     "iopub.execute_input": "2023-07-18T10:08:19.880569Z",
     "iopub.status.busy": "2023-07-18T10:08:19.879614Z",
     "iopub.status.idle": "2023-07-18T10:08:19.888394Z",
     "shell.execute_reply": "2023-07-18T10:08:19.887432Z"
    },
    "papermill": {
     "duration": 0.018043,
     "end_time": "2023-07-18T10:08:19.890720",
     "exception": false,
     "start_time": "2023-07-18T10:08:19.872677",
     "status": "completed"
    },
    "tags": []
   },
   "outputs": [],
   "source": [
    "\n",
    "# Function to create the Time X Mass matrix for a single data sample\n",
    "def create_matrix(id):\n",
    "    \n",
    "    sample_id, split, derivate, path, _ = metadata.iloc[id]\n",
    "    data = pd.read_csv(kag_path_in+path)\n",
    "\n",
    "    label = None\n",
    "    if (split == 'train'):\n",
    "        label = train_labels.iloc[id].values[1:]\n",
    "\n",
    "    # discretization of time and mass\n",
    "    data.time = (data.time*50).round()\n",
    "    data.mass = (data.mass*2).round()\n",
    "    data.time = data.time.astype(int)\n",
    "    data.mass = data.mass.astype(int)\n",
    "    \n",
    "    # scaling intensity\n",
    "    data.intensity = MinMaxScaler().fit_transform(data.intensity.values.reshape(-1, 1))\n",
    "    \n",
    "    # filling matrix\n",
    "    matrix = np.zeros(matrix_shape)\n",
    "    matrix[data['time'],data['mass']] = data['intensity']\n",
    "\n",
    "    return matrix , label\n"
   ]
  },
  {
   "cell_type": "markdown",
   "id": "c2fed41e",
   "metadata": {
    "papermill": {
     "duration": 0.006256,
     "end_time": "2023-07-18T10:08:19.903659",
     "exception": false,
     "start_time": "2023-07-18T10:08:19.897403",
     "status": "completed"
    },
    "tags": []
   },
   "source": [
    "## 3. Data Generation\n",
    "<ul>\n",
    "<li>Storing data matrix is costly</li>\n",
    "<li>data is generated in batches</li>\n",
    "</ul>\n"
   ]
  },
  {
   "cell_type": "code",
   "execution_count": 7,
   "id": "67af99bd",
   "metadata": {
    "execution": {
     "iopub.execute_input": "2023-07-18T10:08:19.917099Z",
     "iopub.status.busy": "2023-07-18T10:08:19.916772Z",
     "iopub.status.idle": "2023-07-18T10:08:19.920797Z",
     "shell.execute_reply": "2023-07-18T10:08:19.919915Z"
    },
    "papermill": {
     "duration": 0.01301,
     "end_time": "2023-07-18T10:08:19.922984",
     "exception": false,
     "start_time": "2023-07-18T10:08:19.909974",
     "status": "completed"
    },
    "tags": []
   },
   "outputs": [],
   "source": [
    "training_data = range(809)"
   ]
  },
  {
   "cell_type": "code",
   "execution_count": 8,
   "id": "d317431a",
   "metadata": {
    "execution": {
     "iopub.execute_input": "2023-07-18T10:08:19.936711Z",
     "iopub.status.busy": "2023-07-18T10:08:19.936024Z",
     "iopub.status.idle": "2023-07-18T10:08:19.946041Z",
     "shell.execute_reply": "2023-07-18T10:08:19.945042Z"
    },
    "papermill": {
     "duration": 0.019333,
     "end_time": "2023-07-18T10:08:19.948434",
     "exception": false,
     "start_time": "2023-07-18T10:08:19.929101",
     "status": "completed"
    },
    "tags": []
   },
   "outputs": [],
   "source": [
    "class DataGenerator(Sequence):\n",
    "    def __init__(self, data, batch_size):\n",
    "        self.data = data\n",
    "        self.batch_size = batch_size\n",
    "    def __len__(self):\n",
    "        return len(self.data) // self.batch_size\n",
    "\n",
    "    def __getitem__(self, idx):        \n",
    "        \n",
    "        low = idx * self.batch_size\n",
    "        high = min(low + self.batch_size, len(self.data))\n",
    "        batch_x = []\n",
    "        batch_y = []\n",
    "\n",
    "        for i,data_sample in enumerate(self.data[low:high]):\n",
    "            processed_sample, processed_label = self.preprocess_data(data_sample)\n",
    "            batch_x.append(processed_sample)\n",
    "            batch_y.append(processed_label)\n",
    "        return np.array(batch_x), np.array(batch_y)\n",
    "\n",
    "    def preprocess_data(self, data_sample):\n",
    "        matrix, label = create_matrix(data_sample)\n",
    "        if type(label) == np.ndarray:\n",
    "            label = np.array(label).astype(int)\n",
    "        return matrix , label\n"
   ]
  },
  {
   "cell_type": "markdown",
   "id": "6a86a214",
   "metadata": {
    "papermill": {
     "duration": 0.006414,
     "end_time": "2023-07-18T10:08:19.961279",
     "exception": false,
     "start_time": "2023-07-18T10:08:19.954865",
     "status": "completed"
    },
    "tags": []
   },
   "source": [
    "## 4. Model\n",
    "<ul>\n",
    "<li>convolutional layers </li>\n",
    "<li>pooling layers (max pooling) </li>\n",
    "<li>fully connected layers</li>\n",
    "<li>sigmoid layer</li>\n",
    "<li>output positive label probability</li>\n",
    "</ul>"
   ]
  },
  {
   "cell_type": "code",
   "execution_count": 9,
   "id": "b5146c79",
   "metadata": {
    "execution": {
     "iopub.execute_input": "2023-07-18T10:08:19.975688Z",
     "iopub.status.busy": "2023-07-18T10:08:19.975348Z",
     "iopub.status.idle": "2023-07-18T10:08:19.980220Z",
     "shell.execute_reply": "2023-07-18T10:08:19.979152Z"
    },
    "papermill": {
     "duration": 0.014428,
     "end_time": "2023-07-18T10:08:19.982349",
     "exception": false,
     "start_time": "2023-07-18T10:08:19.967921",
     "status": "completed"
    },
    "tags": []
   },
   "outputs": [],
   "source": [
    "label_names = [col for col in train_labels.columns[1:]]"
   ]
  },
  {
   "cell_type": "code",
   "execution_count": 10,
   "id": "befbae4f",
   "metadata": {
    "execution": {
     "iopub.execute_input": "2023-07-18T10:08:19.997053Z",
     "iopub.status.busy": "2023-07-18T10:08:19.996413Z",
     "iopub.status.idle": "2023-07-18T10:08:20.001022Z",
     "shell.execute_reply": "2023-07-18T10:08:20.000059Z"
    },
    "papermill": {
     "duration": 0.014197,
     "end_time": "2023-07-18T10:08:20.003104",
     "exception": false,
     "start_time": "2023-07-18T10:08:19.988907",
     "status": "completed"
    },
    "tags": []
   },
   "outputs": [],
   "source": [
    "# contants\n",
    "batch_size = 8\n",
    "num_epochs = 55\n",
    "model = None\n",
    "history = None"
   ]
  },
  {
   "cell_type": "code",
   "execution_count": 11,
   "id": "4bff59b1",
   "metadata": {
    "execution": {
     "iopub.execute_input": "2023-07-18T10:08:20.016906Z",
     "iopub.status.busy": "2023-07-18T10:08:20.016037Z",
     "iopub.status.idle": "2023-07-18T10:08:20.020508Z",
     "shell.execute_reply": "2023-07-18T10:08:20.019493Z"
    },
    "papermill": {
     "duration": 0.013277,
     "end_time": "2023-07-18T10:08:20.022563",
     "exception": false,
     "start_time": "2023-07-18T10:08:20.009286",
     "status": "completed"
    },
    "tags": []
   },
   "outputs": [],
   "source": [
    "train_data_generator = DataGenerator(training_data, batch_size)\n",
    "# val_data_generator = DataGenerator(val_data, batch_size)"
   ]
  },
  {
   "cell_type": "code",
   "execution_count": 12,
   "id": "5eb1383c",
   "metadata": {
    "execution": {
     "iopub.execute_input": "2023-07-18T10:08:20.036355Z",
     "iopub.status.busy": "2023-07-18T10:08:20.035503Z",
     "iopub.status.idle": "2023-07-18T10:08:23.381854Z",
     "shell.execute_reply": "2023-07-18T10:08:23.381084Z"
    },
    "papermill": {
     "duration": 3.363993,
     "end_time": "2023-07-18T10:08:23.392398",
     "exception": false,
     "start_time": "2023-07-18T10:08:20.028405",
     "status": "completed"
    },
    "tags": []
   },
   "outputs": [
    {
     "name": "stdout",
     "output_type": "stream",
     "text": [
      "Model: \"sequential\"\n",
      "_________________________________________________________________\n",
      " Layer (type)                Output Shape              Param #   \n",
      "=================================================================\n",
      " conv2d (Conv2D)             (None, 2700, 1400, 32)    16032     \n",
      "                                                                 \n",
      " max_pooling2d (MaxPooling2D  (None, 1, 700, 32)       0         \n",
      " )                                                               \n",
      "                                                                 \n",
      " flatten (Flatten)           (None, 22400)             0         \n",
      "                                                                 \n",
      " dense (Dense)               (None, 32)                716832    \n",
      "                                                                 \n",
      " dense_1 (Dense)             (None, 9)                 297       \n",
      "                                                                 \n",
      "=================================================================\n",
      "Total params: 733,161\n",
      "Trainable params: 733,161\n",
      "Non-trainable params: 0\n",
      "_________________________________________________________________\n"
     ]
    }
   ],
   "source": [
    "model = Sequential()\n",
    "model.add(Conv2D(32, kernel_size = (100,5), padding= 'same',activation='relu', input_shape=(num_time_values, num_mass_values, 1)))\n",
    "model.add(MaxPooling2D(pool_size=(2700, 2)))\n",
    "\n",
    "model.add(Flatten())\n",
    "\n",
    "model.add(Dense(32, activation='relu'))\n",
    "model.add(Dense(9, activation='sigmoid'))\n",
    "\n",
    "opt = tf.keras.optimizers.Adam(learning_rate = 0.0001) \n",
    "\n",
    "model.compile(loss=tf.keras.losses.BinaryCrossentropy(from_logits=True), optimizer=opt, metrics=['AUC']) # from logits = true\n",
    "\n",
    "model.summary()"
   ]
  },
  {
   "cell_type": "code",
   "execution_count": 13,
   "id": "5d5bdf92",
   "metadata": {
    "execution": {
     "iopub.execute_input": "2023-07-18T10:08:23.409100Z",
     "iopub.status.busy": "2023-07-18T10:08:23.408764Z",
     "iopub.status.idle": "2023-07-18T15:06:28.116858Z",
     "shell.execute_reply": "2023-07-18T15:06:28.114695Z"
    },
    "papermill": {
     "duration": 17884.724067,
     "end_time": "2023-07-18T15:06:28.124384",
     "exception": false,
     "start_time": "2023-07-18T10:08:23.400317",
     "status": "completed"
    },
    "tags": []
   },
   "outputs": [
    {
     "name": "stdout",
     "output_type": "stream",
     "text": [
      "Epoch 1/55\n",
      "101/101 [==============================] - 364s 3s/step - loss: 0.4658 - auc: 0.6575\n",
      "Epoch 2/55\n",
      "101/101 [==============================] - 300s 3s/step - loss: 0.2652 - auc: 0.8168\n",
      "Epoch 3/55\n",
      "101/101 [==============================] - 312s 3s/step - loss: 0.2414 - auc: 0.8506\n",
      "Epoch 4/55\n",
      "101/101 [==============================] - 289s 3s/step - loss: 0.2290 - auc: 0.8686\n",
      "Epoch 5/55\n",
      "101/101 [==============================] - 294s 3s/step - loss: 0.2186 - auc: 0.8835\n",
      "Epoch 6/55\n",
      "101/101 [==============================] - 308s 3s/step - loss: 0.2103 - auc: 0.8946\n",
      "Epoch 7/55\n",
      "101/101 [==============================] - 297s 3s/step - loss: 0.2036 - auc: 0.9041\n",
      "Epoch 8/55\n",
      "101/101 [==============================] - 296s 3s/step - loss: 0.1981 - auc: 0.9096\n",
      "Epoch 9/55\n",
      "101/101 [==============================] - 299s 3s/step - loss: 0.1923 - auc: 0.9172\n",
      "Epoch 10/55\n",
      "101/101 [==============================] - 301s 3s/step - loss: 0.1871 - auc: 0.9229\n",
      "Epoch 11/55\n",
      "101/101 [==============================] - 298s 3s/step - loss: 0.1832 - auc: 0.9263\n",
      "Epoch 12/55\n",
      "101/101 [==============================] - 306s 3s/step - loss: 0.1788 - auc: 0.9312\n",
      "Epoch 13/55\n",
      "101/101 [==============================] - 304s 3s/step - loss: 0.1747 - auc: 0.9344\n",
      "Epoch 14/55\n",
      "101/101 [==============================] - 301s 3s/step - loss: 0.1702 - auc: 0.9390\n",
      "Epoch 15/55\n",
      "101/101 [==============================] - 305s 3s/step - loss: 0.1679 - auc: 0.9407\n",
      "Epoch 16/55\n",
      "101/101 [==============================] - 326s 3s/step - loss: 0.1647 - auc: 0.9444\n",
      "Epoch 17/55\n",
      "101/101 [==============================] - 320s 3s/step - loss: 0.1626 - auc: 0.9451\n",
      "Epoch 18/55\n",
      "101/101 [==============================] - 318s 3s/step - loss: 0.1597 - auc: 0.9478\n",
      "Epoch 19/55\n",
      "101/101 [==============================] - 306s 3s/step - loss: 0.1565 - auc: 0.9507\n",
      "Epoch 20/55\n",
      "101/101 [==============================] - 302s 3s/step - loss: 0.1534 - auc: 0.9527\n",
      "Epoch 21/55\n",
      "101/101 [==============================] - 307s 3s/step - loss: 0.1517 - auc: 0.9539\n",
      "Epoch 22/55\n",
      "101/101 [==============================] - 312s 3s/step - loss: 0.1482 - auc: 0.9568\n",
      "Epoch 23/55\n",
      "101/101 [==============================] - 302s 3s/step - loss: 0.1479 - auc: 0.9565\n",
      "Epoch 24/55\n",
      "101/101 [==============================] - 302s 3s/step - loss: 0.1437 - auc: 0.9597\n",
      "Epoch 25/55\n",
      "101/101 [==============================] - 298s 3s/step - loss: 0.1416 - auc: 0.9610\n",
      "Epoch 26/55\n",
      "101/101 [==============================] - 340s 3s/step - loss: 0.1407 - auc: 0.9623\n",
      "Epoch 27/55\n",
      "101/101 [==============================] - 323s 3s/step - loss: 0.1375 - auc: 0.9630\n",
      "Epoch 28/55\n",
      "101/101 [==============================] - 330s 3s/step - loss: 0.1367 - auc: 0.9641\n",
      "Epoch 29/55\n",
      "101/101 [==============================] - 328s 3s/step - loss: 0.1339 - auc: 0.9663\n",
      "Epoch 30/55\n",
      "101/101 [==============================] - 334s 3s/step - loss: 0.1322 - auc: 0.9674\n",
      "Epoch 31/55\n",
      "101/101 [==============================] - 337s 3s/step - loss: 0.1298 - auc: 0.9682\n",
      "Epoch 32/55\n",
      "101/101 [==============================] - 326s 3s/step - loss: 0.1279 - auc: 0.9698\n",
      "Epoch 33/55\n",
      "101/101 [==============================] - 329s 3s/step - loss: 0.1264 - auc: 0.9708\n",
      "Epoch 34/55\n",
      "101/101 [==============================] - 331s 3s/step - loss: 0.1246 - auc: 0.9715\n",
      "Epoch 35/55\n",
      "101/101 [==============================] - 333s 3s/step - loss: 0.1218 - auc: 0.9731\n",
      "Epoch 36/55\n",
      "101/101 [==============================] - 343s 3s/step - loss: 0.1204 - auc: 0.9742\n",
      "Epoch 37/55\n",
      "101/101 [==============================] - 331s 3s/step - loss: 0.1184 - auc: 0.9755\n",
      "Epoch 38/55\n",
      "101/101 [==============================] - 326s 3s/step - loss: 0.1177 - auc: 0.9753\n",
      "Epoch 39/55\n",
      "101/101 [==============================] - 317s 3s/step - loss: 0.1156 - auc: 0.9762\n",
      "Epoch 40/55\n",
      "101/101 [==============================] - 338s 3s/step - loss: 0.1129 - auc: 0.9775\n",
      "Epoch 41/55\n",
      "101/101 [==============================] - 324s 3s/step - loss: 0.1121 - auc: 0.9781\n",
      "Epoch 42/55\n",
      "101/101 [==============================] - 329s 3s/step - loss: 0.1103 - auc: 0.9787\n",
      "Epoch 43/55\n",
      "101/101 [==============================] - 319s 3s/step - loss: 0.1080 - auc: 0.9796\n",
      "Epoch 44/55\n",
      "101/101 [==============================] - 323s 3s/step - loss: 0.1072 - auc: 0.9799\n",
      "Epoch 45/55\n",
      "101/101 [==============================] - 327s 3s/step - loss: 0.1059 - auc: 0.9807\n",
      "Epoch 46/55\n",
      "101/101 [==============================] - 313s 3s/step - loss: 0.1039 - auc: 0.9811\n",
      "Epoch 47/55\n",
      "101/101 [==============================] - 323s 3s/step - loss: 0.1027 - auc: 0.9818\n",
      "Epoch 48/55\n",
      "101/101 [==============================] - 332s 3s/step - loss: 0.1024 - auc: 0.9818\n",
      "Epoch 49/55\n",
      "101/101 [==============================] - 325s 3s/step - loss: 0.0998 - auc: 0.9831\n",
      "Epoch 50/55\n",
      "101/101 [==============================] - 323s 3s/step - loss: 0.0986 - auc: 0.9835\n",
      "Epoch 51/55\n",
      "101/101 [==============================] - 336s 3s/step - loss: 0.0967 - auc: 0.9836\n",
      "Epoch 52/55\n",
      "101/101 [==============================] - 323s 3s/step - loss: 0.0957 - auc: 0.9847\n",
      "Epoch 53/55\n",
      "101/101 [==============================] - 323s 3s/step - loss: 0.0958 - auc: 0.9841\n",
      "Epoch 54/55\n",
      "101/101 [==============================] - 322s 3s/step - loss: 0.0931 - auc: 0.9853\n",
      "Epoch 55/55\n",
      "101/101 [==============================] - 326s 3s/step - loss: 0.0924 - auc: 0.9857\n"
     ]
    }
   ],
   "source": [
    "history = model.fit(train_data_generator, epochs=num_epochs,verbose = 1)"
   ]
  },
  {
   "cell_type": "code",
   "execution_count": 14,
   "id": "e1bd5cff",
   "metadata": {
    "execution": {
     "iopub.execute_input": "2023-07-18T15:06:29.348559Z",
     "iopub.status.busy": "2023-07-18T15:06:29.348085Z",
     "iopub.status.idle": "2023-07-18T15:06:29.526601Z",
     "shell.execute_reply": "2023-07-18T15:06:29.525474Z"
    },
    "papermill": {
     "duration": 0.680724,
     "end_time": "2023-07-18T15:06:29.529245",
     "exception": false,
     "start_time": "2023-07-18T15:06:28.848521",
     "status": "completed"
    },
    "tags": []
   },
   "outputs": [],
   "source": [
    "model.save(\"cnn_model.keras\")"
   ]
  },
  {
   "cell_type": "markdown",
   "id": "8590b1aa",
   "metadata": {
    "papermill": {
     "duration": 0.497208,
     "end_time": "2023-07-18T15:06:30.524956",
     "exception": false,
     "start_time": "2023-07-18T15:06:30.027748",
     "status": "completed"
    },
    "tags": []
   },
   "source": [
    "## 5. Performance \n",
    "<ul>\n",
    "<li>train and validation losses</li>\n",
    "</ul>"
   ]
  },
  {
   "cell_type": "code",
   "execution_count": 15,
   "id": "3635dd5e",
   "metadata": {
    "execution": {
     "iopub.execute_input": "2023-07-18T15:06:31.510438Z",
     "iopub.status.busy": "2023-07-18T15:06:31.510052Z",
     "iopub.status.idle": "2023-07-18T15:06:31.956895Z",
     "shell.execute_reply": "2023-07-18T15:06:31.955811Z"
    },
    "papermill": {
     "duration": 0.942818,
     "end_time": "2023-07-18T15:06:31.959396",
     "exception": false,
     "start_time": "2023-07-18T15:06:31.016578",
     "status": "completed"
    },
    "tags": []
   },
   "outputs": [
    {
     "data": {
      "image/png": "[encoded data removed]",
      "text/plain": [
       "<Figure size 640x480 with 1 Axes>"
      ]
     },
     "metadata": {},
     "output_type": "display_data"
    }
   ],
   "source": [
    "train_loss = history.history['loss']\n",
    "# val_loss = history.history['val_loss']\n",
    "epochs = range(1, len(train_loss) + 1)\n",
    "\n",
    "plt.plot(epochs, train_loss, 'b', label='Training Loss')\n",
    "# plt.plot(epochs, val_loss, 'r', label='Validation Loss')\n",
    "plt.grid()\n",
    "plt.title('Training Loss')\n",
    "plt.xlabel('Epochs')\n",
    "plt.ylabel('Loss')\n",
    "plt.legend()\n",
    "plt.show()\n",
    "\n"
   ]
  },
  {
   "cell_type": "code",
   "execution_count": 16,
   "id": "d7e322c6",
   "metadata": {
    "execution": {
     "iopub.execute_input": "2023-07-18T15:06:33.048370Z",
     "iopub.status.busy": "2023-07-18T15:06:33.047984Z",
     "iopub.status.idle": "2023-07-18T15:11:22.655958Z",
     "shell.execute_reply": "2023-07-18T15:11:22.654796Z"
    },
    "papermill": {
     "duration": 290.209705,
     "end_time": "2023-07-18T15:11:22.660694",
     "exception": false,
     "start_time": "2023-07-18T15:06:32.450989",
     "status": "completed"
    },
    "tags": []
   },
   "outputs": [],
   "source": [
    "y_pred = model.predict(DataGenerator(range(809),1), verbose = 0)"
   ]
  },
  {
   "cell_type": "markdown",
   "id": "8d312044",
   "metadata": {
    "papermill": {
     "duration": 0.490403,
     "end_time": "2023-07-18T15:11:23.634978",
     "exception": false,
     "start_time": "2023-07-18T15:11:23.144575",
     "status": "completed"
    },
    "tags": []
   },
   "source": [
    "### Classification Reports"
   ]
  },
  {
   "cell_type": "code",
   "execution_count": 17,
   "id": "002393df",
   "metadata": {
    "execution": {
     "iopub.execute_input": "2023-07-18T15:11:24.675232Z",
     "iopub.status.busy": "2023-07-18T15:11:24.673634Z",
     "iopub.status.idle": "2023-07-18T15:11:24.817093Z",
     "shell.execute_reply": "2023-07-18T15:11:24.816157Z"
    },
    "papermill": {
     "duration": 0.693989,
     "end_time": "2023-07-18T15:11:24.820052",
     "exception": false,
     "start_time": "2023-07-18T15:11:24.126063",
     "status": "completed"
    },
    "tags": []
   },
   "outputs": [
    {
     "name": "stdout",
     "output_type": "stream",
     "text": [
      "aromatic\n",
      "              precision    recall  f1-score   support\n",
      "\n",
      "           0       0.96      1.00      0.98       730\n",
      "           1       0.98      0.63      0.77        79\n",
      "\n",
      "    accuracy                           0.96       809\n",
      "   macro avg       0.97      0.82      0.87       809\n",
      "weighted avg       0.96      0.96      0.96       809\n",
      "\n",
      "roc_auc_score : 0.9851395873070921\n",
      "log loss      : 0.09957933271563882\n",
      "-------------------------------------------------------------\n",
      "hydrocarbon\n",
      "              precision    recall  f1-score   support\n",
      "\n",
      "           0       0.94      0.99      0.96       544\n",
      "           1       0.97      0.87      0.92       265\n",
      "\n",
      "    accuracy                           0.95       809\n",
      "   macro avg       0.95      0.93      0.94       809\n",
      "weighted avg       0.95      0.95      0.95       809\n",
      "\n",
      "roc_auc_score : 0.9859600443951164\n",
      "log loss      : 0.13848487655238803\n",
      "-------------------------------------------------------------\n",
      "carboxylic_acid\n",
      "              precision    recall  f1-score   support\n",
      "\n",
      "           0       0.95      0.99      0.97       694\n",
      "           1       0.94      0.69      0.79       115\n",
      "\n",
      "    accuracy                           0.95       809\n",
      "   macro avg       0.95      0.84      0.88       809\n",
      "weighted avg       0.95      0.95      0.95       809\n",
      "\n",
      "roc_auc_score : 0.983849141711565\n",
      "log loss      : 0.12685938434639452\n",
      "-------------------------------------------------------------\n",
      "nitrogen_bearing_compound\n",
      "              precision    recall  f1-score   support\n",
      "\n",
      "           0       0.97      0.98      0.98       713\n",
      "           1       0.84      0.79      0.81        96\n",
      "\n",
      "    accuracy                           0.96       809\n",
      "   macro avg       0.90      0.89      0.89       809\n",
      "weighted avg       0.96      0.96      0.96       809\n",
      "\n",
      "roc_auc_score : 0.988648316970547\n",
      "log loss      : 0.0973106682814506\n",
      "-------------------------------------------------------------\n",
      "chlorine_bearing_compound\n",
      "              precision    recall  f1-score   support\n",
      "\n",
      "           0       0.99      1.00      0.99       791\n",
      "           1       1.00      0.33      0.50        18\n",
      "\n",
      "    accuracy                           0.99       809\n",
      "   macro avg       0.99      0.67      0.75       809\n",
      "weighted avg       0.99      0.99      0.98       809\n",
      "\n",
      "roc_auc_score : 0.9819497120382076\n",
      "log loss      : 0.036747362201013885\n",
      "-------------------------------------------------------------\n",
      "sulfur_bearing_compound\n",
      "              precision    recall  f1-score   support\n",
      "\n",
      "           0       0.98      1.00      0.99       778\n",
      "           1       1.00      0.52      0.68        31\n",
      "\n",
      "    accuracy                           0.98       809\n",
      "   macro avg       0.99      0.76      0.84       809\n",
      "weighted avg       0.98      0.98      0.98       809\n",
      "\n",
      "roc_auc_score : 0.9932415623186002\n",
      "log loss      : 0.046615923888279\n",
      "-------------------------------------------------------------\n",
      "alcohol\n",
      "              precision    recall  f1-score   support\n",
      "\n",
      "           0       0.97      1.00      0.99       783\n",
      "           1       1.00      0.19      0.32        26\n",
      "\n",
      "    accuracy                           0.97       809\n",
      "   macro avg       0.99      0.60      0.65       809\n",
      "weighted avg       0.97      0.97      0.97       809\n",
      "\n",
      "roc_auc_score : 0.9851655368896748\n",
      "log loss      : 0.0575435379384087\n",
      "-------------------------------------------------------------\n",
      "other_oxygen_bearing_compound\n",
      "              precision    recall  f1-score   support\n",
      "\n",
      "           0       0.98      1.00      0.99       788\n",
      "           1       0.86      0.29      0.43        21\n",
      "\n",
      "    accuracy                           0.98       809\n",
      "   macro avg       0.92      0.64      0.71       809\n",
      "weighted avg       0.98      0.98      0.98       809\n",
      "\n",
      "roc_auc_score : 0.9857988880831521\n",
      "log loss      : 0.0465725492849878\n",
      "-------------------------------------------------------------\n",
      "mineral\n",
      "              precision    recall  f1-score   support\n",
      "\n",
      "           0       0.95      0.98      0.97       692\n",
      "           1       0.86      0.70      0.77       117\n",
      "\n",
      "    accuracy                           0.94       809\n",
      "   macro avg       0.91      0.84      0.87       809\n",
      "weighted avg       0.94      0.94      0.94       809\n",
      "\n",
      "roc_auc_score : 0.9723704362432686\n",
      "log loss      : 0.14477024878373296\n",
      "-------------------------------------------------------------\n"
     ]
    }
   ],
   "source": [
    "for i in range(9):\n",
    "    y_true_column = train_labels.iloc[:, i+1].values\n",
    "    y_pred_column = y_pred[:, i].round()\n",
    "    \n",
    "    report = classification_report(y_true_column, y_pred_column)\n",
    "    print(f\"{label_names[i]}\")\n",
    "    print(report)\n",
    "    print(f\"roc_auc_score : {roc_auc_score(y_true_column, y_pred[:, i])}\")\n",
    "    print(f\"log loss      : {log_loss(y_true_column, y_pred[:, i])}\")\n",
    "    \n",
    "    print(\"-------------------------------------------------------------\")\n"
   ]
  }
 ],
 "metadata": {
  "kernelspec": {
   "display_name": "Python 3",
   "language": "python",
   "name": "python3"
  },
  "language_info": {
   "codemirror_mode": {
    "name": "ipython",
    "version": 3
   },
   "file_extension": ".py",
   "mimetype": "text/x-python",
   "name": "python",
   "nbconvert_exporter": "python",
   "pygments_lexer": "ipython3",
   "version": "3.10.10"
  },
  "papermill": {
   "default_parameters": {},
   "duration": 18210.605695,
   "end_time": "2023-07-18T15:11:28.210138",
   "environment_variables": {},
   "exception": null,
   "input_path": "__notebook__.ipynb",
   "output_path": "__notebook__.ipynb",
   "parameters": {},
   "start_time": "2023-07-18T10:07:57.604443",
   "version": "2.4.0"
  }
 },
 "nbformat": 4,
 "nbformat_minor": 5
}
