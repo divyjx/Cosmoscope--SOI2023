{
 "cells": [
  {
   "cell_type": "markdown",
   "id": "40c32c29",
   "metadata": {
    "papermill": {
     "duration": 0.007851,
     "end_time": "2023-07-20T17:09:31.907215",
     "exception": false,
     "start_time": "2023-07-20T17:09:31.899364",
     "status": "completed"
    },
    "tags": []
   },
   "source": [
    "## 1. Data Description \n",
    "<ul> \n",
    "<li>there are 809 training examples</li>\n",
    "<li>each of them is a dataframe with time, mass , and intensity values</li>\n",
    "<li>dataframe lenghts are variable</li>\n",
    "</ul>\n"
   ]
  },
  {
   "cell_type": "code",
   "execution_count": 1,
   "id": "9ca6a758",
   "metadata": {
    "execution": {
     "iopub.execute_input": "2023-07-20T17:09:31.924508Z",
     "iopub.status.busy": "2023-07-20T17:09:31.924057Z",
     "iopub.status.idle": "2023-07-20T17:09:43.309615Z",
     "shell.execute_reply": "2023-07-20T17:09:43.308448Z"
    },
    "papermill": {
     "duration": 11.397642,
     "end_time": "2023-07-20T17:09:43.312727",
     "exception": false,
     "start_time": "2023-07-20T17:09:31.915085",
     "status": "completed"
    },
    "tags": []
   },
   "outputs": [],
   "source": [
    "import warnings\n",
    "warnings.filterwarnings('ignore')\n",
    "\n",
    "# for processing numbers and files csv\n",
    "import pandas as pd\n",
    "import numpy as np\n",
    "\n",
    "# for visualization\n",
    "import matplotlib.pyplot as plt\n",
    "%matplotlib inline\n",
    "\n",
    "# preprocessing\n",
    "from sklearn.preprocessing import MinMaxScaler\n",
    "from sklearn.model_selection import train_test_split\n",
    "from sklearn.metrics import classification_report, roc_auc_score, log_loss\n",
    "\n",
    "# model related\n",
    "from tensorflow.keras.callbacks import EarlyStopping\n",
    "from tensorflow.keras.utils import Sequence\n",
    "from tensorflow.keras.models import Sequential\n",
    "from tensorflow.keras.layers import Conv2D, MaxPooling2D, Flatten, Dense\n",
    "\n",
    "import tensorflow as tf\n"
   ]
  },
  {
   "cell_type": "code",
   "execution_count": 2,
   "id": "04608bff",
   "metadata": {
    "execution": {
     "iopub.execute_input": "2023-07-20T17:09:43.330055Z",
     "iopub.status.busy": "2023-07-20T17:09:43.329152Z",
     "iopub.status.idle": "2023-07-20T17:09:43.334412Z",
     "shell.execute_reply": "2023-07-20T17:09:43.333175Z"
    },
    "papermill": {
     "duration": 0.016418,
     "end_time": "2023-07-20T17:09:43.336674",
     "exception": false,
     "start_time": "2023-07-20T17:09:43.320256",
     "status": "completed"
    },
    "tags": []
   },
   "outputs": [],
   "source": [
    "# # for working in colab\n",
    "# from google.colab import drive\n",
    "# drive.mount('/content/drive')"
   ]
  },
  {
   "cell_type": "code",
   "execution_count": 3,
   "id": "15a56236",
   "metadata": {
    "execution": {
     "iopub.execute_input": "2023-07-20T17:09:43.353610Z",
     "iopub.status.busy": "2023-07-20T17:09:43.352939Z",
     "iopub.status.idle": "2023-07-20T17:09:43.371942Z",
     "shell.execute_reply": "2023-07-20T17:09:43.371133Z"
    },
    "papermill": {
     "duration": 0.030595,
     "end_time": "2023-07-20T17:09:43.374640",
     "exception": false,
     "start_time": "2023-07-20T17:09:43.344045",
     "status": "completed"
    },
    "tags": []
   },
   "outputs": [
    {
     "data": {
      "text/plain": [
       "False"
      ]
     },
     "execution_count": 3,
     "metadata": {},
     "output_type": "execute_result"
    }
   ],
   "source": [
    "# # for gpu\n",
    "tf.test.is_gpu_available()"
   ]
  },
  {
   "cell_type": "code",
   "execution_count": 4,
   "id": "22855fed",
   "metadata": {
    "execution": {
     "iopub.execute_input": "2023-07-20T17:09:43.391654Z",
     "iopub.status.busy": "2023-07-20T17:09:43.390993Z",
     "iopub.status.idle": "2023-07-20T17:09:43.395330Z",
     "shell.execute_reply": "2023-07-20T17:09:43.394593Z"
    },
    "papermill": {
     "duration": 0.015543,
     "end_time": "2023-07-20T17:09:43.397571",
     "exception": false,
     "start_time": "2023-07-20T17:09:43.382028",
     "status": "completed"
    },
    "tags": []
   },
   "outputs": [],
   "source": [
    "# for working in kaggle use this paths\n",
    "kag_path_in = \"/kaggle/input/mars-spec-train/\"\n",
    "kag_path_out = \"/kaggle/working/\"\n",
    "\n",
    "# # for working in colab  \n",
    "# kag_path_in = \"/content/drive/MyDrive/\" # google drive\n",
    "# kag_path_out = \"\"\n",
    "\n",
    "# add custom paths here (uncomment)\n",
    "# kag_path_in = \"\"\n",
    "# kag_path_out = \"\""
   ]
  },
  {
   "cell_type": "code",
   "execution_count": 5,
   "id": "c33977b3",
   "metadata": {
    "execution": {
     "iopub.execute_input": "2023-07-20T17:09:43.416693Z",
     "iopub.status.busy": "2023-07-20T17:09:43.416048Z",
     "iopub.status.idle": "2023-07-20T17:09:43.456196Z",
     "shell.execute_reply": "2023-07-20T17:09:43.455285Z"
    },
    "papermill": {
     "duration": 0.051889,
     "end_time": "2023-07-20T17:09:43.458952",
     "exception": false,
     "start_time": "2023-07-20T17:09:43.407063",
     "status": "completed"
    },
    "tags": []
   },
   "outputs": [],
   "source": [
    "# metadata = pd.read_csv('/kaggle/input/mars-spec-train/metadata.csv').fillna(0)\n",
    "# train_labels = pd.read_csv('/kaggle/input/mars-spec-train/train_labels.csv')\n",
    "metadata = pd.read_csv(kag_path_in+'metadata.csv').fillna(0)\n",
    "train_labels = pd.read_csv(kag_path_in+'train_labels.csv')"
   ]
  },
  {
   "cell_type": "markdown",
   "id": "aed54d63",
   "metadata": {
    "papermill": {
     "duration": 0.007261,
     "end_time": "2023-07-20T17:09:43.473848",
     "exception": false,
     "start_time": "2023-07-20T17:09:43.466587",
     "status": "completed"
    },
    "tags": []
   },
   "source": [
    "## 2. Preprocessing and Feature extraction\n",
    "<ul>\n",
    "<li>mass values are grouped into values seperated by 0.50 </li>\n",
    "<li>time values are grouped into values seperated by 0.02 </li>\n",
    "<li>Time * Mass matrix (2700,1400) with Intensity values </li>\n",
    "</ul>"
   ]
  },
  {
   "cell_type": "code",
   "execution_count": 6,
   "id": "91026905",
   "metadata": {
    "execution": {
     "iopub.execute_input": "2023-07-20T17:09:43.491084Z",
     "iopub.status.busy": "2023-07-20T17:09:43.490474Z",
     "iopub.status.idle": "2023-07-20T17:09:43.494783Z",
     "shell.execute_reply": "2023-07-20T17:09:43.494034Z"
    },
    "papermill": {
     "duration": 0.015501,
     "end_time": "2023-07-20T17:09:43.496887",
     "exception": false,
     "start_time": "2023-07-20T17:09:43.481386",
     "status": "completed"
    },
    "tags": []
   },
   "outputs": [],
   "source": [
    "# constants\n",
    "num_mass_values = 1400\n",
    "num_time_values = 2700\n",
    "matrix_shape = (num_time_values, num_mass_values)"
   ]
  },
  {
   "cell_type": "code",
   "execution_count": 7,
   "id": "498892bb",
   "metadata": {
    "execution": {
     "iopub.execute_input": "2023-07-20T17:09:43.514022Z",
     "iopub.status.busy": "2023-07-20T17:09:43.513565Z",
     "iopub.status.idle": "2023-07-20T17:09:43.523209Z",
     "shell.execute_reply": "2023-07-20T17:09:43.522123Z"
    },
    "papermill": {
     "duration": 0.021405,
     "end_time": "2023-07-20T17:09:43.525796",
     "exception": false,
     "start_time": "2023-07-20T17:09:43.504391",
     "status": "completed"
    },
    "tags": []
   },
   "outputs": [],
   "source": [
    "\n",
    "# Function to create the Time X Mass matrix for a single data sample\n",
    "def create_matrix(id):\n",
    "    \n",
    "    sample_id, split, derivate, path, _ = metadata.iloc[id]\n",
    "    data = pd.read_csv(kag_path_in+path)\n",
    "\n",
    "    label = None\n",
    "    if (split == 'train'):\n",
    "        label = train_labels.iloc[id].values[1:]\n",
    "\n",
    "    # discretization of time and mass\n",
    "    data.time = (data.time*50).round()\n",
    "    data.mass = (data.mass*2).round()\n",
    "    data.time = data.time.astype(int)\n",
    "    data.mass = data.mass.astype(int)\n",
    "    \n",
    "    # scaling intensity\n",
    "    data.intensity = MinMaxScaler().fit_transform(data.intensity.values.reshape(-1, 1))\n",
    "    \n",
    "    # filling matrix\n",
    "    matrix = np.zeros(matrix_shape)\n",
    "    matrix[data['time'],data['mass']] = data['intensity']\n",
    "\n",
    "    return matrix , label\n"
   ]
  },
  {
   "cell_type": "markdown",
   "id": "7db1d580",
   "metadata": {
    "papermill": {
     "duration": 0.007722,
     "end_time": "2023-07-20T17:09:43.541249",
     "exception": false,
     "start_time": "2023-07-20T17:09:43.533527",
     "status": "completed"
    },
    "tags": []
   },
   "source": [
    "## 3. Data Generation\n",
    "<ul>\n",
    "<li>Storing data matrix is costly</li>\n",
    "<li>data is generated in batches</li>\n",
    "</ul>\n"
   ]
  },
  {
   "cell_type": "code",
   "execution_count": 8,
   "id": "372a1799",
   "metadata": {
    "execution": {
     "iopub.execute_input": "2023-07-20T17:09:43.561281Z",
     "iopub.status.busy": "2023-07-20T17:09:43.560173Z",
     "iopub.status.idle": "2023-07-20T17:09:43.575141Z",
     "shell.execute_reply": "2023-07-20T17:09:43.573791Z"
    },
    "papermill": {
     "duration": 0.027761,
     "end_time": "2023-07-20T17:09:43.577587",
     "exception": false,
     "start_time": "2023-07-20T17:09:43.549826",
     "status": "completed"
    },
    "tags": []
   },
   "outputs": [],
   "source": [
    "class DataGenerator(Sequence):\n",
    "    def __init__(self, data, batch_size):\n",
    "        self.data = data\n",
    "        self.batch_size = batch_size\n",
    "    def __len__(self):\n",
    "        return len(self.data) // self.batch_size\n",
    "\n",
    "    def __getitem__(self, idx):\n",
    "        low = idx * self.batch_size\n",
    "        high = min(low + self.batch_size, len(self.data))\n",
    "        batch_x = []\n",
    "        batch_y = []\n",
    "\n",
    "        for i, data_sample in enumerate(self.data[low:high]):\n",
    "            processed_sample, processed_label = self.preprocess_data(data_sample)\n",
    "            batch_x.append(processed_sample)\n",
    "            batch_y.append(processed_label)\n",
    "\n",
    "\n",
    "        while len(batch_x) < self.batch_size:\n",
    "            random_no = np.random.randint(0,len(self.data))\n",
    "            processed_sample, processed_label = self.preprocess_data(data_sample)\n",
    "            batch_x.append(processed_sample)\n",
    "            batch_y.append(processed_label)\n",
    "\n",
    "        return np.array(batch_x), np.array(batch_y)\n",
    "\n",
    "    def preprocess_data(self, data_sample):\n",
    "        matrix, label = create_matrix(data_sample)\n",
    "        if type(label) == np.ndarray:\n",
    "            label = np.array(label).astype(int)\n",
    "        return matrix , label\n"
   ]
  },
  {
   "cell_type": "markdown",
   "id": "25376808",
   "metadata": {
    "papermill": {
     "duration": 0.007074,
     "end_time": "2023-07-20T17:09:43.592430",
     "exception": false,
     "start_time": "2023-07-20T17:09:43.585356",
     "status": "completed"
    },
    "tags": []
   },
   "source": [
    "## 4. Model\n",
    "<ul>\n",
    "<li>convolutional layers </li>\n",
    "<li>pooling layers (max pooling) </li>\n",
    "<li>fully connected layers</li>\n",
    "<li>sigmoid layer</li>\n",
    "<li>output positive label probability</li>\n",
    "</ul>"
   ]
  },
  {
   "cell_type": "code",
   "execution_count": 9,
   "id": "ac61bbd0",
   "metadata": {
    "execution": {
     "iopub.execute_input": "2023-07-20T17:09:43.609631Z",
     "iopub.status.busy": "2023-07-20T17:09:43.609236Z",
     "iopub.status.idle": "2023-07-20T17:09:43.615004Z",
     "shell.execute_reply": "2023-07-20T17:09:43.613699Z"
    },
    "papermill": {
     "duration": 0.017275,
     "end_time": "2023-07-20T17:09:43.617443",
     "exception": false,
     "start_time": "2023-07-20T17:09:43.600168",
     "status": "completed"
    },
    "tags": []
   },
   "outputs": [],
   "source": [
    "label_names = [col for col in train_labels.columns[1:]]"
   ]
  },
  {
   "cell_type": "code",
   "execution_count": 10,
   "id": "eb37cfc9",
   "metadata": {
    "execution": {
     "iopub.execute_input": "2023-07-20T17:09:43.634738Z",
     "iopub.status.busy": "2023-07-20T17:09:43.634171Z",
     "iopub.status.idle": "2023-07-20T17:09:43.640361Z",
     "shell.execute_reply": "2023-07-20T17:09:43.638869Z"
    },
    "papermill": {
     "duration": 0.018283,
     "end_time": "2023-07-20T17:09:43.643122",
     "exception": false,
     "start_time": "2023-07-20T17:09:43.624839",
     "status": "completed"
    },
    "tags": []
   },
   "outputs": [],
   "source": [
    "# contants\n",
    "batch_size = 16\n",
    "num_epochs = 20\n",
    "model = None\n",
    "history = None"
   ]
  },
  {
   "cell_type": "code",
   "execution_count": 11,
   "id": "648f790d",
   "metadata": {
    "execution": {
     "iopub.execute_input": "2023-07-20T17:09:43.661287Z",
     "iopub.status.busy": "2023-07-20T17:09:43.660842Z",
     "iopub.status.idle": "2023-07-20T17:09:43.667240Z",
     "shell.execute_reply": "2023-07-20T17:09:43.665563Z"
    },
    "papermill": {
     "duration": 0.018941,
     "end_time": "2023-07-20T17:09:43.670228",
     "exception": false,
     "start_time": "2023-07-20T17:09:43.651287",
     "status": "completed"
    },
    "tags": []
   },
   "outputs": [],
   "source": [
    "training_data = range(809)\n",
    "train_data_generator = DataGenerator(training_data, batch_size)"
   ]
  },
  {
   "cell_type": "code",
   "execution_count": 12,
   "id": "bb078d1b",
   "metadata": {
    "execution": {
     "iopub.execute_input": "2023-07-20T17:09:43.688978Z",
     "iopub.status.busy": "2023-07-20T17:09:43.687988Z",
     "iopub.status.idle": "2023-07-20T17:09:44.668477Z",
     "shell.execute_reply": "2023-07-20T17:09:44.667263Z"
    },
    "papermill": {
     "duration": 0.995722,
     "end_time": "2023-07-20T17:09:44.674405",
     "exception": false,
     "start_time": "2023-07-20T17:09:43.678683",
     "status": "completed"
    },
    "tags": []
   },
   "outputs": [
    {
     "name": "stdout",
     "output_type": "stream",
     "text": [
      "Model: \"sequential\"\n",
      "_________________________________________________________________\n",
      " Layer (type)                Output Shape              Param #   \n",
      "=================================================================\n",
      " conv2d (Conv2D)             (None, 27, 1400, 32)      3872      \n",
      "                                                                 \n",
      " max_pooling2d (MaxPooling2D  (None, 3, 700, 32)       0         \n",
      " )                                                               \n",
      "                                                                 \n",
      " flatten (Flatten)           (None, 67200)             0         \n",
      "                                                                 \n",
      " dense (Dense)               (None, 1024)              68813824  \n",
      "                                                                 \n",
      " dense_1 (Dense)             (None, 128)               131200    \n",
      "                                                                 \n",
      " dense_2 (Dense)             (None, 9)                 1161      \n",
      "                                                                 \n",
      "=================================================================\n",
      "Total params: 68,950,057\n",
      "Trainable params: 68,950,057\n",
      "Non-trainable params: 0\n",
      "_________________________________________________________________\n"
     ]
    }
   ],
   "source": [
    "model = Sequential()\n",
    "model.add(Conv2D(32, kernel_size = (120,1), padding= 'same',strides = (100,1),activation='relu', input_shape=(num_time_values, num_mass_values, 1)))\n",
    "model.add(MaxPooling2D(pool_size=(9, 2)))\n",
    "\n",
    "model.add(Flatten())\n",
    "\n",
    "model.add(Dense(1024, activation='relu'))\n",
    "model.add(Dense(128, activation='relu'))\n",
    "model.add(Dense(9, activation='sigmoid'))\n",
    "\n",
    "opt = tf.keras.optimizers.Adam(learning_rate = 0.0001)\n",
    "\n",
    "model.compile(loss=tf.keras.losses.BinaryCrossentropy(), optimizer=opt, metrics=['AUC'])\n",
    "\n",
    "model.summary()"
   ]
  },
  {
   "cell_type": "code",
   "execution_count": 13,
   "id": "bc8d4190",
   "metadata": {
    "execution": {
     "iopub.execute_input": "2023-07-20T17:09:44.696831Z",
     "iopub.status.busy": "2023-07-20T17:09:44.696330Z",
     "iopub.status.idle": "2023-07-20T19:25:35.665736Z",
     "shell.execute_reply": "2023-07-20T19:25:35.659057Z"
    },
    "papermill": {
     "duration": 8150.994761,
     "end_time": "2023-07-20T19:25:35.678544",
     "exception": false,
     "start_time": "2023-07-20T17:09:44.683783",
     "status": "completed"
    },
    "tags": []
   },
   "outputs": [
    {
     "name": "stdout",
     "output_type": "stream",
     "text": [
      "Epoch 1/20\n",
      "50/50 [==============================] - 472s 9s/step - loss: 0.4524 - auc: 0.5914\n",
      "Epoch 2/20\n",
      "50/50 [==============================] - 372s 7s/step - loss: 0.2613 - auc: 0.8231\n",
      "Epoch 3/20\n",
      "50/50 [==============================] - 459s 9s/step - loss: 0.2298 - auc: 0.8742\n",
      "Epoch 4/20\n",
      "50/50 [==============================] - 444s 9s/step - loss: 0.2114 - auc: 0.8996\n",
      "Epoch 5/20\n",
      "50/50 [==============================] - 392s 8s/step - loss: 0.1956 - auc: 0.9184\n",
      "Epoch 6/20\n",
      "50/50 [==============================] - 348s 7s/step - loss: 0.1867 - auc: 0.9260\n",
      "Epoch 7/20\n",
      "50/50 [==============================] - 421s 8s/step - loss: 0.1736 - auc: 0.9409\n",
      "Epoch 8/20\n",
      "50/50 [==============================] - 373s 7s/step - loss: 0.1633 - auc: 0.9493\n",
      "Epoch 9/20\n",
      "50/50 [==============================] - 381s 8s/step - loss: 0.1539 - auc: 0.9553\n",
      "Epoch 10/20\n",
      "50/50 [==============================] - 387s 8s/step - loss: 0.1466 - auc: 0.9611\n",
      "Epoch 11/20\n",
      "50/50 [==============================] - 366s 7s/step - loss: 0.1380 - auc: 0.9657\n",
      "Epoch 12/20\n",
      "50/50 [==============================] - 383s 8s/step - loss: 0.1301 - auc: 0.9695\n",
      "Epoch 13/20\n",
      "50/50 [==============================] - 365s 7s/step - loss: 0.1224 - auc: 0.9738\n",
      "Epoch 14/20\n",
      "50/50 [==============================] - 375s 7s/step - loss: 0.1184 - auc: 0.9738\n",
      "Epoch 15/20\n",
      "50/50 [==============================] - 405s 8s/step - loss: 0.1129 - auc: 0.9773\n",
      "Epoch 16/20\n",
      "50/50 [==============================] - 381s 8s/step - loss: 0.1083 - auc: 0.9791\n",
      "Epoch 17/20\n",
      "50/50 [==============================] - 381s 8s/step - loss: 0.1024 - auc: 0.9816\n",
      "Epoch 18/20\n",
      "50/50 [==============================] - 374s 7s/step - loss: 0.0978 - auc: 0.9828\n",
      "Epoch 19/20\n",
      "50/50 [==============================] - 359s 7s/step - loss: 0.0950 - auc: 0.9841\n",
      "Epoch 20/20\n",
      "50/50 [==============================] - 395s 8s/step - loss: 0.0922 - auc: 0.9850\n"
     ]
    }
   ],
   "source": [
    "history = model.fit(train_data_generator, epochs=num_epochs,verbose = 1)"
   ]
  },
  {
   "cell_type": "code",
   "execution_count": 14,
   "id": "6c998f21",
   "metadata": {
    "execution": {
     "iopub.execute_input": "2023-07-20T19:25:35.896722Z",
     "iopub.status.busy": "2023-07-20T19:25:35.896138Z",
     "iopub.status.idle": "2023-07-20T19:25:37.247455Z",
     "shell.execute_reply": "2023-07-20T19:25:37.246334Z"
    },
    "papermill": {
     "duration": 1.467958,
     "end_time": "2023-07-20T19:25:37.250291",
     "exception": false,
     "start_time": "2023-07-20T19:25:35.782333",
     "status": "completed"
    },
    "tags": []
   },
   "outputs": [],
   "source": [
    "model.save(\"cnn_model.keras\")"
   ]
  },
  {
   "cell_type": "markdown",
   "id": "094aec3b",
   "metadata": {
    "papermill": {
     "duration": 0.100863,
     "end_time": "2023-07-20T19:25:37.453699",
     "exception": false,
     "start_time": "2023-07-20T19:25:37.352836",
     "status": "completed"
    },
    "tags": []
   },
   "source": [
    "## 5. Performance \n",
    "<ul>\n",
    "<li>train loss</li>\n",
    "</ul>"
   ]
  },
  {
   "cell_type": "code",
   "execution_count": 15,
   "id": "7b635a8f",
   "metadata": {
    "execution": {
     "iopub.execute_input": "2023-07-20T19:25:37.662148Z",
     "iopub.status.busy": "2023-07-20T19:25:37.661740Z",
     "iopub.status.idle": "2023-07-20T19:25:38.199296Z",
     "shell.execute_reply": "2023-07-20T19:25:38.198091Z"
    },
    "papermill": {
     "duration": 0.647247,
     "end_time": "2023-07-20T19:25:38.203727",
     "exception": false,
     "start_time": "2023-07-20T19:25:37.556480",
     "status": "completed"
    },
    "tags": []
   },
   "outputs": [
    {
     "data": {
      "image/png": "[encoded data removed]",
      "text/plain": [
       "<Figure size 640x480 with 1 Axes>"
      ]
     },
     "metadata": {},
     "output_type": "display_data"
    }
   ],
   "source": [
    "train_loss = history.history['loss']\n",
    "epochs = range(1, len(train_loss) + 1)\n",
    "\n",
    "plt.plot(epochs, train_loss, 'b', label='Training Loss')\n",
    "plt.grid()\n",
    "plt.title('Training Loss')\n",
    "plt.xlabel('Epochs')\n",
    "plt.ylabel('Loss')\n",
    "plt.grid()\n",
    "plt.legend()\n",
    "plt.show()\n",
    "\n"
   ]
  },
  {
   "cell_type": "code",
   "execution_count": 16,
   "id": "66521eb1",
   "metadata": {
    "execution": {
     "iopub.execute_input": "2023-07-20T19:25:38.412128Z",
     "iopub.status.busy": "2023-07-20T19:25:38.411651Z",
     "iopub.status.idle": "2023-07-20T19:30:25.019772Z",
     "shell.execute_reply": "2023-07-20T19:30:25.018468Z"
    },
    "papermill": {
     "duration": 286.715776,
     "end_time": "2023-07-20T19:30:25.023962",
     "exception": false,
     "start_time": "2023-07-20T19:25:38.308186",
     "status": "completed"
    },
    "tags": []
   },
   "outputs": [],
   "source": [
    "y_pred = model.predict(DataGenerator(range(809),1), verbose = 0)"
   ]
  },
  {
   "cell_type": "markdown",
   "id": "2d6daecd",
   "metadata": {
    "papermill": {
     "duration": 0.102096,
     "end_time": "2023-07-20T19:30:25.231458",
     "exception": false,
     "start_time": "2023-07-20T19:30:25.129362",
     "status": "completed"
    },
    "tags": []
   },
   "source": [
    "### Classification Reports"
   ]
  },
  {
   "cell_type": "code",
   "execution_count": 17,
   "id": "2d7e96dc",
   "metadata": {
    "execution": {
     "iopub.execute_input": "2023-07-20T19:30:25.440715Z",
     "iopub.status.busy": "2023-07-20T19:30:25.439970Z",
     "iopub.status.idle": "2023-07-20T19:30:25.581291Z",
     "shell.execute_reply": "2023-07-20T19:30:25.580091Z"
    },
    "papermill": {
     "duration": 0.250675,
     "end_time": "2023-07-20T19:30:25.584788",
     "exception": false,
     "start_time": "2023-07-20T19:30:25.334113",
     "status": "completed"
    },
    "tags": []
   },
   "outputs": [
    {
     "name": "stdout",
     "output_type": "stream",
     "text": [
      "aromatic\n",
      "              precision    recall  f1-score   support\n",
      "\n",
      "           0       0.96      1.00      0.98       730\n",
      "           1       0.98      0.59      0.74        79\n",
      "\n",
      "    accuracy                           0.96       809\n",
      "   macro avg       0.97      0.80      0.86       809\n",
      "weighted avg       0.96      0.96      0.95       809\n",
      "\n",
      "roc_auc_score : 0.9839257846367262\n",
      "log loss      : 0.10230976585631425\n",
      "-------------------------------------------------------------\n",
      "hydrocarbon\n",
      "              precision    recall  f1-score   support\n",
      "\n",
      "           0       0.93      0.98      0.95       544\n",
      "           1       0.95      0.85      0.90       265\n",
      "\n",
      "    accuracy                           0.94       809\n",
      "   macro avg       0.94      0.91      0.93       809\n",
      "weighted avg       0.94      0.94      0.93       809\n",
      "\n",
      "roc_auc_score : 0.9829495005549389\n",
      "log loss      : 0.17558658307937677\n",
      "-------------------------------------------------------------\n",
      "carboxylic_acid\n",
      "              precision    recall  f1-score   support\n",
      "\n",
      "           0       0.95      0.99      0.97       694\n",
      "           1       0.94      0.69      0.79       115\n",
      "\n",
      "    accuracy                           0.95       809\n",
      "   macro avg       0.95      0.84      0.88       809\n",
      "weighted avg       0.95      0.95      0.95       809\n",
      "\n",
      "roc_auc_score : 0.9882345570730484\n",
      "log loss      : 0.11063572454014965\n",
      "-------------------------------------------------------------\n",
      "nitrogen_bearing_compound\n",
      "              precision    recall  f1-score   support\n",
      "\n",
      "           0       0.98      0.99      0.98       713\n",
      "           1       0.91      0.82      0.86        96\n",
      "\n",
      "    accuracy                           0.97       809\n",
      "   macro avg       0.94      0.91      0.92       809\n",
      "weighted avg       0.97      0.97      0.97       809\n",
      "\n",
      "roc_auc_score : 0.990445301542777\n",
      "log loss      : 0.09049910049893711\n",
      "-------------------------------------------------------------\n",
      "chlorine_bearing_compound\n",
      "              precision    recall  f1-score   support\n",
      "\n",
      "           0       0.99      1.00      0.99       791\n",
      "           1       0.91      0.56      0.69        18\n",
      "\n",
      "    accuracy                           0.99       809\n",
      "   macro avg       0.95      0.78      0.84       809\n",
      "weighted avg       0.99      0.99      0.99       809\n",
      "\n",
      "roc_auc_score : 0.9861637870487427\n",
      "log loss      : 0.03444818261734269\n",
      "-------------------------------------------------------------\n",
      "sulfur_bearing_compound\n",
      "              precision    recall  f1-score   support\n",
      "\n",
      "           0       0.99      1.00      0.99       778\n",
      "           1       0.95      0.68      0.79        31\n",
      "\n",
      "    accuracy                           0.99       809\n",
      "   macro avg       0.97      0.84      0.89       809\n",
      "weighted avg       0.99      0.99      0.99       809\n",
      "\n",
      "roc_auc_score : 0.992868397047848\n",
      "log loss      : 0.0445456503659256\n",
      "-------------------------------------------------------------\n",
      "alcohol\n",
      "              precision    recall  f1-score   support\n",
      "\n",
      "           0       0.98      1.00      0.99       783\n",
      "           1       0.93      0.50      0.65        26\n",
      "\n",
      "    accuracy                           0.98       809\n",
      "   macro avg       0.96      0.75      0.82       809\n",
      "weighted avg       0.98      0.98      0.98       809\n",
      "\n",
      "roc_auc_score : 0.9848216917182434\n",
      "log loss      : 0.05697135675944729\n",
      "-------------------------------------------------------------\n",
      "other_oxygen_bearing_compound\n",
      "              precision    recall  f1-score   support\n",
      "\n",
      "           0       0.99      1.00      0.99       788\n",
      "           1       1.00      0.57      0.73        21\n",
      "\n",
      "    accuracy                           0.99       809\n",
      "   macro avg       0.99      0.79      0.86       809\n",
      "weighted avg       0.99      0.99      0.99       809\n",
      "\n",
      "roc_auc_score : 0.985859318346628\n",
      "log loss      : 0.044010359675300786\n",
      "-------------------------------------------------------------\n",
      "mineral\n",
      "              precision    recall  f1-score   support\n",
      "\n",
      "           0       0.96      0.99      0.98       692\n",
      "           1       0.94      0.75      0.83       117\n",
      "\n",
      "    accuracy                           0.96       809\n",
      "   macro avg       0.95      0.87      0.90       809\n",
      "weighted avg       0.96      0.96      0.95       809\n",
      "\n",
      "roc_auc_score : 0.9826219060323107\n",
      "log loss      : 0.12174217776704943\n",
      "-------------------------------------------------------------\n"
     ]
    }
   ],
   "source": [
    "for i in range(9):\n",
    "    y_true_column = train_labels.iloc[:, i+1].values\n",
    "    y_pred_column = y_pred[:, i].round()\n",
    "    \n",
    "    report = classification_report(y_true_column, y_pred_column)\n",
    "    print(f\"{label_names[i]}\")\n",
    "    print(report)\n",
    "    print(f\"roc_auc_score : {roc_auc_score(y_true_column, y_pred[:, i])}\")\n",
    "    print(f\"log loss      : {log_loss(y_true_column, y_pred[:, i])}\")\n",
    "    \n",
    "    print(\"-------------------------------------------------------------\")\n"
   ]
  }
 ],
 "metadata": {
  "kernelspec": {
   "display_name": "Python 3",
   "language": "python",
   "name": "python3"
  },
  "language_info": {
   "codemirror_mode": {
    "name": "ipython",
    "version": 3
   },
   "file_extension": ".py",
   "mimetype": "text/x-python",
   "name": "python",
   "nbconvert_exporter": "python",
   "pygments_lexer": "ipython3",
   "version": "3.10.10"
  },
  "papermill": {
   "default_parameters": {},
   "duration": 8471.247298,
   "end_time": "2023-07-20T19:30:29.028548",
   "environment_variables": {},
   "exception": null,
   "input_path": "__notebook__.ipynb",
   "output_path": "__notebook__.ipynb",
   "parameters": {},
   "start_time": "2023-07-20T17:09:17.781250",
   "version": "2.4.0"
  }
 },
 "nbformat": 4,
 "nbformat_minor": 5
}
