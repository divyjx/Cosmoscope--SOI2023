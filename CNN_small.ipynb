{
 "cells": [
  {
   "cell_type": "markdown",
   "id": "a5b7afa3",
   "metadata": {
    "papermill": {
     "duration": 0.006779,
     "end_time": "2023-07-13T04:42:44.558595",
     "exception": false,
     "start_time": "2023-07-13T04:42:44.551816",
     "status": "completed"
    },
    "tags": []
   },
   "source": [
    "## 1. Data Description \n",
    "<ul> \n",
    "<li>there are 809 training examples</li>\n",
    "<li>each of them is a dataframe with time, mass , and intensity values</li>\n",
    "<li>dataframe lenghts are variable</li>\n",
    "</ul>\n"
   ]
  },
  {
   "cell_type": "code",
   "execution_count": 1,
   "id": "901fd5be",
   "metadata": {
    "execution": {
     "iopub.execute_input": "2023-07-13T04:42:44.573209Z",
     "iopub.status.busy": "2023-07-13T04:42:44.572483Z",
     "iopub.status.idle": "2023-07-13T04:42:52.751844Z",
     "shell.execute_reply": "2023-07-13T04:42:52.750806Z"
    },
    "papermill": {
     "duration": 8.189802,
     "end_time": "2023-07-13T04:42:52.754678",
     "exception": false,
     "start_time": "2023-07-13T04:42:44.564876",
     "status": "completed"
    },
    "tags": []
   },
   "outputs": [],
   "source": [
    "import warnings \n",
    "warnings.filterwarnings('ignore')\n",
    "\n",
    "# for processing numbers and files csv\n",
    "import pandas as pd\n",
    "import numpy as np\n",
    "\n",
    "# for visualization\n",
    "import matplotlib.pyplot as plt\n",
    "%matplotlib inline\n",
    "\n",
    "# preprocessing \n",
    "from sklearn.preprocessing import MinMaxScaler\n",
    "from sklearn.model_selection import train_test_split\n",
    "from sklearn.metrics import classification_report, roc_auc_score, log_loss\n",
    "\n",
    "# model related\n",
    "from tensorflow.keras.callbacks import EarlyStopping\n",
    "from tensorflow.keras.utils import Sequence\n",
    "from tensorflow.keras.models import Sequential\n",
    "from tensorflow.keras.layers import Conv2D, MaxPooling2D, Flatten, Dense\n",
    "\n",
    "import tensorflow as tf\n"
   ]
  },
  {
   "cell_type": "code",
   "execution_count": 2,
   "id": "e3f4a212",
   "metadata": {
    "execution": {
     "iopub.execute_input": "2023-07-13T04:42:52.769338Z",
     "iopub.status.busy": "2023-07-13T04:42:52.768072Z",
     "iopub.status.idle": "2023-07-13T04:42:52.773079Z",
     "shell.execute_reply": "2023-07-13T04:42:52.772152Z"
    },
    "papermill": {
     "duration": 0.014498,
     "end_time": "2023-07-13T04:42:52.775531",
     "exception": false,
     "start_time": "2023-07-13T04:42:52.761033",
     "status": "completed"
    },
    "tags": []
   },
   "outputs": [],
   "source": [
    "#for gpu\n",
    "\n",
    "# gpus = tf.config.experimental.list_physical_devices('GPU')\n",
    "# for gpu in gpus:\n",
    "#     print(\"Name:\", gpu.name, \"  Type:\", gpu.device_type)\n",
    "\n",
    "# from tensorflow.python.client import device_lib\n",
    "\n",
    "# print(device_lib.list_local_devices())\n",
    "\n",
    "# tf.test.is_gpu_available()"
   ]
  },
  {
   "cell_type": "code",
   "execution_count": 3,
   "id": "55c3b3ed",
   "metadata": {
    "execution": {
     "iopub.execute_input": "2023-07-13T04:42:52.789511Z",
     "iopub.status.busy": "2023-07-13T04:42:52.788717Z",
     "iopub.status.idle": "2023-07-13T04:42:52.793254Z",
     "shell.execute_reply": "2023-07-13T04:42:52.792490Z"
    },
    "papermill": {
     "duration": 0.013521,
     "end_time": "2023-07-13T04:42:52.795260",
     "exception": false,
     "start_time": "2023-07-13T04:42:52.781739",
     "status": "completed"
    },
    "tags": []
   },
   "outputs": [],
   "source": [
    "# for working in kaggle use this paths\n",
    "kag_path_in = \"/kaggle/input/mars-spec-train/\"\n",
    "kag_path_out = \"/kaggle/working/\"\n",
    "\n",
    "# add custom paths here (uncomment)\n",
    "# kag_path_in = \"\"\n",
    "# kag_path_out = \"\""
   ]
  },
  {
   "cell_type": "code",
   "execution_count": 4,
   "id": "eb60868b",
   "metadata": {
    "execution": {
     "iopub.execute_input": "2023-07-13T04:42:52.808582Z",
     "iopub.status.busy": "2023-07-13T04:42:52.807759Z",
     "iopub.status.idle": "2023-07-13T04:42:52.964607Z",
     "shell.execute_reply": "2023-07-13T04:42:52.963679Z"
    },
    "papermill": {
     "duration": 0.166351,
     "end_time": "2023-07-13T04:42:52.967416",
     "exception": false,
     "start_time": "2023-07-13T04:42:52.801065",
     "status": "completed"
    },
    "tags": []
   },
   "outputs": [],
   "source": [
    "# metadata = pd.read_csv('/kaggle/input/mars-spec-train/metadata.csv').fillna(0)\n",
    "# train_labels = pd.read_csv('/kaggle/input/mars-spec-train/train_labels.csv')\n",
    "metadata = pd.read_csv(kag_path_in+'metadata.csv').fillna(0)\n",
    "train_labels = pd.read_csv(kag_path_in+'train_labels.csv')"
   ]
  },
  {
   "cell_type": "markdown",
   "id": "2122065a",
   "metadata": {
    "papermill": {
     "duration": 0.005995,
     "end_time": "2023-07-13T04:42:52.979539",
     "exception": false,
     "start_time": "2023-07-13T04:42:52.973544",
     "status": "completed"
    },
    "tags": []
   },
   "source": [
    "## 2. Preprocessing and Feature extraction\n",
    "<ul>\n",
    "<li>mass values are grouped into values seperated by 0.50 </li>\n",
    "<li>time values are grouped into values seperated by 0.02 </li>\n",
    "<li>Time * Mass matrix (2700,1400) with Intensity values </li>\n",
    "</ul>"
   ]
  },
  {
   "cell_type": "code",
   "execution_count": 5,
   "id": "c6d4dc59",
   "metadata": {
    "execution": {
     "iopub.execute_input": "2023-07-13T04:42:52.993157Z",
     "iopub.status.busy": "2023-07-13T04:42:52.992267Z",
     "iopub.status.idle": "2023-07-13T04:42:52.997295Z",
     "shell.execute_reply": "2023-07-13T04:42:52.996492Z"
    },
    "papermill": {
     "duration": 0.01371,
     "end_time": "2023-07-13T04:42:52.999209",
     "exception": false,
     "start_time": "2023-07-13T04:42:52.985499",
     "status": "completed"
    },
    "tags": []
   },
   "outputs": [],
   "source": [
    "# constants\n",
    "num_mass_values = 1400\n",
    "num_time_values = 2700\n",
    "matrix_shape = (num_time_values, num_mass_values)"
   ]
  },
  {
   "cell_type": "code",
   "execution_count": 6,
   "id": "f08da652",
   "metadata": {
    "execution": {
     "iopub.execute_input": "2023-07-13T04:42:53.012445Z",
     "iopub.status.busy": "2023-07-13T04:42:53.011623Z",
     "iopub.status.idle": "2023-07-13T04:42:53.019526Z",
     "shell.execute_reply": "2023-07-13T04:42:53.018739Z"
    },
    "papermill": {
     "duration": 0.016523,
     "end_time": "2023-07-13T04:42:53.021518",
     "exception": false,
     "start_time": "2023-07-13T04:42:53.004995",
     "status": "completed"
    },
    "tags": []
   },
   "outputs": [],
   "source": [
    "\n",
    "# Function to create the Time X Mass matrix for a single data sample\n",
    "def create_matrix(id):\n",
    "    \n",
    "    sample_id, split, derivate, path, _ = metadata.iloc[id]\n",
    "    data = pd.read_csv(kag_path_in+path)\n",
    "\n",
    "    label = None\n",
    "    if (split == 'train'):\n",
    "        label = train_labels.iloc[id].values[1:]\n",
    "\n",
    "    # discretization of time and mass\n",
    "    data.time = (data.time*50).round()\n",
    "    data.mass = (data.mass*2).round()\n",
    "    data.time = data.time.astype(int)\n",
    "    data.mass = data.mass.astype(int)\n",
    "    \n",
    "    # scaling intensity\n",
    "    data.intensity = MinMaxScaler().fit_transform(data.intensity.values.reshape(-1, 1))\n",
    "    \n",
    "    # filling matrix\n",
    "    matrix = np.zeros(matrix_shape)\n",
    "    matrix[data['time'],data['mass']] = data['intensity']\n",
    "\n",
    "    return matrix , label\n"
   ]
  },
  {
   "cell_type": "markdown",
   "id": "f9e3de8a",
   "metadata": {
    "papermill": {
     "duration": 0.005631,
     "end_time": "2023-07-13T04:42:53.032980",
     "exception": false,
     "start_time": "2023-07-13T04:42:53.027349",
     "status": "completed"
    },
    "tags": []
   },
   "source": [
    "## 3. Data Generation\n",
    "<ul>\n",
    "<li>Storing data matrix is costly</li>\n",
    "<li>data is generated in batches</li>\n",
    "</ul>\n"
   ]
  },
  {
   "cell_type": "code",
   "execution_count": 7,
   "id": "71c89e9f",
   "metadata": {
    "execution": {
     "iopub.execute_input": "2023-07-13T04:42:53.046968Z",
     "iopub.status.busy": "2023-07-13T04:42:53.046188Z",
     "iopub.status.idle": "2023-07-13T04:42:53.051650Z",
     "shell.execute_reply": "2023-07-13T04:42:53.050848Z"
    },
    "papermill": {
     "duration": 0.014388,
     "end_time": "2023-07-13T04:42:53.053592",
     "exception": false,
     "start_time": "2023-07-13T04:42:53.039204",
     "status": "completed"
    },
    "tags": []
   },
   "outputs": [],
   "source": [
    "training_data = range(809)  \n",
    "train_data, val_data = train_test_split(training_data, test_size=0.2, random_state=42)\n"
   ]
  },
  {
   "cell_type": "code",
   "execution_count": 8,
   "id": "c43e73b4",
   "metadata": {
    "execution": {
     "iopub.execute_input": "2023-07-13T04:42:53.067373Z",
     "iopub.status.busy": "2023-07-13T04:42:53.066515Z",
     "iopub.status.idle": "2023-07-13T04:42:53.076523Z",
     "shell.execute_reply": "2023-07-13T04:42:53.075718Z"
    },
    "papermill": {
     "duration": 0.018803,
     "end_time": "2023-07-13T04:42:53.078491",
     "exception": false,
     "start_time": "2023-07-13T04:42:53.059688",
     "status": "completed"
    },
    "tags": []
   },
   "outputs": [],
   "source": [
    "class DataGenerator(Sequence):\n",
    "    def __init__(self, data, batch_size):\n",
    "        self.data = data\n",
    "        self.batch_size = batch_size\n",
    "    def __len__(self):\n",
    "        return len(self.data) // self.batch_size\n",
    "\n",
    "    def __getitem__(self, idx):        \n",
    "        \n",
    "        low = idx * self.batch_size\n",
    "        high = min(low + self.batch_size, len(self.data))\n",
    "        batch_x = []\n",
    "        batch_y = []\n",
    "\n",
    "        for i,data_sample in enumerate(self.data[low:high]):\n",
    "            processed_sample, processed_label = self.preprocess_data(data_sample)\n",
    "            batch_x.append(processed_sample)\n",
    "            batch_y.append(processed_label)\n",
    "        return np.array(batch_x), np.array(batch_y)\n",
    "\n",
    "    def preprocess_data(self, data_sample):\n",
    "        matrix, label = create_matrix(data_sample)\n",
    "        if type(label) == np.ndarray:\n",
    "            label = np.array(label).astype(int)\n",
    "        return matrix , label\n"
   ]
  },
  {
   "cell_type": "code",
   "execution_count": 9,
   "id": "e2d47954",
   "metadata": {
    "execution": {
     "iopub.execute_input": "2023-07-13T04:42:53.091877Z",
     "iopub.status.busy": "2023-07-13T04:42:53.091085Z",
     "iopub.status.idle": "2023-07-13T04:42:54.319344Z",
     "shell.execute_reply": "2023-07-13T04:42:54.318471Z"
    },
    "papermill": {
     "duration": 1.237173,
     "end_time": "2023-07-13T04:42:54.321577",
     "exception": false,
     "start_time": "2023-07-13T04:42:53.084404",
     "status": "completed"
    },
    "tags": []
   },
   "outputs": [
    {
     "data": {
      "text/plain": [
       "(array([[[0., 0., 0., ..., 0., 0., 0.],\n",
       "         [0., 0., 0., ..., 0., 0., 0.],\n",
       "         [0., 0., 0., ..., 0., 0., 0.],\n",
       "         ...,\n",
       "         [0., 0., 0., ..., 0., 0., 0.],\n",
       "         [0., 0., 0., ..., 0., 0., 0.],\n",
       "         [0., 0., 0., ..., 0., 0., 0.]],\n",
       " \n",
       "        [[0., 0., 0., ..., 0., 0., 0.],\n",
       "         [0., 0., 0., ..., 0., 0., 0.],\n",
       "         [0., 0., 0., ..., 0., 0., 0.],\n",
       "         ...,\n",
       "         [0., 0., 0., ..., 0., 0., 0.],\n",
       "         [0., 0., 0., ..., 0., 0., 0.],\n",
       "         [0., 0., 0., ..., 0., 0., 0.]]]),\n",
       " array([[0, 0, 0, 0, 0, 0, 0, 0, 0],\n",
       "        [1, 0, 1, 1, 0, 1, 1, 0, 0]]))"
      ]
     },
     "execution_count": 9,
     "metadata": {},
     "output_type": "execute_result"
    }
   ],
   "source": [
    "a = DataGenerator([2,1,32,13,132,122,90,91,7,9],4)\n",
    "a[2]"
   ]
  },
  {
   "cell_type": "markdown",
   "id": "3b5920c4",
   "metadata": {
    "papermill": {
     "duration": 0.00588,
     "end_time": "2023-07-13T04:42:54.334186",
     "exception": false,
     "start_time": "2023-07-13T04:42:54.328306",
     "status": "completed"
    },
    "tags": []
   },
   "source": [
    "## 4. Model\n",
    "<ul>\n",
    "<li>convolutional layers </li>\n",
    "<li>pooling layers (max pooling) </li>\n",
    "<li>fully connected layers</li>\n",
    "<li>sigmoid layer</li>\n",
    "<li>output positive label probability</li>\n",
    "</ul>"
   ]
  },
  {
   "cell_type": "code",
   "execution_count": 10,
   "id": "28486be9",
   "metadata": {
    "execution": {
     "iopub.execute_input": "2023-07-13T04:42:54.348701Z",
     "iopub.status.busy": "2023-07-13T04:42:54.347779Z",
     "iopub.status.idle": "2023-07-13T04:42:54.352730Z",
     "shell.execute_reply": "2023-07-13T04:42:54.351869Z"
    },
    "papermill": {
     "duration": 0.014302,
     "end_time": "2023-07-13T04:42:54.354876",
     "exception": false,
     "start_time": "2023-07-13T04:42:54.340574",
     "status": "completed"
    },
    "tags": []
   },
   "outputs": [],
   "source": [
    "label_names = [col for col in train_labels.columns[1:]]"
   ]
  },
  {
   "cell_type": "code",
   "execution_count": 11,
   "id": "2dfe675f",
   "metadata": {
    "execution": {
     "iopub.execute_input": "2023-07-13T04:42:54.368623Z",
     "iopub.status.busy": "2023-07-13T04:42:54.368298Z",
     "iopub.status.idle": "2023-07-13T04:42:54.373432Z",
     "shell.execute_reply": "2023-07-13T04:42:54.372497Z"
    },
    "papermill": {
     "duration": 0.014732,
     "end_time": "2023-07-13T04:42:54.375712",
     "exception": false,
     "start_time": "2023-07-13T04:42:54.360980",
     "status": "completed"
    },
    "tags": []
   },
   "outputs": [],
   "source": [
    "# contants\n",
    "batch_size = 8\n",
    "num_epochs = 75\n",
    "model = None\n",
    "history = None"
   ]
  },
  {
   "cell_type": "code",
   "execution_count": 12,
   "id": "6703bd35",
   "metadata": {
    "execution": {
     "iopub.execute_input": "2023-07-13T04:42:54.389114Z",
     "iopub.status.busy": "2023-07-13T04:42:54.388865Z",
     "iopub.status.idle": "2023-07-13T04:42:57.141683Z",
     "shell.execute_reply": "2023-07-13T04:42:57.140832Z"
    },
    "papermill": {
     "duration": 2.772088,
     "end_time": "2023-07-13T04:42:57.154008",
     "exception": false,
     "start_time": "2023-07-13T04:42:54.381920",
     "status": "completed"
    },
    "tags": []
   },
   "outputs": [
    {
     "name": "stdout",
     "output_type": "stream",
     "text": [
      "Model: \"sequential\"\n",
      "_________________________________________________________________\n",
      " Layer (type)                Output Shape              Param #   \n",
      "=================================================================\n",
      " conv2d (Conv2D)             (None, 2700, 1400, 9)     234       \n",
      "                                                                 \n",
      " max_pooling2d (MaxPooling2D  (None, 3, 700, 9)        0         \n",
      " )                                                               \n",
      "                                                                 \n",
      " flatten (Flatten)           (None, 18900)             0         \n",
      "                                                                 \n",
      " dense (Dense)               (None, 32)                604832    \n",
      "                                                                 \n",
      " dense_1 (Dense)             (None, 9)                 297       \n",
      "                                                                 \n",
      "=================================================================\n",
      "Total params: 605,363\n",
      "Trainable params: 605,363\n",
      "Non-trainable params: 0\n",
      "_________________________________________________________________\n"
     ]
    }
   ],
   "source": [
    "model = Sequential()\n",
    "model.add(Conv2D(9, kernel_size=(5, 5), padding= 'same',activation='relu', input_shape=(num_time_values, num_mass_values, 1)))\n",
    "model.add(MaxPooling2D(pool_size=(900, 2)))\n",
    "\n",
    "model.add(Flatten())\n",
    "\n",
    "model.add(Dense(32, activation='relu'))\n",
    "\n",
    "model.add(Dense(9, activation='sigmoid'))\n",
    "opt = tf.keras.optimizers.Adam(learning_rate = 0.0001) # slow\n",
    "model.compile(loss=tf.keras.losses.BinaryCrossentropy(from_logits=True), optimizer=opt, metrics=['AUC']) # from logits = true\n",
    " \n",
    "train_data_generator = DataGenerator(train_data, batch_size)\n",
    "val_data_generator = DataGenerator(val_data, batch_size)\n",
    "\n",
    "model.summary()"
   ]
  },
  {
   "cell_type": "code",
   "execution_count": 13,
   "id": "2575bd3e",
   "metadata": {
    "execution": {
     "iopub.execute_input": "2023-07-13T04:42:57.171695Z",
     "iopub.status.busy": "2023-07-13T04:42:57.171353Z",
     "iopub.status.idle": "2023-07-13T11:19:44.012972Z",
     "shell.execute_reply": "2023-07-13T11:19:44.010815Z"
    },
    "papermill": {
     "duration": 23806.857426,
     "end_time": "2023-07-13T11:19:44.019401",
     "exception": false,
     "start_time": "2023-07-13T04:42:57.161975",
     "status": "completed"
    },
    "tags": []
   },
   "outputs": [
    {
     "name": "stdout",
     "output_type": "stream",
     "text": [
      "Epoch 1/75\n",
      "80/80 [==============================] - 426s 5s/step - loss: 0.5403 - auc: 0.5474 - val_loss: 0.3326 - val_auc: 0.6165\n",
      "Epoch 2/75\n",
      "80/80 [==============================] - 297s 4s/step - loss: 0.3240 - auc: 0.6388 - val_loss: 0.2818 - val_auc: 0.7213\n",
      "Epoch 3/75\n",
      "80/80 [==============================] - 296s 4s/step - loss: 0.2941 - auc: 0.7743 - val_loss: 0.2628 - val_auc: 0.8162\n",
      "Epoch 4/75\n",
      "80/80 [==============================] - 301s 4s/step - loss: 0.2756 - auc: 0.8162 - val_loss: 0.2510 - val_auc: 0.8251\n",
      "Epoch 5/75\n",
      "80/80 [==============================] - 284s 4s/step - loss: 0.2605 - auc: 0.8341 - val_loss: 0.2377 - val_auc: 0.8415\n",
      "Epoch 6/75\n",
      "80/80 [==============================] - 295s 4s/step - loss: 0.2464 - auc: 0.8534 - val_loss: 0.2274 - val_auc: 0.8572\n",
      "Epoch 7/75\n",
      "80/80 [==============================] - 289s 4s/step - loss: 0.2362 - auc: 0.8655 - val_loss: 0.2201 - val_auc: 0.8682\n",
      "Epoch 8/75\n",
      "80/80 [==============================] - 301s 4s/step - loss: 0.2279 - auc: 0.8736 - val_loss: 0.2133 - val_auc: 0.8761\n",
      "Epoch 9/75\n",
      "80/80 [==============================] - 295s 4s/step - loss: 0.2209 - auc: 0.8827 - val_loss: 0.2086 - val_auc: 0.8850\n",
      "Epoch 10/75\n",
      "80/80 [==============================] - 302s 4s/step - loss: 0.2144 - auc: 0.8920 - val_loss: 0.2052 - val_auc: 0.8888\n",
      "Epoch 11/75\n",
      "80/80 [==============================] - 292s 4s/step - loss: 0.2094 - auc: 0.8977 - val_loss: 0.2007 - val_auc: 0.8946\n",
      "Epoch 12/75\n",
      "80/80 [==============================] - 304s 4s/step - loss: 0.2046 - auc: 0.9031 - val_loss: 0.2019 - val_auc: 0.8975\n",
      "Epoch 13/75\n",
      "80/80 [==============================] - 278s 3s/step - loss: 0.2014 - auc: 0.9071 - val_loss: 0.1958 - val_auc: 0.9023\n",
      "Epoch 14/75\n",
      "80/80 [==============================] - 286s 4s/step - loss: 0.1973 - auc: 0.9126 - val_loss: 0.1945 - val_auc: 0.9046\n",
      "Epoch 15/75\n",
      "80/80 [==============================] - 275s 3s/step - loss: 0.1942 - auc: 0.9165 - val_loss: 0.1918 - val_auc: 0.9096\n",
      "Epoch 16/75\n",
      "80/80 [==============================] - 289s 4s/step - loss: 0.1912 - auc: 0.9202 - val_loss: 0.1908 - val_auc: 0.9081\n",
      "Epoch 17/75\n",
      "80/80 [==============================] - 313s 4s/step - loss: 0.1881 - auc: 0.9227 - val_loss: 0.1907 - val_auc: 0.9116\n",
      "Epoch 18/75\n",
      "80/80 [==============================] - 291s 4s/step - loss: 0.1851 - auc: 0.9275 - val_loss: 0.1870 - val_auc: 0.9145\n",
      "Epoch 19/75\n",
      "80/80 [==============================] - 287s 4s/step - loss: 0.1827 - auc: 0.9289 - val_loss: 0.1865 - val_auc: 0.9156\n",
      "Epoch 20/75\n",
      "80/80 [==============================] - 299s 4s/step - loss: 0.1810 - auc: 0.9305 - val_loss: 0.1847 - val_auc: 0.9160\n",
      "Epoch 21/75\n",
      "80/80 [==============================] - 303s 4s/step - loss: 0.1780 - auc: 0.9348 - val_loss: 0.1849 - val_auc: 0.9164\n",
      "Epoch 22/75\n",
      "80/80 [==============================] - 295s 4s/step - loss: 0.1757 - auc: 0.9362 - val_loss: 0.1825 - val_auc: 0.9189\n",
      "Epoch 23/75\n",
      "80/80 [==============================] - 285s 4s/step - loss: 0.1736 - auc: 0.9389 - val_loss: 0.1833 - val_auc: 0.9187\n",
      "Epoch 24/75\n",
      "80/80 [==============================] - 326s 4s/step - loss: 0.1719 - auc: 0.9406 - val_loss: 0.1823 - val_auc: 0.9205\n",
      "Epoch 25/75\n",
      "80/80 [==============================] - 294s 4s/step - loss: 0.1694 - auc: 0.9430 - val_loss: 0.1808 - val_auc: 0.9212\n",
      "Epoch 26/75\n",
      "80/80 [==============================] - 296s 4s/step - loss: 0.1676 - auc: 0.9444 - val_loss: 0.1793 - val_auc: 0.9217\n",
      "Epoch 27/75\n",
      "80/80 [==============================] - 309s 4s/step - loss: 0.1652 - auc: 0.9464 - val_loss: 0.1782 - val_auc: 0.9222\n",
      "Epoch 28/75\n",
      "80/80 [==============================] - 312s 4s/step - loss: 0.1637 - auc: 0.9472 - val_loss: 0.1782 - val_auc: 0.9241\n",
      "Epoch 29/75\n",
      "80/80 [==============================] - 326s 4s/step - loss: 0.1627 - auc: 0.9471 - val_loss: 0.1789 - val_auc: 0.9240\n",
      "Epoch 30/75\n",
      "80/80 [==============================] - 295s 4s/step - loss: 0.1594 - auc: 0.9520 - val_loss: 0.1766 - val_auc: 0.9241\n",
      "Epoch 31/75\n",
      "80/80 [==============================] - 295s 4s/step - loss: 0.1582 - auc: 0.9516 - val_loss: 0.1766 - val_auc: 0.9250\n",
      "Epoch 32/75\n",
      "80/80 [==============================] - 292s 4s/step - loss: 0.1568 - auc: 0.9526 - val_loss: 0.1767 - val_auc: 0.9258\n",
      "Epoch 33/75\n",
      "80/80 [==============================] - 294s 4s/step - loss: 0.1551 - auc: 0.9537 - val_loss: 0.1753 - val_auc: 0.9270\n",
      "Epoch 34/75\n",
      "80/80 [==============================] - 280s 4s/step - loss: 0.1545 - auc: 0.9544 - val_loss: 0.1756 - val_auc: 0.9258\n",
      "Epoch 35/75\n",
      "80/80 [==============================] - 291s 4s/step - loss: 0.1518 - auc: 0.9560 - val_loss: 0.1742 - val_auc: 0.9265\n",
      "Epoch 36/75\n",
      "80/80 [==============================] - 292s 4s/step - loss: 0.1508 - auc: 0.9571 - val_loss: 0.1742 - val_auc: 0.9275\n",
      "Epoch 37/75\n",
      "80/80 [==============================] - 292s 4s/step - loss: 0.1488 - auc: 0.9582 - val_loss: 0.1731 - val_auc: 0.9276\n",
      "Epoch 38/75\n",
      "80/80 [==============================] - 289s 4s/step - loss: 0.1481 - auc: 0.9585 - val_loss: 0.1721 - val_auc: 0.9286\n",
      "Epoch 39/75\n",
      "80/80 [==============================] - 303s 4s/step - loss: 0.1471 - auc: 0.9588 - val_loss: 0.1719 - val_auc: 0.9292\n",
      "Epoch 40/75\n",
      "80/80 [==============================] - 290s 4s/step - loss: 0.1447 - auc: 0.9604 - val_loss: 0.1716 - val_auc: 0.9292\n",
      "Epoch 41/75\n",
      "80/80 [==============================] - 283s 4s/step - loss: 0.1432 - auc: 0.9621 - val_loss: 0.1717 - val_auc: 0.9294\n",
      "Epoch 42/75\n",
      "80/80 [==============================] - 346s 4s/step - loss: 0.1419 - auc: 0.9629 - val_loss: 0.1708 - val_auc: 0.9305\n",
      "Epoch 43/75\n",
      "80/80 [==============================] - 490s 6s/step - loss: 0.1406 - auc: 0.9635 - val_loss: 0.1708 - val_auc: 0.9315\n",
      "Epoch 44/75\n",
      "80/80 [==============================] - 521s 7s/step - loss: 0.1394 - auc: 0.9639 - val_loss: 0.1701 - val_auc: 0.9316\n",
      "Epoch 45/75\n",
      "80/80 [==============================] - 302s 4s/step - loss: 0.1381 - auc: 0.9645 - val_loss: 0.1707 - val_auc: 0.9321\n",
      "Epoch 46/75\n",
      "80/80 [==============================] - 309s 4s/step - loss: 0.1374 - auc: 0.9652 - val_loss: 0.1697 - val_auc: 0.9326\n",
      "Epoch 47/75\n",
      "80/80 [==============================] - 302s 4s/step - loss: 0.1355 - auc: 0.9668 - val_loss: 0.1697 - val_auc: 0.9323\n",
      "Epoch 48/75\n",
      "80/80 [==============================] - 298s 4s/step - loss: 0.1349 - auc: 0.9668 - val_loss: 0.1685 - val_auc: 0.9325\n",
      "Epoch 49/75\n",
      "80/80 [==============================] - 300s 4s/step - loss: 0.1341 - auc: 0.9672 - val_loss: 0.1700 - val_auc: 0.9329\n",
      "Epoch 50/75\n",
      "80/80 [==============================] - 293s 4s/step - loss: 0.1325 - auc: 0.9682 - val_loss: 0.1679 - val_auc: 0.9334\n",
      "Epoch 51/75\n",
      "80/80 [==============================] - 289s 4s/step - loss: 0.1312 - auc: 0.9688 - val_loss: 0.1681 - val_auc: 0.9340\n",
      "Epoch 52/75\n",
      "80/80 [==============================] - 304s 4s/step - loss: 0.1303 - auc: 0.9697 - val_loss: 0.1675 - val_auc: 0.9349\n",
      "Epoch 53/75\n",
      "80/80 [==============================] - 291s 4s/step - loss: 0.1294 - auc: 0.9701 - val_loss: 0.1687 - val_auc: 0.9348\n",
      "Epoch 54/75\n",
      "80/80 [==============================] - 299s 4s/step - loss: 0.1280 - auc: 0.9707 - val_loss: 0.1674 - val_auc: 0.9352\n",
      "Epoch 55/75\n",
      "80/80 [==============================] - 306s 4s/step - loss: 0.1262 - auc: 0.9720 - val_loss: 0.1692 - val_auc: 0.9353\n",
      "Epoch 56/75\n",
      "80/80 [==============================] - 301s 4s/step - loss: 0.1265 - auc: 0.9715 - val_loss: 0.1663 - val_auc: 0.9367\n",
      "Epoch 57/75\n",
      "80/80 [==============================] - 291s 4s/step - loss: 0.1254 - auc: 0.9720 - val_loss: 0.1666 - val_auc: 0.9355\n",
      "Epoch 58/75\n",
      "80/80 [==============================] - 304s 4s/step - loss: 0.1238 - auc: 0.9727 - val_loss: 0.1676 - val_auc: 0.9365\n",
      "Epoch 59/75\n",
      "80/80 [==============================] - 291s 4s/step - loss: 0.1234 - auc: 0.9732 - val_loss: 0.1664 - val_auc: 0.9373\n",
      "Epoch 60/75\n",
      "80/80 [==============================] - 298s 4s/step - loss: 0.1223 - auc: 0.9729 - val_loss: 0.1658 - val_auc: 0.9344\n",
      "Epoch 61/75\n",
      "80/80 [==============================] - 293s 4s/step - loss: 0.1209 - auc: 0.9743 - val_loss: 0.1666 - val_auc: 0.9352\n",
      "Epoch 62/75\n",
      "80/80 [==============================] - 307s 4s/step - loss: 0.1198 - auc: 0.9748 - val_loss: 0.1667 - val_auc: 0.9350\n",
      "Epoch 63/75\n",
      "80/80 [==============================] - 300s 4s/step - loss: 0.1187 - auc: 0.9753 - val_loss: 0.1657 - val_auc: 0.9340\n",
      "Epoch 64/75\n",
      "80/80 [==============================] - 294s 4s/step - loss: 0.1182 - auc: 0.9757 - val_loss: 0.1658 - val_auc: 0.9357\n",
      "Epoch 65/75\n",
      "80/80 [==============================] - 292s 4s/step - loss: 0.1170 - auc: 0.9762 - val_loss: 0.1650 - val_auc: 0.9367\n",
      "Epoch 66/75\n",
      "80/80 [==============================] - 296s 4s/step - loss: 0.1153 - auc: 0.9768 - val_loss: 0.1664 - val_auc: 0.9348\n",
      "Epoch 67/75\n",
      "80/80 [==============================] - 292s 4s/step - loss: 0.1151 - auc: 0.9769 - val_loss: 0.1655 - val_auc: 0.9352\n",
      "Epoch 68/75\n",
      "80/80 [==============================] - 294s 4s/step - loss: 0.1143 - auc: 0.9770 - val_loss: 0.1660 - val_auc: 0.9376\n",
      "Epoch 69/75\n",
      "80/80 [==============================] - 295s 4s/step - loss: 0.1132 - auc: 0.9777 - val_loss: 0.1663 - val_auc: 0.9355\n",
      "Epoch 70/75\n",
      "80/80 [==============================] - 297s 4s/step - loss: 0.1124 - auc: 0.9784 - val_loss: 0.1652 - val_auc: 0.9361\n",
      "Epoch 71/75\n",
      "80/80 [==============================] - 298s 4s/step - loss: 0.1115 - auc: 0.9785 - val_loss: 0.1644 - val_auc: 0.9342\n",
      "Epoch 72/75\n",
      "80/80 [==============================] - 298s 4s/step - loss: 0.1111 - auc: 0.9788 - val_loss: 0.1654 - val_auc: 0.9363\n",
      "Epoch 73/75\n",
      "80/80 [==============================] - 297s 4s/step - loss: 0.1103 - auc: 0.9788 - val_loss: 0.1638 - val_auc: 0.9353\n",
      "Epoch 74/75\n",
      "80/80 [==============================] - 435s 5s/step - loss: 0.1088 - auc: 0.9794 - val_loss: 0.1660 - val_auc: 0.9369\n",
      "Epoch 75/75\n",
      "80/80 [==============================] - 282s 4s/step - loss: 0.1084 - auc: 0.9797 - val_loss: 0.1651 - val_auc: 0.9375\n"
     ]
    }
   ],
   "source": [
    "es = EarlyStopping(monitor = 'val_loss', patience = 10, restore_best_weights = True  )\n",
    "history = model.fit(train_data_generator, epochs=num_epochs, validation_data=val_data_generator, callbacks=[es],verbose = 1)"
   ]
  },
  {
   "cell_type": "code",
   "execution_count": 14,
   "id": "7415473e",
   "metadata": {
    "execution": {
     "iopub.execute_input": "2023-07-13T11:19:45.034865Z",
     "iopub.status.busy": "2023-07-13T11:19:45.034379Z",
     "iopub.status.idle": "2023-07-13T11:19:45.131429Z",
     "shell.execute_reply": "2023-07-13T11:19:45.130514Z"
    },
    "papermill": {
     "duration": 0.566127,
     "end_time": "2023-07-13T11:19:45.133682",
     "exception": false,
     "start_time": "2023-07-13T11:19:44.567555",
     "status": "completed"
    },
    "tags": []
   },
   "outputs": [],
   "source": [
    "model.save(\"CNN_final.keras\")"
   ]
  },
  {
   "cell_type": "markdown",
   "id": "464929a4",
   "metadata": {
    "papermill": {
     "duration": 0.465314,
     "end_time": "2023-07-13T11:19:46.063944",
     "exception": false,
     "start_time": "2023-07-13T11:19:45.598630",
     "status": "completed"
    },
    "tags": []
   },
   "source": [
    "## 5. Performance \n",
    "<ul>\n",
    "<li>train and validation losses</li>\n",
    "</ul>"
   ]
  },
  {
   "cell_type": "code",
   "execution_count": 15,
   "id": "b0f3ce48",
   "metadata": {
    "execution": {
     "iopub.execute_input": "2023-07-13T11:19:46.992992Z",
     "iopub.status.busy": "2023-07-13T11:19:46.992607Z",
     "iopub.status.idle": "2023-07-13T11:19:47.391294Z",
     "shell.execute_reply": "2023-07-13T11:19:47.390389Z"
    },
    "papermill": {
     "duration": 0.8687,
     "end_time": "2023-07-13T11:19:47.393328",
     "exception": false,
     "start_time": "2023-07-13T11:19:46.524628",
     "status": "completed"
    },
    "tags": []
   },
   "outputs": [
    {
     "data": {
      "image/png": "[encoded data removed]",
      "text/plain": [
       "<Figure size 640x480 with 1 Axes>"
      ]
     },
     "metadata": {},
     "output_type": "display_data"
    }
   ],
   "source": [
    "train_loss = history.history['loss']\n",
    "val_loss = history.history['val_loss']\n",
    "epochs = range(1, len(train_loss) + 1)\n",
    "\n",
    "plt.plot(epochs, train_loss, 'b', label='Training Loss')\n",
    "plt.plot(epochs, val_loss, 'r', label='Validation Loss')\n",
    "plt.title('Training and Validation Loss')\n",
    "plt.xlabel('Epochs')\n",
    "plt.ylabel('Loss')\n",
    "plt.legend()\n",
    "plt.show()\n",
    "\n"
   ]
  },
  {
   "cell_type": "code",
   "execution_count": 16,
   "id": "04a1d633",
   "metadata": {
    "execution": {
     "iopub.execute_input": "2023-07-13T11:19:48.585524Z",
     "iopub.status.busy": "2023-07-13T11:19:48.585029Z",
     "iopub.status.idle": "2023-07-13T11:23:59.415952Z",
     "shell.execute_reply": "2023-07-13T11:23:59.412650Z"
    },
    "papermill": {
     "duration": 251.543546,
     "end_time": "2023-07-13T11:23:59.420242",
     "exception": false,
     "start_time": "2023-07-13T11:19:47.876696",
     "status": "completed"
    },
    "tags": []
   },
   "outputs": [],
   "source": [
    "y_pred = model.predict(DataGenerator(range(809),1), verbose = 0)"
   ]
  },
  {
   "cell_type": "markdown",
   "id": "36f9c1fa",
   "metadata": {
    "papermill": {
     "duration": 0.488627,
     "end_time": "2023-07-13T11:24:00.476066",
     "exception": false,
     "start_time": "2023-07-13T11:23:59.987439",
     "status": "completed"
    },
    "tags": []
   },
   "source": [
    "### Classification Reports"
   ]
  },
  {
   "cell_type": "code",
   "execution_count": 17,
   "id": "a1392eb9",
   "metadata": {
    "execution": {
     "iopub.execute_input": "2023-07-13T11:24:01.458638Z",
     "iopub.status.busy": "2023-07-13T11:24:01.457595Z",
     "iopub.status.idle": "2023-07-13T11:24:01.593646Z",
     "shell.execute_reply": "2023-07-13T11:24:01.592478Z"
    },
    "papermill": {
     "duration": 0.647324,
     "end_time": "2023-07-13T11:24:01.596495",
     "exception": false,
     "start_time": "2023-07-13T11:24:00.949171",
     "status": "completed"
    },
    "tags": []
   },
   "outputs": [
    {
     "name": "stdout",
     "output_type": "stream",
     "text": [
      "aromatic\n",
      "              precision    recall  f1-score   support\n",
      "\n",
      "           0       0.95      1.00      0.98       730\n",
      "           1       0.98      0.54      0.70        79\n",
      "\n",
      "    accuracy                           0.95       809\n",
      "   macro avg       0.97      0.77      0.84       809\n",
      "weighted avg       0.96      0.95      0.95       809\n",
      "\n",
      "roc_auc_score : 0.9721692387723253\n",
      "log loss      : 0.1162961932265415\n",
      "-------------------------------------------------------------\n",
      "hydrocarbon\n",
      "              precision    recall  f1-score   support\n",
      "\n",
      "           0       0.94      0.97      0.96       544\n",
      "           1       0.93      0.88      0.90       265\n",
      "\n",
      "    accuracy                           0.94       809\n",
      "   macro avg       0.94      0.92      0.93       809\n",
      "weighted avg       0.94      0.94      0.94       809\n",
      "\n",
      "roc_auc_score : 0.965794950055494\n",
      "log loss      : 0.20451287982351304\n",
      "-------------------------------------------------------------\n",
      "carboxylic_acid\n",
      "              precision    recall  f1-score   support\n",
      "\n",
      "           0       0.94      0.98      0.96       694\n",
      "           1       0.86      0.61      0.71       115\n",
      "\n",
      "    accuracy                           0.93       809\n",
      "   macro avg       0.90      0.80      0.84       809\n",
      "weighted avg       0.93      0.93      0.93       809\n",
      "\n",
      "roc_auc_score : 0.9712066157123167\n",
      "log loss      : 0.15551172327786342\n",
      "-------------------------------------------------------------\n",
      "nitrogen_bearing_compound\n",
      "              precision    recall  f1-score   support\n",
      "\n",
      "           0       0.95      0.99      0.97       713\n",
      "           1       0.89      0.59      0.71        96\n",
      "\n",
      "    accuracy                           0.94       809\n",
      "   macro avg       0.92      0.79      0.84       809\n",
      "weighted avg       0.94      0.94      0.94       809\n",
      "\n",
      "roc_auc_score : 0.9811827956989247\n",
      "log loss      : 0.12974614430877116\n",
      "-------------------------------------------------------------\n",
      "chlorine_bearing_compound\n",
      "              precision    recall  f1-score   support\n",
      "\n",
      "           0       0.98      1.00      0.99       791\n",
      "           1       1.00      0.17      0.29        18\n",
      "\n",
      "    accuracy                           0.98       809\n",
      "   macro avg       0.99      0.58      0.64       809\n",
      "weighted avg       0.98      0.98      0.97       809\n",
      "\n",
      "roc_auc_score : 0.986866132883832\n",
      "log loss      : 0.04141461817899262\n",
      "-------------------------------------------------------------\n",
      "sulfur_bearing_compound\n",
      "              precision    recall  f1-score   support\n",
      "\n",
      "           0       0.97      1.00      0.98       778\n",
      "           1       0.75      0.29      0.42        31\n",
      "\n",
      "    accuracy                           0.97       809\n",
      "   macro avg       0.86      0.64      0.70       809\n",
      "weighted avg       0.96      0.97      0.96       809\n",
      "\n",
      "roc_auc_score : 0.9803880918815823\n",
      "log loss      : 0.07523194028479571\n",
      "-------------------------------------------------------------\n",
      "alcohol\n",
      "              precision    recall  f1-score   support\n",
      "\n",
      "           0       0.97      1.00      0.98       783\n",
      "           1       0.62      0.19      0.29        26\n",
      "\n",
      "    accuracy                           0.97       809\n",
      "   macro avg       0.80      0.59      0.64       809\n",
      "weighted avg       0.96      0.97      0.96       809\n",
      "\n",
      "roc_auc_score : 0.9526967285587975\n",
      "log loss      : 0.07675202954698025\n",
      "-------------------------------------------------------------\n",
      "other_oxygen_bearing_compound\n",
      "              precision    recall  f1-score   support\n",
      "\n",
      "           0       0.98      1.00      0.99       788\n",
      "           1       0.75      0.14      0.24        21\n",
      "\n",
      "    accuracy                           0.98       809\n",
      "   macro avg       0.86      0.57      0.61       809\n",
      "weighted avg       0.97      0.98      0.97       809\n",
      "\n",
      "roc_auc_score : 0.9621706550640561\n",
      "log loss      : 0.06337759983030752\n",
      "-------------------------------------------------------------\n",
      "mineral\n",
      "              precision    recall  f1-score   support\n",
      "\n",
      "           0       0.94      0.96      0.95       692\n",
      "           1       0.71      0.64      0.68       117\n",
      "\n",
      "    accuracy                           0.91       809\n",
      "   macro avg       0.83      0.80      0.81       809\n",
      "weighted avg       0.91      0.91      0.91       809\n",
      "\n",
      "roc_auc_score : 0.9493355071389753\n",
      "log loss      : 0.19666833552894514\n",
      "-------------------------------------------------------------\n"
     ]
    }
   ],
   "source": [
    "for i in range(9):\n",
    "    y_true_column = train_labels.iloc[:, i+1].values\n",
    "    y_pred_column = y_pred[:, i].round()\n",
    "    \n",
    "    report = classification_report(y_true_column, y_pred_column)\n",
    "    print(f\"{label_names[i]}\")\n",
    "    print(report)\n",
    "    print(f\"roc_auc_score : {roc_auc_score(y_true_column, y_pred[:, i])}\")\n",
    "    print(f\"log loss      : {log_loss(y_true_column, y_pred[:, i])}\")\n",
    "    \n",
    "    print(\"-------------------------------------------------------------\")\n"
   ]
  },
  {
   "cell_type": "code",
   "execution_count": null,
   "id": "c0977071",
   "metadata": {
    "papermill": {
     "duration": 0.470395,
     "end_time": "2023-07-13T11:24:02.539556",
     "exception": false,
     "start_time": "2023-07-13T11:24:02.069161",
     "status": "completed"
    },
    "tags": []
   },
   "outputs": [],
   "source": []
  }
 ],
 "metadata": {
  "kernelspec": {
   "display_name": "Python 3",
   "language": "python",
   "name": "python3"
  },
  "language_info": {
   "codemirror_mode": {
    "name": "ipython",
    "version": 3
   },
   "file_extension": ".py",
   "mimetype": "text/x-python",
   "name": "python",
   "nbconvert_exporter": "python",
   "pygments_lexer": "ipython3",
   "version": "3.10.10"
  },
  "papermill": {
   "default_parameters": {},
   "duration": 24093.074796,
   "end_time": "2023-07-13T11:24:06.586002",
   "environment_variables": {},
   "exception": null,
   "input_path": "__notebook__.ipynb",
   "output_path": "__notebook__.ipynb",
   "parameters": {},
   "start_time": "2023-07-13T04:42:33.511206",
   "version": "2.4.0"
  }
 },
 "nbformat": 4,
 "nbformat_minor": 5
}
