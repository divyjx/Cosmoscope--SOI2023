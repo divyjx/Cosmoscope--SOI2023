{
 "cells": [
  {
   "cell_type": "markdown",
   "id": "0fb0d900",
   "metadata": {
    "papermill": {
     "duration": 0.00685,
     "end_time": "2023-07-12T09:47:19.958293",
     "exception": false,
     "start_time": "2023-07-12T09:47:19.951443",
     "status": "completed"
    },
    "tags": []
   },
   "source": [
    "## 1. Data Description \n",
    "<ul> \n",
    "<li>there are 809 training examples</li>\n",
    "<li>each of them is a dataframe with time, mass , and intensity values</li>\n",
    "<li>dataframe lenghts are variable</li>\n",
    "</ul>\n"
   ]
  },
  {
   "cell_type": "code",
   "execution_count": 1,
   "id": "10a04192",
   "metadata": {
    "execution": {
     "iopub.execute_input": "2023-07-12T09:47:19.973810Z",
     "iopub.status.busy": "2023-07-12T09:47:19.973002Z",
     "iopub.status.idle": "2023-07-12T09:47:30.472371Z",
     "shell.execute_reply": "2023-07-12T09:47:30.471313Z"
    },
    "papermill": {
     "duration": 10.510058,
     "end_time": "2023-07-12T09:47:30.474973",
     "exception": false,
     "start_time": "2023-07-12T09:47:19.964915",
     "status": "completed"
    },
    "tags": []
   },
   "outputs": [],
   "source": [
    "import warnings \n",
    "warnings.filterwarnings('ignore')\n",
    "\n",
    "# for processing numbers and files csv\n",
    "import pandas as pd\n",
    "import numpy as np\n",
    "\n",
    "# for visualization\n",
    "import matplotlib.pyplot as plt\n",
    "%matplotlib inline\n",
    "\n",
    "# preprocessing \n",
    "from sklearn.preprocessing import MinMaxScaler\n",
    "from sklearn.model_selection import train_test_split\n",
    "from sklearn.metrics import log_loss\n",
    "\n",
    "# model related\n",
    "from tensorflow.keras.callbacks import EarlyStopping\n",
    "from tensorflow.keras.utils import Sequence\n",
    "from tensorflow.keras.models import Sequential\n",
    "from tensorflow.keras.layers import Conv2D, MaxPooling2D, Flatten, Dense\n",
    "\n",
    "import tensorflow as tf\n"
   ]
  },
  {
   "cell_type": "code",
   "execution_count": 2,
   "id": "e9a5371b",
   "metadata": {
    "execution": {
     "iopub.execute_input": "2023-07-12T09:47:30.490670Z",
     "iopub.status.busy": "2023-07-12T09:47:30.489337Z",
     "iopub.status.idle": "2023-07-12T09:47:30.495059Z",
     "shell.execute_reply": "2023-07-12T09:47:30.494088Z"
    },
    "papermill": {
     "duration": 0.015143,
     "end_time": "2023-07-12T09:47:30.496927",
     "exception": false,
     "start_time": "2023-07-12T09:47:30.481784",
     "status": "completed"
    },
    "tags": []
   },
   "outputs": [],
   "source": [
    "#for gpu\n",
    "\n",
    "# gpus = tf.config.experimental.list_physical_devices('GPU')\n",
    "# for gpu in gpus:\n",
    "#     print(\"Name:\", gpu.name, \"  Type:\", gpu.device_type)\n",
    "\n",
    "# from tensorflow.python.client import device_lib\n",
    "\n",
    "# print(device_lib.list_local_devices())\n",
    "\n",
    "# tf.test.is_gpu_available()"
   ]
  },
  {
   "cell_type": "code",
   "execution_count": 3,
   "id": "29ae635f",
   "metadata": {
    "execution": {
     "iopub.execute_input": "2023-07-12T09:47:30.510918Z",
     "iopub.status.busy": "2023-07-12T09:47:30.510599Z",
     "iopub.status.idle": "2023-07-12T09:47:30.515027Z",
     "shell.execute_reply": "2023-07-12T09:47:30.514037Z"
    },
    "papermill": {
     "duration": 0.013816,
     "end_time": "2023-07-12T09:47:30.517178",
     "exception": false,
     "start_time": "2023-07-12T09:47:30.503362",
     "status": "completed"
    },
    "tags": []
   },
   "outputs": [],
   "source": [
    "# for working in kaggle use this paths\n",
    "kag_path_in = \"/kaggle/input/mars-spec-train/\"\n",
    "kag_path_out = \"/kaggle/working/\"\n",
    "\n",
    "# add custom paths here (uncomment)\n",
    "# kag_path_in = \"\"\n",
    "# kag_path_out = \"\""
   ]
  },
  {
   "cell_type": "code",
   "execution_count": 4,
   "id": "8ce81a9c",
   "metadata": {
    "execution": {
     "iopub.execute_input": "2023-07-12T09:47:30.531600Z",
     "iopub.status.busy": "2023-07-12T09:47:30.530785Z",
     "iopub.status.idle": "2023-07-12T09:47:30.576212Z",
     "shell.execute_reply": "2023-07-12T09:47:30.575257Z"
    },
    "papermill": {
     "duration": 0.054901,
     "end_time": "2023-07-12T09:47:30.578485",
     "exception": false,
     "start_time": "2023-07-12T09:47:30.523584",
     "status": "completed"
    },
    "tags": []
   },
   "outputs": [],
   "source": [
    "# metadata = pd.read_csv('/kaggle/input/mars-spec-train/metadata.csv').fillna(0)\n",
    "# train_labels = pd.read_csv('/kaggle/input/mars-spec-train/train_labels.csv')\n",
    "metadata = pd.read_csv(kag_path_in+'metadata.csv').fillna(0)\n",
    "train_labels = pd.read_csv(kag_path_in+'train_labels.csv')"
   ]
  },
  {
   "cell_type": "markdown",
   "id": "76de847c",
   "metadata": {
    "papermill": {
     "duration": 0.005998,
     "end_time": "2023-07-12T09:47:30.590921",
     "exception": false,
     "start_time": "2023-07-12T09:47:30.584923",
     "status": "completed"
    },
    "tags": []
   },
   "source": [
    "## 2. Preprocessing and Feature extraction\n",
    "<ul>\n",
    "<li>mass values are grouped into values seperated by 0.50 </li>\n",
    "<li>time values are grouped into values seperated by 0.02 </li>\n",
    "<li>Time * Mass matrix (2700,1400) with Intensity values </li>\n",
    "</ul>"
   ]
  },
  {
   "cell_type": "code",
   "execution_count": 5,
   "id": "2502a0e0",
   "metadata": {
    "execution": {
     "iopub.execute_input": "2023-07-12T09:47:30.604776Z",
     "iopub.status.busy": "2023-07-12T09:47:30.603943Z",
     "iopub.status.idle": "2023-07-12T09:47:30.608991Z",
     "shell.execute_reply": "2023-07-12T09:47:30.608030Z"
    },
    "papermill": {
     "duration": 0.014291,
     "end_time": "2023-07-12T09:47:30.611157",
     "exception": false,
     "start_time": "2023-07-12T09:47:30.596866",
     "status": "completed"
    },
    "tags": []
   },
   "outputs": [],
   "source": [
    "# constants\n",
    "num_mass_values = 1400\n",
    "num_time_values = 2700\n",
    "matrix_shape = (num_time_values, num_mass_values)"
   ]
  },
  {
   "cell_type": "code",
   "execution_count": 6,
   "id": "c8c06060",
   "metadata": {
    "execution": {
     "iopub.execute_input": "2023-07-12T09:47:30.625253Z",
     "iopub.status.busy": "2023-07-12T09:47:30.624169Z",
     "iopub.status.idle": "2023-07-12T09:47:30.634167Z",
     "shell.execute_reply": "2023-07-12T09:47:30.633207Z"
    },
    "papermill": {
     "duration": 0.019121,
     "end_time": "2023-07-12T09:47:30.636204",
     "exception": false,
     "start_time": "2023-07-12T09:47:30.617083",
     "status": "completed"
    },
    "tags": []
   },
   "outputs": [],
   "source": [
    "\n",
    "# Function to create the Time X Mass matrix for a single data sample\n",
    "def create_matrix(id):\n",
    "    \n",
    "    sample_id, split, derivate, path, _ = metadata.iloc[id]\n",
    "    data = pd.read_csv(kag_path_in+path)\n",
    "\n",
    "    label = None\n",
    "    if (split == 'train'):\n",
    "        label = train_labels.iloc[id].values[1:]\n",
    "\n",
    "    # discretization of time and mass\n",
    "    data.time = (data.time*50).round()\n",
    "    data.mass = (data.mass*2).round()\n",
    "    data.time = data.time.astype(int)\n",
    "    data.mass = data.mass.astype(int)\n",
    "    \n",
    "    # scaling intensity\n",
    "    data.intensity = MinMaxScaler().fit_transform(data.intensity.values.reshape(-1, 1))\n",
    "    \n",
    "    # filling matrix\n",
    "    matrix = np.zeros(matrix_shape)\n",
    "    matrix[data['time'],data['mass']] = data['intensity']\n",
    "\n",
    "    return matrix , label\n"
   ]
  },
  {
   "cell_type": "markdown",
   "id": "e88eef6a",
   "metadata": {
    "papermill": {
     "duration": 0.006162,
     "end_time": "2023-07-12T09:47:30.648657",
     "exception": false,
     "start_time": "2023-07-12T09:47:30.642495",
     "status": "completed"
    },
    "tags": []
   },
   "source": [
    "## 3. Data Generation\n",
    "<ul>\n",
    "<li>Storing data matrix is costly</li>\n",
    "<li>data is generated in batches</li>\n",
    "</ul>\n"
   ]
  },
  {
   "cell_type": "code",
   "execution_count": 7,
   "id": "5320156d",
   "metadata": {
    "execution": {
     "iopub.execute_input": "2023-07-12T09:47:30.663252Z",
     "iopub.status.busy": "2023-07-12T09:47:30.662325Z",
     "iopub.status.idle": "2023-07-12T09:47:30.668430Z",
     "shell.execute_reply": "2023-07-12T09:47:30.667492Z"
    },
    "papermill": {
     "duration": 0.015662,
     "end_time": "2023-07-12T09:47:30.670592",
     "exception": false,
     "start_time": "2023-07-12T09:47:30.654930",
     "status": "completed"
    },
    "tags": []
   },
   "outputs": [],
   "source": [
    "training_data = range(809)  \n",
    "train_data, val_data = train_test_split(training_data, test_size=0.2, random_state=42)\n"
   ]
  },
  {
   "cell_type": "code",
   "execution_count": 8,
   "id": "2bced2a9",
   "metadata": {
    "execution": {
     "iopub.execute_input": "2023-07-12T09:47:30.685566Z",
     "iopub.status.busy": "2023-07-12T09:47:30.684525Z",
     "iopub.status.idle": "2023-07-12T09:47:30.694417Z",
     "shell.execute_reply": "2023-07-12T09:47:30.693430Z"
    },
    "papermill": {
     "duration": 0.020077,
     "end_time": "2023-07-12T09:47:30.696831",
     "exception": false,
     "start_time": "2023-07-12T09:47:30.676754",
     "status": "completed"
    },
    "tags": []
   },
   "outputs": [],
   "source": [
    "class DataGenerator(Sequence):\n",
    "    def __init__(self, data, batch_size):\n",
    "        self.data = data\n",
    "        self.batch_size = batch_size\n",
    "    def __len__(self):\n",
    "        return len(self.data) // self.batch_size\n",
    "\n",
    "    def __getitem__(self, idx):        \n",
    "        \n",
    "        low = idx * self.batch_size\n",
    "        high = min(low + self.batch_size, len(self.data))\n",
    "        batch_x = []\n",
    "        batch_y = []\n",
    "\n",
    "        for i,data_sample in enumerate(self.data[low:high]):\n",
    "            processed_sample, processed_label = self.preprocess_data(data_sample)\n",
    "            batch_x.append(processed_sample)\n",
    "            batch_y.append(processed_label)\n",
    "        return np.array(batch_x), np.array(batch_y)\n",
    "\n",
    "    def preprocess_data(self, data_sample):\n",
    "        matrix, label = create_matrix(data_sample)\n",
    "        if type(label) == np.ndarray:\n",
    "            label = np.array(label).astype(int)\n",
    "        return matrix , label\n"
   ]
  },
  {
   "cell_type": "code",
   "execution_count": 9,
   "id": "9f163b31",
   "metadata": {
    "execution": {
     "iopub.execute_input": "2023-07-12T09:47:30.712164Z",
     "iopub.status.busy": "2023-07-12T09:47:30.711789Z",
     "iopub.status.idle": "2023-07-12T09:47:31.372915Z",
     "shell.execute_reply": "2023-07-12T09:47:31.372002Z"
    },
    "papermill": {
     "duration": 0.671604,
     "end_time": "2023-07-12T09:47:31.375329",
     "exception": false,
     "start_time": "2023-07-12T09:47:30.703725",
     "status": "completed"
    },
    "tags": []
   },
   "outputs": [
    {
     "data": {
      "text/plain": [
       "(array([[[0., 0., 0., ..., 0., 0., 0.],\n",
       "         [0., 0., 0., ..., 0., 0., 0.],\n",
       "         [0., 0., 0., ..., 0., 0., 0.],\n",
       "         ...,\n",
       "         [0., 0., 0., ..., 0., 0., 0.],\n",
       "         [0., 0., 0., ..., 0., 0., 0.],\n",
       "         [0., 0., 0., ..., 0., 0., 0.]],\n",
       " \n",
       "        [[0., 0., 0., ..., 0., 0., 0.],\n",
       "         [0., 0., 0., ..., 0., 0., 0.],\n",
       "         [0., 0., 0., ..., 0., 0., 0.],\n",
       "         ...,\n",
       "         [0., 0., 0., ..., 0., 0., 0.],\n",
       "         [0., 0., 0., ..., 0., 0., 0.],\n",
       "         [0., 0., 0., ..., 0., 0., 0.]]]),\n",
       " array([[0, 0, 0, 0, 0, 0, 0, 0, 0],\n",
       "        [1, 0, 1, 1, 0, 1, 1, 0, 0]]))"
      ]
     },
     "execution_count": 9,
     "metadata": {},
     "output_type": "execute_result"
    }
   ],
   "source": [
    "a = DataGenerator([2,1,32,13,132,122,90,91,7,9],4)\n",
    "a[2]"
   ]
  },
  {
   "cell_type": "markdown",
   "id": "cc5e8323",
   "metadata": {
    "papermill": {
     "duration": 0.006548,
     "end_time": "2023-07-12T09:47:31.388837",
     "exception": false,
     "start_time": "2023-07-12T09:47:31.382289",
     "status": "completed"
    },
    "tags": []
   },
   "source": [
    "## 4. Model\n",
    "<ul>\n",
    "<li>convolutional layers </li>\n",
    "<li>pooling layers (max pooling) </li>\n",
    "<li>fully connected layers</li>\n",
    "<li>sigmoid layer</li>\n",
    "<li>output positive label probability</li>\n",
    "</ul>"
   ]
  },
  {
   "cell_type": "code",
   "execution_count": 10,
   "id": "59985adc",
   "metadata": {
    "execution": {
     "iopub.execute_input": "2023-07-12T09:47:31.403860Z",
     "iopub.status.busy": "2023-07-12T09:47:31.403249Z",
     "iopub.status.idle": "2023-07-12T09:47:31.408767Z",
     "shell.execute_reply": "2023-07-12T09:47:31.407839Z"
    },
    "papermill": {
     "duration": 0.015367,
     "end_time": "2023-07-12T09:47:31.411107",
     "exception": false,
     "start_time": "2023-07-12T09:47:31.395740",
     "status": "completed"
    },
    "tags": []
   },
   "outputs": [],
   "source": [
    "label_names = [col for col in train_labels.columns[1:]]"
   ]
  },
  {
   "cell_type": "code",
   "execution_count": 11,
   "id": "8560a4a3",
   "metadata": {
    "execution": {
     "iopub.execute_input": "2023-07-12T09:47:31.425722Z",
     "iopub.status.busy": "2023-07-12T09:47:31.424833Z",
     "iopub.status.idle": "2023-07-12T09:47:31.429971Z",
     "shell.execute_reply": "2023-07-12T09:47:31.429069Z"
    },
    "papermill": {
     "duration": 0.01477,
     "end_time": "2023-07-12T09:47:31.432132",
     "exception": false,
     "start_time": "2023-07-12T09:47:31.417362",
     "status": "completed"
    },
    "tags": []
   },
   "outputs": [],
   "source": [
    "# contants\n",
    "batch_size = 8\n",
    "num_epochs = 100\n",
    "model = None\n",
    "history = None"
   ]
  },
  {
   "cell_type": "code",
   "execution_count": 12,
   "id": "cd6507c9",
   "metadata": {
    "execution": {
     "iopub.execute_input": "2023-07-12T09:47:31.447154Z",
     "iopub.status.busy": "2023-07-12T09:47:31.445577Z",
     "iopub.status.idle": "2023-07-12T09:47:34.834344Z",
     "shell.execute_reply": "2023-07-12T09:47:34.833459Z"
    },
    "papermill": {
     "duration": 3.41487,
     "end_time": "2023-07-12T09:47:34.853161",
     "exception": false,
     "start_time": "2023-07-12T09:47:31.438291",
     "status": "completed"
    },
    "tags": []
   },
   "outputs": [
    {
     "name": "stdout",
     "output_type": "stream",
     "text": [
      "Model: \"sequential\"\n",
      "_________________________________________________________________\n",
      " Layer (type)                Output Shape              Param #   \n",
      "=================================================================\n",
      " conv2d (Conv2D)             (None, 2651, 1398, 4)     604       \n",
      "                                                                 \n",
      " max_pooling2d (MaxPooling2D  (None, 53, 699, 4)       0         \n",
      " )                                                               \n",
      "                                                                 \n",
      " conv2d_1 (Conv2D)           (None, 51, 697, 4)        148       \n",
      "                                                                 \n",
      " max_pooling2d_1 (MaxPooling  (None, 2, 697, 4)        0         \n",
      " 2D)                                                             \n",
      "                                                                 \n",
      " flatten (Flatten)           (None, 5576)              0         \n",
      "                                                                 \n",
      " dense (Dense)               (None, 128)               713856    \n",
      "                                                                 \n",
      " dense_1 (Dense)             (None, 9)                 1161      \n",
      "                                                                 \n",
      "=================================================================\n",
      "Total params: 715,769\n",
      "Trainable params: 715,769\n",
      "Non-trainable params: 0\n",
      "_________________________________________________________________\n"
     ]
    }
   ],
   "source": [
    "model = Sequential()\n",
    "model.add(Conv2D(4, kernel_size=(50, 3), activation='relu', input_shape=(num_time_values, num_mass_values, 1)))\n",
    "model.add(MaxPooling2D(pool_size=(50, 2)))\n",
    "\n",
    "model.add(Conv2D(4, kernel_size=(3, 3), activation='relu', input_shape=(num_time_values, num_mass_values, 1)))\n",
    "model.add(MaxPooling2D(pool_size=(25, 1)))\n",
    "model.add(Flatten())\n",
    "\n",
    "model.add(Dense(128, activation='relu'))\n",
    "\n",
    "model.add(Dense(9, activation='sigmoid'))\n",
    "opt = tf.keras.optimizers.Adam(learning_rate = 0.0001) # slow\n",
    "model.compile(loss=tf.keras.losses.BinaryCrossentropy(from_logits=True), optimizer=opt, metrics=['AUC']) # from logits = true\n",
    " \n",
    "train_data_generator = DataGenerator(train_data, batch_size)\n",
    "val_data_generator = DataGenerator(val_data, batch_size)\n",
    "\n",
    "model.summary()"
   ]
  },
  {
   "cell_type": "code",
   "execution_count": 13,
   "id": "18a414e2",
   "metadata": {
    "execution": {
     "iopub.execute_input": "2023-07-12T09:47:34.872324Z",
     "iopub.status.busy": "2023-07-12T09:47:34.871945Z",
     "iopub.status.idle": "2023-07-12T14:48:09.412060Z",
     "shell.execute_reply": "2023-07-12T14:48:09.410210Z"
    },
    "papermill": {
     "duration": 18034.953246,
     "end_time": "2023-07-12T14:48:09.815354",
     "exception": false,
     "start_time": "2023-07-12T09:47:34.862108",
     "status": "completed"
    },
    "tags": []
   },
   "outputs": [
    {
     "name": "stdout",
     "output_type": "stream",
     "text": [
      "Epoch 1/100\n",
      "80/80 [==============================] - 359s 4s/step - loss: 0.5837 - auc: 0.5462 - val_loss: 0.3559 - val_auc: 0.7122\n",
      "Epoch 2/100\n",
      "80/80 [==============================] - 340s 4s/step - loss: 0.3105 - auc: 0.7276 - val_loss: 0.2723 - val_auc: 0.7760\n",
      "Epoch 3/100\n",
      "80/80 [==============================] - 309s 4s/step - loss: 0.2922 - auc: 0.7811 - val_loss: 0.2618 - val_auc: 0.8036\n",
      "Epoch 4/100\n",
      "80/80 [==============================] - 324s 4s/step - loss: 0.2784 - auc: 0.8055 - val_loss: 0.2466 - val_auc: 0.8295\n",
      "Epoch 5/100\n",
      "80/80 [==============================] - 312s 4s/step - loss: 0.2576 - auc: 0.8345 - val_loss: 0.2333 - val_auc: 0.8505\n",
      "Epoch 6/100\n",
      "80/80 [==============================] - 311s 4s/step - loss: 0.2382 - auc: 0.8612 - val_loss: 0.2219 - val_auc: 0.8710\n",
      "Epoch 7/100\n",
      "80/80 [==============================] - 300s 4s/step - loss: 0.2265 - auc: 0.8790 - val_loss: 0.2145 - val_auc: 0.8825\n",
      "Epoch 8/100\n",
      "80/80 [==============================] - 300s 4s/step - loss: 0.2166 - auc: 0.8947 - val_loss: 0.2086 - val_auc: 0.8926\n",
      "Epoch 9/100\n",
      "80/80 [==============================] - 295s 4s/step - loss: 0.2093 - auc: 0.9019 - val_loss: 0.2071 - val_auc: 0.9004\n",
      "Epoch 10/100\n",
      "80/80 [==============================] - 310s 4s/step - loss: 0.2038 - auc: 0.9093 - val_loss: 0.1999 - val_auc: 0.9031\n",
      "Epoch 11/100\n",
      "80/80 [==============================] - 296s 4s/step - loss: 0.1975 - auc: 0.9151 - val_loss: 0.1968 - val_auc: 0.9073\n",
      "Epoch 12/100\n",
      "80/80 [==============================] - 305s 4s/step - loss: 0.1925 - auc: 0.9213 - val_loss: 0.1945 - val_auc: 0.9140\n",
      "Epoch 13/100\n",
      "80/80 [==============================] - 303s 4s/step - loss: 0.1873 - auc: 0.9253 - val_loss: 0.1880 - val_auc: 0.9173\n",
      "Epoch 14/100\n",
      "80/80 [==============================] - 310s 4s/step - loss: 0.1836 - auc: 0.9285 - val_loss: 0.1876 - val_auc: 0.9184\n",
      "Epoch 15/100\n",
      "80/80 [==============================] - 300s 4s/step - loss: 0.1782 - auc: 0.9339 - val_loss: 0.1857 - val_auc: 0.9218\n",
      "Epoch 16/100\n",
      "80/80 [==============================] - 305s 4s/step - loss: 0.1763 - auc: 0.9347 - val_loss: 0.1831 - val_auc: 0.9218\n",
      "Epoch 17/100\n",
      "80/80 [==============================] - 300s 4s/step - loss: 0.1716 - auc: 0.9392 - val_loss: 0.1824 - val_auc: 0.9220\n",
      "Epoch 18/100\n",
      "80/80 [==============================] - 304s 4s/step - loss: 0.1680 - auc: 0.9423 - val_loss: 0.1808 - val_auc: 0.9244\n",
      "Epoch 19/100\n",
      "80/80 [==============================] - 299s 4s/step - loss: 0.1642 - auc: 0.9452 - val_loss: 0.1801 - val_auc: 0.9262\n",
      "Epoch 20/100\n",
      "80/80 [==============================] - 305s 4s/step - loss: 0.1615 - auc: 0.9478 - val_loss: 0.1807 - val_auc: 0.9260\n",
      "Epoch 21/100\n",
      "80/80 [==============================] - 298s 4s/step - loss: 0.1592 - auc: 0.9490 - val_loss: 0.1821 - val_auc: 0.9281\n",
      "Epoch 22/100\n",
      "80/80 [==============================] - 299s 4s/step - loss: 0.1554 - auc: 0.9528 - val_loss: 0.1786 - val_auc: 0.9276\n",
      "Epoch 23/100\n",
      "80/80 [==============================] - 301s 4s/step - loss: 0.1538 - auc: 0.9539 - val_loss: 0.1759 - val_auc: 0.9294\n",
      "Epoch 24/100\n",
      "80/80 [==============================] - 300s 4s/step - loss: 0.1500 - auc: 0.9558 - val_loss: 0.1779 - val_auc: 0.9301\n",
      "Epoch 25/100\n",
      "80/80 [==============================] - 303s 4s/step - loss: 0.1491 - auc: 0.9568 - val_loss: 0.1760 - val_auc: 0.9289\n",
      "Epoch 26/100\n",
      "80/80 [==============================] - 309s 4s/step - loss: 0.1462 - auc: 0.9594 - val_loss: 0.1745 - val_auc: 0.9315\n",
      "Epoch 27/100\n",
      "80/80 [==============================] - 295s 4s/step - loss: 0.1432 - auc: 0.9605 - val_loss: 0.1723 - val_auc: 0.9307\n",
      "Epoch 28/100\n",
      "80/80 [==============================] - 304s 4s/step - loss: 0.1408 - auc: 0.9626 - val_loss: 0.1746 - val_auc: 0.9321\n",
      "Epoch 29/100\n",
      "80/80 [==============================] - 303s 4s/step - loss: 0.1390 - auc: 0.9641 - val_loss: 0.1731 - val_auc: 0.9341\n",
      "Epoch 30/100\n",
      "80/80 [==============================] - 301s 4s/step - loss: 0.1362 - auc: 0.9650 - val_loss: 0.1741 - val_auc: 0.9353\n",
      "Epoch 31/100\n",
      "80/80 [==============================] - 297s 4s/step - loss: 0.1345 - auc: 0.9669 - val_loss: 0.1720 - val_auc: 0.9336\n",
      "Epoch 32/100\n",
      "80/80 [==============================] - 301s 4s/step - loss: 0.1329 - auc: 0.9674 - val_loss: 0.1740 - val_auc: 0.9329\n",
      "Epoch 33/100\n",
      "80/80 [==============================] - 301s 4s/step - loss: 0.1304 - auc: 0.9688 - val_loss: 0.1715 - val_auc: 0.9373\n",
      "Epoch 34/100\n",
      "80/80 [==============================] - 297s 4s/step - loss: 0.1284 - auc: 0.9692 - val_loss: 0.1710 - val_auc: 0.9354\n",
      "Epoch 35/100\n",
      "80/80 [==============================] - 296s 4s/step - loss: 0.1273 - auc: 0.9703 - val_loss: 0.1691 - val_auc: 0.9372\n",
      "Epoch 36/100\n",
      "80/80 [==============================] - 307s 4s/step - loss: 0.1240 - auc: 0.9723 - val_loss: 0.1715 - val_auc: 0.9382\n",
      "Epoch 37/100\n",
      "80/80 [==============================] - 310s 4s/step - loss: 0.1229 - auc: 0.9720 - val_loss: 0.1689 - val_auc: 0.9380\n",
      "Epoch 38/100\n",
      "80/80 [==============================] - 312s 4s/step - loss: 0.1208 - auc: 0.9743 - val_loss: 0.1719 - val_auc: 0.9374\n",
      "Epoch 39/100\n",
      "80/80 [==============================] - 302s 4s/step - loss: 0.1205 - auc: 0.9738 - val_loss: 0.1727 - val_auc: 0.9393\n",
      "Epoch 40/100\n",
      "80/80 [==============================] - 300s 4s/step - loss: 0.1176 - auc: 0.9758 - val_loss: 0.1711 - val_auc: 0.9381\n",
      "Epoch 41/100\n",
      "80/80 [==============================] - 300s 4s/step - loss: 0.1150 - auc: 0.9763 - val_loss: 0.1766 - val_auc: 0.9295\n",
      "Epoch 42/100\n",
      "80/80 [==============================] - 308s 4s/step - loss: 0.1137 - auc: 0.9772 - val_loss: 0.1708 - val_auc: 0.9376\n",
      "Epoch 43/100\n",
      "80/80 [==============================] - 306s 4s/step - loss: 0.1124 - auc: 0.9780 - val_loss: 0.1716 - val_auc: 0.9377\n",
      "Epoch 44/100\n",
      "80/80 [==============================] - 297s 4s/step - loss: 0.1110 - auc: 0.9787 - val_loss: 0.1709 - val_auc: 0.9390\n",
      "Epoch 45/100\n",
      "80/80 [==============================] - 301s 4s/step - loss: 0.1092 - auc: 0.9792 - val_loss: 0.1719 - val_auc: 0.9342\n",
      "Epoch 46/100\n",
      "80/80 [==============================] - 302s 4s/step - loss: 0.1071 - auc: 0.9804 - val_loss: 0.1762 - val_auc: 0.9357\n",
      "Epoch 47/100\n",
      "80/80 [==============================] - 308s 4s/step - loss: 0.1051 - auc: 0.9804 - val_loss: 0.1714 - val_auc: 0.9369\n",
      "Epoch 48/100\n",
      "80/80 [==============================] - 306s 4s/step - loss: 0.1036 - auc: 0.9817 - val_loss: 0.1729 - val_auc: 0.9351\n",
      "Epoch 49/100\n",
      "80/80 [==============================] - 297s 4s/step - loss: 0.1016 - auc: 0.9823 - val_loss: 0.1736 - val_auc: 0.9406\n",
      "Epoch 50/100\n",
      "80/80 [==============================] - 306s 4s/step - loss: 0.1003 - auc: 0.9836 - val_loss: 0.1759 - val_auc: 0.9334\n",
      "Epoch 51/100\n",
      "80/80 [==============================] - 315s 4s/step - loss: 0.0986 - auc: 0.9834 - val_loss: 0.1763 - val_auc: 0.9325\n",
      "Epoch 52/100\n",
      "80/80 [==============================] - 312s 4s/step - loss: 0.0979 - auc: 0.9839 - val_loss: 0.1775 - val_auc: 0.9369\n",
      "Epoch 53/100\n",
      "80/80 [==============================] - 319s 4s/step - loss: 0.0960 - auc: 0.9845 - val_loss: 0.1766 - val_auc: 0.9361\n",
      "Epoch 54/100\n",
      "80/80 [==============================] - 308s 4s/step - loss: 0.0944 - auc: 0.9852 - val_loss: 0.1799 - val_auc: 0.9310\n",
      "Epoch 55/100\n",
      "80/80 [==============================] - 311s 4s/step - loss: 0.0934 - auc: 0.9856 - val_loss: 0.1773 - val_auc: 0.9350\n",
      "Epoch 56/100\n",
      "80/80 [==============================] - 316s 4s/step - loss: 0.0919 - auc: 0.9862 - val_loss: 0.1762 - val_auc: 0.9407\n",
      "Epoch 57/100\n",
      "80/80 [==============================] - 318s 4s/step - loss: 0.0907 - auc: 0.9867 - val_loss: 0.1791 - val_auc: 0.9346\n"
     ]
    }
   ],
   "source": [
    "es = EarlyStopping(monitor = 'val_loss', patience = 20, restore_best_weights = True  )\n",
    "history = model.fit(train_data_generator, epochs=num_epochs, validation_data=val_data_generator, callbacks=[es],verbose = 1)"
   ]
  },
  {
   "cell_type": "code",
   "execution_count": 14,
   "id": "c40f79da",
   "metadata": {
    "execution": {
     "iopub.execute_input": "2023-07-12T14:48:10.668700Z",
     "iopub.status.busy": "2023-07-12T14:48:10.667724Z",
     "iopub.status.idle": "2023-07-12T14:48:10.791762Z",
     "shell.execute_reply": "2023-07-12T14:48:10.790739Z"
    },
    "papermill": {
     "duration": 0.508717,
     "end_time": "2023-07-12T14:48:10.794324",
     "exception": false,
     "start_time": "2023-07-12T14:48:10.285607",
     "status": "completed"
    },
    "tags": []
   },
   "outputs": [],
   "source": [
    "model.save(\"model_mass_final.keras\")"
   ]
  },
  {
   "cell_type": "markdown",
   "id": "22de88bc",
   "metadata": {
    "papermill": {
     "duration": 0.381559,
     "end_time": "2023-07-12T14:48:11.555716",
     "exception": false,
     "start_time": "2023-07-12T14:48:11.174157",
     "status": "completed"
    },
    "tags": []
   },
   "source": [
    "## 5. Performance \n",
    "<ul>\n",
    "<li>train and validation losses</li>\n",
    "</ul>"
   ]
  },
  {
   "cell_type": "code",
   "execution_count": 15,
   "id": "86f2f54c",
   "metadata": {
    "execution": {
     "iopub.execute_input": "2023-07-12T14:48:12.328126Z",
     "iopub.status.busy": "2023-07-12T14:48:12.327725Z",
     "iopub.status.idle": "2023-07-12T14:48:12.892654Z",
     "shell.execute_reply": "2023-07-12T14:48:12.891745Z"
    },
    "papermill": {
     "duration": 0.957959,
     "end_time": "2023-07-12T14:48:12.899177",
     "exception": false,
     "start_time": "2023-07-12T14:48:11.941218",
     "status": "completed"
    },
    "tags": []
   },
   "outputs": [
    {
     "data": {
      "image/png": "[encoded data removed]",
      "text/plain": [
       "<Figure size 640x480 with 1 Axes>"
      ]
     },
     "metadata": {},
     "output_type": "display_data"
    }
   ],
   "source": [
    "train_loss = history.history['loss']\n",
    "val_loss = history.history['val_loss']\n",
    "epochs = range(1, len(train_loss) + 1)\n",
    "\n",
    "plt.plot(epochs, train_loss, 'b', label='Training Loss')\n",
    "plt.plot(epochs, val_loss, 'r', label='Validation Loss')\n",
    "plt.title('Training and Validation Loss')\n",
    "plt.xlabel('Epochs')\n",
    "plt.ylabel('Loss')\n",
    "plt.legend()\n",
    "plt.show()\n",
    "\n"
   ]
  },
  {
   "cell_type": "code",
   "execution_count": 16,
   "id": "620c6a0d",
   "metadata": {
    "execution": {
     "iopub.execute_input": "2023-07-12T14:48:14.047825Z",
     "iopub.status.busy": "2023-07-12T14:48:14.047223Z",
     "iopub.status.idle": "2023-07-12T14:52:56.301702Z",
     "shell.execute_reply": "2023-07-12T14:52:56.300115Z"
    },
    "papermill": {
     "duration": 282.816762,
     "end_time": "2023-07-12T14:52:56.305204",
     "exception": false,
     "start_time": "2023-07-12T14:48:13.488442",
     "status": "completed"
    },
    "tags": []
   },
   "outputs": [],
   "source": [
    "y_pred = model.predict(DataGenerator(range(809),1), verbose = 0)"
   ]
  },
  {
   "cell_type": "markdown",
   "id": "8cab13b2",
   "metadata": {
    "papermill": {
     "duration": 0.370956,
     "end_time": "2023-07-12T14:52:57.055376",
     "exception": false,
     "start_time": "2023-07-12T14:52:56.684420",
     "status": "completed"
    },
    "tags": []
   },
   "source": [
    "### Classification Reports"
   ]
  },
  {
   "cell_type": "code",
   "execution_count": 17,
   "id": "3bfa1084",
   "metadata": {
    "execution": {
     "iopub.execute_input": "2023-07-12T14:52:57.904283Z",
     "iopub.status.busy": "2023-07-12T14:52:57.903407Z",
     "iopub.status.idle": "2023-07-12T14:52:58.019178Z",
     "shell.execute_reply": "2023-07-12T14:52:58.018098Z"
    },
    "papermill": {
     "duration": 0.583962,
     "end_time": "2023-07-12T14:52:58.023190",
     "exception": false,
     "start_time": "2023-07-12T14:52:57.439228",
     "status": "completed"
    },
    "tags": []
   },
   "outputs": [
    {
     "name": "stdout",
     "output_type": "stream",
     "text": [
      "aromatic\n",
      "              precision    recall  f1-score   support\n",
      "\n",
      "           0       0.95      1.00      0.97       730\n",
      "           1       0.97      0.47      0.63        79\n",
      "\n",
      "    accuracy                           0.95       809\n",
      "   macro avg       0.96      0.73      0.80       809\n",
      "weighted avg       0.95      0.95      0.94       809\n",
      "\n",
      "roc_auc_score : 0.9527137159701751\n",
      "-------------------------------------------------------------\n",
      "hydrocarbon\n",
      "              precision    recall  f1-score   support\n",
      "\n",
      "           0       0.93      0.96      0.94       544\n",
      "           1       0.91      0.85      0.88       265\n",
      "\n",
      "    accuracy                           0.92       809\n",
      "   macro avg       0.92      0.91      0.91       809\n",
      "weighted avg       0.92      0.92      0.92       809\n",
      "\n",
      "roc_auc_score : 0.963880410654828\n",
      "-------------------------------------------------------------\n",
      "carboxylic_acid\n",
      "              precision    recall  f1-score   support\n",
      "\n",
      "           0       0.93      0.99      0.96       694\n",
      "           1       0.87      0.54      0.67       115\n",
      "\n",
      "    accuracy                           0.92       809\n",
      "   macro avg       0.90      0.76      0.81       809\n",
      "weighted avg       0.92      0.92      0.92       809\n",
      "\n",
      "roc_auc_score : 0.9708056634506953\n",
      "-------------------------------------------------------------\n",
      "nitrogen_bearing_compound\n",
      "              precision    recall  f1-score   support\n",
      "\n",
      "           0       0.94      0.98      0.96       713\n",
      "           1       0.82      0.57      0.67        96\n",
      "\n",
      "    accuracy                           0.93       809\n",
      "   macro avg       0.88      0.78      0.82       809\n",
      "weighted avg       0.93      0.93      0.93       809\n",
      "\n",
      "roc_auc_score : 0.9703716690042076\n",
      "-------------------------------------------------------------\n",
      "chlorine_bearing_compound\n",
      "              precision    recall  f1-score   support\n",
      "\n",
      "           0       0.99      1.00      0.99       791\n",
      "           1       1.00      0.33      0.50        18\n",
      "\n",
      "    accuracy                           0.99       809\n",
      "   macro avg       0.99      0.67      0.75       809\n",
      "weighted avg       0.99      0.99      0.98       809\n",
      "\n",
      "roc_auc_score : 0.9806152549515381\n",
      "-------------------------------------------------------------\n",
      "sulfur_bearing_compound\n",
      "              precision    recall  f1-score   support\n",
      "\n",
      "           0       0.97      1.00      0.98       778\n",
      "           1       0.75      0.29      0.42        31\n",
      "\n",
      "    accuracy                           0.97       809\n",
      "   macro avg       0.86      0.64      0.70       809\n",
      "weighted avg       0.96      0.97      0.96       809\n",
      "\n",
      "roc_auc_score : 0.9630151753876772\n",
      "-------------------------------------------------------------\n",
      "alcohol\n",
      "              precision    recall  f1-score   support\n",
      "\n",
      "           0       0.98      1.00      0.99       783\n",
      "           1       0.78      0.27      0.40        26\n",
      "\n",
      "    accuracy                           0.97       809\n",
      "   macro avg       0.88      0.63      0.69       809\n",
      "weighted avg       0.97      0.97      0.97       809\n",
      "\n",
      "roc_auc_score : 0.9572158365261813\n",
      "-------------------------------------------------------------\n",
      "other_oxygen_bearing_compound\n",
      "              precision    recall  f1-score   support\n",
      "\n",
      "           0       0.98      1.00      0.99       788\n",
      "           1       1.00      0.14      0.25        21\n",
      "\n",
      "    accuracy                           0.98       809\n",
      "   macro avg       0.99      0.57      0.62       809\n",
      "weighted avg       0.98      0.98      0.97       809\n",
      "\n",
      "roc_auc_score : 0.9568527918781726\n",
      "-------------------------------------------------------------\n",
      "mineral\n",
      "              precision    recall  f1-score   support\n",
      "\n",
      "           0       0.92      0.98      0.95       692\n",
      "           1       0.81      0.48      0.60       117\n",
      "\n",
      "    accuracy                           0.91       809\n",
      "   macro avg       0.86      0.73      0.78       809\n",
      "weighted avg       0.90      0.91      0.90       809\n",
      "\n",
      "roc_auc_score : 0.9472358085074848\n",
      "-------------------------------------------------------------\n"
     ]
    }
   ],
   "source": [
    "from sklearn.metrics import classification_report, roc_auc_score\n",
    "for i in range(9):\n",
    "    y_true_column = train_labels.iloc[:, i+1].values\n",
    "    y_pred_column = y_pred[:, i].round()\n",
    "    \n",
    "    report = classification_report(y_true_column, y_pred_column)\n",
    "    print(f\"{label_names[i]}\")\n",
    "    print(report)\n",
    "    print(f\"roc_auc_score : {roc_auc_score(y_true_column, y_pred[:, i])}\")\n",
    "    print(\"-------------------------------------------------------------\")\n"
   ]
  }
 ],
 "metadata": {
  "kernelspec": {
   "display_name": "Python 3",
   "language": "python",
   "name": "python3"
  },
  "language_info": {
   "codemirror_mode": {
    "name": "ipython",
    "version": 3
   },
   "file_extension": ".py",
   "mimetype": "text/x-python",
   "name": "python",
   "nbconvert_exporter": "python",
   "pygments_lexer": "ipython3",
   "version": "3.10.10"
  },
  "papermill": {
   "default_parameters": {},
   "duration": 18353.802796,
   "end_time": "2023-07-12T14:53:01.585626",
   "environment_variables": {},
   "exception": null,
   "input_path": "__notebook__.ipynb",
   "output_path": "__notebook__.ipynb",
   "parameters": {},
   "start_time": "2023-07-12T09:47:07.782830",
   "version": "2.4.0"
  }
 },
 "nbformat": 4,
 "nbformat_minor": 5
}
