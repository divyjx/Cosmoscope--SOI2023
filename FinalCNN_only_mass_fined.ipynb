{
 "cells": [
  {
   "cell_type": "markdown",
   "id": "b798de14",
   "metadata": {
    "papermill": {
     "duration": 0.006877,
     "end_time": "2023-07-11T17:29:15.801848",
     "exception": false,
     "start_time": "2023-07-11T17:29:15.794971",
     "status": "completed"
    },
    "tags": []
   },
   "source": [
    "## 1. Data Description \n",
    "<ul> \n",
    "<li>there are 809 training examples</li>\n",
    "<li>each of them is dataframe with time, mass , and intensity</li>\n",
    "<li>dataframe lenghts are variable</li>\n",
    "</ul>\n"
   ]
  },
  {
   "cell_type": "code",
   "execution_count": 1,
   "id": "cd4d3b60",
   "metadata": {
    "execution": {
     "iopub.execute_input": "2023-07-11T17:29:15.816643Z",
     "iopub.status.busy": "2023-07-11T17:29:15.815856Z",
     "iopub.status.idle": "2023-07-11T17:29:25.927483Z",
     "shell.execute_reply": "2023-07-11T17:29:25.926430Z"
    },
    "papermill": {
     "duration": 10.121815,
     "end_time": "2023-07-11T17:29:25.929961",
     "exception": false,
     "start_time": "2023-07-11T17:29:15.808146",
     "status": "completed"
    },
    "tags": []
   },
   "outputs": [],
   "source": [
    "import warnings \n",
    "warnings.filterwarnings('ignore')\n",
    "\n",
    "# for processing numbers and files csv\n",
    "import pandas as pd\n",
    "import numpy as np\n",
    "\n",
    "# for visualization\n",
    "import matplotlib.pyplot as plt\n",
    "import seaborn as sns\n",
    "%matplotlib inline\n",
    "\n",
    "# preprocessing \n",
    "from sklearn.preprocessing import MinMaxScaler\n",
    "from sklearn.model_selection import train_test_split\n",
    "from sklearn.metrics import log_loss\n",
    "from sklearn.utils import class_weight\n",
    "\n",
    "\n",
    "# model related\n",
    "from tensorflow.keras.callbacks import EarlyStopping\n",
    "from tensorflow.keras.utils import Sequence\n",
    "from tensorflow.keras.models import Sequential\n",
    "from tensorflow.keras.layers import Conv2D, MaxPooling2D, Flatten, Dense\n",
    "\n",
    "import tensorflow as tf\n"
   ]
  },
  {
   "cell_type": "code",
   "execution_count": 2,
   "id": "5056a1f4",
   "metadata": {
    "execution": {
     "iopub.execute_input": "2023-07-11T17:29:25.945254Z",
     "iopub.status.busy": "2023-07-11T17:29:25.944574Z",
     "iopub.status.idle": "2023-07-11T17:29:25.950052Z",
     "shell.execute_reply": "2023-07-11T17:29:25.949070Z"
    },
    "papermill": {
     "duration": 0.015637,
     "end_time": "2023-07-11T17:29:25.952239",
     "exception": false,
     "start_time": "2023-07-11T17:29:25.936602",
     "status": "completed"
    },
    "tags": []
   },
   "outputs": [],
   "source": [
    "#for gpu\n",
    "\n",
    "# gpus = tf.config.experimental.list_physical_devices('GPU')\n",
    "# for gpu in gpus:\n",
    "#     print(\"Name:\", gpu.name, \"  Type:\", gpu.device_type)\n",
    "\n",
    "# from tensorflow.python.client import device_lib\n",
    "\n",
    "# print(device_lib.list_local_devices())\n",
    "\n",
    "# tf.test.is_gpu_available()"
   ]
  },
  {
   "cell_type": "code",
   "execution_count": 3,
   "id": "7a28364c",
   "metadata": {
    "execution": {
     "iopub.execute_input": "2023-07-11T17:29:25.966931Z",
     "iopub.status.busy": "2023-07-11T17:29:25.966258Z",
     "iopub.status.idle": "2023-07-11T17:29:25.971039Z",
     "shell.execute_reply": "2023-07-11T17:29:25.970136Z"
    },
    "papermill": {
     "duration": 0.014674,
     "end_time": "2023-07-11T17:29:25.973142",
     "exception": false,
     "start_time": "2023-07-11T17:29:25.958468",
     "status": "completed"
    },
    "tags": []
   },
   "outputs": [],
   "source": [
    "# for working in kaggle use this paths\n",
    "kag_path_in = \"/kaggle/input/mars-spec-train/\"\n",
    "kag_path_out = \"/kaggle/working/\"\n",
    "\n",
    "\n",
    "# kag_path_in = \"\"\n",
    "# kag_path_out = \"\""
   ]
  },
  {
   "cell_type": "code",
   "execution_count": 4,
   "id": "cf50df04",
   "metadata": {
    "execution": {
     "iopub.execute_input": "2023-07-11T17:29:25.987450Z",
     "iopub.status.busy": "2023-07-11T17:29:25.986828Z",
     "iopub.status.idle": "2023-07-11T17:29:26.024137Z",
     "shell.execute_reply": "2023-07-11T17:29:26.022868Z"
    },
    "papermill": {
     "duration": 0.047015,
     "end_time": "2023-07-11T17:29:26.026601",
     "exception": false,
     "start_time": "2023-07-11T17:29:25.979586",
     "status": "completed"
    },
    "tags": []
   },
   "outputs": [],
   "source": [
    "# metadata = pd.read_csv('/kaggle/input/mars-spec-train/metadata.csv').fillna(0)\n",
    "# train_labels = pd.read_csv('/kaggle/input/mars-spec-train/train_labels.csv')\n",
    "metadata = pd.read_csv(kag_path_in+'metadata.csv').fillna(0)\n",
    "train_labels = pd.read_csv(kag_path_in+'train_labels.csv')"
   ]
  },
  {
   "cell_type": "markdown",
   "id": "8c0f72c3",
   "metadata": {
    "papermill": {
     "duration": 0.006041,
     "end_time": "2023-07-11T17:29:26.039061",
     "exception": false,
     "start_time": "2023-07-11T17:29:26.033020",
     "status": "completed"
    },
    "tags": []
   },
   "source": [
    "## 2. Preprocessing and Feature extraction\n",
    "<ul>\n",
    "<li>mass values are grouped into values seperated by 0.50 </li>\n",
    "<li>time values are grouped into values seperated by 0.02 </li>\n",
    "<li>Time * Mass matrix (2650,1350) with Intensity values </li>\n",
    "</ul>"
   ]
  },
  {
   "cell_type": "code",
   "execution_count": 5,
   "id": "1d7e76f6",
   "metadata": {
    "execution": {
     "iopub.execute_input": "2023-07-11T17:29:26.053530Z",
     "iopub.status.busy": "2023-07-11T17:29:26.052642Z",
     "iopub.status.idle": "2023-07-11T17:29:26.057547Z",
     "shell.execute_reply": "2023-07-11T17:29:26.056649Z"
    },
    "papermill": {
     "duration": 0.0143,
     "end_time": "2023-07-11T17:29:26.059716",
     "exception": false,
     "start_time": "2023-07-11T17:29:26.045416",
     "status": "completed"
    },
    "tags": []
   },
   "outputs": [],
   "source": [
    "# constants\n",
    "num_mass_values = 1350\n",
    "num_time_values = 2650\n",
    "matrix_shape = (num_time_values, num_mass_values)"
   ]
  },
  {
   "cell_type": "code",
   "execution_count": 6,
   "id": "b0771e0c",
   "metadata": {
    "execution": {
     "iopub.execute_input": "2023-07-11T17:29:26.073773Z",
     "iopub.status.busy": "2023-07-11T17:29:26.073015Z",
     "iopub.status.idle": "2023-07-11T17:29:26.080684Z",
     "shell.execute_reply": "2023-07-11T17:29:26.079786Z"
    },
    "papermill": {
     "duration": 0.016845,
     "end_time": "2023-07-11T17:29:26.082755",
     "exception": false,
     "start_time": "2023-07-11T17:29:26.065910",
     "status": "completed"
    },
    "tags": []
   },
   "outputs": [],
   "source": [
    "\n",
    "# Function to create the Time X Mass matrix for a single data sample\n",
    "def create_matrix(id):\n",
    "    \n",
    "    sample_id, split, derivate, path, _ = metadata.iloc[id]\n",
    "    data = pd.read_csv(kag_path_in+path)\n",
    "\n",
    "    label = None\n",
    "    if (split == 'train'):\n",
    "        label = train_labels.iloc[id].values[1:]\n",
    "\n",
    "    # discretization of time and mass\n",
    "    data.time = (data.time*50).round()\n",
    "    data.mass = (data.mass*2).round()\n",
    "    data.time = data.time.astype(int)\n",
    "    data.mass = data.mass.astype(int)\n",
    "    \n",
    "    # scaling intensity\n",
    "    data.intensity = MinMaxScaler().fit_transform(data.intensity.values.reshape(-1, 1))\n",
    "    \n",
    "    # filling matrix\n",
    "    matrix = np.zeros(matrix_shape)\n",
    "    matrix[data['time'],data['mass']] = data['intensity']\n",
    "\n",
    "    return matrix , label\n"
   ]
  },
  {
   "cell_type": "markdown",
   "id": "a52212d2",
   "metadata": {
    "papermill": {
     "duration": 0.00613,
     "end_time": "2023-07-11T17:29:26.094975",
     "exception": false,
     "start_time": "2023-07-11T17:29:26.088845",
     "status": "completed"
    },
    "tags": []
   },
   "source": [
    "## 3. Data Generation\n",
    "<ul>\n",
    "<li>Storing data matrix is costly</li>\n",
    "<li>data is generated in batches</li>\n",
    "</ul>\n"
   ]
  },
  {
   "cell_type": "code",
   "execution_count": 7,
   "id": "2774a78d",
   "metadata": {
    "execution": {
     "iopub.execute_input": "2023-07-11T17:29:26.108907Z",
     "iopub.status.busy": "2023-07-11T17:29:26.107936Z",
     "iopub.status.idle": "2023-07-11T17:29:26.114004Z",
     "shell.execute_reply": "2023-07-11T17:29:26.113123Z"
    },
    "papermill": {
     "duration": 0.015156,
     "end_time": "2023-07-11T17:29:26.116068",
     "exception": false,
     "start_time": "2023-07-11T17:29:26.100912",
     "status": "completed"
    },
    "tags": []
   },
   "outputs": [],
   "source": [
    "training_data = range(809)  # Load your training data\n",
    "train_data, val_data = train_test_split(training_data, test_size=0.2, random_state=28)\n"
   ]
  },
  {
   "cell_type": "code",
   "execution_count": 8,
   "id": "69b50a7a",
   "metadata": {
    "execution": {
     "iopub.execute_input": "2023-07-11T17:29:26.130025Z",
     "iopub.status.busy": "2023-07-11T17:29:26.129220Z",
     "iopub.status.idle": "2023-07-11T17:29:26.138390Z",
     "shell.execute_reply": "2023-07-11T17:29:26.137533Z"
    },
    "papermill": {
     "duration": 0.017979,
     "end_time": "2023-07-11T17:29:26.140308",
     "exception": false,
     "start_time": "2023-07-11T17:29:26.122329",
     "status": "completed"
    },
    "tags": []
   },
   "outputs": [],
   "source": [
    "class DataGenerator(Sequence):\n",
    "    def __init__(self, data, batch_size):\n",
    "        self.data = data\n",
    "        self.batch_size = batch_size\n",
    "    def __len__(self):\n",
    "        return len(self.data) // self.batch_size\n",
    "\n",
    "    def __getitem__(self, idx):        \n",
    "        \n",
    "        low = idx * self.batch_size\n",
    "        high = min(low + self.batch_size, len(self.data))\n",
    "        batch_x = []\n",
    "        batch_y = []\n",
    "\n",
    "        for i,data_sample in enumerate(self.data[low:high]):\n",
    "            processed_sample, processed_label = self.preprocess_data(data_sample)\n",
    "            batch_x.append(processed_sample)\n",
    "            batch_y.append(processed_label)\n",
    "        return np.array(batch_x), np.array(batch_y)\n",
    "\n",
    "    def preprocess_data(self, data_sample):\n",
    "        matrix, label = create_matrix(data_sample)\n",
    "        if type(label) == np.ndarray:\n",
    "            label = np.array(label).astype(int)\n",
    "        return matrix , label\n"
   ]
  },
  {
   "cell_type": "code",
   "execution_count": 9,
   "id": "369e7245",
   "metadata": {
    "execution": {
     "iopub.execute_input": "2023-07-11T17:29:26.155638Z",
     "iopub.status.busy": "2023-07-11T17:29:26.154761Z",
     "iopub.status.idle": "2023-07-11T17:29:26.948957Z",
     "shell.execute_reply": "2023-07-11T17:29:26.947976Z"
    },
    "papermill": {
     "duration": 0.804488,
     "end_time": "2023-07-11T17:29:26.951538",
     "exception": false,
     "start_time": "2023-07-11T17:29:26.147050",
     "status": "completed"
    },
    "tags": []
   },
   "outputs": [
    {
     "data": {
      "text/plain": [
       "(array([[[0., 0., 0., ..., 0., 0., 0.],\n",
       "         [0., 0., 0., ..., 0., 0., 0.],\n",
       "         [0., 0., 0., ..., 0., 0., 0.],\n",
       "         ...,\n",
       "         [0., 0., 0., ..., 0., 0., 0.],\n",
       "         [0., 0., 0., ..., 0., 0., 0.],\n",
       "         [0., 0., 0., ..., 0., 0., 0.]],\n",
       " \n",
       "        [[0., 0., 0., ..., 0., 0., 0.],\n",
       "         [0., 0., 0., ..., 0., 0., 0.],\n",
       "         [0., 0., 0., ..., 0., 0., 0.],\n",
       "         ...,\n",
       "         [0., 0., 0., ..., 0., 0., 0.],\n",
       "         [0., 0., 0., ..., 0., 0., 0.],\n",
       "         [0., 0., 0., ..., 0., 0., 0.]]]),\n",
       " array([[0, 0, 0, 0, 0, 0, 0, 0, 0],\n",
       "        [1, 0, 1, 1, 0, 1, 1, 0, 0]]))"
      ]
     },
     "execution_count": 9,
     "metadata": {},
     "output_type": "execute_result"
    }
   ],
   "source": [
    "a = DataGenerator([2,1,32,13,132,122,90,91,7,9],4)\n",
    "a[2]"
   ]
  },
  {
   "cell_type": "markdown",
   "id": "76669a02",
   "metadata": {
    "papermill": {
     "duration": 0.006576,
     "end_time": "2023-07-11T17:29:26.964859",
     "exception": false,
     "start_time": "2023-07-11T17:29:26.958283",
     "status": "completed"
    },
    "tags": []
   },
   "source": [
    "## 4. Model\n",
    "<ul>\n",
    "<li>convolutional layers </li>\n",
    "<li>pooling layers (max pooling) </li>\n",
    "<li>fully connected layers</li>\n",
    "<li>sigmoid layer</li>\n",
    "<li>output positive label probability</li>\n",
    "</ul>"
   ]
  },
  {
   "cell_type": "code",
   "execution_count": 10,
   "id": "1a62e27a",
   "metadata": {
    "execution": {
     "iopub.execute_input": "2023-07-11T17:29:26.978933Z",
     "iopub.status.busy": "2023-07-11T17:29:26.978639Z",
     "iopub.status.idle": "2023-07-11T17:29:26.983145Z",
     "shell.execute_reply": "2023-07-11T17:29:26.982248Z"
    },
    "papermill": {
     "duration": 0.013701,
     "end_time": "2023-07-11T17:29:26.985337",
     "exception": false,
     "start_time": "2023-07-11T17:29:26.971636",
     "status": "completed"
    },
    "tags": []
   },
   "outputs": [],
   "source": [
    "label_names = [col for col in train_labels.columns[1:]]"
   ]
  },
  {
   "cell_type": "code",
   "execution_count": 11,
   "id": "92dbf438",
   "metadata": {
    "execution": {
     "iopub.execute_input": "2023-07-11T17:29:27.000533Z",
     "iopub.status.busy": "2023-07-11T17:29:27.000249Z",
     "iopub.status.idle": "2023-07-11T17:29:27.005030Z",
     "shell.execute_reply": "2023-07-11T17:29:27.003960Z"
    },
    "papermill": {
     "duration": 0.01579,
     "end_time": "2023-07-11T17:29:27.007449",
     "exception": false,
     "start_time": "2023-07-11T17:29:26.991659",
     "status": "completed"
    },
    "tags": []
   },
   "outputs": [],
   "source": [
    "# contants\n",
    "label_number = 1\n",
    "batch_size = 8\n",
    "num_epochs = 32\n",
    "model = None\n",
    "history = None"
   ]
  },
  {
   "cell_type": "code",
   "execution_count": 12,
   "id": "c333ebe7",
   "metadata": {
    "execution": {
     "iopub.execute_input": "2023-07-11T17:29:27.021883Z",
     "iopub.status.busy": "2023-07-11T17:29:27.021587Z",
     "iopub.status.idle": "2023-07-11T17:29:30.284539Z",
     "shell.execute_reply": "2023-07-11T17:29:30.283738Z"
    },
    "papermill": {
     "duration": 3.283287,
     "end_time": "2023-07-11T17:29:30.297194",
     "exception": false,
     "start_time": "2023-07-11T17:29:27.013907",
     "status": "completed"
    },
    "tags": []
   },
   "outputs": [
    {
     "name": "stdout",
     "output_type": "stream",
     "text": [
      "Model: \"sequential\"\n",
      "_________________________________________________________________\n",
      " Layer (type)                Output Shape              Param #   \n",
      "=================================================================\n",
      " conv2d (Conv2D)             (None, 2641, 1341, 16)    1616      \n",
      "                                                                 \n",
      " max_pooling2d (MaxPooling2D  (None, 17, 335, 16)      0         \n",
      " )                                                               \n",
      "                                                                 \n",
      " flatten (Flatten)           (None, 91120)             0         \n",
      "                                                                 \n",
      " dense (Dense)               (None, 64)                5831744   \n",
      "                                                                 \n",
      " dense_1 (Dense)             (None, 9)                 585       \n",
      "                                                                 \n",
      "=================================================================\n",
      "Total params: 5,833,945\n",
      "Trainable params: 5,833,945\n",
      "Non-trainable params: 0\n",
      "_________________________________________________________________\n"
     ]
    }
   ],
   "source": [
    "model = Sequential()\n",
    "\n",
    "model.add(Conv2D(16, kernel_size=(10, 10), activation='relu', input_shape=(2650, 1350, 1)))\n",
    "model.add(MaxPooling2D(pool_size=(150, 4)))\n",
    "\n",
    "model.add(Flatten())\n",
    "\n",
    "model.add(Dense(64, activation='relu'))\n",
    "model.add(Dense(9, activation='sigmoid'))  # Output layer for binary classification\n",
    "\n",
    "model.compile(loss='binary_crossentropy', optimizer='adam', metrics=['AUC'])\n",
    "\n",
    "# Create instances of the custom data generator for training and validation \n",
    "train_data_generator = DataGenerator(train_data, batch_size)\n",
    "val_data_generator = DataGenerator(val_data, batch_size)\n",
    "\n",
    "model.summary()"
   ]
  },
  {
   "cell_type": "code",
   "execution_count": 13,
   "id": "d6e61d6c",
   "metadata": {
    "execution": {
     "iopub.execute_input": "2023-07-11T17:29:30.314700Z",
     "iopub.status.busy": "2023-07-11T17:29:30.314373Z",
     "iopub.status.idle": "2023-07-11T18:42:37.184442Z",
     "shell.execute_reply": "2023-07-11T18:42:37.182044Z"
    },
    "papermill": {
     "duration": 4386.97671,
     "end_time": "2023-07-11T18:42:37.281910",
     "exception": false,
     "start_time": "2023-07-11T17:29:30.305200",
     "status": "completed"
    },
    "tags": []
   },
   "outputs": [
    {
     "name": "stdout",
     "output_type": "stream",
     "text": [
      "Epoch 1/32\n",
      "80/80 [==============================] - 359s 4s/step - loss: 0.3005 - auc: 0.7708 - val_loss: 0.2232 - val_auc: 0.8802\n",
      "Epoch 2/32\n",
      "80/80 [==============================] - 333s 4s/step - loss: 0.1921 - auc: 0.9171 - val_loss: 0.1975 - val_auc: 0.9116\n",
      "Epoch 3/32\n",
      "80/80 [==============================] - 302s 4s/step - loss: 0.1548 - auc: 0.9508 - val_loss: 0.1943 - val_auc: 0.9169\n",
      "Epoch 4/32\n",
      "80/80 [==============================] - 311s 4s/step - loss: 0.1321 - auc: 0.9678 - val_loss: 0.1985 - val_auc: 0.9174\n",
      "Epoch 5/32\n",
      "80/80 [==============================] - 287s 4s/step - loss: 0.1185 - auc: 0.9754 - val_loss: 0.2049 - val_auc: 0.9229\n",
      "Epoch 6/32\n",
      "80/80 [==============================] - 325s 4s/step - loss: 0.1080 - auc: 0.9798 - val_loss: 0.2067 - val_auc: 0.9228\n",
      "Epoch 7/32\n",
      "80/80 [==============================] - 310s 4s/step - loss: 0.0949 - auc: 0.9843 - val_loss: 0.2274 - val_auc: 0.9113\n",
      "Epoch 8/32\n",
      "80/80 [==============================] - 319s 4s/step - loss: 0.0889 - auc: 0.9858 - val_loss: 0.2297 - val_auc: 0.9153\n",
      "Epoch 9/32\n",
      "80/80 [==============================] - 317s 4s/step - loss: 0.0842 - auc: 0.9875 - val_loss: 0.2183 - val_auc: 0.9256\n",
      "Epoch 10/32\n",
      "80/80 [==============================] - 347s 4s/step - loss: 0.0787 - auc: 0.9892 - val_loss: 0.2490 - val_auc: 0.9152\n",
      "Epoch 11/32\n",
      "80/80 [==============================] - 312s 4s/step - loss: 0.0734 - auc: 0.9905 - val_loss: 0.2328 - val_auc: 0.9240\n",
      "Epoch 12/32\n",
      "80/80 [==============================] - 323s 4s/step - loss: 0.0658 - auc: 0.9924 - val_loss: 0.2422 - val_auc: 0.9288\n",
      "Epoch 13/32\n",
      "80/80 [==============================] - 319s 4s/step - loss: 0.0636 - auc: 0.9931 - val_loss: 0.2725 - val_auc: 0.9126\n"
     ]
    }
   ],
   "source": [
    "es = EarlyStopping(monitor = 'val_loss', patience = 10, restore_best_weights = True  )\n",
    "history = model.fit(train_data_generator, epochs=num_epochs, validation_data=val_data_generator, callbacks=[es],verbose = 1)"
   ]
  },
  {
   "cell_type": "code",
   "execution_count": 14,
   "id": "5ffdf194",
   "metadata": {
    "execution": {
     "iopub.execute_input": "2023-07-11T18:42:37.467904Z",
     "iopub.status.busy": "2023-07-11T18:42:37.466855Z",
     "iopub.status.idle": "2023-07-11T18:42:37.661308Z",
     "shell.execute_reply": "2023-07-11T18:42:37.660333Z"
    },
    "papermill": {
     "duration": 0.292549,
     "end_time": "2023-07-11T18:42:37.663817",
     "exception": false,
     "start_time": "2023-07-11T18:42:37.371268",
     "status": "completed"
    },
    "tags": []
   },
   "outputs": [],
   "source": [
    "model.save(\"model.keras\")"
   ]
  },
  {
   "cell_type": "markdown",
   "id": "8c34e593",
   "metadata": {
    "papermill": {
     "duration": 0.087655,
     "end_time": "2023-07-11T18:42:37.839711",
     "exception": false,
     "start_time": "2023-07-11T18:42:37.752056",
     "status": "completed"
    },
    "tags": []
   },
   "source": [
    "## 5. Performance \n",
    "<ul>\n",
    "<li>train and validation losses</li>\n",
    "</ul>"
   ]
  },
  {
   "cell_type": "code",
   "execution_count": 15,
   "id": "92a05839",
   "metadata": {
    "execution": {
     "iopub.execute_input": "2023-07-11T18:42:38.027265Z",
     "iopub.status.busy": "2023-07-11T18:42:38.025490Z",
     "iopub.status.idle": "2023-07-11T18:42:40.759240Z",
     "shell.execute_reply": "2023-07-11T18:42:40.758052Z"
    },
    "papermill": {
     "duration": 2.829959,
     "end_time": "2023-07-11T18:42:40.761681",
     "exception": false,
     "start_time": "2023-07-11T18:42:37.931722",
     "status": "completed"
    },
    "tags": []
   },
   "outputs": [
    {
     "data": {
      "image/png": "[encoded data removed]",
      "text/plain": [
       "<Figure size 640x480 with 1 Axes>"
      ]
     },
     "metadata": {},
     "output_type": "display_data"
    }
   ],
   "source": [
    "train_loss = history.history['loss']\n",
    "val_loss = history.history['val_loss']\n",
    "epochs = range(1, len(train_loss) + 1)\n",
    "\n",
    "plt.plot(epochs, train_loss, 'b', label='Training Loss')\n",
    "plt.plot(epochs, val_loss, 'r', label='Validation Loss')\n",
    "plt.title('Training and Validation Loss')\n",
    "plt.xlabel('Epochs')\n",
    "plt.ylabel('Loss')\n",
    "plt.legend()\n",
    "plt.show()\n",
    "\n"
   ]
  },
  {
   "cell_type": "code",
   "execution_count": 16,
   "id": "3cda465b",
   "metadata": {
    "execution": {
     "iopub.execute_input": "2023-07-11T18:42:40.960960Z",
     "iopub.status.busy": "2023-07-11T18:42:40.960562Z",
     "iopub.status.idle": "2023-07-11T18:47:30.026525Z",
     "shell.execute_reply": "2023-07-11T18:47:30.025381Z"
    },
    "papermill": {
     "duration": 289.169197,
     "end_time": "2023-07-11T18:47:30.030518",
     "exception": false,
     "start_time": "2023-07-11T18:42:40.861321",
     "status": "completed"
    },
    "tags": []
   },
   "outputs": [],
   "source": [
    "y_pred = model.predict(DataGenerator(range(809),1), verbose = 0)"
   ]
  },
  {
   "cell_type": "markdown",
   "id": "958df00d",
   "metadata": {
    "papermill": {
     "duration": 0.093894,
     "end_time": "2023-07-11T18:47:30.221837",
     "exception": false,
     "start_time": "2023-07-11T18:47:30.127943",
     "status": "completed"
    },
    "tags": []
   },
   "source": [
    "### Classification Reports"
   ]
  },
  {
   "cell_type": "code",
   "execution_count": 17,
   "id": "2af18c8b",
   "metadata": {
    "execution": {
     "iopub.execute_input": "2023-07-11T18:47:30.423575Z",
     "iopub.status.busy": "2023-07-11T18:47:30.423201Z",
     "iopub.status.idle": "2023-07-11T18:47:30.605490Z",
     "shell.execute_reply": "2023-07-11T18:47:30.604485Z"
    },
    "papermill": {
     "duration": 0.282165,
     "end_time": "2023-07-11T18:47:30.608390",
     "exception": false,
     "start_time": "2023-07-11T18:47:30.326225",
     "status": "completed"
    },
    "tags": []
   },
   "outputs": [
    {
     "name": "stdout",
     "output_type": "stream",
     "text": [
      "aromatic\n",
      "              precision    recall  f1-score   support\n",
      "\n",
      "           0       0.94      0.98      0.96       730\n",
      "           1       0.73      0.44      0.55        79\n",
      "\n",
      "    accuracy                           0.93       809\n",
      "   macro avg       0.84      0.71      0.76       809\n",
      "weighted avg       0.92      0.93      0.92       809\n",
      "\n",
      "roc_auc_score : 0.9512398127275881\n",
      "-------------------------------------------------------------\n",
      "hydrocarbon\n",
      "              precision    recall  f1-score   support\n",
      "\n",
      "           0       0.92      0.98      0.95       544\n",
      "           1       0.95      0.83      0.88       265\n",
      "\n",
      "    accuracy                           0.93       809\n",
      "   macro avg       0.93      0.90      0.92       809\n",
      "weighted avg       0.93      0.93      0.93       809\n",
      "\n",
      "roc_auc_score : 0.9638942841287457\n",
      "-------------------------------------------------------------\n",
      "carboxylic_acid\n",
      "              precision    recall  f1-score   support\n",
      "\n",
      "           0       0.95      0.97      0.96       694\n",
      "           1       0.80      0.72      0.76       115\n",
      "\n",
      "    accuracy                           0.93       809\n",
      "   macro avg       0.88      0.85      0.86       809\n",
      "weighted avg       0.93      0.93      0.93       809\n",
      "\n",
      "roc_auc_score : 0.9559203107380028\n",
      "-------------------------------------------------------------\n",
      "nitrogen_bearing_compound\n",
      "              precision    recall  f1-score   support\n",
      "\n",
      "           0       0.95      0.95      0.95       713\n",
      "           1       0.63      0.60      0.62        96\n",
      "\n",
      "    accuracy                           0.91       809\n",
      "   macro avg       0.79      0.78      0.78       809\n",
      "weighted avg       0.91      0.91      0.91       809\n",
      "\n",
      "roc_auc_score : 0.9468793828892006\n",
      "-------------------------------------------------------------\n",
      "chlorine_bearing_compound\n",
      "              precision    recall  f1-score   support\n",
      "\n",
      "           0       0.98      1.00      0.99       791\n",
      "           1       1.00      0.11      0.20        18\n",
      "\n",
      "    accuracy                           0.98       809\n",
      "   macro avg       0.99      0.56      0.59       809\n",
      "weighted avg       0.98      0.98      0.97       809\n",
      "\n",
      "roc_auc_score : 0.9358055906728473\n",
      "-------------------------------------------------------------\n",
      "sulfur_bearing_compound\n",
      "              precision    recall  f1-score   support\n",
      "\n",
      "           0       0.96      1.00      0.98       778\n",
      "           1       1.00      0.03      0.06        31\n",
      "\n",
      "    accuracy                           0.96       809\n",
      "   macro avg       0.98      0.52      0.52       809\n",
      "weighted avg       0.96      0.96      0.95       809\n",
      "\n",
      "roc_auc_score : 0.9433203416535367\n",
      "-------------------------------------------------------------\n",
      "alcohol\n",
      "              precision    recall  f1-score   support\n",
      "\n",
      "           0       0.97      1.00      0.98       783\n",
      "           1       0.00      0.00      0.00        26\n",
      "\n",
      "    accuracy                           0.97       809\n",
      "   macro avg       0.48      0.50      0.49       809\n",
      "weighted avg       0.94      0.97      0.95       809\n",
      "\n",
      "roc_auc_score : 0.9522546419098145\n",
      "-------------------------------------------------------------\n",
      "other_oxygen_bearing_compound\n",
      "              precision    recall  f1-score   support\n",
      "\n",
      "           0       0.98      1.00      0.99       788\n",
      "           1       0.50      0.05      0.09        21\n",
      "\n",
      "    accuracy                           0.97       809\n",
      "   macro avg       0.74      0.52      0.54       809\n",
      "weighted avg       0.96      0.97      0.96       809\n",
      "\n",
      "roc_auc_score : 0.9559463379260333\n",
      "-------------------------------------------------------------\n",
      "mineral\n",
      "              precision    recall  f1-score   support\n",
      "\n",
      "           0       0.94      0.94      0.94       692\n",
      "           1       0.63      0.62      0.63       117\n",
      "\n",
      "    accuracy                           0.89       809\n",
      "   macro avg       0.79      0.78      0.78       809\n",
      "weighted avg       0.89      0.89      0.89       809\n",
      "\n",
      "roc_auc_score : 0.943271083444494\n",
      "-------------------------------------------------------------\n"
     ]
    }
   ],
   "source": [
    "from sklearn.metrics import classification_report, roc_auc_score\n",
    "for i in range(9):\n",
    "    y_true_column = train_labels.iloc[:, i+1].values\n",
    "    y_pred_column = y_pred[:, i].round()\n",
    "    \n",
    "    report = classification_report(y_true_column, y_pred_column)\n",
    "    print(f\"{label_names[i]}\")\n",
    "    print(report)\n",
    "    print(f\"roc_auc_score : {roc_auc_score(y_true_column, y_pred[:, i])}\")\n",
    "    print(\"-------------------------------------------------------------\")\n"
   ]
  }
 ],
 "metadata": {
  "kernelspec": {
   "display_name": "Python 3",
   "language": "python",
   "name": "python3"
  },
  "language_info": {
   "codemirror_mode": {
    "name": "ipython",
    "version": 3
   },
   "file_extension": ".py",
   "mimetype": "text/x-python",
   "name": "python",
   "nbconvert_exporter": "python",
   "pygments_lexer": "ipython3",
   "version": "3.10.10"
  },
  "papermill": {
   "default_parameters": {},
   "duration": 4710.322326,
   "end_time": "2023-07-11T18:47:34.088727",
   "environment_variables": {},
   "exception": null,
   "input_path": "__notebook__.ipynb",
   "output_path": "__notebook__.ipynb",
   "parameters": {},
   "start_time": "2023-07-11T17:29:03.766401",
   "version": "2.4.0"
  }
 },
 "nbformat": 4,
 "nbformat_minor": 5
}
