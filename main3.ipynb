{
 "cells": [
  {
   "cell_type": "markdown",
   "metadata": {},
   "source": [
    "### packages"
   ]
  },
  {
   "cell_type": "code",
   "execution_count": 1,
   "metadata": {},
   "outputs": [],
   "source": [
    "# imports\n",
    "import pandas as pd\n",
    "import numpy as np\n",
    "import matplotlib.pyplot as plt\n",
    "import seaborn as sns\n",
    "%matplotlib inline\n",
    "import copy\n",
    "from scipy.signal import find_peaks\n",
    "\n"
   ]
  },
  {
   "cell_type": "markdown",
   "metadata": {},
   "source": [
    "## data exploration"
   ]
  },
  {
   "cell_type": "code",
   "execution_count": 2,
   "metadata": {},
   "outputs": [],
   "source": [
    "data_info = pd.read_csv(\"./metadata.csv\")\n",
    "data_info = data_info.fillna(0)\n",
    "# data_info"
   ]
  },
  {
   "cell_type": "code",
   "execution_count": 3,
   "metadata": {},
   "outputs": [],
   "source": [
    "# for sample S0000 - first sample\n",
    "data_info_train = data_info.loc[data_info.split=='train']\n",
    "data_info_test = data_info.loc[data_info.split=='val']\n"
   ]
  },
  {
   "cell_type": "code",
   "execution_count": 4,
   "metadata": {},
   "outputs": [],
   "source": [
    "data_label = pd.read_csv('./train_labels.csv')"
   ]
  },
  {
   "cell_type": "markdown",
   "metadata": {},
   "source": [
    "This is the label count of label dataset"
   ]
  },
  {
   "cell_type": "code",
   "execution_count": 5,
   "metadata": {},
   "outputs": [
    {
     "name": "stdout",
     "output_type": "stream",
     "text": [
      "output                                              0    1         \n",
      "\n",
      "aromatic                                           [730  79]\n",
      "hydrocarbon                                        [544 265]\n",
      "carboxylic_acid                                    [694 115]\n",
      "nitrogen_bearing_compound                          [713  96]\n",
      "chlorine_bearing_compound                          [791  18]\n",
      "sulfur_bearing_compound                            [778  31]\n",
      "alcohol                                            [783  26]\n",
      "other_oxygen_bearing_compound                      [788  21]\n",
      "mineral                                            [692 117]\n"
     ]
    }
   ],
   "source": [
    "print(\"output\".ljust(50) , \" 0\".ljust(5), \"1\".ljust(10))\n",
    "print()\n",
    "for cols in data_label.columns[1:]:\n",
    "    print(str(cols).ljust(50) , np.array(data_label[cols].value_counts()))\n"
   ]
  },
  {
   "cell_type": "code",
   "execution_count": null,
   "metadata": {},
   "outputs": [],
   "source": [
    "label_names = ['sample_id', 'aromatic', 'hydrocarbon', 'carboxylic_acid',\n",
    "       'nitrogen_bearing_compound', 'chlorine_bearing_compound',\n",
    "       'sulfur_bearing_compound', 'alcohol', 'other_oxygen_bearing_compound',\n",
    "       'mineral']"
   ]
  },
  {
   "cell_type": "code",
   "execution_count": 62,
   "metadata": {},
   "outputs": [],
   "source": [
    "def plot_peaks(df):\n",
    "    x = df.mass.values\n",
    "    y = df.intensity.values\n",
    "    #Find peaks\n",
    "    peaks = find_peaks(y, height = 1e6, threshold = 1, distance = 1)\n",
    "    height = peaks[1]['peak_heights'] #list of the heights of the peaks\n",
    "    peak_pos = x[peaks[0]] #list of the peaks positions\n",
    "    #Finding the minima\n",
    "    y2 = y*-1\n",
    "    minima = find_peaks(y2)\n",
    "    min_pos = x[minima[0]] #list of the minima positions\n",
    "    min_height = y2[minima[0]] #list of the mirrored minima heights\n",
    "    #Plotting\n",
    "    print(len(peaks[0] ), len(df))\n",
    "    fig = plt.figure()\n",
    "    ax = fig.subplots()\n",
    "    ax.plot(x,y)\n",
    "    ax.scatter(peak_pos, height, color = 'r', s = 15, marker = 'D', label = 'Maxima')\n",
    "    ax.scatter(min_pos, min_height*-1, color = 'gold', s = 15, marker = 'X', label = 'Minima')\n",
    "    ax.legend()\n",
    "    ax.grid()\n",
    "    plt.show()"
   ]
  },
  {
   "cell_type": "code",
   "execution_count": 63,
   "metadata": {},
   "outputs": [],
   "source": [
    "# see one sample\n",
    "path = \"train_features/S0002.csv\"\n",
    "df = pd.read_csv(path)"
   ]
  },
  {
   "cell_type": "code",
   "execution_count": 64,
   "metadata": {},
   "outputs": [
    {
     "data": {
      "text/html": [
       "<div>\n",
       "<style scoped>\n",
       "    .dataframe tbody tr th:only-of-type {\n",
       "        vertical-align: middle;\n",
       "    }\n",
       "\n",
       "    .dataframe tbody tr th {\n",
       "        vertical-align: top;\n",
       "    }\n",
       "\n",
       "    .dataframe thead th {\n",
       "        text-align: right;\n",
       "    }\n",
       "</style>\n",
       "<table border=\"1\" class=\"dataframe\">\n",
       "  <thead>\n",
       "    <tr style=\"text-align: right;\">\n",
       "      <th></th>\n",
       "      <th>mass</th>\n",
       "      <th>time</th>\n",
       "      <th>intensity</th>\n",
       "    </tr>\n",
       "  </thead>\n",
       "  <tbody>\n",
       "    <tr>\n",
       "      <th>174</th>\n",
       "      <td>207</td>\n",
       "      <td>24.410630</td>\n",
       "      <td>4.873696e+07</td>\n",
       "    </tr>\n",
       "    <tr>\n",
       "      <th>10</th>\n",
       "      <td>43</td>\n",
       "      <td>21.408220</td>\n",
       "      <td>4.365043e+07</td>\n",
       "    </tr>\n",
       "    <tr>\n",
       "      <th>11</th>\n",
       "      <td>44</td>\n",
       "      <td>25.325723</td>\n",
       "      <td>2.385284e+07</td>\n",
       "    </tr>\n",
       "    <tr>\n",
       "      <th>6</th>\n",
       "      <td>39</td>\n",
       "      <td>21.695585</td>\n",
       "      <td>1.992874e+07</td>\n",
       "    </tr>\n",
       "    <tr>\n",
       "      <th>24</th>\n",
       "      <td>57</td>\n",
       "      <td>22.089827</td>\n",
       "      <td>1.168163e+07</td>\n",
       "    </tr>\n",
       "    <tr>\n",
       "      <th>...</th>\n",
       "      <td>...</td>\n",
       "      <td>...</td>\n",
       "      <td>...</td>\n",
       "    </tr>\n",
       "    <tr>\n",
       "      <th>478</th>\n",
       "      <td>511</td>\n",
       "      <td>22.010174</td>\n",
       "      <td>8.959544e+02</td>\n",
       "    </tr>\n",
       "    <tr>\n",
       "      <th>477</th>\n",
       "      <td>510</td>\n",
       "      <td>21.870681</td>\n",
       "      <td>8.876229e+02</td>\n",
       "    </tr>\n",
       "    <tr>\n",
       "      <th>495</th>\n",
       "      <td>528</td>\n",
       "      <td>21.937428</td>\n",
       "      <td>8.775625e+02</td>\n",
       "    </tr>\n",
       "    <tr>\n",
       "      <th>493</th>\n",
       "      <td>526</td>\n",
       "      <td>21.605269</td>\n",
       "      <td>8.110074e+02</td>\n",
       "    </tr>\n",
       "    <tr>\n",
       "      <th>492</th>\n",
       "      <td>525</td>\n",
       "      <td>22.001225</td>\n",
       "      <td>8.041710e+02</td>\n",
       "    </tr>\n",
       "  </tbody>\n",
       "</table>\n",
       "<p>502 rows × 3 columns</p>\n",
       "</div>"
      ],
      "text/plain": [
       "     mass       time     intensity\n",
       "174   207  24.410630  4.873696e+07\n",
       "10     43  21.408220  4.365043e+07\n",
       "11     44  25.325723  2.385284e+07\n",
       "6      39  21.695585  1.992874e+07\n",
       "24     57  22.089827  1.168163e+07\n",
       "..    ...        ...           ...\n",
       "478   511  22.010174  8.959544e+02\n",
       "477   510  21.870681  8.876229e+02\n",
       "495   528  21.937428  8.775625e+02\n",
       "493   526  21.605269  8.110074e+02\n",
       "492   525  22.001225  8.041710e+02\n",
       "\n",
       "[502 rows x 3 columns]"
      ]
     },
     "execution_count": 64,
     "metadata": {},
     "output_type": "execute_result"
    }
   ],
   "source": [
    "df_mass_grouped = df.sort_values('mass')\n",
    "df_mass_grouped['mass'] = df_mass_grouped['mass'].astype(int)\n",
    "df_mass_grouped = df_mass_grouped.groupby('mass').mean()\n",
    "df_mass_grouped = df_mass_grouped.reset_index()\n",
    "df_mass_grouped_int = df_mass_grouped.sort_values(by = 'intensity',ascending=False)\n",
    "df_mass_grouped_int\n",
    "\n"
   ]
  },
  {
   "cell_type": "code",
   "execution_count": 65,
   "metadata": {},
   "outputs": [
    {
     "name": "stdout",
     "output_type": "stream",
     "text": [
      "18 502\n"
     ]
    },
    {
     "data": {
      "image/png": "[encoded data removed]",
      "text/plain": [
       "<Figure size 640x480 with 1 Axes>"
      ]
     },
     "metadata": {},
     "output_type": "display_data"
    }
   ],
   "source": [
    "# sns.lineplot(data = df_mass_grouped, x = df_mass_grouped.index ,y = 'intensity' )\n",
    "df_mass_grouped['intensity'] -= df_mass_grouped['intensity'].mean()\n",
    "\n",
    "plot_peaks(df_mass_grouped)\n",
    "# df_mass_grouped"
   ]
  },
  {
   "cell_type": "code",
   "execution_count": 66,
   "metadata": {},
   "outputs": [
    {
     "data": {
      "text/html": [
       "<div>\n",
       "<style scoped>\n",
       "    .dataframe tbody tr th:only-of-type {\n",
       "        vertical-align: middle;\n",
       "    }\n",
       "\n",
       "    .dataframe tbody tr th {\n",
       "        vertical-align: top;\n",
       "    }\n",
       "\n",
       "    .dataframe thead th {\n",
       "        text-align: right;\n",
       "    }\n",
       "</style>\n",
       "<table border=\"1\" class=\"dataframe\">\n",
       "  <thead>\n",
       "    <tr style=\"text-align: right;\">\n",
       "      <th></th>\n",
       "      <th>mass</th>\n",
       "      <th>time</th>\n",
       "      <th>intensity</th>\n",
       "      <th>intensity_scaled</th>\n",
       "    </tr>\n",
       "  </thead>\n",
       "  <tbody>\n",
       "    <tr>\n",
       "      <th>174</th>\n",
       "      <td>207</td>\n",
       "      <td>24.410630</td>\n",
       "      <td>4.873696e+07</td>\n",
       "      <td>1.000000e+00</td>\n",
       "    </tr>\n",
       "    <tr>\n",
       "      <th>10</th>\n",
       "      <td>43</td>\n",
       "      <td>21.408220</td>\n",
       "      <td>4.365043e+07</td>\n",
       "      <td>8.956312e-01</td>\n",
       "    </tr>\n",
       "    <tr>\n",
       "      <th>11</th>\n",
       "      <td>44</td>\n",
       "      <td>25.325723</td>\n",
       "      <td>2.385284e+07</td>\n",
       "      <td>4.894115e-01</td>\n",
       "    </tr>\n",
       "    <tr>\n",
       "      <th>6</th>\n",
       "      <td>39</td>\n",
       "      <td>21.695585</td>\n",
       "      <td>1.992874e+07</td>\n",
       "      <td>4.088944e-01</td>\n",
       "    </tr>\n",
       "    <tr>\n",
       "      <th>24</th>\n",
       "      <td>57</td>\n",
       "      <td>22.089827</td>\n",
       "      <td>1.168163e+07</td>\n",
       "      <td>2.396748e-01</td>\n",
       "    </tr>\n",
       "    <tr>\n",
       "      <th>...</th>\n",
       "      <td>...</td>\n",
       "      <td>...</td>\n",
       "      <td>...</td>\n",
       "      <td>...</td>\n",
       "    </tr>\n",
       "    <tr>\n",
       "      <th>478</th>\n",
       "      <td>511</td>\n",
       "      <td>22.010174</td>\n",
       "      <td>8.959544e+02</td>\n",
       "      <td>1.883273e-06</td>\n",
       "    </tr>\n",
       "    <tr>\n",
       "      <th>477</th>\n",
       "      <td>510</td>\n",
       "      <td>21.870681</td>\n",
       "      <td>8.876229e+02</td>\n",
       "      <td>1.712320e-06</td>\n",
       "    </tr>\n",
       "    <tr>\n",
       "      <th>495</th>\n",
       "      <td>528</td>\n",
       "      <td>21.937428</td>\n",
       "      <td>8.775625e+02</td>\n",
       "      <td>1.505894e-06</td>\n",
       "    </tr>\n",
       "    <tr>\n",
       "      <th>493</th>\n",
       "      <td>526</td>\n",
       "      <td>21.605269</td>\n",
       "      <td>8.110074e+02</td>\n",
       "      <td>1.402739e-07</td>\n",
       "    </tr>\n",
       "    <tr>\n",
       "      <th>492</th>\n",
       "      <td>525</td>\n",
       "      <td>22.001225</td>\n",
       "      <td>8.041710e+02</td>\n",
       "      <td>0.000000e+00</td>\n",
       "    </tr>\n",
       "  </tbody>\n",
       "</table>\n",
       "<p>502 rows × 4 columns</p>\n",
       "</div>"
      ],
      "text/plain": [
       "     mass       time     intensity  intensity_scaled\n",
       "174   207  24.410630  4.873696e+07      1.000000e+00\n",
       "10     43  21.408220  4.365043e+07      8.956312e-01\n",
       "11     44  25.325723  2.385284e+07      4.894115e-01\n",
       "6      39  21.695585  1.992874e+07      4.088944e-01\n",
       "24     57  22.089827  1.168163e+07      2.396748e-01\n",
       "..    ...        ...           ...               ...\n",
       "478   511  22.010174  8.959544e+02      1.883273e-06\n",
       "477   510  21.870681  8.876229e+02      1.712320e-06\n",
       "495   528  21.937428  8.775625e+02      1.505894e-06\n",
       "493   526  21.605269  8.110074e+02      1.402739e-07\n",
       "492   525  22.001225  8.041710e+02      0.000000e+00\n",
       "\n",
       "[502 rows x 4 columns]"
      ]
     },
     "execution_count": 66,
     "metadata": {},
     "output_type": "execute_result"
    }
   ],
   "source": [
    "norm = df_mass_grouped_int.intensity.max()-df_mass_grouped_int.intensity.min()\n",
    "norm_min = df_mass_grouped_int.intensity.min()\n",
    "df_mass_grouped_int[\"intensity_scaled\"] = (df_mass_grouped_int[\"intensity\"] - norm_min)/norm\n",
    "df_mass_grouped_int"
   ]
  },
  {
   "cell_type": "code",
   "execution_count": 67,
   "metadata": {},
   "outputs": [
    {
     "name": "stdout",
     "output_type": "stream",
     "text": [
      "0 502\n"
     ]
    },
    {
     "data": {
      "image/png": "[encoded data removed]",
      "text/plain": [
       "<Figure size 640x480 with 1 Axes>"
      ]
     },
     "metadata": {},
     "output_type": "display_data"
    }
   ],
   "source": [
    "# sns.lineplot(data = df_mass_grouped, x = df_mass_grouped.index ,y = 'intensity' )\n",
    "plot_peaks(df_mass_grouped_int)\n",
    "# df_mass_grouped"
   ]
  },
  {
   "cell_type": "code",
   "execution_count": null,
   "metadata": {},
   "outputs": [],
   "source": [
    "datapea"
   ]
  },
  {
   "cell_type": "code",
   "execution_count": null,
   "metadata": {},
   "outputs": [],
   "source": [
    "df_mass = df.sort_values(by = \"mass\")\n",
    "sns.lineplot(data = df_mass, x = \"mass\", y = \"intensity\")"
   ]
  }
 ],
 "metadata": {
  "kernelspec": {
   "display_name": "Python 3",
   "language": "python",
   "name": "python3"
  },
  "language_info": {
   "codemirror_mode": {
    "name": "ipython",
    "version": 3
   },
   "file_extension": ".py",
   "mimetype": "text/x-python",
   "name": "python",
   "nbconvert_exporter": "python",
   "pygments_lexer": "ipython3",
   "version": "3.11.3"
  },
  "orig_nbformat": 4
 },
 "nbformat": 4,
 "nbformat_minor": 2
}
