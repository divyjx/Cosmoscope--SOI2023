{
 "cells": [
  {
   "cell_type": "code",
   "execution_count": 1,
   "metadata": {},
   "outputs": [],
   "source": [
    "# imports\n",
    "import pandas as pd\n",
    "import numpy as np\n",
    "import matplotlib.pyplot as plt\n",
    "import seaborn as sns\n",
    "%matplotlib inline\n",
    "import copy\n",
    "from scipy.signal import find_peaks"
   ]
  },
  {
   "cell_type": "code",
   "execution_count": 2,
   "metadata": {},
   "outputs": [],
   "source": [
    "metadata = pd.read_csv('metadata.csv').fillna(0)\n",
    "train_labels = pd.read_csv('train_labels.csv')\n",
    "global_cooh_peaks = []\n"
   ]
  },
  {
   "cell_type": "code",
   "execution_count": 6,
   "metadata": {},
   "outputs": [],
   "source": [
    "\n"
   ]
  },
  {
   "cell_type": "code",
   "execution_count": 11,
   "metadata": {},
   "outputs": [],
   "source": [
    "# limits of data\n",
    "def data_limits():\n",
    "    time_min = 1e9\n",
    "    time_max = 0\n",
    "    mass_min = 1e9\n",
    "    mass_max = 0\n",
    "    inte_min = 1e9\n",
    "    inte_max = 0\n",
    "    for i in range(len(metadata)):\n",
    "        data_row = metadata.iloc[i]\n",
    "        sample_id, split,derivatized,features_path,features_md5_hash = data_row.values\n",
    "        # print(sample_id, split,derivatized,features_path,features_md5_hash,sep=\"\\n\")\n",
    "        data = pd.read_csv(features_path)\n",
    "        time_max = max(time_max,data.time.max())\n",
    "        time_min = min(time_min,data.time.min())\n",
    "        mass_max = max(mass_max,data.mass.max())\n",
    "        mass_min = min(mass_min,data.mass.min())\n",
    "        inte_max = max(inte_max,data.intensity.max())\n",
    "        inte_min = min(inte_min,data.intensity.min())\n",
    "    \n",
    "    \n",
    "    print(f\"\"\"\n",
    "    time_min = {time_min}\n",
    "    time_max = {time_max}\n",
    "    mass_min = {mass_min}\n",
    "    mass_max = {mass_max}\n",
    "    inte_min = {inte_min}\n",
    "    inte_max = {inte_max}\n",
    "        \"\"\")    "
   ]
  },
  {
   "cell_type": "code",
   "execution_count": 12,
   "metadata": {},
   "outputs": [
    {
     "name": "stdout",
     "output_type": "stream",
     "text": [
      "\n",
      "    time_min = 0.041917\n",
      "    time_max = 52.243233\n",
      "    mass_min = 1.125473\n",
      "    mass_max = 649.96228\n",
      "    inte_min = 0.0\n",
      "    inte_max = 2204406272.0\n",
      "        \n"
     ]
    }
   ],
   "source": [
    "data_limits()"
   ]
  },
  {
   "cell_type": "code",
   "execution_count": 60,
   "metadata": {},
   "outputs": [],
   "source": [
    "# different count(occurance) of a times and a mass values in dataset\n",
    "\n",
    "max_count_time = 0\n",
    "min_count_time = 1e9\n",
    "max_count_mass = 0\n",
    "min_count_mass = 1e9\n",
    "\n",
    "for i in range(len(metadata)):\n",
    "    data_row = metadata.iloc[i]\n",
    "    sample_id, split,derivatized,features_path,features_md5_hash = data_row.values\n",
    "    # print(sample_id, split,derivatized,features_path,features_md5_hash,sep=\"\\n\")\n",
    "    data = pd.read_csv(features_path)\n",
    "    # print(data.time.value_counts().iloc[0])\n",
    "    max_count_time = max(max_count_time, data.time.value_counts().iloc[0])\n",
    "    min_count_time = min(min_count_time, data.time.value_counts().iloc[-1])\n",
    "    max_count_mass = max(max_count_mass, data.mass.value_counts().iloc[0])\n",
    "    min_count_mass = min(min_count_mass, data.mass.value_counts().iloc[-1])\n"
   ]
  },
  {
   "cell_type": "code",
   "execution_count": 62,
   "metadata": {},
   "outputs": [
    {
     "name": "stdout",
     "output_type": "stream",
     "text": [
      "\n",
      "    max_count_time = 671\n",
      "    min_count_time = 27\n",
      "    max_count_mass = 471\n",
      "    min_count_mass = 1\n",
      "\n"
     ]
    }
   ],
   "source": [
    "print(f\"\"\"\n",
    "    max_count_time = {max_count_time}\n",
    "    min_count_time = {min_count_time}\n",
    "    max_count_mass = {max_count_mass}\n",
    "    min_count_mass = {min_count_mass}\n",
    "\"\"\")"
   ]
  },
  {
   "cell_type": "code",
   "execution_count": 63,
   "metadata": {},
   "outputs": [],
   "source": [
    "# different values of times and mass in dataset\n",
    "diff_time = 0\n",
    "diff_mass = 0\n",
    "\n",
    "for i in range(len(metadata)):\n",
    "    data_row = metadata.iloc[i]\n",
    "    sample_id, split,derivatized,features_path,features_md5_hash = data_row.values\n",
    "    data = pd.read_csv(features_path)\n",
    "    diff_time = max(diff_time, len(data.time.value_counts()))\n",
    "    diff_mass = max(diff_mass, len(data.mass.value_counts()))\n"
   ]
  },
  {
   "cell_type": "code",
   "execution_count": 64,
   "metadata": {},
   "outputs": [
    {
     "name": "stdout",
     "output_type": "stream",
     "text": [
      "\n",
      "    diff_time = 4247\n",
      "    diff_mass = 1215093\n",
      "\n"
     ]
    }
   ],
   "source": [
    "print(f\"\"\"\n",
    "    diff_time = {diff_time}\n",
    "    diff_mass = {diff_mass}\n",
    "\"\"\")"
   ]
  },
  {
   "cell_type": "code",
   "execution_count": null,
   "metadata": {},
   "outputs": [],
   "source": []
  }
 ],
 "metadata": {
  "kernelspec": {
   "display_name": "Python 3",
   "language": "python",
   "name": "python3"
  },
  "language_info": {
   "codemirror_mode": {
    "name": "ipython",
    "version": 3
   },
   "file_extension": ".py",
   "mimetype": "text/x-python",
   "name": "python",
   "nbconvert_exporter": "python",
   "pygments_lexer": "ipython3",
   "version": "3.11.3"
  },
  "orig_nbformat": 4
 },
 "nbformat": 4,
 "nbformat_minor": 2
}
