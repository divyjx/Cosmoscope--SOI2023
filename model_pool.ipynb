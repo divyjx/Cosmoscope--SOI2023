{
 "cells": [
  {
   "cell_type": "markdown",
   "id": "19a292b6",
   "metadata": {
    "papermill": {
     "duration": 0.006792,
     "end_time": "2023-07-16T04:44:21.923696",
     "exception": false,
     "start_time": "2023-07-16T04:44:21.916904",
     "status": "completed"
    },
    "tags": []
   },
   "source": [
    "## 1. Data Description \n",
    "<ul> \n",
    "<li>there are 809 training examples</li>\n",
    "<li>each of them is a dataframe with time, mass , and intensity values</li>\n",
    "<li>dataframe lenghts are variable</li>\n",
    "</ul>\n"
   ]
  },
  {
   "cell_type": "code",
   "execution_count": 1,
   "id": "669ca0ad",
   "metadata": {
    "execution": {
     "iopub.execute_input": "2023-07-16T04:44:21.937474Z",
     "iopub.status.busy": "2023-07-16T04:44:21.936956Z",
     "iopub.status.idle": "2023-07-16T04:44:30.819511Z",
     "shell.execute_reply": "2023-07-16T04:44:30.818488Z"
    },
    "papermill": {
     "duration": 8.892053,
     "end_time": "2023-07-16T04:44:30.821893",
     "exception": false,
     "start_time": "2023-07-16T04:44:21.929840",
     "status": "completed"
    },
    "tags": []
   },
   "outputs": [],
   "source": [
    "import warnings \n",
    "warnings.filterwarnings('ignore')\n",
    "\n",
    "# for processing numbers and files csv\n",
    "import pandas as pd\n",
    "import numpy as np\n",
    "\n",
    "# for visualization\n",
    "import matplotlib.pyplot as plt\n",
    "%matplotlib inline\n",
    "\n",
    "# preprocessing \n",
    "from sklearn.preprocessing import MinMaxScaler\n",
    "from sklearn.model_selection import train_test_split\n",
    "from sklearn.metrics import classification_report, roc_auc_score, log_loss\n",
    "\n",
    "# model related\n",
    "from tensorflow.keras.callbacks import EarlyStopping\n",
    "from tensorflow.keras.utils import Sequence\n",
    "from tensorflow.keras.models import Sequential\n",
    "from tensorflow.keras.layers import Conv2D, MaxPooling2D, Flatten, Dense\n",
    "\n",
    "import tensorflow as tf\n"
   ]
  },
  {
   "cell_type": "code",
   "execution_count": 2,
   "id": "3c287e18",
   "metadata": {
    "execution": {
     "iopub.execute_input": "2023-07-16T04:44:30.835464Z",
     "iopub.status.busy": "2023-07-16T04:44:30.834869Z",
     "iopub.status.idle": "2023-07-16T04:44:30.840500Z",
     "shell.execute_reply": "2023-07-16T04:44:30.839663Z"
    },
    "papermill": {
     "duration": 0.01446,
     "end_time": "2023-07-16T04:44:30.842526",
     "exception": false,
     "start_time": "2023-07-16T04:44:30.828066",
     "status": "completed"
    },
    "tags": []
   },
   "outputs": [],
   "source": [
    "#for gpu\n",
    "\n",
    "# gpus = tf.config.experimental.list_physical_devices('GPU')\n",
    "# for gpu in gpus:\n",
    "#     print(\"Name:\", gpu.name, \"  Type:\", gpu.device_type)\n",
    "\n",
    "# from tensorflow.python.client import device_lib\n",
    "\n",
    "# print(device_lib.list_local_devices())\n",
    "\n",
    "# tf.test.is_gpu_available()"
   ]
  },
  {
   "cell_type": "code",
   "execution_count": 3,
   "id": "815d00ae",
   "metadata": {
    "execution": {
     "iopub.execute_input": "2023-07-16T04:44:30.855246Z",
     "iopub.status.busy": "2023-07-16T04:44:30.854977Z",
     "iopub.status.idle": "2023-07-16T04:44:30.859216Z",
     "shell.execute_reply": "2023-07-16T04:44:30.858286Z"
    },
    "papermill": {
     "duration": 0.012789,
     "end_time": "2023-07-16T04:44:30.861084",
     "exception": false,
     "start_time": "2023-07-16T04:44:30.848295",
     "status": "completed"
    },
    "tags": []
   },
   "outputs": [],
   "source": [
    "# for working in kaggle use this paths\n",
    "kag_path_in = \"/kaggle/input/mars-spec-train/\"\n",
    "kag_path_out = \"/kaggle/working/\"\n",
    "\n",
    "# add custom paths here (uncomment)\n",
    "# kag_path_in = \"\"\n",
    "# kag_path_out = \"\""
   ]
  },
  {
   "cell_type": "code",
   "execution_count": 4,
   "id": "97f3d01c",
   "metadata": {
    "execution": {
     "iopub.execute_input": "2023-07-16T04:44:30.873687Z",
     "iopub.status.busy": "2023-07-16T04:44:30.873411Z",
     "iopub.status.idle": "2023-07-16T04:44:30.905297Z",
     "shell.execute_reply": "2023-07-16T04:44:30.904410Z"
    },
    "papermill": {
     "duration": 0.040643,
     "end_time": "2023-07-16T04:44:30.907403",
     "exception": false,
     "start_time": "2023-07-16T04:44:30.866760",
     "status": "completed"
    },
    "tags": []
   },
   "outputs": [],
   "source": [
    "# metadata = pd.read_csv('/kaggle/input/mars-spec-train/metadata.csv').fillna(0)\n",
    "# train_labels = pd.read_csv('/kaggle/input/mars-spec-train/train_labels.csv')\n",
    "metadata = pd.read_csv(kag_path_in+'metadata.csv').fillna(0)\n",
    "train_labels = pd.read_csv(kag_path_in+'train_labels.csv')"
   ]
  },
  {
   "cell_type": "markdown",
   "id": "d6089094",
   "metadata": {
    "papermill": {
     "duration": 0.005602,
     "end_time": "2023-07-16T04:44:30.919053",
     "exception": false,
     "start_time": "2023-07-16T04:44:30.913451",
     "status": "completed"
    },
    "tags": []
   },
   "source": [
    "## 2. Preprocessing and Feature extraction\n",
    "<ul>\n",
    "<li>mass values are grouped into values seperated by 0.50 </li>\n",
    "<li>time values are grouped into values seperated by 0.02 </li>\n",
    "<li>Time * Mass matrix (2700,1400) with Intensity values </li>\n",
    "</ul>"
   ]
  },
  {
   "cell_type": "code",
   "execution_count": 5,
   "id": "39247504",
   "metadata": {
    "execution": {
     "iopub.execute_input": "2023-07-16T04:44:30.932466Z",
     "iopub.status.busy": "2023-07-16T04:44:30.931875Z",
     "iopub.status.idle": "2023-07-16T04:44:30.936154Z",
     "shell.execute_reply": "2023-07-16T04:44:30.935239Z"
    },
    "papermill": {
     "duration": 0.013342,
     "end_time": "2023-07-16T04:44:30.938132",
     "exception": false,
     "start_time": "2023-07-16T04:44:30.924790",
     "status": "completed"
    },
    "tags": []
   },
   "outputs": [],
   "source": [
    "# constants\n",
    "num_mass_values = 1400\n",
    "num_time_values = 2700\n",
    "matrix_shape = (num_time_values, num_mass_values)"
   ]
  },
  {
   "cell_type": "code",
   "execution_count": 6,
   "id": "174557ea",
   "metadata": {
    "execution": {
     "iopub.execute_input": "2023-07-16T04:44:30.950714Z",
     "iopub.status.busy": "2023-07-16T04:44:30.950453Z",
     "iopub.status.idle": "2023-07-16T04:44:30.957723Z",
     "shell.execute_reply": "2023-07-16T04:44:30.956831Z"
    },
    "papermill": {
     "duration": 0.015758,
     "end_time": "2023-07-16T04:44:30.959646",
     "exception": false,
     "start_time": "2023-07-16T04:44:30.943888",
     "status": "completed"
    },
    "tags": []
   },
   "outputs": [],
   "source": [
    "\n",
    "# Function to create the Time X Mass matrix for a single data sample\n",
    "def create_matrix(id):\n",
    "    \n",
    "    sample_id, split, derivate, path, _ = metadata.iloc[id]\n",
    "    data = pd.read_csv(kag_path_in+path)\n",
    "\n",
    "    label = None\n",
    "    if (split == 'train'):\n",
    "        label = train_labels.iloc[id].values[1:]\n",
    "\n",
    "    # discretization of time and mass\n",
    "    data.time = (data.time*50).round()\n",
    "    data.mass = (data.mass*2).round()\n",
    "    data.time = data.time.astype(int)\n",
    "    data.mass = data.mass.astype(int)\n",
    "    \n",
    "    # scaling intensity\n",
    "    data.intensity = MinMaxScaler().fit_transform(data.intensity.values.reshape(-1, 1))\n",
    "    \n",
    "    # filling matrix\n",
    "    matrix = np.zeros(matrix_shape)\n",
    "    matrix[data['time'],data['mass']] = data['intensity']\n",
    "\n",
    "    return matrix , label\n"
   ]
  },
  {
   "cell_type": "markdown",
   "id": "490a30fa",
   "metadata": {
    "papermill": {
     "duration": 0.005569,
     "end_time": "2023-07-16T04:44:30.971126",
     "exception": false,
     "start_time": "2023-07-16T04:44:30.965557",
     "status": "completed"
    },
    "tags": []
   },
   "source": [
    "## 3. Data Generation\n",
    "<ul>\n",
    "<li>Storing data matrix is costly</li>\n",
    "<li>data is generated in batches</li>\n",
    "</ul>\n"
   ]
  },
  {
   "cell_type": "code",
   "execution_count": 7,
   "id": "56dc13c6",
   "metadata": {
    "execution": {
     "iopub.execute_input": "2023-07-16T04:44:30.984426Z",
     "iopub.status.busy": "2023-07-16T04:44:30.983547Z",
     "iopub.status.idle": "2023-07-16T04:44:30.989258Z",
     "shell.execute_reply": "2023-07-16T04:44:30.988444Z"
    },
    "papermill": {
     "duration": 0.014307,
     "end_time": "2023-07-16T04:44:30.991176",
     "exception": false,
     "start_time": "2023-07-16T04:44:30.976869",
     "status": "completed"
    },
    "tags": []
   },
   "outputs": [],
   "source": [
    "training_data = range(809)  \n",
    "train_data, val_data = train_test_split(training_data, test_size=0.2, random_state=42)\n"
   ]
  },
  {
   "cell_type": "code",
   "execution_count": 8,
   "id": "79ddb7ca",
   "metadata": {
    "execution": {
     "iopub.execute_input": "2023-07-16T04:44:31.004272Z",
     "iopub.status.busy": "2023-07-16T04:44:31.003511Z",
     "iopub.status.idle": "2023-07-16T04:44:31.012125Z",
     "shell.execute_reply": "2023-07-16T04:44:31.011190Z"
    },
    "papermill": {
     "duration": 0.01738,
     "end_time": "2023-07-16T04:44:31.014321",
     "exception": false,
     "start_time": "2023-07-16T04:44:30.996941",
     "status": "completed"
    },
    "tags": []
   },
   "outputs": [],
   "source": [
    "class DataGenerator(Sequence):\n",
    "    def __init__(self, data, batch_size):\n",
    "        self.data = data\n",
    "        self.batch_size = batch_size\n",
    "    def __len__(self):\n",
    "        return len(self.data) // self.batch_size\n",
    "\n",
    "    def __getitem__(self, idx):        \n",
    "        \n",
    "        low = idx * self.batch_size\n",
    "        high = min(low + self.batch_size, len(self.data))\n",
    "        batch_x = []\n",
    "        batch_y = []\n",
    "\n",
    "        for i,data_sample in enumerate(self.data[low:high]):\n",
    "            processed_sample, processed_label = self.preprocess_data(data_sample)\n",
    "            batch_x.append(processed_sample)\n",
    "            batch_y.append(processed_label)\n",
    "        return np.array(batch_x), np.array(batch_y)\n",
    "\n",
    "    def preprocess_data(self, data_sample):\n",
    "        matrix, label = create_matrix(data_sample)\n",
    "        if type(label) == np.ndarray:\n",
    "            label = np.array(label).astype(int)\n",
    "        return matrix , label\n"
   ]
  },
  {
   "cell_type": "code",
   "execution_count": 9,
   "id": "996cefb9",
   "metadata": {
    "execution": {
     "iopub.execute_input": "2023-07-16T04:44:31.027242Z",
     "iopub.status.busy": "2023-07-16T04:44:31.026717Z",
     "iopub.status.idle": "2023-07-16T04:44:31.613112Z",
     "shell.execute_reply": "2023-07-16T04:44:31.612235Z"
    },
    "papermill": {
     "duration": 0.595486,
     "end_time": "2023-07-16T04:44:31.615619",
     "exception": false,
     "start_time": "2023-07-16T04:44:31.020133",
     "status": "completed"
    },
    "tags": []
   },
   "outputs": [
    {
     "data": {
      "text/plain": [
       "(array([[[0., 0., 0., ..., 0., 0., 0.],\n",
       "         [0., 0., 0., ..., 0., 0., 0.],\n",
       "         [0., 0., 0., ..., 0., 0., 0.],\n",
       "         ...,\n",
       "         [0., 0., 0., ..., 0., 0., 0.],\n",
       "         [0., 0., 0., ..., 0., 0., 0.],\n",
       "         [0., 0., 0., ..., 0., 0., 0.]],\n",
       " \n",
       "        [[0., 0., 0., ..., 0., 0., 0.],\n",
       "         [0., 0., 0., ..., 0., 0., 0.],\n",
       "         [0., 0., 0., ..., 0., 0., 0.],\n",
       "         ...,\n",
       "         [0., 0., 0., ..., 0., 0., 0.],\n",
       "         [0., 0., 0., ..., 0., 0., 0.],\n",
       "         [0., 0., 0., ..., 0., 0., 0.]]]),\n",
       " array([[0, 0, 0, 0, 0, 0, 0, 0, 0],\n",
       "        [1, 0, 1, 1, 0, 1, 1, 0, 0]]))"
      ]
     },
     "execution_count": 9,
     "metadata": {},
     "output_type": "execute_result"
    }
   ],
   "source": [
    "a = DataGenerator([2,1,32,13,132,122,90,91,7,9],4)\n",
    "a[2]"
   ]
  },
  {
   "cell_type": "markdown",
   "id": "5a85a8cb",
   "metadata": {
    "papermill": {
     "duration": 0.005802,
     "end_time": "2023-07-16T04:44:31.627533",
     "exception": false,
     "start_time": "2023-07-16T04:44:31.621731",
     "status": "completed"
    },
    "tags": []
   },
   "source": [
    "## 4. Model\n",
    "<ul>\n",
    "<li>convolutional layers </li>\n",
    "<li>pooling layers (max pooling) </li>\n",
    "<li>fully connected layers</li>\n",
    "<li>sigmoid layer</li>\n",
    "<li>output positive label probability</li>\n",
    "</ul>"
   ]
  },
  {
   "cell_type": "code",
   "execution_count": 10,
   "id": "fd3c0758",
   "metadata": {
    "execution": {
     "iopub.execute_input": "2023-07-16T04:44:31.640882Z",
     "iopub.status.busy": "2023-07-16T04:44:31.640562Z",
     "iopub.status.idle": "2023-07-16T04:44:31.644996Z",
     "shell.execute_reply": "2023-07-16T04:44:31.644001Z"
    },
    "papermill": {
     "duration": 0.01382,
     "end_time": "2023-07-16T04:44:31.647359",
     "exception": false,
     "start_time": "2023-07-16T04:44:31.633539",
     "status": "completed"
    },
    "tags": []
   },
   "outputs": [],
   "source": [
    "label_names = [col for col in train_labels.columns[1:]]"
   ]
  },
  {
   "cell_type": "code",
   "execution_count": 11,
   "id": "ff54f238",
   "metadata": {
    "execution": {
     "iopub.execute_input": "2023-07-16T04:44:31.660528Z",
     "iopub.status.busy": "2023-07-16T04:44:31.660258Z",
     "iopub.status.idle": "2023-07-16T04:44:31.665300Z",
     "shell.execute_reply": "2023-07-16T04:44:31.664466Z"
    },
    "papermill": {
     "duration": 0.014025,
     "end_time": "2023-07-16T04:44:31.667263",
     "exception": false,
     "start_time": "2023-07-16T04:44:31.653238",
     "status": "completed"
    },
    "tags": []
   },
   "outputs": [],
   "source": [
    "# contants\n",
    "batch_size = 8\n",
    "num_epochs = 75\n",
    "model = None\n",
    "history = None"
   ]
  },
  {
   "cell_type": "code",
   "execution_count": 12,
   "id": "cf2fc727",
   "metadata": {
    "execution": {
     "iopub.execute_input": "2023-07-16T04:44:31.680250Z",
     "iopub.status.busy": "2023-07-16T04:44:31.679985Z",
     "iopub.status.idle": "2023-07-16T04:44:34.575923Z",
     "shell.execute_reply": "2023-07-16T04:44:34.575130Z"
    },
    "papermill": {
     "duration": 2.917614,
     "end_time": "2023-07-16T04:44:34.590747",
     "exception": false,
     "start_time": "2023-07-16T04:44:31.673133",
     "status": "completed"
    },
    "tags": []
   },
   "outputs": [
    {
     "name": "stdout",
     "output_type": "stream",
     "text": [
      "Model: \"sequential\"\n",
      "_________________________________________________________________\n",
      " Layer (type)                Output Shape              Param #   \n",
      "=================================================================\n",
      " max_pooling2d (MaxPooling2D  (None, 3, 700, 1)        0         \n",
      " )                                                               \n",
      "                                                                 \n",
      " flatten (Flatten)           (None, 2100)              0         \n",
      "                                                                 \n",
      " dense (Dense)               (None, 256)               537856    \n",
      "                                                                 \n",
      " dense_1 (Dense)             (None, 64)                16448     \n",
      "                                                                 \n",
      " dense_2 (Dense)             (None, 9)                 585       \n",
      "                                                                 \n",
      "=================================================================\n",
      "Total params: 554,889\n",
      "Trainable params: 554,889\n",
      "Non-trainable params: 0\n",
      "_________________________________________________________________\n"
     ]
    }
   ],
   "source": [
    "model = Sequential()\n",
    "#model.add(Conv2D(8, kernel_size=(5, 5), padding= 'same',activation='relu', input_shape=(num_time_values, num_mass_values, 1)))\n",
    "model.add(MaxPooling2D(pool_size=(900, 2), input_shape=(num_time_values, num_mass_values, 1)))\n",
    "\n",
    "model.add(Flatten())\n",
    "model.add(Dense(256, activation='relu'))\n",
    "model.add(Dense(64, activation='relu'))\n",
    "\n",
    "model.add(Dense(9, activation='sigmoid'))\n",
    "opt = tf.keras.optimizers.Adam(learning_rate = 0.0001) # slow\n",
    "model.compile(loss=tf.keras.losses.BinaryCrossentropy(from_logits=True), optimizer=opt, metrics=['AUC']) # from logits = true\n",
    " \n",
    "train_data_generator = DataGenerator(train_data, batch_size)\n",
    "val_data_generator = DataGenerator(val_data, batch_size)\n",
    "\n",
    "model.summary()"
   ]
  },
  {
   "cell_type": "code",
   "execution_count": 13,
   "id": "c3a8f41d",
   "metadata": {
    "execution": {
     "iopub.execute_input": "2023-07-16T04:44:34.608482Z",
     "iopub.status.busy": "2023-07-16T04:44:34.608150Z",
     "iopub.status.idle": "2023-07-16T11:12:33.726380Z",
     "shell.execute_reply": "2023-07-16T11:12:33.724452Z"
    },
    "papermill": {
     "duration": 23279.134272,
     "end_time": "2023-07-16T11:12:33.733326",
     "exception": false,
     "start_time": "2023-07-16T04:44:34.599054",
     "status": "completed"
    },
    "tags": []
   },
   "outputs": [
    {
     "name": "stdout",
     "output_type": "stream",
     "text": [
      "Epoch 1/75\n",
      "80/80 [==============================] - 320s 4s/step - loss: 0.6437 - auc: 0.6828 - val_loss: 0.5908 - val_auc: 0.7331\n",
      "Epoch 2/75\n",
      "80/80 [==============================] - 291s 4s/step - loss: 0.5129 - auc: 0.7112 - val_loss: 0.4258 - val_auc: 0.7199\n",
      "Epoch 3/75\n",
      "80/80 [==============================] - 276s 3s/step - loss: 0.3769 - auc: 0.6975 - val_loss: 0.3210 - val_auc: 0.7488\n",
      "Epoch 4/75\n",
      "80/80 [==============================] - 263s 3s/step - loss: 0.3106 - auc: 0.7626 - val_loss: 0.2762 - val_auc: 0.7961\n",
      "Epoch 5/75\n",
      "80/80 [==============================] - 288s 4s/step - loss: 0.2757 - auc: 0.8155 - val_loss: 0.2520 - val_auc: 0.8338\n",
      "Epoch 6/75\n",
      "80/80 [==============================] - 293s 4s/step - loss: 0.2529 - auc: 0.8489 - val_loss: 0.2361 - val_auc: 0.8527\n",
      "Epoch 7/75\n",
      "80/80 [==============================] - 289s 4s/step - loss: 0.2372 - auc: 0.8679 - val_loss: 0.2248 - val_auc: 0.8643\n",
      "Epoch 8/75\n",
      "80/80 [==============================] - 294s 4s/step - loss: 0.2256 - auc: 0.8808 - val_loss: 0.2162 - val_auc: 0.8738\n",
      "Epoch 9/75\n",
      "80/80 [==============================] - 292s 4s/step - loss: 0.2163 - auc: 0.8915 - val_loss: 0.2098 - val_auc: 0.8799\n",
      "Epoch 10/75\n",
      "80/80 [==============================] - 285s 4s/step - loss: 0.2085 - auc: 0.8997 - val_loss: 0.2042 - val_auc: 0.8861\n",
      "Epoch 11/75\n",
      "80/80 [==============================] - 301s 4s/step - loss: 0.2021 - auc: 0.9077 - val_loss: 0.2000 - val_auc: 0.8909\n",
      "Epoch 12/75\n",
      "80/80 [==============================] - 297s 4s/step - loss: 0.1962 - auc: 0.9148 - val_loss: 0.1958 - val_auc: 0.8956\n",
      "Epoch 13/75\n",
      "80/80 [==============================] - 293s 4s/step - loss: 0.1910 - auc: 0.9183 - val_loss: 0.1928 - val_auc: 0.8982\n",
      "Epoch 14/75\n",
      "80/80 [==============================] - 297s 4s/step - loss: 0.1862 - auc: 0.9231 - val_loss: 0.1896 - val_auc: 0.9017\n",
      "Epoch 15/75\n",
      "80/80 [==============================] - 294s 4s/step - loss: 0.1823 - auc: 0.9278 - val_loss: 0.1866 - val_auc: 0.9051\n",
      "Epoch 16/75\n",
      "80/80 [==============================] - 290s 4s/step - loss: 0.1784 - auc: 0.9313 - val_loss: 0.1844 - val_auc: 0.9084\n",
      "Epoch 17/75\n",
      "80/80 [==============================] - 296s 4s/step - loss: 0.1742 - auc: 0.9361 - val_loss: 0.1817 - val_auc: 0.9122\n",
      "Epoch 18/75\n",
      "80/80 [==============================] - 268s 3s/step - loss: 0.1715 - auc: 0.9378 - val_loss: 0.1801 - val_auc: 0.9142\n",
      "Epoch 19/75\n",
      "80/80 [==============================] - 295s 4s/step - loss: 0.1681 - auc: 0.9409 - val_loss: 0.1779 - val_auc: 0.9166\n",
      "Epoch 20/75\n",
      "80/80 [==============================] - 291s 4s/step - loss: 0.1653 - auc: 0.9439 - val_loss: 0.1766 - val_auc: 0.9178\n",
      "Epoch 21/75\n",
      "80/80 [==============================] - 288s 4s/step - loss: 0.1625 - auc: 0.9466 - val_loss: 0.1747 - val_auc: 0.9215\n",
      "Epoch 22/75\n",
      "80/80 [==============================] - 295s 4s/step - loss: 0.1596 - auc: 0.9489 - val_loss: 0.1728 - val_auc: 0.9227\n",
      "Epoch 23/75\n",
      "80/80 [==============================] - 301s 4s/step - loss: 0.1570 - auc: 0.9513 - val_loss: 0.1718 - val_auc: 0.9248\n",
      "Epoch 24/75\n",
      "80/80 [==============================] - 306s 4s/step - loss: 0.1548 - auc: 0.9532 - val_loss: 0.1703 - val_auc: 0.9274\n",
      "Epoch 25/75\n",
      "80/80 [==============================] - 300s 4s/step - loss: 0.1521 - auc: 0.9552 - val_loss: 0.1694 - val_auc: 0.9285\n",
      "Epoch 26/75\n",
      "80/80 [==============================] - 306s 4s/step - loss: 0.1498 - auc: 0.9570 - val_loss: 0.1675 - val_auc: 0.9303\n",
      "Epoch 27/75\n",
      "80/80 [==============================] - 300s 4s/step - loss: 0.1479 - auc: 0.9586 - val_loss: 0.1667 - val_auc: 0.9308\n",
      "Epoch 28/75\n",
      "80/80 [==============================] - 311s 4s/step - loss: 0.1456 - auc: 0.9602 - val_loss: 0.1655 - val_auc: 0.9329\n",
      "Epoch 29/75\n",
      "80/80 [==============================] - 296s 4s/step - loss: 0.1440 - auc: 0.9618 - val_loss: 0.1649 - val_auc: 0.9332\n",
      "Epoch 30/75\n",
      "80/80 [==============================] - 296s 4s/step - loss: 0.1416 - auc: 0.9633 - val_loss: 0.1635 - val_auc: 0.9348\n",
      "Epoch 31/75\n",
      "80/80 [==============================] - 302s 4s/step - loss: 0.1398 - auc: 0.9643 - val_loss: 0.1626 - val_auc: 0.9362\n",
      "Epoch 32/75\n",
      "80/80 [==============================] - 289s 4s/step - loss: 0.1377 - auc: 0.9653 - val_loss: 0.1613 - val_auc: 0.9361\n",
      "Epoch 33/75\n",
      "80/80 [==============================] - 297s 4s/step - loss: 0.1359 - auc: 0.9668 - val_loss: 0.1605 - val_auc: 0.9357\n",
      "Epoch 34/75\n",
      "80/80 [==============================] - 298s 4s/step - loss: 0.1340 - auc: 0.9682 - val_loss: 0.1594 - val_auc: 0.9370\n",
      "Epoch 35/75\n",
      "80/80 [==============================] - 318s 4s/step - loss: 0.1321 - auc: 0.9689 - val_loss: 0.1589 - val_auc: 0.9378\n",
      "Epoch 36/75\n",
      "80/80 [==============================] - 312s 4s/step - loss: 0.1304 - auc: 0.9697 - val_loss: 0.1580 - val_auc: 0.9385\n",
      "Epoch 37/75\n",
      "80/80 [==============================] - 304s 4s/step - loss: 0.1287 - auc: 0.9709 - val_loss: 0.1576 - val_auc: 0.9393\n",
      "Epoch 38/75\n",
      "80/80 [==============================] - 307s 4s/step - loss: 0.1270 - auc: 0.9721 - val_loss: 0.1569 - val_auc: 0.9396\n",
      "Epoch 39/75\n",
      "80/80 [==============================] - 296s 4s/step - loss: 0.1253 - auc: 0.9727 - val_loss: 0.1565 - val_auc: 0.9405\n",
      "Epoch 40/75\n",
      "80/80 [==============================] - 291s 4s/step - loss: 0.1237 - auc: 0.9736 - val_loss: 0.1558 - val_auc: 0.9409\n",
      "Epoch 41/75\n",
      "80/80 [==============================] - 297s 4s/step - loss: 0.1222 - auc: 0.9744 - val_loss: 0.1553 - val_auc: 0.9415\n",
      "Epoch 42/75\n",
      "80/80 [==============================] - 304s 4s/step - loss: 0.1207 - auc: 0.9752 - val_loss: 0.1548 - val_auc: 0.9421\n",
      "Epoch 43/75\n",
      "80/80 [==============================] - 314s 4s/step - loss: 0.1195 - auc: 0.9756 - val_loss: 0.1549 - val_auc: 0.9427\n",
      "Epoch 44/75\n",
      "80/80 [==============================] - 300s 4s/step - loss: 0.1178 - auc: 0.9765 - val_loss: 0.1537 - val_auc: 0.9394\n",
      "Epoch 45/75\n",
      "80/80 [==============================] - 293s 4s/step - loss: 0.1162 - auc: 0.9773 - val_loss: 0.1537 - val_auc: 0.9397\n",
      "Epoch 46/75\n",
      "80/80 [==============================] - 299s 4s/step - loss: 0.1151 - auc: 0.9779 - val_loss: 0.1532 - val_auc: 0.9400\n",
      "Epoch 47/75\n",
      "80/80 [==============================] - 301s 4s/step - loss: 0.1135 - auc: 0.9784 - val_loss: 0.1530 - val_auc: 0.9402\n",
      "Epoch 48/75\n",
      "80/80 [==============================] - 292s 4s/step - loss: 0.1122 - auc: 0.9791 - val_loss: 0.1526 - val_auc: 0.9406\n",
      "Epoch 49/75\n",
      "80/80 [==============================] - 294s 4s/step - loss: 0.1110 - auc: 0.9799 - val_loss: 0.1528 - val_auc: 0.9411\n",
      "Epoch 50/75\n",
      "80/80 [==============================] - 297s 4s/step - loss: 0.1097 - auc: 0.9802 - val_loss: 0.1523 - val_auc: 0.9416\n",
      "Epoch 51/75\n",
      "80/80 [==============================] - 305s 4s/step - loss: 0.1085 - auc: 0.9807 - val_loss: 0.1524 - val_auc: 0.9394\n",
      "Epoch 52/75\n",
      "80/80 [==============================] - 300s 4s/step - loss: 0.1074 - auc: 0.9814 - val_loss: 0.1525 - val_auc: 0.9421\n",
      "Epoch 53/75\n",
      "80/80 [==============================] - 306s 4s/step - loss: 0.1061 - auc: 0.9817 - val_loss: 0.1507 - val_auc: 0.9426\n",
      "Epoch 54/75\n",
      "80/80 [==============================] - 307s 4s/step - loss: 0.1048 - auc: 0.9825 - val_loss: 0.1516 - val_auc: 0.9405\n",
      "Epoch 55/75\n",
      "80/80 [==============================] - 310s 4s/step - loss: 0.1035 - auc: 0.9830 - val_loss: 0.1511 - val_auc: 0.9410\n",
      "Epoch 56/75\n",
      "80/80 [==============================] - 289s 4s/step - loss: 0.1024 - auc: 0.9835 - val_loss: 0.1510 - val_auc: 0.9435\n",
      "Epoch 57/75\n",
      "80/80 [==============================] - 297s 4s/step - loss: 0.1013 - auc: 0.9839 - val_loss: 0.1509 - val_auc: 0.9420\n",
      "Epoch 58/75\n",
      "80/80 [==============================] - 300s 4s/step - loss: 0.1003 - auc: 0.9843 - val_loss: 0.1516 - val_auc: 0.9442\n",
      "Epoch 59/75\n",
      "80/80 [==============================] - 297s 4s/step - loss: 0.0990 - auc: 0.9846 - val_loss: 0.1512 - val_auc: 0.9426\n",
      "Epoch 60/75\n",
      "80/80 [==============================] - 298s 4s/step - loss: 0.0982 - auc: 0.9850 - val_loss: 0.1506 - val_auc: 0.9425\n",
      "Epoch 61/75\n",
      "80/80 [==============================] - 293s 4s/step - loss: 0.0970 - auc: 0.9854 - val_loss: 0.1507 - val_auc: 0.9428\n",
      "Epoch 62/75\n",
      "80/80 [==============================] - 301s 4s/step - loss: 0.0958 - auc: 0.9859 - val_loss: 0.1513 - val_auc: 0.9446\n",
      "Epoch 63/75\n",
      "80/80 [==============================] - 295s 4s/step - loss: 0.0950 - auc: 0.9862 - val_loss: 0.1508 - val_auc: 0.9432\n",
      "Epoch 64/75\n",
      "80/80 [==============================] - 296s 4s/step - loss: 0.0943 - auc: 0.9863 - val_loss: 0.1506 - val_auc: 0.9430\n",
      "Epoch 65/75\n",
      "80/80 [==============================] - 304s 4s/step - loss: 0.0928 - auc: 0.9869 - val_loss: 0.1519 - val_auc: 0.9433\n",
      "Epoch 66/75\n",
      "80/80 [==============================] - 308s 4s/step - loss: 0.0921 - auc: 0.9872 - val_loss: 0.1516 - val_auc: 0.9433\n",
      "Epoch 67/75\n",
      "80/80 [==============================] - 303s 4s/step - loss: 0.0912 - auc: 0.9874 - val_loss: 0.1521 - val_auc: 0.9440\n",
      "Epoch 68/75\n",
      "80/80 [==============================] - 308s 4s/step - loss: 0.0900 - auc: 0.9878 - val_loss: 0.1515 - val_auc: 0.9437\n",
      "Epoch 69/75\n",
      "80/80 [==============================] - 305s 4s/step - loss: 0.0891 - auc: 0.9881 - val_loss: 0.1508 - val_auc: 0.9445\n",
      "Epoch 70/75\n",
      "80/80 [==============================] - 296s 4s/step - loss: 0.0884 - auc: 0.9884 - val_loss: 0.1510 - val_auc: 0.9447\n",
      "Epoch 71/75\n",
      "80/80 [==============================] - 290s 4s/step - loss: 0.0875 - auc: 0.9885 - val_loss: 0.1516 - val_auc: 0.9450\n",
      "Epoch 72/75\n",
      "80/80 [==============================] - 287s 4s/step - loss: 0.0866 - auc: 0.9890 - val_loss: 0.1513 - val_auc: 0.9454\n",
      "Epoch 73/75\n",
      "80/80 [==============================] - 293s 4s/step - loss: 0.0855 - auc: 0.9891 - val_loss: 0.1519 - val_auc: 0.9453\n",
      "Epoch 74/75\n",
      "80/80 [==============================] - 306s 4s/step - loss: 0.0849 - auc: 0.9893 - val_loss: 0.1503 - val_auc: 0.9454\n",
      "Epoch 75/75\n",
      "80/80 [==============================] - 297s 4s/step - loss: 0.0839 - auc: 0.9898 - val_loss: 0.1521 - val_auc: 0.9453\n"
     ]
    }
   ],
   "source": [
    "es = EarlyStopping(monitor = 'val_loss', patience = 10, restore_best_weights = True  )\n",
    "history = model.fit(train_data_generator, epochs=num_epochs, validation_data=val_data_generator, callbacks=[es],verbose = 1)"
   ]
  },
  {
   "cell_type": "code",
   "execution_count": 14,
   "id": "3f2ae88e",
   "metadata": {
    "execution": {
     "iopub.execute_input": "2023-07-16T11:12:34.661195Z",
     "iopub.status.busy": "2023-07-16T11:12:34.660605Z",
     "iopub.status.idle": "2023-07-16T11:12:34.758377Z",
     "shell.execute_reply": "2023-07-16T11:12:34.757448Z"
    },
    "papermill": {
     "duration": 0.562423,
     "end_time": "2023-07-16T11:12:34.760703",
     "exception": false,
     "start_time": "2023-07-16T11:12:34.198280",
     "status": "completed"
    },
    "tags": []
   },
   "outputs": [],
   "source": [
    "model.save(\"model_pool.keras\")"
   ]
  },
  {
   "cell_type": "markdown",
   "id": "ba71ea10",
   "metadata": {
    "papermill": {
     "duration": 0.456501,
     "end_time": "2023-07-16T11:12:35.680134",
     "exception": false,
     "start_time": "2023-07-16T11:12:35.223633",
     "status": "completed"
    },
    "tags": []
   },
   "source": [
    "## 5. Performance \n",
    "<ul>\n",
    "<li>train and validation losses</li>\n",
    "</ul>"
   ]
  },
  {
   "cell_type": "code",
   "execution_count": 15,
   "id": "bc61259e",
   "metadata": {
    "execution": {
     "iopub.execute_input": "2023-07-16T11:12:36.598057Z",
     "iopub.status.busy": "2023-07-16T11:12:36.597666Z",
     "iopub.status.idle": "2023-07-16T11:12:36.972359Z",
     "shell.execute_reply": "2023-07-16T11:12:36.971471Z"
    },
    "papermill": {
     "duration": 0.8347,
     "end_time": "2023-07-16T11:12:36.974437",
     "exception": false,
     "start_time": "2023-07-16T11:12:36.139737",
     "status": "completed"
    },
    "tags": []
   },
   "outputs": [
    {
     "data": {
      "image/png": "[encoded data removed]",
      "text/plain": [
       "<Figure size 640x480 with 1 Axes>"
      ]
     },
     "metadata": {},
     "output_type": "display_data"
    }
   ],
   "source": [
    "train_loss = history.history['loss']\n",
    "val_loss = history.history['val_loss']\n",
    "epochs = range(1, len(train_loss) + 1)\n",
    "\n",
    "plt.plot(epochs, train_loss, 'b', label='Training Loss')\n",
    "plt.plot(epochs, val_loss, 'r', label='Validation Loss')\n",
    "plt.title('Training and Validation Loss')\n",
    "plt.xlabel('Epochs')\n",
    "plt.ylabel('Loss')\n",
    "plt.legend()\n",
    "plt.show()\n",
    "\n"
   ]
  },
  {
   "cell_type": "code",
   "execution_count": 16,
   "id": "c14289c9",
   "metadata": {
    "execution": {
     "iopub.execute_input": "2023-07-16T11:12:37.898313Z",
     "iopub.status.busy": "2023-07-16T11:12:37.897955Z",
     "iopub.status.idle": "2023-07-16T11:16:49.318722Z",
     "shell.execute_reply": "2023-07-16T11:16:49.317400Z"
    },
    "papermill": {
     "duration": 251.886737,
     "end_time": "2023-07-16T11:16:49.322159",
     "exception": false,
     "start_time": "2023-07-16T11:12:37.435422",
     "status": "completed"
    },
    "tags": []
   },
   "outputs": [],
   "source": [
    "y_pred = model.predict(DataGenerator(range(809),1), verbose = 0)"
   ]
  },
  {
   "cell_type": "markdown",
   "id": "80af68ce",
   "metadata": {
    "papermill": {
     "duration": 0.472396,
     "end_time": "2023-07-16T11:16:50.367716",
     "exception": false,
     "start_time": "2023-07-16T11:16:49.895320",
     "status": "completed"
    },
    "tags": []
   },
   "source": [
    "### Classification Reports"
   ]
  },
  {
   "cell_type": "code",
   "execution_count": 17,
   "id": "5ef8f090",
   "metadata": {
    "execution": {
     "iopub.execute_input": "2023-07-16T11:16:51.310508Z",
     "iopub.status.busy": "2023-07-16T11:16:51.309429Z",
     "iopub.status.idle": "2023-07-16T11:16:51.430574Z",
     "shell.execute_reply": "2023-07-16T11:16:51.428785Z"
    },
    "papermill": {
     "duration": 0.599508,
     "end_time": "2023-07-16T11:16:51.432814",
     "exception": false,
     "start_time": "2023-07-16T11:16:50.833306",
     "status": "completed"
    },
    "tags": []
   },
   "outputs": [
    {
     "name": "stdout",
     "output_type": "stream",
     "text": [
      "aromatic\n",
      "              precision    recall  f1-score   support\n",
      "\n",
      "           0       0.96      1.00      0.98       730\n",
      "           1       0.98      0.63      0.77        79\n",
      "\n",
      "    accuracy                           0.96       809\n",
      "   macro avg       0.97      0.82      0.87       809\n",
      "weighted avg       0.96      0.96      0.96       809\n",
      "\n",
      "roc_auc_score : 0.9791919542222993\n",
      "log loss      : 0.10333682416592013\n",
      "-------------------------------------------------------------\n",
      "hydrocarbon\n",
      "              precision    recall  f1-score   support\n",
      "\n",
      "           0       0.94      0.98      0.96       544\n",
      "           1       0.96      0.88      0.92       265\n",
      "\n",
      "    accuracy                           0.95       809\n",
      "   macro avg       0.95      0.93      0.94       809\n",
      "weighted avg       0.95      0.95      0.95       809\n",
      "\n",
      "roc_auc_score : 0.976803551609323\n",
      "log loss      : 0.16216895315271207\n",
      "-------------------------------------------------------------\n",
      "carboxylic_acid\n",
      "              precision    recall  f1-score   support\n",
      "\n",
      "           0       0.96      0.99      0.98       694\n",
      "           1       0.94      0.74      0.83       115\n",
      "\n",
      "    accuracy                           0.96       809\n",
      "   macro avg       0.95      0.87      0.90       809\n",
      "weighted avg       0.96      0.96      0.95       809\n",
      "\n",
      "roc_auc_score : 0.9818694399198096\n",
      "log loss      : 0.1185467708224734\n",
      "-------------------------------------------------------------\n",
      "nitrogen_bearing_compound\n",
      "              precision    recall  f1-score   support\n",
      "\n",
      "           0       0.97      0.99      0.98       713\n",
      "           1       0.92      0.79      0.85        96\n",
      "\n",
      "    accuracy                           0.97       809\n",
      "   macro avg       0.94      0.89      0.92       809\n",
      "weighted avg       0.97      0.97      0.97       809\n",
      "\n",
      "roc_auc_score : 0.9891596540439458\n",
      "log loss      : 0.09094152951200556\n",
      "-------------------------------------------------------------\n",
      "chlorine_bearing_compound\n",
      "              precision    recall  f1-score   support\n",
      "\n",
      "           0       0.98      1.00      0.99       791\n",
      "           1       1.00      0.22      0.36        18\n",
      "\n",
      "    accuracy                           0.98       809\n",
      "   macro avg       0.99      0.61      0.68       809\n",
      "weighted avg       0.98      0.98      0.98       809\n",
      "\n",
      "roc_auc_score : 0.9945919370698132\n",
      "log loss      : 0.036733582889288005\n",
      "-------------------------------------------------------------\n",
      "sulfur_bearing_compound\n",
      "              precision    recall  f1-score   support\n",
      "\n",
      "           0       0.97      1.00      0.99       778\n",
      "           1       0.92      0.35      0.51        31\n",
      "\n",
      "    accuracy                           0.97       809\n",
      "   macro avg       0.95      0.68      0.75       809\n",
      "weighted avg       0.97      0.97      0.97       809\n",
      "\n",
      "roc_auc_score : 0.9949830002487768\n",
      "log loss      : 0.05387286352265651\n",
      "-------------------------------------------------------------\n",
      "alcohol\n",
      "              precision    recall  f1-score   support\n",
      "\n",
      "           0       0.98      1.00      0.99       783\n",
      "           1       0.88      0.27      0.41        26\n",
      "\n",
      "    accuracy                           0.98       809\n",
      "   macro avg       0.93      0.63      0.70       809\n",
      "weighted avg       0.97      0.98      0.97       809\n",
      "\n",
      "roc_auc_score : 0.9788289615875823\n",
      "log loss      : 0.06290469800611423\n",
      "-------------------------------------------------------------\n",
      "other_oxygen_bearing_compound\n",
      "              precision    recall  f1-score   support\n",
      "\n",
      "           0       0.97      1.00      0.99       788\n",
      "           1       0.00      0.00      0.00        21\n",
      "\n",
      "    accuracy                           0.97       809\n",
      "   macro avg       0.49      0.50      0.49       809\n",
      "weighted avg       0.95      0.97      0.96       809\n",
      "\n",
      "roc_auc_score : 0.9825356538554508\n",
      "log loss      : 0.05277075706582435\n",
      "-------------------------------------------------------------\n",
      "mineral\n",
      "              precision    recall  f1-score   support\n",
      "\n",
      "           0       0.95      0.96      0.95       692\n",
      "           1       0.75      0.68      0.71       117\n",
      "\n",
      "    accuracy                           0.92       809\n",
      "   macro avg       0.85      0.82      0.83       809\n",
      "weighted avg       0.92      0.92      0.92       809\n",
      "\n",
      "roc_auc_score : 0.9548070747492712\n",
      "log loss      : 0.1865308699064279\n",
      "-------------------------------------------------------------\n"
     ]
    }
   ],
   "source": [
    "for i in range(9):\n",
    "    y_true_column = train_labels.iloc[:, i+1].values\n",
    "    y_pred_column = y_pred[:, i].round()\n",
    "    \n",
    "    report = classification_report(y_true_column, y_pred_column)\n",
    "    print(f\"{label_names[i]}\")\n",
    "    print(report)\n",
    "    print(f\"roc_auc_score : {roc_auc_score(y_true_column, y_pred[:, i])}\")\n",
    "    print(f\"log loss      : {log_loss(y_true_column, y_pred[:, i])}\")\n",
    "    \n",
    "    print(\"-------------------------------------------------------------\")\n"
   ]
  },
  {
   "cell_type": "code",
   "execution_count": null,
   "id": "2c0b5fd1",
   "metadata": {
    "papermill": {
     "duration": 0.469091,
     "end_time": "2023-07-16T11:16:52.367116",
     "exception": false,
     "start_time": "2023-07-16T11:16:51.898025",
     "status": "completed"
    },
    "tags": []
   },
   "outputs": [],
   "source": []
  }
 ],
 "metadata": {
  "kernelspec": {
   "display_name": "Python 3",
   "language": "python",
   "name": "python3"
  },
  "language_info": {
   "codemirror_mode": {
    "name": "ipython",
    "version": 3
   },
   "file_extension": ".py",
   "mimetype": "text/x-python",
   "name": "python",
   "nbconvert_exporter": "python",
   "pygments_lexer": "ipython3",
   "version": "3.10.10"
  },
  "papermill": {
   "default_parameters": {},
   "duration": 23565.091248,
   "end_time": "2023-07-16T11:16:56.324682",
   "environment_variables": {},
   "exception": null,
   "input_path": "__notebook__.ipynb",
   "output_path": "__notebook__.ipynb",
   "parameters": {},
   "start_time": "2023-07-16T04:44:11.233434",
   "version": "2.4.0"
  }
 },
 "nbformat": 4,
 "nbformat_minor": 5
}
