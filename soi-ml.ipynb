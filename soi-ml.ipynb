{
 "cells": [
  {
   "cell_type": "code",
   "execution_count": 1,
   "id": "dd52b09a",
   "metadata": {
    "execution": {
     "iopub.execute_input": "2023-07-10T05:21:00.252880Z",
     "iopub.status.busy": "2023-07-10T05:21:00.252457Z",
     "iopub.status.idle": "2023-07-10T05:21:00.376025Z",
     "shell.execute_reply": "2023-07-10T05:21:00.374705Z"
    },
    "papermill": {
     "duration": 0.136908,
     "end_time": "2023-07-10T05:21:00.378799",
     "exception": false,
     "start_time": "2023-07-10T05:21:00.241891",
     "status": "completed"
    },
    "tags": []
   },
   "outputs": [
    {
     "name": "stdout",
     "output_type": "stream",
     "text": [
      "/kaggle/input/mars-spec-train/train_labels.csv\n",
      "/kaggle/input/mars-spec-train/train_features/S0459.csv\n"
     ]
    }
   ],
   "source": [
    "# This Python 3 environment comes with many helpful analytics libraries installed\n",
    "# It is defined by the kaggle/python Docker image: https://github.com/kaggle/docker-python\n",
    "# For example, here's several helpful packages to load\n",
    "\n",
    "import numpy as np # linear algebra\n",
    "import pandas as pd # data processing, CSV file I/O (e.g. pd.read_csv)\n",
    "\n",
    "# Input data files are available in the read-only \"../input/\" directory\n",
    "# For example, running this (by clicking run or pressing Shift+Enter) will list all files under the input directory\n",
    "\n",
    "import os\n",
    "for dirname, _, filenames in os.walk('/kaggle/input'):\n",
    "    for filename in filenames:\n",
    "        print(os.path.join(dirname, filename))\n",
    "        break\n",
    "# You can write up to 20GB to the current directory (/kaggle/working/) that gets preserved as output when you create a version using \"Save & Run All\" \n",
    "# You can also write temporary files to /kaggle/temp/, but they won't be saved outside of the current session"
   ]
  },
  {
   "cell_type": "markdown",
   "id": "cf78e3e7",
   "metadata": {
    "papermill": {
     "duration": 0.00778,
     "end_time": "2023-07-10T05:21:00.395141",
     "exception": false,
     "start_time": "2023-07-10T05:21:00.387361",
     "status": "completed"
    },
    "tags": []
   },
   "source": [
    "### 1. Loading data and libraries "
   ]
  },
  {
   "cell_type": "code",
   "execution_count": 2,
   "id": "72b443f3",
   "metadata": {
    "execution": {
     "iopub.execute_input": "2023-07-10T05:21:00.413765Z",
     "iopub.status.busy": "2023-07-10T05:21:00.413012Z",
     "iopub.status.idle": "2023-07-10T05:21:11.453837Z",
     "shell.execute_reply": "2023-07-10T05:21:11.452493Z"
    },
    "papermill": {
     "duration": 11.053542,
     "end_time": "2023-07-10T05:21:11.456756",
     "exception": false,
     "start_time": "2023-07-10T05:21:00.403214",
     "status": "completed"
    },
    "tags": []
   },
   "outputs": [
    {
     "name": "stderr",
     "output_type": "stream",
     "text": [
      "/opt/conda/lib/python3.10/site-packages/tensorflow_io/python/ops/__init__.py:98: UserWarning: unable to load libtensorflow_io_plugins.so: unable to open file: libtensorflow_io_plugins.so, from paths: ['/opt/conda/lib/python3.10/site-packages/tensorflow_io/python/ops/libtensorflow_io_plugins.so']\n",
      "caused by: ['/opt/conda/lib/python3.10/site-packages/tensorflow_io/python/ops/libtensorflow_io_plugins.so: undefined symbol: _ZN3tsl6StatusC1EN10tensorflow5error4CodeESt17basic_string_viewIcSt11char_traitsIcEENS_14SourceLocationE']\n",
      "  warnings.warn(f\"unable to load libtensorflow_io_plugins.so: {e}\")\n",
      "/opt/conda/lib/python3.10/site-packages/tensorflow_io/python/ops/__init__.py:104: UserWarning: file system plugins are not loaded: unable to open file: libtensorflow_io.so, from paths: ['/opt/conda/lib/python3.10/site-packages/tensorflow_io/python/ops/libtensorflow_io.so']\n",
      "caused by: ['/opt/conda/lib/python3.10/site-packages/tensorflow_io/python/ops/libtensorflow_io.so: undefined symbol: _ZTVN10tensorflow13GcsFileSystemE']\n",
      "  warnings.warn(f\"file system plugins are not loaded: {e}\")\n"
     ]
    }
   ],
   "source": [
    "# for processing numbers and files csv\n",
    "import pandas as pd\n",
    "import numpy as np\n",
    "\n",
    "# for visualization\n",
    "# import matplotlib.pyplot as plt\n",
    "import seaborn as sns\n",
    "# %matplotlib inline\n",
    "\n",
    "# preprocessing \n",
    "# from scipy.fft import fft\n",
    "from sklearn.preprocessing import MinMaxScaler\n",
    "from sklearn.model_selection import train_test_split\n",
    "\n",
    "# model related\n",
    "from tensorflow.keras.utils import Sequence\n",
    "from tensorflow.keras.models import Sequential\n",
    "from tensorflow.keras.layers import Conv2D, MaxPooling2D, Flatten, Dense\n",
    "\n",
    "import tensorflow as tf\n",
    "# other\n",
    "import copy\n",
    "# from scipy.signal import find_peaks\n"
   ]
  },
  {
   "cell_type": "markdown",
   "id": "411e63af",
   "metadata": {
    "papermill": {
     "duration": 0.008014,
     "end_time": "2023-07-10T05:21:11.473186",
     "exception": false,
     "start_time": "2023-07-10T05:21:11.465172",
     "status": "completed"
    },
    "tags": []
   },
   "source": [
    "# A. Data description\n",
    "###  input data \n",
    "<ul> \n",
    "<li>there are 1000 training examples</li>\n",
    "<li>each of them is dataframe with time, mass , and intensity:: sorted by time then mass</li>\n",
    "<li>dataframe lenghts are variable</li>\n",
    "</ul>\n",
    "\n",
    "### output binary clssification\n",
    "<ul> \n",
    "<li>positive class probability</li>\n",
    "</ul>\n",
    "\n",
    "\n",
    "# B. Feature Extraction Steps\n",
    "<ul>\n",
    "<li>group mass values upto 1 decimal (0.0 to 650.0 , diff = 0.5)           /<br>-- total (1300) or multiply by 2  and take round() </li>\n",
    "<li>take time values and fill remaining with (0.00 to 53.00 , diff = 0.02) /<br>-- total (2650) or multiply by 50 and take round() </li>\n",
    "<li>create a Time X Mass matrix (2650,1300) with intensity values</li>\n",
    "\n",
    "<li>noramlize intensity values --\n",
    "    <ol> \n",
    "    <li>subtract mean</li>\n",
    "    <li>minmax scale</li>\n",
    "    </ol>   \n",
    "</li>\n",
    "<li>total 2650x1300 values = 3,445,000</li> \n",
    "</ul>\n",
    "\n",
    "# C. Model architecture\n",
    "<ul>\n",
    "<li>feed this as convolutional layers (2,5 2d conv stride 2, 5 , that is comvolute these values)  . This will group similar time and mass values</li>\n",
    "<li>feed this as pooling layers ( pooling layers with mean/ max pooling ) </li>\n",
    "<li>further data reduction steps</li>\n",
    "<li>then fully connected layers</li>\n",
    "<li>sigmoid or softmax layer</li>\n",
    "<li>output positive label probability</li>\n",
    "</ul>\n"
   ]
  },
  {
   "cell_type": "code",
   "execution_count": 3,
   "id": "22de00d6",
   "metadata": {
    "execution": {
     "iopub.execute_input": "2023-07-10T05:21:11.493997Z",
     "iopub.status.busy": "2023-07-10T05:21:11.493196Z",
     "iopub.status.idle": "2023-07-10T05:21:11.530201Z",
     "shell.execute_reply": "2023-07-10T05:21:11.529299Z"
    },
    "papermill": {
     "duration": 0.049496,
     "end_time": "2023-07-10T05:21:11.532687",
     "exception": false,
     "start_time": "2023-07-10T05:21:11.483191",
     "status": "completed"
    },
    "tags": []
   },
   "outputs": [],
   "source": [
    "metadata = pd.read_csv('/kaggle/input/mars-spec-train/metadata.csv').fillna(0)\n",
    "train_labels = pd.read_csv('/kaggle/input/mars-spec-train/train_labels.csv')"
   ]
  },
  {
   "cell_type": "code",
   "execution_count": 4,
   "id": "4a6bbb0e",
   "metadata": {
    "execution": {
     "iopub.execute_input": "2023-07-10T05:21:11.551611Z",
     "iopub.status.busy": "2023-07-10T05:21:11.550868Z",
     "iopub.status.idle": "2023-07-10T05:21:11.583387Z",
     "shell.execute_reply": "2023-07-10T05:21:11.582467Z"
    },
    "papermill": {
     "duration": 0.044712,
     "end_time": "2023-07-10T05:21:11.585710",
     "exception": false,
     "start_time": "2023-07-10T05:21:11.540998",
     "status": "completed"
    },
    "tags": []
   },
   "outputs": [
    {
     "data": {
      "text/html": [
       "<div>\n",
       "<style scoped>\n",
       "    .dataframe tbody tr th:only-of-type {\n",
       "        vertical-align: middle;\n",
       "    }\n",
       "\n",
       "    .dataframe tbody tr th {\n",
       "        vertical-align: top;\n",
       "    }\n",
       "\n",
       "    .dataframe thead th {\n",
       "        text-align: right;\n",
       "    }\n",
       "</style>\n",
       "<table border=\"1\" class=\"dataframe\">\n",
       "  <thead>\n",
       "    <tr style=\"text-align: right;\">\n",
       "      <th></th>\n",
       "      <th>sample_id</th>\n",
       "      <th>split</th>\n",
       "      <th>derivatized</th>\n",
       "      <th>features_path</th>\n",
       "      <th>features_md5_hash</th>\n",
       "    </tr>\n",
       "  </thead>\n",
       "  <tbody>\n",
       "    <tr>\n",
       "      <th>0</th>\n",
       "      <td>S0000</td>\n",
       "      <td>train</td>\n",
       "      <td>0.0</td>\n",
       "      <td>train_features/S0000.csv</td>\n",
       "      <td>52ec6d6f8372500ab4e069b5fbdae6f9</td>\n",
       "    </tr>\n",
       "    <tr>\n",
       "      <th>1</th>\n",
       "      <td>S0001</td>\n",
       "      <td>train</td>\n",
       "      <td>0.0</td>\n",
       "      <td>train_features/S0001.csv</td>\n",
       "      <td>348f90baed8a8189bf0d4c7b9ed9f965</td>\n",
       "    </tr>\n",
       "  </tbody>\n",
       "</table>\n",
       "</div>"
      ],
      "text/plain": [
       "  sample_id  split  derivatized             features_path  \\\n",
       "0     S0000  train          0.0  train_features/S0000.csv   \n",
       "1     S0001  train          0.0  train_features/S0001.csv   \n",
       "\n",
       "                  features_md5_hash  \n",
       "0  52ec6d6f8372500ab4e069b5fbdae6f9  \n",
       "1  348f90baed8a8189bf0d4c7b9ed9f965  "
      ]
     },
     "execution_count": 4,
     "metadata": {},
     "output_type": "execute_result"
    }
   ],
   "source": [
    "metadata.head(2)"
   ]
  },
  {
   "cell_type": "code",
   "execution_count": 5,
   "id": "cfcac6c6",
   "metadata": {
    "execution": {
     "iopub.execute_input": "2023-07-10T05:21:11.606355Z",
     "iopub.status.busy": "2023-07-10T05:21:11.605621Z",
     "iopub.status.idle": "2023-07-10T05:21:11.618396Z",
     "shell.execute_reply": "2023-07-10T05:21:11.617433Z"
    },
    "papermill": {
     "duration": 0.026419,
     "end_time": "2023-07-10T05:21:11.621053",
     "exception": false,
     "start_time": "2023-07-10T05:21:11.594634",
     "status": "completed"
    },
    "tags": []
   },
   "outputs": [
    {
     "data": {
      "text/html": [
       "<div>\n",
       "<style scoped>\n",
       "    .dataframe tbody tr th:only-of-type {\n",
       "        vertical-align: middle;\n",
       "    }\n",
       "\n",
       "    .dataframe tbody tr th {\n",
       "        vertical-align: top;\n",
       "    }\n",
       "\n",
       "    .dataframe thead th {\n",
       "        text-align: right;\n",
       "    }\n",
       "</style>\n",
       "<table border=\"1\" class=\"dataframe\">\n",
       "  <thead>\n",
       "    <tr style=\"text-align: right;\">\n",
       "      <th></th>\n",
       "      <th>sample_id</th>\n",
       "      <th>aromatic</th>\n",
       "      <th>hydrocarbon</th>\n",
       "      <th>carboxylic_acid</th>\n",
       "      <th>nitrogen_bearing_compound</th>\n",
       "      <th>chlorine_bearing_compound</th>\n",
       "      <th>sulfur_bearing_compound</th>\n",
       "      <th>alcohol</th>\n",
       "      <th>other_oxygen_bearing_compound</th>\n",
       "      <th>mineral</th>\n",
       "    </tr>\n",
       "  </thead>\n",
       "  <tbody>\n",
       "    <tr>\n",
       "      <th>0</th>\n",
       "      <td>S0000</td>\n",
       "      <td>0</td>\n",
       "      <td>0</td>\n",
       "      <td>0</td>\n",
       "      <td>0</td>\n",
       "      <td>0</td>\n",
       "      <td>0</td>\n",
       "      <td>0</td>\n",
       "      <td>0</td>\n",
       "      <td>1</td>\n",
       "    </tr>\n",
       "    <tr>\n",
       "      <th>1</th>\n",
       "      <td>S0001</td>\n",
       "      <td>0</td>\n",
       "      <td>0</td>\n",
       "      <td>0</td>\n",
       "      <td>0</td>\n",
       "      <td>0</td>\n",
       "      <td>0</td>\n",
       "      <td>0</td>\n",
       "      <td>0</td>\n",
       "      <td>0</td>\n",
       "    </tr>\n",
       "  </tbody>\n",
       "</table>\n",
       "</div>"
      ],
      "text/plain": [
       "  sample_id  aromatic  hydrocarbon  carboxylic_acid  \\\n",
       "0     S0000         0            0                0   \n",
       "1     S0001         0            0                0   \n",
       "\n",
       "   nitrogen_bearing_compound  chlorine_bearing_compound  \\\n",
       "0                          0                          0   \n",
       "1                          0                          0   \n",
       "\n",
       "   sulfur_bearing_compound  alcohol  other_oxygen_bearing_compound  mineral  \n",
       "0                        0        0                              0        1  \n",
       "1                        0        0                              0        0  "
      ]
     },
     "execution_count": 5,
     "metadata": {},
     "output_type": "execute_result"
    }
   ],
   "source": [
    "train_labels.head(2)"
   ]
  },
  {
   "cell_type": "markdown",
   "id": "f2596040",
   "metadata": {
    "papermill": {
     "duration": 0.008493,
     "end_time": "2023-07-10T05:21:11.638534",
     "exception": false,
     "start_time": "2023-07-10T05:21:11.630041",
     "status": "completed"
    },
    "tags": []
   },
   "source": [
    "### 2. Preprocessing, Feature extraction"
   ]
  },
  {
   "cell_type": "code",
   "execution_count": 6,
   "id": "381371f5",
   "metadata": {
    "execution": {
     "iopub.execute_input": "2023-07-10T05:21:11.658842Z",
     "iopub.status.busy": "2023-07-10T05:21:11.657860Z",
     "iopub.status.idle": "2023-07-10T05:21:11.663693Z",
     "shell.execute_reply": "2023-07-10T05:21:11.662660Z"
    },
    "papermill": {
     "duration": 0.01954,
     "end_time": "2023-07-10T05:21:11.666904",
     "exception": false,
     "start_time": "2023-07-10T05:21:11.647364",
     "status": "completed"
    },
    "tags": []
   },
   "outputs": [],
   "source": [
    "# constants\n",
    "num_mass_values = 1350\n",
    "num_time_values = 2650\n",
    "matrix_shape = (num_time_values, num_mass_values)\n"
   ]
  },
  {
   "cell_type": "code",
   "execution_count": 7,
   "id": "3143e024",
   "metadata": {
    "execution": {
     "iopub.execute_input": "2023-07-10T05:21:11.687025Z",
     "iopub.status.busy": "2023-07-10T05:21:11.686303Z",
     "iopub.status.idle": "2023-07-10T05:21:11.695513Z",
     "shell.execute_reply": "2023-07-10T05:21:11.694503Z"
    },
    "papermill": {
     "duration": 0.022151,
     "end_time": "2023-07-10T05:21:11.698077",
     "exception": false,
     "start_time": "2023-07-10T05:21:11.675926",
     "status": "completed"
    },
    "tags": []
   },
   "outputs": [],
   "source": [
    "\n",
    "# Function to create the Time X Mass matrix for a single data sample\n",
    "def create_matrix(id ):\n",
    "    \n",
    "    sample_id, split, derivate, path, _ = metadata.iloc[id]\n",
    "#     print(path)\n",
    "    path = '/kaggle/input/mars-spec-train/'+ path\n",
    "    data = pd.read_csv(path)\n",
    "\n",
    "    label = None\n",
    "    if (split == 'train'):\n",
    "        label = train_labels.iloc[id].values[1:]\n",
    "\n",
    "    # discretization of time and mass\n",
    "    data.time = (data.time*50).round()\n",
    "    data.mass = (data.mass*2).round()\n",
    "    data.time = data.time.astype(int)\n",
    "    data.mass = data.mass.astype(int)\n",
    "    \n",
    "    # scaling intensity\n",
    "    data.intensity = MinMaxScaler().fit_transform(data.intensity.values.reshape(-1, 1))\n",
    "    \n",
    "    # filling matrix\n",
    "    matrix = np.zeros(matrix_shape)\n",
    "    matrix[data['time'],data['mass']] = data['intensity']\n",
    "\n",
    "    return matrix , label\n"
   ]
  },
  {
   "cell_type": "code",
   "execution_count": 8,
   "id": "db517952",
   "metadata": {
    "execution": {
     "iopub.execute_input": "2023-07-10T05:21:11.718069Z",
     "iopub.status.busy": "2023-07-10T05:21:11.717419Z",
     "iopub.status.idle": "2023-07-10T05:21:12.179145Z",
     "shell.execute_reply": "2023-07-10T05:21:12.177825Z"
    },
    "papermill": {
     "duration": 0.474658,
     "end_time": "2023-07-10T05:21:12.181845",
     "exception": false,
     "start_time": "2023-07-10T05:21:11.707187",
     "status": "completed"
    },
    "tags": []
   },
   "outputs": [
    {
     "data": {
      "text/plain": [
       "(array([[0.00000000e+00, 0.00000000e+00, 0.00000000e+00, ...,\n",
       "         0.00000000e+00, 0.00000000e+00, 0.00000000e+00],\n",
       "        [0.00000000e+00, 0.00000000e+00, 0.00000000e+00, ...,\n",
       "         0.00000000e+00, 0.00000000e+00, 0.00000000e+00],\n",
       "        [4.55168488e-04, 0.00000000e+00, 2.90944777e-04, ...,\n",
       "         0.00000000e+00, 4.19022486e-05, 0.00000000e+00],\n",
       "        ...,\n",
       "        [1.36837532e-03, 0.00000000e+00, 4.32748397e-04, ...,\n",
       "         0.00000000e+00, 4.55471909e-05, 0.00000000e+00],\n",
       "        [1.21333399e-03, 0.00000000e+00, 4.44471924e-04, ...,\n",
       "         0.00000000e+00, 4.28115392e-05, 0.00000000e+00],\n",
       "        [1.18246090e-03, 0.00000000e+00, 4.23869442e-04, ...,\n",
       "         0.00000000e+00, 3.46279241e-05, 0.00000000e+00]]),\n",
       " array([0, 0, 0, 0, 0, 0, 0, 0, 0], dtype=object))"
      ]
     },
     "execution_count": 8,
     "metadata": {},
     "output_type": "execute_result"
    }
   ],
   "source": [
    "sample_matrix, sample_label= create_matrix(np.random.randint(809)) ## 0.2 second # max = 1120\n",
    "sample_matrix[0:100, 100:200],sample_label\n",
    "# print(sample_matrix[500:1000,np.random.randint(0,100)])"
   ]
  },
  {
   "cell_type": "markdown",
   "id": "403c32b3",
   "metadata": {
    "papermill": {
     "duration": 0.008686,
     "end_time": "2023-07-10T05:21:12.199598",
     "exception": false,
     "start_time": "2023-07-10T05:21:12.190912",
     "status": "completed"
    },
    "tags": []
   },
   "source": [
    "Dummy model"
   ]
  },
  {
   "cell_type": "code",
   "execution_count": 9,
   "id": "c969bd9e",
   "metadata": {
    "execution": {
     "iopub.execute_input": "2023-07-10T05:21:12.220740Z",
     "iopub.status.busy": "2023-07-10T05:21:12.220285Z",
     "iopub.status.idle": "2023-07-10T05:21:12.225420Z",
     "shell.execute_reply": "2023-07-10T05:21:12.224240Z"
    },
    "papermill": {
     "duration": 0.01908,
     "end_time": "2023-07-10T05:21:12.227930",
     "exception": false,
     "start_time": "2023-07-10T05:21:12.208850",
     "status": "completed"
    },
    "tags": []
   },
   "outputs": [],
   "source": [
    "training_data = range(809)  # Load your training data\n"
   ]
  },
  {
   "cell_type": "code",
   "execution_count": 10,
   "id": "25215b6b",
   "metadata": {
    "execution": {
     "iopub.execute_input": "2023-07-10T05:21:12.248414Z",
     "iopub.status.busy": "2023-07-10T05:21:12.247276Z",
     "iopub.status.idle": "2023-07-10T05:21:12.258922Z",
     "shell.execute_reply": "2023-07-10T05:21:12.257721Z"
    },
    "papermill": {
     "duration": 0.024951,
     "end_time": "2023-07-10T05:21:12.261889",
     "exception": false,
     "start_time": "2023-07-10T05:21:12.236938",
     "status": "completed"
    },
    "tags": []
   },
   "outputs": [],
   "source": [
    "class DataGenerator(Sequence):\n",
    "    \n",
    "    def __init__(self, data, batch_size):\n",
    "        self.data = data\n",
    "        self.batch_size = batch_size\n",
    "    def __len__(self):\n",
    "        return len(self.data) // self.batch_size\n",
    "\n",
    "    def __getitem__(self, idx):        \n",
    "        \n",
    "        low = idx * self.batch_size\n",
    "        high = min(low + self.batch_size, len(self.data))\n",
    "        batch_x = []\n",
    "        batch_y = []\n",
    "\n",
    "        for i,data_sample in enumerate(self.data[low:high]):\n",
    "            processed_sample, processed_label = self.preprocess_data(data_sample)\n",
    "            batch_x.append(processed_sample)\n",
    "            batch_y.append(processed_label)\n",
    "        return np.array(batch_x), np.array(batch_y)\n",
    "\n",
    "    def preprocess_data(self, data_sample):\n",
    "        # Perform the feature extraction steps and create the matrix\n",
    "        matrix, label = create_matrix(data_sample)\n",
    "        if type(label) == np.ndarray:\n",
    "            label = np.array(label).astype(int)\n",
    "        return matrix , label\n",
    "    \n",
    "    def getLabel(self, data_sample):\n",
    "        matrix, label = create_matrix(data_sample)\n",
    "        if type(label) == np.ndarray:\n",
    "            label = np.array(label).astype(int)\n",
    "        return label\n"
   ]
  },
  {
   "cell_type": "code",
   "execution_count": 11,
   "id": "dd90b529",
   "metadata": {
    "execution": {
     "iopub.execute_input": "2023-07-10T05:21:12.282561Z",
     "iopub.status.busy": "2023-07-10T05:21:12.281728Z",
     "iopub.status.idle": "2023-07-10T05:21:12.295405Z",
     "shell.execute_reply": "2023-07-10T05:21:12.294278Z"
    },
    "papermill": {
     "duration": 0.026681,
     "end_time": "2023-07-10T05:21:12.297821",
     "exception": false,
     "start_time": "2023-07-10T05:21:12.271140",
     "status": "completed"
    },
    "tags": []
   },
   "outputs": [
    {
     "data": {
      "text/plain": [
       "array([[0, 1, 0, 0, 0, 0, 0, 0, 0],\n",
       "       [0, 0, 1, 0, 0, 0, 0, 0, 0],\n",
       "       [0, 1, 0, 0, 0, 0, 0, 0, 0]])"
      ]
     },
     "execution_count": 11,
     "metadata": {},
     "output_type": "execute_result"
    }
   ],
   "source": [
    "train_data, val_data = train_test_split(training_data, test_size=0.2, random_state=42)\n",
    "train_labels.iloc[[3,334,534]].values[:,1:].astype(int)"
   ]
  },
  {
   "cell_type": "code",
   "execution_count": 12,
   "id": "45587a0b",
   "metadata": {
    "execution": {
     "iopub.execute_input": "2023-07-10T05:21:12.318403Z",
     "iopub.status.busy": "2023-07-10T05:21:12.317617Z",
     "iopub.status.idle": "2023-07-10T05:21:12.582377Z",
     "shell.execute_reply": "2023-07-10T05:21:12.580890Z"
    },
    "papermill": {
     "duration": 0.284895,
     "end_time": "2023-07-10T05:21:12.591963",
     "exception": false,
     "start_time": "2023-07-10T05:21:12.307068",
     "status": "completed"
    },
    "tags": []
   },
   "outputs": [
    {
     "name": "stdout",
     "output_type": "stream",
     "text": [
      "Model: \"sequential\"\n",
      "_________________________________________________________________\n",
      " Layer (type)                Output Shape              Param #   \n",
      "=================================================================\n",
      " conv2d (Conv2D)             (None, 1323, 1347, 4)     84        \n",
      "                                                                 \n",
      " max_pooling2d (MaxPooling2D  (None, 32, 133, 4)       0         \n",
      " )                                                               \n",
      "                                                                 \n",
      " flatten (Flatten)           (None, 17024)             0         \n",
      "                                                                 \n",
      " dense (Dense)               (None, 32)                544800    \n",
      "                                                                 \n",
      " dense_1 (Dense)             (None, 9)                 297       \n",
      "                                                                 \n",
      "=================================================================\n",
      "Total params: 545,181\n",
      "Trainable params: 545,181\n",
      "Non-trainable params: 0\n",
      "_________________________________________________________________\n"
     ]
    }
   ],
   "source": [
    "from tensorflow.keras.models import Sequential\n",
    "from tensorflow.keras.layers import Conv2D, MaxPooling2D, Flatten, Dense\n",
    "\n",
    "model = Sequential()\n",
    "\n",
    "model.add(Conv2D(4, kernel_size=(5, 4),strides = (2,1), activation='relu', input_shape=(2650, 1350, 1)))\n",
    "model.add(MaxPooling2D(pool_size=(80, 20), strides=(40,10)))\n",
    "\n",
    "model.add(Flatten())\n",
    "\n",
    "model.add(Dense(32, activation='relu'))\n",
    "\n",
    "model.add(Dense(9, activation='sigmoid'))\n",
    "\n",
    "model.compile(loss='binary_crossentropy', optimizer='adam', metrics=['accuracy'])\n",
    "\n",
    "# Define the batch size and number of epochs\n",
    "batch_size = 16\n",
    "num_epochs = 32\n",
    "\n",
    "# Create instances of the custom data generator for training and validation\n",
    "train_data_generator = DataGenerator(train_data, batch_size)\n",
    "val_data_generator = DataGenerator(val_data, batch_size)\n",
    "\n",
    "model.summary()"
   ]
  },
  {
   "cell_type": "code",
   "execution_count": 13,
   "id": "68d5d353",
   "metadata": {
    "execution": {
     "iopub.execute_input": "2023-07-10T05:21:12.616710Z",
     "iopub.status.busy": "2023-07-10T05:21:12.615823Z",
     "iopub.status.idle": "2023-07-10T07:37:24.954080Z",
     "shell.execute_reply": "2023-07-10T07:37:24.947859Z"
    },
    "papermill": {
     "duration": 8172.425772,
     "end_time": "2023-07-10T07:37:25.028608",
     "exception": false,
     "start_time": "2023-07-10T05:21:12.602836",
     "status": "completed"
    },
    "tags": []
   },
   "outputs": [
    {
     "name": "stdout",
     "output_type": "stream",
     "text": [
      "Epoch 1/32\n",
      "40/40 [==============================] - 528s 13s/step - loss: 0.4102 - accuracy: 0.2266 - val_loss: 0.2681 - val_accuracy: 0.2875\n",
      "Epoch 2/32\n",
      "40/40 [==============================] - 491s 12s/step - loss: 0.2833 - accuracy: 0.3391 - val_loss: 0.2458 - val_accuracy: 0.3625\n",
      "Epoch 3/32\n",
      "40/40 [==============================] - 540s 13s/step - loss: 0.2465 - accuracy: 0.4031 - val_loss: 0.2108 - val_accuracy: 0.4062\n",
      "Epoch 4/32\n",
      "40/40 [==============================] - 519s 13s/step - loss: 0.2106 - accuracy: 0.4703 - val_loss: 0.1869 - val_accuracy: 0.4688\n",
      "Epoch 5/32\n",
      "40/40 [==============================] - 539s 13s/step - loss: 0.1879 - accuracy: 0.4953 - val_loss: 0.1793 - val_accuracy: 0.4563\n",
      "Epoch 6/32\n",
      "40/40 [==============================] - 540s 13s/step - loss: 0.1720 - accuracy: 0.5063 - val_loss: 0.1646 - val_accuracy: 0.4688\n",
      "Epoch 7/32\n",
      "40/40 [==============================] - 532s 13s/step - loss: 0.1586 - accuracy: 0.5109 - val_loss: 0.1622 - val_accuracy: 0.4500\n",
      "Epoch 8/32\n",
      "40/40 [==============================] - 539s 13s/step - loss: 0.1474 - accuracy: 0.5016 - val_loss: 0.1618 - val_accuracy: 0.4750\n",
      "Epoch 9/32\n",
      "40/40 [==============================] - 531s 13s/step - loss: 0.1417 - accuracy: 0.5094 - val_loss: 0.1591 - val_accuracy: 0.4625\n",
      "Epoch 10/32\n",
      "40/40 [==============================] - 525s 13s/step - loss: 0.1309 - accuracy: 0.5156 - val_loss: 0.1539 - val_accuracy: 0.4437\n",
      "Epoch 11/32\n",
      "40/40 [==============================] - 542s 13s/step - loss: 0.1276 - accuracy: 0.5078 - val_loss: 0.1538 - val_accuracy: 0.4437\n",
      "Epoch 12/32\n",
      "40/40 [==============================] - 525s 13s/step - loss: 0.1198 - accuracy: 0.5109 - val_loss: 0.1535 - val_accuracy: 0.4625\n",
      "Epoch 13/32\n",
      "40/40 [==============================] - 548s 14s/step - loss: 0.1151 - accuracy: 0.5203 - val_loss: 0.1548 - val_accuracy: 0.4563\n",
      "Epoch 14/32\n",
      "40/40 [==============================] - 542s 13s/step - loss: 0.1062 - accuracy: 0.5125 - val_loss: 0.1619 - val_accuracy: 0.4750\n",
      "Epoch 15/32\n",
      "40/40 [==============================] - 547s 14s/step - loss: 0.1017 - accuracy: 0.5344 - val_loss: 0.1565 - val_accuracy: 0.4563\n"
     ]
    }
   ],
   "source": [
    "from tensorflow.keras.callbacks import EarlyStopping\n",
    "es = EarlyStopping(monitor = 'val_loss', patience = 3 )\n",
    "\n",
    "history = model.fit(train_data_generator, epochs=num_epochs, validation_data=val_data_generator, callbacks=[es])"
   ]
  },
  {
   "cell_type": "code",
   "execution_count": 14,
   "id": "a9d4e94f",
   "metadata": {
    "execution": {
     "iopub.execute_input": "2023-07-10T07:37:25.180491Z",
     "iopub.status.busy": "2023-07-10T07:37:25.178628Z",
     "iopub.status.idle": "2023-07-10T07:37:25.388810Z",
     "shell.execute_reply": "2023-07-10T07:37:25.387313Z"
    },
    "papermill": {
     "duration": 0.291748,
     "end_time": "2023-07-10T07:37:25.392193",
     "exception": false,
     "start_time": "2023-07-10T07:37:25.100445",
     "status": "completed"
    },
    "tags": []
   },
   "outputs": [],
   "source": [
    "# model = ...  # Get model (Sequential, Functional Model, or Model subclass)\n",
    "model.save('model.keras')\n",
    "# metadata.to_csv(\"opopo\")"
   ]
  },
  {
   "cell_type": "code",
   "execution_count": 15,
   "id": "777a3488",
   "metadata": {
    "execution": {
     "iopub.execute_input": "2023-07-10T07:37:25.533181Z",
     "iopub.status.busy": "2023-07-10T07:37:25.532716Z",
     "iopub.status.idle": "2023-07-10T07:44:40.573876Z",
     "shell.execute_reply": "2023-07-10T07:44:40.572112Z"
    },
    "papermill": {
     "duration": 435.117237,
     "end_time": "2023-07-10T07:44:40.577691",
     "exception": false,
     "start_time": "2023-07-10T07:37:25.460454",
     "status": "completed"
    },
    "tags": []
   },
   "outputs": [
    {
     "name": "stdout",
     "output_type": "stream",
     "text": [
      "0\n",
      "100\n",
      "200\n",
      "300\n",
      "400\n",
      "500\n",
      "600\n"
     ]
    }
   ],
   "source": [
    "train_loss = 0\n",
    "train_lab = []\n",
    "train_pred = []\n",
    "from sklearn.metrics import log_loss\n",
    "for i,data in enumerate(train_data):\n",
    "    mat , lab = create_matrix(data)\n",
    "    lab = np.array(lab).astype(int).reshape(1,9)\n",
    "    pred = model.predict(mat.reshape(-1,2650,1350,1), verbose = 0)\n",
    "    train_lab.append(lab)\n",
    "    train_pred.append(pred)\n",
    "    if (i%100 == 0):\n",
    "        print (i)"
   ]
  },
  {
   "cell_type": "code",
   "execution_count": 16,
   "id": "a77b3c45",
   "metadata": {
    "execution": {
     "iopub.execute_input": "2023-07-10T07:44:40.719795Z",
     "iopub.status.busy": "2023-07-10T07:44:40.718939Z",
     "iopub.status.idle": "2023-07-10T07:44:40.756698Z",
     "shell.execute_reply": "2023-07-10T07:44:40.755332Z"
    },
    "papermill": {
     "duration": 0.110944,
     "end_time": "2023-07-10T07:44:40.759704",
     "exception": false,
     "start_time": "2023-07-10T07:44:40.648760",
     "status": "completed"
    },
    "tags": []
   },
   "outputs": [
    {
     "name": "stdout",
     "output_type": "stream",
     "text": [
      "train log loss : 0.9031385106273444\n"
     ]
    }
   ],
   "source": [
    "\n",
    "train_lab = np.array(train_lab).reshape(-1,9)\n",
    "train_pred = np.array(train_pred).reshape(-1,9)\n",
    "print(f\"train log loss : {log_loss(train_lab, train_pred)}\")"
   ]
  },
  {
   "cell_type": "code",
   "execution_count": 17,
   "id": "9df01dee",
   "metadata": {
    "execution": {
     "iopub.execute_input": "2023-07-10T07:44:40.899166Z",
     "iopub.status.busy": "2023-07-10T07:44:40.898535Z",
     "iopub.status.idle": "2023-07-10T07:46:21.690934Z",
     "shell.execute_reply": "2023-07-10T07:46:21.689417Z"
    },
    "papermill": {
     "duration": 100.865725,
     "end_time": "2023-07-10T07:46:21.694350",
     "exception": false,
     "start_time": "2023-07-10T07:44:40.828625",
     "status": "completed"
    },
    "tags": []
   },
   "outputs": [
    {
     "name": "stdout",
     "output_type": "stream",
     "text": [
      "0\n",
      "100\n"
     ]
    }
   ],
   "source": [
    "val_loss = 0\n",
    "val_lab = []\n",
    "val_pred = []\n",
    "from sklearn.metrics import log_loss\n",
    "for i,data in enumerate(val_data):\n",
    "    mat , lab = create_matrix(data)\n",
    "    lab = np.array(lab).astype(int).reshape(1,9)\n",
    "    pred = model.predict(mat.reshape(-1,2650,1350,1), verbose = 0)\n",
    "    val_lab.append(lab)\n",
    "    val_pred.append(pred)\n",
    "    if (i%100 == 0):\n",
    "        print (i)"
   ]
  },
  {
   "cell_type": "code",
   "execution_count": 18,
   "id": "6ed0be2c",
   "metadata": {
    "execution": {
     "iopub.execute_input": "2023-07-10T07:46:21.854291Z",
     "iopub.status.busy": "2023-07-10T07:46:21.853859Z",
     "iopub.status.idle": "2023-07-10T07:46:21.864308Z",
     "shell.execute_reply": "2023-07-10T07:46:21.862955Z"
    },
    "papermill": {
     "duration": 0.093345,
     "end_time": "2023-07-10T07:46:21.867041",
     "exception": false,
     "start_time": "2023-07-10T07:46:21.773696",
     "status": "completed"
    },
    "tags": []
   },
   "outputs": [
    {
     "name": "stdout",
     "output_type": "stream",
     "text": [
      "train log loss : 1.032151166868233\n"
     ]
    }
   ],
   "source": [
    "val_lab = np.array(val_lab).reshape(-1,9)\n",
    "val_pred = np.array(val_pred).reshape(-1,9)\n",
    "print(f\"train log loss : {log_loss(val_lab, val_pred)}\")"
   ]
  },
  {
   "cell_type": "code",
   "execution_count": 19,
   "id": "75ebe032",
   "metadata": {
    "execution": {
     "iopub.execute_input": "2023-07-10T07:46:22.027464Z",
     "iopub.status.busy": "2023-07-10T07:46:22.027038Z",
     "iopub.status.idle": "2023-07-10T07:46:22.035725Z",
     "shell.execute_reply": "2023-07-10T07:46:22.034633Z"
    },
    "papermill": {
     "duration": 0.091883,
     "end_time": "2023-07-10T07:46:22.038402",
     "exception": false,
     "start_time": "2023-07-10T07:46:21.946519",
     "status": "completed"
    },
    "tags": []
   },
   "outputs": [
    {
     "name": "stdout",
     "output_type": "stream",
     "text": [
      "valid log loss : 1.032151166868233\n"
     ]
    }
   ],
   "source": [
    "print(f\"valid log loss : {log_loss(val_lab, val_pred).mean()}\")"
   ]
  },
  {
   "cell_type": "markdown",
   "id": "bc08f3c2",
   "metadata": {
    "papermill": {
     "duration": 0.077467,
     "end_time": "2023-07-10T07:46:22.194155",
     "exception": false,
     "start_time": "2023-07-10T07:46:22.116688",
     "status": "completed"
    },
    "tags": []
   },
   "source": [
    "train log loss : 1.0316461173431106 \\\n",
    "valid log loss : 1.0560311513842007 \\\n",
    "sample predictions below"
   ]
  },
  {
   "cell_type": "code",
   "execution_count": 20,
   "id": "b59afeca",
   "metadata": {
    "execution": {
     "iopub.execute_input": "2023-07-10T07:46:22.351402Z",
     "iopub.status.busy": "2023-07-10T07:46:22.350193Z",
     "iopub.status.idle": "2023-07-10T07:46:29.164022Z",
     "shell.execute_reply": "2023-07-10T07:46:29.161062Z"
    },
    "papermill": {
     "duration": 6.896967,
     "end_time": "2023-07-10T07:46:29.168335",
     "exception": false,
     "start_time": "2023-07-10T07:46:22.271368",
     "status": "completed"
    },
    "tags": []
   },
   "outputs": [
    {
     "name": "stdout",
     "output_type": "stream",
     "text": [
      "1th prediction\n",
      "prediction :  [0 0 0 0 0 0 0 0 0]\n",
      "true label :  [0 0 0 0 0 0 0 0 0]\n",
      "2th prediction\n",
      "prediction :  [0 0 0 0 0 0 0 0 0]\n",
      "true label :  [0 0 0 0 0 0 0 0 0]\n",
      "3th prediction\n",
      "prediction :  [0 0 0 0 0 0 0 0 0]\n",
      "true label :  [0 0 0 0 0 0 1 0 0]\n",
      "4th prediction\n",
      "prediction :  [0 0 0 0 0 0 0 0 0]\n",
      "true label :  [0 0 0 0 0 0 0 0 0]\n",
      "5th prediction\n",
      "prediction :  [0 0 0 0 0 0 0 0 1]\n",
      "true label :  [0 0 0 0 0 0 0 0 0]\n",
      "6th prediction\n",
      "prediction :  [0 0 0 0 0 0 0 0 1]\n",
      "true label :  [0 0 0 0 0 0 0 0 1]\n",
      "7th prediction\n",
      "prediction :  [0 0 0 0 0 0 0 0 0]\n",
      "true label :  [0 0 0 0 0 0 0 0 0]\n",
      "8th prediction\n",
      "prediction :  [1 0 1 1 0 0 0 0 0]\n",
      "true label :  [1 0 1 1 0 0 0 0 0]\n",
      "9th prediction\n",
      "prediction :  [0 0 0 0 0 0 0 0 0]\n",
      "true label :  [0 0 0 0 0 0 0 0 0]\n",
      "10th prediction\n",
      "prediction :  [0 1 0 0 0 0 0 0 0]\n",
      "true label :  [0 1 0 0 0 0 0 0 0]\n"
     ]
    }
   ],
   "source": [
    "for i in range (10):\n",
    "    sample_matrix, sample_label= create_matrix(np.random.randint(809)) ## 0.2 second # max = 1120\n",
    "    print (f\"{i+1}th prediction\")\n",
    "    print(\"prediction : \",(model.predict(sample_matrix.reshape(-1, 2650,1350,1),verbose = 0).round().astype(int)).squeeze())\n",
    "    print(\"true label : \",np.array(sample_label))"
   ]
  }
 ],
 "metadata": {
  "kernelspec": {
   "display_name": "Python 3",
   "language": "python",
   "name": "python3"
  },
  "language_info": {
   "codemirror_mode": {
    "name": "ipython",
    "version": 3
   },
   "file_extension": ".py",
   "mimetype": "text/x-python",
   "name": "python",
   "nbconvert_exporter": "python",
   "pygments_lexer": "ipython3",
   "version": "3.10.10"
  },
  "papermill": {
   "default_parameters": {},
   "duration": 8745.274366,
   "end_time": "2023-07-10T07:46:32.454898",
   "environment_variables": {},
   "exception": null,
   "input_path": "__notebook__.ipynb",
   "output_path": "__notebook__.ipynb",
   "parameters": {},
   "start_time": "2023-07-10T05:20:47.180532",
   "version": "2.4.0"
  }
 },
 "nbformat": 4,
 "nbformat_minor": 5
}
