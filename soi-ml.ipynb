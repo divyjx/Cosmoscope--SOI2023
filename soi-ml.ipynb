{
 "cells": [
  {
   "cell_type": "code",
   "execution_count": 1,
   "id": "850aedca",
   "metadata": {
    "execution": {
     "iopub.execute_input": "2023-07-09T20:07:57.924889Z",
     "iopub.status.busy": "2023-07-09T20:07:57.924386Z",
     "iopub.status.idle": "2023-07-09T20:07:58.036366Z",
     "shell.execute_reply": "2023-07-09T20:07:58.035554Z"
    },
    "papermill": {
     "duration": 0.124542,
     "end_time": "2023-07-09T20:07:58.038860",
     "exception": false,
     "start_time": "2023-07-09T20:07:57.914318",
     "status": "completed"
    },
    "tags": []
   },
   "outputs": [
    {
     "name": "stdout",
     "output_type": "stream",
     "text": [
      "/kaggle/input/mars-spec-train/train_labels.csv\n",
      "/kaggle/input/mars-spec-train/train_features/S0459.csv\n"
     ]
    }
   ],
   "source": [
    "# This Python 3 environment comes with many helpful analytics libraries installed\n",
    "# It is defined by the kaggle/python Docker image: https://github.com/kaggle/docker-python\n",
    "# For example, here's several helpful packages to load\n",
    "\n",
    "import numpy as np # linear algebra\n",
    "import pandas as pd # data processing, CSV file I/O (e.g. pd.read_csv)\n",
    "\n",
    "# Input data files are available in the read-only \"../input/\" directory\n",
    "# For example, running this (by clicking run or pressing Shift+Enter) will list all files under the input directory\n",
    "\n",
    "import os\n",
    "for dirname, _, filenames in os.walk('/kaggle/input'):\n",
    "    for filename in filenames:\n",
    "        print(os.path.join(dirname, filename))\n",
    "        break\n",
    "# You can write up to 20GB to the current directory (/kaggle/working/) that gets preserved as output when you create a version using \"Save & Run All\" \n",
    "# You can also write temporary files to /kaggle/temp/, but they won't be saved outside of the current session"
   ]
  },
  {
   "cell_type": "markdown",
   "id": "ad0e5ef9",
   "metadata": {
    "papermill": {
     "duration": 0.007885,
     "end_time": "2023-07-09T20:07:58.055024",
     "exception": false,
     "start_time": "2023-07-09T20:07:58.047139",
     "status": "completed"
    },
    "tags": []
   },
   "source": [
    "### 1. Loading data and libraries "
   ]
  },
  {
   "cell_type": "code",
   "execution_count": 2,
   "id": "326b2782",
   "metadata": {
    "execution": {
     "iopub.execute_input": "2023-07-09T20:07:58.073183Z",
     "iopub.status.busy": "2023-07-09T20:07:58.072441Z",
     "iopub.status.idle": "2023-07-09T20:08:09.359569Z",
     "shell.execute_reply": "2023-07-09T20:08:09.358308Z"
    },
    "papermill": {
     "duration": 11.299418,
     "end_time": "2023-07-09T20:08:09.362430",
     "exception": false,
     "start_time": "2023-07-09T20:07:58.063012",
     "status": "completed"
    },
    "tags": []
   },
   "outputs": [
    {
     "name": "stderr",
     "output_type": "stream",
     "text": [
      "/opt/conda/lib/python3.10/site-packages/tensorflow_io/python/ops/__init__.py:98: UserWarning: unable to load libtensorflow_io_plugins.so: unable to open file: libtensorflow_io_plugins.so, from paths: ['/opt/conda/lib/python3.10/site-packages/tensorflow_io/python/ops/libtensorflow_io_plugins.so']\n",
      "caused by: ['/opt/conda/lib/python3.10/site-packages/tensorflow_io/python/ops/libtensorflow_io_plugins.so: undefined symbol: _ZN3tsl6StatusC1EN10tensorflow5error4CodeESt17basic_string_viewIcSt11char_traitsIcEENS_14SourceLocationE']\n",
      "  warnings.warn(f\"unable to load libtensorflow_io_plugins.so: {e}\")\n",
      "/opt/conda/lib/python3.10/site-packages/tensorflow_io/python/ops/__init__.py:104: UserWarning: file system plugins are not loaded: unable to open file: libtensorflow_io.so, from paths: ['/opt/conda/lib/python3.10/site-packages/tensorflow_io/python/ops/libtensorflow_io.so']\n",
      "caused by: ['/opt/conda/lib/python3.10/site-packages/tensorflow_io/python/ops/libtensorflow_io.so: undefined symbol: _ZTVN10tensorflow13GcsFileSystemE']\n",
      "  warnings.warn(f\"file system plugins are not loaded: {e}\")\n"
     ]
    }
   ],
   "source": [
    "# for processing numbers and files csv\n",
    "import pandas as pd\n",
    "import numpy as np\n",
    "\n",
    "# for visualization\n",
    "# import matplotlib.pyplot as plt\n",
    "import seaborn as sns\n",
    "# %matplotlib inline\n",
    "\n",
    "# preprocessing \n",
    "# from scipy.fft import fft\n",
    "from sklearn.preprocessing import MinMaxScaler\n",
    "from sklearn.model_selection import train_test_split\n",
    "\n",
    "# model related\n",
    "from tensorflow.keras.utils import Sequence\n",
    "from tensorflow.keras.models import Sequential\n",
    "from tensorflow.keras.layers import Conv2D, MaxPooling2D, Flatten, Dense\n",
    "\n",
    "import tensorflow as tf\n",
    "# other\n",
    "import copy\n",
    "# from scipy.signal import find_peaks\n"
   ]
  },
  {
   "cell_type": "markdown",
   "id": "0589a204",
   "metadata": {
    "papermill": {
     "duration": 0.008271,
     "end_time": "2023-07-09T20:08:09.379626",
     "exception": false,
     "start_time": "2023-07-09T20:08:09.371355",
     "status": "completed"
    },
    "tags": []
   },
   "source": [
    "# A. Data description\n",
    "###  input data \n",
    "<ul> \n",
    "<li>there are 1000 training examples</li>\n",
    "<li>each of them is dataframe with time, mass , and intensity:: sorted by time then mass</li>\n",
    "<li>dataframe lenghts are variable</li>\n",
    "</ul>\n",
    "\n",
    "### output binary clssification\n",
    "<ul> \n",
    "<li>positive class probability</li>\n",
    "</ul>\n",
    "\n",
    "\n",
    "# B. Feature Extraction Steps\n",
    "<ul>\n",
    "<li>group mass values upto 1 decimal (0.0 to 650.0 , diff = 0.5)           /<br>-- total (1300) or multiply by 2  and take round() </li>\n",
    "<li>take time values and fill remaining with (0.00 to 53.00 , diff = 0.02) /<br>-- total (2650) or multiply by 50 and take round() </li>\n",
    "<li>create a Time X Mass matrix (2650,1300) with intensity values</li>\n",
    "\n",
    "<li>noramlize intensity values --\n",
    "    <ol> \n",
    "    <li>subtract mean</li>\n",
    "    <li>minmax scale</li>\n",
    "    </ol>   \n",
    "</li>\n",
    "<li>total 2650x1300 values = 3,445,000</li> \n",
    "</ul>\n",
    "\n",
    "# C. Model architecture\n",
    "<ul>\n",
    "<li>feed this as convolutional layers (2,5 2d conv stride 2, 5 , that is comvolute these values)  . This will group similar time and mass values</li>\n",
    "<li>feed this as pooling layers ( pooling layers with mean/ max pooling ) </li>\n",
    "<li>further data reduction steps</li>\n",
    "<li>then fully connected layers</li>\n",
    "<li>sigmoid or softmax layer</li>\n",
    "<li>output positive label probability</li>\n",
    "</ul>\n"
   ]
  },
  {
   "cell_type": "code",
   "execution_count": 3,
   "id": "f757d5b1",
   "metadata": {
    "execution": {
     "iopub.execute_input": "2023-07-09T20:08:09.400301Z",
     "iopub.status.busy": "2023-07-09T20:08:09.399476Z",
     "iopub.status.idle": "2023-07-09T20:08:09.437018Z",
     "shell.execute_reply": "2023-07-09T20:08:09.435886Z"
    },
    "papermill": {
     "duration": 0.051748,
     "end_time": "2023-07-09T20:08:09.439647",
     "exception": false,
     "start_time": "2023-07-09T20:08:09.387899",
     "status": "completed"
    },
    "tags": []
   },
   "outputs": [],
   "source": [
    "metadata = pd.read_csv('/kaggle/input/mars-spec-train/metadata.csv').fillna(0)\n",
    "train_labels = pd.read_csv('/kaggle/input/mars-spec-train/train_labels.csv')"
   ]
  },
  {
   "cell_type": "code",
   "execution_count": 4,
   "id": "657ff873",
   "metadata": {
    "execution": {
     "iopub.execute_input": "2023-07-09T20:08:09.458675Z",
     "iopub.status.busy": "2023-07-09T20:08:09.457622Z",
     "iopub.status.idle": "2023-07-09T20:08:09.491189Z",
     "shell.execute_reply": "2023-07-09T20:08:09.490129Z"
    },
    "papermill": {
     "duration": 0.045786,
     "end_time": "2023-07-09T20:08:09.493833",
     "exception": false,
     "start_time": "2023-07-09T20:08:09.448047",
     "status": "completed"
    },
    "tags": []
   },
   "outputs": [
    {
     "data": {
      "text/html": [
       "<div>\n",
       "<style scoped>\n",
       "    .dataframe tbody tr th:only-of-type {\n",
       "        vertical-align: middle;\n",
       "    }\n",
       "\n",
       "    .dataframe tbody tr th {\n",
       "        vertical-align: top;\n",
       "    }\n",
       "\n",
       "    .dataframe thead th {\n",
       "        text-align: right;\n",
       "    }\n",
       "</style>\n",
       "<table border=\"1\" class=\"dataframe\">\n",
       "  <thead>\n",
       "    <tr style=\"text-align: right;\">\n",
       "      <th></th>\n",
       "      <th>sample_id</th>\n",
       "      <th>split</th>\n",
       "      <th>derivatized</th>\n",
       "      <th>features_path</th>\n",
       "      <th>features_md5_hash</th>\n",
       "    </tr>\n",
       "  </thead>\n",
       "  <tbody>\n",
       "    <tr>\n",
       "      <th>0</th>\n",
       "      <td>S0000</td>\n",
       "      <td>train</td>\n",
       "      <td>0.0</td>\n",
       "      <td>train_features/S0000.csv</td>\n",
       "      <td>52ec6d6f8372500ab4e069b5fbdae6f9</td>\n",
       "    </tr>\n",
       "    <tr>\n",
       "      <th>1</th>\n",
       "      <td>S0001</td>\n",
       "      <td>train</td>\n",
       "      <td>0.0</td>\n",
       "      <td>train_features/S0001.csv</td>\n",
       "      <td>348f90baed8a8189bf0d4c7b9ed9f965</td>\n",
       "    </tr>\n",
       "  </tbody>\n",
       "</table>\n",
       "</div>"
      ],
      "text/plain": [
       "  sample_id  split  derivatized             features_path  \\\n",
       "0     S0000  train          0.0  train_features/S0000.csv   \n",
       "1     S0001  train          0.0  train_features/S0001.csv   \n",
       "\n",
       "                  features_md5_hash  \n",
       "0  52ec6d6f8372500ab4e069b5fbdae6f9  \n",
       "1  348f90baed8a8189bf0d4c7b9ed9f965  "
      ]
     },
     "execution_count": 4,
     "metadata": {},
     "output_type": "execute_result"
    }
   ],
   "source": [
    "metadata.head(2)"
   ]
  },
  {
   "cell_type": "code",
   "execution_count": 5,
   "id": "65483153",
   "metadata": {
    "execution": {
     "iopub.execute_input": "2023-07-09T20:08:09.512717Z",
     "iopub.status.busy": "2023-07-09T20:08:09.512284Z",
     "iopub.status.idle": "2023-07-09T20:08:09.526003Z",
     "shell.execute_reply": "2023-07-09T20:08:09.524976Z"
    },
    "papermill": {
     "duration": 0.025819,
     "end_time": "2023-07-09T20:08:09.528376",
     "exception": false,
     "start_time": "2023-07-09T20:08:09.502557",
     "status": "completed"
    },
    "tags": []
   },
   "outputs": [
    {
     "data": {
      "text/html": [
       "<div>\n",
       "<style scoped>\n",
       "    .dataframe tbody tr th:only-of-type {\n",
       "        vertical-align: middle;\n",
       "    }\n",
       "\n",
       "    .dataframe tbody tr th {\n",
       "        vertical-align: top;\n",
       "    }\n",
       "\n",
       "    .dataframe thead th {\n",
       "        text-align: right;\n",
       "    }\n",
       "</style>\n",
       "<table border=\"1\" class=\"dataframe\">\n",
       "  <thead>\n",
       "    <tr style=\"text-align: right;\">\n",
       "      <th></th>\n",
       "      <th>sample_id</th>\n",
       "      <th>aromatic</th>\n",
       "      <th>hydrocarbon</th>\n",
       "      <th>carboxylic_acid</th>\n",
       "      <th>nitrogen_bearing_compound</th>\n",
       "      <th>chlorine_bearing_compound</th>\n",
       "      <th>sulfur_bearing_compound</th>\n",
       "      <th>alcohol</th>\n",
       "      <th>other_oxygen_bearing_compound</th>\n",
       "      <th>mineral</th>\n",
       "    </tr>\n",
       "  </thead>\n",
       "  <tbody>\n",
       "    <tr>\n",
       "      <th>0</th>\n",
       "      <td>S0000</td>\n",
       "      <td>0</td>\n",
       "      <td>0</td>\n",
       "      <td>0</td>\n",
       "      <td>0</td>\n",
       "      <td>0</td>\n",
       "      <td>0</td>\n",
       "      <td>0</td>\n",
       "      <td>0</td>\n",
       "      <td>1</td>\n",
       "    </tr>\n",
       "    <tr>\n",
       "      <th>1</th>\n",
       "      <td>S0001</td>\n",
       "      <td>0</td>\n",
       "      <td>0</td>\n",
       "      <td>0</td>\n",
       "      <td>0</td>\n",
       "      <td>0</td>\n",
       "      <td>0</td>\n",
       "      <td>0</td>\n",
       "      <td>0</td>\n",
       "      <td>0</td>\n",
       "    </tr>\n",
       "  </tbody>\n",
       "</table>\n",
       "</div>"
      ],
      "text/plain": [
       "  sample_id  aromatic  hydrocarbon  carboxylic_acid  \\\n",
       "0     S0000         0            0                0   \n",
       "1     S0001         0            0                0   \n",
       "\n",
       "   nitrogen_bearing_compound  chlorine_bearing_compound  \\\n",
       "0                          0                          0   \n",
       "1                          0                          0   \n",
       "\n",
       "   sulfur_bearing_compound  alcohol  other_oxygen_bearing_compound  mineral  \n",
       "0                        0        0                              0        1  \n",
       "1                        0        0                              0        0  "
      ]
     },
     "execution_count": 5,
     "metadata": {},
     "output_type": "execute_result"
    }
   ],
   "source": [
    "train_labels.head(2)"
   ]
  },
  {
   "cell_type": "markdown",
   "id": "de3754b8",
   "metadata": {
    "papermill": {
     "duration": 0.008476,
     "end_time": "2023-07-09T20:08:09.545708",
     "exception": false,
     "start_time": "2023-07-09T20:08:09.537232",
     "status": "completed"
    },
    "tags": []
   },
   "source": [
    "### 2. Preprocessing, Feature extraction"
   ]
  },
  {
   "cell_type": "code",
   "execution_count": 6,
   "id": "ce26a33f",
   "metadata": {
    "execution": {
     "iopub.execute_input": "2023-07-09T20:08:09.565645Z",
     "iopub.status.busy": "2023-07-09T20:08:09.564913Z",
     "iopub.status.idle": "2023-07-09T20:08:09.570425Z",
     "shell.execute_reply": "2023-07-09T20:08:09.569399Z"
    },
    "papermill": {
     "duration": 0.017775,
     "end_time": "2023-07-09T20:08:09.572636",
     "exception": false,
     "start_time": "2023-07-09T20:08:09.554861",
     "status": "completed"
    },
    "tags": []
   },
   "outputs": [],
   "source": [
    "# constants\n",
    "num_mass_values = 1350\n",
    "num_time_values = 2650\n",
    "matrix_shape = (num_time_values, num_mass_values)\n"
   ]
  },
  {
   "cell_type": "code",
   "execution_count": 7,
   "id": "bf555e17",
   "metadata": {
    "execution": {
     "iopub.execute_input": "2023-07-09T20:08:09.591732Z",
     "iopub.status.busy": "2023-07-09T20:08:09.591320Z",
     "iopub.status.idle": "2023-07-09T20:08:09.600811Z",
     "shell.execute_reply": "2023-07-09T20:08:09.599645Z"
    },
    "papermill": {
     "duration": 0.021625,
     "end_time": "2023-07-09T20:08:09.603111",
     "exception": false,
     "start_time": "2023-07-09T20:08:09.581486",
     "status": "completed"
    },
    "tags": []
   },
   "outputs": [],
   "source": [
    "\n",
    "# Function to create the Time X Mass matrix for a single data sample\n",
    "def create_matrix(id ):\n",
    "    \n",
    "    sample_id, split, derivate, path, _ = metadata.iloc[id]\n",
    "#     print(path)\n",
    "    path = '/kaggle/input/mars-spec-train/'+ path\n",
    "    data = pd.read_csv(path)\n",
    "\n",
    "    label = None\n",
    "    if (split == 'train'):\n",
    "        label = train_labels.iloc[id].values[1:]\n",
    "\n",
    "    # discretization of time and mass\n",
    "    data.time = (data.time*50).round()\n",
    "    data.mass = (data.mass*2).round()\n",
    "    data.time = data.time.astype(int)\n",
    "    data.mass = data.mass.astype(int)\n",
    "    \n",
    "    # scaling intensity\n",
    "    data.intensity = MinMaxScaler().fit_transform(data.intensity.values.reshape(-1, 1))\n",
    "    \n",
    "    # filling matrix\n",
    "    matrix = np.zeros(matrix_shape)\n",
    "    matrix[data['time'],data['mass']] = data['intensity']\n",
    "\n",
    "    return matrix , label\n"
   ]
  },
  {
   "cell_type": "code",
   "execution_count": 8,
   "id": "bd98b39c",
   "metadata": {
    "execution": {
     "iopub.execute_input": "2023-07-09T20:08:09.622817Z",
     "iopub.status.busy": "2023-07-09T20:08:09.622371Z",
     "iopub.status.idle": "2023-07-09T20:08:10.255586Z",
     "shell.execute_reply": "2023-07-09T20:08:10.254427Z"
    },
    "papermill": {
     "duration": 0.646263,
     "end_time": "2023-07-09T20:08:10.258401",
     "exception": false,
     "start_time": "2023-07-09T20:08:09.612138",
     "status": "completed"
    },
    "tags": []
   },
   "outputs": [
    {
     "data": {
      "text/plain": [
       "(array([[0.00000000e+00, 0.00000000e+00, 0.00000000e+00, ...,\n",
       "         0.00000000e+00, 0.00000000e+00, 0.00000000e+00],\n",
       "        [0.00000000e+00, 0.00000000e+00, 0.00000000e+00, ...,\n",
       "         0.00000000e+00, 0.00000000e+00, 0.00000000e+00],\n",
       "        [2.28115813e-04, 0.00000000e+00, 1.34185772e-05, ...,\n",
       "         0.00000000e+00, 0.00000000e+00, 2.48980537e-05],\n",
       "        ...,\n",
       "        [1.49876976e-03, 0.00000000e+00, 5.17584774e-04, ...,\n",
       "         9.61793975e-06, 2.41224134e-05, 0.00000000e+00],\n",
       "        [1.02144071e-03, 0.00000000e+00, 3.57647744e-04, ...,\n",
       "         5.04941837e-05, 0.00000000e+00, 0.00000000e+00],\n",
       "        [8.93770321e-04, 0.00000000e+00, 4.50414324e-04, ...,\n",
       "         0.00000000e+00, 3.09480481e-05, 0.00000000e+00]]),\n",
       " array([0, 0, 0, 0, 0, 0, 0, 0, 1], dtype=object))"
      ]
     },
     "execution_count": 8,
     "metadata": {},
     "output_type": "execute_result"
    }
   ],
   "source": [
    "sample_matrix, sample_label= create_matrix(np.random.randint(809)) ## 0.2 second # max = 1120\n",
    "sample_matrix[0:100, 100:200],sample_label\n",
    "# print(sample_matrix[500:1000,np.random.randint(0,100)])"
   ]
  },
  {
   "cell_type": "markdown",
   "id": "6dbcce5c",
   "metadata": {
    "papermill": {
     "duration": 0.008875,
     "end_time": "2023-07-09T20:08:10.276470",
     "exception": false,
     "start_time": "2023-07-09T20:08:10.267595",
     "status": "completed"
    },
    "tags": []
   },
   "source": [
    "Dummy model"
   ]
  },
  {
   "cell_type": "code",
   "execution_count": 9,
   "id": "231a7962",
   "metadata": {
    "execution": {
     "iopub.execute_input": "2023-07-09T20:08:10.296173Z",
     "iopub.status.busy": "2023-07-09T20:08:10.295742Z",
     "iopub.status.idle": "2023-07-09T20:08:10.301010Z",
     "shell.execute_reply": "2023-07-09T20:08:10.299866Z"
    },
    "papermill": {
     "duration": 0.017887,
     "end_time": "2023-07-09T20:08:10.303372",
     "exception": false,
     "start_time": "2023-07-09T20:08:10.285485",
     "status": "completed"
    },
    "tags": []
   },
   "outputs": [],
   "source": [
    "training_data = range(809)  # Load your training data\n"
   ]
  },
  {
   "cell_type": "code",
   "execution_count": 10,
   "id": "0d3d951f",
   "metadata": {
    "execution": {
     "iopub.execute_input": "2023-07-09T20:08:10.323583Z",
     "iopub.status.busy": "2023-07-09T20:08:10.322637Z",
     "iopub.status.idle": "2023-07-09T20:08:10.333251Z",
     "shell.execute_reply": "2023-07-09T20:08:10.332299Z"
    },
    "papermill": {
     "duration": 0.023224,
     "end_time": "2023-07-09T20:08:10.335632",
     "exception": false,
     "start_time": "2023-07-09T20:08:10.312408",
     "status": "completed"
    },
    "tags": []
   },
   "outputs": [],
   "source": [
    "class DataGenerator(Sequence):\n",
    "    \n",
    "    def __init__(self, data, batch_size):\n",
    "        self.data = data\n",
    "        self.batch_size = batch_size\n",
    "    def __len__(self):\n",
    "        return len(self.data) // self.batch_size\n",
    "\n",
    "    def __getitem__(self, idx):        \n",
    "        \n",
    "        low = idx * self.batch_size\n",
    "        high = min(low + self.batch_size, len(self.data))\n",
    "        batch_x = []\n",
    "        batch_y = []\n",
    "\n",
    "        for i,data_sample in enumerate(self.data[low:high]):\n",
    "            processed_sample, processed_label = self.preprocess_data(data_sample)\n",
    "            batch_x.append(processed_sample)\n",
    "            batch_y.append(processed_label)\n",
    "        return np.array(batch_x), np.array(batch_y)\n",
    "\n",
    "    def preprocess_data(self, data_sample):\n",
    "        # Perform the feature extraction steps and create the matrix\n",
    "        matrix, label = create_matrix(data_sample)\n",
    "        if type(label) == np.ndarray:\n",
    "            label = np.array(label).astype(int)\n",
    "        return matrix , label\n",
    "    \n",
    "    def getLabel(self, data_sample):\n",
    "        matrix, label = create_matrix(data_sample)\n",
    "        if type(label) == np.ndarray:\n",
    "            label = np.array(label).astype(int)\n",
    "        return label\n"
   ]
  },
  {
   "cell_type": "code",
   "execution_count": 11,
   "id": "1e8da40b",
   "metadata": {
    "execution": {
     "iopub.execute_input": "2023-07-09T20:08:10.355667Z",
     "iopub.status.busy": "2023-07-09T20:08:10.354732Z",
     "iopub.status.idle": "2023-07-09T20:08:10.368192Z",
     "shell.execute_reply": "2023-07-09T20:08:10.367022Z"
    },
    "papermill": {
     "duration": 0.026238,
     "end_time": "2023-07-09T20:08:10.370822",
     "exception": false,
     "start_time": "2023-07-09T20:08:10.344584",
     "status": "completed"
    },
    "tags": []
   },
   "outputs": [
    {
     "data": {
      "text/plain": [
       "array([[0, 1, 0, 0, 0, 0, 0, 0, 0],\n",
       "       [0, 0, 1, 0, 0, 0, 0, 0, 0],\n",
       "       [0, 1, 0, 0, 0, 0, 0, 0, 0]])"
      ]
     },
     "execution_count": 11,
     "metadata": {},
     "output_type": "execute_result"
    }
   ],
   "source": [
    "train_data, val_data = train_test_split(training_data, test_size=0.2, random_state=42)\n",
    "train_labels.iloc[[3,334,534]].values[:,1:].astype(int)"
   ]
  },
  {
   "cell_type": "code",
   "execution_count": 12,
   "id": "c5b9d1ef",
   "metadata": {
    "execution": {
     "iopub.execute_input": "2023-07-09T20:08:10.392387Z",
     "iopub.status.busy": "2023-07-09T20:08:10.391324Z",
     "iopub.status.idle": "2023-07-09T20:08:10.671655Z",
     "shell.execute_reply": "2023-07-09T20:08:10.670533Z"
    },
    "papermill": {
     "duration": 0.299956,
     "end_time": "2023-07-09T20:08:10.680711",
     "exception": false,
     "start_time": "2023-07-09T20:08:10.380755",
     "status": "completed"
    },
    "tags": []
   },
   "outputs": [
    {
     "name": "stdout",
     "output_type": "stream",
     "text": [
      "Model: \"sequential\"\n",
      "_________________________________________________________________\n",
      " Layer (type)                Output Shape              Param #   \n",
      "=================================================================\n",
      " conv2d (Conv2D)             (None, 1323, 1347, 4)     84        \n",
      "                                                                 \n",
      " max_pooling2d (MaxPooling2D  (None, 32, 1347, 4)      0         \n",
      " )                                                               \n",
      "                                                                 \n",
      " flatten (Flatten)           (None, 172416)            0         \n",
      "                                                                 \n",
      " dense (Dense)               (None, 32)                5517344   \n",
      "                                                                 \n",
      " dense_1 (Dense)             (None, 9)                 297       \n",
      "                                                                 \n",
      "=================================================================\n",
      "Total params: 5,517,725\n",
      "Trainable params: 5,517,725\n",
      "Non-trainable params: 0\n",
      "_________________________________________________________________\n"
     ]
    }
   ],
   "source": [
    "from tensorflow.keras.models import Sequential\n",
    "from tensorflow.keras.layers import Conv2D, MaxPooling2D, Flatten, Dense\n",
    "\n",
    "model = Sequential()\n",
    "\n",
    "model.add(Conv2D(4, kernel_size=(5, 4),strides = (2,1), activation='relu', input_shape=(2650, 1350, 1)))\n",
    "model.add(MaxPooling2D(pool_size=(80, 1), strides=(40,1)))\n",
    "\n",
    "model.add(Flatten())\n",
    "\n",
    "model.add(Dense(32, activation='relu'))\n",
    "\n",
    "model.add(Dense(9, activation='sigmoid'))\n",
    "\n",
    "model.compile(loss='binary_crossentropy', optimizer='adam', metrics=['accuracy'])\n",
    "\n",
    "# Define the batch size and number of epochs\n",
    "batch_size = 16\n",
    "num_epochs = 32\n",
    "\n",
    "# Create instances of the custom data generator for training and validation\n",
    "train_data_generator = DataGenerator(train_data, batch_size)\n",
    "val_data_generator = DataGenerator(val_data, batch_size)\n",
    "\n",
    "model.summary()"
   ]
  },
  {
   "cell_type": "code",
   "execution_count": 13,
   "id": "ade3274f",
   "metadata": {
    "execution": {
     "iopub.execute_input": "2023-07-09T20:08:10.704394Z",
     "iopub.status.busy": "2023-07-09T20:08:10.703941Z",
     "iopub.status.idle": "2023-07-10T00:35:35.994772Z",
     "shell.execute_reply": "2023-07-10T00:35:35.987419Z"
    },
    "papermill": {
     "duration": 16045.417444,
     "end_time": "2023-07-10T00:35:36.108909",
     "exception": false,
     "start_time": "2023-07-09T20:08:10.691465",
     "status": "completed"
    },
    "tags": []
   },
   "outputs": [
    {
     "name": "stdout",
     "output_type": "stream",
     "text": [
      "Epoch 1/32\n",
      "40/40 [==============================] - 487s 12s/step - loss: 0.3338 - accuracy: 0.2734 - val_loss: 0.2358 - val_accuracy: 0.3688\n",
      "Epoch 2/32\n",
      "40/40 [==============================] - 464s 12s/step - loss: 0.2244 - accuracy: 0.4109 - val_loss: 0.2010 - val_accuracy: 0.4688\n",
      "Epoch 3/32\n",
      "40/40 [==============================] - 471s 12s/step - loss: 0.1830 - accuracy: 0.4375 - val_loss: 0.1678 - val_accuracy: 0.4313\n",
      "Epoch 4/32\n",
      "40/40 [==============================] - 479s 12s/step - loss: 0.1595 - accuracy: 0.4750 - val_loss: 0.1773 - val_accuracy: 0.4250\n",
      "Epoch 5/32\n",
      "40/40 [==============================] - 479s 12s/step - loss: 0.1452 - accuracy: 0.4797 - val_loss: 0.1587 - val_accuracy: 0.4625\n",
      "Epoch 6/32\n",
      "40/40 [==============================] - 486s 12s/step - loss: 0.1235 - accuracy: 0.4984 - val_loss: 0.1617 - val_accuracy: 0.4187\n",
      "Epoch 7/32\n",
      "40/40 [==============================] - 483s 12s/step - loss: 0.1114 - accuracy: 0.5188 - val_loss: 0.1578 - val_accuracy: 0.4187\n",
      "Epoch 8/32\n",
      "40/40 [==============================] - 481s 12s/step - loss: 0.0987 - accuracy: 0.5297 - val_loss: 0.1766 - val_accuracy: 0.4313\n",
      "Epoch 9/32\n",
      "40/40 [==============================] - 491s 12s/step - loss: 0.0963 - accuracy: 0.5234 - val_loss: 0.1579 - val_accuracy: 0.4313\n",
      "Epoch 10/32\n",
      "40/40 [==============================] - 477s 12s/step - loss: 0.0906 - accuracy: 0.5219 - val_loss: 0.1730 - val_accuracy: 0.4375\n",
      "Epoch 11/32\n",
      "40/40 [==============================] - 482s 12s/step - loss: 0.0810 - accuracy: 0.5531 - val_loss: 0.1767 - val_accuracy: 0.4625\n",
      "Epoch 12/32\n",
      "40/40 [==============================] - 450s 11s/step - loss: 0.0708 - accuracy: 0.5781 - val_loss: 0.1884 - val_accuracy: 0.4375\n",
      "Epoch 13/32\n",
      "40/40 [==============================] - 499s 12s/step - loss: 0.0641 - accuracy: 0.5531 - val_loss: 0.1849 - val_accuracy: 0.4688\n",
      "Epoch 14/32\n",
      "40/40 [==============================] - 480s 12s/step - loss: 0.0612 - accuracy: 0.5641 - val_loss: 0.1842 - val_accuracy: 0.4500\n",
      "Epoch 15/32\n",
      "40/40 [==============================] - 488s 12s/step - loss: 0.0616 - accuracy: 0.5609 - val_loss: 0.1822 - val_accuracy: 0.4563\n",
      "Epoch 16/32\n",
      "40/40 [==============================] - 555s 14s/step - loss: 0.0541 - accuracy: 0.5813 - val_loss: 0.1941 - val_accuracy: 0.4250\n",
      "Epoch 17/32\n",
      "40/40 [==============================] - 486s 12s/step - loss: 0.0494 - accuracy: 0.5594 - val_loss: 0.2006 - val_accuracy: 0.4812\n",
      "Epoch 18/32\n",
      "40/40 [==============================] - 494s 12s/step - loss: 0.0460 - accuracy: 0.5641 - val_loss: 0.2011 - val_accuracy: 0.4750\n",
      "Epoch 19/32\n",
      "40/40 [==============================] - 485s 12s/step - loss: 0.0430 - accuracy: 0.5875 - val_loss: 0.2107 - val_accuracy: 0.4625\n",
      "Epoch 20/32\n",
      "40/40 [==============================] - 490s 12s/step - loss: 0.0407 - accuracy: 0.5609 - val_loss: 0.2182 - val_accuracy: 0.4375\n",
      "Epoch 21/32\n",
      "40/40 [==============================] - 458s 11s/step - loss: 0.0400 - accuracy: 0.5719 - val_loss: 0.2240 - val_accuracy: 0.4625\n",
      "Epoch 22/32\n",
      "40/40 [==============================] - 491s 12s/step - loss: 0.0369 - accuracy: 0.5781 - val_loss: 0.2363 - val_accuracy: 0.4688\n",
      "Epoch 23/32\n",
      "40/40 [==============================] - 475s 12s/step - loss: 0.0338 - accuracy: 0.5594 - val_loss: 0.2377 - val_accuracy: 0.4563\n",
      "Epoch 24/32\n",
      "40/40 [==============================] - 481s 12s/step - loss: 0.0305 - accuracy: 0.5969 - val_loss: 0.2441 - val_accuracy: 0.4437\n",
      "Epoch 25/32\n",
      "40/40 [==============================] - 488s 12s/step - loss: 0.0311 - accuracy: 0.5578 - val_loss: 0.2429 - val_accuracy: 0.4250\n",
      "Epoch 26/32\n",
      "40/40 [==============================] - 470s 12s/step - loss: 0.0309 - accuracy: 0.5656 - val_loss: 0.2592 - val_accuracy: 0.4375\n",
      "Epoch 27/32\n",
      "40/40 [==============================] - 483s 12s/step - loss: 0.0278 - accuracy: 0.5891 - val_loss: 0.2718 - val_accuracy: 0.4500\n",
      "Epoch 28/32\n",
      "40/40 [==============================] - 494s 12s/step - loss: 0.0286 - accuracy: 0.5797 - val_loss: 0.2535 - val_accuracy: 0.4437\n",
      "Epoch 29/32\n",
      "40/40 [==============================] - 477s 12s/step - loss: 0.0276 - accuracy: 0.5891 - val_loss: 0.2667 - val_accuracy: 0.4437\n",
      "Epoch 30/32\n",
      "40/40 [==============================] - 532s 13s/step - loss: 0.0257 - accuracy: 0.5859 - val_loss: 0.2669 - val_accuracy: 0.4313\n",
      "Epoch 31/32\n",
      "40/40 [==============================] - 475s 12s/step - loss: 0.0243 - accuracy: 0.5828 - val_loss: 0.2657 - val_accuracy: 0.4375\n",
      "Epoch 32/32\n",
      "40/40 [==============================] - 479s 12s/step - loss: 0.0244 - accuracy: 0.5781 - val_loss: 0.2869 - val_accuracy: 0.4062\n"
     ]
    }
   ],
   "source": [
    "from tensorflow.keras.callbacks import EarlyStopping\n",
    "es = EarlyStopping(monitor = 'loss', patience = 3 )\n",
    "\n",
    "history = model.fit(train_data_generator, epochs=num_epochs, validation_data=val_data_generator, callbacks=[es])"
   ]
  },
  {
   "cell_type": "code",
   "execution_count": 14,
   "id": "f9470fb0",
   "metadata": {
    "execution": {
     "iopub.execute_input": "2023-07-10T00:35:36.388368Z",
     "iopub.status.busy": "2023-07-10T00:35:36.387050Z",
     "iopub.status.idle": "2023-07-10T00:35:36.679938Z",
     "shell.execute_reply": "2023-07-10T00:35:36.678678Z"
    },
    "papermill": {
     "duration": 0.44038,
     "end_time": "2023-07-10T00:35:36.682904",
     "exception": false,
     "start_time": "2023-07-10T00:35:36.242524",
     "status": "completed"
    },
    "tags": []
   },
   "outputs": [],
   "source": [
    "# model = ...  # Get model (Sequential, Functional Model, or Model subclass)\n",
    "model.save('model.keras')\n",
    "# metadata.to_csv(\"opopo\")"
   ]
  },
  {
   "cell_type": "code",
   "execution_count": 15,
   "id": "74e2623c",
   "metadata": {
    "execution": {
     "iopub.execute_input": "2023-07-10T00:35:36.950987Z",
     "iopub.status.busy": "2023-07-10T00:35:36.950188Z",
     "iopub.status.idle": "2023-07-10T00:42:29.176489Z",
     "shell.execute_reply": "2023-07-10T00:42:29.175214Z"
    },
    "papermill": {
     "duration": 412.365864,
     "end_time": "2023-07-10T00:42:29.181273",
     "exception": false,
     "start_time": "2023-07-10T00:35:36.815409",
     "status": "completed"
    },
    "tags": []
   },
   "outputs": [
    {
     "name": "stdout",
     "output_type": "stream",
     "text": [
      "0\n",
      "100\n",
      "200\n",
      "300\n",
      "400\n",
      "500\n",
      "600\n"
     ]
    }
   ],
   "source": [
    "train_loss = 0\n",
    "train_lab = []\n",
    "train_pred = []\n",
    "from sklearn.metrics import log_loss\n",
    "for i,data in enumerate(train_data):\n",
    "    mat , lab = create_matrix(data)\n",
    "    lab = np.array(lab).astype(int).reshape(1,9)\n",
    "    pred = model.predict(mat.reshape(-1,2650,1350,1), verbose = 0)\n",
    "    train_lab.append(lab)\n",
    "    train_pred.append(pred)\n",
    "    if (i%100 == 0):\n",
    "        print (i)"
   ]
  },
  {
   "cell_type": "code",
   "execution_count": 16,
   "id": "0c9978eb",
   "metadata": {
    "execution": {
     "iopub.execute_input": "2023-07-10T00:42:29.456792Z",
     "iopub.status.busy": "2023-07-10T00:42:29.455134Z",
     "iopub.status.idle": "2023-07-10T00:42:29.496572Z",
     "shell.execute_reply": "2023-07-10T00:42:29.495242Z"
    },
    "papermill": {
     "duration": 0.181004,
     "end_time": "2023-07-10T00:42:29.498928",
     "exception": false,
     "start_time": "2023-07-10T00:42:29.317924",
     "status": "completed"
    },
    "tags": []
   },
   "outputs": [
    {
     "name": "stdout",
     "output_type": "stream",
     "text": [
      "train log loss : 0.7121031101423271\n"
     ]
    }
   ],
   "source": [
    "\n",
    "train_lab = np.array(train_lab).reshape(-1,9)\n",
    "train_pred = np.array(train_pred).reshape(-1,9)\n",
    "print(f\"train log loss : {log_loss(train_lab, train_pred)}\")"
   ]
  },
  {
   "cell_type": "code",
   "execution_count": 17,
   "id": "760b776c",
   "metadata": {
    "execution": {
     "iopub.execute_input": "2023-07-10T00:42:29.768039Z",
     "iopub.status.busy": "2023-07-10T00:42:29.767571Z",
     "iopub.status.idle": "2023-07-10T00:44:04.475329Z",
     "shell.execute_reply": "2023-07-10T00:44:04.474251Z"
    },
    "papermill": {
     "duration": 94.845541,
     "end_time": "2023-07-10T00:44:04.478310",
     "exception": false,
     "start_time": "2023-07-10T00:42:29.632769",
     "status": "completed"
    },
    "tags": []
   },
   "outputs": [
    {
     "name": "stdout",
     "output_type": "stream",
     "text": [
      "0\n",
      "100\n"
     ]
    }
   ],
   "source": [
    "val_loss = 0\n",
    "val_lab = []\n",
    "val_pred = []\n",
    "from sklearn.metrics import log_loss\n",
    "for i,data in enumerate(val_data):\n",
    "    mat , lab = create_matrix(data)\n",
    "    lab = np.array(lab).astype(int).reshape(1,9)\n",
    "    pred = model.predict(mat.reshape(-1,2650,1350,1), verbose = 0)\n",
    "    val_lab.append(lab)\n",
    "    val_pred.append(pred)\n",
    "    if (i%100 == 0):\n",
    "        print (i)"
   ]
  },
  {
   "cell_type": "code",
   "execution_count": 18,
   "id": "bd5767b4",
   "metadata": {
    "execution": {
     "iopub.execute_input": "2023-07-10T00:44:04.754896Z",
     "iopub.status.busy": "2023-07-10T00:44:04.754449Z",
     "iopub.status.idle": "2023-07-10T00:44:04.765593Z",
     "shell.execute_reply": "2023-07-10T00:44:04.764206Z"
    },
    "papermill": {
     "duration": 0.15544,
     "end_time": "2023-07-10T00:44:04.768328",
     "exception": false,
     "start_time": "2023-07-10T00:44:04.612888",
     "status": "completed"
    },
    "tags": []
   },
   "outputs": [
    {
     "name": "stdout",
     "output_type": "stream",
     "text": [
      "train log loss : 1.4207300708407342\n"
     ]
    }
   ],
   "source": [
    "val_lab = np.array(val_lab).reshape(-1,9)\n",
    "val_pred = np.array(val_pred).reshape(-1,9)\n",
    "print(f\"train log loss : {log_loss(val_lab, val_pred)}\")"
   ]
  },
  {
   "cell_type": "code",
   "execution_count": 19,
   "id": "75212224",
   "metadata": {
    "execution": {
     "iopub.execute_input": "2023-07-10T00:44:05.037891Z",
     "iopub.status.busy": "2023-07-10T00:44:05.037452Z",
     "iopub.status.idle": "2023-07-10T00:44:05.046777Z",
     "shell.execute_reply": "2023-07-10T00:44:05.045470Z"
    },
    "papermill": {
     "duration": 0.148395,
     "end_time": "2023-07-10T00:44:05.051002",
     "exception": false,
     "start_time": "2023-07-10T00:44:04.902607",
     "status": "completed"
    },
    "tags": []
   },
   "outputs": [
    {
     "name": "stdout",
     "output_type": "stream",
     "text": [
      "valid log loss : 1.4207300708407342\n"
     ]
    }
   ],
   "source": [
    "print(f\"valid log loss : {log_loss(val_lab, val_pred).mean()}\")"
   ]
  },
  {
   "cell_type": "markdown",
   "id": "618de83a",
   "metadata": {
    "papermill": {
     "duration": 0.134109,
     "end_time": "2023-07-10T00:44:05.319218",
     "exception": false,
     "start_time": "2023-07-10T00:44:05.185109",
     "status": "completed"
    },
    "tags": []
   },
   "source": [
    "train log loss : 1.0316461173431106 \\\n",
    "valid log loss : 1.0560311513842007 \\\n",
    "sample predictions below"
   ]
  },
  {
   "cell_type": "code",
   "execution_count": 20,
   "id": "c6881b02",
   "metadata": {
    "execution": {
     "iopub.execute_input": "2023-07-10T00:44:05.590801Z",
     "iopub.status.busy": "2023-07-10T00:44:05.590369Z",
     "iopub.status.idle": "2023-07-10T00:44:11.549694Z",
     "shell.execute_reply": "2023-07-10T00:44:11.547814Z"
    },
    "papermill": {
     "duration": 6.098299,
     "end_time": "2023-07-10T00:44:11.552493",
     "exception": false,
     "start_time": "2023-07-10T00:44:05.454194",
     "status": "completed"
    },
    "tags": []
   },
   "outputs": [
    {
     "name": "stdout",
     "output_type": "stream",
     "text": [
      "1th prediction\n",
      "prediction :  [0 1 0 0 0 0 0 0 0]\n",
      "true label :  [0 1 0 0 0 0 0 0 0]\n",
      "2th prediction\n",
      "prediction :  [0 0 1 1 0 1 1 0 0]\n",
      "true label :  [0 0 1 1 0 0 0 0 0]\n",
      "3th prediction\n",
      "prediction :  [0 0 0 0 0 0 0 0 0]\n",
      "true label :  [0 0 0 0 0 0 0 0 0]\n",
      "4th prediction\n",
      "prediction :  [0 0 0 1 0 1 1 0 0]\n",
      "true label :  [0 0 1 0 0 0 0 0 0]\n",
      "5th prediction\n",
      "prediction :  [1 0 1 0 0 0 0 0 1]\n",
      "true label :  [1 0 1 0 0 0 0 0 1]\n",
      "6th prediction\n",
      "prediction :  [0 0 0 0 0 0 0 0 0]\n",
      "true label :  [0 0 0 0 0 0 0 0 0]\n",
      "7th prediction\n",
      "prediction :  [0 0 1 1 0 1 1 0 0]\n",
      "true label :  [0 0 1 1 0 1 1 0 0]\n",
      "8th prediction\n",
      "prediction :  [0 1 0 0 0 0 0 0 0]\n",
      "true label :  [0 1 0 0 0 0 0 0 0]\n",
      "9th prediction\n",
      "prediction :  [0 0 1 0 0 0 0 0 0]\n",
      "true label :  [0 0 1 0 0 0 0 0 0]\n",
      "10th prediction\n",
      "prediction :  [0 1 0 0 0 0 0 0 0]\n",
      "true label :  [0 1 0 0 0 0 0 0 0]\n"
     ]
    }
   ],
   "source": [
    "for i in range (10):\n",
    "    sample_matrix, sample_label= create_matrix(np.random.randint(809)) ## 0.2 second # max = 1120\n",
    "    print (f\"{i+1}th prediction\")\n",
    "    print(\"prediction : \",(model.predict(sample_matrix.reshape(-1, 2650,1350,1),verbose = 0).round().astype(int)).squeeze())\n",
    "    print(\"true label : \",np.array(sample_label))"
   ]
  }
 ],
 "metadata": {
  "kernelspec": {
   "display_name": "Python 3",
   "language": "python",
   "name": "python3"
  },
  "language_info": {
   "codemirror_mode": {
    "name": "ipython",
    "version": 3
   },
   "file_extension": ".py",
   "mimetype": "text/x-python",
   "name": "python",
   "nbconvert_exporter": "python",
   "pygments_lexer": "ipython3",
   "version": "3.10.10"
  },
  "papermill": {
   "default_parameters": {},
   "duration": 16590.301409,
   "end_time": "2023-07-10T00:44:15.669799",
   "environment_variables": {},
   "exception": null,
   "input_path": "__notebook__.ipynb",
   "output_path": "__notebook__.ipynb",
   "parameters": {},
   "start_time": "2023-07-09T20:07:45.368390",
   "version": "2.4.0"
  }
 },
 "nbformat": 4,
 "nbformat_minor": 5
}
